{
 "cells": [
  {
   "cell_type": "code",
   "execution_count": 1,
   "id": "39ffcd28-2f90-425b-8be2-d995e87f0fba",
   "metadata": {},
   "outputs": [],
   "source": [
    "from getpass import getpass               # for login password prompts\n",
    "\n",
    "import time\n",
    "import numpy as np                        # for manipulating arrays\n",
    "import pandas as pd\n",
    "import json                               # to pretty-print dicts\n",
    "\n",
    "from astropy import units as u            # astropy utilities\n",
    "from astropy.coordinates import SkyCoord\n",
    "from astropy.table import Table\n",
    "\n",
    "from matplotlib import pyplot as plt      # visualization libs\n",
    "from IPython.display import display\n",
    "from dl.helpers.utils import convert\n",
    "%matplotlib inline\n",
    "\n",
    "# Data Lab imports\n",
    "from dl import storeClient as sc          # needed to use virtual storage\n",
    "from dl import queryClient as qc          # needed to query Data Lab catalogs\n",
    "from dl import authClient as ac           # needed for login authentication\n",
    "\n",
    "from sklearn.ensemble import RandomForestClassifier\n",
    "from sklearn.model_selection import train_test_split, RandomizedSearchCV, KFold, GridSearchCV\n",
    "from sklearn.metrics import accuracy_score, classification_report, f1_score\n",
    "from sklearn.feature_selection import SelectPercentile, chi2\n",
    "from sklearn.pipeline import Pipeline\n",
    "from sklearn.preprocessing import StandardScaler\n",
    "from sklearn import svm"
   ]
  },
  {
   "cell_type": "code",
   "execution_count": 2,
   "id": "8bb0823e-5ff7-42ba-9726-60878ccfb630",
   "metadata": {},
   "outputs": [
    {
     "name": "stdin",
     "output_type": "stream",
     "text": [
      "Enter user name:  jlmaurora\n",
      "Enter password:  ···········\n"
     ]
    }
   ],
   "source": [
    "token = ac.login(input(\"Enter user name: \"), getpass(\"Enter password: \"))"
   ]
  },
  {
   "cell_type": "code",
   "execution_count": 3,
   "id": "e36b5495-86b2-4504-acc9-e1281ab92794",
   "metadata": {},
   "outputs": [],
   "source": [
    "# pip install --ignore-installed --no-cache-dir noaodatalab"
   ]
  },
  {
   "cell_type": "code",
   "execution_count": 4,
   "id": "26368c7e-2e55-4d3c-984c-2095f8d62048",
   "metadata": {},
   "outputs": [],
   "source": [
    "#sc.put('BD_LS_SDSS_WISE.csv','vos://training_data')\n",
    "#sc.put('highzQSO_LS_SDSS_WISE.csv','vos://training_data')"
   ]
  },
  {
   "cell_type": "code",
   "execution_count": 5,
   "id": "62fc0fae-59d2-4e57-bd4b-777a2d49440f",
   "metadata": {},
   "outputs": [],
   "source": [
    "# paste the training process here, if not flux, use magnitude"
   ]
  },
  {
   "cell_type": "markdown",
   "id": "337f86c3-469d-4e18-8ec4-d52319abadbc",
   "metadata": {},
   "source": [
    "# Get Training Data"
   ]
  },
  {
   "cell_type": "code",
   "execution_count": 3,
   "id": "2f9ab734-50b2-4a4b-aa63-c5ca1aa4957c",
   "metadata": {
    "collapsed": true,
    "jupyter": {
     "outputs_hidden": true
    },
    "tags": []
   },
   "outputs": [
    {
     "name": "stdout",
     "output_type": "stream",
     "text": [
      "1.5854,-17.3475,inf,inf,18.213,184.33599999999998,16.1442,16.4723,0.0,0.0,51.856,348.597,257.67900000000003,0.5966666280866719,,,,,,,,,,,,,,,,\n",
      "\n",
      "2.2073,-17.6564,inf,inf,20.5169,24.4666,19.2606,18.2263,0.0,0.0,6.21234,19.7585,51.223,2.41423328734635,,,,,,,,,,,,,,,,\n",
      "\n",
      "3.4953,-18.2797,inf,inf,19.3178,100.979,17.2554,17.4796,0.0,0.0,18.7449,125.271,101.9,2.68909302054212,,,,,,,,,,,,,,,,\n",
      "\n",
      "7.231,-19.4546,inf,inf,16.4873,838.5930000000001,15.1985,15.581,0.0,0.0,254.15200000000002,832.95,585.599,1.8297062716930699,,,,,,,,,,,,,,,,\n",
      "\n",
      "21.191999999999997,-57.7604,26.2514,inf,18.7086,150.981,16.4744,16.7199,0.031581,0.0,32.8519,257.17900000000003,205.13299999999998,0.10161605395849099,,,,,,,,,,,,,,,,\n",
      "\n",
      "25.4926,-46.5659,inf,inf,17.459,576.332,15.2635,15.5084,0.0,0.0,103.845,784.533,626.092,2.0752016148202,,,,,,,,,,,,,,,,\n",
      "\n",
      "26.5048,-45.7573,inf,inf,16.6083,711.357,15.4394,15.8325,0.0,0.0,227.345,667.192,464.50300000000004,2.86808595464195,,,,,,,,,,,,,,,,\n",
      "\n",
      "48.4352,4.5546,inf,inf,15.4486,1164.91,15.054,15.4727,0.0,0.0,661.5219999999999,951.5039999999999,647.001,1.06055444653474,,,,,,,,,,,,,,,,\n",
      "\n",
      "61.1813,-64.3417,24.1514,inf,22.7318,5.9778199999999995,20.779,19.0021,0.218487,0.0,0.807754,4.87991,25.0696,1.3928755964561599,,,,,,,,,,,,,,,,\n",
      "\n",
      "86.8212,-51.0665,5.78833,inf,inf,0.0,7.94839,7.56589,4838020.0,0.0,0.0,661672.0,941120.0,1.2693725513708702,,,,,,,,,,,,,,,,\n",
      "\n",
      "92.0097,-29.7497,22.1417,20.0264,inf,0.0,15.1089,15.4922,1.3910200000000001,9.75934,0.0,904.561,635.5219999999999,1.56649603571381,,,,,,,,,,,,,,,,\n",
      "\n",
      "94.8977,-52.8269,inf,19.7951,15.7175,1406.32,14.827,15.1846,0.0,12.0768,516.435,1172.7,843.6669999999999,3.40077466936347,,,,,,,,,,,,,,,,\n",
      "\n",
      "98.1001,-50.1764,inf,21.5093,17.6508,182.267,15.2835,15.4888,0.0,2.49036,87.0285,770.2,637.504,1.45068116711878,,,,,,,,,,,,,,,,\n",
      "\n",
      "105.15299999999999,31.9571,inf,inf,18.5933,64.815,16.7938,16.6475,0.0,0.0,36.5326,191.635,219.28400000000002,2.19341398478726,,,,,,,,,,,,,,,,\n",
      "\n",
      "107.089,29.843000000000004,inf,inf,19.3402,84.4028,16.8987,17.2246,0.0,0.0,18.362000000000002,173.983,128.876,3.2216794788339196,,,,,,,,,,,,,,,,\n",
      "\n",
      "220.4049,-9.7664,22.9207,20.1127,inf,0.0,15.0425,15.4343,0.678767,9.01435,0.0,961.653,670.306,3.57552933292736,,,,,,,,,,,,,,,,\n",
      "\n",
      "273.0451,27.3623,inf,,21.7681,12.8908,19.6633,17.3463,0.0,-0.054711,1.9623599999999999,13.6357,115.20700000000001,2.5511624679837097,,,,,,,,,,,,,,,,\n",
      "\n",
      "307.0848,0.8740000000000001,18.3074,inf,16.6613,902.867,14.9575,15.3242,47.5397,0.0,216.52,1039.89,741.83,1.4410965693133402,,,,,,,,,,,,,,,,\n",
      "\n",
      "308.9834,-9.7313,inf,inf,20.2559,49.887,18.3292,18.8323,0.0,0.0,7.900110000000001,46.5936,29.3143,0.27496431167174396,,,,,,,,,,,,,,,,\n",
      "\n",
      "309.0132,10.8582,inf,inf,16.3667,847.924,14.5812,14.9154,0.0,0.0,283.99,1470.72,1081.06,3.3758252846795296,,,,,,,,,,,,,,,,\n",
      "\n",
      "327.5552,-66.1768,inf,inf,15.9628,859.64,14.9803,15.3233,0.0,0.0,411.97,1018.26,742.4730000000001,1.38615128765621,,,,,,,,,,,,,,,,\n",
      "\n",
      "329.4544,-55.5783,22.8689,20.3751,inf,0.0,15.3729,15.751,0.7119439999999999,7.079,0.0,709.313,500.725,0.81053434634794,,,,,,,,,,,,,,,,\n",
      "\n",
      "329.5193,-15.8363,inf,inf,17.6218,351.89099999999996,15.2774,15.5867,0.0,0.0,89.3919,774.5260000000001,582.519,0.18435508891597,,,,,,,,,,,,,,,,\n",
      "\n",
      "338.8191,-38.7376,inf,21.6443,17.8611,414.978,15.737,15.9975,0.0,2.1993099999999997,71.7097,507.226,399.035,1.6769528961890803,,,,,,,,,,,,,,,,\n",
      "\n",
      "355.895,-36.7676,inf,23.2801,19.398,100.87200000000001,15.7407,15.8475,0.0,0.487497,17.4094,505.517,458.139,1.03546730298445,,,,,,,,,,,,,,,,\n",
      "\n",
      "106.6099125,29.351516666666697,6.60370016098022,Infinity,Infinity,20.0559,45.9528,19.0499,18.9093,0.0,0.0,9.497819999999999,23.9914,27.308000000000003,0.132288289864469,,,,,,,,,,,\n",
      "\n"
     ]
    }
   ],
   "source": [
    "# remove inf\n",
    "\n",
    "content_BD_LS_SDSS_WISE = []\n",
    "\n",
    "with open('BD_LS_SDSS_WISE.csv', 'r') as fr:\n",
    "    for line in fr:\n",
    "        if 'inf' in line.lower():\n",
    "            print(line)\n",
    "        else:\n",
    "            content_BD_LS_SDSS_WISE.append(line)\n",
    "\n",
    "with open('BD_LS_SDSS_WISE.processed.csv', 'w') as fw:\n",
    "    for line in content_BD_LS_SDSS_WISE:\n",
    "        fw.write(line)\n",
    "        \n",
    "content_highzQSO_LS_SDSS_WISE = []\n",
    "\n",
    "with open('highzQSO_LS_SDSS_WISE.csv', 'r') as fr:\n",
    "    for line in fr:\n",
    "        if 'inf' in line.lower():\n",
    "            print(line)\n",
    "        else:\n",
    "            content_highzQSO_LS_SDSS_WISE.append(line)\n",
    "\n",
    "with open('highzQSO_LS_SDSS_WISE.processed.csv', 'w') as fw:\n",
    "    for line in content_highzQSO_LS_SDSS_WISE:\n",
    "        fw.write(line)"
   ]
  },
  {
   "cell_type": "markdown",
   "id": "cc6dcfcc-e166-498c-8e51-3569ce98683f",
   "metadata": {},
   "source": [
    "## replace values"
   ]
  },
  {
   "cell_type": "code",
   "execution_count": 4,
   "id": "98e34488-7e9d-41c8-9667-aa8373284a27",
   "metadata": {},
   "outputs": [],
   "source": [
    "# the training data for flux\n",
    "cols=['ls_flux_g', 'ls_flux_r', 'ls_flux_z', 'flux_w1', 'flux_w2'] # high_z and brown dwarf files' column names \n",
    "high_z = pd.read_csv('highzQSO_LS_SDSS_WISE.processed.csv', index_col=False, usecols=cols, dtype='float64')\n",
    "BD = pd.read_csv('BD_LS_SDSS_WISE.processed.csv', index_col=False, usecols=cols, dtype='float64')"
   ]
  },
  {
   "cell_type": "code",
   "execution_count": 5,
   "id": "f068913d-e882-4366-9c4b-d72225401796",
   "metadata": {},
   "outputs": [
    {
     "name": "stdout",
     "output_type": "stream",
     "text": [
      "high-z data description\n"
     ]
    },
    {
     "data": {
      "text/html": [
       "<div>\n",
       "<style scoped>\n",
       "    .dataframe tbody tr th:only-of-type {\n",
       "        vertical-align: middle;\n",
       "    }\n",
       "\n",
       "    .dataframe tbody tr th {\n",
       "        vertical-align: top;\n",
       "    }\n",
       "\n",
       "    .dataframe thead th {\n",
       "        text-align: right;\n",
       "    }\n",
       "</style>\n",
       "<table border=\"1\" class=\"dataframe\">\n",
       "  <thead>\n",
       "    <tr style=\"text-align: right;\">\n",
       "      <th></th>\n",
       "      <th>ls_flux_g</th>\n",
       "      <th>ls_flux_r</th>\n",
       "      <th>ls_flux_z</th>\n",
       "      <th>flux_w1</th>\n",
       "      <th>flux_w2</th>\n",
       "    </tr>\n",
       "  </thead>\n",
       "  <tbody>\n",
       "    <tr>\n",
       "      <th>count</th>\n",
       "      <td>405.000000</td>\n",
       "      <td>405.000000</td>\n",
       "      <td>405.000000</td>\n",
       "      <td>405.000000</td>\n",
       "      <td>405.000000</td>\n",
       "    </tr>\n",
       "    <tr>\n",
       "      <th>mean</th>\n",
       "      <td>0.013066</td>\n",
       "      <td>1.031373</td>\n",
       "      <td>9.242325</td>\n",
       "      <td>15.961031</td>\n",
       "      <td>17.962643</td>\n",
       "    </tr>\n",
       "    <tr>\n",
       "      <th>std</th>\n",
       "      <td>0.081456</td>\n",
       "      <td>1.637223</td>\n",
       "      <td>9.435377</td>\n",
       "      <td>17.436935</td>\n",
       "      <td>20.401103</td>\n",
       "    </tr>\n",
       "    <tr>\n",
       "      <th>min</th>\n",
       "      <td>-0.105683</td>\n",
       "      <td>-0.133399</td>\n",
       "      <td>0.228144</td>\n",
       "      <td>-2.435520</td>\n",
       "      <td>-9.572200</td>\n",
       "    </tr>\n",
       "    <tr>\n",
       "      <th>25%</th>\n",
       "      <td>-0.026294</td>\n",
       "      <td>0.031895</td>\n",
       "      <td>2.593560</td>\n",
       "      <td>5.438830</td>\n",
       "      <td>5.727600</td>\n",
       "    </tr>\n",
       "    <tr>\n",
       "      <th>50%</th>\n",
       "      <td>-0.003686</td>\n",
       "      <td>0.270796</td>\n",
       "      <td>6.648010</td>\n",
       "      <td>11.965900</td>\n",
       "      <td>12.911400</td>\n",
       "    </tr>\n",
       "    <tr>\n",
       "      <th>75%</th>\n",
       "      <td>0.032757</td>\n",
       "      <td>1.512780</td>\n",
       "      <td>12.925300</td>\n",
       "      <td>21.806600</td>\n",
       "      <td>24.446000</td>\n",
       "    </tr>\n",
       "    <tr>\n",
       "      <th>max</th>\n",
       "      <td>0.976930</td>\n",
       "      <td>12.915400</td>\n",
       "      <td>65.917500</td>\n",
       "      <td>142.597000</td>\n",
       "      <td>169.357000</td>\n",
       "    </tr>\n",
       "  </tbody>\n",
       "</table>\n",
       "</div>"
      ],
      "text/plain": [
       "        ls_flux_g   ls_flux_r   ls_flux_z     flux_w1     flux_w2\n",
       "count  405.000000  405.000000  405.000000  405.000000  405.000000\n",
       "mean     0.013066    1.031373    9.242325   15.961031   17.962643\n",
       "std      0.081456    1.637223    9.435377   17.436935   20.401103\n",
       "min     -0.105683   -0.133399    0.228144   -2.435520   -9.572200\n",
       "25%     -0.026294    0.031895    2.593560    5.438830    5.727600\n",
       "50%     -0.003686    0.270796    6.648010   11.965900   12.911400\n",
       "75%      0.032757    1.512780   12.925300   21.806600   24.446000\n",
       "max      0.976930   12.915400   65.917500  142.597000  169.357000"
      ]
     },
     "execution_count": 5,
     "metadata": {},
     "output_type": "execute_result"
    }
   ],
   "source": [
    "print('high-z data description')\n",
    "high_z.describe()"
   ]
  },
  {
   "cell_type": "code",
   "execution_count": 6,
   "id": "dd69900e-c456-48a9-ae80-608338d69aa0",
   "metadata": {},
   "outputs": [
    {
     "name": "stdout",
     "output_type": "stream",
     "text": [
      "BD data description\n"
     ]
    },
    {
     "data": {
      "text/html": [
       "<div>\n",
       "<style scoped>\n",
       "    .dataframe tbody tr th:only-of-type {\n",
       "        vertical-align: middle;\n",
       "    }\n",
       "\n",
       "    .dataframe tbody tr th {\n",
       "        vertical-align: top;\n",
       "    }\n",
       "\n",
       "    .dataframe thead th {\n",
       "        text-align: right;\n",
       "    }\n",
       "</style>\n",
       "<table border=\"1\" class=\"dataframe\">\n",
       "  <thead>\n",
       "    <tr style=\"text-align: right;\">\n",
       "      <th></th>\n",
       "      <th>ls_flux_g</th>\n",
       "      <th>ls_flux_r</th>\n",
       "      <th>ls_flux_z</th>\n",
       "      <th>flux_w1</th>\n",
       "      <th>flux_w2</th>\n",
       "    </tr>\n",
       "  </thead>\n",
       "  <tbody>\n",
       "    <tr>\n",
       "      <th>count</th>\n",
       "      <td>1579.000000</td>\n",
       "      <td>1.579000e+03</td>\n",
       "      <td>1579.000000</td>\n",
       "      <td>1579.000000</td>\n",
       "      <td>1579.000000</td>\n",
       "    </tr>\n",
       "    <tr>\n",
       "      <th>mean</th>\n",
       "      <td>1299.707250</td>\n",
       "      <td>-2.253111e+05</td>\n",
       "      <td>401.005719</td>\n",
       "      <td>2842.579878</td>\n",
       "      <td>2239.992070</td>\n",
       "    </tr>\n",
       "    <tr>\n",
       "      <th>std</th>\n",
       "      <td>24751.348495</td>\n",
       "      <td>9.052413e+06</td>\n",
       "      <td>3405.740783</td>\n",
       "      <td>33466.889153</td>\n",
       "      <td>25811.745018</td>\n",
       "    </tr>\n",
       "    <tr>\n",
       "      <th>min</th>\n",
       "      <td>-14015.800000</td>\n",
       "      <td>-3.597050e+08</td>\n",
       "      <td>-7377.860000</td>\n",
       "      <td>-578.113000</td>\n",
       "      <td>-1901.980000</td>\n",
       "    </tr>\n",
       "    <tr>\n",
       "      <th>25%</th>\n",
       "      <td>0.003995</td>\n",
       "      <td>1.940780e-01</td>\n",
       "      <td>5.902800</td>\n",
       "      <td>25.429400</td>\n",
       "      <td>30.553900</td>\n",
       "    </tr>\n",
       "    <tr>\n",
       "      <th>50%</th>\n",
       "      <td>0.073383</td>\n",
       "      <td>7.391000e-01</td>\n",
       "      <td>30.223600</td>\n",
       "      <td>110.356000</td>\n",
       "      <td>83.378400</td>\n",
       "    </tr>\n",
       "    <tr>\n",
       "      <th>75%</th>\n",
       "      <td>0.231415</td>\n",
       "      <td>2.022705e+00</td>\n",
       "      <td>72.325850</td>\n",
       "      <td>304.115500</td>\n",
       "      <td>226.580500</td>\n",
       "    </tr>\n",
       "    <tr>\n",
       "      <th>max</th>\n",
       "      <td>491775.000000</td>\n",
       "      <td>9.421120e+05</td>\n",
       "      <td>54810.000000</td>\n",
       "      <td>903581.000000</td>\n",
       "      <td>638079.000000</td>\n",
       "    </tr>\n",
       "  </tbody>\n",
       "</table>\n",
       "</div>"
      ],
      "text/plain": [
       "           ls_flux_g     ls_flux_r     ls_flux_z        flux_w1        flux_w2\n",
       "count    1579.000000  1.579000e+03   1579.000000    1579.000000    1579.000000\n",
       "mean     1299.707250 -2.253111e+05    401.005719    2842.579878    2239.992070\n",
       "std     24751.348495  9.052413e+06   3405.740783   33466.889153   25811.745018\n",
       "min    -14015.800000 -3.597050e+08  -7377.860000    -578.113000   -1901.980000\n",
       "25%         0.003995  1.940780e-01      5.902800      25.429400      30.553900\n",
       "50%         0.073383  7.391000e-01     30.223600     110.356000      83.378400\n",
       "75%         0.231415  2.022705e+00     72.325850     304.115500     226.580500\n",
       "max    491775.000000  9.421120e+05  54810.000000  903581.000000  638079.000000"
      ]
     },
     "execution_count": 6,
     "metadata": {},
     "output_type": "execute_result"
    }
   ],
   "source": [
    "print('BD data description')\n",
    "BD.describe()"
   ]
  },
  {
   "cell_type": "markdown",
   "id": "14f63858-894e-4458-a228-315a9365c5dd",
   "metadata": {},
   "source": [
    "### try replacing with mean"
   ]
  },
  {
   "cell_type": "code",
   "execution_count": 7,
   "id": "8b0032cf-71f6-46a6-aeea-ce8d0b429613",
   "metadata": {},
   "outputs": [],
   "source": [
    "high_z_replace = {}\n",
    "BD_replace = {}\n",
    "for col in cols:\n",
    "    high_z[col] = high_z[col].replace([np.nan, np.inf, -np.inf], high_z[col].mean())\n",
    "    BD[col] = BD[col].replace([np.nan, np.inf, -np.inf], BD[col].mean())\n",
    "    high_z_replace[col] = high_z[col].mean()\n",
    "    BD_replace[col] = BD[col].mean()"
   ]
  },
  {
   "cell_type": "markdown",
   "id": "8d723dc7-51a2-405e-b63a-c46ea233a7a9",
   "metadata": {},
   "source": [
    "The replacement values are:"
   ]
  },
  {
   "cell_type": "code",
   "execution_count": 8,
   "id": "069c2ad8-e0b2-45a4-a863-15e38fd0616e",
   "metadata": {},
   "outputs": [
    {
     "name": "stdout",
     "output_type": "stream",
     "text": [
      "high_z_replace:  {'ls_flux_g': 0.01306635061728395, 'ls_flux_r': 1.031372686419753, 'ls_flux_z': 9.242325328395061, 'flux_w1': 15.96103134074074, 'flux_w2': 17.962642698765432}\n",
      "BD_replace:  {'ls_flux_g': 1299.7072500519319, 'ls_flux_r': -225311.10073351557, 'ls_flux_z': 401.005719207093, 'flux_w1': 2842.5798775009503, 'flux_w2': 2239.9920703837874}\n"
     ]
    }
   ],
   "source": [
    "print('high_z_replace: ', high_z_replace)\n",
    "print('BD_replace: ', BD_replace)"
   ]
  },
  {
   "cell_type": "markdown",
   "id": "96f46dd2-76f8-4b45-a8d6-8d8e4a34c69c",
   "metadata": {},
   "source": [
    "The brown dwarf's flux???"
   ]
  },
  {
   "cell_type": "code",
   "execution_count": 9,
   "id": "a4169255-38d5-4f88-8f18-b86de5024ea3",
   "metadata": {},
   "outputs": [],
   "source": [
    "# get the training data flux\n",
    "# get color labels\n",
    "g = cols[0]\n",
    "r = cols[1]\n",
    "z = cols[2]\n",
    "w1 = cols[3]\n",
    "w2 = cols[4]\n",
    "    \n",
    "# get fluxes\n",
    "qso_flux_g = high_z[g]\n",
    "qso_flux_r = high_z[r]\n",
    "qso_flux_z = high_z[z]\n",
    "qso_flux_w1 = high_z[w1]\n",
    "qso_flux_w2 = high_z[w2]\n",
    "        \n",
    "bd_flux_g = BD[g]\n",
    "bd_flux_r = BD[r]\n",
    "bd_flux_z = BD[z]\n",
    "bd_flux_w1 = BD[w1]\n",
    "bd_flux_w2 = BD[w2]\n",
    "    \n",
    "# construct dataframes\n",
    "# if label=1, it's a qso; if label=0, it's a bd\n",
    "data_qso = pd.DataFrame({'g': qso_flux_g, 'r': qso_flux_r, 'z': qso_flux_z, 'w1': qso_flux_w1, 'w2': qso_flux_w2, 'label': np.ones(len(qso_flux_g))})\n",
    "# data_qso.replace([np.inf, 0, -999.0, -np.inf], np.nan,inplace=True) # get rid of Inf\n",
    "data_bd = pd.DataFrame({'g': bd_flux_g, 'r': bd_flux_r, 'z': bd_flux_z, 'w1': bd_flux_w1, 'w2': bd_flux_w2, 'label': np.zeros(len(bd_flux_g))})\n",
    "# data_bd.replace([np.inf, 0, -999.0, -np.inf], np.nan,inplace=True)# get rid of Inf"
   ]
  },
  {
   "cell_type": "code",
   "execution_count": 10,
   "id": "b9cb48c8-d802-47c6-885b-be1c6e886322",
   "metadata": {},
   "outputs": [
    {
     "data": {
      "text/plain": [
       "'if key == \"ratio\":\\n        h_ratio_gz, h_ratio_gw1, h_ratio_gw2 = qso_flux_g/qso_flux_z, qso_flux_g/qso_flux_w1, qso_flux_g/qso_flux_w2\\n        h_ratio_rz, h_ratio_rw1, h_ratio_rw2 = qso_flux_r/qso_flux_z, qso_flux_r/qso_flux_w1, qso_flux_r/qso_flux_w2\\n        \\n        bd_ratio_gz, bd_ratio_gw1, bd_ratio_gw2 = bd_flux_g/bd_flux_z, bd_flux_g/bd_flux_w1, bd_flux_g/bd_flux_w2\\n        bd_ratio_rz, bd_ratio_rw1, bd_ratio_rw2 = bd_flux_r/bd_flux_z, bd_flux_r/bd_flux_w1, bd_flux_r/bd_flux_w2\\n        \\n        data_qso = pd.DataFrame({\\'g/z\\': h_ratio_gz, \\'g/w1\\': h_ratio_gw1, \\'g/w2\\': h_ratio_gw2, \\'r/z\\': h_ratio_rz, \\'r/w1\\': h_ratio_rw1, \\'r/w2\\': h_ratio_rw2, \\'label\\': np.ones(len(h_ratio_gz))})\\n        # data_qso.replace([np.inf, 0, -999.0, -np.inf], np.nan, inplace=True) # get rid of Inf\\n        data_bd = pd.DataFrame({\\'g/z\\': bd_ratio_gz, \\'g/w1\\': bd_ratio_gw1, \\'g/w2\\': bd_ratio_gw2, \\'r/z\\': bd_ratio_rz, \\'r/w1\\': bd_ratio_rw1, \\'r/w2\\': bd_ratio_rw2, \\'label\\': np.zeros(len(bd_ratio_gz))})\\n        # data_bd.replace([np.inf, 0, -999.0, -np.inf], np.nan,inplace=True) # get rid of Inf\\n    \\n    # return flux dataframes which include qsos and brown dwarfs\\n    return data_qso, data_bd '"
      ]
     },
     "execution_count": 10,
     "metadata": {},
     "output_type": "execute_result"
    }
   ],
   "source": [
    "'''if key == \"ratio\":\n",
    "        h_ratio_gz, h_ratio_gw1, h_ratio_gw2 = qso_flux_g/qso_flux_z, qso_flux_g/qso_flux_w1, qso_flux_g/qso_flux_w2\n",
    "        h_ratio_rz, h_ratio_rw1, h_ratio_rw2 = qso_flux_r/qso_flux_z, qso_flux_r/qso_flux_w1, qso_flux_r/qso_flux_w2\n",
    "        \n",
    "        bd_ratio_gz, bd_ratio_gw1, bd_ratio_gw2 = bd_flux_g/bd_flux_z, bd_flux_g/bd_flux_w1, bd_flux_g/bd_flux_w2\n",
    "        bd_ratio_rz, bd_ratio_rw1, bd_ratio_rw2 = bd_flux_r/bd_flux_z, bd_flux_r/bd_flux_w1, bd_flux_r/bd_flux_w2\n",
    "        \n",
    "        data_qso = pd.DataFrame({'g/z': h_ratio_gz, 'g/w1': h_ratio_gw1, 'g/w2': h_ratio_gw2, 'r/z': h_ratio_rz, 'r/w1': h_ratio_rw1, 'r/w2': h_ratio_rw2, 'label': np.ones(len(h_ratio_gz))})\n",
    "        # data_qso.replace([np.inf, 0, -999.0, -np.inf], np.nan, inplace=True) # get rid of Inf\n",
    "        data_bd = pd.DataFrame({'g/z': bd_ratio_gz, 'g/w1': bd_ratio_gw1, 'g/w2': bd_ratio_gw2, 'r/z': bd_ratio_rz, 'r/w1': bd_ratio_rw1, 'r/w2': bd_ratio_rw2, 'label': np.zeros(len(bd_ratio_gz))})\n",
    "        # data_bd.replace([np.inf, 0, -999.0, -np.inf], np.nan,inplace=True) # get rid of Inf\n",
    "    \n",
    "    # return flux dataframes which include qsos and brown dwarfs\n",
    "    return data_qso, data_bd '''"
   ]
  },
  {
   "cell_type": "code",
   "execution_count": 10,
   "id": "1025a299-f54e-460f-87eb-f13019b0170d",
   "metadata": {},
   "outputs": [],
   "source": [
    "# put the data containing info about qso and bd together\n",
    "data_train = pd.concat([data_qso, data_bd], ignore_index=True).dropna() # make sure that the data is lined up\n",
    "X = data_train[['g', 'r', 'z', 'w1', 'w2']]\n",
    "y = data_train['label']"
   ]
  },
  {
   "cell_type": "code",
   "execution_count": 12,
   "id": "06185070-1aa8-4586-bdd4-9a56a6cdca82",
   "metadata": {},
   "outputs": [
    {
     "data": {
      "text/plain": [
       "\"if key == 'ratio':\\n    data_qso, data_bd = get_data_flux('ratio', high_z, BD)\\n    data_train = pd.concat([data_qso, data_bd], ignore_index=True).dropna()\\n    X = data_train[['g/z', 'g/w1', 'g/w2', 'r/z', 'r/w1', 'r/w2']]\""
      ]
     },
     "execution_count": 12,
     "metadata": {},
     "output_type": "execute_result"
    }
   ],
   "source": [
    "'''if key == 'ratio':\n",
    "    data_qso, data_bd = get_data_flux('ratio', high_z, BD)\n",
    "    data_train = pd.concat([data_qso, data_bd], ignore_index=True).dropna()\n",
    "    X = data_train[['g/z', 'g/w1', 'g/w2', 'r/z', 'r/w1', 'r/w2']]'''"
   ]
  },
  {
   "cell_type": "code",
   "execution_count": 11,
   "id": "819436b8-76f7-46de-9da6-3848f4d52ce3",
   "metadata": {
    "tags": []
   },
   "outputs": [
    {
     "name": "stdout",
     "output_type": "stream",
     "text": [
      "          g         r          z         w1         w2  label\n",
      "0 -0.027202  1.128900  15.478700  25.508100  31.962400    1.0\n",
      "1 -0.009716 -0.004347   0.447343   0.193634  -0.005911    1.0\n",
      "2 -0.009741 -0.002475   0.471304   1.737770   0.771748    1.0\n",
      "3  0.016594  1.172370  19.526800  26.206800  32.328100    1.0\n",
      "4  0.010978 -0.009939   0.837811   3.343330   1.152640    1.0\n",
      "          g         r          z         w1         w2\n",
      "0 -0.027202  1.128900  15.478700  25.508100  31.962400\n",
      "1 -0.009716 -0.004347   0.447343   0.193634  -0.005911\n",
      "2 -0.009741 -0.002475   0.471304   1.737770   0.771748\n",
      "3  0.016594  1.172370  19.526800  26.206800  32.328100\n",
      "4  0.010978 -0.009939   0.837811   3.343330   1.152640\n",
      "                g              r           z           w1          w2\n",
      "3423     0.001760       0.283210   10.638200    57.675300    43.33980\n",
      "3424     0.217841       0.231266    0.216917   385.948000   376.21600\n",
      "3425    -0.001194       0.155733   13.277800    69.401300    68.65910\n",
      "3426  1299.707250 -225311.100734  401.005719  2842.579878  2239.99207\n",
      "3427  1299.707250 -225311.100734  401.005719  2842.579878  2239.99207\n",
      "0    1.0\n",
      "1    1.0\n",
      "2    1.0\n",
      "3    1.0\n",
      "4    1.0\n",
      "Name: label, dtype: float64\n",
      "3423    0.0\n",
      "3424    0.0\n",
      "3425    0.0\n",
      "3426    0.0\n",
      "3427    0.0\n",
      "Name: label, dtype: float64\n"
     ]
    }
   ],
   "source": [
    "print(data_train.head())\n",
    "print(X.head())\n",
    "print(X.tail(5))\n",
    "print(y.head())\n",
    "print(y.tail(5))"
   ]
  },
  {
   "cell_type": "markdown",
   "id": "38965f7e-7df6-4647-9e6d-43e9d9a2c014",
   "metadata": {},
   "source": [
    "# Get color-color plots"
   ]
  },
  {
   "cell_type": "code",
   "execution_count": 12,
   "id": "b0c179ab-95a3-4d02-ab86-aa5b0e970fd3",
   "metadata": {},
   "outputs": [],
   "source": [
    "# color plots\n",
    "\n",
    "def flux_color(qso1, qso2, qso3, qso4, x_lab, y_lab):\n",
    "    # x: qso1-qso2\n",
    "    # y: qso3-qso4\n",
    "    plt.scatter(qso1 - qso2, qso3 - qso4, marker='*', alpha=0.4, label='qso')\n",
    "    plt.xlabel(x_lab)\n",
    "    plt.ylabel(y_lab)\n",
    "    plt.xlim([min(qso1 - qso2), max(qso1 - qso2)])\n",
    "    plt.ylim([min(qso3 - qso4), max(qso3 - qso4)])\n",
    "    plt.legend()"
   ]
  },
  {
   "cell_type": "code",
   "execution_count": 20,
   "id": "ef8c253d-f82a-46bb-8191-2ce849d497d1",
   "metadata": {},
   "outputs": [
    {
     "data": {
      "image/png": "[encoded data removed]",
      "text/plain": [
       "<Figure size 432x288 with 1 Axes>"
      ]
     },
     "metadata": {
      "needs_background": "light"
     },
     "output_type": "display_data"
    },
    {
     "data": {
      "image/png": "[encoded data removed]",
      "text/plain": [
       "<Figure size 432x288 with 1 Axes>"
      ]
     },
     "metadata": {
      "needs_background": "light"
     },
     "output_type": "display_data"
    },
    {
     "data": {
      "image/png": "[encoded data removed]",
      "text/plain": [
       "<Figure size 432x288 with 1 Axes>"
      ]
     },
     "metadata": {
      "needs_background": "light"
     },
     "output_type": "display_data"
    },
    {
     "data": {
      "image/png": "[encoded data removed]",
      "text/plain": [
       "<Figure size 432x288 with 1 Axes>"
      ]
     },
     "metadata": {
      "needs_background": "light"
     },
     "output_type": "display_data"
    },
    {
     "data": {
      "image/png": "[encoded data removed]",
      "text/plain": [
       "<Figure size 432x288 with 1 Axes>"
      ]
     },
     "metadata": {
      "needs_background": "light"
     },
     "output_type": "display_data"
    }
   ],
   "source": [
    "# r-z VS g-z\n",
    "\n",
    "plt.scatter(qso_flux_g - qso_flux_z, qso_flux_r - qso_flux_z, marker='*', alpha=0.4, label='qso')\n",
    "plt.xlabel('g-z')\n",
    "plt.ylabel('r-z')\n",
    "plt.legend()\n",
    "\n",
    "plt.scatter(bd_flux_g - bd_flux_z, bd_flux_r - bd_flux_z, marker='o', alpha=0.2, label='BD', color='r')\n",
    "plt.xlabel('g-z')\n",
    "plt.ylabel('r-z')\n",
    "plt.xlim([min(qso_flux_g - qso_flux_z), max(qso_flux_g - qso_flux_z)])\n",
    "plt.ylim([min(qso_flux_r - qso_flux_z), max(qso_flux_r - qso_flux_z)])\n",
    "plt.legend()\n",
    "plt.show()\n",
    "\n",
    "# g-r VS r-w2\n",
    "flux_color(qso_flux_r, qso_flux_w2, qso_flux_g, qso_flux_r, 'r-w2', 'g-r')\n",
    "plt.scatter(bd_flux_r - bd_flux_w2, bd_flux_g - bd_flux_r, marker='o', alpha=0.2, label='BD', color='r')\n",
    "plt.legend()\n",
    "plt.show()\n",
    "\n",
    "# g-z VS r-w1\n",
    "flux_color(qso_flux_r, qso_flux_w1, qso_flux_g, qso_flux_z, 'r-w1', 'g-z')\n",
    "plt.scatter(bd_flux_r - bd_flux_w1, bd_flux_g - bd_flux_z, marker='o', alpha=0.2, label='BD', color='r')\n",
    "plt.legend()\n",
    "plt.show()\n",
    "\n",
    "# r-z VS g-w1\n",
    "flux_color(qso_flux_r, qso_flux_z, qso_flux_g, qso_flux_w1, 'r-z', 'g-w1')\n",
    "plt.scatter(bd_flux_r - bd_flux_z, bd_flux_g - bd_flux_w1, marker='o', alpha=0.2, label='BD', color='r')\n",
    "plt.legend()\n",
    "plt.show()\n",
    "\n",
    "# g-r VS r-z\n",
    "flux_color(qso_flux_r, qso_flux_z, qso_flux_g, qso_flux_r, 'r-z', 'g-r')\n",
    "plt.scatter(bd_flux_r - bd_flux_z, bd_flux_g - bd_flux_r, marker='o', alpha=0.2, label='BD', color='r')\n",
    "plt.legend()\n",
    "plt.show()"
   ]
  },
  {
   "cell_type": "markdown",
   "id": "e8580d94-8037-474f-8ebe-acec8574ef10",
   "metadata": {},
   "source": [
    "## KNN to get (multidimensional) flux filters\n",
    "\n",
    "https://stackoverflow.com/questions/22294241/plotting-a-decision-boundary-separating-2-classes-using-matplotlibs-pyplot"
   ]
  },
  {
   "cell_type": "code",
   "execution_count": 14,
   "id": "3ae8723c-3ab8-4cfd-ab22-0cf696be201a",
   "metadata": {
    "collapsed": true,
    "jupyter": {
     "outputs_hidden": true
    },
    "tags": []
   },
   "outputs": [
    {
     "name": "stdout",
     "output_type": "stream",
     "text": [
      "[[-3.0833500e+01 -1.1561020e+00 -2.4379200e+01 -1.5505902e+01\n",
      "  -1.4349800e+01 -2.5535302e+01]\n",
      " [ 1.5640000e-03 -5.3690000e-03 -1.9798100e-01 -4.5705900e-01\n",
      "  -4.5169000e-01 -2.0335000e-01]\n",
      " [-7.7422300e-01 -7.2660000e-03 -1.7402450e+00 -4.8104500e-01\n",
      "  -4.7377900e-01 -1.7475110e+00]\n",
      " [-3.1155730e+01 -1.1557760e+00 -2.5034430e+01 -1.9510206e+01\n",
      "  -1.8354430e+01 -2.6190206e+01]\n",
      " [-1.1625790e+00  2.0917000e-02 -3.3532690e+00 -8.2683300e-01\n",
      "  -8.4775000e-01 -3.3323520e+00]] \n",
      " length:\n",
      " 3428\n",
      "0    1.0\n",
      "1    1.0\n",
      "2    1.0\n",
      "3    1.0\n",
      "4    1.0\n",
      "Name: label, dtype: float64\n",
      "start fitting\n",
      "578     0.0\n",
      "1055    0.0\n",
      "564     0.0\n",
      "2297    0.0\n",
      "2692    0.0\n",
      "       ... \n",
      "2066    0.0\n",
      "3240    0.0\n",
      "1340    0.0\n",
      "2077    0.0\n",
      "1424    0.0\n",
      "Name: label, Length: 1029, dtype: float64\n",
      "filter accuracy: 0.8279883381924198\n",
      "filter f1 score: 0.0\n"
     ]
    }
   ],
   "source": [
    "features = [X['r']-X['w2'], X['g']-X['r'], X['r']-X['w1'], X['g']-X['z'], X['r']-X['z'], X['g']-X['w1']]\n",
    "Xf = np.array(features).transpose()\n",
    "print(Xf[:5, :], '\\n length:\\n', len(Xf))\n",
    "yf = y\n",
    "print(yf[:5])\n",
    "\n",
    "Xf_train, Xf_test, yf_train, yf_test = train_test_split(Xf, yf, test_size=0.3,random_state=42)\n",
    "'''\n",
    "parameters = {'kernel':('linear', 'rbf', 'poly'), 'C':[0.01, 0.1, 1, 10]}\n",
    "svc = svm.SVC(random_state=42)\n",
    "print('start fitting')\n",
    "clff = GridSearchCV(svc, parameters)\n",
    "clff.fit(Xf_train, yf_train)\n",
    "print('finish fitting')\n",
    "'''\n",
    "print('start fitting')\n",
    "clff = svm.SVC(kernel='poly', C=10, max_iter=2000)\n",
    "clff.fit(Xf_train, yf_train)\n",
    "yf_pred = clff.predict(Xf_test)\n",
    "print(yf_test)\n",
    "print(\"filter accuracy:\", accuracy_score(yf_test, yf_pred))\n",
    "print('filter f1 score:', f1_score(yf_test, yf_pred))"
   ]
  },
  {
   "cell_type": "markdown",
   "id": "c67c3a05-d518-4078-8155-cac7c3961ce8",
   "metadata": {
    "tags": []
   },
   "source": [
    "kernel='linear': \n",
    "\n",
    "C=0.01 -> accuracy score=0.827988\n",
    "\n",
    "C=0.1 -> accuracy score=0.827016\n",
    "\n",
    "C=1 -> accuracy score=0.827016\n",
    "\n",
    "C=10 -> accuracy score=0.827016\n",
    "\n",
    "kernel='poly':\n",
    "\n",
    "C=0.01 -> accuracy score=0.827988\n",
    "\n",
    "C=0.1 -> accuracy score=0.827988\n",
    "\n",
    "C=1 -> accuracy score=0.827988\n",
    "\n",
    "C=10 -> accuracy score=0.827988\n",
    "\n",
    "kernel='rbf':\n",
    "C=0.01 -> accuracy score=0.827988\n",
    "\n",
    "C=0.1 -> accuracy score=0.827988\n",
    "\n",
    "C=1 -> accuracy score=0.827988\n",
    "\n",
    "C=10 -> accuracy score=0.827988"
   ]
  },
  {
   "cell_type": "code",
   "execution_count": 102,
   "id": "f2bbf386-9233-4e37-bff9-8dd6bc48702a",
   "metadata": {
    "collapsed": true,
    "jupyter": {
     "outputs_hidden": true
    },
    "tags": []
   },
   "outputs": [
    {
     "data": {
      "text/plain": [
       "\"\\nclf1 = svm.SVC(C=100, kernel='poly', gamma=10, degree=5)\\nclf1.fit(X1,y1)\\n\\nprint('finish fitting; start plotting')\\n\\ndef plot_contours(ax, clf, xx, yy, **params):\\n    Z = clf.predict(np.c_[xx.ravel(), yy.ravel()])\\n    Z = Z.reshape(xx.shape)\\n    out = plt.contourf(xx, yy, Z, **params)\\n    return out\\n\\nfig, ax = plt.subplots()\\n# Set-up grid for plotting.\\nx1_min, x1_max = min(qso_flux_r - qso_flux_w2) - 1, max(qso_flux_r - qso_flux_w2) + 1\\ny1_min, y1_max = min(qso_flux_g - qso_flux_r) - 1, max(qso_flux_g - qso_flux_r) + 1\\nh = (x1_max - x1_min)/100\\nxx1, yy1 = np.meshgrid(np.arange(x1_min, x1_max, h),\\n                     np.arange(y1_min, y1_max, h))\\n\\nplot_contours(ax, clf1, xx1, yy1, cmap=plt.cm.coolwarm, alpha=0.8)\\nax.scatter(bd_flux_r - bd_flux_w2, bd_flux_g - bd_flux_r, marker='o', alpha=0.2, label='BD', color='r')\\nax.scatter(qso_flux_r - qso_flux_w2, qso_flux_g - qso_flux_r, marker='*', alpha=0.4, label='qso')\\nax.set_ylabel('g-r')\\nax.set_xlabel('r-w2')\\nplt.axis([x1_min, x1_max, y1_min, y1_max])\\nax.legend()\\nplt.show()\\n\""
      ]
     },
     "execution_count": 102,
     "metadata": {},
     "output_type": "execute_result"
    }
   ],
   "source": [
    "'''\n",
    "clf1 = svm.SVC(C=100, kernel='poly', gamma=10, degree=5)\n",
    "clf1.fit(X1,y1)\n",
    "\n",
    "print('finish fitting; start plotting')\n",
    "\n",
    "def plot_contours(ax, clf, xx, yy, **params):\n",
    "    Z = clf.predict(np.c_[xx.ravel(), yy.ravel()])\n",
    "    Z = Z.reshape(xx.shape)\n",
    "    out = plt.contourf(xx, yy, Z, **params)\n",
    "    return out\n",
    "\n",
    "fig, ax = plt.subplots()\n",
    "# Set-up grid for plotting.\n",
    "x1_min, x1_max = min(qso_flux_r - qso_flux_w2) - 1, max(qso_flux_r - qso_flux_w2) + 1\n",
    "y1_min, y1_max = min(qso_flux_g - qso_flux_r) - 1, max(qso_flux_g - qso_flux_r) + 1\n",
    "h = (x1_max - x1_min)/100\n",
    "xx1, yy1 = np.meshgrid(np.arange(x1_min, x1_max, h),\n",
    "                     np.arange(y1_min, y1_max, h))\n",
    "\n",
    "plot_contours(ax, clf1, xx1, yy1, cmap=plt.cm.coolwarm, alpha=0.8)\n",
    "ax.scatter(bd_flux_r - bd_flux_w2, bd_flux_g - bd_flux_r, marker='o', alpha=0.2, label='BD', color='r')\n",
    "ax.scatter(qso_flux_r - qso_flux_w2, qso_flux_g - qso_flux_r, marker='*', alpha=0.4, label='qso')\n",
    "ax.set_ylabel('g-r')\n",
    "ax.set_xlabel('r-w2')\n",
    "plt.axis([x1_min, x1_max, y1_min, y1_max])\n",
    "ax.legend()\n",
    "plt.show()\n",
    "'''"
   ]
  },
  {
   "cell_type": "code",
   "execution_count": 15,
   "id": "f86d53c1-9e76-44a6-99a4-4483cb39f528",
   "metadata": {},
   "outputs": [],
   "source": [
    "from matplotlib.colors import ListedColormap\n",
    "from sklearn import neighbors"
   ]
  },
  {
   "cell_type": "code",
   "execution_count": 16,
   "id": "1c63888e-4542-4af9-a259-54cee44e77fc",
   "metadata": {},
   "outputs": [],
   "source": [
    "def get_flux_filter(clf, n_neighbors, weights, X, y, qso1, qso2, qso3, qso4):\n",
    "    # Create color maps\n",
    "    cmap_light = ListedColormap(['#f54f44', '#2645e0'])\n",
    "    cmap_bold = ListedColormap(['#b32920', '#24337c'])\n",
    "\n",
    "    # we create an instance of Neighbours Classifier and fit the data.\n",
    "    clf.fit(X, y)\n",
    "\n",
    "    # Plot the decision boundary. For that, we will assign a color to each\n",
    "    # point in the mesh [x_min, x_max]x[y_min, y_max].\n",
    "    x_min, x_max = min(qso1 - qso2) - 1, max(qso1 - qso2) + 1\n",
    "    y_min, y_max = min(qso3 - qso4) - 1, max(qso3 - qso4) + 1\n",
    "    h = (x_max-x_min)/100\n",
    "    xx, yy = np.meshgrid(np.arange(x_min, x_max, h),\n",
    "                         np.arange(y_min, y_max, h))\n",
    "    Z = clf.predict(np.c_[xx.ravel(), yy.ravel()])\n",
    "\n",
    "    # Put the result into a color plot\n",
    "    Z = Z.reshape(xx.shape)\n",
    "    plt.figure()\n",
    "    plt.pcolormesh(xx, yy, Z, cmap=cmap_light, alpha=0.15)\n",
    "\n",
    "    # Plot also the training points\n",
    "    plt.scatter(X[:, 0], X[:, 1], c=y1, cmap=cmap_bold, alpha=0.2)\n",
    "    plt.axis([x_min, x_max, y_min, y_max])\n",
    "    plt.title(\"k = %i, weights = '%s'\"\n",
    "              % (n_neighbors, weights))"
   ]
  },
  {
   "cell_type": "code",
   "execution_count": 17,
   "id": "e1ec3c3c-e942-437d-b64b-3f52ecdc51c4",
   "metadata": {},
   "outputs": [
    {
     "name": "stdout",
     "output_type": "stream",
     "text": [
      "[[-3.083350e+01 -1.156102e+00]\n",
      " [ 1.564000e-03 -5.369000e-03]\n",
      " [-7.742230e-01 -7.266000e-03]\n",
      " [-3.115573e+01 -1.155776e+00]\n",
      " [-1.162579e+00  2.091700e-02]] \n",
      " length:\n",
      " 3428\n",
      "0    1.0\n",
      "1    1.0\n",
      "2    1.0\n",
      "3    1.0\n",
      "4    1.0\n",
      "Name: label, dtype: float64\n"
     ]
    },
    {
     "data": {
      "image/png": "[encoded data removed]",
      "text/plain": [
       "<Figure size 432x288 with 1 Axes>"
      ]
     },
     "metadata": {
      "needs_background": "light"
     },
     "output_type": "display_data"
    }
   ],
   "source": [
    "# g-r VS r-w2\n",
    "\n",
    "features1 = [X['r']-X['w2'], X['g']-X['r']]\n",
    "X1 = np.array(features1).transpose()\n",
    "print(X1[:5, :], '\\n length:\\n', len(X1))\n",
    "y1 = y\n",
    "print(y1[:5])\n",
    "'''\n",
    "X1_train, X1_test, y1_train, y1_test = train_test_split(X1, y1, test_size=0.3,random_state=42)\n",
    "\n",
    "grid_params = { 'n_neighbors' : [5,7,9,11,13,15],\n",
    "               'weights' : ['uniform','distance'],\n",
    "               'metric' : ['minkowski','euclidean','manhattan']}\n",
    "\n",
    "gs = GridSearchCV(neighbors.KNeighborsClassifier(), grid_params, verbose = 1, cv=3, n_jobs = -1)\n",
    "g_res = gs.fit(X1_train, y1_train)\n",
    "\n",
    "print('best score: ', g_res.best_score_)\n",
    "print('best params: ', g_res.best_params_)\n",
    "'''\n",
    "filter1 = neighbors.KNeighborsClassifier(metric='minkowski', n_neighbors=5, weights='uniform')\n",
    "get_flux_filter(filter1, 5, 'uniform', X1, y1, qso_flux_r, qso_flux_w2, qso_flux_g, qso_flux_r)\n",
    "plt.xlabel('r-w2')\n",
    "plt.ylabel('g-r')\n",
    "plt.show()"
   ]
  },
  {
   "cell_type": "code",
   "execution_count": 21,
   "id": "896583d8-3a16-4b98-aa09-4850f7337448",
   "metadata": {},
   "outputs": [
    {
     "data": {
      "image/png": "[encoded data removed]",
      "text/plain": [
       "<Figure size 432x288 with 1 Axes>"
      ]
     },
     "metadata": {
      "needs_background": "light"
     },
     "output_type": "display_data"
    }
   ],
   "source": [
    "# g-z VS r-w1\n",
    "\n",
    "features2 = [X['r']-X['w1'], X['g']-X['z']]\n",
    "X2 = np.array(features2).transpose()\n",
    "#print(X1[:5, :], '\\n length:\\n', len(X1))\n",
    "y2 = y\n",
    "#print(y1[:5])\n",
    "\n",
    "'''\n",
    "X2_train, X2_test, y2_train, y2_test = train_test_split(X2, y2, test_size=0.3,random_state=42)\n",
    "\n",
    "grid_params = { 'n_neighbors' : [5, 7, 9, 11, 13, 15, 20, 30],\n",
    "               'weights' : ['uniform','distance'],\n",
    "               'metric' : ['minkowski','euclidean','manhattan']}\n",
    "\n",
    "gs2 = GridSearchCV(neighbors.KNeighborsClassifier(), grid_params, verbose = 1, cv=3, n_jobs = -1)\n",
    "g_res2 = gs2.fit(X2_train, y2_train)\n",
    "\n",
    "print('best score: ', g_res2.best_score_)\n",
    "print('best params: ', g_res2.best_params_)\n",
    "'''\n",
    "filter2 = neighbors.KNeighborsClassifier(metric='manhattan', n_neighbors=13, weights='distance')\n",
    "get_flux_filter(filter2, 13, 'distance', X2, y2, qso_flux_r, qso_flux_w1, qso_flux_g, qso_flux_z)\n",
    "plt.xlabel('r-w1')\n",
    "plt.ylabel('g-z')\n",
    "plt.show()"
   ]
  },
  {
   "cell_type": "code",
   "execution_count": 19,
   "id": "58cfa4fd-d652-47ad-a3bc-ea21e0be8193",
   "metadata": {},
   "outputs": [
    {
     "data": {
      "image/png": "[encoded data removed]",
      "text/plain": [
       "<Figure size 432x288 with 1 Axes>"
      ]
     },
     "metadata": {
      "needs_background": "light"
     },
     "output_type": "display_data"
    }
   ],
   "source": [
    "# r-z VS g-w1\n",
    "\n",
    "features3 = [X['g']-X['w1'], X['r']-X['z']]\n",
    "X3 = np.array(features3).transpose()\n",
    "y3 = y\n",
    "'''\n",
    "X3_train, X3_test, y3_train, y3_test = train_test_split(X3, y3, test_size=0.3,random_state=42)\n",
    "\n",
    "grid_params = {'n_neighbors' : [5, 7, 9, 11, 13, 15, 20, 30],\n",
    "               'weights' : ['uniform','distance'],\n",
    "               'metric' : ['minkowski','euclidean','manhattan']}\n",
    "\n",
    "gs3 = GridSearchCV(neighbors.KNeighborsClassifier(), grid_params, verbose = 1, cv=3, n_jobs = -1)\n",
    "g_res3 = gs3.fit(X3_train, y3_train)\n",
    "\n",
    "print('best score: ', g_res3.best_score_)\n",
    "print('best params: ', g_res3.best_params_)\n",
    "'''\n",
    "filter3 = neighbors.KNeighborsClassifier(metric='manhattan', n_neighbors=15, weights='uniform')\n",
    "get_flux_filter(filter3, 15, 'uniform', X3, y3, qso_flux_r, qso_flux_w1, qso_flux_g, qso_flux_z)\n",
    "plt.xlabel('g-w1')\n",
    "plt.ylabel('r-z')\n",
    "plt.show()"
   ]
  },
  {
   "cell_type": "code",
   "execution_count": 23,
   "id": "0181560d-5e44-433c-bac1-a8cf7d8c621a",
   "metadata": {},
   "outputs": [
    {
     "data": {
      "image/png": "[encoded data removed]",
      "text/plain": [
       "<Figure size 432x288 with 1 Axes>"
      ]
     },
     "metadata": {
      "needs_background": "light"
     },
     "output_type": "display_data"
    }
   ],
   "source": [
    "# g-r VS r-z\n",
    "features4 = [X['r']-X['z'], X['g']-X['r']]\n",
    "X4 = np.array(features4).transpose()\n",
    "#print(X1[:5, :], '\\n length:\\n', len(X1))\n",
    "y4 = y\n",
    "#print(y1[:5])\n",
    "'''\n",
    "X4_train, X4_test, y4_train, y4_test = train_test_split(X4, y4, test_size=0.3,random_state=42)\n",
    "\n",
    "grid_params = {'n_neighbors' : [5, 7, 9, 11, 13, 15, 20],\n",
    "               'weights' : ['uniform','distance'],\n",
    "               'metric' : ['minkowski','euclidean','manhattan']}\n",
    "\n",
    "gs4 = GridSearchCV(neighbors.KNeighborsClassifier(), grid_params, verbose = 1, cv=3, n_jobs = -1)\n",
    "g_res4 = gs4.fit(X4_train, y4_train)\n",
    "\n",
    "print('best score: ', g_res4.best_score_)\n",
    "print('best params: ', g_res4.best_params_)\n",
    "'''\n",
    "filter4 = neighbors.KNeighborsClassifier(metric='minkowski', n_neighbors=5, weights='uniform')\n",
    "get_flux_filter(filter4, 5, 'uniform', X4, y4, qso_flux_r, qso_flux_z, qso_flux_g, qso_flux_r)\n",
    "plt.xlabel('r-z')\n",
    "plt.ylabel('g-r')\n",
    "plt.show()"
   ]
  },
  {
   "cell_type": "code",
   "execution_count": 71,
   "id": "887072e2-998d-4c97-b3c5-69fcfe05b808",
   "metadata": {},
   "outputs": [
    {
     "name": "stdout",
     "output_type": "stream",
     "text": [
      "513\n",
      "252\n"
     ]
    }
   ],
   "source": [
    "# check the fraction of known qso after they go through these filters\n",
    "qso_copy = data_qso.copy()\n",
    "print(len(qso_copy))\n",
    "\n",
    "# g-r VS r-w2\n",
    "lab = filter1.predict(np.array([qso_copy['r']-qso_copy['w2'], qso_copy['g']-qso_copy['r']]).transpose())\n",
    "qso_copy['label'] = lab\n",
    "qso_copy = qso_copy[qso_copy['label'] == 1]\n",
    "\n",
    "# g-z VS r-w1\n",
    "lab = filter2.predict(np.array([qso_copy['r']-qso_copy['w1'], qso_copy['g']-qso_copy['z']]).transpose())\n",
    "qso_copy['label'] = lab\n",
    "qso_copy = qso_copy[qso_copy['label'] == 1]\n",
    "\n",
    "# r-z VS g-w1\n",
    "lab = filter3.predict(np.array([qso_copy['g']-qso_copy['w1'], qso_copy['r']-qso_copy['z']]).transpose())\n",
    "qso_copy['label'] = lab\n",
    "qso_copy = qso_copy[qso_copy['label'] == 1]\n",
    "\n",
    "# g-r VS r-z, similr to r-w2\n",
    "lab = filter4.predict(np.array([qso_copy['r']-qso_copy['z'], qso_copy['g']-qso_copy['r']]).transpose())\n",
    "qso_copy['label'] = lab\n",
    "qso_copy = qso_copy[qso_copy['label'] == 1]\n",
    "\n",
    "print(len(qso_copy))"
   ]
  },
  {
   "cell_type": "markdown",
   "id": "9c51d0c0-5f18-4a2f-9b5d-75b8808ae219",
   "metadata": {},
   "source": [
    "## SVM to select features with intercorrelations\n",
    "\n",
    "### Linear svc \n",
    "\n",
    "### https://github.com/pierpaolo28/Companies-Data-Science-Challenges/blob/master/Microsoft%20Workshop%20-%20Deep%20Learning%20Data%20Analysis%20in%20Azure.ipynb"
   ]
  },
  {
   "cell_type": "code",
   "execution_count": 24,
   "id": "bbc4f08e-98bc-4e12-b7ce-ebbc33f3503d",
   "metadata": {},
   "outputs": [
    {
     "name": "stdout",
     "output_type": "stream",
     "text": [
      "Index(['g', 'r', 'z', 'w1', 'w2', 'g-r', 'g-z', 'g-w1', 'g-w2', 'r-z', 'r-w1',\n",
      "       'r-w2', 'z-w1', 'z-w2', 'w1-w2'],\n",
      "      dtype='object')\n",
      "<class 'pandas.core.frame.DataFrame'>\n"
     ]
    }
   ],
   "source": [
    "col_names = ['g', 'r', 'z', 'w1', 'w2']\n",
    "for i in range(len(col_names)):\n",
    "    for j in range(len(col_names)):\n",
    "        if i < j:\n",
    "            col = col_names[i] + '-' + col_names[j]\n",
    "            X[col] = X[col_names[i]] - X[col_names[j]]\n",
    "print(X.columns)\n",
    "print(type(X))"
   ]
  },
  {
   "cell_type": "code",
   "execution_count": 25,
   "id": "7ebc784a-d964-4faf-8ac7-2c5bb6eefc3d",
   "metadata": {},
   "outputs": [
    {
     "name": "stderr",
     "output_type": "stream",
     "text": [
      "/data0/sw/antares-kernel-0.4/lib/python3.7/site-packages/sklearn/svm/_base.py:986: ConvergenceWarning: Liblinear failed to converge, increase the number of iterations.\n",
      "  \"the number of iterations.\", ConvergenceWarning)\n"
     ]
    },
    {
     "data": {
      "image/png": "[encoded data removed]",
      "text/plain": [
       "<Figure size 1296x504 with 1 Axes>"
      ]
     },
     "metadata": {
      "needs_background": "light"
     },
     "output_type": "display_data"
    }
   ],
   "source": [
    "trainedsvm = svm.LinearSVC(max_iter = 2000).fit(X, y) # increase the iteration number here\n",
    "coef = trainedsvm.coef_.ravel()\n",
    "\n",
    "top_positive_coefficients = np.argsort(coef)[-4:]\n",
    "top_negative_coefficients = np.argsort(coef)[:4]\n",
    "top_coefficients = np.hstack([top_negative_coefficients, top_positive_coefficients])\n",
    "plt.figure(figsize=(18, 7))\n",
    "colors = ['green' if c < 0 else 'blue' for c in coef[top_coefficients]]\n",
    "plt.bar(np.arange(2 * 4), coef[top_coefficients], color=colors)\n",
    "feature_names = np.array(X.columns)\n",
    "plt.xticks(np.arange(2 * 4), feature_names[top_coefficients], rotation=45, ha='right')\n",
    "plt.show()"
   ]
  },
  {
   "cell_type": "markdown",
   "id": "eee8b852-5f1e-4e38-b2dd-68a9b90a3566",
   "metadata": {},
   "source": [
    "keep g-r, g-z, g-w1, r-z, r-w1, r-w2"
   ]
  },
  {
   "cell_type": "code",
   "execution_count": 26,
   "id": "9d05e441-4636-46c8-995c-5d1e6200a20c",
   "metadata": {
    "tags": []
   },
   "outputs": [
    {
     "name": "stdout",
     "output_type": "stream",
     "text": [
      "<class 'pandas.core.frame.DataFrame'>\n",
      "X: \n",
      "           g         r          z         w1         w2       g-r        g-z  \\\n",
      "0 -0.027202  1.128900  15.478700  25.508100  31.962400 -1.156102 -15.505902   \n",
      "1 -0.009716 -0.004347   0.447343   0.193634  -0.005911 -0.005369  -0.457059   \n",
      "2 -0.009741 -0.002475   0.471304   1.737770   0.771748 -0.007266  -0.481045   \n",
      "3  0.016594  1.172370  19.526800  26.206800  32.328100 -1.155776 -19.510206   \n",
      "4  0.010978 -0.009939   0.837811   3.343330   1.152640  0.020917  -0.826833   \n",
      "\n",
      "        g-w1        r-z       r-w1       r-w2  \n",
      "0 -25.535302 -14.349800 -24.379200 -30.833500  \n",
      "1  -0.203350  -0.451690  -0.197981   0.001564  \n",
      "2  -1.747511  -0.473779  -1.740245  -0.774223  \n",
      "3 -26.190206 -18.354430 -25.034430 -31.155730  \n",
      "4  -3.332352  -0.847750  -3.353269  -1.162579  \n",
      "                g              r           z           w1          w2  \\\n",
      "3423     0.001760       0.283210   10.638200    57.675300    43.33980   \n",
      "3424     0.217841       0.231266    0.216917   385.948000   376.21600   \n",
      "3425    -0.001194       0.155733   13.277800    69.401300    68.65910   \n",
      "3426  1299.707250 -225311.100734  401.005719  2842.579878  2239.99207   \n",
      "3427  1299.707250 -225311.100734  401.005719  2842.579878  2239.99207   \n",
      "\n",
      "                g-r         g-z         g-w1            r-z           r-w1  \\\n",
      "3423      -0.281450  -10.636440   -57.673540     -10.354990     -57.392090   \n",
      "3424      -0.013425    0.000924  -385.730159       0.014349    -385.716734   \n",
      "3425      -0.156927  -13.278994   -69.402494     -13.122067     -69.245567   \n",
      "3426  226610.807984  898.701531 -1542.872627 -225712.106453 -228153.680611   \n",
      "3427  226610.807984  898.701531 -1542.872627 -225712.106453 -228153.680611   \n",
      "\n",
      "               r-w2  \n",
      "3423     -43.056590  \n",
      "3424    -375.984734  \n",
      "3425     -68.503367  \n",
      "3426 -227551.092804  \n",
      "3427 -227551.092804  \n",
      "y: \n",
      " 0    1.0\n",
      "1    1.0\n",
      "2    1.0\n",
      "3    1.0\n",
      "4    1.0\n",
      "Name: label, dtype: float64\n",
      "3423    0.0\n",
      "3424    0.0\n",
      "3425    0.0\n",
      "3426    0.0\n",
      "3427    0.0\n",
      "Name: label, dtype: float64\n"
     ]
    }
   ],
   "source": [
    "keep_added_cols = ['g-r', 'g-z', 'g-w1', 'r-z', 'r-w1', 'r-w2']\n",
    "print(type(X))\n",
    "X = X[['g', 'r', 'z', 'w1', 'w2', 'g-r', 'g-z', 'g-w1', 'r-z', 'r-w1', 'r-w2']]\n",
    "\n",
    "print('X: \\n', X.head())\n",
    "print(X.tail(5))\n",
    "print('y: \\n', y.head())\n",
    "print(y.tail(5))"
   ]
  },
  {
   "cell_type": "markdown",
   "id": "ee57e349-3461-4e47-b72a-d851e1d921bf",
   "metadata": {},
   "source": [
    "## Training Model"
   ]
  },
  {
   "cell_type": "code",
   "execution_count": 27,
   "id": "5cbd4538-47e8-4324-8028-5848860cb6a2",
   "metadata": {},
   "outputs": [],
   "source": [
    "X = X.to_numpy()\n",
    "y = np.array(y, dtype=int)"
   ]
  },
  {
   "cell_type": "code",
   "execution_count": 20,
   "id": "1395c357-3402-45c8-99fa-ab523d70efdd",
   "metadata": {
    "tags": []
   },
   "outputs": [],
   "source": [
    "estimators = []\n",
    "f1_lst_n = []\n",
    "train_score_n = []\n",
    "test_score_n = []\n",
    "\n",
    "for n_estimator in range(100, 400, 10):\n",
    "    model = RandomForestClassifier(n_estimators=n_estimator, random_state=42)\n",
    "    kf = KFold(n_splits=10, random_state=42, shuffle=True)\n",
    "    f1_sum = 0\n",
    "    train_score_sum = 0\n",
    "    test_score_sum = 0\n",
    "    for train_index, test_index in kf.split(X):\n",
    "        X_train, X_test = X[train_index], X[test_index]\n",
    "        y_train, y_test = y[train_index], y[test_index]\n",
    "        model.fit(X_train,y_train)\n",
    "        y_pred = model.predict(X_test)\n",
    "        f1 = f1_score(y_test, y_pred)\n",
    "        f1_sum += f1\n",
    "        train_score  = model.score(X_train,y_train) # mean accuracy\n",
    "        train_score_sum += train_score\n",
    "        test_score = model.score(X_test,y_test)\n",
    "        test_score_sum += test_score\n",
    "    f1_ave = f1_sum/10 \n",
    "    train_score_ave = train_score_sum/10\n",
    "    test_score_ave = test_score_sum/10\n",
    "    estimators.append(n_estimator)\n",
    "    f1_lst_n.append(f1_ave)\n",
    "    train_score_n.append(train_score_ave)\n",
    "    test_score_n.append(test_score_ave)"
   ]
  },
  {
   "cell_type": "code",
   "execution_count": 21,
   "id": "af1e9482-5964-42e0-ab14-092f2f007cdb",
   "metadata": {
    "tags": []
   },
   "outputs": [
    {
     "data": {
      "image/png": "[encoded data removed]",
      "text/plain": [
       "<Figure size 432x288 with 1 Axes>"
      ]
     },
     "metadata": {
      "needs_background": "light"
     },
     "output_type": "display_data"
    }
   ],
   "source": [
    "plt.plot(estimators, f1_lst_n, label='F1 scores')\n",
    "#plt.plot(estimators, train_score_n, label='train scores')\n",
    "plt.plot(estimators, test_score_n, label='test score')\n",
    "plt.title('Scores for n_estimators')\n",
    "plt.legend()\n",
    "plt.show()"
   ]
  },
  {
   "cell_type": "code",
   "execution_count": 20,
   "id": "df866d3a-4ca5-4458-b3e7-7a1f83223c9d",
   "metadata": {
    "collapsed": true,
    "jupyter": {
     "outputs_hidden": true
    },
    "tags": []
   },
   "outputs": [
    {
     "name": "stdout",
     "output_type": "stream",
     "text": [
      "    n_estimator  F1 score\n",
      "3           130  0.898678\n",
      "2           120  0.896719\n",
      "4           140  0.896619\n",
      "5           150  0.896143\n",
      "21          310  0.895903\n",
      "28          380  0.895650\n",
      "1           110  0.895631\n",
      "7           170  0.895550\n",
      "0           100  0.895511\n",
      "6           160  0.895389\n"
     ]
    }
   ],
   "source": [
    "# get the top 10 n_estimators with the highest F1 scores\n",
    "df_n = pd.DataFrame({'n_estimator': estimators, 'F1 score': f1_lst_n})\n",
    "df_n = df_n.sort_values(by='F1 score', ascending=False)\n",
    "print(df_n.head(10))"
   ]
  },
  {
   "cell_type": "code",
   "execution_count": null,
   "id": "438de767-7b85-4ddc-9a0d-d0cced08dca1",
   "metadata": {},
   "outputs": [],
   "source": []
  },
  {
   "cell_type": "code",
   "execution_count": 21,
   "id": "8aba77fc-de16-4817-884b-3772aed2dc4e",
   "metadata": {
    "tags": []
   },
   "outputs": [],
   "source": [
    "# plot (x: max_depth value, y: score)\n",
    "depths = []\n",
    "f1_lst_depth = []\n",
    "train_score_depth = []\n",
    "test_score_depth = []\n",
    "\n",
    "for max_depth_value in range(2,50):\n",
    "    model = RandomForestClassifier(n_estimators=130, max_depth=max_depth_value, random_state=42)\n",
    "    kf = KFold(n_splits=10, random_state=42, shuffle=True)\n",
    "    f1_sum = 0\n",
    "    train_score_sum = 0\n",
    "    test_score_sum = 0\n",
    "    for train_index, test_index in kf.split(X):\n",
    "        X_train, X_test = X[train_index], X[test_index]\n",
    "        y_train, y_test = y[train_index], y[test_index]\n",
    "        model.fit(X_train,y_train)\n",
    "        y_pred = model.predict(X_test)\n",
    "        f1 = f1_score(y_test, y_pred)\n",
    "        f1_sum += f1\n",
    "        train_score  = model.score(X_train,y_train)\n",
    "        train_score_sum += train_score\n",
    "        test_score = model.score(X_test,y_test)\n",
    "        test_score_sum += test_score\n",
    "    f1_ave = f1_sum/10 \n",
    "    train_score_ave = train_score_sum/10\n",
    "    test_score_ave = test_score_sum/10\n",
    "    depths.append(max_depth_value)\n",
    "    f1_lst_depth.append(f1_ave)\n",
    "    train_score_depth.append(train_score_ave)\n",
    "    test_score_depth.append(test_score_ave)"
   ]
  },
  {
   "cell_type": "code",
   "execution_count": 22,
   "id": "8741ed10-9f9b-4697-bee4-df9048c768e8",
   "metadata": {
    "tags": []
   },
   "outputs": [
    {
     "data": {
      "image/png": "[encoded data removed]",
      "text/plain": [
       "<Figure size 432x288 with 1 Axes>"
      ]
     },
     "metadata": {
      "needs_background": "light"
     },
     "output_type": "display_data"
    }
   ],
   "source": [
    "plt.plot(depths, f1_lst_depth, label='F1 score')\n",
    "plt.plot(depths, train_score_depth, label='train score')\n",
    "plt.plot(depths, test_score_depth, label='test score')\n",
    "plt.title('Scores for max_depth')\n",
    "plt.legend()\n",
    "plt.show()"
   ]
  },
  {
   "cell_type": "code",
   "execution_count": 25,
   "id": "d3980e8e-c01e-446a-998b-7fb09f226d85",
   "metadata": {
    "collapsed": true,
    "jupyter": {
     "outputs_hidden": true
    },
    "tags": []
   },
   "outputs": [
    {
     "name": "stdout",
     "output_type": "stream",
     "text": [
      "    max_depth  F1 score\n",
      "24         26  0.898678\n",
      "27         29  0.898678\n",
      "25         27  0.898678\n",
      "26         28  0.898678\n",
      "22         24  0.898678\n",
      "21         23  0.898678\n",
      "20         22  0.898678\n",
      "19         21  0.898678\n",
      "18         20  0.898678\n",
      "17         19  0.898678\n",
      "16         18  0.898678\n",
      "23         25  0.898678\n",
      "15         17  0.896798\n",
      "13         15  0.895577\n",
      "8          10  0.895457\n",
      "9          11  0.895235\n",
      "7           9  0.895214\n",
      "14         16  0.894632\n",
      "12         14  0.894395\n",
      "10         12  0.893977\n",
      "6           8  0.892329\n",
      "11         13  0.891976\n",
      "5           7  0.885788\n",
      "4           6  0.871981\n",
      "3           5  0.860168\n",
      "2           4  0.850389\n",
      "1           3  0.723475\n",
      "0           2  0.633445\n"
     ]
    }
   ],
   "source": [
    "# get the top 10 max_depth with the highest F1 scores\n",
    "df_depth = pd.DataFrame({'max_depth': depths, 'F1 score': f1_lst_depth})\n",
    "df_depth = df_depth.sort_values(by='F1 score', ascending=False)\n",
    "print(df_depth[df_depth['max_depth'] < 30])\n",
    "# choose the values when the curve becomes stable in case of overfitting"
   ]
  },
  {
   "cell_type": "code",
   "execution_count": 26,
   "id": "744786db-a173-4641-af37-16329d61f437",
   "metadata": {
    "tags": []
   },
   "outputs": [],
   "source": [
    "leaves = []\n",
    "f1_lst_leaf = []\n",
    "train_score_leaf = []\n",
    "test_score_leaf = []\n",
    "\n",
    "for min_leaf in range(2,30):\n",
    "    model = RandomForestClassifier(n_estimators=130, max_depth=15, min_samples_leaf=min_leaf, random_state=42)\n",
    "    kf = KFold(n_splits=10, random_state=42, shuffle=True)\n",
    "    f1_sum = 0\n",
    "    train_score_sum = 0\n",
    "    test_score_sum = 0\n",
    "    for train_index, test_index in kf.split(X):\n",
    "        X_train, X_test = X[train_index], X[test_index]\n",
    "        y_train, y_test = y[train_index], y[test_index]\n",
    "        model.fit(X_train,y_train)\n",
    "        y_pred = model.predict(X_test)\n",
    "        f1 = f1_score(y_test, y_pred)\n",
    "        f1_sum += f1\n",
    "        train_score  = model.score(X_train,y_train)\n",
    "        train_score_sum += train_score\n",
    "        test_score = model.score(X_test,y_test)\n",
    "        test_score_sum += test_score\n",
    "    f1_ave = f1_sum/10 \n",
    "    train_score_ave = train_score_sum/10\n",
    "    test_score_ave = test_score_sum/10\n",
    "    leaves.append(min_leaf)\n",
    "    f1_lst_leaf.append(f1_ave)\n",
    "    train_score_leaf.append(train_score_ave)\n",
    "    test_score_leaf.append(test_score_ave)"
   ]
  },
  {
   "cell_type": "code",
   "execution_count": 27,
   "id": "5cc1f499-9885-45a0-86c2-970c4e503cc2",
   "metadata": {
    "tags": []
   },
   "outputs": [
    {
     "data": {
      "image/png": "[encoded data removed]",
      "text/plain": [
       "<Figure size 432x288 with 1 Axes>"
      ]
     },
     "metadata": {
      "needs_background": "light"
     },
     "output_type": "display_data"
    }
   ],
   "source": [
    "plt.plot(leaves, f1_lst_leaf, label='F1 score')\n",
    "plt.plot(leaves, train_score_leaf, label='train score')\n",
    "plt.plot(leaves, test_score_leaf, label='test score')\n",
    "plt.title('Scores for min_samples_leaf')\n",
    "plt.legend()\n",
    "plt.show()"
   ]
  },
  {
   "cell_type": "code",
   "execution_count": 28,
   "id": "ee21df3f-0fb0-43ec-9a0e-9e9e1a155850",
   "metadata": {
    "collapsed": true,
    "jupyter": {
     "outputs_hidden": true
    },
    "tags": []
   },
   "outputs": [
    {
     "name": "stdout",
     "output_type": "stream",
     "text": [
      "   min_samples_leaf  F1 score\n",
      "0                 2  0.899417\n",
      "1                 3  0.897000\n",
      "2                 4  0.891448\n",
      "3                 5  0.889557\n",
      "4                 6  0.889299\n",
      "5                 7  0.885745\n",
      "6                 8  0.882382\n",
      "7                 9  0.877527\n",
      "8                10  0.874087\n",
      "9                11  0.866647\n"
     ]
    }
   ],
   "source": [
    "# get the top 10 min_samples_leaf with the highest F1 scores\n",
    "df_leaf = pd.DataFrame({'min_samples_leaf': leaves, 'F1 score': f1_lst_leaf})\n",
    "df_leaf = df_leaf.sort_values(by='F1 score', ascending=False)\n",
    "print(df_leaf.head(10))"
   ]
  },
  {
   "cell_type": "code",
   "execution_count": 29,
   "id": "7bf1598d-2a9e-4f29-8e93-89680d45571d",
   "metadata": {
    "tags": []
   },
   "outputs": [],
   "source": [
    "splits = []\n",
    "f1_lst_split = []\n",
    "train_score_split = []\n",
    "test_score_split = []\n",
    "\n",
    "for min_split in range(2,35):\n",
    "    model = RandomForestClassifier(n_estimators=130, max_depth=15, min_samples_leaf=2, min_samples_split=min_split, random_state=42)\n",
    "    kf = KFold(n_splits=10, random_state=42, shuffle=True)\n",
    "    f1_sum = 0\n",
    "    train_score_sum = 0\n",
    "    test_score_sum = 0\n",
    "    for train_index, test_index in kf.split(X):\n",
    "        X_train, X_test = X[train_index], X[test_index]\n",
    "        y_train, y_test = y[train_index], y[test_index]\n",
    "        model.fit(X_train,y_train)\n",
    "        y_pred = model.predict(X_test)\n",
    "        f1 = f1_score(y_test, y_pred)\n",
    "        f1_sum += f1\n",
    "        train_score  = model.score(X_train,y_train)\n",
    "        train_score_sum += train_score\n",
    "        test_score = model.score(X_test,y_test)\n",
    "        test_score_sum += test_score\n",
    "    f1_ave = f1_sum/10 \n",
    "    train_score_ave = train_score_sum/10\n",
    "    test_score_ave = test_score_sum/10\n",
    "    splits.append(min_split)\n",
    "    f1_lst_split.append(f1_ave)\n",
    "    train_score_split.append(train_score_ave)\n",
    "    test_score_split.append(test_score_ave)"
   ]
  },
  {
   "cell_type": "code",
   "execution_count": 30,
   "id": "23098e12-8530-49c9-a9c6-c10ad0c38c0d",
   "metadata": {
    "tags": []
   },
   "outputs": [
    {
     "data": {
      "image/png": "[encoded data removed]",
      "text/plain": [
       "<Figure size 432x288 with 1 Axes>"
      ]
     },
     "metadata": {
      "needs_background": "light"
     },
     "output_type": "display_data"
    }
   ],
   "source": [
    "plt.plot(splits, f1_lst_split, label='F1 score')\n",
    "plt.plot(splits, train_score_split, label='train score')\n",
    "plt.plot(splits, test_score_split, label='test score')\n",
    "plt.title('Scores for min_samples_split')\n",
    "plt.legend()\n",
    "plt.show()"
   ]
  },
  {
   "cell_type": "code",
   "execution_count": 43,
   "id": "82598410-7f04-4905-96a2-334e432b4f30",
   "metadata": {
    "collapsed": true,
    "jupyter": {
     "outputs_hidden": true
    },
    "tags": []
   },
   "outputs": [
    {
     "name": "stdout",
     "output_type": "stream",
     "text": [
      "    min_samples_split  F1 score\n",
      "3                   5  0.903480\n",
      "5                   7  0.902198\n",
      "6                   8  0.899569\n",
      "0                   2  0.899417\n",
      "1                   3  0.899417\n",
      "2                   4  0.899417\n",
      "4                   6  0.897799\n",
      "7                   9  0.896981\n",
      "9                  11  0.894512\n",
      "11                 13  0.892923\n"
     ]
    }
   ],
   "source": [
    "# get the top 10 min_samples_split with the highest F1 scores\n",
    "df_split = pd.DataFrame({'min_samples_split': splits, 'F1 score': f1_lst_split})\n",
    "df_split = df_split.sort_values(by='F1 score', ascending=False)\n",
    "print(df_split.head(10))\n",
    "# 2, 3: suspecting overfitting"
   ]
  },
  {
   "cell_type": "code",
   "execution_count": 28,
   "id": "f02baf10-c1dd-4a72-a4d3-7b37e382bf7b",
   "metadata": {},
   "outputs": [
    {
     "name": "stdout",
     "output_type": "stream",
     "text": [
      "(array([], dtype=int64), array([], dtype=int64)) (array([], dtype=int64), array([], dtype=int64)) (array([], dtype=int64),) (array([], dtype=int64),)\n",
      "(array([], dtype=int64), array([], dtype=int64)) (array([], dtype=int64), array([], dtype=int64)) (array([], dtype=int64),) (array([], dtype=int64),)\n",
      "Fitting 5 folds for each of 100 candidates, totalling 500 fits\n",
      "best params:\n",
      " \n",
      "{'n_estimators': 100, 'min_samples_split': 5, 'min_samples_leaf': 2, 'max_features': 'auto', 'max_depth': 11}\n"
     ]
    }
   ],
   "source": [
    "# targeted training using GridSearch\n",
    "X_train, X_test, y_train, y_test = train_test_split(X, y, train_size=0.7, test_size=0.3, random_state=42, shuffle=True)\n",
    "\n",
    "# check if there is any nan/inf in X\n",
    "print(np.where(np.isnan(X_train)), np.where(np.isnan(X_test)), np.where(np.isnan(y_train)), np.where(np.isnan(y_test)))\n",
    "print(np.where(np.isinf(X_train)), np.where(np.isinf(X_test)), np.where(np.isinf(y_train)), np.where(np.isinf(y_test)))\n",
    "\n",
    "\n",
    "model_params = {'n_estimators': [130, 120, 140, 150, 310, 380, 110, 170, 100, 160],\n",
    "                'max_features': ['auto', 'sqrt', 'log2'],\n",
    "                'min_samples_split': [5, 7, 8, 4, 6, 9, 11, 13],\n",
    "                'min_samples_leaf': [2, 3, 4, 5, 6, 7, 8, 9, 10, 11],\n",
    "                'max_depth': [26, 15, 10, 11, 9, 16, 14, 12, 8, 13]} # try to constrain the max_depth in [5, 15] https://stats.stackexchange.com/questions/111968/random-forest-how-to-handle-overfitting\n",
    "\n",
    "# class_weight? like certain color ratios are more important than others?\n",
    "# oob_score = True\n",
    "\n",
    "clf = RandomForestClassifier(random_state=42)\n",
    "\n",
    "rf = RandomizedSearchCV(estimator=clf, param_distributions=model_params, n_iter=100, cv=5, scoring='f1_macro', refit= 'f1_macro', verbose=1, random_state=42, n_jobs=-1)\n",
    "\n",
    "rf.fit(X_train, y_train)\n",
    "\n",
    "print('best params:\\n ')\n",
    "print(rf.best_params_)"
   ]
  },
  {
   "cell_type": "code",
   "execution_count": 29,
   "id": "83a0f228-3efd-4779-8c67-4fa93c6f0a55",
   "metadata": {
    "collapsed": true,
    "jupyter": {
     "outputs_hidden": true
    },
    "tags": []
   },
   "outputs": [
    {
     "name": "stdout",
     "output_type": "stream",
     "text": [
      "best score: \n",
      " \n",
      "0.9387010971286539\n",
      "results:\n",
      " \n",
      "    mean_fit_time  std_fit_time  mean_score_time  std_score_time  \\\n",
      "0        1.337927      0.036522         0.072369        0.000830   \n",
      "1        1.611965      0.034512         0.086835        0.001167   \n",
      "2        0.587101      0.019491         0.032143        0.001074   \n",
      "3        0.551760      0.031568         0.032071        0.000919   \n",
      "4        1.611116      0.023206         0.089365        0.003203   \n",
      "..            ...           ...              ...             ...   \n",
      "95       0.470966      0.020594         0.023666        0.004372   \n",
      "96       0.417026      0.018625         0.023031        0.001010   \n",
      "97       0.397678      0.025072         0.018923        0.004407   \n",
      "98       0.381281      0.018353         0.014094        0.000882   \n",
      "99       0.342422      0.025797         0.014192        0.000233   \n",
      "\n",
      "   param_n_estimators param_min_samples_split param_min_samples_leaf  \\\n",
      "0                 310                       9                      7   \n",
      "1                 380                       4                      9   \n",
      "2                 130                      11                      2   \n",
      "3                 130                       4                      9   \n",
      "4                 380                       9                     11   \n",
      "..                ...                     ...                    ...   \n",
      "95                110                       6                      2   \n",
      "96                100                       6                      7   \n",
      "97                110                       9                      4   \n",
      "98                110                       5                      2   \n",
      "99                100                       5                      4   \n",
      "\n",
      "   param_max_features param_max_depth  \\\n",
      "0                log2              13   \n",
      "1                sqrt              14   \n",
      "2                sqrt              26   \n",
      "3                auto              10   \n",
      "4                log2               8   \n",
      "..                ...             ...   \n",
      "95               log2              12   \n",
      "96               log2              14   \n",
      "97               log2              14   \n",
      "98               sqrt              11   \n",
      "99               auto              15   \n",
      "\n",
      "                                               params  split0_test_score  \\\n",
      "0   {'n_estimators': 310, 'min_samples_split': 9, ...           0.925914   \n",
      "1   {'n_estimators': 380, 'min_samples_split': 4, ...           0.925914   \n",
      "2   {'n_estimators': 130, 'min_samples_split': 11,...           0.921820   \n",
      "3   {'n_estimators': 130, 'min_samples_split': 4, ...           0.925914   \n",
      "4   {'n_estimators': 380, 'min_samples_split': 9, ...           0.920739   \n",
      "..                                                ...                ...   \n",
      "95  {'n_estimators': 110, 'min_samples_split': 6, ...           0.936899   \n",
      "96  {'n_estimators': 100, 'min_samples_split': 6, ...           0.925914   \n",
      "97  {'n_estimators': 110, 'min_samples_split': 9, ...           0.925914   \n",
      "98  {'n_estimators': 110, 'min_samples_split': 5, ...           0.945187   \n",
      "99  {'n_estimators': 100, 'min_samples_split': 5, ...           0.936051   \n",
      "\n",
      "    split1_test_score  split2_test_score  split3_test_score  \\\n",
      "0            0.926916           0.920949           0.951381   \n",
      "1            0.926916           0.911029           0.942541   \n",
      "2            0.931941           0.930613           0.941791   \n",
      "3            0.926916           0.911029           0.950746   \n",
      "4            0.921820           0.911029           0.942541   \n",
      "..                ...                ...                ...   \n",
      "95           0.941791           0.944657           0.931941   \n",
      "96           0.926916           0.912165           0.946617   \n",
      "97           0.942541           0.929732           0.927885   \n",
      "98           0.946617           0.943973           0.931941   \n",
      "99           0.941791           0.925812           0.937720   \n",
      "\n",
      "    split4_test_score  mean_test_score  std_test_score  rank_test_score  \n",
      "0            0.892219         0.923476        0.018867               49  \n",
      "1            0.883597         0.917999        0.019883               90  \n",
      "2            0.912136         0.927660        0.010018               33  \n",
      "3            0.894563         0.921834        0.018648               61  \n",
      "4            0.887208         0.916667        0.017957               96  \n",
      "..                ...              ...             ...              ...  \n",
      "95           0.924836         0.936025        0.007076                5  \n",
      "96           0.890864         0.920495        0.018441               73  \n",
      "97           0.908325         0.926879        0.010951               36  \n",
      "98           0.925787         0.938701        0.008306                1  \n",
      "99           0.912136         0.930702        0.010672               16  \n",
      "\n",
      "[100 rows x 18 columns]\n",
      "Classification report (training): \n",
      "               precision    recall  f1-score   support\n",
      "\n",
      "           0       1.00      1.00      1.00      2063\n",
      "           1       1.00      0.98      0.99       336\n",
      "\n",
      "    accuracy                           1.00      2399\n",
      "   macro avg       1.00      0.99      0.99      2399\n",
      "weighted avg       1.00      1.00      1.00      2399\n",
      "\n",
      "Classification report (test): \n",
      "               precision    recall  f1-score   support\n",
      "\n",
      "           0       0.97      0.98      0.98       852\n",
      "           1       0.91      0.86      0.88       177\n",
      "\n",
      "    accuracy                           0.96      1029\n",
      "   macro avg       0.94      0.92      0.93      1029\n",
      "weighted avg       0.96      0.96      0.96      1029\n",
      "\n"
     ]
    }
   ],
   "source": [
    "print('best score: \\n ')\n",
    "print(rf.best_score_)\n",
    "\n",
    "print('results:\\n ')\n",
    "print(pd.DataFrame(rf.cv_results_))\n",
    "\n",
    "y_train_pred = rf.predict(X_train)\n",
    "y_pred = rf.predict(X_test)\n",
    "\n",
    "#classification report -> overfitting Y/N\n",
    "report_train = classification_report(y_train, y_train_pred)\n",
    "report_test = classification_report(y_test, y_pred)\n",
    "print(\"Classification report (training): \\n\", report_train)\n",
    "print(\"Classification report (test): \\n\", report_test)"
   ]
  },
  {
   "cell_type": "markdown",
   "id": "7c95e3e6-b93f-4536-b670-2f0aab4021a3",
   "metadata": {},
   "source": [
    "now we have the best_params:\n",
    "\n",
    "fixed -> {'n_estimators': 180, 'min_samples_split': 2, 'min_samples_leaf': 2, 'max_features': 'log2', 'max_depth': 10}\n",
    "\n",
    "{'n_estimators': 240, 'min_samples_split': 4, 'min_samples_leaf': 2, 'max_features': 'sqrt', 'max_depth': 12}\n",
    "\n",
    "After adding SVM determined features:\n",
    "{'n_estimators': 100, 'min_samples_split': 5, 'min_samples_leaf': 2, 'max_features': 'auto', 'max_depth': 11}"
   ]
  },
  {
   "cell_type": "markdown",
   "id": "17abca57-3529-4252-ace4-6f71188f0636",
   "metadata": {},
   "source": [
    "(dec > 15.0 and dec < 40.0 and dered_mag_z > 16.0 and dered_mag_z < 23.0 and g_r> 1.8 and shape_r < 1.0 and (dered_mag_g > 24.0 or dered_flux_g < 0.0) and snr_g < 3.0 and snr_w1 > 3.0\n",
    "                and mag_w1 != 'NaN' and mag_w2 != 'NaN' and mag_w1 != 'Infinity' and mag_w2 != 'Infinity' and mag_g != 'Infinity' and mag_r != 'Infinity')\n",
    "\n",
    "(dered_mag_z > 16.0 and dered_mag_z < 23.0 and mag_w1 != 'NaN' and mag_w2 != 'NaN' and g_r> 1.8\n",
    "               and mag_w1 != 'Infinity' and mag_w2 != 'Infinity' and mag_g != 'Infinity' and mag_r != 'Infinity' and shape_r < 1.0 and snr_g < 3.0\n",
    "               and snr_w1 > 3.0 and dered_mag_g > 24.0 or dered_flux_g < 0.0 and dec > -5.0 and dec < 5.0)"
   ]
  },
  {
   "cell_type": "markdown",
   "id": "39f82b4a-1d49-426c-83c8-46c386a1725e",
   "metadata": {},
   "source": [
    "# Prediction"
   ]
  },
  {
   "cell_type": "code",
   "execution_count": 37,
   "id": "74fb28da-6251-474e-af89-6f5567dbf4d5",
   "metadata": {},
   "outputs": [
    {
     "name": "stdout",
     "output_type": "stream",
     "text": [
      "EXECUTING\n",
      "EXECUTING\n",
      "EXECUTING\n",
      "EXECUTING\n",
      "EXECUTING\n",
      "EXECUTING\n",
      "EXECUTING\n",
      "EXECUTING\n",
      "EXECUTING\n",
      "EXECUTING\n",
      "EXECUTING\n",
      "EXECUTING\n",
      "EXECUTING\n",
      "EXECUTING\n",
      "EXECUTING\n",
      "EXECUTING\n",
      "EXECUTING\n",
      "EXECUTING\n",
      "EXECUTING\n",
      "EXECUTING\n",
      "EXECUTING\n",
      "EXECUTING\n",
      "EXECUTING\n",
      "EXECUTING\n",
      "EXECUTING\n",
      "EXECUTING\n",
      "EXECUTING\n",
      "EXECUTING\n",
      "EXECUTING\n",
      "EXECUTING\n",
      "EXECUTING\n",
      "EXECUTING\n",
      "EXECUTING\n",
      "EXECUTING\n",
      "EXECUTING\n",
      "EXECUTING\n",
      "EXECUTING\n",
      "EXECUTING\n",
      "EXECUTING\n",
      "EXECUTING\n",
      "EXECUTING\n",
      "EXECUTING\n",
      "EXECUTING\n",
      "EXECUTING\n",
      "EXECUTING\n",
      "EXECUTING\n",
      "EXECUTING\n",
      "EXECUTING\n",
      "EXECUTING\n",
      "EXECUTING\n",
      "EXECUTING\n",
      "EXECUTING\n",
      "EXECUTING\n",
      "EXECUTING\n",
      "EXECUTING\n",
      "EXECUTING\n",
      "EXECUTING\n",
      "EXECUTING\n",
      "EXECUTING\n",
      "EXECUTING\n",
      "EXECUTING\n",
      "EXECUTING\n",
      "EXECUTING\n",
      "EXECUTING\n",
      "EXECUTING\n",
      "EXECUTING\n",
      "EXECUTING\n",
      "EXECUTING\n",
      "EXECUTING\n",
      "EXECUTING\n",
      "EXECUTING\n",
      "EXECUTING\n",
      "EXECUTING\n",
      "COMPLETED\n",
      "error message  Error: list index out of range\n",
      "CPU times: user 3.2 s, sys: 1.08 s, total: 4.28 s\n",
      "Wall time: 5min 24s\n"
     ]
    }
   ],
   "source": [
    "%%time\n",
    "# restrict ra and dec: 330<ra<360, 15<dec<40\n",
    "aquery = \"\"\"\n",
    "        SELECT ra, dec, ls_id, flux_g, flux_r, flux_z, flux_w1, flux_w2, mag_g, mag_r, mag_z, mag_w1, mag_w2, g_r, snr_g, snr_r, snr_z, snr_w1, snr_w2\n",
    "        FROM   ls_dr9.tractor_n\n",
    "        WHERE  (dec > 15.0 and dec < 40.0 and ra > 210.0 and ra < 240.0 and dered_mag_z > 16.0 and dered_mag_z < 23.0 and g_r> 1.8 and shape_r < 1.0 and (dered_mag_g > 24.0 or dered_flux_g < 0.0) \n",
    "                and snr_g < 3.0 and snr_w1 > 3.0 and mag_w1 != 'NaN' and mag_w2 != 'NaN' and mag_w1 != 'Infinity' and mag_w2 != 'Infinity' and mag_g != 'Infinity' and mag_r != 'Infinity')\n",
    "        \"\"\"\n",
    "### ls_dr8.tractor is the main catalog combining both north and south\n",
    "\n",
    "### async mode returns jobid\n",
    "jobid = qc.query(token, sql=aquery, fmt='csv', async_=True, timeout=3600, out='vos://LS_DR9N_part2.csv')\n",
    "status = ''\n",
    "while (status != 'COMPLETED' and status != 'ERROR'):\n",
    "    status = qc.status(token,jobid)\n",
    "    print(status)\n",
    "    time.sleep(2)\n",
    "\n",
    "print ('error message ', qc.error(token,jobid)) \n",
    "\n",
    "response=qc.results(token,jobid)\n",
    "#df = qc.query(sql=aquery, fmt='pandas')\n",
    "res = qc.query(sql=aquery, fmt='csv', out='vos://my_file_rf_flux.csv')"
   ]
  },
  {
   "cell_type": "markdown",
   "id": "cb3a204e-23d4-44cc-b72a-54771aa26383",
   "metadata": {},
   "source": [
    "keep_added_cols = ['g-r', 'g-z', 'g-w1', 'r-z', 'r-w1', 'r-w2']\n",
    "\n",
    "add signal-to-noise ratio: snr_g   Signal-to-Noise ratio in g"
   ]
  },
  {
   "cell_type": "code",
   "execution_count": 38,
   "id": "9c138849-b56c-4b39-8e99-2a68b5e6ed3e",
   "metadata": {
    "tags": []
   },
   "outputs": [
    {
     "name": "stdout",
     "output_type": "stream",
     "text": [
      "570180\n",
      "Before modification: \n",
      "            ra        dec             ls_id    flux_g    flux_r    flux_z  \\\n",
      "0  236.998649  39.989934  9907734910992898  0.038913  0.810338  3.265740   \n",
      "1  236.931743  39.996128  9907734910930646  0.033196  0.332644  5.169561   \n",
      "2  236.928356  39.997470  9907734910930611  0.105973  0.566404  2.459088   \n",
      "3  236.929452  39.975666  9907734910930625  0.126606  0.700310  1.816079   \n",
      "4  236.932113  39.994171  9907734910930649  0.002885  0.274474  2.320690   \n",
      "\n",
      "     flux_w1   flux_w2      mag_g      mag_r      mag_z     mag_w1     mag_w2  \\\n",
      "0  14.752074  8.000422  26.024767  22.728334  21.215046  19.577868  20.242218   \n",
      "1   4.726945  3.149611  26.197275  23.695051  20.716366  20.813549  21.254358   \n",
      "2   1.687021  1.908822  24.937008  23.117184  21.523066  21.932200  21.798086   \n",
      "3   6.071838  4.616308  24.743868  22.886774  21.852163  20.541700  20.839264   \n",
      "4  10.185863  6.103012  28.849516  23.903748  21.585957  19.980005  20.536140   \n",
      "\n",
      "        g_r     snr_g     snr_r      snr_z     snr_w1    snr_w2  \n",
      "0  3.296432  0.628076  8.773003  34.296894  27.211966  8.643731  \n",
      "1  2.502224  0.670083  3.632156  50.640087  11.301957  3.900775  \n",
      "2  1.819824  2.132136  6.115084  25.077795   4.113348  2.372053  \n",
      "3  1.857094  2.893340  8.162531  13.142480  14.239944  5.616816  \n",
      "4  4.945768  0.056408  2.891031  21.510197  23.360252  7.449168  \n",
      "Index(['ra', 'dec', 'ls_id', 'flux_g', 'flux_r', 'flux_z', 'flux_w1',\n",
      "       'flux_w2', 'mag_g', 'mag_r', 'mag_z', 'mag_w1', 'mag_w2', 'g_r',\n",
      "       'snr_g', 'snr_r', 'snr_z', 'snr_w1', 'snr_w2', 'g-r', 'g-z', 'g-w1',\n",
      "       'r-z', 'r-w1', 'r-w2'],\n",
      "      dtype='object')\n",
      "After modificaiton: \n",
      "            ra        dec             ls_id    flux_g    flux_r    flux_z  \\\n",
      "0  236.998649  39.989934  9907734910992898  0.038913  0.810338  3.265740   \n",
      "1  236.931743  39.996128  9907734910930646  0.033196  0.332644  5.169561   \n",
      "2  236.928356  39.997470  9907734910930611  0.105973  0.566404  2.459088   \n",
      "3  236.929452  39.975666  9907734910930625  0.126606  0.700310  1.816079   \n",
      "4  236.932113  39.994171  9907734910930649  0.002885  0.274474  2.320690   \n",
      "\n",
      "     flux_w1   flux_w2      mag_g      mag_r  ...     snr_r      snr_z  \\\n",
      "0  14.752074  8.000422  26.024767  22.728334  ...  8.773003  34.296894   \n",
      "1   4.726945  3.149611  26.197275  23.695051  ...  3.632156  50.640087   \n",
      "2   1.687021  1.908822  24.937008  23.117184  ...  6.115084  25.077795   \n",
      "3   6.071838  4.616308  24.743868  22.886774  ...  8.162531  13.142480   \n",
      "4  10.185863  6.103012  28.849516  23.903748  ...  2.891031  21.510197   \n",
      "\n",
      "      snr_w1    snr_w2       g-r       g-z       g-w1       r-z       r-w1  \\\n",
      "0  27.211966  8.643731 -0.771425 -3.226827 -14.713161 -2.455402 -13.941736   \n",
      "1  11.301957  3.900775 -0.299448 -5.136365  -4.693749 -4.836917  -4.394301   \n",
      "2   4.113348  2.372053 -0.460431 -2.353115  -1.581048 -1.892684  -1.120617   \n",
      "3  14.239944  5.616816 -0.573704 -1.689473  -5.945232 -1.115769  -5.371528   \n",
      "4  23.360252  7.449168 -0.271589 -2.317805 -10.182978 -2.046216  -9.911389   \n",
      "\n",
      "       r-w2  \n",
      "0 -7.190084  \n",
      "1 -2.816967  \n",
      "2 -1.342418  \n",
      "3 -3.915998  \n",
      "4 -5.828538  \n",
      "\n",
      "[5 rows x 25 columns]\n",
      "570180\n"
     ]
    }
   ],
   "source": [
    "data = sc.get('vos://my_file_rf_flux.csv') \n",
    "data = convert(data)\n",
    "print(len(data))\n",
    "print('Before modification: \\n', data.head())\n",
    "data = data.replace([np.inf, -np.inf], np.nan)\n",
    "#data = data.dropna(axis='index').reset_index(drop=True)\n",
    "columns = ['flux_g', 'flux_r', 'flux_w1', 'flux_w2', 'flux_z', 'mag_g', 'mag_r', 'mag_z', 'mag_w1', 'mag_w2', 'g_r', 'snr_g', 'snr_r', 'snr_z', 'snr_w1', 'snr_w2']\n",
    "data_replace = {}\n",
    "for col in columns:\n",
    "    data[col] = data[col].replace([np.nan], round(data[col].mean(), 6))\n",
    "    data_replace[col] = round(data[col].mean(), 6)\n",
    "\n",
    "snr = data[['snr_g', 'snr_r', 'snr_z', 'snr_w1', 'snr_w2']]\n",
    "mag = data[['mag_g', 'mag_r', 'mag_z', 'mag_w1', 'mag_w2', 'g_r']]\n",
    "# data = data.drop(columns=['snr_g', 'snr_r', 'snr_z', 'snr_w1', 'snr_w2', 'mag_g', 'mag_r', 'mag_z', 'mag_w1', 'mag_w2', 'g_r'], axis=1)\n",
    "\n",
    "#snr = data[['snr_g', 'snr_r', 'snr_z', 'snr_w1', 'snr_w2']]\n",
    "#data = data.drop(columns=['snr_g', 'snr_r', 'snr_z', 'snr_w1', 'snr_w2'], axis=1)\n",
    "\n",
    "data['g-r'] = data['flux_g'] - data['flux_r']\n",
    "data['g-z'] = data['flux_g'] - data['flux_z']\n",
    "data['g-w1'] = data['flux_g'] - data['flux_w1']\n",
    "data['r-z'] = data['flux_r'] - data['flux_z']\n",
    "data['r-w1'] = data['flux_r'] - data['flux_w1']\n",
    "data['r-w2'] = data['flux_r'] - data['flux_w2']\n",
    "\n",
    "\n",
    "print(data.columns)\n",
    "#print(len(data))\n",
    "print('After modificaiton: \\n', data.head())\n",
    "print(len(data))\n",
    "# print(type(data['mag_r'][0]))"
   ]
  },
  {
   "cell_type": "code",
   "execution_count": 39,
   "id": "24328e80-a006-4e1a-9d36-dce90f65ae70",
   "metadata": {},
   "outputs": [
    {
     "name": "stdout",
     "output_type": "stream",
     "text": [
      "The replacement values: \n",
      " {'flux_g': -0.231063, 'flux_r': 0.541785, 'flux_w1': 16.620217, 'flux_w2': 114.690188, 'flux_z': 1.919387, 'mag_g': 26.132695, 'mag_r': 23.827642, 'mag_z': 22.026713, 'mag_w1': 20.408007, 'mag_w2': 20.930978, 'g_r': 2.542303, 'snr_g': 0.657045, 'snr_r': 4.538273, 'snr_z': 17.790373, 'snr_w1': 18.61086, 'snr_w2': 6.960281}\n",
      "(array([], dtype=int64), array([], dtype=int64))\n"
     ]
    }
   ],
   "source": [
    "print('The replacement values: \\n', data_replace)\n",
    "print(np.where(np.isinf(data)))"
   ]
  },
  {
   "cell_type": "code",
   "execution_count": 58,
   "id": "02d82660-1a11-41c3-9f42-92b262378aba",
   "metadata": {},
   "outputs": [
    {
     "name": "stdout",
     "output_type": "stream",
     "text": [
      "           ra        dec             ls_id    flux_g    flux_r    flux_z  \\\n",
      "0  236.998649  39.989934  9907734910992898  0.038913  0.810338  3.265740   \n",
      "1  236.931743  39.996128  9907734910930646  0.033196  0.332644  5.169561   \n",
      "2  236.928356  39.997470  9907734910930611  0.105973  0.566404  2.459088   \n",
      "3  236.929452  39.975666  9907734910930625  0.126606  0.700310  1.816079   \n",
      "4  236.932113  39.994171  9907734910930649  0.002885  0.274474  2.320690   \n",
      "\n",
      "     flux_w1   flux_w2      mag_g      mag_r  ...     snr_r      snr_z  \\\n",
      "0  14.752074  8.000422  26.024767  22.728334  ...  8.773003  34.296894   \n",
      "1   4.726945  3.149611  26.197275  23.695051  ...  3.632156  50.640087   \n",
      "2   1.687021  1.908822  24.937008  23.117184  ...  6.115084  25.077795   \n",
      "3   6.071838  4.616308  24.743868  22.886774  ...  8.162531  13.142480   \n",
      "4  10.185863  6.103012  28.849516  23.903748  ...  2.891031  21.510197   \n",
      "\n",
      "      snr_w1    snr_w2       g-r       g-z       g-w1       r-z       r-w1  \\\n",
      "0  27.211966  8.643731 -0.771425 -3.226827 -14.713161 -2.455402 -13.941736   \n",
      "1  11.301957  3.900775 -0.299448 -5.136365  -4.693749 -4.836917  -4.394301   \n",
      "2   4.113348  2.372053 -0.460431 -2.353115  -1.581048 -1.892684  -1.120617   \n",
      "3  14.239944  5.616816 -0.573704 -1.689473  -5.945232 -1.115769  -5.371528   \n",
      "4  23.360252  7.449168 -0.271589 -2.317805 -10.182978 -2.046216  -9.911389   \n",
      "\n",
      "       r-w2  \n",
      "0 -7.190084  \n",
      "1 -2.816967  \n",
      "2 -1.342418  \n",
      "3 -3.915998  \n",
      "4 -5.828538  \n",
      "\n",
      "[5 rows x 25 columns]\n"
     ]
    }
   ],
   "source": [
    "df = data.copy(deep=True)\n",
    "print(df.head())"
   ]
  },
  {
   "cell_type": "markdown",
   "id": "9de91940-2001-476f-9117-156b5dcbff21",
   "metadata": {},
   "source": [
    "## apply filters to unknown data"
   ]
  },
  {
   "cell_type": "markdown",
   "id": "f8fae9c0-c211-4bf8-ab85-a5d19bcc4b25",
   "metadata": {},
   "source": [
    "signal-to-noise ratio filter"
   ]
  },
  {
   "cell_type": "code",
   "execution_count": 59,
   "id": "4e763f65-5d76-40ae-8d8a-d17611712cc4",
   "metadata": {},
   "outputs": [
    {
     "name": "stdout",
     "output_type": "stream",
     "text": [
      "330117\n",
      "              ls_id    flux_g    flux_r    flux_z    flux_w1   flux_w2  \\\n",
      "1  9907734910930646  0.033196  0.332644  5.169561   4.726945  3.149611   \n",
      "4  9907734910930649  0.002885  0.274474  2.320690  10.185863  6.103012   \n",
      "5  9907734910929875 -0.027191  0.341905  1.766481   5.084484  5.472089   \n",
      "6  9907734910930320  0.031633  0.309972  1.868744   7.606565  6.045792   \n",
      "8  9907734910930064  0.017675  0.176046  0.804787   6.797914  7.535524   \n",
      "\n",
      "        g-r       g-z       g-w1       r-z      r-w1      r-w2  \n",
      "1 -0.299448 -5.136365  -4.693749 -4.836917 -4.394301 -2.816967  \n",
      "4 -0.271589 -2.317805 -10.182978 -2.046216 -9.911389 -5.828538  \n",
      "5 -0.369096 -1.793672  -5.111675 -1.424576 -4.742579 -5.130184  \n",
      "6 -0.278339 -1.837111  -7.574932 -1.558772 -7.296593 -5.735820  \n",
      "8 -0.158371 -0.787112  -6.780239 -0.628741 -6.621868 -7.359478  \n"
     ]
    }
   ],
   "source": [
    "# S/N(g) < 3.\n",
    "df = df[df['snr_g'] < 3.0]\n",
    "\n",
    "# S/N(r) < 5.\n",
    "df = df[df['snr_r'] < 5.0]\n",
    "\n",
    "#S/N(w1) > 5\n",
    "df = df[df['snr_w1'] > 5.0]\n",
    "\n",
    "print(len(df))\n",
    "df = df.drop(columns=['ra', 'dec', 'mag_g', 'mag_r', 'mag_z', 'mag_w1', 'mag_w2', 'snr_g', 'snr_r', 'snr_z', 'snr_w1', 'snr_w2', 'g_r'], axis=1)\n",
    "print(df.head())"
   ]
  },
  {
   "cell_type": "code",
   "execution_count": 60,
   "id": "5d0c5905-03f1-41f9-8385-ffeb95b543e6",
   "metadata": {},
   "outputs": [
    {
     "name": "stdout",
     "output_type": "stream",
     "text": [
      "     flux_g    flux_r    flux_z    flux_w1   flux_w2       g-r       g-z  \\\n",
      "1  0.033196  0.332644  5.169561   4.726945  3.149611 -0.299448 -5.136365   \n",
      "4  0.002885  0.274474  2.320690  10.185863  6.103012 -0.271589 -2.317805   \n",
      "5 -0.027191  0.341905  1.766481   5.084484  5.472089 -0.369096 -1.793672   \n",
      "6  0.031633  0.309972  1.868744   7.606565  6.045792 -0.278339 -1.837111   \n",
      "8  0.017675  0.176046  0.804787   6.797914  7.535524 -0.158371 -0.787112   \n",
      "\n",
      "        g-w1       r-z      r-w1      r-w2  \n",
      "1  -4.693749 -4.836917 -4.394301 -2.816967  \n",
      "4 -10.182978 -2.046216 -9.911389 -5.828538  \n",
      "5  -5.111675 -1.424576 -4.742579 -5.130184  \n",
      "6  -7.574932 -1.558772 -7.296593 -5.735820  \n",
      "8  -6.780239 -0.628741 -6.621868 -7.359478   \n",
      " 330117\n",
      "(array([], dtype=int64), array([], dtype=int64)) (array([], dtype=int64), array([], dtype=int64))\n"
     ]
    }
   ],
   "source": [
    "# remove dtype=float\n",
    "# X_data = pd.DataFrame({'ls_id': ls_id, 'mag_g': mag_g, 'mag_r': mag_r, 'mag_z': mag_z, 'mag_w1': mag_w1, 'mag_w2': mag_w2})\n",
    "#X_new = X_data[['mag_g', 'mag_r', 'mag_z', 'mag_w1', 'mag_w2']]\n",
    "if 'label' in df.columns:\n",
    "    df = df.drop(columns=['label'])\n",
    "X_new = df.drop(columns=['ls_id'])\n",
    "print(X_new.head(), '\\n', len(X_new))\n",
    "X_new = X_new.to_numpy()\n",
    "#print(X_new[5, ])\n",
    "print(np.where(np.isinf(X_new)), np.where(np.isnan(X_new)))"
   ]
  },
  {
   "cell_type": "code",
   "execution_count": 61,
   "id": "74ccb69f-e30b-4b4c-ab1f-a3dbfd782d02",
   "metadata": {},
   "outputs": [
    {
     "name": "stdout",
     "output_type": "stream",
     "text": [
      "(array([], dtype=int64), array([], dtype=int64)) (array([], dtype=int64), array([], dtype=int64))\n"
     ]
    }
   ],
   "source": [
    "# Check if there is still nan/inf\n",
    "print(np.where(np.isnan(X_new)), np.where(np.isinf(X_new)))"
   ]
  },
  {
   "cell_type": "code",
   "execution_count": 62,
   "id": "ab5db9ea-5078-473c-89e4-a3ae7beb094e",
   "metadata": {},
   "outputs": [],
   "source": [
    "clf_flux = RandomForestClassifier(n_estimators=100, min_samples_split=5, min_samples_leaf=2, max_features='auto', max_depth=11)"
   ]
  },
  {
   "cell_type": "code",
   "execution_count": 63,
   "id": "3fa3532a-ad16-4979-afed-6cac37bf71e6",
   "metadata": {},
   "outputs": [
    {
     "name": "stdout",
     "output_type": "stream",
     "text": [
      "134650\n",
      "1     9907734910930646\n",
      "4     9907734910930649\n",
      "9     9907734910929927\n",
      "10    9907734910929840\n",
      "15    9907734910929409\n",
      "Name: ls_id, dtype: int64\n",
      "               ls_id    flux_g    flux_r    flux_z    flux_w1   flux_w2  \\\n",
      "1   9907734910930646  0.033196  0.332644  5.169561   4.726945  3.149611   \n",
      "4   9907734910930649  0.002885  0.274474  2.320690  10.185863  6.103012   \n",
      "9   9907734910929927  0.004552  0.093586  0.935963   4.246901  2.509134   \n",
      "10  9907734910929840  0.051178  0.285539  0.793587   3.942533  0.388740   \n",
      "15  9907734910929409  0.005286  0.152944  0.805419   3.199718  0.668292   \n",
      "\n",
      "         g-r       g-z       g-w1       r-z      r-w1      r-w2  label  \n",
      "1  -0.299448 -5.136365  -4.693749 -4.836917 -4.394301 -2.816967      1  \n",
      "4  -0.271589 -2.317805 -10.182978 -2.046216 -9.911389 -5.828538      1  \n",
      "9  -0.089034 -0.931411  -4.242349 -0.842377 -4.153315 -2.415548      1  \n",
      "10 -0.234361 -0.742409  -3.891355 -0.508048 -3.656994 -0.103201      1  \n",
      "15 -0.147658 -0.800133  -3.194432 -0.652475 -3.046774 -0.515348      1   134650\n",
      "1     9907734910930646\n",
      "4     9907734910930649\n",
      "9     9907734910929927\n",
      "10    9907734910929840\n",
      "15    9907734910929409\n",
      "Name: ls_id, dtype: int64\n",
      "134650\n"
     ]
    }
   ],
   "source": [
    "clf_flux.fit(X_train, y_train) # X, y from training sample\n",
    "# predict the unknown data retrieved from ls\n",
    "y_new = clf_flux.predict(X_new) \n",
    "\n",
    "results = df.loc[y_new == 1, 'ls_id']\n",
    "\n",
    "print(len(results))\n",
    "print(results.head())\n",
    "\n",
    "# get the ls_id corresponding to the predicted results\n",
    "df['label'] = y_new\n",
    "\n",
    "# predict a 2nd round\n",
    "X_second = df[df['label'] == 1]\n",
    "#print(X_second.head())\n",
    "\n",
    "y_second = clf_flux.predict(X_second.drop(columns=['label', 'ls_id']).to_numpy())\n",
    "df = X_second\n",
    "\n",
    "results = df.loc[y_second == 1, 'ls_id']\n",
    "print(df.head(), len(df))\n",
    "print(results.head())\n",
    "\n",
    "print(len(results))"
   ]
  },
  {
   "cell_type": "markdown",
   "id": "9d0e7de7-2416-4515-b75d-4d20a5792e01",
   "metadata": {
    "tags": []
   },
   "source": [
    "## KNN flux filters"
   ]
  },
  {
   "cell_type": "markdown",
   "id": "63492c7b-e44c-45be-ac78-050f5b0baf1b",
   "metadata": {},
   "source": [
    "g-r VS r-w2\n",
    "\n",
    "g-z VS r-w1\n",
    "\n",
    "r-z VS g-w1\n",
    "\n",
    "g-r VS r-z"
   ]
  },
  {
   "cell_type": "code",
   "execution_count": 64,
   "id": "e0c5b36d-5488-4e77-a012-c4eb9f23f269",
   "metadata": {},
   "outputs": [
    {
     "name": "stdout",
     "output_type": "stream",
     "text": [
      "99012\n"
     ]
    },
    {
     "name": "stderr",
     "output_type": "stream",
     "text": [
      "/data0/sw/antares-kernel-0.4/lib/python3.7/site-packages/ipykernel_launcher.py:9: SettingWithCopyWarning: \n",
      "A value is trying to be set on a copy of a slice from a DataFrame.\n",
      "Try using .loc[row_indexer,col_indexer] = value instead\n",
      "\n",
      "See the caveats in the documentation: https://pandas.pydata.org/pandas-docs/stable/user_guide/indexing.html#returning-a-view-versus-a-copy\n",
      "  if __name__ == '__main__':\n"
     ]
    },
    {
     "name": "stdout",
     "output_type": "stream",
     "text": [
      "11787\n",
      "6336\n",
      "2151\n"
     ]
    }
   ],
   "source": [
    "# g-r VS r-w2\n",
    "labels = filter1.predict(np.array([df['r-w2'], df['g-r']]).transpose())\n",
    "df['label'] = labels\n",
    "df = df[df['label'] == 1]\n",
    "print(len(df))\n",
    "\n",
    "# g-z VS r-w1\n",
    "labels = filter2.predict(np.array([df['r-w1'], df['g-z']]).transpose())\n",
    "df['label'] = labels\n",
    "df = df[df['label'] == 1]\n",
    "print(len(df))\n",
    "\n",
    "# r-z VS g-w1\n",
    "labels = filter3.predict(np.array([df['flux_g']-df['flux_w1'], df['r-z']]).transpose())\n",
    "df['label'] = labels\n",
    "df = df[df['label'] == 1]\n",
    "labels = df['label']\n",
    "print(len(df))\n",
    "\n",
    "# g-r VS r-z, similr to r-w2\n",
    "labels = filter4.predict(np.array([df['r-z'], df['g-r']]).transpose())\n",
    "df['label'] = labels\n",
    "df = df[df['label'] == 1]\n",
    "print(len(df))"
   ]
  },
  {
   "cell_type": "markdown",
   "id": "0d26b669-0cb4-418e-8b52-174020c5bc41",
   "metadata": {
    "tags": []
   },
   "source": [
    "color filters"
   ]
  },
  {
   "cell_type": "markdown",
   "id": "f6fef011-7d86-43da-ad93-a8cc2b2e2c58",
   "metadata": {
    "tags": []
   },
   "source": [
    "roughly g-r:>2, g-z:>4, r-w1: 1.8-3, r-w2:1.7-3.2, z-w1, z-w2: 0-1"
   ]
  },
  {
   "cell_type": "markdown",
   "id": "a8e50cd5-f280-4845-aadb-298544824dca",
   "metadata": {
    "tags": []
   },
   "source": [
    "### add magnitude back to apply the filters"
   ]
  },
  {
   "cell_type": "code",
   "execution_count": 37,
   "id": "36112728-581f-4186-bf33-edd5539e0ef6",
   "metadata": {
    "collapsed": true,
    "jupyter": {
     "outputs_hidden": true
    },
    "tags": []
   },
   "outputs": [
    {
     "name": "stderr",
     "output_type": "stream",
     "text": [
      "/data0/sw/antares-kernel-0.4/lib/python3.7/site-packages/ipykernel_launcher.py:1: UserWarning: Boolean Series key will be reindexed to match DataFrame index.\n",
      "  \"\"\"Entry point for launching an IPython kernel.\n"
     ]
    },
    {
     "ename": "IndexingError",
     "evalue": "Unalignable boolean Series provided as indexer (index of the boolean Series and of the indexed object do not match).",
     "output_type": "error",
     "traceback": [
      "\u001b[0;31m---------------------------------------------------------------------------\u001b[0m",
      "\u001b[0;31mIndexingError\u001b[0m                             Traceback (most recent call last)",
      "\u001b[0;32m<ipython-input-45-b30fa9141516>\u001b[0m in \u001b[0;36m<module>\u001b[0;34m\u001b[0m\n\u001b[0;32m----> 1\u001b[0;31m \u001b[0mdf\u001b[0m \u001b[0;34m=\u001b[0m \u001b[0mdata\u001b[0m\u001b[0;34m[\u001b[0m\u001b[0mdf\u001b[0m\u001b[0;34m[\u001b[0m\u001b[0;34m'ls_id'\u001b[0m\u001b[0;34m]\u001b[0m\u001b[0;34m.\u001b[0m\u001b[0misin\u001b[0m\u001b[0;34m(\u001b[0m\u001b[0mdata\u001b[0m\u001b[0;34m)\u001b[0m\u001b[0;34m]\u001b[0m\u001b[0;34m\u001b[0m\u001b[0;34m\u001b[0m\u001b[0m\n\u001b[0m\u001b[1;32m      2\u001b[0m \u001b[0mprint\u001b[0m\u001b[0;34m(\u001b[0m\u001b[0mdf\u001b[0m\u001b[0;34m.\u001b[0m\u001b[0mhead\u001b[0m\u001b[0;34m(\u001b[0m\u001b[0;34m)\u001b[0m\u001b[0;34m)\u001b[0m\u001b[0;34m\u001b[0m\u001b[0;34m\u001b[0m\u001b[0m\n\u001b[1;32m      3\u001b[0m \u001b[0mprint\u001b[0m\u001b[0;34m(\u001b[0m\u001b[0mlen\u001b[0m\u001b[0;34m(\u001b[0m\u001b[0mdf\u001b[0m\u001b[0;34m)\u001b[0m\u001b[0;34m)\u001b[0m\u001b[0;34m\u001b[0m\u001b[0;34m\u001b[0m\u001b[0m\n",
      "\u001b[0;32m/home/jail/dlusers/jlmaurora/.local/lib/python3.7/site-packages/pandas/core/frame.py\u001b[0m in \u001b[0;36m__getitem__\u001b[0;34m(self, key)\u001b[0m\n\u001b[1;32m   3447\u001b[0m         \u001b[0;31m# Do we have a (boolean) 1d indexer?\u001b[0m\u001b[0;34m\u001b[0m\u001b[0;34m\u001b[0m\u001b[0;34m\u001b[0m\u001b[0m\n\u001b[1;32m   3448\u001b[0m         \u001b[0;32mif\u001b[0m \u001b[0mcom\u001b[0m\u001b[0;34m.\u001b[0m\u001b[0mis_bool_indexer\u001b[0m\u001b[0;34m(\u001b[0m\u001b[0mkey\u001b[0m\u001b[0;34m)\u001b[0m\u001b[0;34m:\u001b[0m\u001b[0;34m\u001b[0m\u001b[0;34m\u001b[0m\u001b[0m\n\u001b[0;32m-> 3449\u001b[0;31m             \u001b[0;32mreturn\u001b[0m \u001b[0mself\u001b[0m\u001b[0;34m.\u001b[0m\u001b[0m_getitem_bool_array\u001b[0m\u001b[0;34m(\u001b[0m\u001b[0mkey\u001b[0m\u001b[0;34m)\u001b[0m\u001b[0;34m\u001b[0m\u001b[0;34m\u001b[0m\u001b[0m\n\u001b[0m\u001b[1;32m   3450\u001b[0m \u001b[0;34m\u001b[0m\u001b[0m\n\u001b[1;32m   3451\u001b[0m         \u001b[0;31m# We are left with two options: a single key, and a collection of keys,\u001b[0m\u001b[0;34m\u001b[0m\u001b[0;34m\u001b[0m\u001b[0;34m\u001b[0m\u001b[0m\n",
      "\u001b[0;32m/home/jail/dlusers/jlmaurora/.local/lib/python3.7/site-packages/pandas/core/frame.py\u001b[0m in \u001b[0;36m_getitem_bool_array\u001b[0;34m(self, key)\u001b[0m\n\u001b[1;32m   3500\u001b[0m         \u001b[0;31m# check_bool_indexer will throw exception if Series key cannot\u001b[0m\u001b[0;34m\u001b[0m\u001b[0;34m\u001b[0m\u001b[0;34m\u001b[0m\u001b[0m\n\u001b[1;32m   3501\u001b[0m         \u001b[0;31m# be reindexed to match DataFrame rows\u001b[0m\u001b[0;34m\u001b[0m\u001b[0;34m\u001b[0m\u001b[0;34m\u001b[0m\u001b[0m\n\u001b[0;32m-> 3502\u001b[0;31m         \u001b[0mkey\u001b[0m \u001b[0;34m=\u001b[0m \u001b[0mcheck_bool_indexer\u001b[0m\u001b[0;34m(\u001b[0m\u001b[0mself\u001b[0m\u001b[0;34m.\u001b[0m\u001b[0mindex\u001b[0m\u001b[0;34m,\u001b[0m \u001b[0mkey\u001b[0m\u001b[0;34m)\u001b[0m\u001b[0;34m\u001b[0m\u001b[0;34m\u001b[0m\u001b[0m\n\u001b[0m\u001b[1;32m   3503\u001b[0m         \u001b[0mindexer\u001b[0m \u001b[0;34m=\u001b[0m \u001b[0mkey\u001b[0m\u001b[0;34m.\u001b[0m\u001b[0mnonzero\u001b[0m\u001b[0;34m(\u001b[0m\u001b[0;34m)\u001b[0m\u001b[0;34m[\u001b[0m\u001b[0;36m0\u001b[0m\u001b[0;34m]\u001b[0m\u001b[0;34m\u001b[0m\u001b[0;34m\u001b[0m\u001b[0m\n\u001b[1;32m   3504\u001b[0m         \u001b[0;32mreturn\u001b[0m \u001b[0mself\u001b[0m\u001b[0;34m.\u001b[0m\u001b[0m_take_with_is_copy\u001b[0m\u001b[0;34m(\u001b[0m\u001b[0mindexer\u001b[0m\u001b[0;34m,\u001b[0m \u001b[0maxis\u001b[0m\u001b[0;34m=\u001b[0m\u001b[0;36m0\u001b[0m\u001b[0;34m)\u001b[0m\u001b[0;34m\u001b[0m\u001b[0;34m\u001b[0m\u001b[0m\n",
      "\u001b[0;32m/home/jail/dlusers/jlmaurora/.local/lib/python3.7/site-packages/pandas/core/indexing.py\u001b[0m in \u001b[0;36mcheck_bool_indexer\u001b[0;34m(index, key)\u001b[0m\n\u001b[1;32m   2387\u001b[0m         \u001b[0;32mif\u001b[0m \u001b[0mmask\u001b[0m\u001b[0;34m.\u001b[0m\u001b[0many\u001b[0m\u001b[0;34m(\u001b[0m\u001b[0;34m)\u001b[0m\u001b[0;34m:\u001b[0m\u001b[0;34m\u001b[0m\u001b[0;34m\u001b[0m\u001b[0m\n\u001b[1;32m   2388\u001b[0m             raise IndexingError(\n\u001b[0;32m-> 2389\u001b[0;31m                 \u001b[0;34m\"Unalignable boolean Series provided as \"\u001b[0m\u001b[0;34m\u001b[0m\u001b[0;34m\u001b[0m\u001b[0m\n\u001b[0m\u001b[1;32m   2390\u001b[0m                 \u001b[0;34m\"indexer (index of the boolean Series and of \"\u001b[0m\u001b[0;34m\u001b[0m\u001b[0;34m\u001b[0m\u001b[0m\n\u001b[1;32m   2391\u001b[0m                 \u001b[0;34m\"the indexed object do not match).\"\u001b[0m\u001b[0;34m\u001b[0m\u001b[0;34m\u001b[0m\u001b[0m\n",
      "\u001b[0;31mIndexingError\u001b[0m: Unalignable boolean Series provided as indexer (index of the boolean Series and of the indexed object do not match)."
     ]
    }
   ],
   "source": [
    "df = data[data['ls_id'].isin(results)]\n",
    "#print(type(results))\n",
    "labels = X_second['label'].tolist()\n",
    "df['label'] = labels\n",
    "print(df.head())\n",
    "print(len(df))"
   ]
  },
  {
   "cell_type": "code",
   "execution_count": 33,
   "id": "0f273370-73ae-45a0-8154-3fdcd92a723b",
   "metadata": {
    "collapsed": true,
    "jupyter": {
     "outputs_hidden": true
    },
    "tags": []
   },
   "outputs": [
    {
     "name": "stdout",
     "output_type": "stream",
     "text": [
      "23549\n",
      "5592\n",
      "3894\n",
      "1045\n",
      "657\n"
     ]
    }
   ],
   "source": [
    "df = df[(df['mag_g'] - df['mag_z']) > 4.]\n",
    "print(len(df))\n",
    "\n",
    "df = df[(df['mag_r'] - df['mag_w1']) > 1.8]\n",
    "df = df[(df['mag_r'] - df['mag_w1']) < 3.0]\n",
    "print(len(df))\n",
    "\n",
    "df = df[(df['mag_r'] - df['mag_w2']) > 1.7]\n",
    "df = df[(df['mag_r'] - df['mag_w1']) < 3.2]\n",
    "print(len(df))\n",
    "\n",
    "df = df[(df['mag_z'] - df['mag_w1']) > 0.]\n",
    "df = df[(df['mag_z'] - df['mag_w1']) < 1.]\n",
    "print(len(df))\n",
    "\n",
    "df = df[(df['mag_z'] - df['mag_w2']) > 0.]\n",
    "df = df[(df['mag_z'] - df['mag_w2']) < 1.]\n",
    "print(len(df))"
   ]
  },
  {
   "cell_type": "code",
   "execution_count": 65,
   "id": "963e33fe-7cfd-4b1c-8ea1-c9dbf11599c8",
   "metadata": {
    "tags": []
   },
   "outputs": [
    {
     "name": "stdout",
     "output_type": "stream",
     "text": [
      "             ra        dec             ls_id    flux_g    flux_r    flux_z  \\\n",
      "1    236.931743  39.996128  9907734910930646  0.033196  0.332644  5.169561   \n",
      "211  236.272035  39.937320  9907734910799554  0.021132  0.303773  2.681970   \n",
      "234  236.210692  39.951349  9907734910798747  0.032903  0.359839  3.308487   \n",
      "351  236.085604  39.771788  9907734838185818  0.005412  0.300857  4.882315   \n",
      "474  235.885855  39.929120  9907734910732995  0.035322  0.360024  3.532602   \n",
      "\n",
      "      flux_w1   flux_w2      mag_g      mag_r  ...      snr_z     snr_w1  \\\n",
      "1    4.726945  3.149611  26.197275  23.695051  ...  50.640087  11.301957   \n",
      "211  2.517809  0.556828  26.687664  23.793627  ...  36.918060   6.043969   \n",
      "234  2.627269  2.285292  26.206923  23.609730  ...  45.598312   6.406215   \n",
      "351  5.100372  3.479911  28.166520  23.804100  ...  57.642610  12.058116   \n",
      "474  3.052542  2.241541  26.129885  23.609170  ...  38.603207   7.443428   \n",
      "\n",
      "       snr_w2       g-r       g-z      g-w1       r-z      r-w1      r-w2  \\\n",
      "1    3.900775 -0.299448 -5.136365 -4.693749 -4.836917 -4.394301 -2.816967   \n",
      "211  0.681256 -0.282641 -2.660838 -2.496677 -2.378197 -2.214036 -0.253055   \n",
      "234  2.812553 -0.326936 -3.275584 -2.594366 -2.948648 -2.267430 -1.925453   \n",
      "351  4.200995 -0.295445 -4.876903 -5.094960 -4.581458 -4.799515 -3.179054   \n",
      "474  2.772918 -0.324702 -3.497280 -3.017220 -3.172578 -2.692518 -1.881517   \n",
      "\n",
      "     label  \n",
      "1      1.0  \n",
      "211    1.0  \n",
      "234    1.0  \n",
      "351    1.0  \n",
      "474    1.0  \n",
      "\n",
      "[5 rows x 26 columns] \n",
      " 2151\n"
     ]
    },
    {
     "name": "stderr",
     "output_type": "stream",
     "text": [
      "/data0/sw/antares-kernel-0.4/lib/python3.7/site-packages/ipykernel_launcher.py:3: SettingWithCopyWarning: \n",
      "A value is trying to be set on a copy of a slice from a DataFrame.\n",
      "Try using .loc[row_indexer,col_indexer] = value instead\n",
      "\n",
      "See the caveats in the documentation: https://pandas.pydata.org/pandas-docs/stable/user_guide/indexing.html#returning-a-view-versus-a-copy\n",
      "  This is separate from the ipykernel package so we can avoid doing imports until\n"
     ]
    }
   ],
   "source": [
    "labels = df['label']\n",
    "df = data[data['ls_id'].isin(df['ls_id'])]\n",
    "df['label'] = labels\n",
    "print(df.head(), '\\n', len(df))"
   ]
  },
  {
   "cell_type": "code",
   "execution_count": 66,
   "id": "3885e8dc-cc2c-4415-a3a3-bfb427e91e89",
   "metadata": {
    "tags": []
   },
   "outputs": [
    {
     "name": "stdout",
     "output_type": "stream",
     "text": [
      "44\n",
      "44\n"
     ]
    }
   ],
   "source": [
    "# The typical W1 − W2 cut used for quasar selection is W1 − W2 > 0.5  Exploring Reionizaiton Quasars IV\n",
    "df = df[(df['mag_w1'] - df['mag_w2']) > 0.5]\n",
    "print(len(df))\n",
    "\n",
    "# reject z > 23.3\n",
    "df = df[df['mag_z'] <= 23.3]\n",
    "print(len(df))"
   ]
  },
  {
   "cell_type": "code",
   "execution_count": null,
   "id": "f2185c43-4540-4b66-8f05-dbfb5e70ad7f",
   "metadata": {},
   "outputs": [],
   "source": []
  },
  {
   "cell_type": "markdown",
   "id": "66388692-5671-48f8-a6fa-8bafd4fd972f",
   "metadata": {},
   "source": [
    "### extracting and re-formatting results"
   ]
  },
  {
   "cell_type": "code",
   "execution_count": 67,
   "id": "5f4a72b4-7800-4517-b9af-0146b7629835",
   "metadata": {
    "tags": []
   },
   "outputs": [
    {
     "name": "stdout",
     "output_type": "stream",
     "text": [
      "8022     9907734910010922\n",
      "18185    9907734617656608\n",
      "71680    9907734020229201\n",
      "83273    9907734762491535\n",
      "85925    9907734616081893\n",
      "Name: ls_id, dtype: int64\n",
      "<class 'pandas.core.series.Series'>\n",
      "           ra        dec             ls_id    flux_g    flux_r    flux_z  \\\n",
      "0  236.998649  39.989934  9907734910992898  0.038913  0.810338  3.265740   \n",
      "1  236.931743  39.996128  9907734910930646  0.033196  0.332644  5.169561   \n",
      "2  236.928356  39.997470  9907734910930611  0.105973  0.566404  2.459088   \n",
      "3  236.929452  39.975666  9907734910930625  0.126606  0.700310  1.816079   \n",
      "4  236.932113  39.994171  9907734910930649  0.002885  0.274474  2.320690   \n",
      "\n",
      "     flux_w1   flux_w2      mag_g      mag_r  ...     snr_r      snr_z  \\\n",
      "0  14.752074  8.000422  26.024767  22.728334  ...  8.773003  34.296894   \n",
      "1   4.726945  3.149611  26.197275  23.695051  ...  3.632156  50.640087   \n",
      "2   1.687021  1.908822  24.937008  23.117184  ...  6.115084  25.077795   \n",
      "3   6.071838  4.616308  24.743868  22.886774  ...  8.162531  13.142480   \n",
      "4  10.185863  6.103012  28.849516  23.903748  ...  2.891031  21.510197   \n",
      "\n",
      "      snr_w1    snr_w2       g-r       g-z       g-w1       r-z       r-w1  \\\n",
      "0  27.211966  8.643731 -0.771425 -3.226827 -14.713161 -2.455402 -13.941736   \n",
      "1  11.301957  3.900775 -0.299448 -5.136365  -4.693749 -4.836917  -4.394301   \n",
      "2   4.113348  2.372053 -0.460431 -2.353115  -1.581048 -1.892684  -1.120617   \n",
      "3  14.239944  5.616816 -0.573704 -1.689473  -5.945232 -1.115769  -5.371528   \n",
      "4  23.360252  7.449168 -0.271589 -2.317805 -10.182978 -2.046216  -9.911389   \n",
      "\n",
      "       r-w2  \n",
      "0 -7.190084  \n",
      "1 -2.816967  \n",
      "2 -1.342418  \n",
      "3 -3.915998  \n",
      "4 -5.828538  \n",
      "\n",
      "[5 rows x 25 columns]\n",
      "               ra        dec             ls_id    flux_g    flux_r     flux_z  \\\n",
      "8022   232.200085  39.914690  9907734910010922  0.029165  0.250486   2.900055   \n",
      "18185  230.044845  38.911884  9907734617656608 -0.349438  0.054333   3.781512   \n",
      "71680  224.544242  37.025417  9907734020229201  0.038780  0.344733   3.247623   \n",
      "83273  221.976920  39.434004  9907734762491535 -0.018301  0.311644   3.877036   \n",
      "85925  222.152817  39.103135  9907734616081893 -0.057693 -0.187543  10.991872   \n",
      "\n",
      "        flux_w1    flux_w2      mag_g      mag_r  ...     snr_r      snr_z  \\\n",
      "8022   3.005157   8.521581  26.337830  24.003042  ...  2.889897  34.789745   \n",
      "18185  4.185018  10.557174  26.132695  25.662340  ...  0.714259  34.647514   \n",
      "71680  2.318714   3.856102  26.028479  23.656292  ...  4.622428  30.173210   \n",
      "83273  4.748162  10.433537  26.132695  23.765852  ...  3.575803  42.236885   \n",
      "85925  2.226595   5.179985  26.132695  23.827642  ... -1.945742  51.626846   \n",
      "\n",
      "         snr_w1     snr_w2       g-r        g-z      g-w1        r-z  \\\n",
      "8022   5.976946   9.363817 -0.221321  -2.870890 -2.975992  -2.649569   \n",
      "18185  8.339156  11.893723 -0.403771  -4.130950 -4.534456  -3.727179   \n",
      "71680  5.190446   4.215094 -0.305953  -3.208843 -2.279934  -2.902890   \n",
      "83273  9.656411  11.317631 -0.329945  -3.895337 -4.766463  -3.565392   \n",
      "85925  5.179803   5.919349  0.129850 -11.049565 -2.284288 -11.179415   \n",
      "\n",
      "           r-w1       r-w2  \n",
      "8022  -2.754671  -8.271095  \n",
      "18185 -4.130685 -10.502841  \n",
      "71680 -1.973981  -3.511369  \n",
      "83273 -4.436518 -10.121893  \n",
      "85925 -2.414138  -5.367528  \n",
      "\n",
      "[5 rows x 25 columns]\n",
      "<class 'pandas.core.frame.DataFrame'>\n",
      "44\n"
     ]
    }
   ],
   "source": [
    "results = df.loc[df['label'] == 1, 'ls_id']\n",
    "print(results.head())\n",
    "print(type(results))\n",
    "print(data.head())  \n",
    "output = data[data['ls_id'].isin(results.values)]\n",
    "print(output.head())\n",
    "print(type(output))\n",
    "print(len(output))"
   ]
  },
  {
   "cell_type": "markdown",
   "id": "0aa0a13d-b3fb-4d80-9862-b5920b88465e",
   "metadata": {
    "tags": []
   },
   "source": [
    "### output file"
   ]
  },
  {
   "cell_type": "code",
   "execution_count": 68,
   "id": "7d6f59a2-7018-4212-8ae8-0d4a64adf0eb",
   "metadata": {
    "collapsed": true,
    "jupyter": {
     "outputs_hidden": true
    },
    "tags": []
   },
   "outputs": [
    {
     "name": "stdout",
     "output_type": "stream",
     "text": [
      "dict_keys(['flux_g', 'flux_r', 'flux_w1', 'flux_w2', 'flux_z', 'mag_g', 'mag_r', 'mag_z', 'mag_w1', 'mag_w2', 'g_r', 'snr_g', 'snr_r', 'snr_z', 'snr_w1', 'snr_w2'])\n",
      "Index(['ra', 'dec', 'ls_id', 'flux_g', 'flux_r', 'flux_z', 'flux_w1',\n",
      "       'flux_w2', 'mag_g', 'mag_r', 'mag_z', 'mag_w1', 'mag_w2', 'g_r',\n",
      "       'snr_g', 'snr_r', 'snr_z', 'snr_w1', 'snr_w2', 'g-r', 'g-z', 'g-w1',\n",
      "       'r-z', 'r-w1', 'r-w2'],\n",
      "      dtype='object')\n",
      "               ra        dec             ls_id    flux_g    flux_r     flux_z  \\\n",
      "8022   232.200085  39.914690  9907734910010922  0.029165  0.250486   2.900055   \n",
      "18185  230.044845  38.911884  9907734617656608 -0.349438  0.054333   3.781512   \n",
      "71680  224.544242  37.025417  9907734020229201  0.038780  0.344733   3.247623   \n",
      "83273  221.976920  39.434004  9907734762491535 -0.018301  0.311644   3.877036   \n",
      "85925  222.152817  39.103135  9907734616081893 -0.057693 -0.187543  10.991872   \n",
      "\n",
      "        flux_w1    flux_w2      mag_g      mag_r  ...     snr_r      snr_z  \\\n",
      "8022   3.005157   8.521581  26.337830  24.003042  ...  2.889897  34.789745   \n",
      "18185  4.185018  10.557174        NaN  25.662340  ...  0.714259  34.647514   \n",
      "71680  2.318714   3.856102  26.028479  23.656292  ...  4.622428  30.173210   \n",
      "83273  4.748162  10.433537        NaN  23.765852  ...  3.575803  42.236885   \n",
      "85925  2.226595   5.179985        NaN        NaN  ... -1.945742  51.626846   \n",
      "\n",
      "         snr_w1     snr_w2       g-r        g-z      g-w1        r-z  \\\n",
      "8022   5.976946   9.363817 -0.221321  -2.870890 -2.975992  -2.649569   \n",
      "18185  8.339156  11.893723 -0.403771  -4.130950 -4.534456  -3.727179   \n",
      "71680  5.190446   4.215094 -0.305953  -3.208843 -2.279934  -2.902890   \n",
      "83273  9.656411  11.317631 -0.329945  -3.895337 -4.766463  -3.565392   \n",
      "85925  5.179803   5.919349  0.129850 -11.049565 -2.284288 -11.179415   \n",
      "\n",
      "           r-w1       r-w2  \n",
      "8022  -2.754671  -8.271095  \n",
      "18185 -4.130685 -10.502841  \n",
      "71680 -1.973981  -3.511369  \n",
      "83273 -4.436518 -10.121893  \n",
      "85925 -2.414138  -5.367528  \n",
      "\n",
      "[5 rows x 25 columns]\n"
     ]
    },
    {
     "name": "stderr",
     "output_type": "stream",
     "text": [
      "/home/jail/dlusers/jlmaurora/.local/lib/python3.7/site-packages/pandas/core/indexing.py:1817: SettingWithCopyWarning: \n",
      "A value is trying to be set on a copy of a slice from a DataFrame.\n",
      "Try using .loc[row_indexer,col_indexer] = value instead\n",
      "\n",
      "See the caveats in the documentation: https://pandas.pydata.org/pandas-docs/stable/user_guide/indexing.html#returning-a-view-versus-a-copy\n",
      "  self._setitem_single_column(loc, value, pi)\n"
     ]
    }
   ],
   "source": [
    "# now put NaN back\n",
    "print(data_replace.keys())\n",
    "print(output.columns)\n",
    "for col in data_replace.keys():\n",
    "    if col in output.columns:\n",
    "        output.loc[output[col] == data_replace[col], col] = np.nan\n",
    "print(output.head())"
   ]
  },
  {
   "cell_type": "code",
   "execution_count": 72,
   "id": "d5927930-d8f3-4616-9d26-5244d3a181d3",
   "metadata": {},
   "outputs": [
    {
     "data": {
      "image/png": "[encoded data removed]",
      "text/plain": [
       "<Figure size 432x288 with 1 Axes>"
      ]
     },
     "metadata": {
      "needs_background": "light"
     },
     "output_type": "display_data"
    },
    {
     "data": {
      "image/png": "[encoded data removed]",
      "text/plain": [
       "<Figure size 432x288 with 1 Axes>"
      ]
     },
     "metadata": {
      "needs_background": "light"
     },
     "output_type": "display_data"
    },
    {
     "data": {
      "image/png": "[encoded data removed]",
      "text/plain": [
       "<Figure size 432x288 with 1 Axes>"
      ]
     },
     "metadata": {
      "needs_background": "light"
     },
     "output_type": "display_data"
    },
    {
     "data": {
      "image/png": "[encoded data removed]",
      "text/plain": [
       "<Figure size 432x288 with 1 Axes>"
      ]
     },
     "metadata": {
      "needs_background": "light"
     },
     "output_type": "display_data"
    }
   ],
   "source": [
    "# g-r VS r-w2\n",
    "flux_color(qso_flux_r, qso_flux_w2, qso_flux_g, qso_flux_r, 'r-w2', 'g-r')\n",
    "plt.scatter(output['flux_r'] - output['flux_w2'], output['flux_g'] - output['flux_r'], marker='o', alpha=0.2, label='pred', color='r')\n",
    "plt.legend()\n",
    "plt.show()\n",
    "\n",
    "# g-z VS r-w1\n",
    "flux_color(qso_flux_r, qso_flux_w1, qso_flux_g, qso_flux_z, 'r-w1', 'g-z')\n",
    "plt.scatter(output['flux_r'] - output['flux_w1'], output['flux_g'] - output['flux_z'], marker='o', alpha=0.2, label='pred', color='r')\n",
    "plt.legend()\n",
    "plt.show()\n",
    "\n",
    "# r-z VS g-w1\n",
    "flux_color(qso_flux_r, qso_flux_z, qso_flux_g, qso_flux_w1, 'r-z', 'g-w1')\n",
    "plt.scatter(output['flux_r'] - output['flux_z'], output['flux_g'] - output['flux_w1'], marker='o', alpha=0.2, label='pred', color='r')\n",
    "plt.legend()\n",
    "plt.show()\n",
    "\n",
    "# g-r VS r-z\n",
    "flux_color(qso_flux_r, qso_flux_z, qso_flux_g, qso_flux_r, 'r-z', 'g-r')\n",
    "plt.scatter(output['flux_r'] - output['flux_z'], output['flux_g'] - output['flux_r'], marker='o', alpha=0.2, label='pred', color='r')\n",
    "plt.legend()\n",
    "plt.show()"
   ]
  },
  {
   "cell_type": "code",
   "execution_count": 69,
   "id": "005cfa8e-1392-402a-a331-0c8ba2e414b5",
   "metadata": {},
   "outputs": [],
   "source": [
    "outfile = 'rf_flux_results03.csv'\n",
    "output.to_csv(outfile, index=False)\n",
    "output.to_csv(r'rf_flux_results03.csv')"
   ]
  },
  {
   "cell_type": "markdown",
   "id": "ffd2e4d5-ec4c-41dd-b325-684523ec1b72",
   "metadata": {
    "tags": []
   },
   "source": [
    "# The flux ratio"
   ]
  },
  {
   "cell_type": "code",
   "execution_count": 30,
   "id": "c4b90ffd-8060-4fb5-ae0f-76f56078f4e5",
   "metadata": {
    "collapsed": true,
    "jupyter": {
     "outputs_hidden": true
    },
    "tags": []
   },
   "outputs": [
    {
     "name": "stdout",
     "output_type": "stream",
     "text": [
      "0    0.018094\n",
      "1    0.034895\n",
      "2   -0.002553\n",
      "3    0.053671\n",
      "4    0.009914\n",
      "dtype: float64\n"
     ]
    }
   ],
   "source": [
    "# data from the new, unknown classification data set (ls_9)\n",
    "ls_id = data['ls_id']\n",
    "flux_g = data['flux_g']\n",
    "flux_r = data['flux_r']\n",
    "flux_z = data['flux_z']\n",
    "flux_w1 = data['flux_w1']\n",
    "flux_w2 = data['flux_w2']\n",
    "\n",
    "gz = flux_g/flux_z\n",
    "gw1 = flux_g/flux_w1\n",
    "gw2 = flux_g/flux_w2\n",
    "rz = flux_r/flux_z\n",
    "rw1 = flux_r/flux_w1\n",
    "rw2 = flux_r/flux_w2\n",
    "\n",
    "print(gz.head())"
   ]
  },
  {
   "cell_type": "code",
   "execution_count": 31,
   "id": "90f0edeb-c87e-4689-b580-7f6fd6512570",
   "metadata": {
    "collapsed": true,
    "jupyter": {
     "outputs_hidden": true
    },
    "tags": []
   },
   "outputs": [
    {
     "name": "stdin",
     "output_type": "stream",
     "text": [
      "Enter flux or ratio:  ratio\n"
     ]
    },
    {
     "name": "stdout",
     "output_type": "stream",
     "text": [
      "        g/z      g/w1      g/w2       r/z      r/w1      r/w2\n",
      "0  0.018094  0.003009  0.004159  0.109694  0.018244  0.025215\n",
      "1  0.034895  0.031328  0.226913  0.121176  0.108791  0.787980\n",
      "2 -0.002553 -0.003687 -0.005502  0.138022  0.199340  0.297480\n",
      "3  0.053671  0.015957  0.016512  0.379883  0.112943  0.116873\n",
      "4  0.009914  0.005206  0.586951  0.108904  0.057183  6.447289\n",
      "              ls_id       g/z      g/w1      g/w2       r/z      r/w1  \\\n",
      "0  8797230031570227  0.018094  0.003009  0.004159  0.109694  0.018244   \n",
      "1  8797230031504347  0.034895  0.031328  0.226913  0.121176  0.108791   \n",
      "2  8797230031570131 -0.002553 -0.003687 -0.005502  0.138022  0.199340   \n",
      "3  8797230031504374  0.053671  0.015957  0.016512  0.379883  0.112943   \n",
      "4  8797230031570284  0.009914  0.005206  0.586951  0.108904  0.057183   \n",
      "\n",
      "       r/w2  \n",
      "0  0.025215  \n",
      "1  0.787980  \n",
      "2  0.297480  \n",
      "3  0.116873  \n",
      "4  6.447289  \n"
     ]
    }
   ],
   "source": [
    "key = input('Enter flux or ratio: ')\n",
    "\n",
    "if key == 'flux':\n",
    "    X_data = pd.DataFrame({'ls_id': ls_id, 'flux_g': flux_g, 'flux_r': flux_r, 'flux_z': flux_z, 'flux_w1': flux_w1, 'flux_w2': flux_w2})\n",
    "    X_new = X_data['flux_g', 'flux_r', 'flux_z', 'flux_w1', 'flux_w2']\n",
    "    X_new = X_new.to_numpy()\n",
    "if key == 'ratio':\n",
    "    X_data = pd.DataFrame({'ls_id': ls_id, 'g/z': gz, 'g/w1': gw1, 'g/w2': gw2, 'r/z':rz, 'r/w1': rw1, 'r/w2': rw2})\n",
    "    X_data = X_data.replace([np.inf, -np.inf], np.nan).dropna(axis=0)\n",
    "    X_new = X_data[['g/z', 'g/w1', 'g/w2', 'r/z', 'r/w1', 'r/w2']]\n",
    "    print(X_new.head())\n",
    "    X_new = X_new.to_numpy()\n",
    "print(X_data.head())"
   ]
  },
  {
   "cell_type": "code",
   "execution_count": 32,
   "id": "874ecd95-661c-4ed3-887c-cd5b1c628f9c",
   "metadata": {
    "collapsed": true,
    "jupyter": {
     "outputs_hidden": true
    },
    "tags": []
   },
   "outputs": [
    {
     "name": "stdout",
     "output_type": "stream",
     "text": [
      "(array([], dtype=int64), array([], dtype=int64)) (array([], dtype=int64), array([], dtype=int64))\n"
     ]
    }
   ],
   "source": [
    "print(np.where(np.isnan(X_new)), np.where(np.isinf(X_new)))"
   ]
  },
  {
   "cell_type": "markdown",
   "id": "013062fc-b431-4e85-92c4-b80615511b3b",
   "metadata": {
    "tags": []
   },
   "source": [
    "Best params:\n",
    "\n"
   ]
  },
  {
   "cell_type": "code",
   "execution_count": 10,
   "id": "74fb6ace-d5d5-44fc-a682-8b9c84d617b3",
   "metadata": {
    "tags": []
   },
   "outputs": [],
   "source": [
    "clf_flux_ratio = RandomForestClassifier(n_estimators=120, min_samples_split=10, min_samples_leaf=1, max_features='auto', max_depth=15)"
   ]
  },
  {
   "cell_type": "code",
   "execution_count": 11,
   "id": "b6b86713-7360-477b-85d5-354698bc69a9",
   "metadata": {
    "collapsed": true,
    "jupyter": {
     "outputs_hidden": true
    },
    "tags": []
   },
   "outputs": [
    {
     "ename": "NameError",
     "evalue": "name 'X_train' is not defined",
     "output_type": "error",
     "traceback": [
      "\u001b[0;31m---------------------------------------------------------------------------\u001b[0m",
      "\u001b[0;31mNameError\u001b[0m                                 Traceback (most recent call last)",
      "\u001b[0;32m<ipython-input-11-ccbff6cd3a8a>\u001b[0m in \u001b[0;36m<module>\u001b[0;34m\u001b[0m\n\u001b[0;32m----> 1\u001b[0;31m \u001b[0mclf_flux_ratio\u001b[0m\u001b[0;34m.\u001b[0m\u001b[0mfit\u001b[0m\u001b[0;34m(\u001b[0m\u001b[0mX_train\u001b[0m\u001b[0;34m,\u001b[0m \u001b[0my_train\u001b[0m\u001b[0;34m)\u001b[0m \u001b[0;31m# X, y from training sample\u001b[0m\u001b[0;34m\u001b[0m\u001b[0;34m\u001b[0m\u001b[0m\n\u001b[0m\u001b[1;32m      2\u001b[0m \u001b[0my_new\u001b[0m \u001b[0;34m=\u001b[0m \u001b[0mclf_flux_ratio\u001b[0m\u001b[0;34m.\u001b[0m\u001b[0mpredict\u001b[0m\u001b[0;34m(\u001b[0m\u001b[0mX_new\u001b[0m\u001b[0;34m)\u001b[0m\u001b[0;34m\u001b[0m\u001b[0;34m\u001b[0m\u001b[0m\n\u001b[1;32m      3\u001b[0m \u001b[0mprint\u001b[0m\u001b[0;34m(\u001b[0m\u001b[0my_new\u001b[0m\u001b[0;34m)\u001b[0m\u001b[0;34m\u001b[0m\u001b[0;34m\u001b[0m\u001b[0m\n",
      "\u001b[0;31mNameError\u001b[0m: name 'X_train' is not defined"
     ]
    }
   ],
   "source": [
    "clf_flux_ratio.fit(X_train, y_train) # X, y from training sample\n",
    "y_new = clf_flux_ratio.predict(X_new) \n",
    "print(y_new)"
   ]
  },
  {
   "cell_type": "code",
   "execution_count": null,
   "id": "5750043b-0249-43d9-9778-d2df7ce79a16",
   "metadata": {},
   "outputs": [],
   "source": [
    "X_data['label'] = y_new\n",
    "results = X_data.loc[X_data['label'] == 1, 'ls_id']\n",
    "print(results)"
   ]
  },
  {
   "cell_type": "code",
   "execution_count": null,
   "id": "1bf975c5-770b-4b9e-993c-6e03e7a37e86",
   "metadata": {},
   "outputs": [],
   "source": [
    "outfile = 'rf_flux_ratio_results.csv'\n",
    "results.to_csv(outfile, index=False)\n",
    "# results.to_csv(r'D:\\ahhhhh\\research\\classification results\\rf_flux_ratio_results.csv')"
   ]
  },
  {
   "cell_type": "code",
   "execution_count": 3,
   "id": "c4ad5fed-ee69-48c7-93e2-691315b2c504",
   "metadata": {
    "tags": []
   },
   "outputs": [
    {
     "name": "stdout",
     "output_type": "stream",
     "text": [
      "\n",
      "Schema: ls_dr9\n",
      " Table: tractor_n\n",
      "\n",
      "     Column Name   Description\n",
      "     -----------   -----------\n",
      "           ls_id   Unique LS object ID\n",
      "             dec   Declination at equinox J2000\n",
      "              ra   Right ascension at equinox J2000\n",
      "            elat   Ecliptic Latitude\n",
      "            elon   Ecliptic Longitude\n",
      "            glat   Galactic Latitude\n",
      "            glon   Galactic Longitude\n",
      "         mjd_max   Maximum Modified Julian Date of observations used to const\n",
      "                   ruct the model of this object\n",
      "         mjd_min   Minimum Modified Julian Date of observations used to const\n",
      "                   ruct the model of this object\n",
      "          ref_id   Reference catalog identifier for this star; Tyc1*1,000,000\n",
      "                   +Tyc2*10+Tyc3 for Tycho2; sourceid for Gaia DR2 and SGA\n",
      "         brickid   Brick ID [1,662174]\n",
      "      blob_nea_g   Blob-masked noise equivalent area in g.\n",
      "      blob_nea_r   Blob-masked noise equivalent area in r.\n",
      "      blob_nea_z   Blob-masked noise equivalent area in z.\n",
      "              bx   X position (0-indexed) of coordinates in the brick image s\n",
      "                   tack (i.e. in the e.g. legacysurvey-<brick>-image-g.fits.f\n",
      "                   z coadd file)\n",
      "              by   Y position (0-indexed) of coordinates in the brick image s\n",
      "                   tack (i.e. in the e.g. legacysurvey-<brick>-image-g.fits.f\n",
      "                   z coadd file)\n",
      "        dchisq_1   Difference in chi^2 between successively more-complex mode\n",
      "                   l fits: PSF, REX, DEV, EXP, SER. The difference is versus\n",
      "                   no source.\n",
      "        dchisq_2   Difference in chi^2 between successively more-complex mode\n",
      "                   l fits: PSF, REX, DEV, EXP, SER. The difference is versus\n",
      "                   no source.\n",
      "        dchisq_3   Difference in chi^2 between successively more-complex mode\n",
      "                   l fits: PSF, REX, DEV, EXP, SER. The difference is versus\n",
      "                   no source.\n",
      "        dchisq_4   Difference in chi^2 between successively more-complex mode\n",
      "                   l fits: PSF, REX, DEV, EXP, SER. The difference is versus\n",
      "                   no source.\n",
      "        dchisq_5   Difference in chi^2 between successively more-complex mode\n",
      "                   l fits: PSF, REX, DEV, EXP, SER. The difference is versus\n",
      "                   no source.\n",
      "        dec_ivar   Inverse variance of DEC, excluding astrometric calibration\n",
      "                   errors\n",
      "    dered_flux_g   Dereddened g band flux\n",
      "    dered_flux_r   Dereddened r band flux\n",
      "   dered_flux_w1   Dereddened w1 band flux\n",
      "   dered_flux_w2   Dereddened w2 band flux\n",
      "   dered_flux_w3   Dereddened w3 band flux\n",
      "   dered_flux_w4   Dereddened w4 band flux\n",
      "    dered_flux_z   Dereddened z band flux\n",
      "     dered_mag_g   Dereddened g-band magnitude\n",
      "     dered_mag_r   Dereddened r-band magnitude\n",
      "    dered_mag_w1   Dereddened w1-band magnitude\n",
      "    dered_mag_w2   Dereddened w2-band magnitude\n",
      "    dered_mag_w3   Dereddened w3-band magnitude\n",
      "    dered_mag_w4   Dereddened w4-band magnitude\n",
      "     dered_mag_z   Dereddened z-band magnitude\n",
      "             ebv   Galactic extinction E(B-V) reddening from SFD98, used to c\n",
      "                   ompute the mw_transmission_ columns\n",
      "     fiberflux_g   Predicted g-band flux within a fiber of diameter 1.5 arcse\n",
      "                   c from this object in 1 arcsec Gaussian seeing\n",
      "     fiberflux_r   Predicted g-band flux within a fiber of diameter 1.5 arcse\n",
      "                   c from this object in 1 arcsec Gaussian seeing\n",
      "     fiberflux_z   Predicted g-band flux within a fiber of diameter 1.5 arcse\n",
      "                   c from this object in 1 arcsec Gaussian seeing\n",
      "  fibertotflux_g   Predicted g-band flux within a fiber of diameter 1.5 arcse\n",
      "                   c from this object in 1 arcsec Gaussian seeing\n",
      "  fibertotflux_r   Predicted r-band flux within a fiber of diameter 1.5 arcse\n",
      "                   c from this object in 1 arcsec Gaussian seeing\n",
      "  fibertotflux_z   Predicted z-band flux within a fiber of diameter 1.5 arcse\n",
      "                   c from this object in 1 arcsec Gaussian seeing\n",
      "          flux_g   Model flux in g\n",
      "     flux_ivar_g   Inverse variance of flux_g\n",
      "     flux_ivar_r   Inverse variance of flux_r\n",
      "    flux_ivar_w1   Inverse variance of flux_w1 (AB system)\n",
      "    flux_ivar_w2   Inverse variance of flux_w2 (AB system)\n",
      "    flux_ivar_w3   Inverse variance of flux_w3 (AB system)\n",
      "    flux_ivar_w4   Inverse variance of flux_w4 (AB system)\n",
      "     flux_ivar_z   Inverse variance of flux_z\n",
      "          flux_r   Model flux in r\n",
      "         flux_w1   WISE model flux in W1 (AB system)\n",
      "         flux_w2   WISE model flux in W2 (AB system)\n",
      "         flux_w3   WISE model flux in W3 (AB system)\n",
      "         flux_w4   WISE model flux in W4 (AB system)\n",
      "          flux_z   Model flux in z\n",
      "      fracflux_g   Profile-weighted fraction of the flux from other sources d\n",
      "                   ivided by the total flux in g (typically [0,1])\n",
      "      fracflux_r   Profile-weighted fraction of the flux from other sources d\n",
      "                   ivided by the total flux in r (typically [0,1])\n",
      "     fracflux_w1   Profile-weighted fraction of the flux from other sources d\n",
      "                   ivided by the total flux in W1 (typically [0,1])\n",
      "     fracflux_w2   Profile-weighted fraction of the flux from other sources d\n",
      "                   ivided by the total flux in W2 (typically [0,1])\n",
      "     fracflux_w3   Profile-weighted fraction of the flux from other sources d\n",
      "                   ivided by the total flux in W3 (typically [0,1])\n",
      "     fracflux_w4   Profile-weighted fraction of the flux from other sources d\n",
      "                   ivided by the total flux in W4 (typically [0,1])\n",
      "      fracflux_z   Profile-weighted fraction of the flux from other sources d\n",
      "                   ivided by the total flux in z (typically [0,1])\n",
      "        fracin_g   Fraction of a sources flux within the blob in g, near unit\n",
      "                   y for real sources\n",
      "        fracin_r   Fraction of a sources flux within the blob in r, near unit\n",
      "                   y for real sources\n",
      "        fracin_z   Fraction of a sources flux within the blob in z, near unit\n",
      "                   y for real sources\n",
      "    fracmasked_g   Profile-weighted fraction of pixels masked from all observ\n",
      "                   ations of this object in g, strictly between [0,1]\n",
      "    fracmasked_r   Profile-weighted fraction of pixels masked from all observ\n",
      "                   ations of this object in g, strictly between [0,1]\n",
      "    fracmasked_z   Profile-weighted fraction of pixels masked from all observ\n",
      "                   ations of this object in g, strictly between [0,1]\n",
      "    gaia_a_g_val   Gaia line-of-sight extinction in the G band\n",
      "gaia_astrometric_excess_noise   Gaia astrometric excess noise\n",
      "gaia_astrometric_excess_noise_sig   Gaia astrometric excess noise uncertainty\n",
      "gaia_astrometric_sigma5d_max   Gaia longest semi-major axis of the 5-d error ellipsoid\n",
      "gaia_astrometric_weight_al   Gaia astrometric weight along scan direction\n",
      "gaia_e_bp_min_rp_val   Gaia line-of-sight reddening E(BP-RP)\n",
      "gaia_phot_bp_mean_flux_over_error   Gaia BP signal-to-noise\n",
      "gaia_phot_bp_mean_mag   Gaia BP mag\n",
      "gaia_phot_bp_rp_excess_factor   Gaia BP/RP excess factor\n",
      "gaia_phot_g_mean_flux_over_error   Gaia G band signal-to-noise\n",
      "gaia_phot_g_mean_mag   Gaia G band mag\n",
      "gaia_phot_rp_mean_flux_over_error   Gaia RP band signal-to-noise\n",
      "gaia_phot_rp_mean_mag   Gaia RP mag\n",
      "      galdepth_g   As for psfdepth_g but for a galaxy (0.45 exp, round) detec\n",
      "                   tion sensitivity\n",
      "      galdepth_r   As for psfdepth_r but for a galaxy (0.45 exp, round) detec\n",
      "                   tion sensitivity\n",
      "      galdepth_z   As for psfdepth_z but for a galaxy (0.45 exp, round) detec\n",
      "                   tion sensitivity\n",
      "             g_r   Computed (g-r) color\n",
      "            htm9   HTM index (order 9 => ~10 arcmin size)\n",
      "           mag_g   Converted g magnitude\n",
      "           mag_r   Converted r magnitude\n",
      "          mag_w1   Converted W1 magnitude\n",
      "          mag_w2   Converted W2 magnitude\n",
      "          mag_w3   Converted W3 magnitude\n",
      "          mag_w4   Converted W4 magnitude\n",
      "           mag_z   Converted z magnitude\n",
      "mw_transmission_g   Galactic transmission in g filter in linear units [0, 1]\n",
      "mw_transmission_r   Galactic transmission in r filter in linear units [0, 1]\n",
      "mw_transmission_w1   Galactic transmission in w1 filter in linear units [0, 1]\n",
      "mw_transmission_w2   Galactic transmission in w2 filter in linear units [0, 1]\n",
      "mw_transmission_w3   Galactic transmission in w3 filter in linear units [0, 1]\n",
      "mw_transmission_w4   Galactic transmission in w4 filter in linear units [0, 1]\n",
      "mw_transmission_z   Galactic transmission in z filter in linear units [0, 1]\n",
      "           nea_g   Noise equivalent area in  g\n",
      "           nea_r   Noise equivalent area in  r\n",
      "           nea_z   Noise equivalent area in  z\n",
      "        nest4096   HEALPIX index (Nsides 4096, Nest scheme => ~52 arcsec size\n",
      "           objid   Catalog object number within this brick; a unique identifi\n",
      "                   er hash is release,brickid,objid; objid spans [0,N-1] and\n",
      "                   is contiguously enumerated within each brick\n",
      "   parallax_ivar   Reference catalog inverse-variance on parallax\n",
      "        parallax   Reference catalog parallax\n",
      "      pmdec_ivar   Reference catalog inverse-variance on pmdec\n",
      "           pmdec   Reference catalog proper motion in the Dec direction\n",
      "       pmra_ivar   Reference catalog inverse-variance on pmra\n",
      "            pmra   Reference catalog proper motion in the RA direction\n",
      "      psfdepth_g   For a 5 sigma point source detection limit in g, 5/(sqrt p\n",
      "                   sfdepth_g) gives flux in nanomaggies and (-2.5[log10(5/(sq\n",
      "                   rt psfdepth_g))-9]) gives corresponding AB magnitude\n",
      "      psfdepth_r   For a 5 sigma point source detection limit in r, 5/(sqrt p\n",
      "                   sfdepth_r) gives flux in nanomaggies and (-2.5[log10(5/(sq\n",
      "                   rt psfdepth_r))-9]) gives corresponding AB magnitude\n",
      "     psfdepth_w1   As for psfdepth_g (and also on the AB system) but for WISE W1\n",
      "     psfdepth_w2   As for psfdepth_g (and also on the AB system) but for WISE W2\n",
      "     psfdepth_w3   As for psfdepth_g (and also on the AB system) but for WISE W3\n",
      "     psfdepth_w4   As for psfdepth_g (and also on the AB system) but for WISE W4\n",
      "      psfdepth_z   For a 5 sigma point source detection limit in z, 5/(sqrt p\n",
      "                   sfdepth_z) gives flux in nanomaggies and (-2.5[log10(5/(sq\n",
      "                   rt psfdepth_z))-9]) gives corresponding AB magnitude\n",
      "       psfsize_g   Weighted average PSF FWHM in the g band\n",
      "       psfsize_r   Weighted average PSF FWHM in the r band\n",
      "       psfsize_z   Weighted average PSF FWHM in the z band\n",
      "         ra_ivar   Inverse variance of RA (no cosine term!), excluding astrom\n",
      "                   etric calibration errors\n",
      "       random_id   Random ID in the range 0.0 => 100.0\n",
      "        rchisq_g   Profile-weighted chi^2 of model fit normalized by the numb\n",
      "                   er of pixels in g\n",
      "        rchisq_r   Profile-weighted chi^2 of model fit normalized by the numb\n",
      "                   er of pixels in r\n",
      "       rchisq_w1   Profile-weighted chi^2 of model fit normalized by the numb\n",
      "                   er of pixels in W1\n",
      "       rchisq_w2   Profile-weighted chi^2 of model fit normalized by the numb\n",
      "                   er of pixels in W2\n",
      "       rchisq_w3   Profile-weighted chi^2 of model fit normalized by the numb\n",
      "                   er of pixels in W3\n",
      "       rchisq_w4   Profile-weighted chi^2 of model fit normalized by the numb\n",
      "                   er of pixels in W4\n",
      "        rchisq_z   Profile-weighted chi^2 of model fit normalized by the numb\n",
      "                   er of pixels in z\n",
      "       ref_epoch   Reference catalog reference epoch (eg, 2015.5 for Gaia DR2)\n",
      "         ring256   HEALPIX index (Nsides 256, Ring scheme => ~14 arcmin size)\n",
      "             r_z   Computed (r-z) color\n",
      "     sersic_ivar   Inverse variance of sersic\n",
      "          sersic   Power-law index for the Sersic profile model (type=SER)\n",
      "   shape_e1_ivar   Inverse variance of shape_e1\n",
      "        shape_e1   Ellipticity component 1 of galaxy model for galaxy type type\n",
      "   shape_e2_ivar   Inverse variance of shape_e2\n",
      "        shape_e2   Ellipticity component 2 of galaxy model for galaxy type type\n",
      "    shape_r_ivar   Inverse variance of shape_r\n",
      "         shape_r   Half-light radius of galaxy model for galaxy type type (>0)\n",
      "           snr_g   Signal-to-Noise ratio in g\n",
      "           snr_r   Signal-to-Noise ratio in r\n",
      "          snr_w1   Signal-to-Noise ratio in W1\n",
      "          snr_w2   Signal-to-Noise ratio in W2\n",
      "          snr_w3   Signal-to-Noise ratio in W3\n",
      "          snr_w4   Signal-to-Noise ratio in W4\n",
      "           snr_z   Signal-to-Noise ratio in z\n",
      "           w1_w2   Computed (w1-w2) color\n",
      "           w2_w3   Computed (w2-w3) color\n",
      "           w3_w4   Computed (w3-w4) color\n",
      "          wise_x   X position of coordinates in the brick image stack that co\n",
      "                   rresponds to wise_coadd_id (see the DR9 updates page for t\n",
      "                   ransformations between wise_x and bx)\n",
      "          wise_y   Y position of coordinates in the brick image stack that co\n",
      "                   rresponds to wise_coadd_id (see the DR9 updates page for t\n",
      "                   ransformations between wise_y and by)\n",
      "            z_w1   Computed (z-w1) color\n",
      "       allmask_g   Bitwise mask set if the central pixel from all images sati\n",
      "                   sfy each condition in g as cataloged on the DR9 bitmasks p\n",
      "                   age\n",
      "       allmask_r   Bitwise mask set if the central pixel from all images sati\n",
      "                   sfy each condition in r as cataloged on the DR9 bitmasks p\n",
      "                   age\n",
      "       allmask_z   Bitwise mask set if the central pixel from all images sati\n",
      "                   sfy each condition in z as cataloged on the DR9 bitmasks p\n",
      "                   age\n",
      "       anymask_g   Bitwise mask set if the central pixel from any image satis\n",
      "                   fies each condition in g as cataloged on the DR9 bitmasks\n",
      "                   page\n",
      "       anymask_r   Bitwise mask set if the central pixel from any image satis\n",
      "                   fies each condition in r as cataloged on the DR9 bitmasks\n",
      "                   page\n",
      "       anymask_z   Bitwise mask set if the central pixel from any image satis\n",
      "                   fies each condition in z as cataloged on the DR9 bitmasks\n",
      "                   page\n",
      "   brick_primary   True if the object is within the brick boundar\n",
      "         fitbits   Bitwise mask detailing pecularities of how an object was f\n",
      "                   it, as cataloged on the DR9 bitmasks page\n",
      "gaia_astrometric_n_good_obs_al   Gaia number of good astrometric observations along scan di\n",
      "                   rection\n",
      "gaia_astrometric_n_obs_al   Gaia number of astrometric observations along scan direction\n",
      "gaia_astrometric_params_solved   Which astrometric parameters were estimated for a Gaia source\n",
      "gaia_duplicated_source   Gaia duplicated source flag\n",
      "gaia_phot_bp_n_obs   Gaia BP number of observations\n",
      "gaia_phot_g_n_obs   Gaia g band number of observations\n",
      "gaia_phot_rp_n_obs   Gaia RP band number of observations\n",
      "gaia_phot_variable_flag   Gaia photometric variable flag\n",
      "        maskbits   Bitwise mask indicating that an object touches a pixel in \n",
      "                   the coadd/*/*/*maskbits* maps, as cataloged on the DR9 bit\n",
      "                   masks page\n",
      "          nobs_g   Number of images that contribute to the central pixel in g\n",
      "                   : filter for this object (not profile-weighted)\n",
      "          nobs_r   Number of images that contribute to the central pixel in r\n",
      "                   : filter for this object (not profile-weighted)\n",
      "         nobs_w1   Number of images that contribute to the central pixel in W\n",
      "                   1: filter for this object (not profile-weighted)\n",
      "         nobs_w2   Number of images that contribute to the central pixel in W\n",
      "                   2: filter for this object (not profile-weighted)\n",
      "         nobs_w3   Number of images that contribute to the central pixel in W\n",
      "                   3: filter for this object (not profile-weighted)\n",
      "         nobs_w4   Number of images that contribute to the central pixel in W\n",
      "                   4: filter for this object (not profile-weighted)\n",
      "          nobs_z   Number of images that contribute to the central pixel in z\n",
      "                   : filter for this object (not profile-weighted)\n",
      "         release   Integer denoting the camera and filter set used, which wil\n",
      "                   l be unique for a given processing run of the data, as doc\n",
      "                   umented at https://www.legacysurvey.org/dr9/catalogs/\n",
      "     wisemask_w1   W1 bitmask as cataloged on the DR9 bitmasks page\n",
      "     wisemask_w2   W2 bitmask as cataloged on the DR9 bitmasks page\n",
      "       brickname   Name of brick, encoding the brick sky position, eg 1126p22\n",
      "                   2 near RA=112.6, Dec=+22.2\n",
      "         ref_cat   Reference catalog source for this star: T2 for Tycho-2, G2\n",
      "                   for Gaia DR2, L3 for the SGA, empty otherwise\n",
      "            type   Morphological model: PSF=stellar, REX=round exponential ga\n",
      "                   laxy, DEV=deVauc, EXP=exponential, SER=Sersic, DUP=Gaia so\n",
      "                   urce fit by different model.\n",
      "   wise_coadd_id   unWISE coadd brick name (corresponding to the, e.g., legac\n",
      "                   ysurvey-<brick>-image-W1.fits.fz coadd file) for the cente\n",
      "                   r of each object\n",
      "\n",
      "\n",
      "\t     column_name : shape_r\n",
      "\t      table_name : ls_dr9.tractor_n\n",
      "\t        datatype : adql:REAL\n",
      "\t       arraysize : 1\n",
      "\t           utype : \n",
      "\t            unit : \n",
      "\t             ucd : \n",
      "\t         indexed : False\n",
      "\n"
     ]
    }
   ],
   "source": [
    "# check the tables to get which ones to SELECT\n",
    "print(qc.schema('ls_dr9.tractor_n'))\n",
    "print(qc.schema('ls_dr9.tractor_n.shape_r'))"
   ]
  },
  {
   "cell_type": "code",
   "execution_count": 15,
   "id": "f4f99858-c93a-43b6-98d9-41c2ea75dd2c",
   "metadata": {},
   "outputs": [
    {
     "name": "stdout",
     "output_type": "stream",
     "text": [
      "EXECUTING\n",
      "COMPLETED\n",
      "error message  Error: list index out of range\n",
      "   brickid  objid wise_coadd_id  ring256\n",
      "0   559981    440      2871p439   121323\n",
      "1   559981    421      2871p439   121323\n",
      "2   559981    432      2871p439   121323\n",
      "3   559981    460      2871p439   121323\n",
      "4   559981    447      2871p439   121323\n",
      "CPU times: user 172 ms, sys: 7.28 ms, total: 179 ms\n",
      "Wall time: 7.5 s\n"
     ]
    }
   ],
   "source": [
    "%%time\n",
    "\n",
    "query = \"\"\"\n",
    "        SELECT brickid, objid, wise_coadd_id, ring256\n",
    "        FROM ls_dr9.tractor_n\n",
    "        LIMIT 20\n",
    "        \"\"\"\n",
    "\n",
    "### async mode returns jobid\n",
    "jobid_ls = qc.query(token, sql=query, fmt='csv', async_=True, timeout=3600, out='vos://ls_id.csv')\n",
    "status = ''\n",
    "while (status != 'COMPLETED' and status != 'ERROR'):\n",
    "    status = qc.status(token, jobid_ls)\n",
    "    print(status)\n",
    "    time.sleep(2)\n",
    "\n",
    "print ('error message ', qc.error(token, jobid_ls)) \n",
    "\n",
    "response_ls = qc.results(token,jobid_ls)\n",
    "#df = qc.query(sql=aquery, fmt='pandas')\n",
    "res_ls = qc.query(sql=query, fmt='csv', out='vos://my_file_ls_id.csv')\n",
    "\n",
    "data_ls = sc.get('vos://my_file_ls_id.csv') \n",
    "data_ls = convert(data_ls)\n",
    "print(data_ls.head())"
   ]
  },
  {
   "cell_type": "code",
   "execution_count": 8,
   "id": "5bc22ca7-d7ba-4ee8-91cf-38fb421358f8",
   "metadata": {
    "collapsed": true,
    "jupyter": {
     "outputs_hidden": true
    },
    "tags": []
   },
   "outputs": [
    {
     "name": "stdout",
     "output_type": "stream",
     "text": [
      "\n",
      "Schema: des_dr1\n",
      " Table: main\n",
      "\n",
      "     Column Name   Description\n",
      "     -----------   -----------\n",
      " coadd_object_id   Unique identifier for the coadded objects\n",
      "         hpix_32   Healpix ID for nside=32, nested schema\n",
      "         hpix_64   Healpix ID for nside=64, nested schema\n",
      "       hpix_1024   Healpix ID for nside=1024, nested schema\n",
      "       hpix_4096   Healpix ID for nside=4096, nested schema\n",
      "      hpix_16384   Healpix ID for nside=16384, nested schema\n",
      "              ra   Right ascension, with quantized precision for indexing (AL\n",
      "                   PHAWIN_J2000 has full precision but not indexed)\n",
      "             dec   Declination, with quantized precision for indexing (DELTAW\n",
      "                   IN_J2000 has full precision but not indexed)\n",
      "  alphawin_j2000   Right ascension for the object, J2000 in ICRS system (full\n",
      "                   precision but not indexed)\n",
      "  deltawin_j2000   Declination for the object, J2000 in ICRS (full precision \n",
      "                   but not indexed)\n",
      "      galactic_l   Galactic Longitude\n",
      "      galactic_b   Galactic Latitude\n",
      "    ecliptic_lon   Ecliptic Longitude\n",
      "    ecliptic_lat   Ecliptic Latitude\n",
      "      xwin_image   X-centroid from windowed measurements on coadded image\n",
      "      ywin_image   Y-centroid from windowed measurements on coadded image\n",
      "errx2win_image_g   Uncertainty in second moment of x-distribution centroid, f\n",
      "                   rom converged windowed measurements\n",
      "errx2win_image_r   Uncertainty in second moment of x-distribution centroid, f\n",
      "                   rom converged windowed measurements\n",
      "errx2win_image_i   Uncertainty in second moment of x-distribution centroid, f\n",
      "                   rom converged windowed measurements\n",
      "errx2win_image_z   Uncertainty in second moment of x-distribution centroid, f\n",
      "                   rom converged windowed measurements\n",
      "errx2win_image_y   Uncertainty in second moment of x-distribution centroid, f\n",
      "                   rom converged windowed measurements\n",
      "erry2win_image_g   Uncertainty in second moment of y-distribution centroid, f\n",
      "                   rom converged windowed measurements\n",
      "erry2win_image_r   Uncertainty in second moment of y-distribution centroid, f\n",
      "                   rom converged windowed measurements\n",
      "erry2win_image_i   Uncertainty in second moment of y-distribution centroid, f\n",
      "                   rom converged windowed measurements\n",
      "erry2win_image_z   Uncertainty in second moment of y-distribution centroid, f\n",
      "                   rom converged windowed measurements\n",
      "erry2win_image_y   Uncertainty in second moment of y-distribution centroid, f\n",
      "                   rom converged windowed measurements\n",
      "errxywin_image_g   Uncertainty in second moment of xy-distribution, from conv\n",
      "                   erged windowed measurements\n",
      "errxywin_image_r   Uncertainty in second moment of xy-distribution, from conv\n",
      "                   erged windowed measurements\n",
      "errxywin_image_i   Uncertainty in second moment of xy-distribution, from conv\n",
      "                   erged windowed measurements\n",
      "errxywin_image_z   Uncertainty in second moment of xy-distribution, from conv\n",
      "                   erged windowed measurements\n",
      "errxywin_image_y   Uncertainty in second moment of xy-distribution, from conv\n",
      "                   erged windowed measurements\n",
      "   x2win_image_g   Second moment in x-direction, from converged windowed meas\n",
      "                   urements\n",
      "   x2win_image_r   Second moment in x-direction, from converged windowed meas\n",
      "                   urements\n",
      "   x2win_image_i   Second moment in x-direction, from converged windowed meas\n",
      "                   urements\n",
      "   x2win_image_z   Second moment in x-direction, from converged windowed meas\n",
      "                   urements\n",
      "   x2win_image_y   Second moment in x-direction, from converged windowed meas\n",
      "                   urements\n",
      "   y2win_image_g   Second moment in y-direction, from converged windowed meas\n",
      "                   urements\n",
      "   y2win_image_r   Second moment in y-direction, from converged windowed meas\n",
      "                   urements\n",
      "   y2win_image_i   Second moment in y-direction, from converged windowed meas\n",
      "                   urements\n",
      "   y2win_image_z   Second moment in y-direction, from converged windowed meas\n",
      "                   urements\n",
      "   y2win_image_y   Second moment in y-direction, from converged windowed meas\n",
      "                   urements\n",
      "   xywin_image_g   Second moment in xy-direction, from converged windowed mea\n",
      "                   surements\n",
      "   xywin_image_r   Second moment in xy-direction, from converged windowed mea\n",
      "                   surements\n",
      "   xywin_image_i   Second moment in xy-direction, from converged windowed mea\n",
      "                   surements\n",
      "   xywin_image_z   Second moment in xy-direction, from converged windowed mea\n",
      "                   surements\n",
      "   xywin_image_y   Second moment in xy-direction, from converged windowed mea\n",
      "                   surements\n",
      "    xwin_image_g   X-centroid from windowed measurements on coadded image\n",
      "    xwin_image_r   X-centroid from windowed measurements on coadded image\n",
      "    xwin_image_i   X-centroid from windowed measurements on coadded image\n",
      "    xwin_image_z   X-centroid from windowed measurements on coadded image\n",
      "    xwin_image_y   X-centroid from windowed measurements on coadded image\n",
      "    ywin_image_g   Y-centroid from windowed measurements on coadded image\n",
      "    ywin_image_r   Y-centroid from windowed measurements on coadded image\n",
      "    ywin_image_i   Y-centroid from windowed measurements on coadded image\n",
      "    ywin_image_z   Y-centroid from windowed measurements on coadded image\n",
      "    ywin_image_y   Y-centroid from windowed measurements on coadded image\n",
      "         a_image   Major axis size based on an isophotal model\n",
      "      erra_image   Uncertainty in major axis size, from isophotal model\n",
      "         b_image   Minor axis size based on an isophotal model\n",
      "      errb_image   Uncertainty in minor axis size, from isophotal model\n",
      "     theta_j2000   Position angle of source in J2000 coordinates, from non-wi\n",
      "                   ndowed measurement\n",
      "  errtheta_image   Uncertainty in source position, from isophotal model\n",
      "     kron_radius   Kron radius\n",
      "       ebv_sfd98   E(B-V) reddening oefficient from Schelgel, Finkbeiner & Da\n",
      "                   vis (1998)\n",
      "mag_auto_g_dered   Dereddened magnitude estimation (using SFD98), for an elli\n",
      "                   ptical model based on the Kron radius\n",
      "mag_auto_r_dered   Dereddened magnitude estimation (using SFD98), for an elli\n",
      "                   ptical model based on the Kron radius\n",
      "mag_auto_i_dered   Dereddened magnitude estimation (using SFD98), for an elli\n",
      "                   ptical model based on the Kron radius\n",
      "mag_auto_z_dered   Dereddened magnitude estimation (using SFD98), for an elli\n",
      "                   ptical model based on the Kron radius\n",
      "mag_auto_y_dered   Dereddened magnitude estimation (using SFD98), for an elli\n",
      "                   ptical model based on the Kron radius\n",
      "mag_aper_8_g_dered   Dereddened magnitude estimation (using SFD98) for circular\n",
      "                   apertures\n",
      "mag_aper_8_r_dered   Dereddened magnitude estimation (using SFD98) for circular\n",
      "                   apertures\n",
      "mag_aper_8_i_dered   Dereddened magnitude estimation (using SFD98) for circular\n",
      "                   apertures\n",
      "mag_aper_8_z_dered   Dereddened magnitude estimation (using SFD98) for circular\n",
      "                   apertures\n",
      "mag_aper_8_y_dered   Dereddened magnitude estimation (using SFD98) for circular\n",
      "                   apertures\n",
      "wavg_mag_psf_g_dered   Dereddened weighted average magnitude (using SFD98) from P\n",
      "                   SF fit single epoch detections\n",
      "wavg_mag_psf_r_dered   Dereddened weighted average magnitude (using SFD98) from P\n",
      "                   SF fit single epoch detections\n",
      "wavg_mag_psf_i_dered   Dereddened weighted average magnitude (using SFD98) from P\n",
      "                   SF fit single epoch detections\n",
      "wavg_mag_psf_z_dered   Dereddened weighted average magnitude (using SFD98) from P\n",
      "                   SF fit single epoch detections\n",
      "wavg_mag_psf_y_dered   Dereddened weighted average magnitude (using SFD98) from P\n",
      "                   SF fit single epoch detections\n",
      "    awin_image_g   Major axis size, from 2nd order windowed moment measurements\n",
      "    awin_image_r   Major axis size, from 2nd order windowed moment measurements\n",
      "    awin_image_i   Major axis size, from 2nd order windowed moment measurements\n",
      "    awin_image_z   Major axis size, from 2nd order windowed moment measurements\n",
      "    awin_image_y   Major axis size, from 2nd order windowed moment measurements\n",
      "    bwin_image_g   Minor axis size, from 2nd order windowed moment measurements\n",
      "    bwin_image_r   Minor axis size, from 2nd order windowed moment measurements\n",
      "    bwin_image_i   Minor axis size, from 2nd order windowed moment measurements\n",
      "    bwin_image_z   Minor axis size, from 2nd order windowed moment measurements\n",
      "    bwin_image_y   Minor axis size, from 2nd order windowed moment measurements\n",
      "thetawin_image_g   Position angle of source, for converged windowed measureme\n",
      "                   nt grow from x to y\n",
      "thetawin_image_r   Position angle of source, for converged windowed measureme\n",
      "                   nt grow from x to y\n",
      "thetawin_image_i   Position angle of source, for converged windowed measureme\n",
      "                   nt grow from x to y\n",
      "thetawin_image_z   Position angle of source, for converged windowed measureme\n",
      "                   nt grow from x to y\n",
      "thetawin_image_y   Position angle of source, for converged windowed measureme\n",
      "                   nt grow from x to y\n",
      " errawin_image_g   Uncertainty in major axis size, from converged windowed me\n",
      "                   asurement, assuming uncorrelated noise\n",
      " errawin_image_r   Uncertainty in major axis size, from converged windowed me\n",
      "                   asurement, assuming uncorrelated noise\n",
      " errawin_image_i   Uncertainty in major axis size, from converged windowed me\n",
      "                   asurement, assuming uncorrelated noise\n",
      " errawin_image_z   Uncertainty in major axis size, from converged windowed me\n",
      "                   asurement, assuming uncorrelated noise\n",
      " errawin_image_y   Uncertainty in major axis size, from converged windowed me\n",
      "                   asurement, assuming uncorrelated noise\n",
      " errbwin_image_g   Uncertainty in minor axis size, from converged windowed me\n",
      "                   asurement, assuming uncorrelated noise\n",
      " errbwin_image_r   Uncertainty in minor axis size, from converged windowed me\n",
      "                   asurement, assuming uncorrelated noise\n",
      " errbwin_image_i   Uncertainty in minor axis size, from converged windowed me\n",
      "                   asurement, assuming uncorrelated noise\n",
      " errbwin_image_z   Uncertainty in Minor axis size, from converged windowed me\n",
      "                   asurement, assuming uncorrelated noise\n",
      " errbwin_image_y   Uncertainty in minor axis size, from converged windowed me\n",
      "                   asurement, assuming uncorrelated noise\n",
      "errthetawin_image_g   Uncertainty in source position angle, from converged windo\n",
      "                   wed measurement\n",
      "errthetawin_image_r   Uncertainty in source position angle, from converged windo\n",
      "                   wed measurement\n",
      "errthetawin_image_i   Uncertainty in source position angle, from converged windo\n",
      "                   wed measurement\n",
      "errthetawin_image_z   Uncertainty in source position angle, from converged windo\n",
      "                   wed measurement\n",
      "errthetawin_image_y   Uncertainty in source position angle, from converged windo\n",
      "                   wed measurement\n",
      "   flux_radius_g   Half-light radius for the object, from elliptical growth-c\n",
      "                   urve, modeled in 2 dimensions\n",
      "   flux_radius_r   Half-light radius for the object, from elliptical growth-c\n",
      "                   urve, modeled in 2 dimensions\n",
      "   flux_radius_i   Half-light radius for the object, from elliptical growth-c\n",
      "                   urve, modeled in 2 dimensions\n",
      "   flux_radius_z   Half-light radius for the object, from elliptical growth-c\n",
      "                   urve, modeled in 2 dimensions\n",
      "   flux_radius_y   Half-light radius for the object, from elliptical growth-c\n",
      "                   urve, modeled in 2 dimensions\n",
      "    fwhm_image_g   FWHM measured from the isophotal area, from elliptical gro\n",
      "                   wth-curve, modeled in 2 dimensions\n",
      "    fwhm_image_r   FWHM measured from the isophotal area, from elliptical gro\n",
      "                   wth-curve, modeled in 2 dimensions\n",
      "    fwhm_image_i   FWHM measured from the isophotal area, from elliptical gro\n",
      "                   wth-curve, modeled in 2 dimensions\n",
      "    fwhm_image_z   FWHM measured from the isophotal area, from elliptical gro\n",
      "                   wth-curve, modeled in 2 dimensions\n",
      "    fwhm_image_y   FWHM measured from the isophotal area, from elliptical gro\n",
      "                   wth-curve, modeled in 2 dimensions\n",
      "    background_g   Background level, by CCD-amplifier\n",
      "    background_r   Background level, by CCD-amplifier\n",
      "    background_i   Background level, by CCD-amplifier\n",
      "    background_z   Background level, by CCD-amplifier\n",
      "    background_y   Background level, by CCD-amplifier\n",
      "   kron_radius_g   Kron radius measured from detection image\n",
      "   kron_radius_r   Kron radius measured from detection image\n",
      "   kron_radius_i   Kron radius measured from detection image\n",
      "   kron_radius_z   Kron radius measured from detection image\n",
      "   kron_radius_y   Kron radius measured from detection image\n",
      "      mag_auto_g   Magnitude estimation, for an elliptical model based on the\n",
      "                   Kron radius\n",
      "      mag_auto_r   Magnitude estimation, for an elliptical model based on the\n",
      "                   Kron radius\n",
      "      mag_auto_i   Magnitude estimation, for an elliptical model based on the\n",
      "                   Kron radius\n",
      "      mag_auto_z   Magnitude estimation, for an elliptical model based on the\n",
      "                   Kron radius\n",
      "      mag_auto_y   Magnitude estimation, for an elliptical model based on the\n",
      "                   Kron radius\n",
      "   magerr_auto_g   Uncertainty in magnitude estimation, for an elliptical mod\n",
      "                   el based on the Kron radius\n",
      "   magerr_auto_r   Uncertainty in magnitude estimation, for an elliptical mod\n",
      "                   el based on the Kron radius\n",
      "   magerr_auto_i   Uncertainty in magnitude estimation, for an elliptical mod\n",
      "                   el based on the Kron radius\n",
      "   magerr_auto_z   Uncertainty in magnitude estimation, for an elliptical mod\n",
      "                   el based on the Kron radius\n",
      "   magerr_auto_y   Uncertainty in magnitude estimation, for an elliptical mod\n",
      "                   el based on the Kron radius\n",
      "    mag_aper_8_g   Magnitude estimation for circular apertures\n",
      "    mag_aper_8_r   Magnitude estimation for circular apertures\n",
      "    mag_aper_8_i   Magnitude estimation for circular apertures\n",
      "    mag_aper_8_z   Magnitude estimation for circular apertures\n",
      "    mag_aper_8_y   Magnitude estimation for circular apertures\n",
      " magerr_aper_8_g   Uncertainty in magnitude estimation for circular apertures\n",
      " magerr_aper_8_r   Uncertainty in magnitude estimation for circular apertures\n",
      " magerr_aper_8_i   Uncertainty in magnitude estimation for circular apertures\n",
      " magerr_aper_8_z   Uncertainty in magnitude estimation for circular apertures\n",
      " magerr_aper_8_y   Uncertainty in magnitude estimation for circular apertures\n",
      "  wavg_mag_psf_g   Weighted average magnitude, of PSF fit single epoch detections\n",
      "  wavg_mag_psf_r   Weighted average magnitude, of PSF fit single epoch detections\n",
      "  wavg_mag_psf_i   Weighted average magnitude, of PSF fit single epoch detections\n",
      "  wavg_mag_psf_z   Weighted average magnitude, of PSF fit single epoch detections\n",
      "  wavg_mag_psf_y   Weighted average magnitude, of PSF fit single epoch detections\n",
      "wavg_magerr_psf_g   Uncertainty of weighted averaged magnitude, of PSF fit sin\n",
      "                   gle epoch detections\n",
      "wavg_magerr_psf_r   Uncertainty of weighted averaged magnitude, of PSF fit sin\n",
      "                   gle epoch detections\n",
      "wavg_magerr_psf_i   Uncertainty of weighted averaged magnitude, of PSF fit sin\n",
      "                   gle epoch detections\n",
      "wavg_magerr_psf_z   Uncertainty of weighted averaged magnitude, of PSF fit sin\n",
      "                   gle epoch detections\n",
      "wavg_magerr_psf_y   Uncertainty of weighted averaged magnitude, of PSF fit sin\n",
      "                   gle epoch detections\n",
      "     flux_auto_g   Flux measurement, for an elliptical model based on Kron radius\n",
      "     flux_auto_r   Flux measurement, for an elliptical model based on Kron radius\n",
      "     flux_auto_i   Flux measurement, for an elliptical model based on Kron radius\n",
      "     flux_auto_z   Flux measurement, for an elliptical model based on Kron radius\n",
      "     flux_auto_y   Flux measurement, for an elliptical model based on Kron radius\n",
      "  fluxerr_auto_g   uncertainty in flux measurement, for an elliptical model b\n",
      "                   ased on Kron radius\n",
      "  fluxerr_auto_r   uncertainty in flux measurement, for an elliptical model b\n",
      "                   ased on Kron radius\n",
      "  fluxerr_auto_i   uncertainty in flux measurement, for an elliptical model b\n",
      "                   ased on Kron radius\n",
      "  fluxerr_auto_z   uncertainty in flux measurement, for an elliptical model b\n",
      "                   ased on Kron radius\n",
      "  fluxerr_auto_y   uncertainty in flux measurement, for an elliptical model b\n",
      "                   ased on Kron radius\n",
      "   flux_aper_8_g   Flux measurement for circular apertures\n",
      "   flux_aper_8_r   Flux measurement for circular apertures\n",
      "   flux_aper_8_i   Flux measurement for circular apertures\n",
      "   flux_aper_8_z   Flux measurement for circular apertures\n",
      "   flux_aper_8_y   Flux measurement for circular apertures\n",
      "fluxerr_aper_8_g   Uncertainty in aperture-flux measurement, elliptical model\n",
      "                   based on the Kron radius\n",
      "fluxerr_aper_8_r   Uncertainty in aperture-flux measurement, elliptical model\n",
      "                   based on the Kron radius\n",
      "fluxerr_aper_8_i   Uncertainty in aperture-flux measurement, elliptical model\n",
      "                   based on the Kron radius\n",
      "fluxerr_aper_8_z   Uncertainty in aperture-flux measurement, elliptical model\n",
      "                   based on the Kron radius\n",
      "fluxerr_aper_8_y   Uncertainty in aperture-flux measurement, elliptical model\n",
      "                   based on the Kron radius\n",
      " wavg_flux_psf_g   Weighted average flux measurement of PSF fit single epoch \n",
      "                   detections\n",
      " wavg_flux_psf_r   Weighted average flux measurement of PSF fit single epoch \n",
      "                   detections\n",
      " wavg_flux_psf_i   Weighted average flux measurement of PSF fit single epoch \n",
      "                   detections\n",
      " wavg_flux_psf_z   Weighted average flux measurement of PSF fit single epoch \n",
      "                   detections\n",
      " wavg_flux_psf_y   Weighted average flux measurement of PSF fit single epoch \n",
      "                   detections\n",
      "wavg_fluxerr_psf_g   Uncertainty of weighted average flux, of PSF fit single ep\n",
      "                   och detections\n",
      "wavg_fluxerr_psf_r   Uncertainty of weighted average flux, of PSF fit single ep\n",
      "                   och detections\n",
      "wavg_fluxerr_psf_i   Uncertainty of weighted average flux, of PSF fit single ep\n",
      "                   och detections\n",
      "wavg_fluxerr_psf_z   Uncertainty of weighted average flux, of PSF fit single ep\n",
      "                   och detections\n",
      "wavg_fluxerr_psf_y   Uncertainty of weighted average flux, of PSF fit single ep\n",
      "                   och detections\n",
      "    class_star_g   Simple morphological extended source classifier. Values be\n",
      "                   tween 0 (galaxies) and 1 (stars). SPREAD_MODEL exhibits be\n",
      "                   tter performance for morphological classification.\n",
      "    class_star_r   Simple morphological extended source classifier. Values be\n",
      "                   tween 0 (galaxies) and 1 (stars). SPREAD_MODEL exhibits be\n",
      "                   tter performance for morphological classification.\n",
      "    class_star_i   Simple morphological extended source classifier. Values be\n",
      "                   tween 0 (galaxies) and 1 (stars). SPREAD_MODEL exhibits be\n",
      "                   tter performance for morphological classification.\n",
      "    class_star_z   Simple morphological extended source classifier. Values be\n",
      "                   tween 0 (galaxies) and 1 (stars). SPREAD_MODEL exhibits be\n",
      "                   tter performance for morphological classification.\n",
      "    class_star_y   Simple morphological extended source classifier. Values be\n",
      "                   tween 0 (galaxies) and 1 (stars). SPREAD_MODEL exhibits be\n",
      "                   tter performance for morphological classification.\n",
      "  spread_model_g   Morphology based classifier based on comparison between a \n",
      "                   PSF versus exponential-PSF model. Values closer to 0 corre\n",
      "                   spond to stars, larger values correspond to galaxies.\n",
      "  spread_model_r   Morphology based classifier based on comparison between a \n",
      "                   PSF versus exponential-PSF model. Values closer to 0 corre\n",
      "                   spond to stars, larger values correspond to galaxies.\n",
      "  spread_model_i   Morphology based classifier based on comparison between a \n",
      "                   PSF versus exponential-PSF model. Values closer to 0 corre\n",
      "                   spond to stars, larger values correspond to galaxies.\n",
      "  spread_model_z   Morphology based classifier based on comparison between a \n",
      "                   PSF versus exponential-PSF model. Values closer to 0 corre\n",
      "                   spond to stars, larger values correspond to galaxies.\n",
      "  spread_model_y   Morphology based classifier based on comparison between a \n",
      "                   PSF versus exponential-PSF model. Values closer to 0 corre\n",
      "                   spond to stars, larger values correspond to galaxies.\n",
      "wavg_spread_model_g   SPREAD MODEL using the weighted averaged values from singl\n",
      "                   e epoch detections\n",
      "wavg_spread_model_r   SPREAD MODEL using the weighted averaged values from singl\n",
      "                   e epoch detections\n",
      "wavg_spread_model_i   SPREAD MODEL using the weighted averaged values from singl\n",
      "                   e epoch detections\n",
      "wavg_spread_model_z   SPREAD MODEL using the weighted averaged values from singl\n",
      "                   e epoch detections\n",
      "wavg_spread_model_y   SPREAD MODEL using the weighted averaged values from singl\n",
      "                   e epoch detections\n",
      "spreaderr_model_g   Uncertainty in morphology based classifier based on compar\n",
      "                   ison between PSF versus exponential-PSF model.\n",
      "spreaderr_model_r   Uncertainty in morphology based classifier based on compar\n",
      "                   ison between PSF versus exponential-PSF model.\n",
      "spreaderr_model_i   Uncertainty in morphology based classifier based on compar\n",
      "                   ison between PSF versus exponential-PSF model.\n",
      "spreaderr_model_z   Uncertainty in morphology based classifier based on compar\n",
      "                   ison between PSF versus exponential-PSF model.\n",
      "spreaderr_model_y   Uncertainty in morphology based classifier based on compar\n",
      "                   ison between PSF versus exponential-PSF model.\n",
      "wavg_spreaderr_model_g   Uncertainty in SPREAD MODEL using the weighted averaged va\n",
      "                   lues from single epoch detections\n",
      "wavg_spreaderr_model_r   Uncertainty in SPREAD MODEL using the weighted averaged va\n",
      "                   lues from single epoch detections\n",
      "wavg_spreaderr_model_i   Uncertainty in SPREAD MODEL using the weighted averaged va\n",
      "                   lues from single epoch detections\n",
      "wavg_spreaderr_model_z   Uncertainty in SPREAD MODEL using the weighted averaged va\n",
      "                   lues from single epoch detections\n",
      "wavg_spreaderr_model_y   Uncertainty in SPREAD MODEL using the weighted averaged va\n",
      "                   lues from single epoch detections\n",
      "             g_r   G-R color\n",
      "             r_i   R-I color\n",
      "             i_z   I-Z color\n",
      "             z_y   Z-Y color\n",
      "           snr_g   S/N\n",
      "           snr_r   S/N\n",
      "           snr_i   S/N\n",
      "           snr_z   S/N\n",
      "           snr_y   S/N\n",
      "  imaflags_iso_g   Flag identifying sources with missing/flagged pixels, cons\n",
      "                   idering all single epoch images\n",
      "       nepochs_g   Number of epochs the source in detected in single epoch images\n",
      "  imaflags_iso_r   Flag identifying sources with missing/flagged pixels, cons\n",
      "                   idering all single epoch images\n",
      "       nepochs_r   Number of epochs the source in detected in single epoch images\n",
      "  imaflags_iso_i   Flag identifying sources with missing/flagged pixels, cons\n",
      "                   idering all single epoch images\n",
      "       nepochs_i   Number of epochs the source in detected in single epoch images\n",
      "  imaflags_iso_z   Flag identifying sources with missing/flagged pixels, cons\n",
      "                   idering all single epoch images\n",
      "       nepochs_z   Number of epochs the source in detected in single epoch images\n",
      "  imaflags_iso_y   Flag identifying sources with missing/flagged pixels, cons\n",
      "                   idering all single epoch images\n",
      "       nepochs_y   Number of epochs the source in detected in single epoch images\n",
      "            htm9   HTM Level-9 index\n",
      "         ring256   Healpix ID with nside=256, ring schema\n",
      "        nest4096   Healpix ID with nside=4096, nested schema\n",
      " isoarea_image_g   Isophotal area of the coadded source\n",
      " isoarea_image_r   Isophotal area of the coadded source\n",
      " isoarea_image_i   Isophotal area of the coadded source\n",
      " isoarea_image_z   Isophotal area of the coadded source\n",
      " isoarea_image_y   Isophotal area of the coadded source\n",
      "   niter_model_g   Number of iterations in model fitting photometric measurements\n",
      "   niter_model_r   Number of iterations in model fitting photometric measurements\n",
      "   niter_model_i   Number of iterations in model fitting photometric measurements\n",
      "   niter_model_z   Number of iterations in model fitting photometric measurements\n",
      "   niter_model_y   Number of iterations in model fitting photometric measurements\n",
      "         flags_g   Additive flag describing cautionary advice about source ex\n",
      "                   traction process.  Use less than 4 for well behaved object\n",
      "                   s\n",
      "         flags_r   Additive flag describing cautionary advice about source ex\n",
      "                   traction process.  Use less than 4 for well behaved object\n",
      "                   s\n",
      "         flags_i   Additive flag describing cautionary advice about source ex\n",
      "                   traction process.  Use less than 4 for well behaved object\n",
      "                   s\n",
      "         flags_z   Additive flag describing cautionary advice about source ex\n",
      "                   traction process.  Use less than 4 for well behaved object\n",
      "                   s\n",
      "         flags_y   Additive flag describing cautionary advice about source ex\n",
      "                   traction process.  Use less than 4 for well behaved object\n",
      "                   s\n",
      "        tilename   Tile name\n",
      "\n"
     ]
    }
   ],
   "source": [
    "print(qc.schema('des_dr1.main'))"
   ]
  },
  {
   "cell_type": "code",
   "execution_count": 14,
   "id": "c04dbe9b-84bf-45ee-b466-c93f0d782be9",
   "metadata": {
    "tags": []
   },
   "outputs": [
    {
     "name": "stdout",
     "output_type": "stream",
     "text": [
      "EXECUTING\n",
      "EXECUTING\n",
      "COMPLETED\n",
      "error message  Error: list index out of range\n",
      "20\n",
      "   coadd_object_id  ring256\n",
      "0        207156094   645536\n",
      "1        207156030   645536\n",
      "2        207156119   645536\n",
      "3        207156222   645536\n",
      "4        207156176   645536\n",
      "CPU times: user 195 ms, sys: 8.02 ms, total: 203 ms\n",
      "Wall time: 10.5 s\n"
     ]
    }
   ],
   "source": [
    "%%time\n",
    "\n",
    "query2 = \"\"\"\n",
    "        SELECT coadd_object_id, ring256\n",
    "        FROM des_dr1.main\n",
    "        LIMIT 20\n",
    "        \"\"\"\n",
    "\n",
    "### async mode returns jobid\n",
    "jobid_des = qc.query(token, sql=query2, fmt='csv', async_=True, timeout=3600, out='vos://DES_DR1_pt1.csv')\n",
    "status = ''\n",
    "while (status != 'COMPLETED' and status != 'ERROR'):\n",
    "    status = qc.status(token, jobid_des)\n",
    "    print(status)\n",
    "    time.sleep(2)\n",
    "\n",
    "print ('error message ', qc.error(token, jobid_des)) \n",
    "\n",
    "response_des = qc.results(token,jobid_des)\n",
    "#df = qc.query(sql=aquery, fmt='pandas')\n",
    "res_des = qc.query(sql=query2, fmt='csv', out='vos://my_file_des_id.csv')\n",
    "\n",
    "data_des = sc.get('vos://my_file_des_id.csv') \n",
    "data_des = convert(data_des)\n",
    "print(len(data_des))\n",
    "print(data_des.head())"
   ]
  },
  {
   "cell_type": "code",
   "execution_count": 6,
   "id": "95443635-4294-4d7e-8289-06930cb66631",
   "metadata": {
    "tags": []
   },
   "outputs": [
    {
     "name": "stdout",
     "output_type": "stream",
     "text": [
      "\n",
      "\t     column_name : shapedev_r\n",
      "\t      table_name : ls_dr8.tractor_n\n",
      "\t        datatype : adql:REAL\n",
      "\t       arraysize : 1\n",
      "\t           utype : \n",
      "\t            unit : arcsec\n",
      "\t             ucd : \n",
      "\t         indexed : False\n",
      "\n"
     ]
    }
   ],
   "source": [
    "print(qc.schema('ls_dr8.tractor_n.shapedev_r'))"
   ]
  },
  {
   "cell_type": "code",
   "execution_count": 4,
   "id": "1da68a56-ec8a-4148-8993-270587d3de35",
   "metadata": {
    "collapsed": true,
    "jupyter": {
     "outputs_hidden": true
    },
    "tags": []
   },
   "outputs": [
    {
     "name": "stdout",
     "output_type": "stream",
     "text": [
      "\n",
      "Schema: ls_dr8\n",
      " Table: tractor_n\n",
      "\n",
      "     Column Name   Description\n",
      "     -----------   -----------\n",
      "      brightblob   bitwise mask indicating that an object is near a bright fo\n",
      "                   reground source, as cataloged on the <a href='http://legac\n",
      "                   ysurvey.org/dr8/bitmasks'>DR8 bitmasks page</a>\n",
      "        maskbits   bitwise mask indicating that an object touches a pixel in \n",
      "                   the coadd/*/*/*maskbits* maps, as cataloged on the <a href\n",
      "                   ='http://legacysurvey.org/dr8/bitmasks'>DR8 bitmasks page<\n",
      "                   /a>\n",
      "             dec   Declination at equinox J2000\n",
      "            elat   Ecliptic Latitude\n",
      "            elon   Ecliptic Longitude\n",
      "            glat   Galactic Latitude\n",
      "            glon   Galactic Longitude\n",
      "         mjd_max   Maximum Modified Julian Date of observations used to const\n",
      "                   ruct the model of this object\n",
      "         mjd_min   Minimum Modified Julian Date of observations used to const\n",
      "                   ruct the model of this object\n",
      "              ra   Right ascension at equinox J2000\n",
      "         brickid   Brick ID [1,662174]\n",
      "              bx   X position (0-indexed) of coordinates in brick image stack\n",
      "              by   Y position (0-indexed) of coordinates in brick image stack\n",
      "        dchisq_1   Difference in X^2 between successfully more-complex model fits\n",
      "        dchisq_2   Difference in X^2 between successfully more-complex model fits\n",
      "        dchisq_3   Difference in X^2 between successfully more-complex model fits\n",
      "        dchisq_4   Difference in X^2 between successfully more-complex model fits\n",
      "        dchisq_5   Difference in X^2 between successfully more-complex model fits\n",
      "           ls_id   Unique LS object ID\n",
      "        dec_ivar   Inverse variance of DEC, excluding astrometric calibration\n",
      "                   errors\n",
      "    dered_flux_g   Dereddened G-band flux\n",
      "    dered_flux_r   Dereddened R-band flux\n",
      "   dered_flux_w1   Dereddened W1 flux\n",
      "   dered_flux_w2   Dereddened W1 flux\n",
      "   dered_flux_w3   Dereddened W1 flux\n",
      "   dered_flux_w4   Dereddened W1 flux\n",
      "    dered_flux_z   Dereddened Z-band flux\n",
      "     dered_mag_g   Dereddened G-band magnitude\n",
      "     dered_mag_r   Dereddened R-band magnitude\n",
      "    dered_mag_w1   Dereddened W1 magnitude\n",
      "    dered_mag_w2   Dereddened W2 magnitude\n",
      "    dered_mag_w3   Dereddened W3 magnitude\n",
      "    dered_mag_w4   Dereddened W4 magnitude\n",
      "     dered_mag_z   Dereddened Z-band magnitude\n",
      "             ebv   Galactic extinction E(B-V) reddening from SFD98, used to c\n",
      "                   ompute the mw_transmission_ columns\n",
      "     fiberflux_g   Predicted g-band flux within a fiber from this object in 1\n",
      "                   arcsec Gaussian seeing\n",
      "     fiberflux_r   Predicted r-band flux within a fiber from this object in 1\n",
      "                   arcsec Gaussian seeing\n",
      "     fiberflux_z   Predicted z-band flux within a fiber from this object in 1\n",
      "                   arcsec Gaussian seeing\n",
      "  fibertotflux_g   Predicted g-band flux within a fiber from all sources at t\n",
      "                   his location in 1 arcsec Gaussian seeing\n",
      "  fibertotflux_r   Predicted r-band flux within a fiber from all sources at t\n",
      "                   his location in 1 arcsec Gaussian seeing\n",
      "  fibertotflux_z   Predicted z-band flux within a fiber from all sources at t\n",
      "                   his location in 1 arcsec Gaussian seeing\n",
      "    flux_ivar_w1   Inverse variance of flux_w1 (AB system)\n",
      "    flux_ivar_w2   Inverse variance of flux_w2 (AB)\n",
      "    flux_ivar_w3   Inverse variance of flux_w3 (AB)\n",
      "    flux_ivar_w4   Inverse variance of flux_w4 (AB)\n",
      "         flux_w1   WISE model flux in W1 (AB system)\n",
      "         flux_w2   WISE model flux in W2 (AB)\n",
      "         flux_w3   WISE model flux in W3 (AB)\n",
      "         flux_w4   WISE model flux in W4 (AB)\n",
      "         fracdev   Fraction of model in deVauc [0,1]\n",
      "    fracdev_ivar   Inverse variance of fracdev\n",
      "      fracflux_g   Profile-weighted fraction of the flux from other sources d\n",
      "                   ivided by the total flux in g (typically [0,1])\n",
      "      fracflux_r   Profile-weighted fraction of the flux from other sources d\n",
      "                   ivided by the total flux in r (typically [0,1])\n",
      "     fracflux_w1   Profile-weighted fraction of the flux from other sources d\n",
      "                   ivided by the total flux in W1 (typically [0,1])\n",
      "     fracflux_w2   Profile-weighted fraction of the flux from other sources d\n",
      "                   ivided by the total flux in W2 (typically [0,1])\n",
      "     fracflux_w3   Profile-weighted fraction of the flux from other sources d\n",
      "                   ivided by the total flux in W3 (typically [0,1])\n",
      "     fracflux_w4   Profile-weighted fraction of the flux from other sources d\n",
      "                   ivided by the total flux in W4 (typically [0,1])\n",
      "      fracflux_z   Profile-weighted fraction of the flux from other sources d\n",
      "                   ivided by the total flux in z (typically [0,1])\n",
      "        fracin_g   Fraction of a source flux within the blob in g, near unity\n",
      "                   for real sources\n",
      "        fracin_r   Fraction of a source flux within the blob in r, near unity\n",
      "                   for real sources\n",
      "        fracin_z   Fraction of a source flux within the blob in z, near unity\n",
      "                   for real sources\n",
      "    fracmasked_g   Profile-weighted fraction of pixels masked from all observ\n",
      "                   ations of this object in g, strictly between [0,1]\n",
      "    fracmasked_r   Profile-weighted fraction of pixels masked from all observ\n",
      "                   ations of this object in r, strictly between [0,1]\n",
      "    fracmasked_z   Profile-weighted fraction of pixels masked from all observ\n",
      "                   ations of this object in z, strictly between [0,1]\n",
      "gaia_astrometric_excess_noise   Gaia astrometric excess noise\n",
      "gaia_astrometric_excess_noise_sig   Gaia astrometric excess noise uncertainty\n",
      "gaia_astrometric_weight_al   Gaia astrometric weight along scan direction\n",
      "gaia_phot_bp_mean_flux_over_error   Gaia BP signal-to-noise\n",
      "gaia_phot_bp_mean_mag   Gaia BP mag\n",
      "gaia_phot_g_mean_flux_over_error   Gaia G band signal-to-noise\n",
      "gaia_phot_g_mean_mag   Gaia G band mag\n",
      "gaia_phot_rp_mean_flux_over_error   Gaia RP signal-to-noise\n",
      "gaia_phot_rp_mean_mag   Gaia RP mag\n",
      "      galdepth_g   As for PSFDEPTH_G but for a galaxy (0.45 arcsec exp, round\n",
      "                   ) detection sensitivity\n",
      "      galdepth_r   As for PSFDEPTH_R but for a galaxy (0.45 arcsec exp, round\n",
      "                   ) detection sensitivity\n",
      "      galdepth_z   As for PSFDEPTH_Z but for a galaxy (0.45 arcsec exp, round\n",
      "                   ) detection sensitivity\n",
      "             g_r   Computed (g-r) color\n",
      "            htm9   HTM index (order 9 => ~10 arcmin size)\n",
      "           mag_g   Converted G magnitude\n",
      "           mag_r   Converted R magnitude\n",
      "          mag_w1   W1 magnitude\n",
      "          mag_w2   W2 magnitude\n",
      "          mag_w3   W3 magnitude\n",
      "          mag_w4   W4 magnitude\n",
      "           mag_z   Converted Z magnitude\n",
      "mw_transmission_g   Galactic transmission in g filter in linear units [0, 1]\n",
      "mw_transmission_r   Galactic transmission in r filter in linear units [0, 1]\n",
      "mw_transmission_w1   Galactic transmission in W1 filter in linear units [0, 1]\n",
      "mw_transmission_w2   Galactic transmission in W2 filter in linear units [0, 1]\n",
      "mw_transmission_w3   Galactic transmission in W3 filter in linear units [0, 1]\n",
      "mw_transmission_w4   Galactic transmission in W4 filter in linear units [0, 1]\n",
      "mw_transmission_z   Galactic transmission in z filter in linear units [0, 1]\n",
      "        nest4096   HEALPIX index (Nsides 4096, Nest scheme => ~52 arcsec size\n",
      "           objid   Catalog object number within this brick; a unique identifi\n",
      "                   er hash is release,brickid,objid; objid spans [0,N-1] and\n",
      "                   is contiguously enumerated within each blob\n",
      "        parallax   Reference catalog parallax\n",
      "   parallax_ivar   Reference catalog inverse-variance on parallax\n",
      "           pmdec   Reference catalog proper motion in the Dec direction\n",
      "      pmdec_ivar   Reference catalog inverse-variance on pmdec\n",
      "            pmra   Reference catalog proper motion in the RA direction\n",
      "       pmra_ivar   Reference catalog inverse-variance on pmra\n",
      "      psfdepth_g   For a 5 sigma point source detection limit in g, 5/sqrt(ps\n",
      "                   fdepth_g) gives flux in nanomaggies and -2.5[log_10(5 / sq\n",
      "                   rt(psfdepth_g)) - 9] gives corresponding AB magnitude\n",
      "      psfdepth_r   For a 5 sigma point source detection limit in g, 5/sqrt(ps\n",
      "                   fdepth_r) gives flux in nanomaggies and -2.5[log_10(5 / sq\n",
      "                   rt(psfdepth_r)) - 9] gives corresponding AB magnitude\n",
      "      psfdepth_z   For a 5 sigma point source detection limit in g, 5/sqrt(ps\n",
      "                   fdepth_z) gives flux in nanomaggies and -2.5[log_10(5 / sq\n",
      "                   rt(psfdepth_z)) - 9] gives corresponding AB magnitude\n",
      "       psfsize_g   Weighted average PSF FWHM in the g band\n",
      "       psfsize_r   Weighted average PSF FWHM in the r band\n",
      "       psfsize_z   Weighted average PSF FWHM in the z band\n",
      "         ra_ivar   Inverse variance of RA (no cosine term!), excluding astrom\n",
      "                   etric calibration errors\n",
      "       random_id   Random ID in the range 0.0 => 100.0\n",
      "        rchisq_g   Profile-weighted chi^2 of model fit normalized by the numb\n",
      "                   er of pixels in g\n",
      "        rchisq_r   Profile-weighted chi^2 of model fit normalized by the numb\n",
      "                   er of pixels in r\n",
      "       rchisq_w1   Profile-weighted chi^2 of model fit normalized by the numb\n",
      "                   er of pixels in W1\n",
      "       rchisq_w2   Profile-weighted chi^2 of model fit normalized by the numb\n",
      "                   er of pixels in W2\n",
      "       rchisq_w3   Profile-weighted chi^2 of model fit normalized by the numb\n",
      "                   er of pixels in W3\n",
      "       rchisq_w4   Profile-weighted chi^2 of model fit normalized by the numb\n",
      "                   er of pixels in W4\n",
      "        rchisq_z   Profile-weighted chi^2 of model fit normalized by the numb\n",
      "                   er of pixels in z\n",
      "       ref_epoch   Reference catalog reference epoch (eg, 2015.5 for Gaia DR2)\n",
      "          ref_id   Reference catalog identifier for this star; Tyc1*1,000,000\n",
      "                   +Tyc2*10+Tyc3 for Tycho2; sourceid for Gaia-DR2 and LSLGA\n",
      "         ring256   HEALPIX index (Nsides 256, Ring scheme => ~14 arcmin size)\n",
      "             r_z   Computed (r-z) color\n",
      "     shapedev_e1   Ellipticity component 1\n",
      "shapedev_e1_ivar   Inverse variance of shapedev_e1\n",
      "     shapedev_e2   Ellipticity component 2\n",
      "shapedev_e2_ivar   Inverse variance of shapedev_e2\n",
      "      shapedev_r   Half-light radius of deVaucouleurs model (>0)\n",
      " shapedev_r_ivar   Inverse variance of shapedev_r\n",
      "     shapeexp_e1   Ellipticity component 1\n",
      "shapeexp_e1_ivar   Inverse variance of shapeexp_e1\n",
      "     shapeexp_e2   Ellipticity component 2\n",
      "shapeexp_e2_ivar   Inverse variance of shapeexp_e2\n",
      "      shapeexp_r   Half-light radius of exponential model (>0)\n",
      " shapeexp_r_ivar   Inverse variance of shapeexp_r\n",
      "           snr_g   Signal-to-Noise ratio in G\n",
      "           snr_r   Signal-to-Noise ratio in R\n",
      "          snr_w1   Signal-to-Noise ratio in W1\n",
      "          snr_w2   Signal-to-Noise ratio in W2\n",
      "          snr_w3   Signal-to-Noise ratio in W3\n",
      "          snr_w4   Signal-to-Noise ratio in W4\n",
      "           snr_z   Signal-to-Noise ratio in Z\n",
      "           w1_w2   Computed (w1-w2) color\n",
      "           w2_w3   Computed (w2-w3) color\n",
      "           w3_w4   Computed (w3-d4) color\n",
      "            z_w1   Computed (z-w1 color\n",
      "       allmask_g   Bitwise mask set if the central pixel from all images sati\n",
      "                   sfy each condition in g as cataloged on the DR8 bitmasks p\n",
      "                   age\n",
      "       allmask_r   Bitwise mask set if the central pixel from all images sati\n",
      "                   sfy each condition in r as cataloged on the DR8 bitmasks p\n",
      "                   age\n",
      "       allmask_z   Bitwise mask set if the central pixel from all images sati\n",
      "                   sfy each condition in z as cataloged on the DR8 bitmasks p\n",
      "                   age\n",
      "       anymask_g   Bitwise mask set if the central pixel from any image satis\n",
      "                   fies each condition in g as cataloged on the DR8 bitmasks\n",
      "                   page\n",
      "       anymask_r   Bitwise mask set if the central pixel from any image satis\n",
      "                   fies each condition in r as cataloged on the DR8 bitmasks\n",
      "                   page\n",
      "       anymask_z   Bitwise mask set if the central pixel from any image satis\n",
      "                   fies each condition in z as cataloged on the DR8 bitmasks\n",
      "                   page\n",
      "   brick_primary   True if the object is within the brick boundary\n",
      "gaia_astrometric_n_good_obs_al   Gaia number of good astrometric observations along scan di\n",
      "                   rection\n",
      "gaia_astrometric_n_obs_al   Gaia number of astrometric observations along scan direction\n",
      "gaia_duplicated_source   Gaia duplicated source flag\n",
      "gaia_phot_bp_n_obs   Gaia BP number of observations\n",
      "gaia_phot_g_n_obs   Gaia G band number of observations\n",
      "gaia_phot_rp_n_obs   Gaia RP number of observations\n",
      "gaia_phot_variable_flag   Gaia photometric variable flag\n",
      "gaia_pointsource   This Gaia DR2 source is believed to be a star, not a galaxy\n",
      "          nobs_g   Number of images that contribute to the central pixel in g\n",
      "                   : filter for this object (not profile-weighted)\n",
      "          nobs_r   Number of images that contribute to the central pixel in r\n",
      "                   : filter for this object (not profile-weighted)\n",
      "         nobs_w1   Number of images that contribute to the central pixel in W\n",
      "                   1: filter for this object (not profile-weighted)\n",
      "         nobs_w2   Number of images that contribute to the central pixel in W\n",
      "                   2: filter for this object (not profile-weighted)\n",
      "         nobs_w3   Number of images that contribute to the central pixel in W\n",
      "                   3: filter for this object (not profile-weighted)\n",
      "         nobs_w4   Number of images that contribute to the central pixel in W\n",
      "                   4: filter for this object (not profile-weighted)\n",
      "          nobs_z   Number of images that contribute to the central pixel in z\n",
      "                   : filter for this object (not profile-weighted)\n",
      "         release   Unique integer denoting the camera and filter set used\n",
      "     wisemask_w1   W1 bitmask as cataloged on the DR8 bitmasks page\n",
      "     wisemask_w2   W2 bitmask as cataloged on the DR8 bitmasks page\n",
      "       brickname   Name of brick, encoding the brick sky position, eg 1126p22\n",
      "                   2 near RA=112.6, Dec=+22.2\n",
      "         ref_cat   Reference catalog source for this star: T2 forTycho-2, G2 \n",
      "                   for Gaia DR2, L2 for the LSLGA, empty otherwise\n",
      "            type   Morphological model: PSF=stellar, REX=round exponential ga\n",
      "                   laxy, DEV=deVauc, EXP=exponential, COMP=composite, DUP=Gai\n",
      "                   a source fit by different model. Note that in some FITS re\n",
      "                   aders, a trailing space may be appended for PSF , DEV and\n",
      "                   EXP since the column data type is a 4-character string\n",
      "   wise_coadd_id   unWISE coadd file name for the center of each object\n",
      "          flux_g   model flux in g\n",
      "          flux_r   model flux in r\n",
      "          flux_z   model flux in z\n",
      "     flux_ivar_g   Inverse variance of flux_g\n",
      "     flux_ivar_r   Inverse variance of flux_r\n",
      "     flux_ivar_z   Inverse variance of flux_z\n",
      "     psfdepth_w1   As for psfdepth_g (and also on the AB system) but for WISE W1\n",
      "     psfdepth_w2   As for psfdepth_g (and also on the AB system) but for WISE W2\n",
      "     psfdepth_w3   As for psfdepth_g (and also on the AB system) but for WISE W3\n",
      "     psfdepth_w4   As for psfdepth_g (and also on the AB system) but for WISE W4\n",
      "\n"
     ]
    }
   ],
   "source": [
    "# just some comparison between the two versions\n",
    "print(qc.schema('ls_dr8.tractor_n'))"
   ]
  },
  {
   "cell_type": "code",
   "execution_count": null,
   "id": "df42ac89-b667-482f-88c0-569d888ac2b1",
   "metadata": {},
   "outputs": [],
   "source": []
  }
 ],
 "metadata": {
  "kernelspec": {
   "display_name": "Python 3",
   "language": "python",
   "name": "python3"
  },
  "language_info": {
   "codemirror_mode": {
    "name": "ipython",
    "version": 3
   },
   "file_extension": ".py",
   "mimetype": "text/x-python",
   "name": "python",
   "nbconvert_exporter": "python",
   "pygments_lexer": "ipython3",
   "version": "3.8.8"
  }
 },
 "nbformat": 4,
 "nbformat_minor": 5
}
