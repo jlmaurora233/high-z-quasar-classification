{
 "cells": [
  {
   "cell_type": "code",
   "execution_count": 1,
   "id": "c5dee9fd-34e1-4190-b871-652ada6e8aa5",
   "metadata": {},
   "outputs": [],
   "source": [
    "import numpy as np\n",
    "import pandas as pd\n",
    "import matplotlib.pyplot as plt\n",
    "from matplotlib.colors import ListedColormap\n",
    "\n",
    "import json\n",
    "\n",
    "from sklearn.ensemble import RandomForestClassifier\n",
    "from sklearn import svm\n",
    "from sklearn.model_selection import train_test_split, KFold, cross_val_score, GridSearchCV, RandomizedSearchCV\n",
    "from sklearn.metrics import accuracy_score, classification_report, f1_score\n",
    "from sklearn.feature_selection import SelectPercentile, chi2\n",
    "from sklearn.pipeline import Pipeline\n",
    "from sklearn.preprocessing import StandardScaler"
   ]
  },
  {
   "cell_type": "code",
   "execution_count": 2,
   "id": "d2cf7cf9-14ae-4077-bed1-acf2675c8041",
   "metadata": {},
   "outputs": [],
   "source": [
    "# ValueError: could not convert string to float: '8789-0'\n",
    "def read_data_partial(given_fname, output_fname, lim=20000):\n",
    "    content = []\n",
    "    count = 1\n",
    "\n",
    "    with open(given_fname, 'r') as fr:\n",
    "        for line in fr:\n",
    "            if count <= lim:\n",
    "                #print(type(line), line)\n",
    "                content.append(line)\n",
    "                count += 1\n",
    "    with open(output_fname, 'w') as fw:\n",
    "        for line in content:\n",
    "            # print(type(line), line)\n",
    "            fw.write(line)\n",
    "    \n",
    "    data = pd.read_csv(output_fname, index_col=False)\n",
    "\n",
    "    return data"
   ]
  },
  {
   "cell_type": "code",
   "execution_count": 3,
   "id": "4d4a9d1b-1c7a-45f6-9611-184536c7ed77",
   "metadata": {
    "tags": []
   },
   "outputs": [
    {
     "name": "stdout",
     "output_type": "stream",
     "text": [
      "qso_train_catalog.csv partial data description: \n"
     ]
    },
    {
     "data": {
      "text/html": [
       "<div>\n",
       "<style scoped>\n",
       "    .dataframe tbody tr th:only-of-type {\n",
       "        vertical-align: middle;\n",
       "    }\n",
       "\n",
       "    .dataframe tbody tr th {\n",
       "        vertical-align: top;\n",
       "    }\n",
       "\n",
       "    .dataframe thead th {\n",
       "        text-align: right;\n",
       "    }\n",
       "</style>\n",
       "<table border=\"1\" class=\"dataframe\">\n",
       "  <thead>\n",
       "    <tr style=\"text-align: right;\">\n",
       "      <th></th>\n",
       "      <th>ra_d</th>\n",
       "      <th>dec_d</th>\n",
       "      <th>z</th>\n",
       "      <th>u_LSST_mag</th>\n",
       "      <th>u_LSST_magerr</th>\n",
       "      <th>g_LSST_mag</th>\n",
       "      <th>g_LSST_magerr</th>\n",
       "      <th>r_LSST_mag</th>\n",
       "      <th>r_LSST_magerr</th>\n",
       "      <th>i_LSST_mag</th>\n",
       "      <th>...</th>\n",
       "      <th>y_LSST_mag</th>\n",
       "      <th>y_LSST_magerr</th>\n",
       "      <th>Y_WFI_mag</th>\n",
       "      <th>Y_WFI_magerr</th>\n",
       "      <th>J_WFI_mag</th>\n",
       "      <th>J_WFI_magerr</th>\n",
       "      <th>H_WFI_mag</th>\n",
       "      <th>H_WFI_magerr</th>\n",
       "      <th>F_WFI_mag</th>\n",
       "      <th>F_WFI_magerr</th>\n",
       "    </tr>\n",
       "  </thead>\n",
       "  <tbody>\n",
       "    <tr>\n",
       "      <th>count</th>\n",
       "      <td>19999.000000</td>\n",
       "      <td>19999.000000</td>\n",
       "      <td>19999.000000</td>\n",
       "      <td>19999.000000</td>\n",
       "      <td>19999.000000</td>\n",
       "      <td>19999.000000</td>\n",
       "      <td>19999.000000</td>\n",
       "      <td>19999.000000</td>\n",
       "      <td>19999.000000</td>\n",
       "      <td>19999.000000</td>\n",
       "      <td>...</td>\n",
       "      <td>19999.000000</td>\n",
       "      <td>19999.000000</td>\n",
       "      <td>19999.000000</td>\n",
       "      <td>19999.000000</td>\n",
       "      <td>19999.000000</td>\n",
       "      <td>19999.000000</td>\n",
       "      <td>19999.000000</td>\n",
       "      <td>19999.000000</td>\n",
       "      <td>19999.000000</td>\n",
       "      <td>19999.000000</td>\n",
       "    </tr>\n",
       "    <tr>\n",
       "      <th>mean</th>\n",
       "      <td>23.623792</td>\n",
       "      <td>-22.262561</td>\n",
       "      <td>7.999811</td>\n",
       "      <td>99.164311</td>\n",
       "      <td>0.091043</td>\n",
       "      <td>98.638451</td>\n",
       "      <td>0.205693</td>\n",
       "      <td>83.708411</td>\n",
       "      <td>0.652219</td>\n",
       "      <td>56.014640</td>\n",
       "      <td>...</td>\n",
       "      <td>38.686915</td>\n",
       "      <td>3.220267</td>\n",
       "      <td>22.667320</td>\n",
       "      <td>0.422618</td>\n",
       "      <td>18.249912</td>\n",
       "      <td>0.010070</td>\n",
       "      <td>17.991365</td>\n",
       "      <td>0.010060</td>\n",
       "      <td>17.924648</td>\n",
       "      <td>0.010103</td>\n",
       "    </tr>\n",
       "    <tr>\n",
       "      <th>std</th>\n",
       "      <td>13.673958</td>\n",
       "      <td>13.470843</td>\n",
       "      <td>1.154848</td>\n",
       "      <td>7.623070</td>\n",
       "      <td>3.252917</td>\n",
       "      <td>9.636021</td>\n",
       "      <td>9.258799</td>\n",
       "      <td>30.350312</td>\n",
       "      <td>27.306826</td>\n",
       "      <td>36.410617</td>\n",
       "      <td>...</td>\n",
       "      <td>31.606316</td>\n",
       "      <td>187.985892</td>\n",
       "      <td>10.687478</td>\n",
       "      <td>10.845862</td>\n",
       "      <td>0.144553</td>\n",
       "      <td>0.000095</td>\n",
       "      <td>0.344047</td>\n",
       "      <td>0.000094</td>\n",
       "      <td>0.354783</td>\n",
       "      <td>0.000099</td>\n",
       "    </tr>\n",
       "    <tr>\n",
       "      <th>min</th>\n",
       "      <td>0.001002</td>\n",
       "      <td>-47.495711</td>\n",
       "      <td>6.000196</td>\n",
       "      <td>26.765039</td>\n",
       "      <td>0.000000</td>\n",
       "      <td>27.911082</td>\n",
       "      <td>0.000000</td>\n",
       "      <td>22.470212</td>\n",
       "      <td>0.000000</td>\n",
       "      <td>20.720397</td>\n",
       "      <td>...</td>\n",
       "      <td>17.907592</td>\n",
       "      <td>0.000000</td>\n",
       "      <td>17.958488</td>\n",
       "      <td>0.000000</td>\n",
       "      <td>17.975591</td>\n",
       "      <td>0.009674</td>\n",
       "      <td>16.702080</td>\n",
       "      <td>0.009707</td>\n",
       "      <td>16.475177</td>\n",
       "      <td>0.009701</td>\n",
       "    </tr>\n",
       "    <tr>\n",
       "      <th>25%</th>\n",
       "      <td>11.645229</td>\n",
       "      <td>-33.527219</td>\n",
       "      <td>6.999971</td>\n",
       "      <td>99.990000</td>\n",
       "      <td>0.000000</td>\n",
       "      <td>99.990000</td>\n",
       "      <td>0.000000</td>\n",
       "      <td>99.990000</td>\n",
       "      <td>0.000000</td>\n",
       "      <td>25.028411</td>\n",
       "      <td>...</td>\n",
       "      <td>18.943982</td>\n",
       "      <td>0.010414</td>\n",
       "      <td>18.566404</td>\n",
       "      <td>0.010093</td>\n",
       "      <td>18.124439</td>\n",
       "      <td>0.010005</td>\n",
       "      <td>17.823141</td>\n",
       "      <td>0.009996</td>\n",
       "      <td>17.735487</td>\n",
       "      <td>0.010036</td>\n",
       "    </tr>\n",
       "    <tr>\n",
       "      <th>50%</th>\n",
       "      <td>23.594917</td>\n",
       "      <td>-21.578934</td>\n",
       "      <td>7.999920</td>\n",
       "      <td>99.990000</td>\n",
       "      <td>0.000000</td>\n",
       "      <td>99.990000</td>\n",
       "      <td>0.000000</td>\n",
       "      <td>99.990000</td>\n",
       "      <td>0.000000</td>\n",
       "      <td>29.389093</td>\n",
       "      <td>...</td>\n",
       "      <td>25.259249</td>\n",
       "      <td>0.011343</td>\n",
       "      <td>19.349044</td>\n",
       "      <td>0.010231</td>\n",
       "      <td>18.251091</td>\n",
       "      <td>0.010069</td>\n",
       "      <td>18.066165</td>\n",
       "      <td>0.010060</td>\n",
       "      <td>17.993070</td>\n",
       "      <td>0.010102</td>\n",
       "    </tr>\n",
       "    <tr>\n",
       "      <th>75%</th>\n",
       "      <td>35.422686</td>\n",
       "      <td>-10.572103</td>\n",
       "      <td>8.999614</td>\n",
       "      <td>99.990000</td>\n",
       "      <td>0.000000</td>\n",
       "      <td>99.990000</td>\n",
       "      <td>0.000000</td>\n",
       "      <td>99.990000</td>\n",
       "      <td>0.000000</td>\n",
       "      <td>99.990000</td>\n",
       "      <td>...</td>\n",
       "      <td>28.266166</td>\n",
       "      <td>0.560991</td>\n",
       "      <td>24.374057</td>\n",
       "      <td>0.018531</td>\n",
       "      <td>18.374454</td>\n",
       "      <td>0.010133</td>\n",
       "      <td>18.243405</td>\n",
       "      <td>0.010124</td>\n",
       "      <td>18.180132</td>\n",
       "      <td>0.010169</td>\n",
       "    </tr>\n",
       "    <tr>\n",
       "      <th>max</th>\n",
       "      <td>47.497256</td>\n",
       "      <td>-0.000376</td>\n",
       "      <td>9.999744</td>\n",
       "      <td>99.990000</td>\n",
       "      <td>285.052158</td>\n",
       "      <td>99.990000</td>\n",
       "      <td>878.110221</td>\n",
       "      <td>99.990000</td>\n",
       "      <td>2836.799364</td>\n",
       "      <td>99.990000</td>\n",
       "      <td>...</td>\n",
       "      <td>99.990000</td>\n",
       "      <td>26004.534629</td>\n",
       "      <td>99.990000</td>\n",
       "      <td>1291.885585</td>\n",
       "      <td>18.525293</td>\n",
       "      <td>0.010423</td>\n",
       "      <td>18.651787</td>\n",
       "      <td>0.010430</td>\n",
       "      <td>18.738388</td>\n",
       "      <td>0.010521</td>\n",
       "    </tr>\n",
       "  </tbody>\n",
       "</table>\n",
       "<p>8 rows × 23 columns</p>\n",
       "</div>"
      ],
      "text/plain": [
       "               ra_d         dec_d             z    u_LSST_mag  u_LSST_magerr  \\\n",
       "count  19999.000000  19999.000000  19999.000000  19999.000000   19999.000000   \n",
       "mean      23.623792    -22.262561      7.999811     99.164311       0.091043   \n",
       "std       13.673958     13.470843      1.154848      7.623070       3.252917   \n",
       "min        0.001002    -47.495711      6.000196     26.765039       0.000000   \n",
       "25%       11.645229    -33.527219      6.999971     99.990000       0.000000   \n",
       "50%       23.594917    -21.578934      7.999920     99.990000       0.000000   \n",
       "75%       35.422686    -10.572103      8.999614     99.990000       0.000000   \n",
       "max       47.497256     -0.000376      9.999744     99.990000     285.052158   \n",
       "\n",
       "         g_LSST_mag  g_LSST_magerr    r_LSST_mag  r_LSST_magerr    i_LSST_mag  \\\n",
       "count  19999.000000   19999.000000  19999.000000   19999.000000  19999.000000   \n",
       "mean      98.638451       0.205693     83.708411       0.652219     56.014640   \n",
       "std        9.636021       9.258799     30.350312      27.306826     36.410617   \n",
       "min       27.911082       0.000000     22.470212       0.000000     20.720397   \n",
       "25%       99.990000       0.000000     99.990000       0.000000     25.028411   \n",
       "50%       99.990000       0.000000     99.990000       0.000000     29.389093   \n",
       "75%       99.990000       0.000000     99.990000       0.000000     99.990000   \n",
       "max       99.990000     878.110221     99.990000    2836.799364     99.990000   \n",
       "\n",
       "       ...    y_LSST_mag  y_LSST_magerr     Y_WFI_mag  Y_WFI_magerr  \\\n",
       "count  ...  19999.000000   19999.000000  19999.000000  19999.000000   \n",
       "mean   ...     38.686915       3.220267     22.667320      0.422618   \n",
       "std    ...     31.606316     187.985892     10.687478     10.845862   \n",
       "min    ...     17.907592       0.000000     17.958488      0.000000   \n",
       "25%    ...     18.943982       0.010414     18.566404      0.010093   \n",
       "50%    ...     25.259249       0.011343     19.349044      0.010231   \n",
       "75%    ...     28.266166       0.560991     24.374057      0.018531   \n",
       "max    ...     99.990000   26004.534629     99.990000   1291.885585   \n",
       "\n",
       "          J_WFI_mag  J_WFI_magerr     H_WFI_mag  H_WFI_magerr     F_WFI_mag  \\\n",
       "count  19999.000000  19999.000000  19999.000000  19999.000000  19999.000000   \n",
       "mean      18.249912      0.010070     17.991365      0.010060     17.924648   \n",
       "std        0.144553      0.000095      0.344047      0.000094      0.354783   \n",
       "min       17.975591      0.009674     16.702080      0.009707     16.475177   \n",
       "25%       18.124439      0.010005     17.823141      0.009996     17.735487   \n",
       "50%       18.251091      0.010069     18.066165      0.010060     17.993070   \n",
       "75%       18.374454      0.010133     18.243405      0.010124     18.180132   \n",
       "max       18.525293      0.010423     18.651787      0.010430     18.738388   \n",
       "\n",
       "       F_WFI_magerr  \n",
       "count  19999.000000  \n",
       "mean       0.010103  \n",
       "std        0.000099  \n",
       "min        0.009701  \n",
       "25%        0.010036  \n",
       "50%        0.010102  \n",
       "75%        0.010169  \n",
       "max        0.010521  \n",
       "\n",
       "[8 rows x 23 columns]"
      ]
     },
     "execution_count": 3,
     "metadata": {},
     "output_type": "execute_result"
    }
   ],
   "source": [
    "qso_train_partial = read_data_partial('quasar_train_catalog.csv', 'qso_train_partial.csv')\n",
    "print('qso_train_catalog.csv partial data description: ')\n",
    "qso_train_partial.describe()"
   ]
  },
  {
   "cell_type": "code",
   "execution_count": 4,
   "id": "d3dc6670-1d7f-48ac-a6a8-52fbbc5ed3a1",
   "metadata": {
    "tags": []
   },
   "outputs": [
    {
     "name": "stdout",
     "output_type": "stream",
     "text": [
      "mlt_train_catalog.csv partial data description: \n"
     ]
    },
    {
     "data": {
      "text/html": [
       "<div>\n",
       "<style scoped>\n",
       "    .dataframe tbody tr th:only-of-type {\n",
       "        vertical-align: middle;\n",
       "    }\n",
       "\n",
       "    .dataframe tbody tr th {\n",
       "        vertical-align: top;\n",
       "    }\n",
       "\n",
       "    .dataframe thead th {\n",
       "        text-align: right;\n",
       "    }\n",
       "</style>\n",
       "<table border=\"1\" class=\"dataframe\">\n",
       "  <thead>\n",
       "    <tr style=\"text-align: right;\">\n",
       "      <th></th>\n",
       "      <th>ra_d</th>\n",
       "      <th>dec_d</th>\n",
       "      <th>spt</th>\n",
       "      <th>u_LSST_mag</th>\n",
       "      <th>u_LSST_magerr</th>\n",
       "      <th>g_LSST_mag</th>\n",
       "      <th>g_LSST_magerr</th>\n",
       "      <th>r_LSST_mag</th>\n",
       "      <th>r_LSST_magerr</th>\n",
       "      <th>i_LSST_mag</th>\n",
       "      <th>...</th>\n",
       "      <th>y_LSST_mag</th>\n",
       "      <th>y_LSST_magerr</th>\n",
       "      <th>Y_WFI_mag</th>\n",
       "      <th>Y_WFI_magerr</th>\n",
       "      <th>J_WFI_mag</th>\n",
       "      <th>J_WFI_magerr</th>\n",
       "      <th>H_WFI_mag</th>\n",
       "      <th>H_WFI_magerr</th>\n",
       "      <th>F_WFI_mag</th>\n",
       "      <th>F_WFI_magerr</th>\n",
       "    </tr>\n",
       "  </thead>\n",
       "  <tbody>\n",
       "    <tr>\n",
       "      <th>count</th>\n",
       "      <td>19999.000000</td>\n",
       "      <td>19999.000000</td>\n",
       "      <td>19999.000000</td>\n",
       "      <td>1.999900e+04</td>\n",
       "      <td>19999.0</td>\n",
       "      <td>1.999900e+04</td>\n",
       "      <td>19999.0</td>\n",
       "      <td>19999.000000</td>\n",
       "      <td>19999.000000</td>\n",
       "      <td>19999.000000</td>\n",
       "      <td>...</td>\n",
       "      <td>19999.000000</td>\n",
       "      <td>19999.000000</td>\n",
       "      <td>19999.000000</td>\n",
       "      <td>19999.000000</td>\n",
       "      <td>19999.000000</td>\n",
       "      <td>19999.000000</td>\n",
       "      <td>19999.000000</td>\n",
       "      <td>19999.000000</td>\n",
       "      <td>19999.000000</td>\n",
       "      <td>19999.000000</td>\n",
       "    </tr>\n",
       "    <tr>\n",
       "      <th>mean</th>\n",
       "      <td>23.604072</td>\n",
       "      <td>-22.261228</td>\n",
       "      <td>4.936797</td>\n",
       "      <td>9.999000e+01</td>\n",
       "      <td>0.0</td>\n",
       "      <td>9.999000e+01</td>\n",
       "      <td>0.0</td>\n",
       "      <td>24.416302</td>\n",
       "      <td>0.020199</td>\n",
       "      <td>19.872187</td>\n",
       "      <td>...</td>\n",
       "      <td>18.550723</td>\n",
       "      <td>0.010603</td>\n",
       "      <td>18.398234</td>\n",
       "      <td>0.010083</td>\n",
       "      <td>18.146058</td>\n",
       "      <td>0.010062</td>\n",
       "      <td>18.037319</td>\n",
       "      <td>0.010061</td>\n",
       "      <td>18.142713</td>\n",
       "      <td>0.010119</td>\n",
       "    </tr>\n",
       "    <tr>\n",
       "      <th>std</th>\n",
       "      <td>13.705803</td>\n",
       "      <td>13.505142</td>\n",
       "      <td>0.251022</td>\n",
       "      <td>8.540937e-12</td>\n",
       "      <td>0.0</td>\n",
       "      <td>8.540937e-12</td>\n",
       "      <td>0.0</td>\n",
       "      <td>0.182280</td>\n",
       "      <td>0.001938</td>\n",
       "      <td>0.142525</td>\n",
       "      <td>...</td>\n",
       "      <td>0.140613</td>\n",
       "      <td>0.000146</td>\n",
       "      <td>0.141465</td>\n",
       "      <td>0.000094</td>\n",
       "      <td>0.143001</td>\n",
       "      <td>0.000094</td>\n",
       "      <td>0.144039</td>\n",
       "      <td>0.000095</td>\n",
       "      <td>0.141402</td>\n",
       "      <td>0.000096</td>\n",
       "    </tr>\n",
       "    <tr>\n",
       "      <th>min</th>\n",
       "      <td>0.001930</td>\n",
       "      <td>-47.499684</td>\n",
       "      <td>3.000000</td>\n",
       "      <td>9.999000e+01</td>\n",
       "      <td>0.0</td>\n",
       "      <td>9.999000e+01</td>\n",
       "      <td>0.0</td>\n",
       "      <td>23.472924</td>\n",
       "      <td>0.013136</td>\n",
       "      <td>19.108723</td>\n",
       "      <td>...</td>\n",
       "      <td>18.098625</td>\n",
       "      <td>0.010041</td>\n",
       "      <td>17.893173</td>\n",
       "      <td>0.009737</td>\n",
       "      <td>17.674221</td>\n",
       "      <td>0.009702</td>\n",
       "      <td>17.560797</td>\n",
       "      <td>0.009668</td>\n",
       "      <td>17.670703</td>\n",
       "      <td>0.009760</td>\n",
       "    </tr>\n",
       "    <tr>\n",
       "      <th>25%</th>\n",
       "      <td>11.705409</td>\n",
       "      <td>-33.465227</td>\n",
       "      <td>5.000000</td>\n",
       "      <td>9.999000e+01</td>\n",
       "      <td>0.0</td>\n",
       "      <td>9.999000e+01</td>\n",
       "      <td>0.0</td>\n",
       "      <td>24.334772</td>\n",
       "      <td>0.018985</td>\n",
       "      <td>19.777932</td>\n",
       "      <td>...</td>\n",
       "      <td>18.454311</td>\n",
       "      <td>0.010503</td>\n",
       "      <td>18.301993</td>\n",
       "      <td>0.010020</td>\n",
       "      <td>18.049020</td>\n",
       "      <td>0.009998</td>\n",
       "      <td>17.939912</td>\n",
       "      <td>0.009996</td>\n",
       "      <td>18.046667</td>\n",
       "      <td>0.010054</td>\n",
       "    </tr>\n",
       "    <tr>\n",
       "      <th>50%</th>\n",
       "      <td>23.631542</td>\n",
       "      <td>-21.691304</td>\n",
       "      <td>5.000000</td>\n",
       "      <td>9.999000e+01</td>\n",
       "      <td>0.0</td>\n",
       "      <td>9.999000e+01</td>\n",
       "      <td>0.0</td>\n",
       "      <td>24.433813</td>\n",
       "      <td>0.020168</td>\n",
       "      <td>19.871827</td>\n",
       "      <td>...</td>\n",
       "      <td>18.547176</td>\n",
       "      <td>0.010598</td>\n",
       "      <td>18.393954</td>\n",
       "      <td>0.010082</td>\n",
       "      <td>18.140592</td>\n",
       "      <td>0.010061</td>\n",
       "      <td>18.031482</td>\n",
       "      <td>0.010060</td>\n",
       "      <td>18.136810</td>\n",
       "      <td>0.010118</td>\n",
       "    </tr>\n",
       "    <tr>\n",
       "      <th>75%</th>\n",
       "      <td>35.444491</td>\n",
       "      <td>-10.547422</td>\n",
       "      <td>5.000000</td>\n",
       "      <td>9.999000e+01</td>\n",
       "      <td>0.0</td>\n",
       "      <td>9.999000e+01</td>\n",
       "      <td>0.0</td>\n",
       "      <td>24.530030</td>\n",
       "      <td>0.021422</td>\n",
       "      <td>19.966675</td>\n",
       "      <td>...</td>\n",
       "      <td>18.643236</td>\n",
       "      <td>0.010697</td>\n",
       "      <td>18.487967</td>\n",
       "      <td>0.010146</td>\n",
       "      <td>18.235301</td>\n",
       "      <td>0.010125</td>\n",
       "      <td>18.127651</td>\n",
       "      <td>0.010124</td>\n",
       "      <td>18.234207</td>\n",
       "      <td>0.010184</td>\n",
       "    </tr>\n",
       "    <tr>\n",
       "      <th>max</th>\n",
       "      <td>47.487130</td>\n",
       "      <td>-0.000214</td>\n",
       "      <td>5.000000</td>\n",
       "      <td>9.999000e+01</td>\n",
       "      <td>0.0</td>\n",
       "      <td>9.999000e+01</td>\n",
       "      <td>0.0</td>\n",
       "      <td>25.108104</td>\n",
       "      <td>0.028811</td>\n",
       "      <td>20.899200</td>\n",
       "      <td>...</td>\n",
       "      <td>19.597340</td>\n",
       "      <td>0.011930</td>\n",
       "      <td>19.603275</td>\n",
       "      <td>0.010474</td>\n",
       "      <td>19.237794</td>\n",
       "      <td>0.010491</td>\n",
       "      <td>19.127854</td>\n",
       "      <td>0.010468</td>\n",
       "      <td>19.231066</td>\n",
       "      <td>0.010537</td>\n",
       "    </tr>\n",
       "  </tbody>\n",
       "</table>\n",
       "<p>8 rows × 23 columns</p>\n",
       "</div>"
      ],
      "text/plain": [
       "               ra_d         dec_d           spt    u_LSST_mag  u_LSST_magerr  \\\n",
       "count  19999.000000  19999.000000  19999.000000  1.999900e+04        19999.0   \n",
       "mean      23.604072    -22.261228      4.936797  9.999000e+01            0.0   \n",
       "std       13.705803     13.505142      0.251022  8.540937e-12            0.0   \n",
       "min        0.001930    -47.499684      3.000000  9.999000e+01            0.0   \n",
       "25%       11.705409    -33.465227      5.000000  9.999000e+01            0.0   \n",
       "50%       23.631542    -21.691304      5.000000  9.999000e+01            0.0   \n",
       "75%       35.444491    -10.547422      5.000000  9.999000e+01            0.0   \n",
       "max       47.487130     -0.000214      5.000000  9.999000e+01            0.0   \n",
       "\n",
       "         g_LSST_mag  g_LSST_magerr    r_LSST_mag  r_LSST_magerr    i_LSST_mag  \\\n",
       "count  1.999900e+04        19999.0  19999.000000   19999.000000  19999.000000   \n",
       "mean   9.999000e+01            0.0     24.416302       0.020199     19.872187   \n",
       "std    8.540937e-12            0.0      0.182280       0.001938      0.142525   \n",
       "min    9.999000e+01            0.0     23.472924       0.013136     19.108723   \n",
       "25%    9.999000e+01            0.0     24.334772       0.018985     19.777932   \n",
       "50%    9.999000e+01            0.0     24.433813       0.020168     19.871827   \n",
       "75%    9.999000e+01            0.0     24.530030       0.021422     19.966675   \n",
       "max    9.999000e+01            0.0     25.108104       0.028811     20.899200   \n",
       "\n",
       "       ...    y_LSST_mag  y_LSST_magerr     Y_WFI_mag  Y_WFI_magerr  \\\n",
       "count  ...  19999.000000   19999.000000  19999.000000  19999.000000   \n",
       "mean   ...     18.550723       0.010603     18.398234      0.010083   \n",
       "std    ...      0.140613       0.000146      0.141465      0.000094   \n",
       "min    ...     18.098625       0.010041     17.893173      0.009737   \n",
       "25%    ...     18.454311       0.010503     18.301993      0.010020   \n",
       "50%    ...     18.547176       0.010598     18.393954      0.010082   \n",
       "75%    ...     18.643236       0.010697     18.487967      0.010146   \n",
       "max    ...     19.597340       0.011930     19.603275      0.010474   \n",
       "\n",
       "          J_WFI_mag  J_WFI_magerr     H_WFI_mag  H_WFI_magerr     F_WFI_mag  \\\n",
       "count  19999.000000  19999.000000  19999.000000  19999.000000  19999.000000   \n",
       "mean      18.146058      0.010062     18.037319      0.010061     18.142713   \n",
       "std        0.143001      0.000094      0.144039      0.000095      0.141402   \n",
       "min       17.674221      0.009702     17.560797      0.009668     17.670703   \n",
       "25%       18.049020      0.009998     17.939912      0.009996     18.046667   \n",
       "50%       18.140592      0.010061     18.031482      0.010060     18.136810   \n",
       "75%       18.235301      0.010125     18.127651      0.010124     18.234207   \n",
       "max       19.237794      0.010491     19.127854      0.010468     19.231066   \n",
       "\n",
       "       F_WFI_magerr  \n",
       "count  19999.000000  \n",
       "mean       0.010119  \n",
       "std        0.000096  \n",
       "min        0.009760  \n",
       "25%        0.010054  \n",
       "50%        0.010118  \n",
       "75%        0.010184  \n",
       "max        0.010537  \n",
       "\n",
       "[8 rows x 23 columns]"
      ]
     },
     "execution_count": 4,
     "metadata": {},
     "output_type": "execute_result"
    }
   ],
   "source": [
    "# brown dwarf contaminants\n",
    "mlt_train_partial = read_data_partial('mlt_train_catalog.csv', 'mlt_train_partial.csv')\n",
    "print('mlt_train_catalog.csv partial data description: ')\n",
    "mlt_train_partial.describe()"
   ]
  },
  {
   "cell_type": "code",
   "execution_count": 5,
   "id": "ca8248ed-c09f-4a11-98d8-fc34684d3aae",
   "metadata": {
    "tags": []
   },
   "outputs": [
    {
     "name": "stdout",
     "output_type": "stream",
     "text": [
      "galaxies_train_catalog_patch8789.csv partial data description: \n"
     ]
    },
    {
     "data": {
      "text/html": [
       "<div>\n",
       "<style scoped>\n",
       "    .dataframe tbody tr th:only-of-type {\n",
       "        vertical-align: middle;\n",
       "    }\n",
       "\n",
       "    .dataframe tbody tr th {\n",
       "        vertical-align: top;\n",
       "    }\n",
       "\n",
       "    .dataframe thead th {\n",
       "        text-align: right;\n",
       "    }\n",
       "</style>\n",
       "<table border=\"1\" class=\"dataframe\">\n",
       "  <thead>\n",
       "    <tr style=\"text-align: right;\">\n",
       "      <th></th>\n",
       "      <th>ra_d</th>\n",
       "      <th>dec_d</th>\n",
       "      <th>z</th>\n",
       "      <th>redsq_flag</th>\n",
       "      <th>u_LSST_mag</th>\n",
       "      <th>u_LSST_magerr</th>\n",
       "      <th>g_LSST_mag</th>\n",
       "      <th>g_LSST_magerr</th>\n",
       "      <th>r_LSST_mag</th>\n",
       "      <th>r_LSST_magerr</th>\n",
       "      <th>...</th>\n",
       "      <th>z_LSST_mag</th>\n",
       "      <th>z_LSST_magerr</th>\n",
       "      <th>Y_WFI_mag</th>\n",
       "      <th>Y_WFI_magerr</th>\n",
       "      <th>J_WFI_mag</th>\n",
       "      <th>J_WFI_magerr</th>\n",
       "      <th>H_WFI_mag</th>\n",
       "      <th>H_WFI_magerr</th>\n",
       "      <th>F_WFI_mag</th>\n",
       "      <th>F_WFI_magerr</th>\n",
       "    </tr>\n",
       "  </thead>\n",
       "  <tbody>\n",
       "    <tr>\n",
       "      <th>count</th>\n",
       "      <td>19999.000000</td>\n",
       "      <td>19999.000000</td>\n",
       "      <td>19999.000000</td>\n",
       "      <td>19999.000000</td>\n",
       "      <td>19999.000000</td>\n",
       "      <td>19999.000000</td>\n",
       "      <td>19999.000000</td>\n",
       "      <td>19999.000000</td>\n",
       "      <td>19999.000000</td>\n",
       "      <td>19999.000000</td>\n",
       "      <td>...</td>\n",
       "      <td>19999.000000</td>\n",
       "      <td>19999.000000</td>\n",
       "      <td>19999.000000</td>\n",
       "      <td>19999.000000</td>\n",
       "      <td>19999.000000</td>\n",
       "      <td>19999.000000</td>\n",
       "      <td>19999.000000</td>\n",
       "      <td>19999.000000</td>\n",
       "      <td>19999.000000</td>\n",
       "      <td>19999.000000</td>\n",
       "    </tr>\n",
       "    <tr>\n",
       "      <th>mean</th>\n",
       "      <td>23.878705</td>\n",
       "      <td>-22.182163</td>\n",
       "      <td>1.029736</td>\n",
       "      <td>0.206060</td>\n",
       "      <td>32.096210</td>\n",
       "      <td>0.841619</td>\n",
       "      <td>27.163475</td>\n",
       "      <td>0.365798</td>\n",
       "      <td>25.867251</td>\n",
       "      <td>0.086984</td>\n",
       "      <td>...</td>\n",
       "      <td>24.665585</td>\n",
       "      <td>0.103122</td>\n",
       "      <td>24.393170</td>\n",
       "      <td>0.047201</td>\n",
       "      <td>24.257111</td>\n",
       "      <td>0.041552</td>\n",
       "      <td>24.143105</td>\n",
       "      <td>0.041009</td>\n",
       "      <td>24.097952</td>\n",
       "      <td>0.068160</td>\n",
       "    </tr>\n",
       "    <tr>\n",
       "      <th>std</th>\n",
       "      <td>13.681795</td>\n",
       "      <td>13.538485</td>\n",
       "      <td>0.013707</td>\n",
       "      <td>0.404484</td>\n",
       "      <td>19.985380</td>\n",
       "      <td>8.052372</td>\n",
       "      <td>7.995741</td>\n",
       "      <td>11.988124</td>\n",
       "      <td>2.446110</td>\n",
       "      <td>0.273719</td>\n",
       "      <td>...</td>\n",
       "      <td>2.360016</td>\n",
       "      <td>0.326791</td>\n",
       "      <td>1.390669</td>\n",
       "      <td>0.077989</td>\n",
       "      <td>1.525714</td>\n",
       "      <td>0.041961</td>\n",
       "      <td>1.372470</td>\n",
       "      <td>0.040619</td>\n",
       "      <td>1.855994</td>\n",
       "      <td>0.311219</td>\n",
       "    </tr>\n",
       "    <tr>\n",
       "      <th>min</th>\n",
       "      <td>0.000400</td>\n",
       "      <td>-47.490719</td>\n",
       "      <td>1.005989</td>\n",
       "      <td>0.000000</td>\n",
       "      <td>20.885667</td>\n",
       "      <td>0.000000</td>\n",
       "      <td>21.017643</td>\n",
       "      <td>0.000000</td>\n",
       "      <td>21.061000</td>\n",
       "      <td>0.000000</td>\n",
       "      <td>...</td>\n",
       "      <td>20.251427</td>\n",
       "      <td>0.000000</td>\n",
       "      <td>19.714550</td>\n",
       "      <td>0.000000</td>\n",
       "      <td>19.313884</td>\n",
       "      <td>0.000000</td>\n",
       "      <td>18.971237</td>\n",
       "      <td>0.010012</td>\n",
       "      <td>18.749711</td>\n",
       "      <td>0.000000</td>\n",
       "    </tr>\n",
       "    <tr>\n",
       "      <th>25%</th>\n",
       "      <td>12.078150</td>\n",
       "      <td>-33.422642</td>\n",
       "      <td>1.018022</td>\n",
       "      <td>0.000000</td>\n",
       "      <td>25.268505</td>\n",
       "      <td>0.060758</td>\n",
       "      <td>25.333199</td>\n",
       "      <td>0.036689</td>\n",
       "      <td>24.983450</td>\n",
       "      <td>0.026726</td>\n",
       "      <td>...</td>\n",
       "      <td>23.871939</td>\n",
       "      <td>0.034156</td>\n",
       "      <td>23.650510</td>\n",
       "      <td>0.020292</td>\n",
       "      <td>23.493042</td>\n",
       "      <td>0.018506</td>\n",
       "      <td>23.372548</td>\n",
       "      <td>0.017841</td>\n",
       "      <td>23.296980</td>\n",
       "      <td>0.023390</td>\n",
       "    </tr>\n",
       "    <tr>\n",
       "      <th>50%</th>\n",
       "      <td>23.957857</td>\n",
       "      <td>-21.268991</td>\n",
       "      <td>1.030270</td>\n",
       "      <td>0.000000</td>\n",
       "      <td>26.503441</td>\n",
       "      <td>0.193694</td>\n",
       "      <td>26.418137</td>\n",
       "      <td>0.082988</td>\n",
       "      <td>25.941315</td>\n",
       "      <td>0.050624</td>\n",
       "      <td>...</td>\n",
       "      <td>24.740292</td>\n",
       "      <td>0.063615</td>\n",
       "      <td>24.545892</td>\n",
       "      <td>0.033595</td>\n",
       "      <td>24.424274</td>\n",
       "      <td>0.030043</td>\n",
       "      <td>24.329182</td>\n",
       "      <td>0.029424</td>\n",
       "      <td>24.277466</td>\n",
       "      <td>0.043752</td>\n",
       "    </tr>\n",
       "    <tr>\n",
       "      <th>75%</th>\n",
       "      <td>35.765324</td>\n",
       "      <td>-10.507017</td>\n",
       "      <td>1.040617</td>\n",
       "      <td>0.000000</td>\n",
       "      <td>27.615922</td>\n",
       "      <td>0.475728</td>\n",
       "      <td>27.355587</td>\n",
       "      <td>0.181539</td>\n",
       "      <td>26.707190</td>\n",
       "      <td>0.092916</td>\n",
       "      <td>...</td>\n",
       "      <td>25.467804</td>\n",
       "      <td>0.115342</td>\n",
       "      <td>25.283910</td>\n",
       "      <td>0.056736</td>\n",
       "      <td>25.188414</td>\n",
       "      <td>0.050689</td>\n",
       "      <td>25.119557</td>\n",
       "      <td>0.050084</td>\n",
       "      <td>25.074150</td>\n",
       "      <td>0.080108</td>\n",
       "    </tr>\n",
       "    <tr>\n",
       "      <th>max</th>\n",
       "      <td>47.499362</td>\n",
       "      <td>-0.001712</td>\n",
       "      <td>1.055213</td>\n",
       "      <td>1.000000</td>\n",
       "      <td>99.990000</td>\n",
       "      <td>610.729321</td>\n",
       "      <td>99.990000</td>\n",
       "      <td>1616.793763</td>\n",
       "      <td>99.990000</td>\n",
       "      <td>27.122388</td>\n",
       "      <td>...</td>\n",
       "      <td>99.990000</td>\n",
       "      <td>24.843754</td>\n",
       "      <td>99.990000</td>\n",
       "      <td>8.171002</td>\n",
       "      <td>99.990000</td>\n",
       "      <td>1.879305</td>\n",
       "      <td>28.627669</td>\n",
       "      <td>1.148440</td>\n",
       "      <td>99.990000</td>\n",
       "      <td>40.846061</td>\n",
       "    </tr>\n",
       "  </tbody>\n",
       "</table>\n",
       "<p>8 rows × 22 columns</p>\n",
       "</div>"
      ],
      "text/plain": [
       "               ra_d         dec_d             z    redsq_flag    u_LSST_mag  \\\n",
       "count  19999.000000  19999.000000  19999.000000  19999.000000  19999.000000   \n",
       "mean      23.878705    -22.182163      1.029736      0.206060     32.096210   \n",
       "std       13.681795     13.538485      0.013707      0.404484     19.985380   \n",
       "min        0.000400    -47.490719      1.005989      0.000000     20.885667   \n",
       "25%       12.078150    -33.422642      1.018022      0.000000     25.268505   \n",
       "50%       23.957857    -21.268991      1.030270      0.000000     26.503441   \n",
       "75%       35.765324    -10.507017      1.040617      0.000000     27.615922   \n",
       "max       47.499362     -0.001712      1.055213      1.000000     99.990000   \n",
       "\n",
       "       u_LSST_magerr    g_LSST_mag  g_LSST_magerr    r_LSST_mag  \\\n",
       "count   19999.000000  19999.000000   19999.000000  19999.000000   \n",
       "mean        0.841619     27.163475       0.365798     25.867251   \n",
       "std         8.052372      7.995741      11.988124      2.446110   \n",
       "min         0.000000     21.017643       0.000000     21.061000   \n",
       "25%         0.060758     25.333199       0.036689     24.983450   \n",
       "50%         0.193694     26.418137       0.082988     25.941315   \n",
       "75%         0.475728     27.355587       0.181539     26.707190   \n",
       "max       610.729321     99.990000    1616.793763     99.990000   \n",
       "\n",
       "       r_LSST_magerr  ...    z_LSST_mag  z_LSST_magerr     Y_WFI_mag  \\\n",
       "count   19999.000000  ...  19999.000000   19999.000000  19999.000000   \n",
       "mean        0.086984  ...     24.665585       0.103122     24.393170   \n",
       "std         0.273719  ...      2.360016       0.326791      1.390669   \n",
       "min         0.000000  ...     20.251427       0.000000     19.714550   \n",
       "25%         0.026726  ...     23.871939       0.034156     23.650510   \n",
       "50%         0.050624  ...     24.740292       0.063615     24.545892   \n",
       "75%         0.092916  ...     25.467804       0.115342     25.283910   \n",
       "max        27.122388  ...     99.990000      24.843754     99.990000   \n",
       "\n",
       "       Y_WFI_magerr     J_WFI_mag  J_WFI_magerr     H_WFI_mag  H_WFI_magerr  \\\n",
       "count  19999.000000  19999.000000  19999.000000  19999.000000  19999.000000   \n",
       "mean       0.047201     24.257111      0.041552     24.143105      0.041009   \n",
       "std        0.077989      1.525714      0.041961      1.372470      0.040619   \n",
       "min        0.000000     19.313884      0.000000     18.971237      0.010012   \n",
       "25%        0.020292     23.493042      0.018506     23.372548      0.017841   \n",
       "50%        0.033595     24.424274      0.030043     24.329182      0.029424   \n",
       "75%        0.056736     25.188414      0.050689     25.119557      0.050084   \n",
       "max        8.171002     99.990000      1.879305     28.627669      1.148440   \n",
       "\n",
       "          F_WFI_mag  F_WFI_magerr  \n",
       "count  19999.000000  19999.000000  \n",
       "mean      24.097952      0.068160  \n",
       "std        1.855994      0.311219  \n",
       "min       18.749711      0.000000  \n",
       "25%       23.296980      0.023390  \n",
       "50%       24.277466      0.043752  \n",
       "75%       25.074150      0.080108  \n",
       "max       99.990000     40.846061  \n",
       "\n",
       "[8 rows x 22 columns]"
      ]
     },
     "execution_count": 5,
     "metadata": {},
     "output_type": "execute_result"
    }
   ],
   "source": [
    "galaxies_patch8789_partial = read_data_partial('galaxies_train_catalog_patch8789.csv', 'galaxies_patch8789_partial.csv')\n",
    "print('galaxies_train_catalog_patch8789.csv partial data description: ')\n",
    "galaxies_patch8789_partial.describe()"
   ]
  },
  {
   "cell_type": "code",
   "execution_count": 6,
   "id": "aab9586b-ef1b-4a32-8492-2756c444e1b1",
   "metadata": {
    "tags": []
   },
   "outputs": [
    {
     "name": "stdout",
     "output_type": "stream",
     "text": [
      "galaxies_train_catalog_patch8786.csv partial data description: \n"
     ]
    },
    {
     "data": {
      "text/html": [
       "<div>\n",
       "<style scoped>\n",
       "    .dataframe tbody tr th:only-of-type {\n",
       "        vertical-align: middle;\n",
       "    }\n",
       "\n",
       "    .dataframe tbody tr th {\n",
       "        vertical-align: top;\n",
       "    }\n",
       "\n",
       "    .dataframe thead th {\n",
       "        text-align: right;\n",
       "    }\n",
       "</style>\n",
       "<table border=\"1\" class=\"dataframe\">\n",
       "  <thead>\n",
       "    <tr style=\"text-align: right;\">\n",
       "      <th></th>\n",
       "      <th>ra_d</th>\n",
       "      <th>dec_d</th>\n",
       "      <th>z</th>\n",
       "      <th>redsq_flag</th>\n",
       "      <th>u_LSST_mag</th>\n",
       "      <th>u_LSST_magerr</th>\n",
       "      <th>g_LSST_mag</th>\n",
       "      <th>g_LSST_magerr</th>\n",
       "      <th>r_LSST_mag</th>\n",
       "      <th>r_LSST_magerr</th>\n",
       "      <th>...</th>\n",
       "      <th>y_LSST_mag</th>\n",
       "      <th>y_LSST_magerr</th>\n",
       "      <th>Y_WFI_mag</th>\n",
       "      <th>Y_WFI_magerr</th>\n",
       "      <th>J_WFI_mag</th>\n",
       "      <th>J_WFI_magerr</th>\n",
       "      <th>H_WFI_mag</th>\n",
       "      <th>H_WFI_magerr</th>\n",
       "      <th>F_WFI_mag</th>\n",
       "      <th>F_WFI_magerr</th>\n",
       "    </tr>\n",
       "  </thead>\n",
       "  <tbody>\n",
       "    <tr>\n",
       "      <th>count</th>\n",
       "      <td>19999.000000</td>\n",
       "      <td>19999.000000</td>\n",
       "      <td>19999.000000</td>\n",
       "      <td>19999.000000</td>\n",
       "      <td>19999.000000</td>\n",
       "      <td>19999.000000</td>\n",
       "      <td>19999.000000</td>\n",
       "      <td>19999.000000</td>\n",
       "      <td>19999.000000</td>\n",
       "      <td>19999.000000</td>\n",
       "      <td>...</td>\n",
       "      <td>19999.000000</td>\n",
       "      <td>19999.000000</td>\n",
       "      <td>19999.000000</td>\n",
       "      <td>19999.000000</td>\n",
       "      <td>19999.000000</td>\n",
       "      <td>19999.000000</td>\n",
       "      <td>19999.000000</td>\n",
       "      <td>19999.000000</td>\n",
       "      <td>19999.000000</td>\n",
       "      <td>19999.000000</td>\n",
       "    </tr>\n",
       "    <tr>\n",
       "      <th>mean</th>\n",
       "      <td>23.861391</td>\n",
       "      <td>-22.220777</td>\n",
       "      <td>1.033303</td>\n",
       "      <td>0.207710</td>\n",
       "      <td>32.076440</td>\n",
       "      <td>0.902327</td>\n",
       "      <td>27.211979</td>\n",
       "      <td>0.380718</td>\n",
       "      <td>25.851356</td>\n",
       "      <td>0.088822</td>\n",
       "      <td>...</td>\n",
       "      <td>25.221141</td>\n",
       "      <td>0.399308</td>\n",
       "      <td>24.361144</td>\n",
       "      <td>0.046372</td>\n",
       "      <td>24.219740</td>\n",
       "      <td>0.041185</td>\n",
       "      <td>24.111885</td>\n",
       "      <td>0.040571</td>\n",
       "      <td>24.051143</td>\n",
       "      <td>0.065607</td>\n",
       "    </tr>\n",
       "    <tr>\n",
       "      <th>std</th>\n",
       "      <td>13.730388</td>\n",
       "      <td>13.446906</td>\n",
       "      <td>0.013441</td>\n",
       "      <td>0.405678</td>\n",
       "      <td>19.986324</td>\n",
       "      <td>8.611686</td>\n",
       "      <td>8.326998</td>\n",
       "      <td>11.659733</td>\n",
       "      <td>2.517689</td>\n",
       "      <td>0.307329</td>\n",
       "      <td>...</td>\n",
       "      <td>7.801614</td>\n",
       "      <td>7.439558</td>\n",
       "      <td>1.312732</td>\n",
       "      <td>0.045483</td>\n",
       "      <td>1.353944</td>\n",
       "      <td>0.037782</td>\n",
       "      <td>1.402496</td>\n",
       "      <td>0.038762</td>\n",
       "      <td>1.544440</td>\n",
       "      <td>0.090881</td>\n",
       "    </tr>\n",
       "    <tr>\n",
       "      <th>min</th>\n",
       "      <td>0.000071</td>\n",
       "      <td>-47.499394</td>\n",
       "      <td>1.005990</td>\n",
       "      <td>0.000000</td>\n",
       "      <td>20.511595</td>\n",
       "      <td>0.000000</td>\n",
       "      <td>20.689145</td>\n",
       "      <td>0.000000</td>\n",
       "      <td>20.749999</td>\n",
       "      <td>0.000000</td>\n",
       "      <td>...</td>\n",
       "      <td>19.776906</td>\n",
       "      <td>0.000000</td>\n",
       "      <td>19.571055</td>\n",
       "      <td>0.010152</td>\n",
       "      <td>19.165246</td>\n",
       "      <td>0.010151</td>\n",
       "      <td>18.841577</td>\n",
       "      <td>0.010053</td>\n",
       "      <td>18.619593</td>\n",
       "      <td>0.000000</td>\n",
       "    </tr>\n",
       "    <tr>\n",
       "      <th>25%</th>\n",
       "      <td>11.862930</td>\n",
       "      <td>-33.452881</td>\n",
       "      <td>1.023309</td>\n",
       "      <td>0.000000</td>\n",
       "      <td>25.265173</td>\n",
       "      <td>0.057836</td>\n",
       "      <td>25.334869</td>\n",
       "      <td>0.036408</td>\n",
       "      <td>24.961529</td>\n",
       "      <td>0.026510</td>\n",
       "      <td>...</td>\n",
       "      <td>23.664300</td>\n",
       "      <td>0.072782</td>\n",
       "      <td>23.602897</td>\n",
       "      <td>0.019855</td>\n",
       "      <td>23.443356</td>\n",
       "      <td>0.018111</td>\n",
       "      <td>23.313647</td>\n",
       "      <td>0.017441</td>\n",
       "      <td>23.232343</td>\n",
       "      <td>0.022583</td>\n",
       "    </tr>\n",
       "    <tr>\n",
       "      <th>50%</th>\n",
       "      <td>23.977822</td>\n",
       "      <td>-21.484245</td>\n",
       "      <td>1.033333</td>\n",
       "      <td>0.000000</td>\n",
       "      <td>26.509003</td>\n",
       "      <td>0.197169</td>\n",
       "      <td>26.402710</td>\n",
       "      <td>0.082021</td>\n",
       "      <td>25.929260</td>\n",
       "      <td>0.050329</td>\n",
       "      <td>...</td>\n",
       "      <td>24.574696</td>\n",
       "      <td>0.157360</td>\n",
       "      <td>24.531609</td>\n",
       "      <td>0.033312</td>\n",
       "      <td>24.416682</td>\n",
       "      <td>0.029878</td>\n",
       "      <td>24.321447</td>\n",
       "      <td>0.029093</td>\n",
       "      <td>24.272070</td>\n",
       "      <td>0.043334</td>\n",
       "    </tr>\n",
       "    <tr>\n",
       "      <th>75%</th>\n",
       "      <td>35.794271</td>\n",
       "      <td>-10.561793</td>\n",
       "      <td>1.045235</td>\n",
       "      <td>0.000000</td>\n",
       "      <td>27.604059</td>\n",
       "      <td>0.477124</td>\n",
       "      <td>27.339770</td>\n",
       "      <td>0.178356</td>\n",
       "      <td>26.703131</td>\n",
       "      <td>0.092701</td>\n",
       "      <td>...</td>\n",
       "      <td>25.323580</td>\n",
       "      <td>0.305534</td>\n",
       "      <td>25.281628</td>\n",
       "      <td>0.056255</td>\n",
       "      <td>25.179444</td>\n",
       "      <td>0.050102</td>\n",
       "      <td>25.107016</td>\n",
       "      <td>0.049410</td>\n",
       "      <td>25.066376</td>\n",
       "      <td>0.079415</td>\n",
       "    </tr>\n",
       "    <tr>\n",
       "      <th>max</th>\n",
       "      <td>47.496472</td>\n",
       "      <td>-0.001413</td>\n",
       "      <td>1.055212</td>\n",
       "      <td>1.000000</td>\n",
       "      <td>99.990000</td>\n",
       "      <td>605.642904</td>\n",
       "      <td>99.990000</td>\n",
       "      <td>1492.010952</td>\n",
       "      <td>99.990000</td>\n",
       "      <td>30.285473</td>\n",
       "      <td>...</td>\n",
       "      <td>99.990000</td>\n",
       "      <td>979.763106</td>\n",
       "      <td>29.062647</td>\n",
       "      <td>1.628481</td>\n",
       "      <td>28.248498</td>\n",
       "      <td>0.767126</td>\n",
       "      <td>28.574002</td>\n",
       "      <td>1.177792</td>\n",
       "      <td>99.990000</td>\n",
       "      <td>5.245063</td>\n",
       "    </tr>\n",
       "  </tbody>\n",
       "</table>\n",
       "<p>8 rows × 24 columns</p>\n",
       "</div>"
      ],
      "text/plain": [
       "               ra_d         dec_d             z    redsq_flag    u_LSST_mag  \\\n",
       "count  19999.000000  19999.000000  19999.000000  19999.000000  19999.000000   \n",
       "mean      23.861391    -22.220777      1.033303      0.207710     32.076440   \n",
       "std       13.730388     13.446906      0.013441      0.405678     19.986324   \n",
       "min        0.000071    -47.499394      1.005990      0.000000     20.511595   \n",
       "25%       11.862930    -33.452881      1.023309      0.000000     25.265173   \n",
       "50%       23.977822    -21.484245      1.033333      0.000000     26.509003   \n",
       "75%       35.794271    -10.561793      1.045235      0.000000     27.604059   \n",
       "max       47.496472     -0.001413      1.055212      1.000000     99.990000   \n",
       "\n",
       "       u_LSST_magerr    g_LSST_mag  g_LSST_magerr    r_LSST_mag  \\\n",
       "count   19999.000000  19999.000000   19999.000000  19999.000000   \n",
       "mean        0.902327     27.211979       0.380718     25.851356   \n",
       "std         8.611686      8.326998      11.659733      2.517689   \n",
       "min         0.000000     20.689145       0.000000     20.749999   \n",
       "25%         0.057836     25.334869       0.036408     24.961529   \n",
       "50%         0.197169     26.402710       0.082021     25.929260   \n",
       "75%         0.477124     27.339770       0.178356     26.703131   \n",
       "max       605.642904     99.990000    1492.010952     99.990000   \n",
       "\n",
       "       r_LSST_magerr  ...    y_LSST_mag  y_LSST_magerr     Y_WFI_mag  \\\n",
       "count   19999.000000  ...  19999.000000   19999.000000  19999.000000   \n",
       "mean        0.088822  ...     25.221141       0.399308     24.361144   \n",
       "std         0.307329  ...      7.801614       7.439558      1.312732   \n",
       "min         0.000000  ...     19.776906       0.000000     19.571055   \n",
       "25%         0.026510  ...     23.664300       0.072782     23.602897   \n",
       "50%         0.050329  ...     24.574696       0.157360     24.531609   \n",
       "75%         0.092701  ...     25.323580       0.305534     25.281628   \n",
       "max        30.285473  ...     99.990000     979.763106     29.062647   \n",
       "\n",
       "       Y_WFI_magerr     J_WFI_mag  J_WFI_magerr     H_WFI_mag  H_WFI_magerr  \\\n",
       "count  19999.000000  19999.000000  19999.000000  19999.000000  19999.000000   \n",
       "mean       0.046372     24.219740      0.041185     24.111885      0.040571   \n",
       "std        0.045483      1.353944      0.037782      1.402496      0.038762   \n",
       "min        0.010152     19.165246      0.010151     18.841577      0.010053   \n",
       "25%        0.019855     23.443356      0.018111     23.313647      0.017441   \n",
       "50%        0.033312     24.416682      0.029878     24.321447      0.029093   \n",
       "75%        0.056255     25.179444      0.050102     25.107016      0.049410   \n",
       "max        1.628481     28.248498      0.767126     28.574002      1.177792   \n",
       "\n",
       "          F_WFI_mag  F_WFI_magerr  \n",
       "count  19999.000000  19999.000000  \n",
       "mean      24.051143      0.065607  \n",
       "std        1.544440      0.090881  \n",
       "min       18.619593      0.000000  \n",
       "25%       23.232343      0.022583  \n",
       "50%       24.272070      0.043334  \n",
       "75%       25.066376      0.079415  \n",
       "max       99.990000      5.245063  \n",
       "\n",
       "[8 rows x 24 columns]"
      ]
     },
     "execution_count": 6,
     "metadata": {},
     "output_type": "execute_result"
    }
   ],
   "source": [
    "galaxies_patch8786_partial = read_data_partial('galaxies_train_catalog_patch8786.csv', 'galaxies_patch8786_partial.csv')\n",
    "print('galaxies_train_catalog_patch8786.csv partial data description: ')\n",
    "galaxies_patch8786_partial.describe()"
   ]
  },
  {
   "cell_type": "markdown",
   "id": "07359420-501b-482f-a3c3-b3b0b2eadccd",
   "metadata": {},
   "source": [
    "## drop u and g bands"
   ]
  },
  {
   "cell_type": "code",
   "execution_count": null,
   "id": "4161f4ba-c49e-45c3-821b-26bd7674083a",
   "metadata": {},
   "outputs": [],
   "source": []
  },
  {
   "cell_type": "code",
   "execution_count": 7,
   "id": "cecc3873-3fe5-4ce9-a738-df918bcdc798",
   "metadata": {},
   "outputs": [],
   "source": [
    "qso_train_drop = qso_train_partial.copy(deep=True)\n",
    "mlt_train_drop = mlt_train_partial.copy(deep=True)\n",
    "galaxies_patch8789_drop = galaxies_patch8789_partial.copy(deep=True)\n",
    "galaxies_patch8786_drop = galaxies_patch8786_partial.copy(deep=True)\n",
    "\n",
    "# drop y bands due to varying band depth\n",
    "qso_train_drop = qso_train_drop[['r_LSST_mag', 'i_LSST_mag', 'z_LSST_mag', 'Y_WFI_mag', 'J_WFI_mag', 'H_WFI_mag', 'F_WFI_mag']]\n",
    "mlt_train_drop = mlt_train_drop[['r_LSST_mag', 'i_LSST_mag', 'z_LSST_mag','Y_WFI_mag', 'J_WFI_mag', 'H_WFI_mag', 'F_WFI_mag']]\n",
    "galaxies_patch8789_drop = galaxies_patch8789_drop[['r_LSST_mag', 'i_LSST_mag', 'z_LSST_mag', 'Y_WFI_mag', 'J_WFI_mag', 'H_WFI_mag', 'F_WFI_mag']]\n",
    "galaxies_patch8786_drop = galaxies_patch8786_drop[['r_LSST_mag', 'i_LSST_mag', 'z_LSST_mag','Y_WFI_mag', 'J_WFI_mag', 'H_WFI_mag', 'F_WFI_mag']]"
   ]
  },
  {
   "cell_type": "code",
   "execution_count": 8,
   "id": "e66e7b97-a9c3-4238-86dd-f682c108c4c4",
   "metadata": {
    "tags": []
   },
   "outputs": [
    {
     "name": "stdout",
     "output_type": "stream",
     "text": [
      "   r_LSST_mag  i_LSST_mag  z_LSST_mag  Y_WFI_mag  J_WFI_mag  H_WFI_mag  \\\n",
      "0   23.771728   19.188742   18.619318  18.234199  18.173076  18.075345   \n",
      "1   24.057291   19.349954   18.518527  18.288840  18.190218  17.931068   \n",
      "2   23.800163   19.231461   18.658050  18.124577  18.069681  18.094448   \n",
      "3   23.875277   19.292420   18.613907  18.302484  18.055089  17.946084   \n",
      "4   23.916246   19.295319   18.665239  18.207935  18.128765  18.094981   \n",
      "\n",
      "   F_WFI_mag  \n",
      "0  18.112094  \n",
      "1  18.153265  \n",
      "2  17.930868  \n",
      "3  17.947154  \n",
      "4  18.246019  \n"
     ]
    }
   ],
   "source": [
    "print(mlt_train_drop.head())"
   ]
  },
  {
   "cell_type": "markdown",
   "id": "fa9326a3-34ba-48b0-a174-9d4ca0650fee",
   "metadata": {},
   "source": [
    "### replace missing values with mean"
   ]
  },
  {
   "cell_type": "code",
   "execution_count": 9,
   "id": "3a3b42a5-3442-49eb-aed3-2209928e14e8",
   "metadata": {},
   "outputs": [
    {
     "name": "stdout",
     "output_type": "stream",
     "text": [
      "{'r_LSST_mag': 27.22676, 'i_LSST_mag': 26.010927, 'z_LSST_mag': 24.839597, 'Y_WFI_mag': 21.386011, 'J_WFI_mag': 18.249912, 'H_WFI_mag': 17.991365, 'F_WFI_mag': 17.924648, 'label': 1.0} \n",
      " 8\n"
     ]
    }
   ],
   "source": [
    "# add labels\n",
    "qso_train_drop['label'] = np.ones(len(qso_train_drop))\n",
    "qso_train_drop = qso_train_drop.replace(99.99, np.nan)\n",
    "qso_drop_replace = {}\n",
    "for col in qso_train_drop.columns:\n",
    "    qso_train_drop[col] = qso_train_drop[col].replace([np.nan], round(qso_train_drop[col].mean(), 6))\n",
    "    qso_drop_replace[col] = round(qso_train_drop[col].mean(), 6)\n",
    "print(qso_drop_replace, '\\n', len(qso_drop_replace))"
   ]
  },
  {
   "cell_type": "code",
   "execution_count": 10,
   "id": "de96afea-10b2-4ba9-97e8-22179f639f20",
   "metadata": {},
   "outputs": [
    {
     "data": {
      "text/html": [
       "<div>\n",
       "<style scoped>\n",
       "    .dataframe tbody tr th:only-of-type {\n",
       "        vertical-align: middle;\n",
       "    }\n",
       "\n",
       "    .dataframe tbody tr th {\n",
       "        vertical-align: top;\n",
       "    }\n",
       "\n",
       "    .dataframe thead th {\n",
       "        text-align: right;\n",
       "    }\n",
       "</style>\n",
       "<table border=\"1\" class=\"dataframe\">\n",
       "  <thead>\n",
       "    <tr style=\"text-align: right;\">\n",
       "      <th></th>\n",
       "      <th>r_LSST_mag</th>\n",
       "      <th>i_LSST_mag</th>\n",
       "      <th>z_LSST_mag</th>\n",
       "      <th>Y_WFI_mag</th>\n",
       "      <th>J_WFI_mag</th>\n",
       "      <th>H_WFI_mag</th>\n",
       "      <th>F_WFI_mag</th>\n",
       "      <th>label</th>\n",
       "    </tr>\n",
       "  </thead>\n",
       "  <tbody>\n",
       "    <tr>\n",
       "      <th>count</th>\n",
       "      <td>19999.000000</td>\n",
       "      <td>19999.000000</td>\n",
       "      <td>19999.000000</td>\n",
       "      <td>19999.000000</td>\n",
       "      <td>19999.000000</td>\n",
       "      <td>19999.000000</td>\n",
       "      <td>19999.000000</td>\n",
       "      <td>19999.0</td>\n",
       "    </tr>\n",
       "    <tr>\n",
       "      <th>mean</th>\n",
       "      <td>27.226760</td>\n",
       "      <td>26.010927</td>\n",
       "      <td>24.839597</td>\n",
       "      <td>21.386011</td>\n",
       "      <td>18.249912</td>\n",
       "      <td>17.991365</td>\n",
       "      <td>17.924648</td>\n",
       "      <td>1.0</td>\n",
       "    </tr>\n",
       "    <tr>\n",
       "      <th>std</th>\n",
       "      <td>1.218378</td>\n",
       "      <td>2.498598</td>\n",
       "      <td>3.061913</td>\n",
       "      <td>3.891398</td>\n",
       "      <td>0.144553</td>\n",
       "      <td>0.344047</td>\n",
       "      <td>0.354783</td>\n",
       "      <td>0.0</td>\n",
       "    </tr>\n",
       "    <tr>\n",
       "      <th>min</th>\n",
       "      <td>22.470212</td>\n",
       "      <td>20.720397</td>\n",
       "      <td>18.073481</td>\n",
       "      <td>17.958488</td>\n",
       "      <td>17.975591</td>\n",
       "      <td>16.702080</td>\n",
       "      <td>16.475177</td>\n",
       "      <td>1.0</td>\n",
       "    </tr>\n",
       "    <tr>\n",
       "      <th>25%</th>\n",
       "      <td>27.226760</td>\n",
       "      <td>25.028411</td>\n",
       "      <td>23.179025</td>\n",
       "      <td>18.566404</td>\n",
       "      <td>18.124439</td>\n",
       "      <td>17.823141</td>\n",
       "      <td>17.735487</td>\n",
       "      <td>1.0</td>\n",
       "    </tr>\n",
       "    <tr>\n",
       "      <th>50%</th>\n",
       "      <td>27.226760</td>\n",
       "      <td>26.010927</td>\n",
       "      <td>24.839597</td>\n",
       "      <td>19.349044</td>\n",
       "      <td>18.251091</td>\n",
       "      <td>18.066165</td>\n",
       "      <td>17.993070</td>\n",
       "      <td>1.0</td>\n",
       "    </tr>\n",
       "    <tr>\n",
       "      <th>75%</th>\n",
       "      <td>27.226760</td>\n",
       "      <td>27.518055</td>\n",
       "      <td>27.407699</td>\n",
       "      <td>23.478432</td>\n",
       "      <td>18.374454</td>\n",
       "      <td>18.243405</td>\n",
       "      <td>18.180132</td>\n",
       "      <td>1.0</td>\n",
       "    </tr>\n",
       "    <tr>\n",
       "      <th>max</th>\n",
       "      <td>37.997592</td>\n",
       "      <td>36.747255</td>\n",
       "      <td>37.357355</td>\n",
       "      <td>36.484241</td>\n",
       "      <td>18.525293</td>\n",
       "      <td>18.651787</td>\n",
       "      <td>18.738388</td>\n",
       "      <td>1.0</td>\n",
       "    </tr>\n",
       "  </tbody>\n",
       "</table>\n",
       "</div>"
      ],
      "text/plain": [
       "         r_LSST_mag    i_LSST_mag    z_LSST_mag     Y_WFI_mag     J_WFI_mag  \\\n",
       "count  19999.000000  19999.000000  19999.000000  19999.000000  19999.000000   \n",
       "mean      27.226760     26.010927     24.839597     21.386011     18.249912   \n",
       "std        1.218378      2.498598      3.061913      3.891398      0.144553   \n",
       "min       22.470212     20.720397     18.073481     17.958488     17.975591   \n",
       "25%       27.226760     25.028411     23.179025     18.566404     18.124439   \n",
       "50%       27.226760     26.010927     24.839597     19.349044     18.251091   \n",
       "75%       27.226760     27.518055     27.407699     23.478432     18.374454   \n",
       "max       37.997592     36.747255     37.357355     36.484241     18.525293   \n",
       "\n",
       "          H_WFI_mag     F_WFI_mag    label  \n",
       "count  19999.000000  19999.000000  19999.0  \n",
       "mean      17.991365     17.924648      1.0  \n",
       "std        0.344047      0.354783      0.0  \n",
       "min       16.702080     16.475177      1.0  \n",
       "25%       17.823141     17.735487      1.0  \n",
       "50%       18.066165     17.993070      1.0  \n",
       "75%       18.243405     18.180132      1.0  \n",
       "max       18.651787     18.738388      1.0  "
      ]
     },
     "execution_count": 10,
     "metadata": {},
     "output_type": "execute_result"
    }
   ],
   "source": [
    "qso_train_drop.describe()"
   ]
  },
  {
   "cell_type": "code",
   "execution_count": 11,
   "id": "0e0626b3-9779-4bda-9289-edcb54e5313a",
   "metadata": {},
   "outputs": [
    {
     "name": "stdout",
     "output_type": "stream",
     "text": [
      "(array([], dtype=int64), array([], dtype=int64))\n"
     ]
    }
   ],
   "source": [
    "print(np.where(np.isnan(qso_train_drop)))"
   ]
  },
  {
   "cell_type": "code",
   "execution_count": 12,
   "id": "6036efd6-c072-4524-aa30-807ae4893063",
   "metadata": {},
   "outputs": [
    {
     "name": "stdout",
     "output_type": "stream",
     "text": [
      "{'r_LSST_mag': 24.416302, 'i_LSST_mag': 19.872187, 'z_LSST_mag': 19.014882, 'Y_WFI_mag': 18.398234, 'J_WFI_mag': 18.146058, 'H_WFI_mag': 18.037319, 'F_WFI_mag': 18.142713, 'label': 0.0} \n",
      " 8\n",
      "(array([], dtype=int64), array([], dtype=int64))\n"
     ]
    }
   ],
   "source": [
    "mlt_train_drop['label'] = np.zeros(len(mlt_train_drop))\n",
    "mlt_drop_replace = {}\n",
    "for col in mlt_train_drop.columns:\n",
    "    mlt_train_drop[col] = mlt_train_drop[col].replace([np.nan], round(mlt_train_drop[col].mean(), 6))\n",
    "    mlt_drop_replace[col] = round(mlt_train_drop[col].mean(), 6)\n",
    "print(mlt_drop_replace, '\\n', len(mlt_drop_replace))\n",
    "print(np.where(np.isnan(mlt_train_drop)))"
   ]
  },
  {
   "cell_type": "code",
   "execution_count": 13,
   "id": "0038b809-8674-46b7-b79c-162beea76a0f",
   "metadata": {},
   "outputs": [
    {
     "name": "stdout",
     "output_type": "stream",
     "text": [
      "{'r_LSST_mag': 25.811614, 'i_LSST_mag': 25.210954, 'z_LSST_mag': 24.612818, 'Y_WFI_mag': 24.38939, 'J_WFI_mag': 24.249537, 'H_WFI_mag': 24.143105, 'F_WFI_mag': 24.078974, 'label': 0.0} \n",
      " 8\n",
      "(array([], dtype=int64), array([], dtype=int64))\n"
     ]
    }
   ],
   "source": [
    "galaxies_patch8789_drop['label'] = np.zeros(len(galaxies_patch8789_drop))\n",
    "galaxies_patch8789_drop = galaxies_patch8789_drop.replace(99.99, np.nan)\n",
    "patch8789_drop_replace = {}\n",
    "for col in galaxies_patch8789_drop.columns:\n",
    "    galaxies_patch8789_drop[col] = galaxies_patch8789_drop[col].replace([np.nan], round(galaxies_patch8789_drop[col].mean(), 6))\n",
    "    patch8789_drop_replace[col] = round(galaxies_patch8789_drop[col].mean(), 6)\n",
    "print(patch8789_drop_replace, '\\n', len(patch8789_drop_replace))\n",
    "print(np.where(np.isnan(galaxies_patch8789_drop)))"
   ]
  },
  {
   "cell_type": "code",
   "execution_count": 14,
   "id": "8748fe2c-960f-4a80-b2d0-9031058655c3",
   "metadata": {},
   "outputs": [
    {
     "name": "stdout",
     "output_type": "stream",
     "text": [
      "{'r_LSST_mag': 25.791994, 'i_LSST_mag': 25.196621, 'z_LSST_mag': 24.588757, 'Y_WFI_mag': 24.361144, 'J_WFI_mag': 24.21974, 'H_WFI_mag': 24.111885, 'F_WFI_mag': 24.047345, 'label': 0.0} \n",
      " 8\n",
      "(array([], dtype=int64), array([], dtype=int64))\n"
     ]
    }
   ],
   "source": [
    "galaxies_patch8786_drop['label'] = np.zeros(len(galaxies_patch8786_drop))\n",
    "galaxies_patch8786_drop = galaxies_patch8786_drop.replace(99.99, np.nan)\n",
    "patch8786_drop_replace = {}\n",
    "for col in galaxies_patch8786_drop.columns:\n",
    "    galaxies_patch8786_drop[col] = galaxies_patch8786_drop[col].replace([np.nan], round(galaxies_patch8786_drop[col].mean(), 6))\n",
    "    patch8786_drop_replace[col] = round(galaxies_patch8786_drop[col].mean(), 6)\n",
    "print(patch8786_drop_replace, '\\n', len(patch8786_drop_replace))\n",
    "print(np.where(np.isnan(galaxies_patch8786_drop)))"
   ]
  },
  {
   "cell_type": "markdown",
   "id": "8dd0b409-8f2b-47a5-a2b5-47a0400e03ef",
   "metadata": {},
   "source": [
    "### drop missing values"
   ]
  },
  {
   "cell_type": "code",
   "execution_count": 9,
   "id": "3785f383-0b76-40ca-9e6e-963e98ddd70a",
   "metadata": {},
   "outputs": [
    {
     "name": "stdout",
     "output_type": "stream",
     "text": [
      "   r_LSST_mag  i_LSST_mag  z_LSST_mag  Y_WFI_mag  J_WFI_mag  H_WFI_mag  \\\n",
      "0   23.264536   21.124055   18.554360  18.128561  18.023118  17.887595   \n",
      "1   22.749456   20.809598   18.341480  18.051626  18.089177  18.128696   \n",
      "2   23.423308   21.433489   18.603074  18.187806  18.020838  17.793332   \n",
      "3   23.340448   21.204065   18.452523  18.136504  18.066659  17.968268   \n",
      "4   23.158449   20.894110   18.271392  18.043841  18.061578  18.047223   \n",
      "\n",
      "   F_WFI_mag  \n",
      "0  17.631285  \n",
      "1  18.004063  \n",
      "2  17.472947  \n",
      "3  17.731981  \n",
      "4  17.902222   4402\n",
      "(array([], dtype=int64), array([], dtype=int64))\n",
      "19999\n",
      "(array([], dtype=int64), array([], dtype=int64))\n",
      "19958\n",
      "(array([], dtype=int64), array([], dtype=int64))\n",
      "19961\n",
      "(array([], dtype=int64), array([], dtype=int64))\n"
     ]
    }
   ],
   "source": [
    "qso_train_drop = qso_train_drop.replace(99.99, np.nan).dropna()\n",
    "mlt_train_drop = mlt_train_drop.replace(99.99, np.nan).dropna()\n",
    "galaxies_patch8789_drop = galaxies_patch8789_drop.replace(99.99, np.nan).dropna()\n",
    "galaxies_patch8786_drop = galaxies_patch8786_drop.replace(99.99, np.nan).dropna()\n",
    "\n",
    "print(qso_train_drop.head(), len(qso_train_drop))\n",
    "print(np.where(np.isnan(qso_train_drop)))\n",
    "print(len(mlt_train_drop))\n",
    "print(np.where(np.isnan(mlt_train_drop)))\n",
    "print(len(galaxies_patch8789_drop))\n",
    "print(np.where(np.isnan(galaxies_patch8789_drop)))\n",
    "print(len(galaxies_patch8786_drop))\n",
    "print(np.where(np.isnan(galaxies_patch8786_drop)))"
   ]
  },
  {
   "cell_type": "code",
   "execution_count": 10,
   "id": "45d7ddea-6a9b-4c4f-a481-af9fc5ebed32",
   "metadata": {},
   "outputs": [],
   "source": [
    "qso_train_drop['label'] = np.ones(len(qso_train_drop))\n",
    "mlt_train_drop['label'] = np.zeros(len(mlt_train_drop))\n",
    "galaxies_patch8789_drop['label'] = np.zeros(len(galaxies_patch8789_drop))\n",
    "galaxies_patch8786_drop['label'] = np.zeros(len(galaxies_patch8786_drop))"
   ]
  },
  {
   "cell_type": "markdown",
   "id": "1b966764-553e-4503-932f-ef5c943bc7ee",
   "metadata": {},
   "source": [
    "### check the cleaned datasets and concatenate into new ones"
   ]
  },
  {
   "cell_type": "code",
   "execution_count": 11,
   "id": "d7c05d25-c831-4ae0-990e-abef74cf6de9",
   "metadata": {
    "tags": []
   },
   "outputs": [
    {
     "name": "stdout",
     "output_type": "stream",
     "text": [
      "qso:\n",
      "    r_LSST_mag  i_LSST_mag  z_LSST_mag  Y_WFI_mag  J_WFI_mag  H_WFI_mag  \\\n",
      "0   23.264536   21.124055   18.554360  18.128561  18.023118  17.887595   \n",
      "1   22.749456   20.809598   18.341480  18.051626  18.089177  18.128696   \n",
      "2   23.423308   21.433489   18.603074  18.187806  18.020838  17.793332   \n",
      "3   23.340448   21.204065   18.452523  18.136504  18.066659  17.968268   \n",
      "4   23.158449   20.894110   18.271392  18.043841  18.061578  18.047223   \n",
      "\n",
      "   F_WFI_mag  label  \n",
      "0  17.631285    1.0  \n",
      "1  18.004063    1.0  \n",
      "2  17.472947    1.0  \n",
      "3  17.731981    1.0  \n",
      "4  17.902222    1.0  \n",
      "bd:\n",
      "    r_LSST_mag  i_LSST_mag  z_LSST_mag  Y_WFI_mag  J_WFI_mag  H_WFI_mag  \\\n",
      "0   23.771728   19.188742   18.619318  18.234199  18.173076  18.075345   \n",
      "1   24.057291   19.349954   18.518527  18.288840  18.190218  17.931068   \n",
      "2   23.800163   19.231461   18.658050  18.124577  18.069681  18.094448   \n",
      "3   23.875277   19.292420   18.613907  18.302484  18.055089  17.946084   \n",
      "4   23.916246   19.295319   18.665239  18.207935  18.128765  18.094981   \n",
      "\n",
      "   F_WFI_mag  label  \n",
      "0  18.112094    0.0  \n",
      "1  18.153265    0.0  \n",
      "2  17.930868    0.0  \n",
      "3  17.947154    0.0  \n",
      "4  18.246019    0.0  \n",
      "galaxies patch8789:\n",
      "    r_LSST_mag  i_LSST_mag  z_LSST_mag  Y_WFI_mag  J_WFI_mag  H_WFI_mag  \\\n",
      "0   26.005151   25.722841   25.574358  25.271781  25.482116  25.453765   \n",
      "1   25.266151   24.313910   23.489726  23.023858  22.737050  22.501901   \n",
      "2   25.478570   25.041372   24.501607  24.590254  24.469673  24.494490   \n",
      "3   25.040877   24.416270   23.823129  23.702683  23.566871  23.437439   \n",
      "4   26.605597   25.751249   25.146910  24.730065  24.678979  24.522929   \n",
      "\n",
      "   F_WFI_mag  label  \n",
      "0  25.563339    0.0  \n",
      "1  22.332769    0.0  \n",
      "2  24.522521    0.0  \n",
      "3  23.382384    0.0  \n",
      "4  24.432896    0.0  \n",
      "galaxies path8786:\n",
      "    r_LSST_mag  i_LSST_mag  z_LSST_mag  Y_WFI_mag  J_WFI_mag  H_WFI_mag  \\\n",
      "0   21.877146   21.584660   21.135618  20.901774  20.710672  20.514869   \n",
      "1   27.005696   26.095644   25.641766  25.331676  25.158127  25.063270   \n",
      "2   26.977407   26.306064   25.810288  25.425247  25.371056  25.176126   \n",
      "3   26.247424   25.612808   24.825019  24.734537  24.538912  24.496274   \n",
      "4   24.266547   23.801402   23.158874  22.847273  22.578982  22.344069   \n",
      "\n",
      "   F_WFI_mag  label  \n",
      "0  20.391249    0.0  \n",
      "1  24.964800    0.0  \n",
      "2  25.040196    0.0  \n",
      "3  24.371638    0.0  \n",
      "4  22.187207    0.0  \n"
     ]
    }
   ],
   "source": [
    "print('qso:\\n', qso_train_drop.head())\n",
    "print('bd:\\n', mlt_train_drop.head())\n",
    "print('galaxies patch8789:\\n', galaxies_patch8789_drop.head())\n",
    "print('galaxies path8786:\\n', galaxies_patch8786_drop.head())"
   ]
  },
  {
   "cell_type": "code",
   "execution_count": 12,
   "id": "ea7ebb46-fcd3-4fad-a08c-c43fc9205e55",
   "metadata": {},
   "outputs": [],
   "source": [
    "# data concatenation to get training data\n",
    "contaminants_drop = pd.concat([mlt_train_drop, galaxies_patch8789_drop, galaxies_patch8786_drop], ignore_index=True)\n",
    "data_train_drop = pd.concat([qso_train_drop, contaminants_drop], ignore_index=True) # make sure that the data line up\n",
    "X_drop = data_train_drop[['r_LSST_mag', 'i_LSST_mag', 'z_LSST_mag','Y_WFI_mag', 'J_WFI_mag', 'H_WFI_mag', 'F_WFI_mag']]\n",
    "Y_drop = data_train_drop['label']"
   ]
  },
  {
   "cell_type": "code",
   "execution_count": 13,
   "id": "5092a712-ed69-40ff-8184-d3a8d33cf003",
   "metadata": {},
   "outputs": [
    {
     "name": "stdout",
     "output_type": "stream",
     "text": [
      "64320\n"
     ]
    }
   ],
   "source": [
    "print(len(X_drop))"
   ]
  },
  {
   "cell_type": "markdown",
   "id": "d0f0c128-9b7e-4cdc-90ff-a40748ffa350",
   "metadata": {
    "tags": []
   },
   "source": [
    "### with mean values dropped"
   ]
  },
  {
   "cell_type": "markdown",
   "id": "ffc401cc-93e7-4935-bd0a-d951cadd0dca",
   "metadata": {},
   "source": [
    "22 < i < 24"
   ]
  },
  {
   "cell_type": "code",
   "execution_count": 14,
   "id": "1d2afa14-a6d9-462c-9ffe-9937c0646b55",
   "metadata": {
    "tags": []
   },
   "outputs": [],
   "source": [
    "X_drop_between = X_drop[X_drop['i_LSST_mag'] < 24.0]\n",
    "X_drop_between = X_drop_between[X_drop_between['i_LSST_mag'] > 22.0]\n",
    "Y_drop_between = data_train_drop[data_train_drop['i_LSST_mag'] < 24.0]\n",
    "Y_drop_between = Y_drop_between[Y_drop_between['i_LSST_mag'] > 22.0]['label']\n",
    "col_names = ['r_LSST_mag', 'i_LSST_mag', 'z_LSST_mag', 'Y_WFI_mag', 'J_WFI_mag', 'H_WFI_mag', 'F_WFI_mag']\n",
    "for i in range(len(col_names)):\n",
    "    for j in range(len(col_names)):\n",
    "        if i < j:\n",
    "            col = col_names[i] + '-' + col_names[j]\n",
    "            X_drop_between[col] = X_drop_between[col_names[i]] - X_drop_between[col_names[j]]"
   ]
  },
  {
   "cell_type": "code",
   "execution_count": 15,
   "id": "9243124e-c9c1-4ffc-96ce-202df46379f1",
   "metadata": {},
   "outputs": [],
   "source": [
    "#X_drop_between_copy = X_drop_between.copy()\n",
    "X_drop_between_copy = X_drop_between.drop(columns=['r_LSST_mag', 'i_LSST_mag', 'z_LSST_mag', 'Y_WFI_mag', 'J_WFI_mag', 'H_WFI_mag', 'F_WFI_mag'])"
   ]
  },
  {
   "cell_type": "code",
   "execution_count": 16,
   "id": "35c4b2ce-a2b9-4b52-91f1-3e676f08c11c",
   "metadata": {},
   "outputs": [
    {
     "name": "stderr",
     "output_type": "stream",
     "text": [
      "/data0/sw/anaconda3/lib/python3.8/site-packages/sklearn/svm/_base.py:985: ConvergenceWarning: Liblinear failed to converge, increase the number of iterations.\n",
      "  warnings.warn(\"Liblinear failed to converge, increase \"\n"
     ]
    },
    {
     "data": {
      "image/png": "[encoded data removed]",
      "text/plain": [
       "<Figure size 1296x504 with 1 Axes>"
      ]
     },
     "metadata": {
      "needs_background": "light"
     },
     "output_type": "display_data"
    }
   ],
   "source": [
    "trainedsvm = svm.LinearSVC(max_iter = 2000).fit(X_drop_between_copy, Y_drop_between)\n",
    "coef = trainedsvm.coef_.ravel()\n",
    "\n",
    "top_positive_coefficients = np.argsort(coef)[-4:]\n",
    "top_negative_coefficients = np.argsort(coef)[:4]\n",
    "top_coefficients = np.hstack([top_negative_coefficients, top_positive_coefficients])\n",
    "plt.figure(figsize=(18, 7))\n",
    "colors = ['green' if c < 0 else 'blue' for c in coef[top_coefficients]]\n",
    "plt.bar(np.arange(2 * 4), coef[top_coefficients], color=colors)\n",
    "feature_names = np.array(X_drop_between_copy.columns)\n",
    "plt.xticks(np.arange(2 * 4), feature_names[top_coefficients], rotation=45, ha='right')\n",
    "plt.show()"
   ]
  },
  {
   "cell_type": "markdown",
   "id": "d4a98899-1ac2-4818-acf0-f785fe8bb075",
   "metadata": {},
   "source": [
    "'z_LSST_mag-F_WFI_mag', 'z_LSST_mag-H_WFI_mag', 'r_LSST_mag-Y_WFI_mag', 'i_LSST_mag-z_LSST_mag', 'r_LSST_mag-J_WFI_mag', 'r_LSST_mag-z_LSST_mag'"
   ]
  },
  {
   "cell_type": "markdown",
   "id": "daf9b5cb-edee-47b0-adba-be661f39043a",
   "metadata": {},
   "source": [
    "replacing NaN with mean: 'Y_WFI_mag-H_WFI_mag', 'Y_WFI_mag-F_WFI_mag', 'Y_WFI_mag-J_WFI_mag', 'z_LSST_mag-H_WFI_mag', 'r_LSST_mag-z_LSST_mag', 'i_LSST_mag-Y_WFI_mag', 'r_LSST_mag-Y_WFI_mag'"
   ]
  },
  {
   "cell_type": "code",
   "execution_count": 17,
   "id": "5ab63897-00d7-435c-be4d-df871fff90ad",
   "metadata": {
    "tags": []
   },
   "outputs": [
    {
     "name": "stdout",
     "output_type": "stream",
     "text": [
      "<class 'pandas.core.frame.DataFrame'>\n",
      "X with 22.0 < i < 24.0: \n",
      "      r_LSST_mag  i_LSST_mag  z_LSST_mag  Y_WFI_mag  J_WFI_mag  H_WFI_mag  \\\n",
      "250   24.742821   22.094462   18.874546  18.141918  18.092987  18.074826   \n",
      "304   25.848806   22.030592   19.422444  18.264333  18.076935  17.984105   \n",
      "306   25.643431   22.038840   19.404501  18.273683  18.043071  17.844302   \n",
      "310   25.614387   22.020449   19.134073  18.132919  17.997342  17.920215   \n",
      "313   25.498590   22.068718   19.220210  18.246276  18.091573  17.966831   \n",
      "\n",
      "     F_WFI_mag  Y_WFI_mag-H_WFI_mag  Y_WFI_mag-F_WFI_mag  \\\n",
      "250  17.924192             0.067092             0.217726   \n",
      "304  17.798655             0.280228             0.465679   \n",
      "306  17.566675             0.429381             0.707008   \n",
      "310  17.727046             0.212703             0.405873   \n",
      "313  17.738691             0.279445             0.507585   \n",
      "\n",
      "     z_LSST_mag-H_WFI_mag  z_LSST_mag-F_WFI_mag  i_LSST_mag-z_LSST_mag  \\\n",
      "250              0.799720              0.950354               3.219916   \n",
      "304              1.438339              1.623789               2.608148   \n",
      "306              1.560200              1.837826               2.634338   \n",
      "310              1.213857              1.407027               2.886376   \n",
      "313              1.253378              1.481519               2.848508   \n",
      "\n",
      "     r_LSST_mag-z_LSST_mag  i_LSST_mag-Y_WFI_mag  r_LSST_mag-Y_WFI_mag  \n",
      "250               5.868275              3.952544              6.600903  \n",
      "304               6.426362              3.766259              7.584473  \n",
      "306               6.238930              3.765157              7.369748  \n",
      "310               6.480314              3.887530              7.481468  \n",
      "313               6.278381              3.822442              7.252314  \n"
     ]
    }
   ],
   "source": [
    "# keep the columns with the highest influences & check if the dataframes look reasonable\n",
    "# with i-band limits\n",
    "X_drop_between = X_drop_between[['r_LSST_mag', 'i_LSST_mag', 'z_LSST_mag', 'Y_WFI_mag', 'J_WFI_mag', 'H_WFI_mag', 'F_WFI_mag', 'Y_WFI_mag-H_WFI_mag', 'Y_WFI_mag-F_WFI_mag', 'z_LSST_mag-H_WFI_mag', 'z_LSST_mag-F_WFI_mag', 'i_LSST_mag-z_LSST_mag', 'r_LSST_mag-z_LSST_mag', 'i_LSST_mag-Y_WFI_mag', 'r_LSST_mag-Y_WFI_mag']]\n",
    "\n",
    "print(type(X_drop_between))\n",
    "print('X with 22.0 < i < 24.0: \\n', X_drop_between.head())"
   ]
  },
  {
   "cell_type": "code",
   "execution_count": 18,
   "id": "d40fa826-f189-4efe-a9fa-47c9ba14de9a",
   "metadata": {},
   "outputs": [],
   "source": [
    "X_drop_between_copy = X_drop_between.copy()"
   ]
  },
  {
   "cell_type": "markdown",
   "id": "ff4834b2-c7b1-4bb3-bd7b-f451c49d4824",
   "metadata": {},
   "source": [
    "### K-Fold hyperparams functions"
   ]
  },
  {
   "cell_type": "code",
   "execution_count": 19,
   "id": "62cc2bc0-7908-4abb-ad58-76fcfbf57b41",
   "metadata": {},
   "outputs": [],
   "source": [
    "def estimator_params(x, y, left_bound, right_bound, step=10):\n",
    "    estimators = []\n",
    "    f1_lst_e = []\n",
    "    train_score_e = []\n",
    "    test_score_e = []\n",
    "\n",
    "    for n_estimator in range(left_bound, right_bound, step):\n",
    "        model = RandomForestClassifier(n_estimators=n_estimator, random_state=42)\n",
    "        kf = KFold(n_splits=10, random_state=42, shuffle=True)\n",
    "        f1_sum = 0\n",
    "        train_score_sum = 0\n",
    "        test_score_sum = 0\n",
    "        for train_index, test_index in kf.split(x):\n",
    "            X_train, X_test = x[train_index], x[test_index]\n",
    "            Y_train, Y_test = y[train_index], y[test_index]\n",
    "            model.fit(X_train,Y_train)\n",
    "            Y_pred = model.predict(X_test)\n",
    "            f1 = f1_score(Y_test, Y_pred)\n",
    "            f1_sum += f1\n",
    "            train_score  = model.score(X_train,Y_train) # mean accuracy\n",
    "            train_score_sum += train_score\n",
    "            test_score = model.score(X_test,Y_test)\n",
    "            test_score_sum += test_score\n",
    "        f1_ave = f1_sum/10 \n",
    "        train_score_ave = train_score_sum/10\n",
    "        test_score_ave = test_score_sum/10\n",
    "        estimators.append(n_estimator)\n",
    "        f1_lst_e.append(f1_ave)\n",
    "        train_score_e.append(train_score_ave)\n",
    "        test_score_e.append(test_score_ave)\n",
    "        print(n_estimator, train_score_ave, test_score_ave, f1_ave)\n",
    "    return estimators, f1_lst_e, train_score_e, test_score_e"
   ]
  },
  {
   "cell_type": "code",
   "execution_count": 20,
   "id": "5ae29797-c87f-4199-b056-d0b5cc3e6fa8",
   "metadata": {},
   "outputs": [],
   "source": [
    "def depth_params(x, y, left_bound, right_bound, n=120, step=1):\n",
    "    depths = []\n",
    "    f1_lst_depth = []\n",
    "    train_score_depth = []\n",
    "    test_score_depth = []\n",
    "\n",
    "    for depth in range(left_bound, right_bound, step):\n",
    "        model = RandomForestClassifier(n_estimators=n, max_depth=depth, random_state=42)\n",
    "        kf = KFold(n_splits=10, random_state=42, shuffle=True)\n",
    "        f1_sum = 0\n",
    "        train_score_sum = 0\n",
    "        test_score_sum = 0\n",
    "        for train_index, test_index in kf.split(x):\n",
    "            X_train, X_test = x[train_index], x[test_index]\n",
    "            Y_train, Y_test = y[train_index], y[test_index]\n",
    "            model.fit(X_train,Y_train)\n",
    "            Y_pred = model.predict(X_test)\n",
    "            f1 = f1_score(Y_test, Y_pred)\n",
    "            f1_sum += f1\n",
    "            train_score  = model.score(X_train,Y_train) # mean accuracy\n",
    "            train_score_sum += train_score\n",
    "            test_score = model.score(X_test,Y_test)\n",
    "            test_score_sum += test_score\n",
    "        f1_ave = f1_sum/10 \n",
    "        train_score_ave = train_score_sum/10\n",
    "        test_score_ave = test_score_sum/10\n",
    "        depths.append(depth)\n",
    "        f1_lst_depth.append(f1_ave)\n",
    "        train_score_depth.append(train_score_ave)\n",
    "        test_score_depth.append(test_score_ave)\n",
    "        print(depth, train_score_ave, test_score_ave, f1_ave)\n",
    "    return depths, f1_lst_depth, train_score_depth, test_score_depth"
   ]
  },
  {
   "cell_type": "code",
   "execution_count": 21,
   "id": "a75bfb67-4df7-4f17-9e4b-8c7fc1389161",
   "metadata": {},
   "outputs": [],
   "source": [
    "def leaves_params(x, y, left_bound, right_bound, depth=12, n=120, step=1):\n",
    "    leaves = []\n",
    "    f1_lst_leaf = []\n",
    "    train_score_leaf = []\n",
    "    test_score_leaf = []\n",
    "\n",
    "    for leaf in range(left_bound, right_bound, step):\n",
    "        model = RandomForestClassifier(n_estimators=n, max_depth=depth, min_samples_leaf=leaf, random_state=42)\n",
    "        kf = KFold(n_splits=10, random_state=42, shuffle=True)\n",
    "        f1_sum = 0\n",
    "        train_score_sum = 0\n",
    "        test_score_sum = 0\n",
    "        for train_index, test_index in kf.split(x):\n",
    "            X_train, X_test = x[train_index], x[test_index]\n",
    "            Y_train, Y_test = y[train_index], y[test_index]\n",
    "            model.fit(X_train,Y_train)\n",
    "            Y_pred = model.predict(X_test)\n",
    "            f1 = f1_score(Y_test, Y_pred)\n",
    "            f1_sum += f1\n",
    "            train_score  = model.score(X_train,Y_train) # mean accuracy\n",
    "            train_score_sum += train_score\n",
    "            test_score = model.score(X_test,Y_test)\n",
    "            test_score_sum += test_score\n",
    "        f1_ave = f1_sum/10 \n",
    "        train_score_ave = train_score_sum/10\n",
    "        test_score_ave = test_score_sum/10\n",
    "        leaves.append(leaf)\n",
    "        f1_lst_leaf.append(f1_ave)\n",
    "        train_score_leaf.append(train_score_ave)\n",
    "        test_score_leaf.append(test_score_ave)\n",
    "        print(leaf, train_score_ave, test_score_ave, f1_ave)\n",
    "    return leaves, f1_lst_leaf, train_score_leaf, test_score_leaf"
   ]
  },
  {
   "cell_type": "code",
   "execution_count": 22,
   "id": "94c04152-bd48-44ed-8712-2604330ee2e7",
   "metadata": {},
   "outputs": [],
   "source": [
    "def split_params(x, y, left_bound, right_bound, n=120, depth=12, leaf=7, step=1):\n",
    "    splits = []\n",
    "    f1_lst_split = []\n",
    "    train_score_split = []\n",
    "    test_score_split = []\n",
    "\n",
    "    for min_split in range(left_bound, right_bound, step):\n",
    "        model = RandomForestClassifier(n_estimators=n, max_depth=depth, min_samples_leaf=leaf, min_samples_split=min_split, random_state=42)\n",
    "        kf = KFold(n_splits=10, random_state=42, shuffle=True)\n",
    "        f1_sum = 0\n",
    "        train_score_sum = 0\n",
    "        test_score_sum = 0\n",
    "        for train_index, test_index in kf.split(x):\n",
    "            X_train, X_test = x[train_index], x[test_index]\n",
    "            Y_train, Y_test = y[train_index], y[test_index]\n",
    "            model.fit(X_train,Y_train)\n",
    "            Y_pred = model.predict(X_test)\n",
    "            f1 = f1_score(Y_test, Y_pred)\n",
    "            f1_sum += f1\n",
    "            train_score  = model.score(X_train,Y_train) # mean accuracy\n",
    "            train_score_sum += train_score\n",
    "            test_score = model.score(X_test,Y_test)\n",
    "            test_score_sum += test_score\n",
    "        f1_ave = f1_sum/10 \n",
    "        train_score_ave = train_score_sum/10\n",
    "        test_score_ave = test_score_sum/10\n",
    "        splits.append(min_split)\n",
    "        f1_lst_split.append(f1_ave)\n",
    "        train_score_split.append(train_score_ave)\n",
    "        test_score_split.append(test_score_ave)\n",
    "        print(min_split, train_score_ave, test_score_ave, f1_ave)\n",
    "    return splits, f1_lst_split, train_score_split, test_score_split"
   ]
  },
  {
   "cell_type": "markdown",
   "id": "4f62f88e-afc9-454e-ba18-3867c9d9848c",
   "metadata": {},
   "source": [
    "### without noise without replacements"
   ]
  },
  {
   "cell_type": "markdown",
   "id": "669c3ea3-b346-40f4-941d-ecf0392ed2e0",
   "metadata": {},
   "source": [
    "22 < i < 24"
   ]
  },
  {
   "cell_type": "code",
   "execution_count": 25,
   "id": "490129bb-e77a-46d9-8380-efb8219c9934",
   "metadata": {
    "tags": []
   },
   "outputs": [],
   "source": [
    "X_drop_between_copy = X_drop_between_copy.to_numpy()\n",
    "Y_drop_between = np.array(Y_drop_between, dtype=int)"
   ]
  },
  {
   "cell_type": "code",
   "execution_count": 26,
   "id": "3442f17c-3522-4e2b-99cf-4ebba7afaba1",
   "metadata": {},
   "outputs": [
    {
     "name": "stdout",
     "output_type": "stream",
     "text": [
      "15\n"
     ]
    }
   ],
   "source": [
    "print(len(X_drop_between_copy[0]))"
   ]
  },
  {
   "cell_type": "code",
   "execution_count": 27,
   "id": "93111783-5958-44da-9b0a-c8522cc1a12c",
   "metadata": {
    "tags": []
   },
   "outputs": [
    {
     "name": "stdout",
     "output_type": "stream",
     "text": [
      "100 1.0 1.0 1.0\n",
      "110 1.0 1.0 1.0\n",
      "120 1.0 1.0 1.0\n",
      "130 1.0 1.0 1.0\n",
      "140 1.0 1.0 1.0\n",
      "150 1.0 1.0 1.0\n",
      "160 1.0 1.0 1.0\n",
      "170 1.0 1.0 1.0\n",
      "180 1.0 1.0 1.0\n",
      "190 1.0 1.0 1.0\n",
      "200 1.0 1.0 1.0\n"
     ]
    },
    {
     "ename": "KeyboardInterrupt",
     "evalue": "",
     "output_type": "error",
     "traceback": [
      "\u001b[0;31m---------------------------------------------------------------------------\u001b[0m",
      "\u001b[0;31mKeyboardInterrupt\u001b[0m                         Traceback (most recent call last)",
      "\u001b[0;32m<ipython-input-27-f78805fbd801>\u001b[0m in \u001b[0;36m<module>\u001b[0;34m\u001b[0m\n\u001b[0;32m----> 1\u001b[0;31m \u001b[0mestimators2\u001b[0m\u001b[0;34m,\u001b[0m \u001b[0mf1_lst_e2\u001b[0m\u001b[0;34m,\u001b[0m \u001b[0mtrain_score_e2\u001b[0m\u001b[0;34m,\u001b[0m \u001b[0mtest_score_e2\u001b[0m \u001b[0;34m=\u001b[0m \u001b[0mestimator_params\u001b[0m\u001b[0;34m(\u001b[0m\u001b[0mX_drop_between_copy\u001b[0m\u001b[0;34m,\u001b[0m \u001b[0mY_drop_between\u001b[0m\u001b[0;34m,\u001b[0m \u001b[0;36m100\u001b[0m\u001b[0;34m,\u001b[0m \u001b[0;36m460\u001b[0m\u001b[0;34m,\u001b[0m \u001b[0mstep\u001b[0m\u001b[0;34m=\u001b[0m\u001b[0;36m10\u001b[0m\u001b[0;34m)\u001b[0m\u001b[0;34m\u001b[0m\u001b[0;34m\u001b[0m\u001b[0m\n\u001b[0m",
      "\u001b[0;32m<ipython-input-21-e1b432c62fb6>\u001b[0m in \u001b[0;36mestimator_params\u001b[0;34m(x, y, left_bound, right_bound, step)\u001b[0m\n\u001b[1;32m     14\u001b[0m             \u001b[0mX_train\u001b[0m\u001b[0;34m,\u001b[0m \u001b[0mX_test\u001b[0m \u001b[0;34m=\u001b[0m \u001b[0mx\u001b[0m\u001b[0;34m[\u001b[0m\u001b[0mtrain_index\u001b[0m\u001b[0;34m]\u001b[0m\u001b[0;34m,\u001b[0m \u001b[0mx\u001b[0m\u001b[0;34m[\u001b[0m\u001b[0mtest_index\u001b[0m\u001b[0;34m]\u001b[0m\u001b[0;34m\u001b[0m\u001b[0;34m\u001b[0m\u001b[0m\n\u001b[1;32m     15\u001b[0m             \u001b[0mY_train\u001b[0m\u001b[0;34m,\u001b[0m \u001b[0mY_test\u001b[0m \u001b[0;34m=\u001b[0m \u001b[0my\u001b[0m\u001b[0;34m[\u001b[0m\u001b[0mtrain_index\u001b[0m\u001b[0;34m]\u001b[0m\u001b[0;34m,\u001b[0m \u001b[0my\u001b[0m\u001b[0;34m[\u001b[0m\u001b[0mtest_index\u001b[0m\u001b[0;34m]\u001b[0m\u001b[0;34m\u001b[0m\u001b[0;34m\u001b[0m\u001b[0m\n\u001b[0;32m---> 16\u001b[0;31m             \u001b[0mmodel\u001b[0m\u001b[0;34m.\u001b[0m\u001b[0mfit\u001b[0m\u001b[0;34m(\u001b[0m\u001b[0mX_train\u001b[0m\u001b[0;34m,\u001b[0m\u001b[0mY_train\u001b[0m\u001b[0;34m)\u001b[0m\u001b[0;34m\u001b[0m\u001b[0;34m\u001b[0m\u001b[0m\n\u001b[0m\u001b[1;32m     17\u001b[0m             \u001b[0mY_pred\u001b[0m \u001b[0;34m=\u001b[0m \u001b[0mmodel\u001b[0m\u001b[0;34m.\u001b[0m\u001b[0mpredict\u001b[0m\u001b[0;34m(\u001b[0m\u001b[0mX_test\u001b[0m\u001b[0;34m)\u001b[0m\u001b[0;34m\u001b[0m\u001b[0;34m\u001b[0m\u001b[0m\n\u001b[1;32m     18\u001b[0m             \u001b[0mf1\u001b[0m \u001b[0;34m=\u001b[0m \u001b[0mf1_score\u001b[0m\u001b[0;34m(\u001b[0m\u001b[0mY_test\u001b[0m\u001b[0;34m,\u001b[0m \u001b[0mY_pred\u001b[0m\u001b[0;34m)\u001b[0m\u001b[0;34m\u001b[0m\u001b[0;34m\u001b[0m\u001b[0m\n",
      "\u001b[0;32m/data0/sw/anaconda3/lib/python3.8/site-packages/sklearn/ensemble/_forest.py\u001b[0m in \u001b[0;36mfit\u001b[0;34m(self, X, y, sample_weight)\u001b[0m\n\u001b[1;32m    385\u001b[0m             \u001b[0;31m# parallel_backend contexts set at a higher level,\u001b[0m\u001b[0;34m\u001b[0m\u001b[0;34m\u001b[0m\u001b[0;34m\u001b[0m\u001b[0m\n\u001b[1;32m    386\u001b[0m             \u001b[0;31m# since correctness does not rely on using threads.\u001b[0m\u001b[0;34m\u001b[0m\u001b[0;34m\u001b[0m\u001b[0;34m\u001b[0m\u001b[0m\n\u001b[0;32m--> 387\u001b[0;31m             trees = Parallel(n_jobs=self.n_jobs, verbose=self.verbose,\n\u001b[0m\u001b[1;32m    388\u001b[0m                              \u001b[0;34m**\u001b[0m\u001b[0m_joblib_parallel_args\u001b[0m\u001b[0;34m(\u001b[0m\u001b[0mprefer\u001b[0m\u001b[0;34m=\u001b[0m\u001b[0;34m'threads'\u001b[0m\u001b[0;34m)\u001b[0m\u001b[0;34m)\u001b[0m\u001b[0;34m(\u001b[0m\u001b[0;34m\u001b[0m\u001b[0;34m\u001b[0m\u001b[0m\n\u001b[1;32m    389\u001b[0m                 delayed(_parallel_build_trees)(\n",
      "\u001b[0;32m/data0/sw/anaconda3/lib/python3.8/site-packages/joblib/parallel.py\u001b[0m in \u001b[0;36m__call__\u001b[0;34m(self, iterable)\u001b[0m\n\u001b[1;32m   1042\u001b[0m                 \u001b[0mself\u001b[0m\u001b[0;34m.\u001b[0m\u001b[0m_iterating\u001b[0m \u001b[0;34m=\u001b[0m \u001b[0mself\u001b[0m\u001b[0;34m.\u001b[0m\u001b[0m_original_iterator\u001b[0m \u001b[0;32mis\u001b[0m \u001b[0;32mnot\u001b[0m \u001b[0;32mNone\u001b[0m\u001b[0;34m\u001b[0m\u001b[0;34m\u001b[0m\u001b[0m\n\u001b[1;32m   1043\u001b[0m \u001b[0;34m\u001b[0m\u001b[0m\n\u001b[0;32m-> 1044\u001b[0;31m             \u001b[0;32mwhile\u001b[0m \u001b[0mself\u001b[0m\u001b[0;34m.\u001b[0m\u001b[0mdispatch_one_batch\u001b[0m\u001b[0;34m(\u001b[0m\u001b[0miterator\u001b[0m\u001b[0;34m)\u001b[0m\u001b[0;34m:\u001b[0m\u001b[0;34m\u001b[0m\u001b[0;34m\u001b[0m\u001b[0m\n\u001b[0m\u001b[1;32m   1045\u001b[0m                 \u001b[0;32mpass\u001b[0m\u001b[0;34m\u001b[0m\u001b[0;34m\u001b[0m\u001b[0m\n\u001b[1;32m   1046\u001b[0m \u001b[0;34m\u001b[0m\u001b[0m\n",
      "\u001b[0;32m/data0/sw/anaconda3/lib/python3.8/site-packages/joblib/parallel.py\u001b[0m in \u001b[0;36mdispatch_one_batch\u001b[0;34m(self, iterator)\u001b[0m\n\u001b[1;32m    857\u001b[0m                 \u001b[0;32mreturn\u001b[0m \u001b[0;32mFalse\u001b[0m\u001b[0;34m\u001b[0m\u001b[0;34m\u001b[0m\u001b[0m\n\u001b[1;32m    858\u001b[0m             \u001b[0;32melse\u001b[0m\u001b[0;34m:\u001b[0m\u001b[0;34m\u001b[0m\u001b[0;34m\u001b[0m\u001b[0m\n\u001b[0;32m--> 859\u001b[0;31m                 \u001b[0mself\u001b[0m\u001b[0;34m.\u001b[0m\u001b[0m_dispatch\u001b[0m\u001b[0;34m(\u001b[0m\u001b[0mtasks\u001b[0m\u001b[0;34m)\u001b[0m\u001b[0;34m\u001b[0m\u001b[0;34m\u001b[0m\u001b[0m\n\u001b[0m\u001b[1;32m    860\u001b[0m                 \u001b[0;32mreturn\u001b[0m \u001b[0;32mTrue\u001b[0m\u001b[0;34m\u001b[0m\u001b[0;34m\u001b[0m\u001b[0m\n\u001b[1;32m    861\u001b[0m \u001b[0;34m\u001b[0m\u001b[0m\n",
      "\u001b[0;32m/data0/sw/anaconda3/lib/python3.8/site-packages/joblib/parallel.py\u001b[0m in \u001b[0;36m_dispatch\u001b[0;34m(self, batch)\u001b[0m\n\u001b[1;32m    775\u001b[0m         \u001b[0;32mwith\u001b[0m \u001b[0mself\u001b[0m\u001b[0;34m.\u001b[0m\u001b[0m_lock\u001b[0m\u001b[0;34m:\u001b[0m\u001b[0;34m\u001b[0m\u001b[0;34m\u001b[0m\u001b[0m\n\u001b[1;32m    776\u001b[0m             \u001b[0mjob_idx\u001b[0m \u001b[0;34m=\u001b[0m \u001b[0mlen\u001b[0m\u001b[0;34m(\u001b[0m\u001b[0mself\u001b[0m\u001b[0;34m.\u001b[0m\u001b[0m_jobs\u001b[0m\u001b[0;34m)\u001b[0m\u001b[0;34m\u001b[0m\u001b[0;34m\u001b[0m\u001b[0m\n\u001b[0;32m--> 777\u001b[0;31m             \u001b[0mjob\u001b[0m \u001b[0;34m=\u001b[0m \u001b[0mself\u001b[0m\u001b[0;34m.\u001b[0m\u001b[0m_backend\u001b[0m\u001b[0;34m.\u001b[0m\u001b[0mapply_async\u001b[0m\u001b[0;34m(\u001b[0m\u001b[0mbatch\u001b[0m\u001b[0;34m,\u001b[0m \u001b[0mcallback\u001b[0m\u001b[0;34m=\u001b[0m\u001b[0mcb\u001b[0m\u001b[0;34m)\u001b[0m\u001b[0;34m\u001b[0m\u001b[0;34m\u001b[0m\u001b[0m\n\u001b[0m\u001b[1;32m    778\u001b[0m             \u001b[0;31m# A job can complete so quickly than its callback is\u001b[0m\u001b[0;34m\u001b[0m\u001b[0;34m\u001b[0m\u001b[0;34m\u001b[0m\u001b[0m\n\u001b[1;32m    779\u001b[0m             \u001b[0;31m# called before we get here, causing self._jobs to\u001b[0m\u001b[0;34m\u001b[0m\u001b[0;34m\u001b[0m\u001b[0;34m\u001b[0m\u001b[0m\n",
      "\u001b[0;32m/data0/sw/anaconda3/lib/python3.8/site-packages/joblib/_parallel_backends.py\u001b[0m in \u001b[0;36mapply_async\u001b[0;34m(self, func, callback)\u001b[0m\n\u001b[1;32m    206\u001b[0m     \u001b[0;32mdef\u001b[0m \u001b[0mapply_async\u001b[0m\u001b[0;34m(\u001b[0m\u001b[0mself\u001b[0m\u001b[0;34m,\u001b[0m \u001b[0mfunc\u001b[0m\u001b[0;34m,\u001b[0m \u001b[0mcallback\u001b[0m\u001b[0;34m=\u001b[0m\u001b[0;32mNone\u001b[0m\u001b[0;34m)\u001b[0m\u001b[0;34m:\u001b[0m\u001b[0;34m\u001b[0m\u001b[0;34m\u001b[0m\u001b[0m\n\u001b[1;32m    207\u001b[0m         \u001b[0;34m\"\"\"Schedule a func to be run\"\"\"\u001b[0m\u001b[0;34m\u001b[0m\u001b[0;34m\u001b[0m\u001b[0m\n\u001b[0;32m--> 208\u001b[0;31m         \u001b[0mresult\u001b[0m \u001b[0;34m=\u001b[0m \u001b[0mImmediateResult\u001b[0m\u001b[0;34m(\u001b[0m\u001b[0mfunc\u001b[0m\u001b[0;34m)\u001b[0m\u001b[0;34m\u001b[0m\u001b[0;34m\u001b[0m\u001b[0m\n\u001b[0m\u001b[1;32m    209\u001b[0m         \u001b[0;32mif\u001b[0m \u001b[0mcallback\u001b[0m\u001b[0;34m:\u001b[0m\u001b[0;34m\u001b[0m\u001b[0;34m\u001b[0m\u001b[0m\n\u001b[1;32m    210\u001b[0m             \u001b[0mcallback\u001b[0m\u001b[0;34m(\u001b[0m\u001b[0mresult\u001b[0m\u001b[0;34m)\u001b[0m\u001b[0;34m\u001b[0m\u001b[0;34m\u001b[0m\u001b[0m\n",
      "\u001b[0;32m/data0/sw/anaconda3/lib/python3.8/site-packages/joblib/_parallel_backends.py\u001b[0m in \u001b[0;36m__init__\u001b[0;34m(self, batch)\u001b[0m\n\u001b[1;32m    570\u001b[0m         \u001b[0;31m# Don't delay the application, to avoid keeping the input\u001b[0m\u001b[0;34m\u001b[0m\u001b[0;34m\u001b[0m\u001b[0;34m\u001b[0m\u001b[0m\n\u001b[1;32m    571\u001b[0m         \u001b[0;31m# arguments in memory\u001b[0m\u001b[0;34m\u001b[0m\u001b[0;34m\u001b[0m\u001b[0;34m\u001b[0m\u001b[0m\n\u001b[0;32m--> 572\u001b[0;31m         \u001b[0mself\u001b[0m\u001b[0;34m.\u001b[0m\u001b[0mresults\u001b[0m \u001b[0;34m=\u001b[0m \u001b[0mbatch\u001b[0m\u001b[0;34m(\u001b[0m\u001b[0;34m)\u001b[0m\u001b[0;34m\u001b[0m\u001b[0;34m\u001b[0m\u001b[0m\n\u001b[0m\u001b[1;32m    573\u001b[0m \u001b[0;34m\u001b[0m\u001b[0m\n\u001b[1;32m    574\u001b[0m     \u001b[0;32mdef\u001b[0m \u001b[0mget\u001b[0m\u001b[0;34m(\u001b[0m\u001b[0mself\u001b[0m\u001b[0;34m)\u001b[0m\u001b[0;34m:\u001b[0m\u001b[0;34m\u001b[0m\u001b[0;34m\u001b[0m\u001b[0m\n",
      "\u001b[0;32m/data0/sw/anaconda3/lib/python3.8/site-packages/joblib/parallel.py\u001b[0m in \u001b[0;36m__call__\u001b[0;34m(self)\u001b[0m\n\u001b[1;32m    260\u001b[0m         \u001b[0;31m# change the default number of processes to -1\u001b[0m\u001b[0;34m\u001b[0m\u001b[0;34m\u001b[0m\u001b[0;34m\u001b[0m\u001b[0m\n\u001b[1;32m    261\u001b[0m         \u001b[0;32mwith\u001b[0m \u001b[0mparallel_backend\u001b[0m\u001b[0;34m(\u001b[0m\u001b[0mself\u001b[0m\u001b[0;34m.\u001b[0m\u001b[0m_backend\u001b[0m\u001b[0;34m,\u001b[0m \u001b[0mn_jobs\u001b[0m\u001b[0;34m=\u001b[0m\u001b[0mself\u001b[0m\u001b[0;34m.\u001b[0m\u001b[0m_n_jobs\u001b[0m\u001b[0;34m)\u001b[0m\u001b[0;34m:\u001b[0m\u001b[0;34m\u001b[0m\u001b[0;34m\u001b[0m\u001b[0m\n\u001b[0;32m--> 262\u001b[0;31m             return [func(*args, **kwargs)\n\u001b[0m\u001b[1;32m    263\u001b[0m                     for func, args, kwargs in self.items]\n\u001b[1;32m    264\u001b[0m \u001b[0;34m\u001b[0m\u001b[0m\n",
      "\u001b[0;32m/data0/sw/anaconda3/lib/python3.8/site-packages/joblib/parallel.py\u001b[0m in \u001b[0;36m<listcomp>\u001b[0;34m(.0)\u001b[0m\n\u001b[1;32m    260\u001b[0m         \u001b[0;31m# change the default number of processes to -1\u001b[0m\u001b[0;34m\u001b[0m\u001b[0;34m\u001b[0m\u001b[0;34m\u001b[0m\u001b[0m\n\u001b[1;32m    261\u001b[0m         \u001b[0;32mwith\u001b[0m \u001b[0mparallel_backend\u001b[0m\u001b[0;34m(\u001b[0m\u001b[0mself\u001b[0m\u001b[0;34m.\u001b[0m\u001b[0m_backend\u001b[0m\u001b[0;34m,\u001b[0m \u001b[0mn_jobs\u001b[0m\u001b[0;34m=\u001b[0m\u001b[0mself\u001b[0m\u001b[0;34m.\u001b[0m\u001b[0m_n_jobs\u001b[0m\u001b[0;34m)\u001b[0m\u001b[0;34m:\u001b[0m\u001b[0;34m\u001b[0m\u001b[0;34m\u001b[0m\u001b[0m\n\u001b[0;32m--> 262\u001b[0;31m             return [func(*args, **kwargs)\n\u001b[0m\u001b[1;32m    263\u001b[0m                     for func, args, kwargs in self.items]\n\u001b[1;32m    264\u001b[0m \u001b[0;34m\u001b[0m\u001b[0m\n",
      "\u001b[0;32m/data0/sw/anaconda3/lib/python3.8/site-packages/sklearn/utils/fixes.py\u001b[0m in \u001b[0;36m__call__\u001b[0;34m(self, *args, **kwargs)\u001b[0m\n\u001b[1;32m    220\u001b[0m     \u001b[0;32mdef\u001b[0m \u001b[0m__call__\u001b[0m\u001b[0;34m(\u001b[0m\u001b[0mself\u001b[0m\u001b[0;34m,\u001b[0m \u001b[0;34m*\u001b[0m\u001b[0margs\u001b[0m\u001b[0;34m,\u001b[0m \u001b[0;34m**\u001b[0m\u001b[0mkwargs\u001b[0m\u001b[0;34m)\u001b[0m\u001b[0;34m:\u001b[0m\u001b[0;34m\u001b[0m\u001b[0;34m\u001b[0m\u001b[0m\n\u001b[1;32m    221\u001b[0m         \u001b[0;32mwith\u001b[0m \u001b[0mconfig_context\u001b[0m\u001b[0;34m(\u001b[0m\u001b[0;34m**\u001b[0m\u001b[0mself\u001b[0m\u001b[0;34m.\u001b[0m\u001b[0mconfig\u001b[0m\u001b[0;34m)\u001b[0m\u001b[0;34m:\u001b[0m\u001b[0;34m\u001b[0m\u001b[0;34m\u001b[0m\u001b[0m\n\u001b[0;32m--> 222\u001b[0;31m             \u001b[0;32mreturn\u001b[0m \u001b[0mself\u001b[0m\u001b[0;34m.\u001b[0m\u001b[0mfunction\u001b[0m\u001b[0;34m(\u001b[0m\u001b[0;34m*\u001b[0m\u001b[0margs\u001b[0m\u001b[0;34m,\u001b[0m \u001b[0;34m**\u001b[0m\u001b[0mkwargs\u001b[0m\u001b[0;34m)\u001b[0m\u001b[0;34m\u001b[0m\u001b[0;34m\u001b[0m\u001b[0m\n\u001b[0m",
      "\u001b[0;32m/data0/sw/anaconda3/lib/python3.8/site-packages/sklearn/ensemble/_forest.py\u001b[0m in \u001b[0;36m_parallel_build_trees\u001b[0;34m(tree, forest, X, y, sample_weight, tree_idx, n_trees, verbose, class_weight, n_samples_bootstrap)\u001b[0m\n\u001b[1;32m    153\u001b[0m             \u001b[0mcurr_sample_weight\u001b[0m \u001b[0;34m=\u001b[0m \u001b[0msample_weight\u001b[0m\u001b[0;34m.\u001b[0m\u001b[0mcopy\u001b[0m\u001b[0;34m(\u001b[0m\u001b[0;34m)\u001b[0m\u001b[0;34m\u001b[0m\u001b[0;34m\u001b[0m\u001b[0m\n\u001b[1;32m    154\u001b[0m \u001b[0;34m\u001b[0m\u001b[0m\n\u001b[0;32m--> 155\u001b[0;31m         indices = _generate_sample_indices(tree.random_state, n_samples,\n\u001b[0m\u001b[1;32m    156\u001b[0m                                            n_samples_bootstrap)\n\u001b[1;32m    157\u001b[0m         \u001b[0msample_counts\u001b[0m \u001b[0;34m=\u001b[0m \u001b[0mnp\u001b[0m\u001b[0;34m.\u001b[0m\u001b[0mbincount\u001b[0m\u001b[0;34m(\u001b[0m\u001b[0mindices\u001b[0m\u001b[0;34m,\u001b[0m \u001b[0mminlength\u001b[0m\u001b[0;34m=\u001b[0m\u001b[0mn_samples\u001b[0m\u001b[0;34m)\u001b[0m\u001b[0;34m\u001b[0m\u001b[0;34m\u001b[0m\u001b[0m\n",
      "\u001b[0;32m/data0/sw/anaconda3/lib/python3.8/site-packages/sklearn/ensemble/_forest.py\u001b[0m in \u001b[0;36m_generate_sample_indices\u001b[0;34m(random_state, n_samples, n_samples_bootstrap)\u001b[0m\n\u001b[1;32m    119\u001b[0m     Private function used to _parallel_build_trees function.\"\"\"\n\u001b[1;32m    120\u001b[0m \u001b[0;34m\u001b[0m\u001b[0m\n\u001b[0;32m--> 121\u001b[0;31m     \u001b[0mrandom_instance\u001b[0m \u001b[0;34m=\u001b[0m \u001b[0mcheck_random_state\u001b[0m\u001b[0;34m(\u001b[0m\u001b[0mrandom_state\u001b[0m\u001b[0;34m)\u001b[0m\u001b[0;34m\u001b[0m\u001b[0;34m\u001b[0m\u001b[0m\n\u001b[0m\u001b[1;32m    122\u001b[0m     \u001b[0msample_indices\u001b[0m \u001b[0;34m=\u001b[0m \u001b[0mrandom_instance\u001b[0m\u001b[0;34m.\u001b[0m\u001b[0mrandint\u001b[0m\u001b[0;34m(\u001b[0m\u001b[0;36m0\u001b[0m\u001b[0;34m,\u001b[0m \u001b[0mn_samples\u001b[0m\u001b[0;34m,\u001b[0m \u001b[0mn_samples_bootstrap\u001b[0m\u001b[0;34m)\u001b[0m\u001b[0;34m\u001b[0m\u001b[0;34m\u001b[0m\u001b[0m\n\u001b[1;32m    123\u001b[0m \u001b[0;34m\u001b[0m\u001b[0m\n",
      "\u001b[0;32m/data0/sw/anaconda3/lib/python3.8/site-packages/sklearn/utils/validation.py\u001b[0m in \u001b[0;36mcheck_random_state\u001b[0;34m(seed)\u001b[0m\n\u001b[1;32m    881\u001b[0m         \u001b[0;32mreturn\u001b[0m \u001b[0mnp\u001b[0m\u001b[0;34m.\u001b[0m\u001b[0mrandom\u001b[0m\u001b[0;34m.\u001b[0m\u001b[0mmtrand\u001b[0m\u001b[0;34m.\u001b[0m\u001b[0m_rand\u001b[0m\u001b[0;34m\u001b[0m\u001b[0;34m\u001b[0m\u001b[0m\n\u001b[1;32m    882\u001b[0m     \u001b[0;32mif\u001b[0m \u001b[0misinstance\u001b[0m\u001b[0;34m(\u001b[0m\u001b[0mseed\u001b[0m\u001b[0;34m,\u001b[0m \u001b[0mnumbers\u001b[0m\u001b[0;34m.\u001b[0m\u001b[0mIntegral\u001b[0m\u001b[0;34m)\u001b[0m\u001b[0;34m:\u001b[0m\u001b[0;34m\u001b[0m\u001b[0;34m\u001b[0m\u001b[0m\n\u001b[0;32m--> 883\u001b[0;31m         \u001b[0;32mreturn\u001b[0m \u001b[0mnp\u001b[0m\u001b[0;34m.\u001b[0m\u001b[0mrandom\u001b[0m\u001b[0;34m.\u001b[0m\u001b[0mRandomState\u001b[0m\u001b[0;34m(\u001b[0m\u001b[0mseed\u001b[0m\u001b[0;34m)\u001b[0m\u001b[0;34m\u001b[0m\u001b[0;34m\u001b[0m\u001b[0m\n\u001b[0m\u001b[1;32m    884\u001b[0m     \u001b[0;32mif\u001b[0m \u001b[0misinstance\u001b[0m\u001b[0;34m(\u001b[0m\u001b[0mseed\u001b[0m\u001b[0;34m,\u001b[0m \u001b[0mnp\u001b[0m\u001b[0;34m.\u001b[0m\u001b[0mrandom\u001b[0m\u001b[0;34m.\u001b[0m\u001b[0mRandomState\u001b[0m\u001b[0;34m)\u001b[0m\u001b[0;34m:\u001b[0m\u001b[0;34m\u001b[0m\u001b[0;34m\u001b[0m\u001b[0m\n\u001b[1;32m    885\u001b[0m         \u001b[0;32mreturn\u001b[0m \u001b[0mseed\u001b[0m\u001b[0;34m\u001b[0m\u001b[0;34m\u001b[0m\u001b[0m\n",
      "\u001b[0;32mmtrand.pyx\u001b[0m in \u001b[0;36mnumpy.random.mtrand.RandomState.__init__\u001b[0;34m()\u001b[0m\n",
      "\u001b[0;32m_mt19937.pyx\u001b[0m in \u001b[0;36mnumpy.random._mt19937.MT19937.__init__\u001b[0;34m()\u001b[0m\n",
      "\u001b[0;32m/data0/sw/anaconda3/lib/python3.8/contextlib.py\u001b[0m in \u001b[0;36minner\u001b[0;34m(*args, **kwds)\u001b[0m\n\u001b[1;32m     73\u001b[0m         \u001b[0;32mdef\u001b[0m \u001b[0minner\u001b[0m\u001b[0;34m(\u001b[0m\u001b[0;34m*\u001b[0m\u001b[0margs\u001b[0m\u001b[0;34m,\u001b[0m \u001b[0;34m**\u001b[0m\u001b[0mkwds\u001b[0m\u001b[0;34m)\u001b[0m\u001b[0;34m:\u001b[0m\u001b[0;34m\u001b[0m\u001b[0;34m\u001b[0m\u001b[0m\n\u001b[1;32m     74\u001b[0m             \u001b[0;32mwith\u001b[0m \u001b[0mself\u001b[0m\u001b[0;34m.\u001b[0m\u001b[0m_recreate_cm\u001b[0m\u001b[0;34m(\u001b[0m\u001b[0;34m)\u001b[0m\u001b[0;34m:\u001b[0m\u001b[0;34m\u001b[0m\u001b[0;34m\u001b[0m\u001b[0m\n\u001b[0;32m---> 75\u001b[0;31m                 \u001b[0;32mreturn\u001b[0m \u001b[0mfunc\u001b[0m\u001b[0;34m(\u001b[0m\u001b[0;34m*\u001b[0m\u001b[0margs\u001b[0m\u001b[0;34m,\u001b[0m \u001b[0;34m**\u001b[0m\u001b[0mkwds\u001b[0m\u001b[0;34m)\u001b[0m\u001b[0;34m\u001b[0m\u001b[0;34m\u001b[0m\u001b[0m\n\u001b[0m\u001b[1;32m     76\u001b[0m         \u001b[0;32mreturn\u001b[0m \u001b[0minner\u001b[0m\u001b[0;34m\u001b[0m\u001b[0;34m\u001b[0m\u001b[0m\n\u001b[1;32m     77\u001b[0m \u001b[0;34m\u001b[0m\u001b[0m\n",
      "\u001b[0;31mKeyboardInterrupt\u001b[0m: "
     ]
    }
   ],
   "source": [
    "estimators2, f1_lst_e2, train_score_e2, test_score_e2 = estimator_params(X_drop_between_copy, Y_drop_between, 100, 460, step=10)"
   ]
  },
  {
   "cell_type": "code",
   "execution_count": 42,
   "id": "4e9749a1-375a-45f8-a505-89fe08edc496",
   "metadata": {},
   "outputs": [
    {
     "data": {
      "image/png": "[encoded data removed]",
      "text/plain": [
       "<Figure size 432x288 with 1 Axes>"
      ]
     },
     "metadata": {
      "needs_background": "light"
     },
     "output_type": "display_data"
    }
   ],
   "source": [
    "plt.plot(estimators2, f1_lst_e2, label='F1 scores')\n",
    "plt.plot(estimators2, test_score_e2, label='test score')\n",
    "plt.title('Scores for n_estimators (21 < i < 24)')\n",
    "plt.legend()\n",
    "plt.show()"
   ]
  },
  {
   "cell_type": "code",
   "execution_count": 54,
   "id": "62ea4ffd-2faf-46ba-bda1-c5b58a99e168",
   "metadata": {},
   "outputs": [
    {
     "name": "stdout",
     "output_type": "stream",
     "text": [
      "    n_estimator  F1 score\n",
      "21          310  0.993113\n",
      "20          300  0.993113\n",
      "22          320  0.993113\n",
      "18          280  0.993104\n",
      "19          290  0.992979\n",
      "25          350  0.992884\n",
      "24          340  0.992761\n",
      "23          330  0.992761\n",
      "17          270  0.992756\n",
      "8           180  0.992622\n"
     ]
    }
   ],
   "source": [
    "df_e2 = pd.DataFrame({'n_estimator': estimators2, 'F1 score': f1_lst_e2})\n",
    "df_e2 = df_e2.sort_values(by='F1 score', ascending=False)\n",
    "print(df_e2.head(10))"
   ]
  },
  {
   "cell_type": "code",
   "execution_count": 28,
   "id": "9d1f5e30-c6a1-4908-ad3c-cf96310992a0",
   "metadata": {
    "tags": []
   },
   "outputs": [
    {
     "name": "stdout",
     "output_type": "stream",
     "text": [
      "2 1.0 1.0 1.0\n",
      "3 1.0 1.0 1.0\n",
      "4 1.0 1.0 1.0\n",
      "5 1.0 1.0 1.0\n",
      "6 1.0 1.0 1.0\n"
     ]
    },
    {
     "ename": "KeyboardInterrupt",
     "evalue": "",
     "output_type": "error",
     "traceback": [
      "\u001b[0;31m---------------------------------------------------------------------------\u001b[0m",
      "\u001b[0;31mKeyboardInterrupt\u001b[0m                         Traceback (most recent call last)",
      "\u001b[0;32m<ipython-input-28-dad2007d3181>\u001b[0m in \u001b[0;36m<module>\u001b[0;34m\u001b[0m\n\u001b[0;32m----> 1\u001b[0;31m \u001b[0mdepths2\u001b[0m\u001b[0;34m,\u001b[0m \u001b[0mf1_lst_depth2\u001b[0m\u001b[0;34m,\u001b[0m \u001b[0mtrain_score_depth2\u001b[0m\u001b[0;34m,\u001b[0m \u001b[0mtest_score_depth2\u001b[0m \u001b[0;34m=\u001b[0m \u001b[0mdepth_params\u001b[0m\u001b[0;34m(\u001b[0m\u001b[0mX_drop_between_copy\u001b[0m\u001b[0;34m,\u001b[0m \u001b[0mY_drop_between\u001b[0m\u001b[0;34m,\u001b[0m \u001b[0;36m2\u001b[0m\u001b[0;34m,\u001b[0m \u001b[0;36m26\u001b[0m\u001b[0;34m,\u001b[0m \u001b[0;36m230\u001b[0m\u001b[0;34m)\u001b[0m\u001b[0;34m\u001b[0m\u001b[0;34m\u001b[0m\u001b[0m\n\u001b[0m",
      "\u001b[0;32m<ipython-input-22-984b9999ff27>\u001b[0m in \u001b[0;36mdepth_params\u001b[0;34m(x, y, left_bound, right_bound, n, step)\u001b[0m\n\u001b[1;32m     14\u001b[0m             \u001b[0mX_train\u001b[0m\u001b[0;34m,\u001b[0m \u001b[0mX_test\u001b[0m \u001b[0;34m=\u001b[0m \u001b[0mx\u001b[0m\u001b[0;34m[\u001b[0m\u001b[0mtrain_index\u001b[0m\u001b[0;34m]\u001b[0m\u001b[0;34m,\u001b[0m \u001b[0mx\u001b[0m\u001b[0;34m[\u001b[0m\u001b[0mtest_index\u001b[0m\u001b[0;34m]\u001b[0m\u001b[0;34m\u001b[0m\u001b[0;34m\u001b[0m\u001b[0m\n\u001b[1;32m     15\u001b[0m             \u001b[0mY_train\u001b[0m\u001b[0;34m,\u001b[0m \u001b[0mY_test\u001b[0m \u001b[0;34m=\u001b[0m \u001b[0my\u001b[0m\u001b[0;34m[\u001b[0m\u001b[0mtrain_index\u001b[0m\u001b[0;34m]\u001b[0m\u001b[0;34m,\u001b[0m \u001b[0my\u001b[0m\u001b[0;34m[\u001b[0m\u001b[0mtest_index\u001b[0m\u001b[0;34m]\u001b[0m\u001b[0;34m\u001b[0m\u001b[0;34m\u001b[0m\u001b[0m\n\u001b[0;32m---> 16\u001b[0;31m             \u001b[0mmodel\u001b[0m\u001b[0;34m.\u001b[0m\u001b[0mfit\u001b[0m\u001b[0;34m(\u001b[0m\u001b[0mX_train\u001b[0m\u001b[0;34m,\u001b[0m\u001b[0mY_train\u001b[0m\u001b[0;34m)\u001b[0m\u001b[0;34m\u001b[0m\u001b[0;34m\u001b[0m\u001b[0m\n\u001b[0m\u001b[1;32m     17\u001b[0m             \u001b[0mY_pred\u001b[0m \u001b[0;34m=\u001b[0m \u001b[0mmodel\u001b[0m\u001b[0;34m.\u001b[0m\u001b[0mpredict\u001b[0m\u001b[0;34m(\u001b[0m\u001b[0mX_test\u001b[0m\u001b[0;34m)\u001b[0m\u001b[0;34m\u001b[0m\u001b[0;34m\u001b[0m\u001b[0m\n\u001b[1;32m     18\u001b[0m             \u001b[0mf1\u001b[0m \u001b[0;34m=\u001b[0m \u001b[0mf1_score\u001b[0m\u001b[0;34m(\u001b[0m\u001b[0mY_test\u001b[0m\u001b[0;34m,\u001b[0m \u001b[0mY_pred\u001b[0m\u001b[0;34m)\u001b[0m\u001b[0;34m\u001b[0m\u001b[0;34m\u001b[0m\u001b[0m\n",
      "\u001b[0;32m/data0/sw/anaconda3/lib/python3.8/site-packages/sklearn/ensemble/_forest.py\u001b[0m in \u001b[0;36mfit\u001b[0;34m(self, X, y, sample_weight)\u001b[0m\n\u001b[1;32m    385\u001b[0m             \u001b[0;31m# parallel_backend contexts set at a higher level,\u001b[0m\u001b[0;34m\u001b[0m\u001b[0;34m\u001b[0m\u001b[0;34m\u001b[0m\u001b[0m\n\u001b[1;32m    386\u001b[0m             \u001b[0;31m# since correctness does not rely on using threads.\u001b[0m\u001b[0;34m\u001b[0m\u001b[0;34m\u001b[0m\u001b[0;34m\u001b[0m\u001b[0m\n\u001b[0;32m--> 387\u001b[0;31m             trees = Parallel(n_jobs=self.n_jobs, verbose=self.verbose,\n\u001b[0m\u001b[1;32m    388\u001b[0m                              \u001b[0;34m**\u001b[0m\u001b[0m_joblib_parallel_args\u001b[0m\u001b[0;34m(\u001b[0m\u001b[0mprefer\u001b[0m\u001b[0;34m=\u001b[0m\u001b[0;34m'threads'\u001b[0m\u001b[0;34m)\u001b[0m\u001b[0;34m)\u001b[0m\u001b[0;34m(\u001b[0m\u001b[0;34m\u001b[0m\u001b[0;34m\u001b[0m\u001b[0m\n\u001b[1;32m    389\u001b[0m                 delayed(_parallel_build_trees)(\n",
      "\u001b[0;32m/data0/sw/anaconda3/lib/python3.8/site-packages/joblib/parallel.py\u001b[0m in \u001b[0;36m__call__\u001b[0;34m(self, iterable)\u001b[0m\n\u001b[1;32m   1042\u001b[0m                 \u001b[0mself\u001b[0m\u001b[0;34m.\u001b[0m\u001b[0m_iterating\u001b[0m \u001b[0;34m=\u001b[0m \u001b[0mself\u001b[0m\u001b[0;34m.\u001b[0m\u001b[0m_original_iterator\u001b[0m \u001b[0;32mis\u001b[0m \u001b[0;32mnot\u001b[0m \u001b[0;32mNone\u001b[0m\u001b[0;34m\u001b[0m\u001b[0;34m\u001b[0m\u001b[0m\n\u001b[1;32m   1043\u001b[0m \u001b[0;34m\u001b[0m\u001b[0m\n\u001b[0;32m-> 1044\u001b[0;31m             \u001b[0;32mwhile\u001b[0m \u001b[0mself\u001b[0m\u001b[0;34m.\u001b[0m\u001b[0mdispatch_one_batch\u001b[0m\u001b[0;34m(\u001b[0m\u001b[0miterator\u001b[0m\u001b[0;34m)\u001b[0m\u001b[0;34m:\u001b[0m\u001b[0;34m\u001b[0m\u001b[0;34m\u001b[0m\u001b[0m\n\u001b[0m\u001b[1;32m   1045\u001b[0m                 \u001b[0;32mpass\u001b[0m\u001b[0;34m\u001b[0m\u001b[0;34m\u001b[0m\u001b[0m\n\u001b[1;32m   1046\u001b[0m \u001b[0;34m\u001b[0m\u001b[0m\n",
      "\u001b[0;32m/data0/sw/anaconda3/lib/python3.8/site-packages/joblib/parallel.py\u001b[0m in \u001b[0;36mdispatch_one_batch\u001b[0;34m(self, iterator)\u001b[0m\n\u001b[1;32m    857\u001b[0m                 \u001b[0;32mreturn\u001b[0m \u001b[0;32mFalse\u001b[0m\u001b[0;34m\u001b[0m\u001b[0;34m\u001b[0m\u001b[0m\n\u001b[1;32m    858\u001b[0m             \u001b[0;32melse\u001b[0m\u001b[0;34m:\u001b[0m\u001b[0;34m\u001b[0m\u001b[0;34m\u001b[0m\u001b[0m\n\u001b[0;32m--> 859\u001b[0;31m                 \u001b[0mself\u001b[0m\u001b[0;34m.\u001b[0m\u001b[0m_dispatch\u001b[0m\u001b[0;34m(\u001b[0m\u001b[0mtasks\u001b[0m\u001b[0;34m)\u001b[0m\u001b[0;34m\u001b[0m\u001b[0;34m\u001b[0m\u001b[0m\n\u001b[0m\u001b[1;32m    860\u001b[0m                 \u001b[0;32mreturn\u001b[0m \u001b[0;32mTrue\u001b[0m\u001b[0;34m\u001b[0m\u001b[0;34m\u001b[0m\u001b[0m\n\u001b[1;32m    861\u001b[0m \u001b[0;34m\u001b[0m\u001b[0m\n",
      "\u001b[0;32m/data0/sw/anaconda3/lib/python3.8/site-packages/joblib/parallel.py\u001b[0m in \u001b[0;36m_dispatch\u001b[0;34m(self, batch)\u001b[0m\n\u001b[1;32m    775\u001b[0m         \u001b[0;32mwith\u001b[0m \u001b[0mself\u001b[0m\u001b[0;34m.\u001b[0m\u001b[0m_lock\u001b[0m\u001b[0;34m:\u001b[0m\u001b[0;34m\u001b[0m\u001b[0;34m\u001b[0m\u001b[0m\n\u001b[1;32m    776\u001b[0m             \u001b[0mjob_idx\u001b[0m \u001b[0;34m=\u001b[0m \u001b[0mlen\u001b[0m\u001b[0;34m(\u001b[0m\u001b[0mself\u001b[0m\u001b[0;34m.\u001b[0m\u001b[0m_jobs\u001b[0m\u001b[0;34m)\u001b[0m\u001b[0;34m\u001b[0m\u001b[0;34m\u001b[0m\u001b[0m\n\u001b[0;32m--> 777\u001b[0;31m             \u001b[0mjob\u001b[0m \u001b[0;34m=\u001b[0m \u001b[0mself\u001b[0m\u001b[0;34m.\u001b[0m\u001b[0m_backend\u001b[0m\u001b[0;34m.\u001b[0m\u001b[0mapply_async\u001b[0m\u001b[0;34m(\u001b[0m\u001b[0mbatch\u001b[0m\u001b[0;34m,\u001b[0m \u001b[0mcallback\u001b[0m\u001b[0;34m=\u001b[0m\u001b[0mcb\u001b[0m\u001b[0;34m)\u001b[0m\u001b[0;34m\u001b[0m\u001b[0;34m\u001b[0m\u001b[0m\n\u001b[0m\u001b[1;32m    778\u001b[0m             \u001b[0;31m# A job can complete so quickly than its callback is\u001b[0m\u001b[0;34m\u001b[0m\u001b[0;34m\u001b[0m\u001b[0;34m\u001b[0m\u001b[0m\n\u001b[1;32m    779\u001b[0m             \u001b[0;31m# called before we get here, causing self._jobs to\u001b[0m\u001b[0;34m\u001b[0m\u001b[0;34m\u001b[0m\u001b[0;34m\u001b[0m\u001b[0m\n",
      "\u001b[0;32m/data0/sw/anaconda3/lib/python3.8/site-packages/joblib/_parallel_backends.py\u001b[0m in \u001b[0;36mapply_async\u001b[0;34m(self, func, callback)\u001b[0m\n\u001b[1;32m    206\u001b[0m     \u001b[0;32mdef\u001b[0m \u001b[0mapply_async\u001b[0m\u001b[0;34m(\u001b[0m\u001b[0mself\u001b[0m\u001b[0;34m,\u001b[0m \u001b[0mfunc\u001b[0m\u001b[0;34m,\u001b[0m \u001b[0mcallback\u001b[0m\u001b[0;34m=\u001b[0m\u001b[0;32mNone\u001b[0m\u001b[0;34m)\u001b[0m\u001b[0;34m:\u001b[0m\u001b[0;34m\u001b[0m\u001b[0;34m\u001b[0m\u001b[0m\n\u001b[1;32m    207\u001b[0m         \u001b[0;34m\"\"\"Schedule a func to be run\"\"\"\u001b[0m\u001b[0;34m\u001b[0m\u001b[0;34m\u001b[0m\u001b[0m\n\u001b[0;32m--> 208\u001b[0;31m         \u001b[0mresult\u001b[0m \u001b[0;34m=\u001b[0m \u001b[0mImmediateResult\u001b[0m\u001b[0;34m(\u001b[0m\u001b[0mfunc\u001b[0m\u001b[0;34m)\u001b[0m\u001b[0;34m\u001b[0m\u001b[0;34m\u001b[0m\u001b[0m\n\u001b[0m\u001b[1;32m    209\u001b[0m         \u001b[0;32mif\u001b[0m \u001b[0mcallback\u001b[0m\u001b[0;34m:\u001b[0m\u001b[0;34m\u001b[0m\u001b[0;34m\u001b[0m\u001b[0m\n\u001b[1;32m    210\u001b[0m             \u001b[0mcallback\u001b[0m\u001b[0;34m(\u001b[0m\u001b[0mresult\u001b[0m\u001b[0;34m)\u001b[0m\u001b[0;34m\u001b[0m\u001b[0;34m\u001b[0m\u001b[0m\n",
      "\u001b[0;32m/data0/sw/anaconda3/lib/python3.8/site-packages/joblib/_parallel_backends.py\u001b[0m in \u001b[0;36m__init__\u001b[0;34m(self, batch)\u001b[0m\n\u001b[1;32m    570\u001b[0m         \u001b[0;31m# Don't delay the application, to avoid keeping the input\u001b[0m\u001b[0;34m\u001b[0m\u001b[0;34m\u001b[0m\u001b[0;34m\u001b[0m\u001b[0m\n\u001b[1;32m    571\u001b[0m         \u001b[0;31m# arguments in memory\u001b[0m\u001b[0;34m\u001b[0m\u001b[0;34m\u001b[0m\u001b[0;34m\u001b[0m\u001b[0m\n\u001b[0;32m--> 572\u001b[0;31m         \u001b[0mself\u001b[0m\u001b[0;34m.\u001b[0m\u001b[0mresults\u001b[0m \u001b[0;34m=\u001b[0m \u001b[0mbatch\u001b[0m\u001b[0;34m(\u001b[0m\u001b[0;34m)\u001b[0m\u001b[0;34m\u001b[0m\u001b[0;34m\u001b[0m\u001b[0m\n\u001b[0m\u001b[1;32m    573\u001b[0m \u001b[0;34m\u001b[0m\u001b[0m\n\u001b[1;32m    574\u001b[0m     \u001b[0;32mdef\u001b[0m \u001b[0mget\u001b[0m\u001b[0;34m(\u001b[0m\u001b[0mself\u001b[0m\u001b[0;34m)\u001b[0m\u001b[0;34m:\u001b[0m\u001b[0;34m\u001b[0m\u001b[0;34m\u001b[0m\u001b[0m\n",
      "\u001b[0;32m/data0/sw/anaconda3/lib/python3.8/site-packages/joblib/parallel.py\u001b[0m in \u001b[0;36m__call__\u001b[0;34m(self)\u001b[0m\n\u001b[1;32m    260\u001b[0m         \u001b[0;31m# change the default number of processes to -1\u001b[0m\u001b[0;34m\u001b[0m\u001b[0;34m\u001b[0m\u001b[0;34m\u001b[0m\u001b[0m\n\u001b[1;32m    261\u001b[0m         \u001b[0;32mwith\u001b[0m \u001b[0mparallel_backend\u001b[0m\u001b[0;34m(\u001b[0m\u001b[0mself\u001b[0m\u001b[0;34m.\u001b[0m\u001b[0m_backend\u001b[0m\u001b[0;34m,\u001b[0m \u001b[0mn_jobs\u001b[0m\u001b[0;34m=\u001b[0m\u001b[0mself\u001b[0m\u001b[0;34m.\u001b[0m\u001b[0m_n_jobs\u001b[0m\u001b[0;34m)\u001b[0m\u001b[0;34m:\u001b[0m\u001b[0;34m\u001b[0m\u001b[0;34m\u001b[0m\u001b[0m\n\u001b[0;32m--> 262\u001b[0;31m             return [func(*args, **kwargs)\n\u001b[0m\u001b[1;32m    263\u001b[0m                     for func, args, kwargs in self.items]\n\u001b[1;32m    264\u001b[0m \u001b[0;34m\u001b[0m\u001b[0m\n",
      "\u001b[0;32m/data0/sw/anaconda3/lib/python3.8/site-packages/joblib/parallel.py\u001b[0m in \u001b[0;36m<listcomp>\u001b[0;34m(.0)\u001b[0m\n\u001b[1;32m    260\u001b[0m         \u001b[0;31m# change the default number of processes to -1\u001b[0m\u001b[0;34m\u001b[0m\u001b[0;34m\u001b[0m\u001b[0;34m\u001b[0m\u001b[0m\n\u001b[1;32m    261\u001b[0m         \u001b[0;32mwith\u001b[0m \u001b[0mparallel_backend\u001b[0m\u001b[0;34m(\u001b[0m\u001b[0mself\u001b[0m\u001b[0;34m.\u001b[0m\u001b[0m_backend\u001b[0m\u001b[0;34m,\u001b[0m \u001b[0mn_jobs\u001b[0m\u001b[0;34m=\u001b[0m\u001b[0mself\u001b[0m\u001b[0;34m.\u001b[0m\u001b[0m_n_jobs\u001b[0m\u001b[0;34m)\u001b[0m\u001b[0;34m:\u001b[0m\u001b[0;34m\u001b[0m\u001b[0;34m\u001b[0m\u001b[0m\n\u001b[0;32m--> 262\u001b[0;31m             return [func(*args, **kwargs)\n\u001b[0m\u001b[1;32m    263\u001b[0m                     for func, args, kwargs in self.items]\n\u001b[1;32m    264\u001b[0m \u001b[0;34m\u001b[0m\u001b[0m\n",
      "\u001b[0;32m/data0/sw/anaconda3/lib/python3.8/site-packages/sklearn/utils/fixes.py\u001b[0m in \u001b[0;36m__call__\u001b[0;34m(self, *args, **kwargs)\u001b[0m\n\u001b[1;32m    220\u001b[0m     \u001b[0;32mdef\u001b[0m \u001b[0m__call__\u001b[0m\u001b[0;34m(\u001b[0m\u001b[0mself\u001b[0m\u001b[0;34m,\u001b[0m \u001b[0;34m*\u001b[0m\u001b[0margs\u001b[0m\u001b[0;34m,\u001b[0m \u001b[0;34m**\u001b[0m\u001b[0mkwargs\u001b[0m\u001b[0;34m)\u001b[0m\u001b[0;34m:\u001b[0m\u001b[0;34m\u001b[0m\u001b[0;34m\u001b[0m\u001b[0m\n\u001b[1;32m    221\u001b[0m         \u001b[0;32mwith\u001b[0m \u001b[0mconfig_context\u001b[0m\u001b[0;34m(\u001b[0m\u001b[0;34m**\u001b[0m\u001b[0mself\u001b[0m\u001b[0;34m.\u001b[0m\u001b[0mconfig\u001b[0m\u001b[0;34m)\u001b[0m\u001b[0;34m:\u001b[0m\u001b[0;34m\u001b[0m\u001b[0;34m\u001b[0m\u001b[0m\n\u001b[0;32m--> 222\u001b[0;31m             \u001b[0;32mreturn\u001b[0m \u001b[0mself\u001b[0m\u001b[0;34m.\u001b[0m\u001b[0mfunction\u001b[0m\u001b[0;34m(\u001b[0m\u001b[0;34m*\u001b[0m\u001b[0margs\u001b[0m\u001b[0;34m,\u001b[0m \u001b[0;34m**\u001b[0m\u001b[0mkwargs\u001b[0m\u001b[0;34m)\u001b[0m\u001b[0;34m\u001b[0m\u001b[0;34m\u001b[0m\u001b[0m\n\u001b[0m",
      "\u001b[0;32m/data0/sw/anaconda3/lib/python3.8/site-packages/sklearn/ensemble/_forest.py\u001b[0m in \u001b[0;36m_parallel_build_trees\u001b[0;34m(tree, forest, X, y, sample_weight, tree_idx, n_trees, verbose, class_weight, n_samples_bootstrap)\u001b[0m\n\u001b[1;32m    167\u001b[0m                                                         indices=indices)\n\u001b[1;32m    168\u001b[0m \u001b[0;34m\u001b[0m\u001b[0m\n\u001b[0;32m--> 169\u001b[0;31m         \u001b[0mtree\u001b[0m\u001b[0;34m.\u001b[0m\u001b[0mfit\u001b[0m\u001b[0;34m(\u001b[0m\u001b[0mX\u001b[0m\u001b[0;34m,\u001b[0m \u001b[0my\u001b[0m\u001b[0;34m,\u001b[0m \u001b[0msample_weight\u001b[0m\u001b[0;34m=\u001b[0m\u001b[0mcurr_sample_weight\u001b[0m\u001b[0;34m,\u001b[0m \u001b[0mcheck_input\u001b[0m\u001b[0;34m=\u001b[0m\u001b[0;32mFalse\u001b[0m\u001b[0;34m)\u001b[0m\u001b[0;34m\u001b[0m\u001b[0;34m\u001b[0m\u001b[0m\n\u001b[0m\u001b[1;32m    170\u001b[0m     \u001b[0;32melse\u001b[0m\u001b[0;34m:\u001b[0m\u001b[0;34m\u001b[0m\u001b[0;34m\u001b[0m\u001b[0m\n\u001b[1;32m    171\u001b[0m         \u001b[0mtree\u001b[0m\u001b[0;34m.\u001b[0m\u001b[0mfit\u001b[0m\u001b[0;34m(\u001b[0m\u001b[0mX\u001b[0m\u001b[0;34m,\u001b[0m \u001b[0my\u001b[0m\u001b[0;34m,\u001b[0m \u001b[0msample_weight\u001b[0m\u001b[0;34m=\u001b[0m\u001b[0msample_weight\u001b[0m\u001b[0;34m,\u001b[0m \u001b[0mcheck_input\u001b[0m\u001b[0;34m=\u001b[0m\u001b[0;32mFalse\u001b[0m\u001b[0;34m)\u001b[0m\u001b[0;34m\u001b[0m\u001b[0;34m\u001b[0m\u001b[0m\n",
      "\u001b[0;32m/data0/sw/anaconda3/lib/python3.8/site-packages/sklearn/tree/_classes.py\u001b[0m in \u001b[0;36mfit\u001b[0;34m(self, X, y, sample_weight, check_input, X_idx_sorted)\u001b[0m\n\u001b[1;32m    896\u001b[0m         \"\"\"\n\u001b[1;32m    897\u001b[0m \u001b[0;34m\u001b[0m\u001b[0m\n\u001b[0;32m--> 898\u001b[0;31m         super().fit(\n\u001b[0m\u001b[1;32m    899\u001b[0m             \u001b[0mX\u001b[0m\u001b[0;34m,\u001b[0m \u001b[0my\u001b[0m\u001b[0;34m,\u001b[0m\u001b[0;34m\u001b[0m\u001b[0;34m\u001b[0m\u001b[0m\n\u001b[1;32m    900\u001b[0m             \u001b[0msample_weight\u001b[0m\u001b[0;34m=\u001b[0m\u001b[0msample_weight\u001b[0m\u001b[0;34m,\u001b[0m\u001b[0;34m\u001b[0m\u001b[0;34m\u001b[0m\u001b[0m\n",
      "\u001b[0;32m/data0/sw/anaconda3/lib/python3.8/site-packages/sklearn/tree/_classes.py\u001b[0m in \u001b[0;36mfit\u001b[0;34m(self, X, y, sample_weight, check_input, X_idx_sorted)\u001b[0m\n\u001b[1;32m    387\u001b[0m                                            min_impurity_split)\n\u001b[1;32m    388\u001b[0m \u001b[0;34m\u001b[0m\u001b[0m\n\u001b[0;32m--> 389\u001b[0;31m         \u001b[0mbuilder\u001b[0m\u001b[0;34m.\u001b[0m\u001b[0mbuild\u001b[0m\u001b[0;34m(\u001b[0m\u001b[0mself\u001b[0m\u001b[0;34m.\u001b[0m\u001b[0mtree_\u001b[0m\u001b[0;34m,\u001b[0m \u001b[0mX\u001b[0m\u001b[0;34m,\u001b[0m \u001b[0my\u001b[0m\u001b[0;34m,\u001b[0m \u001b[0msample_weight\u001b[0m\u001b[0;34m)\u001b[0m\u001b[0;34m\u001b[0m\u001b[0;34m\u001b[0m\u001b[0m\n\u001b[0m\u001b[1;32m    390\u001b[0m \u001b[0;34m\u001b[0m\u001b[0m\n\u001b[1;32m    391\u001b[0m         \u001b[0;32mif\u001b[0m \u001b[0mself\u001b[0m\u001b[0;34m.\u001b[0m\u001b[0mn_outputs_\u001b[0m \u001b[0;34m==\u001b[0m \u001b[0;36m1\u001b[0m \u001b[0;32mand\u001b[0m \u001b[0mis_classifier\u001b[0m\u001b[0;34m(\u001b[0m\u001b[0mself\u001b[0m\u001b[0;34m)\u001b[0m\u001b[0;34m:\u001b[0m\u001b[0;34m\u001b[0m\u001b[0;34m\u001b[0m\u001b[0m\n",
      "\u001b[0;31mKeyboardInterrupt\u001b[0m: "
     ]
    }
   ],
   "source": [
    "depths2, f1_lst_depth2, train_score_depth2, test_score_depth2 = depth_params(X_drop_between_copy, Y_drop_between, 2, 26, 230)"
   ]
  },
  {
   "cell_type": "code",
   "execution_count": 56,
   "id": "32b23f99-bc13-4114-8af4-38fcc662f4a9",
   "metadata": {},
   "outputs": [
    {
     "data": {
      "image/png": "[encoded data removed]",
      "text/plain": [
       "<Figure size 432x288 with 1 Axes>"
      ]
     },
     "metadata": {
      "needs_background": "light"
     },
     "output_type": "display_data"
    }
   ],
   "source": [
    "plt.plot(depths2, f1_lst_depth2, label='F1 scores')\n",
    "plt.plot(depths2, test_score_depth2, label='test score')\n",
    "plt.title('Scores for max_depth (21 < i < 24)')\n",
    "plt.legend()\n",
    "plt.show()"
   ]
  },
  {
   "cell_type": "code",
   "execution_count": 57,
   "id": "1f8dc518-eafe-4e07-9989-3e77d20ff05c",
   "metadata": {},
   "outputs": [
    {
     "name": "stdout",
     "output_type": "stream",
     "text": [
      "    max_depth  F1 score\n",
      "10         12  0.994006\n",
      "14         16  0.993993\n",
      "15         17  0.993875\n",
      "8          10  0.993766\n",
      "17         19  0.993761\n",
      "23         25  0.993758\n",
      "22         24  0.993758\n",
      "21         23  0.993758\n",
      "20         22  0.993758\n",
      "19         21  0.993758\n"
     ]
    }
   ],
   "source": [
    "df_depth2 = pd.DataFrame({'max_depth': depths2, 'F1 score': f1_lst_depth2})\n",
    "df_depth2 = df_depth2.sort_values(by='F1 score', ascending=False)\n",
    "print(df_depth2.head(10))"
   ]
  },
  {
   "cell_type": "code",
   "execution_count": 59,
   "id": "02d84dc4-96eb-47fb-9b15-fc3b2bc2427c",
   "metadata": {
    "tags": []
   },
   "outputs": [
    {
     "name": "stdout",
     "output_type": "stream",
     "text": [
      "2 0.9999112153629452 0.9951167137640444 0.9935262553434369\n"
     ]
    },
    {
     "ename": "KeyboardInterrupt",
     "evalue": "",
     "output_type": "error",
     "traceback": [
      "\u001b[0;31m---------------------------------------------------------------------------\u001b[0m",
      "\u001b[0;31mKeyboardInterrupt\u001b[0m                         Traceback (most recent call last)",
      "\u001b[0;32m<ipython-input-59-08ebac26015a>\u001b[0m in \u001b[0;36m<module>\u001b[0;34m\u001b[0m\n\u001b[0;32m----> 1\u001b[0;31m \u001b[0mleaves2\u001b[0m\u001b[0;34m,\u001b[0m \u001b[0mf1_lst_leaf2\u001b[0m\u001b[0;34m,\u001b[0m \u001b[0mtrain_score_leaf2\u001b[0m\u001b[0;34m,\u001b[0m \u001b[0mtest_score_leaf2\u001b[0m \u001b[0;34m=\u001b[0m \u001b[0mleaves_params\u001b[0m\u001b[0;34m(\u001b[0m\u001b[0mX_drop_between_copy\u001b[0m\u001b[0;34m,\u001b[0m \u001b[0mY_drop_between\u001b[0m\u001b[0;34m,\u001b[0m \u001b[0;36m2\u001b[0m\u001b[0;34m,\u001b[0m \u001b[0;36m31\u001b[0m\u001b[0;34m,\u001b[0m \u001b[0mdepth\u001b[0m\u001b[0;34m=\u001b[0m\u001b[0;36m12\u001b[0m\u001b[0;34m,\u001b[0m \u001b[0mn\u001b[0m\u001b[0;34m=\u001b[0m\u001b[0;36m310\u001b[0m\u001b[0;34m,\u001b[0m \u001b[0mstep\u001b[0m\u001b[0;34m=\u001b[0m\u001b[0;36m1\u001b[0m\u001b[0;34m)\u001b[0m\u001b[0;34m\u001b[0m\u001b[0;34m\u001b[0m\u001b[0m\n\u001b[0m",
      "\u001b[0;32m<ipython-input-40-fd509665a74e>\u001b[0m in \u001b[0;36mleaves_params\u001b[0;34m(x, y, left_bound, right_bound, depth, n, step)\u001b[0m\n\u001b[1;32m     14\u001b[0m             \u001b[0mX_train\u001b[0m\u001b[0;34m,\u001b[0m \u001b[0mX_test\u001b[0m \u001b[0;34m=\u001b[0m \u001b[0mx\u001b[0m\u001b[0;34m[\u001b[0m\u001b[0mtrain_index\u001b[0m\u001b[0;34m]\u001b[0m\u001b[0;34m,\u001b[0m \u001b[0mx\u001b[0m\u001b[0;34m[\u001b[0m\u001b[0mtest_index\u001b[0m\u001b[0;34m]\u001b[0m\u001b[0;34m\u001b[0m\u001b[0;34m\u001b[0m\u001b[0m\n\u001b[1;32m     15\u001b[0m             \u001b[0mY_train\u001b[0m\u001b[0;34m,\u001b[0m \u001b[0mY_test\u001b[0m \u001b[0;34m=\u001b[0m \u001b[0my\u001b[0m\u001b[0;34m[\u001b[0m\u001b[0mtrain_index\u001b[0m\u001b[0;34m]\u001b[0m\u001b[0;34m,\u001b[0m \u001b[0my\u001b[0m\u001b[0;34m[\u001b[0m\u001b[0mtest_index\u001b[0m\u001b[0;34m]\u001b[0m\u001b[0;34m\u001b[0m\u001b[0;34m\u001b[0m\u001b[0m\n\u001b[0;32m---> 16\u001b[0;31m             \u001b[0mmodel\u001b[0m\u001b[0;34m.\u001b[0m\u001b[0mfit\u001b[0m\u001b[0;34m(\u001b[0m\u001b[0mX_train\u001b[0m\u001b[0;34m,\u001b[0m\u001b[0mY_train\u001b[0m\u001b[0;34m)\u001b[0m\u001b[0;34m\u001b[0m\u001b[0;34m\u001b[0m\u001b[0m\n\u001b[0m\u001b[1;32m     17\u001b[0m             \u001b[0mY_pred\u001b[0m \u001b[0;34m=\u001b[0m \u001b[0mmodel\u001b[0m\u001b[0;34m.\u001b[0m\u001b[0mpredict\u001b[0m\u001b[0;34m(\u001b[0m\u001b[0mX_test\u001b[0m\u001b[0;34m)\u001b[0m\u001b[0;34m\u001b[0m\u001b[0;34m\u001b[0m\u001b[0m\n\u001b[1;32m     18\u001b[0m             \u001b[0mf1\u001b[0m \u001b[0;34m=\u001b[0m \u001b[0mf1_score\u001b[0m\u001b[0;34m(\u001b[0m\u001b[0mY_test\u001b[0m\u001b[0;34m,\u001b[0m \u001b[0mY_pred\u001b[0m\u001b[0;34m)\u001b[0m\u001b[0;34m\u001b[0m\u001b[0;34m\u001b[0m\u001b[0m\n",
      "\u001b[0;32m/data0/sw/anaconda3/lib/python3.8/site-packages/sklearn/ensemble/_forest.py\u001b[0m in \u001b[0;36mfit\u001b[0;34m(self, X, y, sample_weight)\u001b[0m\n\u001b[1;32m    385\u001b[0m             \u001b[0;31m# parallel_backend contexts set at a higher level,\u001b[0m\u001b[0;34m\u001b[0m\u001b[0;34m\u001b[0m\u001b[0;34m\u001b[0m\u001b[0m\n\u001b[1;32m    386\u001b[0m             \u001b[0;31m# since correctness does not rely on using threads.\u001b[0m\u001b[0;34m\u001b[0m\u001b[0;34m\u001b[0m\u001b[0;34m\u001b[0m\u001b[0m\n\u001b[0;32m--> 387\u001b[0;31m             trees = Parallel(n_jobs=self.n_jobs, verbose=self.verbose,\n\u001b[0m\u001b[1;32m    388\u001b[0m                              \u001b[0;34m**\u001b[0m\u001b[0m_joblib_parallel_args\u001b[0m\u001b[0;34m(\u001b[0m\u001b[0mprefer\u001b[0m\u001b[0;34m=\u001b[0m\u001b[0;34m'threads'\u001b[0m\u001b[0;34m)\u001b[0m\u001b[0;34m)\u001b[0m\u001b[0;34m(\u001b[0m\u001b[0;34m\u001b[0m\u001b[0;34m\u001b[0m\u001b[0m\n\u001b[1;32m    389\u001b[0m                 delayed(_parallel_build_trees)(\n",
      "\u001b[0;32m/data0/sw/anaconda3/lib/python3.8/site-packages/joblib/parallel.py\u001b[0m in \u001b[0;36m__call__\u001b[0;34m(self, iterable)\u001b[0m\n\u001b[1;32m   1042\u001b[0m                 \u001b[0mself\u001b[0m\u001b[0;34m.\u001b[0m\u001b[0m_iterating\u001b[0m \u001b[0;34m=\u001b[0m \u001b[0mself\u001b[0m\u001b[0;34m.\u001b[0m\u001b[0m_original_iterator\u001b[0m \u001b[0;32mis\u001b[0m \u001b[0;32mnot\u001b[0m \u001b[0;32mNone\u001b[0m\u001b[0;34m\u001b[0m\u001b[0;34m\u001b[0m\u001b[0m\n\u001b[1;32m   1043\u001b[0m \u001b[0;34m\u001b[0m\u001b[0m\n\u001b[0;32m-> 1044\u001b[0;31m             \u001b[0;32mwhile\u001b[0m \u001b[0mself\u001b[0m\u001b[0;34m.\u001b[0m\u001b[0mdispatch_one_batch\u001b[0m\u001b[0;34m(\u001b[0m\u001b[0miterator\u001b[0m\u001b[0;34m)\u001b[0m\u001b[0;34m:\u001b[0m\u001b[0;34m\u001b[0m\u001b[0;34m\u001b[0m\u001b[0m\n\u001b[0m\u001b[1;32m   1045\u001b[0m                 \u001b[0;32mpass\u001b[0m\u001b[0;34m\u001b[0m\u001b[0;34m\u001b[0m\u001b[0m\n\u001b[1;32m   1046\u001b[0m \u001b[0;34m\u001b[0m\u001b[0m\n",
      "\u001b[0;32m/data0/sw/anaconda3/lib/python3.8/site-packages/joblib/parallel.py\u001b[0m in \u001b[0;36mdispatch_one_batch\u001b[0;34m(self, iterator)\u001b[0m\n\u001b[1;32m    857\u001b[0m                 \u001b[0;32mreturn\u001b[0m \u001b[0;32mFalse\u001b[0m\u001b[0;34m\u001b[0m\u001b[0;34m\u001b[0m\u001b[0m\n\u001b[1;32m    858\u001b[0m             \u001b[0;32melse\u001b[0m\u001b[0;34m:\u001b[0m\u001b[0;34m\u001b[0m\u001b[0;34m\u001b[0m\u001b[0m\n\u001b[0;32m--> 859\u001b[0;31m                 \u001b[0mself\u001b[0m\u001b[0;34m.\u001b[0m\u001b[0m_dispatch\u001b[0m\u001b[0;34m(\u001b[0m\u001b[0mtasks\u001b[0m\u001b[0;34m)\u001b[0m\u001b[0;34m\u001b[0m\u001b[0;34m\u001b[0m\u001b[0m\n\u001b[0m\u001b[1;32m    860\u001b[0m                 \u001b[0;32mreturn\u001b[0m \u001b[0;32mTrue\u001b[0m\u001b[0;34m\u001b[0m\u001b[0;34m\u001b[0m\u001b[0m\n\u001b[1;32m    861\u001b[0m \u001b[0;34m\u001b[0m\u001b[0m\n",
      "\u001b[0;32m/data0/sw/anaconda3/lib/python3.8/site-packages/joblib/parallel.py\u001b[0m in \u001b[0;36m_dispatch\u001b[0;34m(self, batch)\u001b[0m\n\u001b[1;32m    775\u001b[0m         \u001b[0;32mwith\u001b[0m \u001b[0mself\u001b[0m\u001b[0;34m.\u001b[0m\u001b[0m_lock\u001b[0m\u001b[0;34m:\u001b[0m\u001b[0;34m\u001b[0m\u001b[0;34m\u001b[0m\u001b[0m\n\u001b[1;32m    776\u001b[0m             \u001b[0mjob_idx\u001b[0m \u001b[0;34m=\u001b[0m \u001b[0mlen\u001b[0m\u001b[0;34m(\u001b[0m\u001b[0mself\u001b[0m\u001b[0;34m.\u001b[0m\u001b[0m_jobs\u001b[0m\u001b[0;34m)\u001b[0m\u001b[0;34m\u001b[0m\u001b[0;34m\u001b[0m\u001b[0m\n\u001b[0;32m--> 777\u001b[0;31m             \u001b[0mjob\u001b[0m \u001b[0;34m=\u001b[0m \u001b[0mself\u001b[0m\u001b[0;34m.\u001b[0m\u001b[0m_backend\u001b[0m\u001b[0;34m.\u001b[0m\u001b[0mapply_async\u001b[0m\u001b[0;34m(\u001b[0m\u001b[0mbatch\u001b[0m\u001b[0;34m,\u001b[0m \u001b[0mcallback\u001b[0m\u001b[0;34m=\u001b[0m\u001b[0mcb\u001b[0m\u001b[0;34m)\u001b[0m\u001b[0;34m\u001b[0m\u001b[0;34m\u001b[0m\u001b[0m\n\u001b[0m\u001b[1;32m    778\u001b[0m             \u001b[0;31m# A job can complete so quickly than its callback is\u001b[0m\u001b[0;34m\u001b[0m\u001b[0;34m\u001b[0m\u001b[0;34m\u001b[0m\u001b[0m\n\u001b[1;32m    779\u001b[0m             \u001b[0;31m# called before we get here, causing self._jobs to\u001b[0m\u001b[0;34m\u001b[0m\u001b[0;34m\u001b[0m\u001b[0;34m\u001b[0m\u001b[0m\n",
      "\u001b[0;32m/data0/sw/anaconda3/lib/python3.8/site-packages/joblib/_parallel_backends.py\u001b[0m in \u001b[0;36mapply_async\u001b[0;34m(self, func, callback)\u001b[0m\n\u001b[1;32m    206\u001b[0m     \u001b[0;32mdef\u001b[0m \u001b[0mapply_async\u001b[0m\u001b[0;34m(\u001b[0m\u001b[0mself\u001b[0m\u001b[0;34m,\u001b[0m \u001b[0mfunc\u001b[0m\u001b[0;34m,\u001b[0m \u001b[0mcallback\u001b[0m\u001b[0;34m=\u001b[0m\u001b[0;32mNone\u001b[0m\u001b[0;34m)\u001b[0m\u001b[0;34m:\u001b[0m\u001b[0;34m\u001b[0m\u001b[0;34m\u001b[0m\u001b[0m\n\u001b[1;32m    207\u001b[0m         \u001b[0;34m\"\"\"Schedule a func to be run\"\"\"\u001b[0m\u001b[0;34m\u001b[0m\u001b[0;34m\u001b[0m\u001b[0m\n\u001b[0;32m--> 208\u001b[0;31m         \u001b[0mresult\u001b[0m \u001b[0;34m=\u001b[0m \u001b[0mImmediateResult\u001b[0m\u001b[0;34m(\u001b[0m\u001b[0mfunc\u001b[0m\u001b[0;34m)\u001b[0m\u001b[0;34m\u001b[0m\u001b[0;34m\u001b[0m\u001b[0m\n\u001b[0m\u001b[1;32m    209\u001b[0m         \u001b[0;32mif\u001b[0m \u001b[0mcallback\u001b[0m\u001b[0;34m:\u001b[0m\u001b[0;34m\u001b[0m\u001b[0;34m\u001b[0m\u001b[0m\n\u001b[1;32m    210\u001b[0m             \u001b[0mcallback\u001b[0m\u001b[0;34m(\u001b[0m\u001b[0mresult\u001b[0m\u001b[0;34m)\u001b[0m\u001b[0;34m\u001b[0m\u001b[0;34m\u001b[0m\u001b[0m\n",
      "\u001b[0;32m/data0/sw/anaconda3/lib/python3.8/site-packages/joblib/_parallel_backends.py\u001b[0m in \u001b[0;36m__init__\u001b[0;34m(self, batch)\u001b[0m\n\u001b[1;32m    570\u001b[0m         \u001b[0;31m# Don't delay the application, to avoid keeping the input\u001b[0m\u001b[0;34m\u001b[0m\u001b[0;34m\u001b[0m\u001b[0;34m\u001b[0m\u001b[0m\n\u001b[1;32m    571\u001b[0m         \u001b[0;31m# arguments in memory\u001b[0m\u001b[0;34m\u001b[0m\u001b[0;34m\u001b[0m\u001b[0;34m\u001b[0m\u001b[0m\n\u001b[0;32m--> 572\u001b[0;31m         \u001b[0mself\u001b[0m\u001b[0;34m.\u001b[0m\u001b[0mresults\u001b[0m \u001b[0;34m=\u001b[0m \u001b[0mbatch\u001b[0m\u001b[0;34m(\u001b[0m\u001b[0;34m)\u001b[0m\u001b[0;34m\u001b[0m\u001b[0;34m\u001b[0m\u001b[0m\n\u001b[0m\u001b[1;32m    573\u001b[0m \u001b[0;34m\u001b[0m\u001b[0m\n\u001b[1;32m    574\u001b[0m     \u001b[0;32mdef\u001b[0m \u001b[0mget\u001b[0m\u001b[0;34m(\u001b[0m\u001b[0mself\u001b[0m\u001b[0;34m)\u001b[0m\u001b[0;34m:\u001b[0m\u001b[0;34m\u001b[0m\u001b[0;34m\u001b[0m\u001b[0m\n",
      "\u001b[0;32m/data0/sw/anaconda3/lib/python3.8/site-packages/joblib/parallel.py\u001b[0m in \u001b[0;36m__call__\u001b[0;34m(self)\u001b[0m\n\u001b[1;32m    260\u001b[0m         \u001b[0;31m# change the default number of processes to -1\u001b[0m\u001b[0;34m\u001b[0m\u001b[0;34m\u001b[0m\u001b[0;34m\u001b[0m\u001b[0m\n\u001b[1;32m    261\u001b[0m         \u001b[0;32mwith\u001b[0m \u001b[0mparallel_backend\u001b[0m\u001b[0;34m(\u001b[0m\u001b[0mself\u001b[0m\u001b[0;34m.\u001b[0m\u001b[0m_backend\u001b[0m\u001b[0;34m,\u001b[0m \u001b[0mn_jobs\u001b[0m\u001b[0;34m=\u001b[0m\u001b[0mself\u001b[0m\u001b[0;34m.\u001b[0m\u001b[0m_n_jobs\u001b[0m\u001b[0;34m)\u001b[0m\u001b[0;34m:\u001b[0m\u001b[0;34m\u001b[0m\u001b[0;34m\u001b[0m\u001b[0m\n\u001b[0;32m--> 262\u001b[0;31m             return [func(*args, **kwargs)\n\u001b[0m\u001b[1;32m    263\u001b[0m                     for func, args, kwargs in self.items]\n\u001b[1;32m    264\u001b[0m \u001b[0;34m\u001b[0m\u001b[0m\n",
      "\u001b[0;32m/data0/sw/anaconda3/lib/python3.8/site-packages/joblib/parallel.py\u001b[0m in \u001b[0;36m<listcomp>\u001b[0;34m(.0)\u001b[0m\n\u001b[1;32m    260\u001b[0m         \u001b[0;31m# change the default number of processes to -1\u001b[0m\u001b[0;34m\u001b[0m\u001b[0;34m\u001b[0m\u001b[0;34m\u001b[0m\u001b[0m\n\u001b[1;32m    261\u001b[0m         \u001b[0;32mwith\u001b[0m \u001b[0mparallel_backend\u001b[0m\u001b[0;34m(\u001b[0m\u001b[0mself\u001b[0m\u001b[0;34m.\u001b[0m\u001b[0m_backend\u001b[0m\u001b[0;34m,\u001b[0m \u001b[0mn_jobs\u001b[0m\u001b[0;34m=\u001b[0m\u001b[0mself\u001b[0m\u001b[0;34m.\u001b[0m\u001b[0m_n_jobs\u001b[0m\u001b[0;34m)\u001b[0m\u001b[0;34m:\u001b[0m\u001b[0;34m\u001b[0m\u001b[0;34m\u001b[0m\u001b[0m\n\u001b[0;32m--> 262\u001b[0;31m             return [func(*args, **kwargs)\n\u001b[0m\u001b[1;32m    263\u001b[0m                     for func, args, kwargs in self.items]\n\u001b[1;32m    264\u001b[0m \u001b[0;34m\u001b[0m\u001b[0m\n",
      "\u001b[0;32m/data0/sw/anaconda3/lib/python3.8/site-packages/sklearn/utils/fixes.py\u001b[0m in \u001b[0;36m__call__\u001b[0;34m(self, *args, **kwargs)\u001b[0m\n\u001b[1;32m    220\u001b[0m     \u001b[0;32mdef\u001b[0m \u001b[0m__call__\u001b[0m\u001b[0;34m(\u001b[0m\u001b[0mself\u001b[0m\u001b[0;34m,\u001b[0m \u001b[0;34m*\u001b[0m\u001b[0margs\u001b[0m\u001b[0;34m,\u001b[0m \u001b[0;34m**\u001b[0m\u001b[0mkwargs\u001b[0m\u001b[0;34m)\u001b[0m\u001b[0;34m:\u001b[0m\u001b[0;34m\u001b[0m\u001b[0;34m\u001b[0m\u001b[0m\n\u001b[1;32m    221\u001b[0m         \u001b[0;32mwith\u001b[0m \u001b[0mconfig_context\u001b[0m\u001b[0;34m(\u001b[0m\u001b[0;34m**\u001b[0m\u001b[0mself\u001b[0m\u001b[0;34m.\u001b[0m\u001b[0mconfig\u001b[0m\u001b[0;34m)\u001b[0m\u001b[0;34m:\u001b[0m\u001b[0;34m\u001b[0m\u001b[0;34m\u001b[0m\u001b[0m\n\u001b[0;32m--> 222\u001b[0;31m             \u001b[0;32mreturn\u001b[0m \u001b[0mself\u001b[0m\u001b[0;34m.\u001b[0m\u001b[0mfunction\u001b[0m\u001b[0;34m(\u001b[0m\u001b[0;34m*\u001b[0m\u001b[0margs\u001b[0m\u001b[0;34m,\u001b[0m \u001b[0;34m**\u001b[0m\u001b[0mkwargs\u001b[0m\u001b[0;34m)\u001b[0m\u001b[0;34m\u001b[0m\u001b[0;34m\u001b[0m\u001b[0m\n\u001b[0m",
      "\u001b[0;32m/data0/sw/anaconda3/lib/python3.8/site-packages/sklearn/ensemble/_forest.py\u001b[0m in \u001b[0;36m_parallel_build_trees\u001b[0;34m(tree, forest, X, y, sample_weight, tree_idx, n_trees, verbose, class_weight, n_samples_bootstrap)\u001b[0m\n\u001b[1;32m    167\u001b[0m                                                         indices=indices)\n\u001b[1;32m    168\u001b[0m \u001b[0;34m\u001b[0m\u001b[0m\n\u001b[0;32m--> 169\u001b[0;31m         \u001b[0mtree\u001b[0m\u001b[0;34m.\u001b[0m\u001b[0mfit\u001b[0m\u001b[0;34m(\u001b[0m\u001b[0mX\u001b[0m\u001b[0;34m,\u001b[0m \u001b[0my\u001b[0m\u001b[0;34m,\u001b[0m \u001b[0msample_weight\u001b[0m\u001b[0;34m=\u001b[0m\u001b[0mcurr_sample_weight\u001b[0m\u001b[0;34m,\u001b[0m \u001b[0mcheck_input\u001b[0m\u001b[0;34m=\u001b[0m\u001b[0;32mFalse\u001b[0m\u001b[0;34m)\u001b[0m\u001b[0;34m\u001b[0m\u001b[0;34m\u001b[0m\u001b[0m\n\u001b[0m\u001b[1;32m    170\u001b[0m     \u001b[0;32melse\u001b[0m\u001b[0;34m:\u001b[0m\u001b[0;34m\u001b[0m\u001b[0;34m\u001b[0m\u001b[0m\n\u001b[1;32m    171\u001b[0m         \u001b[0mtree\u001b[0m\u001b[0;34m.\u001b[0m\u001b[0mfit\u001b[0m\u001b[0;34m(\u001b[0m\u001b[0mX\u001b[0m\u001b[0;34m,\u001b[0m \u001b[0my\u001b[0m\u001b[0;34m,\u001b[0m \u001b[0msample_weight\u001b[0m\u001b[0;34m=\u001b[0m\u001b[0msample_weight\u001b[0m\u001b[0;34m,\u001b[0m \u001b[0mcheck_input\u001b[0m\u001b[0;34m=\u001b[0m\u001b[0;32mFalse\u001b[0m\u001b[0;34m)\u001b[0m\u001b[0;34m\u001b[0m\u001b[0;34m\u001b[0m\u001b[0m\n",
      "\u001b[0;32m/data0/sw/anaconda3/lib/python3.8/site-packages/sklearn/tree/_classes.py\u001b[0m in \u001b[0;36mfit\u001b[0;34m(self, X, y, sample_weight, check_input, X_idx_sorted)\u001b[0m\n\u001b[1;32m    896\u001b[0m         \"\"\"\n\u001b[1;32m    897\u001b[0m \u001b[0;34m\u001b[0m\u001b[0m\n\u001b[0;32m--> 898\u001b[0;31m         super().fit(\n\u001b[0m\u001b[1;32m    899\u001b[0m             \u001b[0mX\u001b[0m\u001b[0;34m,\u001b[0m \u001b[0my\u001b[0m\u001b[0;34m,\u001b[0m\u001b[0;34m\u001b[0m\u001b[0;34m\u001b[0m\u001b[0m\n\u001b[1;32m    900\u001b[0m             \u001b[0msample_weight\u001b[0m\u001b[0;34m=\u001b[0m\u001b[0msample_weight\u001b[0m\u001b[0;34m,\u001b[0m\u001b[0;34m\u001b[0m\u001b[0;34m\u001b[0m\u001b[0m\n",
      "\u001b[0;32m/data0/sw/anaconda3/lib/python3.8/site-packages/sklearn/tree/_classes.py\u001b[0m in \u001b[0;36mfit\u001b[0;34m(self, X, y, sample_weight, check_input, X_idx_sorted)\u001b[0m\n\u001b[1;32m    387\u001b[0m                                            min_impurity_split)\n\u001b[1;32m    388\u001b[0m \u001b[0;34m\u001b[0m\u001b[0m\n\u001b[0;32m--> 389\u001b[0;31m         \u001b[0mbuilder\u001b[0m\u001b[0;34m.\u001b[0m\u001b[0mbuild\u001b[0m\u001b[0;34m(\u001b[0m\u001b[0mself\u001b[0m\u001b[0;34m.\u001b[0m\u001b[0mtree_\u001b[0m\u001b[0;34m,\u001b[0m \u001b[0mX\u001b[0m\u001b[0;34m,\u001b[0m \u001b[0my\u001b[0m\u001b[0;34m,\u001b[0m \u001b[0msample_weight\u001b[0m\u001b[0;34m)\u001b[0m\u001b[0;34m\u001b[0m\u001b[0;34m\u001b[0m\u001b[0m\n\u001b[0m\u001b[1;32m    390\u001b[0m \u001b[0;34m\u001b[0m\u001b[0m\n\u001b[1;32m    391\u001b[0m         \u001b[0;32mif\u001b[0m \u001b[0mself\u001b[0m\u001b[0;34m.\u001b[0m\u001b[0mn_outputs_\u001b[0m \u001b[0;34m==\u001b[0m \u001b[0;36m1\u001b[0m \u001b[0;32mand\u001b[0m \u001b[0mis_classifier\u001b[0m\u001b[0;34m(\u001b[0m\u001b[0mself\u001b[0m\u001b[0;34m)\u001b[0m\u001b[0;34m:\u001b[0m\u001b[0;34m\u001b[0m\u001b[0;34m\u001b[0m\u001b[0m\n",
      "\u001b[0;31mKeyboardInterrupt\u001b[0m: "
     ]
    }
   ],
   "source": [
    "leaves2, f1_lst_leaf2, train_score_leaf2, test_score_leaf2 = leaves_params(X_drop_between_copy, Y_drop_between, 2, 31, depth=12, n=310, step=1)"
   ]
  },
  {
   "cell_type": "code",
   "execution_count": 59,
   "id": "9bed13fc-5f3f-44ae-b7e2-bb9b37ebe8ed",
   "metadata": {},
   "outputs": [
    {
     "data": {
      "image/png": "[encoded data removed]",
      "text/plain": [
       "<Figure size 432x288 with 1 Axes>"
      ]
     },
     "metadata": {
      "needs_background": "light"
     },
     "output_type": "display_data"
    }
   ],
   "source": [
    "plt.plot(leaves2, f1_lst_leaf2, label='F1 scores')\n",
    "plt.plot(leaves2, test_score_leaf2, label='test score')\n",
    "plt.title('Scores for min_samples_leaf (21 < i < 24)')\n",
    "plt.legend()\n",
    "plt.show()"
   ]
  },
  {
   "cell_type": "code",
   "execution_count": 60,
   "id": "51b7f271-411c-495c-b4fb-e7216b09766f",
   "metadata": {},
   "outputs": [
    {
     "name": "stdout",
     "output_type": "stream",
     "text": [
      "    min_samples_leaf  F1 score\n",
      "1                  3  0.991315\n",
      "0                  2  0.990981\n",
      "2                  4  0.990949\n",
      "5                  7  0.990615\n",
      "4                  6  0.990487\n",
      "3                  5  0.990264\n",
      "6                  8  0.989788\n",
      "7                  9  0.989678\n",
      "10                12  0.989664\n",
      "9                 11  0.989653\n"
     ]
    }
   ],
   "source": [
    "df_leaf2 = pd.DataFrame({'min_samples_leaf': leaves2, 'F1 score': f1_lst_leaf2})\n",
    "df_leaf2 = df_leaf2.sort_values(by='F1 score', ascending=False)\n",
    "print(df_leaf2.head(10))"
   ]
  },
  {
   "cell_type": "code",
   "execution_count": 61,
   "id": "8f961b28-f869-40aa-a0a8-4423dd44895f",
   "metadata": {
    "tags": []
   },
   "outputs": [
    {
     "name": "stdout",
     "output_type": "stream",
     "text": [
      "2 0.999299576076108 0.9934296399848069 0.9913152844995003\n",
      "3 0.999299576076108 0.9934296399848069 0.9913152844995003\n",
      "4 0.999299576076108 0.9934296399848069 0.9913152844995003\n",
      "5 0.999299576076108 0.9934296399848069 0.9913152844995003\n",
      "6 0.999299576076108 0.9934296399848069 0.9913152844995003\n",
      "7 0.9991811920182062 0.9928970955128518 0.9906315064587565\n",
      "8 0.9991417326120701 0.9930744001979509 0.9908488663624766\n",
      "9 0.9990529479750154 0.9929856690533191 0.9907145837059865\n",
      "10 0.9989542975131777 0.9932520988934612 0.9910896163288365\n",
      "11 0.9988951054842268 0.9934297187868892 0.9913391041057065\n",
      "12 0.9987767233728231 0.9930746366041976 0.9908638682814865\n",
      "13 0.998776724346072 0.9929857478554013 0.9907359477058609\n",
      "14 0.9986188818552835 0.9935185287336032 0.9914436375130684\n",
      "15 0.9986090150572517 0.9932522564976258 0.9910891954891637\n",
      "16 0.9985202323666946 0.9930747942083622 0.9908554868303016\n",
      "17 0.9983722547274401 0.9928081279619733 0.9905127279670143\n",
      "18 0.998421581904857 0.992897095512852 0.9906353712772162\n",
      "19 0.998362391822404 0.9932520988934611 0.9910896028643306\n",
      "20 0.9981552211809497 0.992364078228403 0.9899380533849337\n",
      "21 0.9981650870057324 0.9928078915557265 0.9904965409980975\n",
      "22 0.9981453504899219 0.9927193180152593 0.9903765982468311\n",
      "23 0.9979875089723821 0.9930744790000331 0.9908646858556784\n",
      "24 0.9980171035269845 0.9928080491598908 0.9905022966711574\n",
      "25 0.9979184559848934 0.9927192392131772 0.9903971994433327\n",
      "26 0.9978494010509064 0.9926305080685452 0.9902856073158205\n",
      "27 0.9977902158346985 0.992008838441547 0.9894357740144933\n",
      "28 0.9978099445645174 0.9921863007308105 0.9896646548905095\n",
      "29 0.9977704812653856 0.9926302716622984 0.9902659198879251\n",
      "30 0.9977408837910368 0.9929855902512367 0.9907310134021774\n"
     ]
    }
   ],
   "source": [
    "splits2, f1_lst_split2, train_score_split2, test_score_split2 = split_params(X_drop_between_copy, Y_drop_between, 2, 31, n=110, depth=12, leaf=3, step=1)"
   ]
  },
  {
   "cell_type": "code",
   "execution_count": 62,
   "id": "ec6513f9-2f2b-445a-8ead-b0af854429b7",
   "metadata": {
    "tags": []
   },
   "outputs": [
    {
     "data": {
      "image/png": "[encoded data removed]",
      "text/plain": [
       "<Figure size 432x288 with 1 Axes>"
      ]
     },
     "metadata": {
      "needs_background": "light"
     },
     "output_type": "display_data"
    }
   ],
   "source": [
    "plt.plot(splits2, f1_lst_split2, label='F1 score')\n",
    "plt.plot(splits2, train_score_split2, label='train score')\n",
    "plt.plot(splits2, test_score_split2, label='test score')\n",
    "plt.title('Scores for min_samples_split (21 < i < 24)')\n",
    "plt.legend()\n",
    "plt.show()"
   ]
  },
  {
   "cell_type": "code",
   "execution_count": 63,
   "id": "d33ec2de-381f-43b3-a7f7-a3af95f082d2",
   "metadata": {
    "tags": []
   },
   "outputs": [
    {
     "name": "stdout",
     "output_type": "stream",
     "text": [
      "    min_samples_split  F1 score\n",
      "12                 14  0.991444\n",
      "9                  11  0.991339\n",
      "0                   2  0.991315\n",
      "2                   4  0.991315\n",
      "3                   5  0.991315\n",
      "4                   6  0.991315\n",
      "1                   3  0.991315\n",
      "8                  10  0.991090\n",
      "17                 19  0.991090\n",
      "13                 15  0.991089\n"
     ]
    }
   ],
   "source": [
    "# get the top 10 min_samples_split with the highest F1 scores\n",
    "df_split2 = pd.DataFrame({'min_samples_split': splits2, 'F1 score': f1_lst_split2})\n",
    "df_split2 = df_split2.sort_values(by='F1 score', ascending=False)\n",
    "print(df_split2.head(10))"
   ]
  },
  {
   "cell_type": "code",
   "execution_count": 29,
   "id": "0cf261ef-3ca2-4810-b924-e9b005aa8ede",
   "metadata": {},
   "outputs": [],
   "source": [
    "X_train2, X_test2, y_train2, y_test2 = train_test_split(X_drop_between_copy, Y_drop_between, train_size=0.7, test_size=0.3, shuffle=True, random_state=42)"
   ]
  },
  {
   "cell_type": "code",
   "execution_count": 30,
   "id": "43dc6660-f52c-4ffd-92d9-34cadabda400",
   "metadata": {},
   "outputs": [
    {
     "name": "stdout",
     "output_type": "stream",
     "text": [
      "15\n"
     ]
    }
   ],
   "source": [
    "print(len(X_train2[0]))"
   ]
  },
  {
   "cell_type": "code",
   "execution_count": 31,
   "id": "7a8f4d8a-dbcf-4cf3-beec-65d0177131bc",
   "metadata": {},
   "outputs": [
    {
     "name": "stdout",
     "output_type": "stream",
     "text": [
      "Fitting 5 folds for each of 100 candidates, totalling 500 fits\n",
      "best params:\n",
      " \n",
      "{'n_estimators': 200, 'min_samples_split': 4, 'min_samples_leaf': 3, 'max_features': 'log2', 'max_depth': 17}\n",
      "best score: \n",
      " \n",
      "1.0\n"
     ]
    }
   ],
   "source": [
    "# training using GridSearch\n",
    "'''\n",
    "model_params2 = {'n_estimators': [400, 300, 320, 280, 290, 350, 340, 330, 310, 180, 270, 420, 430, 120, 150],\n",
    "                'max_features': ['auto', 'sqrt', 'log2'],\n",
    "                'min_samples_split': [2, 4, 5, 6, 3, 10, 11, 14, 15],\n",
    "                'min_samples_leaf': [3, 2, 4, 5, 7, 6],\n",
    "                'max_depth': [12, 11, 15, 10, 13, 5, 6, 8, 9, 17]} # try to constrain the max_depth in [5, 15] https://stats.stackexchange.com/questions/111968/random-forest-how-to-handle-overfitting\n",
    "'''\n",
    "# class_weight? like certain color ratios are more important than others?\n",
    "# oob_score = True\n",
    "\n",
    "model_params2 = {'n_estimators': [i for i in range(100, 460, 10)],\n",
    "                'max_features': ['auto', 'sqrt', 'log2'],\n",
    "                'min_samples_split': [2, 4, 5, 6, 3, 10, 11, 14, 15],\n",
    "                'min_samples_leaf': [3, 2, 4, 5, 7, 6],\n",
    "                'max_depth': [12, 11, 15, 10, 13, 5, 6, 8, 9, 17]}\n",
    "\n",
    "clf2 = RandomForestClassifier(random_state=42)\n",
    "\n",
    "rf2 = RandomizedSearchCV(estimator = clf2, param_distributions = model_params2, n_iter = 100, cv = 5, scoring='f1_macro', refit= 'f1_macro', verbose=1, random_state=42, n_jobs = -1)\n",
    "\n",
    "rf2.fit(X_train2, y_train2)\n",
    "\n",
    "print('best params:\\n ')\n",
    "print(rf2.best_params_)\n",
    "\n",
    "print('best score: \\n ')\n",
    "print(rf2.best_score_)"
   ]
  },
  {
   "cell_type": "markdown",
   "id": "2277bc86-a986-4dd1-95e3-2f41f8007244",
   "metadata": {},
   "source": [
    "## Test"
   ]
  },
  {
   "cell_type": "code",
   "execution_count": 32,
   "id": "64827297-9db7-4923-b892-a25cf44c1096",
   "metadata": {
    "tags": []
   },
   "outputs": [
    {
     "data": {
      "text/html": [
       "<div>\n",
       "<style scoped>\n",
       "    .dataframe tbody tr th:only-of-type {\n",
       "        vertical-align: middle;\n",
       "    }\n",
       "\n",
       "    .dataframe tbody tr th {\n",
       "        vertical-align: top;\n",
       "    }\n",
       "\n",
       "    .dataframe thead th {\n",
       "        text-align: right;\n",
       "    }\n",
       "</style>\n",
       "<table border=\"1\" class=\"dataframe\">\n",
       "  <thead>\n",
       "    <tr style=\"text-align: right;\">\n",
       "      <th></th>\n",
       "      <th>r_LSST_mag</th>\n",
       "      <th>i_LSST_mag</th>\n",
       "      <th>z_LSST_mag</th>\n",
       "      <th>Y_WFI_mag</th>\n",
       "      <th>J_WFI_mag</th>\n",
       "      <th>H_WFI_mag</th>\n",
       "      <th>F_WFI_mag</th>\n",
       "    </tr>\n",
       "  </thead>\n",
       "  <tbody>\n",
       "    <tr>\n",
       "      <th>count</th>\n",
       "      <td>25000.000000</td>\n",
       "      <td>25000.000000</td>\n",
       "      <td>25000.000000</td>\n",
       "      <td>25000.000000</td>\n",
       "      <td>25000.000000</td>\n",
       "      <td>25000.000000</td>\n",
       "      <td>25000.000000</td>\n",
       "    </tr>\n",
       "    <tr>\n",
       "      <th>mean</th>\n",
       "      <td>65.648371</td>\n",
       "      <td>56.107987</td>\n",
       "      <td>48.140213</td>\n",
       "      <td>35.209410</td>\n",
       "      <td>33.953109</td>\n",
       "      <td>34.408229</td>\n",
       "      <td>37.056265</td>\n",
       "    </tr>\n",
       "    <tr>\n",
       "      <th>std</th>\n",
       "      <td>34.999899</td>\n",
       "      <td>34.613620</td>\n",
       "      <td>32.917434</td>\n",
       "      <td>23.354992</td>\n",
       "      <td>21.852365</td>\n",
       "      <td>22.439000</td>\n",
       "      <td>25.883666</td>\n",
       "    </tr>\n",
       "    <tr>\n",
       "      <th>min</th>\n",
       "      <td>23.737275</td>\n",
       "      <td>21.400500</td>\n",
       "      <td>18.803401</td>\n",
       "      <td>18.181244</td>\n",
       "      <td>18.048911</td>\n",
       "      <td>17.986569</td>\n",
       "      <td>17.740505</td>\n",
       "    </tr>\n",
       "    <tr>\n",
       "      <th>25%</th>\n",
       "      <td>29.821013</td>\n",
       "      <td>28.555122</td>\n",
       "      <td>27.003421</td>\n",
       "      <td>25.704790</td>\n",
       "      <td>25.564225</td>\n",
       "      <td>25.613446</td>\n",
       "      <td>25.462108</td>\n",
       "    </tr>\n",
       "    <tr>\n",
       "      <th>50%</th>\n",
       "      <td>99.990000</td>\n",
       "      <td>29.953924</td>\n",
       "      <td>28.268598</td>\n",
       "      <td>27.587399</td>\n",
       "      <td>27.489070</td>\n",
       "      <td>27.495992</td>\n",
       "      <td>27.226590</td>\n",
       "    </tr>\n",
       "    <tr>\n",
       "      <th>75%</th>\n",
       "      <td>99.990000</td>\n",
       "      <td>99.990000</td>\n",
       "      <td>99.990000</td>\n",
       "      <td>28.891448</td>\n",
       "      <td>28.744201</td>\n",
       "      <td>28.762242</td>\n",
       "      <td>28.663621</td>\n",
       "    </tr>\n",
       "    <tr>\n",
       "      <th>max</th>\n",
       "      <td>99.990000</td>\n",
       "      <td>99.990000</td>\n",
       "      <td>99.990000</td>\n",
       "      <td>99.990000</td>\n",
       "      <td>99.990000</td>\n",
       "      <td>99.990000</td>\n",
       "      <td>99.990000</td>\n",
       "    </tr>\n",
       "  </tbody>\n",
       "</table>\n",
       "</div>"
      ],
      "text/plain": [
       "         r_LSST_mag    i_LSST_mag    z_LSST_mag     Y_WFI_mag     J_WFI_mag  \\\n",
       "count  25000.000000  25000.000000  25000.000000  25000.000000  25000.000000   \n",
       "mean      65.648371     56.107987     48.140213     35.209410     33.953109   \n",
       "std       34.999899     34.613620     32.917434     23.354992     21.852365   \n",
       "min       23.737275     21.400500     18.803401     18.181244     18.048911   \n",
       "25%       29.821013     28.555122     27.003421     25.704790     25.564225   \n",
       "50%       99.990000     29.953924     28.268598     27.587399     27.489070   \n",
       "75%       99.990000     99.990000     99.990000     28.891448     28.744201   \n",
       "max       99.990000     99.990000     99.990000     99.990000     99.990000   \n",
       "\n",
       "          H_WFI_mag     F_WFI_mag  \n",
       "count  25000.000000  25000.000000  \n",
       "mean      34.408229     37.056265  \n",
       "std       22.439000     25.883666  \n",
       "min       17.986569     17.740505  \n",
       "25%       25.613446     25.462108  \n",
       "50%       27.495992     27.226590  \n",
       "75%       28.762242     28.663621  \n",
       "max       99.990000     99.990000  "
      ]
     },
     "execution_count": 32,
     "metadata": {},
     "output_type": "execute_result"
    }
   ],
   "source": [
    "qso_test = pd.read_csv('quasar_test_catalog.csv', index_col=False)\n",
    "qso_test = qso_test[['r_LSST_mag', 'i_LSST_mag', 'z_LSST_mag', 'Y_WFI_mag', 'J_WFI_mag', 'H_WFI_mag', 'F_WFI_mag']]\n",
    "qso_test.describe()"
   ]
  },
  {
   "cell_type": "code",
   "execution_count": 33,
   "id": "65b7b44a-ee2e-41e6-9c92-4a5a2cd08f21",
   "metadata": {},
   "outputs": [
    {
     "name": "stdout",
     "output_type": "stream",
     "text": [
      "galaxies_train_catalog_patch8788.csv partial data description: \n"
     ]
    },
    {
     "data": {
      "text/html": [
       "<div>\n",
       "<style scoped>\n",
       "    .dataframe tbody tr th:only-of-type {\n",
       "        vertical-align: middle;\n",
       "    }\n",
       "\n",
       "    .dataframe tbody tr th {\n",
       "        vertical-align: top;\n",
       "    }\n",
       "\n",
       "    .dataframe thead th {\n",
       "        text-align: right;\n",
       "    }\n",
       "</style>\n",
       "<table border=\"1\" class=\"dataframe\">\n",
       "  <thead>\n",
       "    <tr style=\"text-align: right;\">\n",
       "      <th></th>\n",
       "      <th>ra_d</th>\n",
       "      <th>dec_d</th>\n",
       "      <th>z</th>\n",
       "      <th>redsq_flag</th>\n",
       "      <th>u_LSST_mag</th>\n",
       "      <th>u_LSST_magerr</th>\n",
       "      <th>g_LSST_mag</th>\n",
       "      <th>g_LSST_magerr</th>\n",
       "      <th>r_LSST_mag</th>\n",
       "      <th>r_LSST_magerr</th>\n",
       "      <th>...</th>\n",
       "      <th>z_LSST_mag</th>\n",
       "      <th>z_LSST_magerr</th>\n",
       "      <th>Y_WFI_mag</th>\n",
       "      <th>Y_WFI_magerr</th>\n",
       "      <th>J_WFI_mag</th>\n",
       "      <th>J_WFI_magerr</th>\n",
       "      <th>H_WFI_mag</th>\n",
       "      <th>H_WFI_magerr</th>\n",
       "      <th>F_WFI_mag</th>\n",
       "      <th>F_WFI_magerr</th>\n",
       "    </tr>\n",
       "  </thead>\n",
       "  <tbody>\n",
       "    <tr>\n",
       "      <th>count</th>\n",
       "      <td>19999.000000</td>\n",
       "      <td>19999.000000</td>\n",
       "      <td>19999.000000</td>\n",
       "      <td>19999.000000</td>\n",
       "      <td>19999.000000</td>\n",
       "      <td>19999.000000</td>\n",
       "      <td>19999.000000</td>\n",
       "      <td>19999.000000</td>\n",
       "      <td>19999.000000</td>\n",
       "      <td>19999.000000</td>\n",
       "      <td>...</td>\n",
       "      <td>19999.000000</td>\n",
       "      <td>19999.000000</td>\n",
       "      <td>19999.000000</td>\n",
       "      <td>19999.000000</td>\n",
       "      <td>19999.000000</td>\n",
       "      <td>19999.000000</td>\n",
       "      <td>19999.000000</td>\n",
       "      <td>19999.000000</td>\n",
       "      <td>19999.000000</td>\n",
       "      <td>19999.000000</td>\n",
       "    </tr>\n",
       "    <tr>\n",
       "      <th>mean</th>\n",
       "      <td>23.756580</td>\n",
       "      <td>-22.336886</td>\n",
       "      <td>1.032695</td>\n",
       "      <td>0.206810</td>\n",
       "      <td>31.865539</td>\n",
       "      <td>1.664620</td>\n",
       "      <td>27.095620</td>\n",
       "      <td>0.426634</td>\n",
       "      <td>25.869858</td>\n",
       "      <td>0.090803</td>\n",
       "      <td>...</td>\n",
       "      <td>24.651582</td>\n",
       "      <td>0.116117</td>\n",
       "      <td>24.353000</td>\n",
       "      <td>0.046214</td>\n",
       "      <td>24.208583</td>\n",
       "      <td>0.041196</td>\n",
       "      <td>24.100513</td>\n",
       "      <td>0.040888</td>\n",
       "      <td>24.039632</td>\n",
       "      <td>0.071686</td>\n",
       "    </tr>\n",
       "    <tr>\n",
       "      <th>std</th>\n",
       "      <td>13.727285</td>\n",
       "      <td>13.457052</td>\n",
       "      <td>0.014251</td>\n",
       "      <td>0.405028</td>\n",
       "      <td>19.671504</td>\n",
       "      <td>67.272044</td>\n",
       "      <td>7.854143</td>\n",
       "      <td>20.170242</td>\n",
       "      <td>2.970428</td>\n",
       "      <td>0.466100</td>\n",
       "      <td>...</td>\n",
       "      <td>2.711824</td>\n",
       "      <td>1.867361</td>\n",
       "      <td>1.421210</td>\n",
       "      <td>0.052759</td>\n",
       "      <td>1.359922</td>\n",
       "      <td>0.039060</td>\n",
       "      <td>1.408869</td>\n",
       "      <td>0.076789</td>\n",
       "      <td>1.551048</td>\n",
       "      <td>0.674135</td>\n",
       "    </tr>\n",
       "    <tr>\n",
       "      <th>min</th>\n",
       "      <td>0.005785</td>\n",
       "      <td>-47.497992</td>\n",
       "      <td>1.005989</td>\n",
       "      <td>0.000000</td>\n",
       "      <td>20.799293</td>\n",
       "      <td>0.000000</td>\n",
       "      <td>20.945724</td>\n",
       "      <td>0.000000</td>\n",
       "      <td>20.964661</td>\n",
       "      <td>0.000000</td>\n",
       "      <td>...</td>\n",
       "      <td>20.199310</td>\n",
       "      <td>0.000000</td>\n",
       "      <td>19.730171</td>\n",
       "      <td>0.000000</td>\n",
       "      <td>19.315425</td>\n",
       "      <td>0.010143</td>\n",
       "      <td>18.971169</td>\n",
       "      <td>0.010027</td>\n",
       "      <td>18.750817</td>\n",
       "      <td>0.000000</td>\n",
       "    </tr>\n",
       "    <tr>\n",
       "      <th>25%</th>\n",
       "      <td>11.733755</td>\n",
       "      <td>-33.606524</td>\n",
       "      <td>1.020423</td>\n",
       "      <td>0.000000</td>\n",
       "      <td>25.247719</td>\n",
       "      <td>0.058302</td>\n",
       "      <td>25.311052</td>\n",
       "      <td>0.035975</td>\n",
       "      <td>24.941155</td>\n",
       "      <td>0.026174</td>\n",
       "      <td>...</td>\n",
       "      <td>23.824312</td>\n",
       "      <td>0.032802</td>\n",
       "      <td>23.596931</td>\n",
       "      <td>0.019817</td>\n",
       "      <td>23.429763</td>\n",
       "      <td>0.018021</td>\n",
       "      <td>23.301662</td>\n",
       "      <td>0.017404</td>\n",
       "      <td>23.219071</td>\n",
       "      <td>0.022461</td>\n",
       "    </tr>\n",
       "    <tr>\n",
       "      <th>50%</th>\n",
       "      <td>23.895896</td>\n",
       "      <td>-21.660677</td>\n",
       "      <td>1.034144</td>\n",
       "      <td>0.000000</td>\n",
       "      <td>26.489127</td>\n",
       "      <td>0.194314</td>\n",
       "      <td>26.391954</td>\n",
       "      <td>0.081985</td>\n",
       "      <td>25.913941</td>\n",
       "      <td>0.049719</td>\n",
       "      <td>...</td>\n",
       "      <td>24.704255</td>\n",
       "      <td>0.061873</td>\n",
       "      <td>24.515632</td>\n",
       "      <td>0.032787</td>\n",
       "      <td>24.393318</td>\n",
       "      <td>0.029589</td>\n",
       "      <td>24.310903</td>\n",
       "      <td>0.028905</td>\n",
       "      <td>24.255154</td>\n",
       "      <td>0.042657</td>\n",
       "    </tr>\n",
       "    <tr>\n",
       "      <th>75%</th>\n",
       "      <td>35.661293</td>\n",
       "      <td>-10.672523</td>\n",
       "      <td>1.045282</td>\n",
       "      <td>0.000000</td>\n",
       "      <td>27.598871</td>\n",
       "      <td>0.474694</td>\n",
       "      <td>27.330566</td>\n",
       "      <td>0.178909</td>\n",
       "      <td>26.697344</td>\n",
       "      <td>0.091973</td>\n",
       "      <td>...</td>\n",
       "      <td>25.455755</td>\n",
       "      <td>0.114201</td>\n",
       "      <td>25.268753</td>\n",
       "      <td>0.056047</td>\n",
       "      <td>25.168173</td>\n",
       "      <td>0.049974</td>\n",
       "      <td>25.108181</td>\n",
       "      <td>0.049543</td>\n",
       "      <td>25.070309</td>\n",
       "      <td>0.079083</td>\n",
       "    </tr>\n",
       "    <tr>\n",
       "      <th>max</th>\n",
       "      <td>47.496031</td>\n",
       "      <td>-0.000724</td>\n",
       "      <td>1.055212</td>\n",
       "      <td>1.000000</td>\n",
       "      <td>99.990000</td>\n",
       "      <td>9080.560484</td>\n",
       "      <td>99.990000</td>\n",
       "      <td>2753.077529</td>\n",
       "      <td>99.990000</td>\n",
       "      <td>43.286299</td>\n",
       "      <td>...</td>\n",
       "      <td>99.990000</td>\n",
       "      <td>251.215935</td>\n",
       "      <td>99.990000</td>\n",
       "      <td>4.157023</td>\n",
       "      <td>29.046655</td>\n",
       "      <td>1.527037</td>\n",
       "      <td>30.885336</td>\n",
       "      <td>9.494070</td>\n",
       "      <td>99.990000</td>\n",
       "      <td>82.927110</td>\n",
       "    </tr>\n",
       "  </tbody>\n",
       "</table>\n",
       "<p>8 rows × 22 columns</p>\n",
       "</div>"
      ],
      "text/plain": [
       "               ra_d         dec_d             z    redsq_flag    u_LSST_mag  \\\n",
       "count  19999.000000  19999.000000  19999.000000  19999.000000  19999.000000   \n",
       "mean      23.756580    -22.336886      1.032695      0.206810     31.865539   \n",
       "std       13.727285     13.457052      0.014251      0.405028     19.671504   \n",
       "min        0.005785    -47.497992      1.005989      0.000000     20.799293   \n",
       "25%       11.733755    -33.606524      1.020423      0.000000     25.247719   \n",
       "50%       23.895896    -21.660677      1.034144      0.000000     26.489127   \n",
       "75%       35.661293    -10.672523      1.045282      0.000000     27.598871   \n",
       "max       47.496031     -0.000724      1.055212      1.000000     99.990000   \n",
       "\n",
       "       u_LSST_magerr    g_LSST_mag  g_LSST_magerr    r_LSST_mag  \\\n",
       "count   19999.000000  19999.000000   19999.000000  19999.000000   \n",
       "mean        1.664620     27.095620       0.426634     25.869858   \n",
       "std        67.272044      7.854143      20.170242      2.970428   \n",
       "min         0.000000     20.945724       0.000000     20.964661   \n",
       "25%         0.058302     25.311052       0.035975     24.941155   \n",
       "50%         0.194314     26.391954       0.081985     25.913941   \n",
       "75%         0.474694     27.330566       0.178909     26.697344   \n",
       "max      9080.560484     99.990000    2753.077529     99.990000   \n",
       "\n",
       "       r_LSST_magerr  ...    z_LSST_mag  z_LSST_magerr     Y_WFI_mag  \\\n",
       "count   19999.000000  ...  19999.000000   19999.000000  19999.000000   \n",
       "mean        0.090803  ...     24.651582       0.116117     24.353000   \n",
       "std         0.466100  ...      2.711824       1.867361      1.421210   \n",
       "min         0.000000  ...     20.199310       0.000000     19.730171   \n",
       "25%         0.026174  ...     23.824312       0.032802     23.596931   \n",
       "50%         0.049719  ...     24.704255       0.061873     24.515632   \n",
       "75%         0.091973  ...     25.455755       0.114201     25.268753   \n",
       "max        43.286299  ...     99.990000     251.215935     99.990000   \n",
       "\n",
       "       Y_WFI_magerr     J_WFI_mag  J_WFI_magerr     H_WFI_mag  H_WFI_magerr  \\\n",
       "count  19999.000000  19999.000000  19999.000000  19999.000000  19999.000000   \n",
       "mean       0.046214     24.208583      0.041196     24.100513      0.040888   \n",
       "std        0.052759      1.359922      0.039060      1.408869      0.076789   \n",
       "min        0.000000     19.315425      0.010143     18.971169      0.010027   \n",
       "25%        0.019817     23.429763      0.018021     23.301662      0.017404   \n",
       "50%        0.032787     24.393318      0.029589     24.310903      0.028905   \n",
       "75%        0.056047     25.168173      0.049974     25.108181      0.049543   \n",
       "max        4.157023     29.046655      1.527037     30.885336      9.494070   \n",
       "\n",
       "          F_WFI_mag  F_WFI_magerr  \n",
       "count  19999.000000  19999.000000  \n",
       "mean      24.039632      0.071686  \n",
       "std        1.551048      0.674135  \n",
       "min       18.750817      0.000000  \n",
       "25%       23.219071      0.022461  \n",
       "50%       24.255154      0.042657  \n",
       "75%       25.070309      0.079083  \n",
       "max       99.990000     82.927110  \n",
       "\n",
       "[8 rows x 22 columns]"
      ]
     },
     "execution_count": 33,
     "metadata": {},
     "output_type": "execute_result"
    }
   ],
   "source": [
    "galaxies_patch8788_partial = read_data_partial('galaxies_train_catalog_patch8788.csv', 'galaxies_patch8788_partial.csv')\n",
    "print('galaxies_train_catalog_patch8788.csv partial data description: ')\n",
    "galaxies_patch8788_partial.describe()"
   ]
  },
  {
   "cell_type": "code",
   "execution_count": 34,
   "id": "01b8c7d2-2904-4729-9a63-32455755d414",
   "metadata": {},
   "outputs": [
    {
     "name": "stdout",
     "output_type": "stream",
     "text": [
      "   r_LSST_mag  i_LSST_mag  z_LSST_mag  Y_WFI_mag  J_WFI_mag  H_WFI_mag  \\\n",
      "0   25.620305   25.035081   24.485231  24.423544  24.362241  24.324362   \n",
      "1   25.230872   24.969824   24.395539  24.525811  24.546824  24.499536   \n",
      "2   22.512334   22.275706   21.872768  21.677942  21.504141  21.340062   \n",
      "3   27.865488   27.073493   26.192273  25.807305  25.627332  25.391634   \n",
      "4   26.384361   25.518046   24.590732  24.114798  23.795983  23.585326   \n",
      "\n",
      "   F_WFI_mag  \n",
      "0  24.268830  \n",
      "1  24.562695  \n",
      "2  21.221775  \n",
      "3  25.310328  \n",
      "4  23.490337  \n"
     ]
    }
   ],
   "source": [
    "galaxies_patch8788_partial = galaxies_patch8788_partial[['r_LSST_mag', 'i_LSST_mag', 'z_LSST_mag', 'Y_WFI_mag', 'J_WFI_mag', 'H_WFI_mag', 'F_WFI_mag']]\n",
    "print(galaxies_patch8788_partial.head())"
   ]
  },
  {
   "cell_type": "code",
   "execution_count": 35,
   "id": "755f982c-6481-4b20-bda1-4f002fefdd17",
   "metadata": {},
   "outputs": [
    {
     "name": "stdout",
     "output_type": "stream",
     "text": [
      "mlt_test_catalog partial data description: \n"
     ]
    },
    {
     "data": {
      "text/html": [
       "<div>\n",
       "<style scoped>\n",
       "    .dataframe tbody tr th:only-of-type {\n",
       "        vertical-align: middle;\n",
       "    }\n",
       "\n",
       "    .dataframe tbody tr th {\n",
       "        vertical-align: top;\n",
       "    }\n",
       "\n",
       "    .dataframe thead th {\n",
       "        text-align: right;\n",
       "    }\n",
       "</style>\n",
       "<table border=\"1\" class=\"dataframe\">\n",
       "  <thead>\n",
       "    <tr style=\"text-align: right;\">\n",
       "      <th></th>\n",
       "      <th>r_LSST_mag</th>\n",
       "      <th>i_LSST_mag</th>\n",
       "      <th>z_LSST_mag</th>\n",
       "      <th>Y_WFI_mag</th>\n",
       "      <th>J_WFI_mag</th>\n",
       "      <th>H_WFI_mag</th>\n",
       "      <th>F_WFI_mag</th>\n",
       "    </tr>\n",
       "  </thead>\n",
       "  <tbody>\n",
       "    <tr>\n",
       "      <th>count</th>\n",
       "      <td>19999.000000</td>\n",
       "      <td>19999.000000</td>\n",
       "      <td>19999.000000</td>\n",
       "      <td>19999.000000</td>\n",
       "      <td>19999.000000</td>\n",
       "      <td>19999.000000</td>\n",
       "      <td>19999.000000</td>\n",
       "    </tr>\n",
       "    <tr>\n",
       "      <th>mean</th>\n",
       "      <td>26.926689</td>\n",
       "      <td>22.174019</td>\n",
       "      <td>21.164776</td>\n",
       "      <td>20.363206</td>\n",
       "      <td>20.066301</td>\n",
       "      <td>19.937946</td>\n",
       "      <td>20.002332</td>\n",
       "    </tr>\n",
       "    <tr>\n",
       "      <th>std</th>\n",
       "      <td>0.200677</td>\n",
       "      <td>0.120493</td>\n",
       "      <td>0.161657</td>\n",
       "      <td>0.162586</td>\n",
       "      <td>0.162807</td>\n",
       "      <td>0.163030</td>\n",
       "      <td>0.163780</td>\n",
       "    </tr>\n",
       "    <tr>\n",
       "      <th>min</th>\n",
       "      <td>26.194485</td>\n",
       "      <td>22.000014</td>\n",
       "      <td>20.394267</td>\n",
       "      <td>19.725846</td>\n",
       "      <td>19.393827</td>\n",
       "      <td>19.264649</td>\n",
       "      <td>19.362965</td>\n",
       "    </tr>\n",
       "    <tr>\n",
       "      <th>25%</th>\n",
       "      <td>26.789641</td>\n",
       "      <td>22.074817</td>\n",
       "      <td>21.055488</td>\n",
       "      <td>20.253683</td>\n",
       "      <td>19.957080</td>\n",
       "      <td>19.826876</td>\n",
       "      <td>19.891932</td>\n",
       "    </tr>\n",
       "    <tr>\n",
       "      <th>50%</th>\n",
       "      <td>26.918773</td>\n",
       "      <td>22.155908</td>\n",
       "      <td>21.169774</td>\n",
       "      <td>20.367118</td>\n",
       "      <td>20.068748</td>\n",
       "      <td>19.941408</td>\n",
       "      <td>20.005348</td>\n",
       "    </tr>\n",
       "    <tr>\n",
       "      <th>75%</th>\n",
       "      <td>27.056720</td>\n",
       "      <td>22.254488</td>\n",
       "      <td>21.277619</td>\n",
       "      <td>20.477338</td>\n",
       "      <td>20.180303</td>\n",
       "      <td>20.051468</td>\n",
       "      <td>20.116187</td>\n",
       "    </tr>\n",
       "    <tr>\n",
       "      <th>max</th>\n",
       "      <td>27.905773</td>\n",
       "      <td>22.687161</td>\n",
       "      <td>21.753210</td>\n",
       "      <td>21.182426</td>\n",
       "      <td>20.963738</td>\n",
       "      <td>20.801828</td>\n",
       "      <td>20.993568</td>\n",
       "    </tr>\n",
       "  </tbody>\n",
       "</table>\n",
       "</div>"
      ],
      "text/plain": [
       "         r_LSST_mag    i_LSST_mag    z_LSST_mag     Y_WFI_mag     J_WFI_mag  \\\n",
       "count  19999.000000  19999.000000  19999.000000  19999.000000  19999.000000   \n",
       "mean      26.926689     22.174019     21.164776     20.363206     20.066301   \n",
       "std        0.200677      0.120493      0.161657      0.162586      0.162807   \n",
       "min       26.194485     22.000014     20.394267     19.725846     19.393827   \n",
       "25%       26.789641     22.074817     21.055488     20.253683     19.957080   \n",
       "50%       26.918773     22.155908     21.169774     20.367118     20.068748   \n",
       "75%       27.056720     22.254488     21.277619     20.477338     20.180303   \n",
       "max       27.905773     22.687161     21.753210     21.182426     20.963738   \n",
       "\n",
       "          H_WFI_mag     F_WFI_mag  \n",
       "count  19999.000000  19999.000000  \n",
       "mean      19.937946     20.002332  \n",
       "std        0.163030      0.163780  \n",
       "min       19.264649     19.362965  \n",
       "25%       19.826876     19.891932  \n",
       "50%       19.941408     20.005348  \n",
       "75%       20.051468     20.116187  \n",
       "max       20.801828     20.993568  "
      ]
     },
     "execution_count": 35,
     "metadata": {},
     "output_type": "execute_result"
    }
   ],
   "source": [
    "mlt_test = read_data_partial('mlt_test_catalog_max24.csv', 'mlt_test_catalog_partial.csv', )\n",
    "mlt_test = mlt_test[['r_LSST_mag', 'i_LSST_mag', 'z_LSST_mag', 'Y_WFI_mag', 'J_WFI_mag', 'H_WFI_mag', 'F_WFI_mag']]\n",
    "print('mlt_test_catalog partial data description: ')\n",
    "mlt_test.describe()"
   ]
  },
  {
   "cell_type": "code",
   "execution_count": 36,
   "id": "c6c4d10e-96b0-4763-97a7-91f692b563fc",
   "metadata": {},
   "outputs": [
    {
     "name": "stdout",
     "output_type": "stream",
     "text": [
      "         r_LSST_mag    i_LSST_mag    z_LSST_mag     Y_WFI_mag     J_WFI_mag  \\\n",
      "count  44999.000000  44999.000000  44999.000000  44999.000000  44999.000000   \n",
      "mean      47.969523     42.385887     37.701112     30.384473     29.622329   \n",
      "std       32.789956     30.056330     27.230051     18.249165     17.016506   \n",
      "min       20.964661     20.738443     18.803401     18.181244     18.048911   \n",
      "25%       26.108564     25.457826     24.589408     24.219371     24.089289   \n",
      "50%       29.098091     27.776565     26.166768     25.565317     25.455884   \n",
      "75%       99.990000     30.578948     28.596754     27.841186     27.743223   \n",
      "max       99.990000     99.990000     99.990000     99.990000     99.990000   \n",
      "\n",
      "          H_WFI_mag     F_WFI_mag         label  \n",
      "count  44999.000000  44999.000000  44999.000000  \n",
      "mean      29.827149     31.271255      0.555568  \n",
      "std       17.516998     20.374225      0.496908  \n",
      "min       17.986569     17.740505      0.000000  \n",
      "25%       24.026803     23.936007      0.000000  \n",
      "50%       25.426154     25.353531      1.000000  \n",
      "75%       27.741095     27.461619      1.000000  \n",
      "max       99.990000     99.990000      1.000000  \n"
     ]
    }
   ],
   "source": [
    "qso_test_copy = qso_test.copy()\n",
    "qso_test_copy['label'] = np.ones(len(qso_test_copy))\n",
    "galaxies_patch8788_pcopy = galaxies_patch8788_partial.copy()\n",
    "galaxies_patch8788_pcopy['label'] = np.zeros(len(galaxies_patch8788_pcopy))\n",
    "test_wgal = pd.concat([qso_test_copy, galaxies_patch8788_pcopy], ignore_index=True)\n",
    "print(test_wgal.describe())"
   ]
  },
  {
   "cell_type": "code",
   "execution_count": 37,
   "id": "31bb75e3-bf96-4efd-9f76-2cd07635e471",
   "metadata": {},
   "outputs": [
    {
     "data": {
      "text/html": [
       "<div>\n",
       "<style scoped>\n",
       "    .dataframe tbody tr th:only-of-type {\n",
       "        vertical-align: middle;\n",
       "    }\n",
       "\n",
       "    .dataframe tbody tr th {\n",
       "        vertical-align: top;\n",
       "    }\n",
       "\n",
       "    .dataframe thead th {\n",
       "        text-align: right;\n",
       "    }\n",
       "</style>\n",
       "<table border=\"1\" class=\"dataframe\">\n",
       "  <thead>\n",
       "    <tr style=\"text-align: right;\">\n",
       "      <th></th>\n",
       "      <th>r_LSST_mag</th>\n",
       "      <th>i_LSST_mag</th>\n",
       "      <th>z_LSST_mag</th>\n",
       "      <th>Y_WFI_mag</th>\n",
       "      <th>J_WFI_mag</th>\n",
       "      <th>H_WFI_mag</th>\n",
       "      <th>F_WFI_mag</th>\n",
       "      <th>label</th>\n",
       "    </tr>\n",
       "  </thead>\n",
       "  <tbody>\n",
       "    <tr>\n",
       "      <th>count</th>\n",
       "      <td>64998.000000</td>\n",
       "      <td>64998.000000</td>\n",
       "      <td>64998.000000</td>\n",
       "      <td>64998.000000</td>\n",
       "      <td>64998.000000</td>\n",
       "      <td>64998.000000</td>\n",
       "      <td>64998.000000</td>\n",
       "      <td>64998.000000</td>\n",
       "    </tr>\n",
       "    <tr>\n",
       "      <th>mean</th>\n",
       "      <td>41.494929</td>\n",
       "      <td>36.166971</td>\n",
       "      <td>32.613106</td>\n",
       "      <td>27.301066</td>\n",
       "      <td>26.682069</td>\n",
       "      <td>26.784376</td>\n",
       "      <td>27.803961</td>\n",
       "      <td>0.384627</td>\n",
       "    </tr>\n",
       "    <tr>\n",
       "      <th>std</th>\n",
       "      <td>28.960228</td>\n",
       "      <td>26.691700</td>\n",
       "      <td>23.907913</td>\n",
       "      <td>15.873303</td>\n",
       "      <td>14.829919</td>\n",
       "      <td>15.273254</td>\n",
       "      <td>17.732538</td>\n",
       "      <td>0.486511</td>\n",
       "    </tr>\n",
       "    <tr>\n",
       "      <th>min</th>\n",
       "      <td>20.964661</td>\n",
       "      <td>20.738443</td>\n",
       "      <td>18.803401</td>\n",
       "      <td>18.181244</td>\n",
       "      <td>18.048911</td>\n",
       "      <td>17.986569</td>\n",
       "      <td>17.740505</td>\n",
       "      <td>0.000000</td>\n",
       "    </tr>\n",
       "    <tr>\n",
       "      <th>25%</th>\n",
       "      <td>26.648108</td>\n",
       "      <td>22.273506</td>\n",
       "      <td>21.303424</td>\n",
       "      <td>20.507608</td>\n",
       "      <td>20.211694</td>\n",
       "      <td>20.081580</td>\n",
       "      <td>20.145379</td>\n",
       "      <td>0.000000</td>\n",
       "    </tr>\n",
       "    <tr>\n",
       "      <th>50%</th>\n",
       "      <td>27.078660</td>\n",
       "      <td>25.629694</td>\n",
       "      <td>24.755012</td>\n",
       "      <td>24.373978</td>\n",
       "      <td>24.249103</td>\n",
       "      <td>24.193706</td>\n",
       "      <td>24.115527</td>\n",
       "      <td>0.000000</td>\n",
       "    </tr>\n",
       "    <tr>\n",
       "      <th>75%</th>\n",
       "      <td>30.470443</td>\n",
       "      <td>29.011888</td>\n",
       "      <td>27.579617</td>\n",
       "      <td>26.698436</td>\n",
       "      <td>26.583893</td>\n",
       "      <td>26.606885</td>\n",
       "      <td>26.459749</td>\n",
       "      <td>1.000000</td>\n",
       "    </tr>\n",
       "    <tr>\n",
       "      <th>max</th>\n",
       "      <td>99.990000</td>\n",
       "      <td>99.990000</td>\n",
       "      <td>99.990000</td>\n",
       "      <td>99.990000</td>\n",
       "      <td>99.990000</td>\n",
       "      <td>99.990000</td>\n",
       "      <td>99.990000</td>\n",
       "      <td>1.000000</td>\n",
       "    </tr>\n",
       "  </tbody>\n",
       "</table>\n",
       "</div>"
      ],
      "text/plain": [
       "         r_LSST_mag    i_LSST_mag    z_LSST_mag     Y_WFI_mag     J_WFI_mag  \\\n",
       "count  64998.000000  64998.000000  64998.000000  64998.000000  64998.000000   \n",
       "mean      41.494929     36.166971     32.613106     27.301066     26.682069   \n",
       "std       28.960228     26.691700     23.907913     15.873303     14.829919   \n",
       "min       20.964661     20.738443     18.803401     18.181244     18.048911   \n",
       "25%       26.648108     22.273506     21.303424     20.507608     20.211694   \n",
       "50%       27.078660     25.629694     24.755012     24.373978     24.249103   \n",
       "75%       30.470443     29.011888     27.579617     26.698436     26.583893   \n",
       "max       99.990000     99.990000     99.990000     99.990000     99.990000   \n",
       "\n",
       "          H_WFI_mag     F_WFI_mag         label  \n",
       "count  64998.000000  64998.000000  64998.000000  \n",
       "mean      26.784376     27.803961      0.384627  \n",
       "std       15.273254     17.732538      0.486511  \n",
       "min       17.986569     17.740505      0.000000  \n",
       "25%       20.081580     20.145379      0.000000  \n",
       "50%       24.193706     24.115527      0.000000  \n",
       "75%       26.606885     26.459749      1.000000  \n",
       "max       99.990000     99.990000      1.000000  "
      ]
     },
     "execution_count": 37,
     "metadata": {},
     "output_type": "execute_result"
    }
   ],
   "source": [
    "mlt_test_copy = mlt_test.copy()\n",
    "mlt_test_copy['label'] = np.zeros(len(mlt_test_copy))\n",
    "test = pd.concat([qso_test_copy, galaxies_patch8788_pcopy, mlt_test_copy], ignore_index=True)\n",
    "test.describe()"
   ]
  },
  {
   "cell_type": "markdown",
   "id": "20de96ab-0ab0-4022-8cc8-addbbf697618",
   "metadata": {},
   "source": [
    "{'n_estimators': 400, 'min_samples_split': 5, 'min_samples_leaf': 2, 'max_features': 'sqrt', 'max_depth': 15}"
   ]
  },
  {
   "cell_type": "markdown",
   "id": "b1374f30-a7d6-441a-90b8-394273885dc4",
   "metadata": {},
   "source": [
    "{'n_estimators': 430, 'min_samples_split': 6, 'min_samples_leaf': 3, 'max_features': 'log2', 'max_depth': 11}\n",
    "\n",
    "or\n",
    "\n",
    "{'n_estimators': 430, 'min_samples_split': 4, 'min_samples_leaf': 2, 'max_features': 'sqrt', 'max_depth': 13}"
   ]
  },
  {
   "cell_type": "markdown",
   "id": "6d61379b-4ff0-4857-82b9-95732be5b5c0",
   "metadata": {},
   "source": [
    "{'n_estimators': 230, 'min_samples_split': 3, 'min_samples_leaf': 2, 'max_features': 'log2', 'max_depth': 13}"
   ]
  },
  {
   "cell_type": "markdown",
   "id": "706839dc-7f9d-4d9b-88be-27a755930b4c",
   "metadata": {},
   "source": [
    "22 < i < 24"
   ]
  },
  {
   "cell_type": "code",
   "execution_count": 38,
   "id": "d163085c-6f90-43b1-a02b-b69cf7bc7319",
   "metadata": {},
   "outputs": [
    {
     "data": {
      "text/plain": [
       "RandomForestClassifier(max_depth=17, max_features='log2', min_samples_leaf=3,\n",
       "                       min_samples_split=4, n_estimators=200)"
      ]
     },
     "execution_count": 38,
     "metadata": {},
     "output_type": "execute_result"
    }
   ],
   "source": [
    "clf2 = RandomForestClassifier(n_estimators=200, min_samples_split=4, min_samples_leaf=3, max_features='log2', max_depth=17)\n",
    "clf2.fit(X_drop_between_copy, Y_drop_between)"
   ]
  },
  {
   "cell_type": "markdown",
   "id": "c5e617ec-eeb9-4640-8586-66d42ca87234",
   "metadata": {},
   "source": [
    "with galaxies added"
   ]
  },
  {
   "cell_type": "code",
   "execution_count": 58,
   "id": "2793033d-5b6a-4681-9be3-d1b2dca148ae",
   "metadata": {},
   "outputs": [
    {
     "name": "stdout",
     "output_type": "stream",
     "text": [
      "3417\n"
     ]
    }
   ],
   "source": [
    "test_wgal_copy = test_wgal.copy()\n",
    "test_wgal_copy = test_wgal_copy.drop(columns=['label'])\n",
    "test_wgal_copy = test_wgal_copy[test_wgal_copy['i_LSST_mag'] > 22.0]\n",
    "test_wgal_copy = test_wgal_copy[test_wgal_copy['i_LSST_mag'] < 24.0]\n",
    "print(len(test_wgal_copy))"
   ]
  },
  {
   "cell_type": "code",
   "execution_count": 59,
   "id": "6f315973-fce5-4eb6-84cf-df54db42d401",
   "metadata": {},
   "outputs": [
    {
     "name": "stdout",
     "output_type": "stream",
     "text": [
      "      r_LSST_mag  i_LSST_mag  z_LSST_mag  Y_WFI_mag  J_WFI_mag  H_WFI_mag  \\\n",
      "595    26.283738   23.617095   20.988860  20.683242  20.747272  20.776251   \n",
      "640    25.920754   23.591678   20.736045  20.487876  20.522353  20.487307   \n",
      "1287   25.816063   22.662278   19.998339  19.667473  19.669087  19.659937   \n",
      "1557   27.731326   23.963253   21.542414  20.239541  20.205948  20.241758   \n",
      "1739   24.438664   22.427320   19.950788  19.426217  19.408946  19.447905   \n",
      "\n",
      "      F_WFI_mag  \n",
      "595   20.615905  \n",
      "640   20.272406  \n",
      "1287  19.460619  \n",
      "1557  20.131784  \n",
      "1739  19.296234  \n"
     ]
    }
   ],
   "source": [
    "print(test_wgal_copy.head())"
   ]
  },
  {
   "cell_type": "code",
   "execution_count": 60,
   "id": "60ae8bf3-2860-4291-9c7f-ef13ff36e326",
   "metadata": {},
   "outputs": [],
   "source": [
    "col_names = ['r_LSST_mag', 'i_LSST_mag', 'z_LSST_mag', 'Y_WFI_mag', 'J_WFI_mag', 'H_WFI_mag', 'F_WFI_mag']\n",
    "for i in range(len(col_names)):\n",
    "    for j in range(len(col_names)):\n",
    "        if i < j:\n",
    "            col = col_names[i] + '-' + col_names[j]\n",
    "            test_wgal_copy[col] = test_wgal_copy[col_names[i]] - test_wgal_copy[col_names[j]]"
   ]
  },
  {
   "cell_type": "code",
   "execution_count": 61,
   "id": "78d2b0ee-4c55-4e77-a963-e36656646ebe",
   "metadata": {},
   "outputs": [],
   "source": [
    "test_wgal_copy = test_wgal_copy[['r_LSST_mag', 'i_LSST_mag', 'z_LSST_mag', 'Y_WFI_mag', 'J_WFI_mag', 'H_WFI_mag', 'F_WFI_mag', 'Y_WFI_mag-H_WFI_mag', 'Y_WFI_mag-F_WFI_mag', 'z_LSST_mag-H_WFI_mag', 'z_LSST_mag-F_WFI_mag', 'i_LSST_mag-z_LSST_mag', 'r_LSST_mag-z_LSST_mag', 'i_LSST_mag-Y_WFI_mag', 'r_LSST_mag-Y_WFI_mag']]"
   ]
  },
  {
   "cell_type": "code",
   "execution_count": 62,
   "id": "c272c401-9364-4a18-9151-f20a86d88a1a",
   "metadata": {},
   "outputs": [
    {
     "data": {
      "text/plain": [
       "3417"
      ]
     },
     "execution_count": 62,
     "metadata": {},
     "output_type": "execute_result"
    }
   ],
   "source": [
    "len(test_wgal_copy)"
   ]
  },
  {
   "cell_type": "code",
   "execution_count": 63,
   "id": "5f122b79-dcf1-4591-bd95-2353501aff6d",
   "metadata": {},
   "outputs": [
    {
     "name": "stdout",
     "output_type": "stream",
     "text": [
      "[0 0 0 ... 0 0 0]\n",
      "12\n"
     ]
    }
   ],
   "source": [
    "labels = clf2.predict(test_wgal_copy.to_numpy())\n",
    "print(labels)\n",
    "test2 = test_wgal.drop(columns=['label'])\n",
    "test2 = test2[test2['i_LSST_mag'] > 22.0]\n",
    "test2 = test2[test2['i_LSST_mag'] < 24.0]\n",
    "test2['label'] = labels\n",
    "test2 = test2[test2['label'] == 1]\n",
    "print(len(test2))"
   ]
  },
  {
   "cell_type": "code",
   "execution_count": 64,
   "id": "e8ddf419-9f80-4bf3-b9e8-f3acdd8dd4c5",
   "metadata": {},
   "outputs": [
    {
     "name": "stdout",
     "output_type": "stream",
     "text": [
      "53\n",
      "True\n"
     ]
    }
   ],
   "source": [
    "qso_test_between = test_wgal[test_wgal['i_LSST_mag'] > 22.0]\n",
    "qso_test_between = qso_test_between[qso_test_between['i_LSST_mag'] < 24.0]\n",
    "qso_test_between = qso_test_between[qso_test_between['label'] == 1]\n",
    "print(len(qso_test_between))\n",
    "print(set(test2).issubset(qso_test_between))"
   ]
  },
  {
   "cell_type": "markdown",
   "id": "64fd35ee-d8db-4537-afb5-beefb62a77de",
   "metadata": {},
   "source": [
    "with galaxies and brown dwarfs added"
   ]
  },
  {
   "cell_type": "code",
   "execution_count": 65,
   "id": "7e82e116-0c47-4429-bf36-2960c5042eb9",
   "metadata": {},
   "outputs": [
    {
     "name": "stdout",
     "output_type": "stream",
     "text": [
      "23416\n"
     ]
    }
   ],
   "source": [
    "test_copy = test.copy()\n",
    "test_copy = test_copy.drop(columns=['label'])\n",
    "test_copy = test_copy[test_copy['i_LSST_mag'] > 22.0]\n",
    "test_copy = test_copy[test_copy['i_LSST_mag'] < 24.0]\n",
    "print(len(test_copy))"
   ]
  },
  {
   "cell_type": "code",
   "execution_count": 66,
   "id": "7daa898e-3fe7-4e80-a655-601b70f41d1b",
   "metadata": {
    "tags": []
   },
   "outputs": [],
   "source": [
    "col_names = ['r_LSST_mag', 'i_LSST_mag', 'z_LSST_mag', 'Y_WFI_mag', 'J_WFI_mag', 'H_WFI_mag', 'F_WFI_mag']\n",
    "for i in range(len(col_names)):\n",
    "    for j in range(len(col_names)):\n",
    "        if i < j:\n",
    "            col = col_names[i] + '-' + col_names[j]\n",
    "            test_copy[col] = test_copy[col_names[i]] - test_copy[col_names[j]]"
   ]
  },
  {
   "cell_type": "code",
   "execution_count": 67,
   "id": "d76332c5-0833-4802-8ca8-bacd173477bb",
   "metadata": {},
   "outputs": [],
   "source": [
    "test_copy = test_copy[['r_LSST_mag', 'i_LSST_mag', 'z_LSST_mag', 'Y_WFI_mag', 'J_WFI_mag', 'H_WFI_mag', 'F_WFI_mag', 'Y_WFI_mag-H_WFI_mag', 'Y_WFI_mag-F_WFI_mag', 'z_LSST_mag-H_WFI_mag', 'z_LSST_mag-F_WFI_mag', 'i_LSST_mag-z_LSST_mag', 'r_LSST_mag-z_LSST_mag', 'i_LSST_mag-Y_WFI_mag', 'r_LSST_mag-Y_WFI_mag']]"
   ]
  },
  {
   "cell_type": "code",
   "execution_count": 69,
   "id": "5c21c0ac-a8db-4a52-9198-af7fe689b9a0",
   "metadata": {},
   "outputs": [
    {
     "name": "stdout",
     "output_type": "stream",
     "text": [
      "12\n"
     ]
    }
   ],
   "source": [
    "labels3 = clf2.predict(test_copy.to_numpy()) \n",
    "test3 = test.drop(columns=['label'])\n",
    "test3 = test3[test3['i_LSST_mag'] > 22.0]\n",
    "test3 = test3[test3['i_LSST_mag'] < 24.0]\n",
    "test3['label'] = labels3\n",
    "test3 = test3[test3['label'] == 1]\n",
    "print(len(test3))"
   ]
  },
  {
   "cell_type": "code",
   "execution_count": 70,
   "id": "9d227cda-0e40-4e92-ba50-e37bfe4aba44",
   "metadata": {},
   "outputs": [
    {
     "name": "stdout",
     "output_type": "stream",
     "text": [
      "True\n"
     ]
    }
   ],
   "source": [
    "print(set(test3).issubset(qso_test_between))"
   ]
  },
  {
   "cell_type": "code",
   "execution_count": null,
   "id": "5dc53946-42a0-4706-8a25-1c5a90aefb92",
   "metadata": {},
   "outputs": [],
   "source": []
  },
  {
   "cell_type": "markdown",
   "id": "5d747ad6-c6d8-4bbb-a589-0ec47eb859af",
   "metadata": {},
   "source": [
    "### with noise without replacements"
   ]
  },
  {
   "cell_type": "markdown",
   "id": "a7ef5037-c84d-48c2-9740-1ce5e955f360",
   "metadata": {},
   "source": [
    "22 < i < 24"
   ]
  },
  {
   "cell_type": "code",
   "execution_count": 23,
   "id": "10b53057-0806-4c89-9a91-eefc7e052a24",
   "metadata": {},
   "outputs": [],
   "source": [
    "for col in X_drop_between_copy.columns:\n",
    "    noise = np.random.normal(X_drop_between_copy[col].mean(), X_drop_between_copy[col].std(), len(X_drop_between_copy[col]))\n",
    "    X_drop_between_copy[col] = X_drop_between_copy[col] + noise"
   ]
  },
  {
   "cell_type": "code",
   "execution_count": null,
   "id": "aa6d5480-61a0-421b-9434-1501d54e7fc4",
   "metadata": {},
   "outputs": [],
   "source": []
  },
  {
   "cell_type": "code",
   "execution_count": 24,
   "id": "c1ca456d-1a6b-4e06-afb4-10c967afa5c9",
   "metadata": {
    "tags": []
   },
   "outputs": [],
   "source": [
    "X_drop_between_copy = X_drop_between_copy.to_numpy()\n",
    "Y_drop_between = np.array(Y_drop_between, dtype=int)"
   ]
  },
  {
   "cell_type": "code",
   "execution_count": 25,
   "id": "9e54534b-811f-4bf7-90bf-670e88354c89",
   "metadata": {},
   "outputs": [
    {
     "name": "stdout",
     "output_type": "stream",
     "text": [
      "15\n"
     ]
    }
   ],
   "source": [
    "print(len(X_drop_between_copy[0]))"
   ]
  },
  {
   "cell_type": "code",
   "execution_count": 26,
   "id": "419d2f77-b016-4463-bd94-b2bbeb52ba1d",
   "metadata": {
    "collapsed": true,
    "jupyter": {
     "outputs_hidden": true
    },
    "tags": []
   },
   "outputs": [
    {
     "name": "stdout",
     "output_type": "stream",
     "text": [
      "100 1.0 0.9984643338608523 0.9967504261572874\n",
      "110 1.0 0.9984643338608523 0.9967470886520724\n",
      "120 1.0 0.9985823976152798 0.9969846103970209\n",
      "130 1.0 0.9985823976152798 0.9969846103970209\n",
      "140 1.0 0.9985823976152798 0.9969834926476329\n",
      "150 1.0 0.998464194305587 0.9967172923223343\n",
      "160 1.0 0.998464194305587 0.9967172923223343\n",
      "170 1.0 0.998464194305587 0.9967172923223343\n",
      "180 1.0 0.998464194305587 0.9967172923223343\n",
      "190 1.0 0.998464194305587 0.9967172923223343\n",
      "200 1.0 0.9982280667967324 0.9962238289812966\n",
      "210 1.0 0.9983461305511596 0.9964808883267737\n",
      "220 1.0 0.9982280667967324 0.9962238289812966\n",
      "230 1.0 0.9982280667967324 0.9962238289812966\n",
      "240 1.0 0.9982280667967324 0.9962238289812966\n",
      "250 1.0 0.9982280667967324 0.9962238289812966\n",
      "260 1.0 0.9985823976152798 0.9969846103970209\n",
      "270 1.0 0.998464194305587 0.9967150725665075\n",
      "280 1.0 0.9982280667967324 0.9962238289812966\n",
      "290 1.0 0.9983462701064247 0.99649336681181\n",
      "300 1.0 0.9983462701064247 0.99649336681181\n",
      "310 1.0 0.9983462701064247 0.99649336681181\n",
      "320 1.0 0.9983462701064247 0.99649336681181\n",
      "330 1.0 0.9984643338608523 0.9967297708073705\n",
      "340 1.0 0.9985823976152798 0.9969661695922365\n",
      "350 1.0 0.9984643338608523 0.996729765596676\n",
      "360 1.0 0.9984643338608523 0.996729765596676\n",
      "370 1.0 0.9984643338608523 0.996729765596676\n",
      "380 1.0 0.9985823976152798 0.9969661695922365\n",
      "390 1.0 0.9984643338608523 0.996729765596676\n",
      "400 1.0 0.9984643338608523 0.996729765596676\n",
      "410 1.0 0.9985823976152798 0.9969661695922365\n",
      "420 1.0 0.9985823976152798 0.9969661695922365\n",
      "430 1.0 0.9985823976152798 0.9969661695922365\n",
      "440 1.0 0.9985823976152798 0.9969661695922365\n",
      "450 1.0 0.9985823976152798 0.9969661695922365\n"
     ]
    }
   ],
   "source": [
    "estimators2, f1_lst_e2, train_score_e2, test_score_e2 = estimator_params(X_drop_between_copy, Y_drop_between, 100, 460, step=10)"
   ]
  },
  {
   "cell_type": "code",
   "execution_count": 27,
   "id": "d3f54ed5-bb82-4d73-96c9-22abdefff869",
   "metadata": {},
   "outputs": [
    {
     "data": {
      "image/png": "[encoded data removed]",
      "text/plain": [
       "<Figure size 432x288 with 1 Axes>"
      ]
     },
     "metadata": {
      "needs_background": "light"
     },
     "output_type": "display_data"
    }
   ],
   "source": [
    "plt.plot(estimators2, f1_lst_e2, label='F1 scores')\n",
    "plt.plot(estimators2, test_score_e2, label='test score')\n",
    "plt.title('Scores for n_estimators (22 < i < 24)')\n",
    "plt.legend()\n",
    "plt.show()"
   ]
  },
  {
   "cell_type": "code",
   "execution_count": 35,
   "id": "40f2c08a-b008-4a6d-8985-8469e680cf1e",
   "metadata": {},
   "outputs": [
    {
     "name": "stdout",
     "output_type": "stream",
     "text": [
      "    n_estimator  F1 score\n",
      "16          260  0.996985\n",
      "2           120  0.996985\n",
      "3           130  0.996985\n",
      "4           140  0.996983\n",
      "35          450  0.996966\n",
      "34          440  0.996966\n",
      "33          430  0.996966\n",
      "32          420  0.996966\n",
      "31          410  0.996966\n",
      "28          380  0.996966\n",
      "24          340  0.996966\n",
      "0           100  0.996750\n",
      "1           110  0.996747\n",
      "23          330  0.996730\n",
      "30          400  0.996730\n"
     ]
    }
   ],
   "source": [
    "df_e2 = pd.DataFrame({'n_estimator': estimators2, 'F1 score': f1_lst_e2})\n",
    "df_e2 = df_e2.sort_values(by='F1 score', ascending=False)\n",
    "print(df_e2.head(15))"
   ]
  },
  {
   "cell_type": "code",
   "execution_count": 31,
   "id": "672183f6-20a7-4898-9e61-4b9971851ad9",
   "metadata": {
    "collapsed": true,
    "jupyter": {
     "outputs_hidden": true
    },
    "tags": []
   },
   "outputs": [
    {
     "name": "stdout",
     "output_type": "stream",
     "text": [
      "2 0.9853120907780155 0.9836989681283687 0.9637832918919983\n",
      "3 0.9946052346438348 0.9925576572578505 0.983937988144396\n",
      "4 0.9973879381081916 0.9962198665293445 0.9919669504951587\n",
      "5 0.9985036458886636 0.9971650743410898 0.9940009843514543\n",
      "6 0.9987399094255629 0.9976376084693299 0.9949473200532765\n",
      "7 0.9992386952779443 0.9979919392878773 0.9956948312225412\n",
      "8 0.9993568330765574 0.9982280667967321 0.9961654194578354\n",
      "9 0.9995537196444575 0.998464194305587 0.9966654475844174\n",
      "10 0.9996587237465194 0.9983461305511596 0.9964312633446838\n",
      "11 0.9996981024384224 0.9982280667967321 0.9961793741759181\n",
      "12 0.9997768598222286 0.9985822580600143 0.9969225069298948\n",
      "13 0.9998949958979383 0.9985823976152798 0.9969760941331673\n",
      "14 1.0 0.9983461305511596 0.9964808883267737\n",
      "15 1.0 0.9983461305511596 0.9964580132210301\n",
      "16 1.0 0.9983461305511596 0.9964808883267737\n",
      "17 1.0 0.9983461305511596 0.9964808883267737\n",
      "18 1.0 0.9985823976152798 0.9969846103970209\n",
      "19 1.0 0.9985823976152798 0.9969846103970209\n",
      "20 1.0 0.9985823976152798 0.9969846103970209\n",
      "21 1.0 0.9985823976152798 0.9969846103970209\n",
      "22 1.0 0.9985823976152798 0.9969846103970209\n",
      "23 1.0 0.9985823976152798 0.9969846103970209\n",
      "24 1.0 0.9985823976152798 0.9969846103970209\n",
      "25 1.0 0.9985823976152798 0.9969846103970209\n"
     ]
    }
   ],
   "source": [
    "depths2, f1_lst_depth2, train_score_depth2, test_score_depth2 = depth_params(X_drop_between_copy, Y_drop_between, 2, 26, 260)"
   ]
  },
  {
   "cell_type": "code",
   "execution_count": 32,
   "id": "216f6431-8c18-442c-80fa-01eb5cf3422b",
   "metadata": {},
   "outputs": [
    {
     "data": {
      "image/png": "[encoded data removed]",
      "text/plain": [
       "<Figure size 432x288 with 1 Axes>"
      ]
     },
     "metadata": {
      "needs_background": "light"
     },
     "output_type": "display_data"
    }
   ],
   "source": [
    "plt.plot(depths2, f1_lst_depth2, label='F1 scores')\n",
    "plt.plot(depths2, test_score_depth2, label='test score')\n",
    "plt.title('Scores for max_depth (22 < i < 24)')\n",
    "plt.legend()\n",
    "plt.show()"
   ]
  },
  {
   "cell_type": "code",
   "execution_count": 34,
   "id": "4947158d-e045-4921-8b17-17d61b825bf1",
   "metadata": {},
   "outputs": [
    {
     "name": "stdout",
     "output_type": "stream",
     "text": [
      "    max_depth  F1 score\n",
      "23         25  0.996985\n",
      "22         24  0.996985\n",
      "21         23  0.996985\n",
      "20         22  0.996985\n",
      "19         21  0.996985\n",
      "18         20  0.996985\n",
      "17         19  0.996985\n",
      "16         18  0.996985\n",
      "11         13  0.996976\n",
      "10         12  0.996923\n",
      "7           9  0.996665\n",
      "14         16  0.996481\n",
      "15         17  0.996481\n",
      "12         14  0.996481\n",
      "13         15  0.996458\n"
     ]
    }
   ],
   "source": [
    "df_depth2 = pd.DataFrame({'max_depth': depths2, 'F1 score': f1_lst_depth2})\n",
    "df_depth2 = df_depth2.sort_values(by='F1 score', ascending=False)\n",
    "print(df_depth2.head(15))"
   ]
  },
  {
   "cell_type": "code",
   "execution_count": 36,
   "id": "d0146339-9767-4ccf-9edf-727921472727",
   "metadata": {
    "tags": []
   },
   "outputs": [
    {
     "name": "stdout",
     "output_type": "stream",
     "text": [
      "2 0.9997374828532294 0.9984643338608523 0.9967297708073705\n",
      "3 0.9995930948905526 0.998464194305587 0.9966654475844174\n",
      "4 0.9994355835687481 0.9983461305511596 0.9964312633446838\n",
      "5 0.9994224567638124 0.9981100030423047 0.9959467203913069\n",
      "6 0.9993699547127814 0.9981100030423047 0.995929015462275\n",
      "7 0.9993699547127814 0.9982280667967321 0.9961831243868675\n",
      "8 0.9992780774156552 0.9979919392878773 0.9957231612359159\n",
      "9 0.9992255701959124 0.9976374689140647 0.9949330168580452\n",
      "10 0.9991993183089448 0.9979917997326122 0.9956709073352498\n",
      "11 0.9991205609251388 0.9978737359781847 0.995436723095516\n",
      "12 0.9990680554282999 0.9979917997326122 0.9956848620533325\n",
      "13 0.9989892980444937 0.9976374689140647 0.9949580834742662\n",
      "14 0.9990024265723333 0.9978737359781847 0.9954329728845668\n",
      "15 0.9989236709114309 0.9976376084693299 0.9949316725904656\n",
      "16 0.9988580403325603 0.9974012018499445 0.9944771456653505\n",
      "17 0.9988317849997849 0.9976374689140647 0.9949580834742662\n",
      "18 0.9987530293388825 0.9974012018499445 0.9944961306333762\n",
      "19 0.998739905979755 0.9976374689140647 0.9949580834742662\n",
      "20 0.998700525564948 0.9976374689140645 0.9950027825524776\n",
      "21 0.9985823929350465 0.9974012018499445 0.9944961306333762\n",
      "22 0.9985561427709829 0.9974012018499445 0.9944961306333762\n",
      "23 0.9985298908840156 0.9974012018499445 0.9944961306333762\n",
      "24 0.9984642654738567 0.9974012018499445 0.9944961306333762\n",
      "25 0.9983986366178899 0.9975192656043721 0.9947303070016351\n",
      "26 0.9982936307929242 0.9974012018499445 0.9944961306333762\n",
      "27 0.9983592562030829 0.9974012018499445 0.9944961306333762\n",
      "28 0.9982673737372452 0.9975192656043721 0.9947303070016351\n",
      "29 0.9982542452094055 0.9975192656043721 0.9947303070016351\n",
      "30 0.9982017414354705 0.9976373293587993 0.9949644912413689\n"
     ]
    }
   ],
   "source": [
    "leaves2, f1_lst_leaf2, train_score_leaf2, test_score_leaf2 = leaves_params(X_drop_between_copy, Y_drop_between, 2, 31, depth=13, n=260, step=1)"
   ]
  },
  {
   "cell_type": "code",
   "execution_count": 37,
   "id": "3766d23b-e601-4482-b675-8b101c80921f",
   "metadata": {},
   "outputs": [
    {
     "data": {
      "image/png": "[encoded data removed]",
      "text/plain": [
       "<Figure size 432x288 with 1 Axes>"
      ]
     },
     "metadata": {
      "needs_background": "light"
     },
     "output_type": "display_data"
    }
   ],
   "source": [
    "plt.plot(leaves2, f1_lst_leaf2, label='F1 scores')\n",
    "plt.plot(leaves2, test_score_leaf2, label='test score')\n",
    "plt.title('Scores for min_samples_leaf (21 < i < 24)')\n",
    "plt.legend()\n",
    "plt.show()"
   ]
  },
  {
   "cell_type": "code",
   "execution_count": 38,
   "id": "048e8cae-8507-466d-ad7d-c012e6181cc2",
   "metadata": {},
   "outputs": [
    {
     "name": "stdout",
     "output_type": "stream",
     "text": [
      "    min_samples_leaf  F1 score\n",
      "0                  2  0.996730\n",
      "1                  3  0.996665\n",
      "2                  4  0.996431\n",
      "5                  7  0.996183\n",
      "3                  5  0.995947\n",
      "4                  6  0.995929\n",
      "6                  8  0.995723\n",
      "10                12  0.995685\n",
      "8                 10  0.995671\n",
      "9                 11  0.995437\n"
     ]
    }
   ],
   "source": [
    "df_leaf2 = pd.DataFrame({'min_samples_leaf': leaves2, 'F1 score': f1_lst_leaf2})\n",
    "df_leaf2 = df_leaf2.sort_values(by='F1 score', ascending=False)\n",
    "print(df_leaf2.head(10))"
   ]
  },
  {
   "cell_type": "code",
   "execution_count": 39,
   "id": "c2535b88-5e6e-41d6-bf03-16e82c60a59c",
   "metadata": {
    "tags": []
   },
   "outputs": [
    {
     "name": "stdout",
     "output_type": "stream",
     "text": [
      "2 0.9997374828532294 0.9984643338608523 0.9967297708073705\n",
      "3 0.9997374828532294 0.9984643338608523 0.9967297708073705\n",
      "4 0.9997374828532294 0.9984643338608523 0.9967297708073705\n",
      "5 0.9997112292433581 0.9985823976152798 0.996963955047104\n",
      "6 0.999711232689166 0.9984643338608523 0.9967297708073705\n",
      "7 0.9996981041613264 0.9985823976152798 0.996963955047104\n",
      "8 0.9996981041613264 0.998464194305587 0.9966654475844174\n",
      "9 0.9996456003873915 0.998464194305587 0.9966654475844174\n",
      "10 0.9996324701366481 0.998464194305587 0.9966654475844174\n",
      "11 0.9995799698085209 0.9983461305511596 0.9964290435888572\n",
      "12 0.9995143409525544 0.9985823976152798 0.996963955047104\n",
      "13 0.9995012141476186 0.9983462701064247 0.9964778816386047\n",
      "14 0.9995012141476186 0.9983462701064247 0.996481631849554\n",
      "15 0.999488089065587 0.9982280667967321 0.9961831243868675\n",
      "16 0.9994749622606512 0.9982280667967321 0.9961809046310407\n",
      "17 0.9994224584867164 0.9982280667967321 0.9961948593491234\n",
      "18 0.9994093316817807 0.9983461305511596 0.9964312633446838\n",
      "19 0.999396204876845 0.9982280667967321 0.9961948593491234\n",
      "20 0.9994093316817807 0.9983462701064247 0.9964955813569423\n",
      "21 0.9994224567638126 0.9983461305511596 0.9964312633446838\n",
      "22 0.9993830780719092 0.9982280667967321 0.9961831243868675\n",
      "23 0.9993830797948131 0.9982280667967321 0.9961831243868675\n",
      "24 0.9993830797948131 0.9981100030423047 0.9959489349364394\n",
      "25 0.9993437011029099 0.9983461305511596 0.9964312633446838\n",
      "26 0.9993699529898775 0.9983461305511596 0.9964312633446838\n",
      "27 0.9993568261849418 0.9983462701064247 0.99649336681181\n",
      "28 0.9993437011029099 0.9984643338608523 0.9967297708073705\n",
      "29 0.9993174509388464 0.9983462701064247 0.99649336681181\n",
      "30 0.9993043241339107 0.9983462701064247 0.99649336681181\n"
     ]
    }
   ],
   "source": [
    "splits2, f1_lst_split2, train_score_split2, test_score_split2 = split_params(X_drop_between_copy, Y_drop_between, 2, 31, n=260, depth=13, leaf=2, step=1)"
   ]
  },
  {
   "cell_type": "code",
   "execution_count": 40,
   "id": "ddb36c4c-4809-46ba-93f6-7c7e20ac2d2a",
   "metadata": {
    "tags": []
   },
   "outputs": [
    {
     "data": {
      "image/png": "[encoded data removed]",
      "text/plain": [
       "<Figure size 432x288 with 1 Axes>"
      ]
     },
     "metadata": {
      "needs_background": "light"
     },
     "output_type": "display_data"
    }
   ],
   "source": [
    "plt.plot(splits2, f1_lst_split2, label='F1 score')\n",
    "plt.plot(splits2, train_score_split2, label='train score')\n",
    "plt.plot(splits2, test_score_split2, label='test score')\n",
    "plt.title('Scores for min_samples_split (22 < i < 24)')\n",
    "plt.legend()\n",
    "plt.show()"
   ]
  },
  {
   "cell_type": "code",
   "execution_count": 41,
   "id": "0183e80e-0318-4ddf-8a7b-130f84d9f2c8",
   "metadata": {
    "tags": []
   },
   "outputs": [
    {
     "name": "stdout",
     "output_type": "stream",
     "text": [
      "    min_samples_split  F1 score\n",
      "3                   5  0.996964\n",
      "5                   7  0.996964\n",
      "10                 12  0.996964\n",
      "0                   2  0.996730\n",
      "1                   3  0.996730\n",
      "2                   4  0.996730\n",
      "4                   6  0.996730\n",
      "26                 28  0.996730\n",
      "6                   8  0.996665\n",
      "7                   9  0.996665\n"
     ]
    }
   ],
   "source": [
    "# get the top 10 min_samples_split with the highest F1 scores\n",
    "df_split2 = pd.DataFrame({'min_samples_split': splits2, 'F1 score': f1_lst_split2})\n",
    "df_split2 = df_split2.sort_values(by='F1 score', ascending=False)\n",
    "print(df_split2.head(10))"
   ]
  },
  {
   "cell_type": "code",
   "execution_count": 42,
   "id": "51ef61ab-16bb-45e5-b3d9-deafecab27ef",
   "metadata": {},
   "outputs": [],
   "source": [
    "# _n: noise\n",
    "X_train_n, X_test_n, y_train_n, y_test_n = train_test_split(X_drop_between_copy, Y_drop_between, train_size=0.7, test_size=0.3, shuffle=True, random_state=42)"
   ]
  },
  {
   "cell_type": "code",
   "execution_count": 43,
   "id": "6641fb9e-3f38-472e-a32c-45951996c305",
   "metadata": {},
   "outputs": [
    {
     "name": "stdout",
     "output_type": "stream",
     "text": [
      "Fitting 5 folds for each of 100 candidates, totalling 500 fits\n",
      "best params:\n",
      " \n",
      "{'n_estimators': 380, 'min_samples_split': 2, 'min_samples_leaf': 2, 'max_features': 'sqrt', 'max_depth': 12}\n",
      "best score: \n",
      " \n",
      "0.9980629204629652\n"
     ]
    }
   ],
   "source": [
    "model_params_n = {'n_estimators': [120, 130, 140, 420, 430, 380, 330, 340, 400, 100, 260],\n",
    "                'max_features': ['auto', 'sqrt', 'log2'],\n",
    "                'min_samples_split': [2, 3, 4, 5, 6, 7, 8, 9, 12],\n",
    "                'min_samples_leaf': [2, 3, 4, 6, 7, 8, 5, 10, 11, 12],\n",
    "                'max_depth': [12, 11, 15, 10, 13, 5, 6, 8, 9, 17]}\n",
    "\n",
    "clf_n = RandomForestClassifier(random_state=42)\n",
    "\n",
    "rf_n = RandomizedSearchCV(estimator = clf_n, param_distributions = model_params_n, n_iter = 100, cv = 5, scoring='f1_macro', refit= 'f1_macro', verbose=1, random_state=42, n_jobs = -1)\n",
    "\n",
    "rf_n.fit(X_train_n, y_train_n)\n",
    "\n",
    "print('best params:\\n ')\n",
    "print(rf_n.best_params_)\n",
    "\n",
    "print('best score: \\n ')\n",
    "print(rf_n.best_score_)"
   ]
  },
  {
   "cell_type": "markdown",
   "id": "a6d813f4-d325-4aa6-b415-2cdbd3beb614",
   "metadata": {},
   "source": [
    "## Test"
   ]
  },
  {
   "cell_type": "code",
   "execution_count": 44,
   "id": "bfe3d91c-b073-4c30-83f2-2c0609efb450",
   "metadata": {
    "tags": []
   },
   "outputs": [
    {
     "data": {
      "text/html": [
       "<div>\n",
       "<style scoped>\n",
       "    .dataframe tbody tr th:only-of-type {\n",
       "        vertical-align: middle;\n",
       "    }\n",
       "\n",
       "    .dataframe tbody tr th {\n",
       "        vertical-align: top;\n",
       "    }\n",
       "\n",
       "    .dataframe thead th {\n",
       "        text-align: right;\n",
       "    }\n",
       "</style>\n",
       "<table border=\"1\" class=\"dataframe\">\n",
       "  <thead>\n",
       "    <tr style=\"text-align: right;\">\n",
       "      <th></th>\n",
       "      <th>r_LSST_mag</th>\n",
       "      <th>i_LSST_mag</th>\n",
       "      <th>z_LSST_mag</th>\n",
       "      <th>Y_WFI_mag</th>\n",
       "      <th>J_WFI_mag</th>\n",
       "      <th>H_WFI_mag</th>\n",
       "      <th>F_WFI_mag</th>\n",
       "    </tr>\n",
       "  </thead>\n",
       "  <tbody>\n",
       "    <tr>\n",
       "      <th>count</th>\n",
       "      <td>25000.000000</td>\n",
       "      <td>25000.000000</td>\n",
       "      <td>25000.000000</td>\n",
       "      <td>25000.000000</td>\n",
       "      <td>25000.000000</td>\n",
       "      <td>25000.000000</td>\n",
       "      <td>25000.000000</td>\n",
       "    </tr>\n",
       "    <tr>\n",
       "      <th>mean</th>\n",
       "      <td>65.648371</td>\n",
       "      <td>56.107987</td>\n",
       "      <td>48.140213</td>\n",
       "      <td>35.209410</td>\n",
       "      <td>33.953109</td>\n",
       "      <td>34.408229</td>\n",
       "      <td>37.056265</td>\n",
       "    </tr>\n",
       "    <tr>\n",
       "      <th>std</th>\n",
       "      <td>34.999899</td>\n",
       "      <td>34.613620</td>\n",
       "      <td>32.917434</td>\n",
       "      <td>23.354992</td>\n",
       "      <td>21.852365</td>\n",
       "      <td>22.439000</td>\n",
       "      <td>25.883666</td>\n",
       "    </tr>\n",
       "    <tr>\n",
       "      <th>min</th>\n",
       "      <td>23.737275</td>\n",
       "      <td>21.400500</td>\n",
       "      <td>18.803401</td>\n",
       "      <td>18.181244</td>\n",
       "      <td>18.048911</td>\n",
       "      <td>17.986569</td>\n",
       "      <td>17.740505</td>\n",
       "    </tr>\n",
       "    <tr>\n",
       "      <th>25%</th>\n",
       "      <td>29.821013</td>\n",
       "      <td>28.555122</td>\n",
       "      <td>27.003421</td>\n",
       "      <td>25.704790</td>\n",
       "      <td>25.564225</td>\n",
       "      <td>25.613446</td>\n",
       "      <td>25.462108</td>\n",
       "    </tr>\n",
       "    <tr>\n",
       "      <th>50%</th>\n",
       "      <td>99.990000</td>\n",
       "      <td>29.953924</td>\n",
       "      <td>28.268598</td>\n",
       "      <td>27.587399</td>\n",
       "      <td>27.489070</td>\n",
       "      <td>27.495992</td>\n",
       "      <td>27.226590</td>\n",
       "    </tr>\n",
       "    <tr>\n",
       "      <th>75%</th>\n",
       "      <td>99.990000</td>\n",
       "      <td>99.990000</td>\n",
       "      <td>99.990000</td>\n",
       "      <td>28.891448</td>\n",
       "      <td>28.744201</td>\n",
       "      <td>28.762242</td>\n",
       "      <td>28.663621</td>\n",
       "    </tr>\n",
       "    <tr>\n",
       "      <th>max</th>\n",
       "      <td>99.990000</td>\n",
       "      <td>99.990000</td>\n",
       "      <td>99.990000</td>\n",
       "      <td>99.990000</td>\n",
       "      <td>99.990000</td>\n",
       "      <td>99.990000</td>\n",
       "      <td>99.990000</td>\n",
       "    </tr>\n",
       "  </tbody>\n",
       "</table>\n",
       "</div>"
      ],
      "text/plain": [
       "         r_LSST_mag    i_LSST_mag    z_LSST_mag     Y_WFI_mag     J_WFI_mag  \\\n",
       "count  25000.000000  25000.000000  25000.000000  25000.000000  25000.000000   \n",
       "mean      65.648371     56.107987     48.140213     35.209410     33.953109   \n",
       "std       34.999899     34.613620     32.917434     23.354992     21.852365   \n",
       "min       23.737275     21.400500     18.803401     18.181244     18.048911   \n",
       "25%       29.821013     28.555122     27.003421     25.704790     25.564225   \n",
       "50%       99.990000     29.953924     28.268598     27.587399     27.489070   \n",
       "75%       99.990000     99.990000     99.990000     28.891448     28.744201   \n",
       "max       99.990000     99.990000     99.990000     99.990000     99.990000   \n",
       "\n",
       "          H_WFI_mag     F_WFI_mag  \n",
       "count  25000.000000  25000.000000  \n",
       "mean      34.408229     37.056265  \n",
       "std       22.439000     25.883666  \n",
       "min       17.986569     17.740505  \n",
       "25%       25.613446     25.462108  \n",
       "50%       27.495992     27.226590  \n",
       "75%       28.762242     28.663621  \n",
       "max       99.990000     99.990000  "
      ]
     },
     "execution_count": 44,
     "metadata": {},
     "output_type": "execute_result"
    }
   ],
   "source": [
    "qso_test = pd.read_csv('quasar_test_catalog.csv', index_col=False)\n",
    "qso_test = qso_test[['r_LSST_mag', 'i_LSST_mag', 'z_LSST_mag', 'Y_WFI_mag', 'J_WFI_mag', 'H_WFI_mag', 'F_WFI_mag']]\n",
    "qso_test.describe()"
   ]
  },
  {
   "cell_type": "code",
   "execution_count": 45,
   "id": "68edef67-0523-41c0-b021-43f9e81aaf9f",
   "metadata": {},
   "outputs": [
    {
     "name": "stdout",
     "output_type": "stream",
     "text": [
      "galaxies_train_catalog_patch8788.csv partial data description: \n"
     ]
    },
    {
     "data": {
      "text/html": [
       "<div>\n",
       "<style scoped>\n",
       "    .dataframe tbody tr th:only-of-type {\n",
       "        vertical-align: middle;\n",
       "    }\n",
       "\n",
       "    .dataframe tbody tr th {\n",
       "        vertical-align: top;\n",
       "    }\n",
       "\n",
       "    .dataframe thead th {\n",
       "        text-align: right;\n",
       "    }\n",
       "</style>\n",
       "<table border=\"1\" class=\"dataframe\">\n",
       "  <thead>\n",
       "    <tr style=\"text-align: right;\">\n",
       "      <th></th>\n",
       "      <th>ra_d</th>\n",
       "      <th>dec_d</th>\n",
       "      <th>z</th>\n",
       "      <th>redsq_flag</th>\n",
       "      <th>u_LSST_mag</th>\n",
       "      <th>u_LSST_magerr</th>\n",
       "      <th>g_LSST_mag</th>\n",
       "      <th>g_LSST_magerr</th>\n",
       "      <th>r_LSST_mag</th>\n",
       "      <th>r_LSST_magerr</th>\n",
       "      <th>...</th>\n",
       "      <th>z_LSST_mag</th>\n",
       "      <th>z_LSST_magerr</th>\n",
       "      <th>Y_WFI_mag</th>\n",
       "      <th>Y_WFI_magerr</th>\n",
       "      <th>J_WFI_mag</th>\n",
       "      <th>J_WFI_magerr</th>\n",
       "      <th>H_WFI_mag</th>\n",
       "      <th>H_WFI_magerr</th>\n",
       "      <th>F_WFI_mag</th>\n",
       "      <th>F_WFI_magerr</th>\n",
       "    </tr>\n",
       "  </thead>\n",
       "  <tbody>\n",
       "    <tr>\n",
       "      <th>count</th>\n",
       "      <td>19999.000000</td>\n",
       "      <td>19999.000000</td>\n",
       "      <td>19999.000000</td>\n",
       "      <td>19999.000000</td>\n",
       "      <td>19999.000000</td>\n",
       "      <td>19999.000000</td>\n",
       "      <td>19999.000000</td>\n",
       "      <td>19999.000000</td>\n",
       "      <td>19999.000000</td>\n",
       "      <td>19999.000000</td>\n",
       "      <td>...</td>\n",
       "      <td>19999.000000</td>\n",
       "      <td>19999.000000</td>\n",
       "      <td>19999.000000</td>\n",
       "      <td>19999.000000</td>\n",
       "      <td>19999.000000</td>\n",
       "      <td>19999.000000</td>\n",
       "      <td>19999.000000</td>\n",
       "      <td>19999.000000</td>\n",
       "      <td>19999.000000</td>\n",
       "      <td>19999.000000</td>\n",
       "    </tr>\n",
       "    <tr>\n",
       "      <th>mean</th>\n",
       "      <td>23.756580</td>\n",
       "      <td>-22.336886</td>\n",
       "      <td>1.032695</td>\n",
       "      <td>0.206810</td>\n",
       "      <td>31.865539</td>\n",
       "      <td>1.664620</td>\n",
       "      <td>27.095620</td>\n",
       "      <td>0.426634</td>\n",
       "      <td>25.869858</td>\n",
       "      <td>0.090803</td>\n",
       "      <td>...</td>\n",
       "      <td>24.651582</td>\n",
       "      <td>0.116117</td>\n",
       "      <td>24.353000</td>\n",
       "      <td>0.046214</td>\n",
       "      <td>24.208583</td>\n",
       "      <td>0.041196</td>\n",
       "      <td>24.100513</td>\n",
       "      <td>0.040888</td>\n",
       "      <td>24.039632</td>\n",
       "      <td>0.071686</td>\n",
       "    </tr>\n",
       "    <tr>\n",
       "      <th>std</th>\n",
       "      <td>13.727285</td>\n",
       "      <td>13.457052</td>\n",
       "      <td>0.014251</td>\n",
       "      <td>0.405028</td>\n",
       "      <td>19.671504</td>\n",
       "      <td>67.272044</td>\n",
       "      <td>7.854143</td>\n",
       "      <td>20.170242</td>\n",
       "      <td>2.970428</td>\n",
       "      <td>0.466100</td>\n",
       "      <td>...</td>\n",
       "      <td>2.711824</td>\n",
       "      <td>1.867361</td>\n",
       "      <td>1.421210</td>\n",
       "      <td>0.052759</td>\n",
       "      <td>1.359922</td>\n",
       "      <td>0.039060</td>\n",
       "      <td>1.408869</td>\n",
       "      <td>0.076789</td>\n",
       "      <td>1.551048</td>\n",
       "      <td>0.674135</td>\n",
       "    </tr>\n",
       "    <tr>\n",
       "      <th>min</th>\n",
       "      <td>0.005785</td>\n",
       "      <td>-47.497992</td>\n",
       "      <td>1.005989</td>\n",
       "      <td>0.000000</td>\n",
       "      <td>20.799293</td>\n",
       "      <td>0.000000</td>\n",
       "      <td>20.945724</td>\n",
       "      <td>0.000000</td>\n",
       "      <td>20.964661</td>\n",
       "      <td>0.000000</td>\n",
       "      <td>...</td>\n",
       "      <td>20.199310</td>\n",
       "      <td>0.000000</td>\n",
       "      <td>19.730171</td>\n",
       "      <td>0.000000</td>\n",
       "      <td>19.315425</td>\n",
       "      <td>0.010143</td>\n",
       "      <td>18.971169</td>\n",
       "      <td>0.010027</td>\n",
       "      <td>18.750817</td>\n",
       "      <td>0.000000</td>\n",
       "    </tr>\n",
       "    <tr>\n",
       "      <th>25%</th>\n",
       "      <td>11.733755</td>\n",
       "      <td>-33.606524</td>\n",
       "      <td>1.020423</td>\n",
       "      <td>0.000000</td>\n",
       "      <td>25.247719</td>\n",
       "      <td>0.058302</td>\n",
       "      <td>25.311052</td>\n",
       "      <td>0.035975</td>\n",
       "      <td>24.941155</td>\n",
       "      <td>0.026174</td>\n",
       "      <td>...</td>\n",
       "      <td>23.824312</td>\n",
       "      <td>0.032802</td>\n",
       "      <td>23.596931</td>\n",
       "      <td>0.019817</td>\n",
       "      <td>23.429763</td>\n",
       "      <td>0.018021</td>\n",
       "      <td>23.301662</td>\n",
       "      <td>0.017404</td>\n",
       "      <td>23.219071</td>\n",
       "      <td>0.022461</td>\n",
       "    </tr>\n",
       "    <tr>\n",
       "      <th>50%</th>\n",
       "      <td>23.895896</td>\n",
       "      <td>-21.660677</td>\n",
       "      <td>1.034144</td>\n",
       "      <td>0.000000</td>\n",
       "      <td>26.489127</td>\n",
       "      <td>0.194314</td>\n",
       "      <td>26.391954</td>\n",
       "      <td>0.081985</td>\n",
       "      <td>25.913941</td>\n",
       "      <td>0.049719</td>\n",
       "      <td>...</td>\n",
       "      <td>24.704255</td>\n",
       "      <td>0.061873</td>\n",
       "      <td>24.515632</td>\n",
       "      <td>0.032787</td>\n",
       "      <td>24.393318</td>\n",
       "      <td>0.029589</td>\n",
       "      <td>24.310903</td>\n",
       "      <td>0.028905</td>\n",
       "      <td>24.255154</td>\n",
       "      <td>0.042657</td>\n",
       "    </tr>\n",
       "    <tr>\n",
       "      <th>75%</th>\n",
       "      <td>35.661293</td>\n",
       "      <td>-10.672523</td>\n",
       "      <td>1.045282</td>\n",
       "      <td>0.000000</td>\n",
       "      <td>27.598871</td>\n",
       "      <td>0.474694</td>\n",
       "      <td>27.330566</td>\n",
       "      <td>0.178909</td>\n",
       "      <td>26.697344</td>\n",
       "      <td>0.091973</td>\n",
       "      <td>...</td>\n",
       "      <td>25.455755</td>\n",
       "      <td>0.114201</td>\n",
       "      <td>25.268753</td>\n",
       "      <td>0.056047</td>\n",
       "      <td>25.168173</td>\n",
       "      <td>0.049974</td>\n",
       "      <td>25.108181</td>\n",
       "      <td>0.049543</td>\n",
       "      <td>25.070309</td>\n",
       "      <td>0.079083</td>\n",
       "    </tr>\n",
       "    <tr>\n",
       "      <th>max</th>\n",
       "      <td>47.496031</td>\n",
       "      <td>-0.000724</td>\n",
       "      <td>1.055212</td>\n",
       "      <td>1.000000</td>\n",
       "      <td>99.990000</td>\n",
       "      <td>9080.560484</td>\n",
       "      <td>99.990000</td>\n",
       "      <td>2753.077529</td>\n",
       "      <td>99.990000</td>\n",
       "      <td>43.286299</td>\n",
       "      <td>...</td>\n",
       "      <td>99.990000</td>\n",
       "      <td>251.215935</td>\n",
       "      <td>99.990000</td>\n",
       "      <td>4.157023</td>\n",
       "      <td>29.046655</td>\n",
       "      <td>1.527037</td>\n",
       "      <td>30.885336</td>\n",
       "      <td>9.494070</td>\n",
       "      <td>99.990000</td>\n",
       "      <td>82.927110</td>\n",
       "    </tr>\n",
       "  </tbody>\n",
       "</table>\n",
       "<p>8 rows × 22 columns</p>\n",
       "</div>"
      ],
      "text/plain": [
       "               ra_d         dec_d             z    redsq_flag    u_LSST_mag  \\\n",
       "count  19999.000000  19999.000000  19999.000000  19999.000000  19999.000000   \n",
       "mean      23.756580    -22.336886      1.032695      0.206810     31.865539   \n",
       "std       13.727285     13.457052      0.014251      0.405028     19.671504   \n",
       "min        0.005785    -47.497992      1.005989      0.000000     20.799293   \n",
       "25%       11.733755    -33.606524      1.020423      0.000000     25.247719   \n",
       "50%       23.895896    -21.660677      1.034144      0.000000     26.489127   \n",
       "75%       35.661293    -10.672523      1.045282      0.000000     27.598871   \n",
       "max       47.496031     -0.000724      1.055212      1.000000     99.990000   \n",
       "\n",
       "       u_LSST_magerr    g_LSST_mag  g_LSST_magerr    r_LSST_mag  \\\n",
       "count   19999.000000  19999.000000   19999.000000  19999.000000   \n",
       "mean        1.664620     27.095620       0.426634     25.869858   \n",
       "std        67.272044      7.854143      20.170242      2.970428   \n",
       "min         0.000000     20.945724       0.000000     20.964661   \n",
       "25%         0.058302     25.311052       0.035975     24.941155   \n",
       "50%         0.194314     26.391954       0.081985     25.913941   \n",
       "75%         0.474694     27.330566       0.178909     26.697344   \n",
       "max      9080.560484     99.990000    2753.077529     99.990000   \n",
       "\n",
       "       r_LSST_magerr  ...    z_LSST_mag  z_LSST_magerr     Y_WFI_mag  \\\n",
       "count   19999.000000  ...  19999.000000   19999.000000  19999.000000   \n",
       "mean        0.090803  ...     24.651582       0.116117     24.353000   \n",
       "std         0.466100  ...      2.711824       1.867361      1.421210   \n",
       "min         0.000000  ...     20.199310       0.000000     19.730171   \n",
       "25%         0.026174  ...     23.824312       0.032802     23.596931   \n",
       "50%         0.049719  ...     24.704255       0.061873     24.515632   \n",
       "75%         0.091973  ...     25.455755       0.114201     25.268753   \n",
       "max        43.286299  ...     99.990000     251.215935     99.990000   \n",
       "\n",
       "       Y_WFI_magerr     J_WFI_mag  J_WFI_magerr     H_WFI_mag  H_WFI_magerr  \\\n",
       "count  19999.000000  19999.000000  19999.000000  19999.000000  19999.000000   \n",
       "mean       0.046214     24.208583      0.041196     24.100513      0.040888   \n",
       "std        0.052759      1.359922      0.039060      1.408869      0.076789   \n",
       "min        0.000000     19.315425      0.010143     18.971169      0.010027   \n",
       "25%        0.019817     23.429763      0.018021     23.301662      0.017404   \n",
       "50%        0.032787     24.393318      0.029589     24.310903      0.028905   \n",
       "75%        0.056047     25.168173      0.049974     25.108181      0.049543   \n",
       "max        4.157023     29.046655      1.527037     30.885336      9.494070   \n",
       "\n",
       "          F_WFI_mag  F_WFI_magerr  \n",
       "count  19999.000000  19999.000000  \n",
       "mean      24.039632      0.071686  \n",
       "std        1.551048      0.674135  \n",
       "min       18.750817      0.000000  \n",
       "25%       23.219071      0.022461  \n",
       "50%       24.255154      0.042657  \n",
       "75%       25.070309      0.079083  \n",
       "max       99.990000     82.927110  \n",
       "\n",
       "[8 rows x 22 columns]"
      ]
     },
     "execution_count": 45,
     "metadata": {},
     "output_type": "execute_result"
    }
   ],
   "source": [
    "galaxies_patch8788_partial = read_data_partial('galaxies_train_catalog_patch8788.csv', 'galaxies_patch8788_partial.csv')\n",
    "print('galaxies_train_catalog_patch8788.csv partial data description: ')\n",
    "galaxies_patch8788_partial.describe()"
   ]
  },
  {
   "cell_type": "code",
   "execution_count": 46,
   "id": "7c952981-3870-47f3-8f43-93a434d8c29e",
   "metadata": {},
   "outputs": [
    {
     "name": "stdout",
     "output_type": "stream",
     "text": [
      "   r_LSST_mag  i_LSST_mag  z_LSST_mag  Y_WFI_mag  J_WFI_mag  H_WFI_mag  \\\n",
      "0   25.620305   25.035081   24.485231  24.423544  24.362241  24.324362   \n",
      "1   25.230872   24.969824   24.395539  24.525811  24.546824  24.499536   \n",
      "2   22.512334   22.275706   21.872768  21.677942  21.504141  21.340062   \n",
      "3   27.865488   27.073493   26.192273  25.807305  25.627332  25.391634   \n",
      "4   26.384361   25.518046   24.590732  24.114798  23.795983  23.585326   \n",
      "\n",
      "   F_WFI_mag  \n",
      "0  24.268830  \n",
      "1  24.562695  \n",
      "2  21.221775  \n",
      "3  25.310328  \n",
      "4  23.490337  \n"
     ]
    }
   ],
   "source": [
    "galaxies_patch8788_partial = galaxies_patch8788_partial[['r_LSST_mag', 'i_LSST_mag', 'z_LSST_mag', 'Y_WFI_mag', 'J_WFI_mag', 'H_WFI_mag', 'F_WFI_mag']]\n",
    "print(galaxies_patch8788_partial.head())"
   ]
  },
  {
   "cell_type": "code",
   "execution_count": 47,
   "id": "01beae15-de32-4ba7-8d14-37d40e7c0be7",
   "metadata": {},
   "outputs": [
    {
     "name": "stdout",
     "output_type": "stream",
     "text": [
      "mlt_test_catalog partial data description: \n"
     ]
    },
    {
     "data": {
      "text/html": [
       "<div>\n",
       "<style scoped>\n",
       "    .dataframe tbody tr th:only-of-type {\n",
       "        vertical-align: middle;\n",
       "    }\n",
       "\n",
       "    .dataframe tbody tr th {\n",
       "        vertical-align: top;\n",
       "    }\n",
       "\n",
       "    .dataframe thead th {\n",
       "        text-align: right;\n",
       "    }\n",
       "</style>\n",
       "<table border=\"1\" class=\"dataframe\">\n",
       "  <thead>\n",
       "    <tr style=\"text-align: right;\">\n",
       "      <th></th>\n",
       "      <th>r_LSST_mag</th>\n",
       "      <th>i_LSST_mag</th>\n",
       "      <th>z_LSST_mag</th>\n",
       "      <th>Y_WFI_mag</th>\n",
       "      <th>J_WFI_mag</th>\n",
       "      <th>H_WFI_mag</th>\n",
       "      <th>F_WFI_mag</th>\n",
       "    </tr>\n",
       "  </thead>\n",
       "  <tbody>\n",
       "    <tr>\n",
       "      <th>count</th>\n",
       "      <td>19999.000000</td>\n",
       "      <td>19999.000000</td>\n",
       "      <td>19999.000000</td>\n",
       "      <td>19999.000000</td>\n",
       "      <td>19999.000000</td>\n",
       "      <td>19999.000000</td>\n",
       "      <td>19999.000000</td>\n",
       "    </tr>\n",
       "    <tr>\n",
       "      <th>mean</th>\n",
       "      <td>26.926689</td>\n",
       "      <td>22.174019</td>\n",
       "      <td>21.164776</td>\n",
       "      <td>20.363206</td>\n",
       "      <td>20.066301</td>\n",
       "      <td>19.937946</td>\n",
       "      <td>20.002332</td>\n",
       "    </tr>\n",
       "    <tr>\n",
       "      <th>std</th>\n",
       "      <td>0.200677</td>\n",
       "      <td>0.120493</td>\n",
       "      <td>0.161657</td>\n",
       "      <td>0.162586</td>\n",
       "      <td>0.162807</td>\n",
       "      <td>0.163030</td>\n",
       "      <td>0.163780</td>\n",
       "    </tr>\n",
       "    <tr>\n",
       "      <th>min</th>\n",
       "      <td>26.194485</td>\n",
       "      <td>22.000014</td>\n",
       "      <td>20.394267</td>\n",
       "      <td>19.725846</td>\n",
       "      <td>19.393827</td>\n",
       "      <td>19.264649</td>\n",
       "      <td>19.362965</td>\n",
       "    </tr>\n",
       "    <tr>\n",
       "      <th>25%</th>\n",
       "      <td>26.789641</td>\n",
       "      <td>22.074817</td>\n",
       "      <td>21.055488</td>\n",
       "      <td>20.253683</td>\n",
       "      <td>19.957080</td>\n",
       "      <td>19.826876</td>\n",
       "      <td>19.891932</td>\n",
       "    </tr>\n",
       "    <tr>\n",
       "      <th>50%</th>\n",
       "      <td>26.918773</td>\n",
       "      <td>22.155908</td>\n",
       "      <td>21.169774</td>\n",
       "      <td>20.367118</td>\n",
       "      <td>20.068748</td>\n",
       "      <td>19.941408</td>\n",
       "      <td>20.005348</td>\n",
       "    </tr>\n",
       "    <tr>\n",
       "      <th>75%</th>\n",
       "      <td>27.056720</td>\n",
       "      <td>22.254488</td>\n",
       "      <td>21.277619</td>\n",
       "      <td>20.477338</td>\n",
       "      <td>20.180303</td>\n",
       "      <td>20.051468</td>\n",
       "      <td>20.116187</td>\n",
       "    </tr>\n",
       "    <tr>\n",
       "      <th>max</th>\n",
       "      <td>27.905773</td>\n",
       "      <td>22.687161</td>\n",
       "      <td>21.753210</td>\n",
       "      <td>21.182426</td>\n",
       "      <td>20.963738</td>\n",
       "      <td>20.801828</td>\n",
       "      <td>20.993568</td>\n",
       "    </tr>\n",
       "  </tbody>\n",
       "</table>\n",
       "</div>"
      ],
      "text/plain": [
       "         r_LSST_mag    i_LSST_mag    z_LSST_mag     Y_WFI_mag     J_WFI_mag  \\\n",
       "count  19999.000000  19999.000000  19999.000000  19999.000000  19999.000000   \n",
       "mean      26.926689     22.174019     21.164776     20.363206     20.066301   \n",
       "std        0.200677      0.120493      0.161657      0.162586      0.162807   \n",
       "min       26.194485     22.000014     20.394267     19.725846     19.393827   \n",
       "25%       26.789641     22.074817     21.055488     20.253683     19.957080   \n",
       "50%       26.918773     22.155908     21.169774     20.367118     20.068748   \n",
       "75%       27.056720     22.254488     21.277619     20.477338     20.180303   \n",
       "max       27.905773     22.687161     21.753210     21.182426     20.963738   \n",
       "\n",
       "          H_WFI_mag     F_WFI_mag  \n",
       "count  19999.000000  19999.000000  \n",
       "mean      19.937946     20.002332  \n",
       "std        0.163030      0.163780  \n",
       "min       19.264649     19.362965  \n",
       "25%       19.826876     19.891932  \n",
       "50%       19.941408     20.005348  \n",
       "75%       20.051468     20.116187  \n",
       "max       20.801828     20.993568  "
      ]
     },
     "execution_count": 47,
     "metadata": {},
     "output_type": "execute_result"
    }
   ],
   "source": [
    "mlt_test = read_data_partial('mlt_test_catalog_max24.csv', 'mlt_test_catalog_partial.csv', )\n",
    "mlt_test = mlt_test[['r_LSST_mag', 'i_LSST_mag', 'z_LSST_mag', 'Y_WFI_mag', 'J_WFI_mag', 'H_WFI_mag', 'F_WFI_mag']]\n",
    "print('mlt_test_catalog partial data description: ')\n",
    "mlt_test.describe()"
   ]
  },
  {
   "cell_type": "code",
   "execution_count": 48,
   "id": "88c318ab-c27d-4c80-99e1-1e79f8e091d2",
   "metadata": {},
   "outputs": [
    {
     "name": "stdout",
     "output_type": "stream",
     "text": [
      "         r_LSST_mag    i_LSST_mag    z_LSST_mag     Y_WFI_mag     J_WFI_mag  \\\n",
      "count  44999.000000  44999.000000  44999.000000  44999.000000  44999.000000   \n",
      "mean      47.969523     42.385887     37.701112     30.384473     29.622329   \n",
      "std       32.789956     30.056330     27.230051     18.249165     17.016506   \n",
      "min       20.964661     20.738443     18.803401     18.181244     18.048911   \n",
      "25%       26.108564     25.457826     24.589408     24.219371     24.089289   \n",
      "50%       29.098091     27.776565     26.166768     25.565317     25.455884   \n",
      "75%       99.990000     30.578948     28.596754     27.841186     27.743223   \n",
      "max       99.990000     99.990000     99.990000     99.990000     99.990000   \n",
      "\n",
      "          H_WFI_mag     F_WFI_mag         label  \n",
      "count  44999.000000  44999.000000  44999.000000  \n",
      "mean      29.827149     31.271255      0.555568  \n",
      "std       17.516998     20.374225      0.496908  \n",
      "min       17.986569     17.740505      0.000000  \n",
      "25%       24.026803     23.936007      0.000000  \n",
      "50%       25.426154     25.353531      1.000000  \n",
      "75%       27.741095     27.461619      1.000000  \n",
      "max       99.990000     99.990000      1.000000  \n"
     ]
    }
   ],
   "source": [
    "qso_test_copy = qso_test.copy()\n",
    "qso_test_copy['label'] = np.ones(len(qso_test_copy))\n",
    "galaxies_patch8788_pcopy = galaxies_patch8788_partial.copy()\n",
    "galaxies_patch8788_pcopy['label'] = np.zeros(len(galaxies_patch8788_pcopy))\n",
    "test_wgal = pd.concat([qso_test_copy, galaxies_patch8788_pcopy], ignore_index=True)\n",
    "print(test_wgal.describe())"
   ]
  },
  {
   "cell_type": "code",
   "execution_count": 49,
   "id": "1721c57d-07ec-4001-bb65-0bf0fb4c766e",
   "metadata": {},
   "outputs": [
    {
     "data": {
      "text/html": [
       "<div>\n",
       "<style scoped>\n",
       "    .dataframe tbody tr th:only-of-type {\n",
       "        vertical-align: middle;\n",
       "    }\n",
       "\n",
       "    .dataframe tbody tr th {\n",
       "        vertical-align: top;\n",
       "    }\n",
       "\n",
       "    .dataframe thead th {\n",
       "        text-align: right;\n",
       "    }\n",
       "</style>\n",
       "<table border=\"1\" class=\"dataframe\">\n",
       "  <thead>\n",
       "    <tr style=\"text-align: right;\">\n",
       "      <th></th>\n",
       "      <th>r_LSST_mag</th>\n",
       "      <th>i_LSST_mag</th>\n",
       "      <th>z_LSST_mag</th>\n",
       "      <th>Y_WFI_mag</th>\n",
       "      <th>J_WFI_mag</th>\n",
       "      <th>H_WFI_mag</th>\n",
       "      <th>F_WFI_mag</th>\n",
       "      <th>label</th>\n",
       "    </tr>\n",
       "  </thead>\n",
       "  <tbody>\n",
       "    <tr>\n",
       "      <th>count</th>\n",
       "      <td>64998.000000</td>\n",
       "      <td>64998.000000</td>\n",
       "      <td>64998.000000</td>\n",
       "      <td>64998.000000</td>\n",
       "      <td>64998.000000</td>\n",
       "      <td>64998.000000</td>\n",
       "      <td>64998.000000</td>\n",
       "      <td>64998.000000</td>\n",
       "    </tr>\n",
       "    <tr>\n",
       "      <th>mean</th>\n",
       "      <td>41.494929</td>\n",
       "      <td>36.166971</td>\n",
       "      <td>32.613106</td>\n",
       "      <td>27.301066</td>\n",
       "      <td>26.682069</td>\n",
       "      <td>26.784376</td>\n",
       "      <td>27.803961</td>\n",
       "      <td>0.384627</td>\n",
       "    </tr>\n",
       "    <tr>\n",
       "      <th>std</th>\n",
       "      <td>28.960228</td>\n",
       "      <td>26.691700</td>\n",
       "      <td>23.907913</td>\n",
       "      <td>15.873303</td>\n",
       "      <td>14.829919</td>\n",
       "      <td>15.273254</td>\n",
       "      <td>17.732538</td>\n",
       "      <td>0.486511</td>\n",
       "    </tr>\n",
       "    <tr>\n",
       "      <th>min</th>\n",
       "      <td>20.964661</td>\n",
       "      <td>20.738443</td>\n",
       "      <td>18.803401</td>\n",
       "      <td>18.181244</td>\n",
       "      <td>18.048911</td>\n",
       "      <td>17.986569</td>\n",
       "      <td>17.740505</td>\n",
       "      <td>0.000000</td>\n",
       "    </tr>\n",
       "    <tr>\n",
       "      <th>25%</th>\n",
       "      <td>26.648108</td>\n",
       "      <td>22.273506</td>\n",
       "      <td>21.303424</td>\n",
       "      <td>20.507608</td>\n",
       "      <td>20.211694</td>\n",
       "      <td>20.081580</td>\n",
       "      <td>20.145379</td>\n",
       "      <td>0.000000</td>\n",
       "    </tr>\n",
       "    <tr>\n",
       "      <th>50%</th>\n",
       "      <td>27.078660</td>\n",
       "      <td>25.629694</td>\n",
       "      <td>24.755012</td>\n",
       "      <td>24.373978</td>\n",
       "      <td>24.249103</td>\n",
       "      <td>24.193706</td>\n",
       "      <td>24.115527</td>\n",
       "      <td>0.000000</td>\n",
       "    </tr>\n",
       "    <tr>\n",
       "      <th>75%</th>\n",
       "      <td>30.470443</td>\n",
       "      <td>29.011888</td>\n",
       "      <td>27.579617</td>\n",
       "      <td>26.698436</td>\n",
       "      <td>26.583893</td>\n",
       "      <td>26.606885</td>\n",
       "      <td>26.459749</td>\n",
       "      <td>1.000000</td>\n",
       "    </tr>\n",
       "    <tr>\n",
       "      <th>max</th>\n",
       "      <td>99.990000</td>\n",
       "      <td>99.990000</td>\n",
       "      <td>99.990000</td>\n",
       "      <td>99.990000</td>\n",
       "      <td>99.990000</td>\n",
       "      <td>99.990000</td>\n",
       "      <td>99.990000</td>\n",
       "      <td>1.000000</td>\n",
       "    </tr>\n",
       "  </tbody>\n",
       "</table>\n",
       "</div>"
      ],
      "text/plain": [
       "         r_LSST_mag    i_LSST_mag    z_LSST_mag     Y_WFI_mag     J_WFI_mag  \\\n",
       "count  64998.000000  64998.000000  64998.000000  64998.000000  64998.000000   \n",
       "mean      41.494929     36.166971     32.613106     27.301066     26.682069   \n",
       "std       28.960228     26.691700     23.907913     15.873303     14.829919   \n",
       "min       20.964661     20.738443     18.803401     18.181244     18.048911   \n",
       "25%       26.648108     22.273506     21.303424     20.507608     20.211694   \n",
       "50%       27.078660     25.629694     24.755012     24.373978     24.249103   \n",
       "75%       30.470443     29.011888     27.579617     26.698436     26.583893   \n",
       "max       99.990000     99.990000     99.990000     99.990000     99.990000   \n",
       "\n",
       "          H_WFI_mag     F_WFI_mag         label  \n",
       "count  64998.000000  64998.000000  64998.000000  \n",
       "mean      26.784376     27.803961      0.384627  \n",
       "std       15.273254     17.732538      0.486511  \n",
       "min       17.986569     17.740505      0.000000  \n",
       "25%       20.081580     20.145379      0.000000  \n",
       "50%       24.193706     24.115527      0.000000  \n",
       "75%       26.606885     26.459749      1.000000  \n",
       "max       99.990000     99.990000      1.000000  "
      ]
     },
     "execution_count": 49,
     "metadata": {},
     "output_type": "execute_result"
    }
   ],
   "source": [
    "mlt_test_copy = mlt_test.copy()\n",
    "mlt_test_copy['label'] = np.zeros(len(mlt_test_copy))\n",
    "test = pd.concat([qso_test_copy, galaxies_patch8788_pcopy, mlt_test_copy], ignore_index=True)\n",
    "test.describe()"
   ]
  },
  {
   "cell_type": "markdown",
   "id": "536f1ee8-32e8-459a-948d-39b3d5663958",
   "metadata": {},
   "source": [
    "22 < i < 24"
   ]
  },
  {
   "cell_type": "markdown",
   "id": "67d887e0-59c4-4306-8b13-c96b27029e81",
   "metadata": {},
   "source": [
    "{'n_estimators': 380, 'min_samples_split': 2, 'min_samples_leaf': 2, 'max_features': 'sqrt', 'max_depth': 12}"
   ]
  },
  {
   "cell_type": "code",
   "execution_count": 50,
   "id": "5f567047-3f2b-46d8-809c-cad1bb624de1",
   "metadata": {},
   "outputs": [
    {
     "data": {
      "text/plain": [
       "RandomForestClassifier(max_depth=12, max_features='sqrt', min_samples_leaf=2,\n",
       "                       n_estimators=380)"
      ]
     },
     "execution_count": 50,
     "metadata": {},
     "output_type": "execute_result"
    }
   ],
   "source": [
    "clf_n = RandomForestClassifier(n_estimators=380, min_samples_split=2, min_samples_leaf=2, max_features='sqrt', max_depth=12)\n",
    "clf_n.fit(X_drop_between_copy, Y_drop_between)"
   ]
  },
  {
   "cell_type": "markdown",
   "id": "29f24ec2-39e2-482b-8eb4-16001650901f",
   "metadata": {},
   "source": [
    "with galaxies added"
   ]
  },
  {
   "cell_type": "code",
   "execution_count": 51,
   "id": "c61f55f7-cad7-43db-b734-5e41ee46bb24",
   "metadata": {},
   "outputs": [
    {
     "name": "stdout",
     "output_type": "stream",
     "text": [
      "3417\n"
     ]
    }
   ],
   "source": [
    "test_wgal_copy = test_wgal.copy()\n",
    "test_wgal_copy = test_wgal_copy.drop(columns=['label'])\n",
    "test_wgal_copy = test_wgal_copy[test_wgal_copy['i_LSST_mag'] > 22.0]\n",
    "test_wgal_copy = test_wgal_copy[test_wgal_copy['i_LSST_mag'] < 24.0]\n",
    "print(len(test_wgal_copy))"
   ]
  },
  {
   "cell_type": "code",
   "execution_count": 52,
   "id": "077dd044-4091-47ae-b5e7-dfc925f1fecf",
   "metadata": {},
   "outputs": [],
   "source": [
    "col_names = ['r_LSST_mag', 'i_LSST_mag', 'z_LSST_mag', 'Y_WFI_mag', 'J_WFI_mag', 'H_WFI_mag', 'F_WFI_mag']\n",
    "for i in range(len(col_names)):\n",
    "    for j in range(len(col_names)):\n",
    "        if i < j:\n",
    "            col = col_names[i] + '-' + col_names[j]\n",
    "            test_wgal_copy[col] = test_wgal_copy[col_names[i]] - test_wgal_copy[col_names[j]]"
   ]
  },
  {
   "cell_type": "code",
   "execution_count": 53,
   "id": "524caf98-7414-4e82-86c4-c277f5f86c2d",
   "metadata": {},
   "outputs": [],
   "source": [
    "test_wgal_copy = test_wgal_copy[['r_LSST_mag', 'i_LSST_mag', 'z_LSST_mag', 'Y_WFI_mag', 'J_WFI_mag', 'H_WFI_mag', 'F_WFI_mag', 'Y_WFI_mag-H_WFI_mag', 'Y_WFI_mag-F_WFI_mag', 'z_LSST_mag-H_WFI_mag', 'z_LSST_mag-F_WFI_mag', 'i_LSST_mag-z_LSST_mag', 'r_LSST_mag-z_LSST_mag', 'i_LSST_mag-Y_WFI_mag', 'r_LSST_mag-Y_WFI_mag']]"
   ]
  },
  {
   "cell_type": "code",
   "execution_count": 54,
   "id": "0b94da70-0804-4071-80c8-facc479f310d",
   "metadata": {},
   "outputs": [
    {
     "data": {
      "text/plain": [
       "3417"
      ]
     },
     "execution_count": 54,
     "metadata": {},
     "output_type": "execute_result"
    }
   ],
   "source": [
    "len(test_wgal_copy)"
   ]
  },
  {
   "cell_type": "code",
   "execution_count": 55,
   "id": "61c4992c-ec4c-47f6-9a57-0412db39e096",
   "metadata": {},
   "outputs": [
    {
     "name": "stdout",
     "output_type": "stream",
     "text": [
      "[1 1 1 ... 0 0 0]\n",
      "53\n"
     ]
    }
   ],
   "source": [
    "labels = clf_n.predict(test_wgal_copy.to_numpy())\n",
    "print(labels)\n",
    "test2 = test_wgal.drop(columns=['label'])\n",
    "test2 = test2[test2['i_LSST_mag'] > 22.0]\n",
    "test2 = test2[test2['i_LSST_mag'] < 24.0]\n",
    "test2['label'] = labels\n",
    "test2 = test2[test2['label'] == 1]\n",
    "print(len(test2))"
   ]
  },
  {
   "cell_type": "code",
   "execution_count": 56,
   "id": "4d4bc467-1b75-46f1-aaf7-7aa5f0d9c54c",
   "metadata": {},
   "outputs": [
    {
     "name": "stdout",
     "output_type": "stream",
     "text": [
      "53\n",
      "True\n"
     ]
    }
   ],
   "source": [
    "qso_test_between = test_wgal[test_wgal['i_LSST_mag'] > 22.0]\n",
    "qso_test_between = qso_test_between[qso_test_between['i_LSST_mag'] < 24.0]\n",
    "qso_test_between = qso_test_between[qso_test_between['label'] == 1]\n",
    "print(len(qso_test_between))\n",
    "print(set(test2).issubset(qso_test_between))"
   ]
  },
  {
   "cell_type": "markdown",
   "id": "201ff3b5-1bef-4435-891b-d0d089f009b1",
   "metadata": {},
   "source": [
    "with galaxies and brown dwarfs added"
   ]
  },
  {
   "cell_type": "code",
   "execution_count": 57,
   "id": "82a17e34-cc19-41d8-85e0-557332cffff8",
   "metadata": {},
   "outputs": [
    {
     "name": "stdout",
     "output_type": "stream",
     "text": [
      "23416\n"
     ]
    }
   ],
   "source": [
    "test_copy = test.copy()\n",
    "test_copy = test_copy.drop(columns=['label'])\n",
    "test_copy = test_copy[test_copy['i_LSST_mag'] > 22.0]\n",
    "test_copy = test_copy[test_copy['i_LSST_mag'] < 24.0]\n",
    "print(len(test_copy))"
   ]
  },
  {
   "cell_type": "code",
   "execution_count": 58,
   "id": "301b2ff4-3852-4feb-9131-4631c0750278",
   "metadata": {
    "tags": []
   },
   "outputs": [],
   "source": [
    "col_names = ['r_LSST_mag', 'i_LSST_mag', 'z_LSST_mag', 'Y_WFI_mag', 'J_WFI_mag', 'H_WFI_mag', 'F_WFI_mag']\n",
    "for i in range(len(col_names)):\n",
    "    for j in range(len(col_names)):\n",
    "        if i < j:\n",
    "            col = col_names[i] + '-' + col_names[j]\n",
    "            test_copy[col] = test_copy[col_names[i]] - test_copy[col_names[j]]"
   ]
  },
  {
   "cell_type": "code",
   "execution_count": 59,
   "id": "9cca9b22-77a2-4f66-bce6-9eb12a3e1eaf",
   "metadata": {},
   "outputs": [],
   "source": [
    "test_copy = test_copy[['r_LSST_mag', 'i_LSST_mag', 'z_LSST_mag', 'Y_WFI_mag', 'J_WFI_mag', 'H_WFI_mag', 'F_WFI_mag', 'Y_WFI_mag-H_WFI_mag', 'Y_WFI_mag-F_WFI_mag', 'z_LSST_mag-H_WFI_mag', 'z_LSST_mag-F_WFI_mag', 'i_LSST_mag-z_LSST_mag', 'r_LSST_mag-z_LSST_mag', 'i_LSST_mag-Y_WFI_mag', 'r_LSST_mag-Y_WFI_mag']]"
   ]
  },
  {
   "cell_type": "code",
   "execution_count": 60,
   "id": "52689082-c5f4-4d82-b8cb-09d1233a75e6",
   "metadata": {},
   "outputs": [
    {
     "name": "stdout",
     "output_type": "stream",
     "text": [
      "20036\n"
     ]
    }
   ],
   "source": [
    "labels3 = clf_n.predict(test_copy.to_numpy()) \n",
    "test3 = test.drop(columns=['label'])\n",
    "test3 = test3[test3['i_LSST_mag'] > 22.0]\n",
    "test3 = test3[test3['i_LSST_mag'] < 24.0]\n",
    "test3['label'] = labels3\n",
    "test3 = test3[test3['label'] == 1]\n",
    "print(len(test3))"
   ]
  },
  {
   "cell_type": "code",
   "execution_count": 70,
   "id": "491b41a3-b77d-4761-bd21-280058294156",
   "metadata": {},
   "outputs": [
    {
     "name": "stdout",
     "output_type": "stream",
     "text": [
      "True\n"
     ]
    }
   ],
   "source": [
    "print(set(test3).issubset(qso_test_between))"
   ]
  },
  {
   "cell_type": "code",
   "execution_count": null,
   "id": "20c98e6b-6b7c-4784-8193-0a90f6f0a483",
   "metadata": {},
   "outputs": [],
   "source": [
    " "
   ]
  }
 ],
 "metadata": {
  "kernelspec": {
   "display_name": "Python 3",
   "language": "python",
   "name": "python3"
  },
  "language_info": {
   "codemirror_mode": {
    "name": "ipython",
    "version": 3
   },
   "file_extension": ".py",
   "mimetype": "text/x-python",
   "name": "python",
   "nbconvert_exporter": "python",
   "pygments_lexer": "ipython3",
   "version": "3.8.8"
  }
 },
 "nbformat": 4,
 "nbformat_minor": 5
}
