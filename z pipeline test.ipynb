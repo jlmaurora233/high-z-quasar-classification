{
 "cells": [
  {
   "cell_type": "code",
   "execution_count": 1,
   "id": "6d79a3c0-7923-4330-9bf2-2057cd574168",
   "metadata": {
    "execution": {
     "iopub.execute_input": "2023-08-22T20:56:31.434172Z",
     "iopub.status.busy": "2023-08-22T20:56:31.433523Z",
     "iopub.status.idle": "2023-08-22T20:56:33.031722Z",
     "shell.execute_reply": "2023-08-22T20:56:33.030348Z",
     "shell.execute_reply.started": "2023-08-22T20:56:31.434104Z"
    }
   },
   "outputs": [],
   "source": [
    "import numpy as np\n",
    "import pandas as pd\n",
    "import matplotlib.pyplot as plt\n",
    "\n",
    "import json\n",
    "\n",
    "from sklearn.neighbors import KNeighborsClassifier"
   ]
  },
  {
   "cell_type": "markdown",
   "id": "c4441cf5-8950-4a90-af13-c5555f2030b3",
   "metadata": {},
   "source": [
    "### Get fit data ready"
   ]
  },
  {
   "cell_type": "code",
   "execution_count": 2,
   "id": "7f8765e0-8a40-4392-b1cf-78733b14f14e",
   "metadata": {
    "execution": {
     "iopub.execute_input": "2023-08-22T20:56:34.375386Z",
     "iopub.status.busy": "2023-08-22T20:56:34.374650Z",
     "iopub.status.idle": "2023-08-22T20:56:34.387422Z",
     "shell.execute_reply": "2023-08-22T20:56:34.385983Z",
     "shell.execute_reply.started": "2023-08-22T20:56:34.375332Z"
    }
   },
   "outputs": [],
   "source": [
    "# ValueError: could not convert string to float: '8789-0'\n",
    "def read_data_partial(given_fname, output_fname, lim=399999):\n",
    "    try:\n",
    "        data = pd.read_csv(given_fname,index_col=False,engine='python',nrows=lim)\n",
    "        data.to_csv(output_fname)\n",
    "    except:\n",
    "        content = []\n",
    "        count = 1\n",
    "\n",
    "        with open(given_fname, 'r') as fr:\n",
    "            for line in fr:\n",
    "                if count <= lim:\n",
    "                    #print(type(line), line)\n",
    "                    content.append(line)\n",
    "                    count += 1\n",
    "        with open(output_fname, 'w') as fw:\n",
    "            for line in content:\n",
    "                # print(type(line), line)\n",
    "                fw.write(line)\n",
    "\n",
    "        data = pd.read_csv(output_fname, index_col=False,encoding= res_encoding,engine='python')\n",
    "\n",
    "    return data"
   ]
  },
  {
   "cell_type": "code",
   "execution_count": 3,
   "id": "643b99d7-4eaf-4285-959d-cc14f5416129",
   "metadata": {
    "execution": {
     "iopub.execute_input": "2023-08-22T20:56:34.629674Z",
     "iopub.status.busy": "2023-08-22T20:56:34.629117Z",
     "iopub.status.idle": "2023-08-22T20:56:55.871038Z",
     "shell.execute_reply": "2023-08-22T20:56:55.869800Z",
     "shell.execute_reply.started": "2023-08-22T20:56:34.629617Z"
    },
    "tags": []
   },
   "outputs": [
    {
     "name": "stdout",
     "output_type": "stream",
     "text": [
      "qso_train_catalog_z.csv partial data description: \n"
     ]
    },
    {
     "data": {
      "text/html": [
       "<div>\n",
       "<style scoped>\n",
       "    .dataframe tbody tr th:only-of-type {\n",
       "        vertical-align: middle;\n",
       "    }\n",
       "\n",
       "    .dataframe tbody tr th {\n",
       "        vertical-align: top;\n",
       "    }\n",
       "\n",
       "    .dataframe thead th {\n",
       "        text-align: right;\n",
       "    }\n",
       "</style>\n",
       "<table border=\"1\" class=\"dataframe\">\n",
       "  <thead>\n",
       "    <tr style=\"text-align: right;\">\n",
       "      <th></th>\n",
       "      <th>i_LSST_mag</th>\n",
       "      <th>z_LSST_mag</th>\n",
       "      <th>Y_WFI_mag</th>\n",
       "      <th>J_WFI_mag</th>\n",
       "      <th>H_WFI_mag</th>\n",
       "      <th>F_WFI_mag</th>\n",
       "    </tr>\n",
       "  </thead>\n",
       "  <tbody>\n",
       "    <tr>\n",
       "      <th>count</th>\n",
       "      <td>20759.000000</td>\n",
       "      <td>20759.000000</td>\n",
       "      <td>20759.000000</td>\n",
       "      <td>20759.000000</td>\n",
       "      <td>20759.000000</td>\n",
       "      <td>20759.000000</td>\n",
       "    </tr>\n",
       "    <tr>\n",
       "      <th>mean</th>\n",
       "      <td>28.576193</td>\n",
       "      <td>26.616020</td>\n",
       "      <td>24.340320</td>\n",
       "      <td>24.201112</td>\n",
       "      <td>24.264969</td>\n",
       "      <td>24.132527</td>\n",
       "    </tr>\n",
       "    <tr>\n",
       "      <th>std</th>\n",
       "      <td>1.218340</td>\n",
       "      <td>1.654428</td>\n",
       "      <td>2.009015</td>\n",
       "      <td>2.089360</td>\n",
       "      <td>2.112093</td>\n",
       "      <td>2.108081</td>\n",
       "    </tr>\n",
       "    <tr>\n",
       "      <th>min</th>\n",
       "      <td>26.672280</td>\n",
       "      <td>23.064283</td>\n",
       "      <td>18.489759</td>\n",
       "      <td>17.989148</td>\n",
       "      <td>17.800595</td>\n",
       "      <td>17.633615</td>\n",
       "    </tr>\n",
       "    <tr>\n",
       "      <th>25%</th>\n",
       "      <td>27.689657</td>\n",
       "      <td>25.314514</td>\n",
       "      <td>23.136710</td>\n",
       "      <td>22.977195</td>\n",
       "      <td>23.069490</td>\n",
       "      <td>22.937156</td>\n",
       "    </tr>\n",
       "    <tr>\n",
       "      <th>50%</th>\n",
       "      <td>28.366448</td>\n",
       "      <td>26.540555</td>\n",
       "      <td>24.371926</td>\n",
       "      <td>24.306130</td>\n",
       "      <td>24.363508</td>\n",
       "      <td>24.192066</td>\n",
       "    </tr>\n",
       "    <tr>\n",
       "      <th>75%</th>\n",
       "      <td>29.189413</td>\n",
       "      <td>27.668971</td>\n",
       "      <td>25.789820</td>\n",
       "      <td>25.697926</td>\n",
       "      <td>25.766767</td>\n",
       "      <td>25.595761</td>\n",
       "    </tr>\n",
       "    <tr>\n",
       "      <th>max</th>\n",
       "      <td>38.902328</td>\n",
       "      <td>36.769079</td>\n",
       "      <td>32.115011</td>\n",
       "      <td>32.168396</td>\n",
       "      <td>32.742341</td>\n",
       "      <td>33.953075</td>\n",
       "    </tr>\n",
       "  </tbody>\n",
       "</table>\n",
       "</div>"
      ],
      "text/plain": [
       "         i_LSST_mag    z_LSST_mag     Y_WFI_mag     J_WFI_mag     H_WFI_mag  \\\n",
       "count  20759.000000  20759.000000  20759.000000  20759.000000  20759.000000   \n",
       "mean      28.576193     26.616020     24.340320     24.201112     24.264969   \n",
       "std        1.218340      1.654428      2.009015      2.089360      2.112093   \n",
       "min       26.672280     23.064283     18.489759     17.989148     17.800595   \n",
       "25%       27.689657     25.314514     23.136710     22.977195     23.069490   \n",
       "50%       28.366448     26.540555     24.371926     24.306130     24.363508   \n",
       "75%       29.189413     27.668971     25.789820     25.697926     25.766767   \n",
       "max       38.902328     36.769079     32.115011     32.168396     32.742341   \n",
       "\n",
       "          F_WFI_mag  \n",
       "count  20759.000000  \n",
       "mean      24.132527  \n",
       "std        2.108081  \n",
       "min       17.633615  \n",
       "25%       22.937156  \n",
       "50%       24.192066  \n",
       "75%       25.595761  \n",
       "max       33.953075  "
      ]
     },
     "execution_count": 3,
     "metadata": {},
     "output_type": "execute_result"
    }
   ],
   "source": [
    "qso_train_partial = read_data_partial('quasar_train_catalog.csv', 'qso_train_partial.csv')\n",
    "qso_train_drop = qso_train_partial[['z', 'r_LSST_magerr', 'i_LSST_magerr','i_LSST_mag', 'z_LSST_mag', 'Y_WFI_mag', 'J_WFI_mag', 'H_WFI_mag', 'F_WFI_mag']]\n",
    "qso_train_drop = qso_train_drop.replace(99.99, np.nan).dropna()\n",
    "qso_train_drop = qso_train_drop[qso_train_drop['z'] < 7.5]\n",
    "qso_train_drop = qso_train_drop[(qso_train_drop['r_LSST_magerr']>0.2)&(qso_train_drop['i_LSST_magerr']>0.2)]\n",
    "redshifts26 = qso_train_drop[qso_train_drop['z_LSST_mag'] > 22.0]\n",
    "redshifts26 = redshifts26[redshifts26['z_LSST_mag'] < 26.0]\n",
    "redshifts26 = redshifts26['z']\n",
    "qso_train_drop = qso_train_drop.drop(columns=['z', 'r_LSST_magerr', 'i_LSST_magerr'])\n",
    "print('qso_train_catalog_z.csv partial data description: ')\n",
    "qso_train_drop.describe()"
   ]
  },
  {
   "cell_type": "code",
   "execution_count": 4,
   "id": "8a3afebd-a6a2-4afe-b04e-3b79898ee008",
   "metadata": {
    "execution": {
     "iopub.execute_input": "2023-08-22T20:56:55.872949Z",
     "iopub.status.busy": "2023-08-22T20:56:55.872640Z",
     "iopub.status.idle": "2023-08-22T20:56:56.189723Z",
     "shell.execute_reply": "2023-08-22T20:56:56.188826Z",
     "shell.execute_reply.started": "2023-08-22T20:56:55.872917Z"
    }
   },
   "outputs": [
    {
     "data": {
      "text/plain": [
       "(array([1986., 1725., 1511., 1102.,   95.,   74.,  366.,  489.,  380.,\n",
       "         271.]),\n",
       " array([6.0001027 , 6.15004544, 6.29998818, 6.44993092, 6.59987366,\n",
       "        6.7498164 , 6.89975914, 7.04970188, 7.19964462, 7.34958736,\n",
       "        7.4995301 ]),\n",
       " <BarContainer object of 10 artists>)"
      ]
     },
     "execution_count": 4,
     "metadata": {},
     "output_type": "execute_result"
    },
    {
     "data": {
      "image/png": "[encoded data removed]",
      "text/plain": [
       "<Figure size 432x288 with 1 Axes>"
      ]
     },
     "metadata": {
      "needs_background": "light"
     },
     "output_type": "display_data"
    }
   ],
   "source": [
    "plt.hist(redshifts26)"
   ]
  },
  {
   "cell_type": "code",
   "execution_count": 5,
   "id": "33c7d29e-8575-4489-ae2d-447ac411248e",
   "metadata": {
    "execution": {
     "iopub.execute_input": "2023-08-22T20:56:56.191849Z",
     "iopub.status.busy": "2023-08-22T20:56:56.191542Z",
     "iopub.status.idle": "2023-08-22T20:57:28.128711Z",
     "shell.execute_reply": "2023-08-22T20:57:28.127161Z",
     "shell.execute_reply.started": "2023-08-22T20:56:56.191817Z"
    },
    "tags": []
   },
   "outputs": [
    {
     "name": "stdout",
     "output_type": "stream",
     "text": [
      "mlt_train_catalog_z.csv partial data description: \n"
     ]
    },
    {
     "data": {
      "text/html": [
       "<div>\n",
       "<style scoped>\n",
       "    .dataframe tbody tr th:only-of-type {\n",
       "        vertical-align: middle;\n",
       "    }\n",
       "\n",
       "    .dataframe tbody tr th {\n",
       "        vertical-align: top;\n",
       "    }\n",
       "\n",
       "    .dataframe thead th {\n",
       "        text-align: right;\n",
       "    }\n",
       "</style>\n",
       "<table border=\"1\" class=\"dataframe\">\n",
       "  <thead>\n",
       "    <tr style=\"text-align: right;\">\n",
       "      <th></th>\n",
       "      <th>i_LSST_mag</th>\n",
       "      <th>z_LSST_mag</th>\n",
       "      <th>Y_WFI_mag</th>\n",
       "      <th>J_WFI_mag</th>\n",
       "      <th>H_WFI_mag</th>\n",
       "      <th>F_WFI_mag</th>\n",
       "    </tr>\n",
       "  </thead>\n",
       "  <tbody>\n",
       "    <tr>\n",
       "      <th>count</th>\n",
       "      <td>40215.000000</td>\n",
       "      <td>40215.000000</td>\n",
       "      <td>40215.000000</td>\n",
       "      <td>40215.000000</td>\n",
       "      <td>40215.000000</td>\n",
       "      <td>40215.000000</td>\n",
       "    </tr>\n",
       "    <tr>\n",
       "      <th>mean</th>\n",
       "      <td>27.846360</td>\n",
       "      <td>26.406950</td>\n",
       "      <td>24.814468</td>\n",
       "      <td>24.240156</td>\n",
       "      <td>23.941957</td>\n",
       "      <td>23.954919</td>\n",
       "    </tr>\n",
       "    <tr>\n",
       "      <th>std</th>\n",
       "      <td>0.866560</td>\n",
       "      <td>0.814595</td>\n",
       "      <td>0.652294</td>\n",
       "      <td>0.636044</td>\n",
       "      <td>0.633295</td>\n",
       "      <td>0.639822</td>\n",
       "    </tr>\n",
       "    <tr>\n",
       "      <th>min</th>\n",
       "      <td>26.565172</td>\n",
       "      <td>24.640153</td>\n",
       "      <td>22.966413</td>\n",
       "      <td>22.249321</td>\n",
       "      <td>21.884903</td>\n",
       "      <td>21.705643</td>\n",
       "    </tr>\n",
       "    <tr>\n",
       "      <th>25%</th>\n",
       "      <td>27.248318</td>\n",
       "      <td>25.848575</td>\n",
       "      <td>24.336096</td>\n",
       "      <td>23.782861</td>\n",
       "      <td>23.500746</td>\n",
       "      <td>23.511528</td>\n",
       "    </tr>\n",
       "    <tr>\n",
       "      <th>50%</th>\n",
       "      <td>27.631539</td>\n",
       "      <td>26.262382</td>\n",
       "      <td>24.722558</td>\n",
       "      <td>24.157091</td>\n",
       "      <td>23.877018</td>\n",
       "      <td>23.890470</td>\n",
       "    </tr>\n",
       "    <tr>\n",
       "      <th>75%</th>\n",
       "      <td>28.184954</td>\n",
       "      <td>26.792510</td>\n",
       "      <td>25.207169</td>\n",
       "      <td>24.619578</td>\n",
       "      <td>24.324022</td>\n",
       "      <td>24.337251</td>\n",
       "    </tr>\n",
       "    <tr>\n",
       "      <th>max</th>\n",
       "      <td>38.215437</td>\n",
       "      <td>36.198974</td>\n",
       "      <td>28.369839</td>\n",
       "      <td>27.735964</td>\n",
       "      <td>27.180561</td>\n",
       "      <td>27.305963</td>\n",
       "    </tr>\n",
       "  </tbody>\n",
       "</table>\n",
       "</div>"
      ],
      "text/plain": [
       "         i_LSST_mag    z_LSST_mag     Y_WFI_mag     J_WFI_mag     H_WFI_mag  \\\n",
       "count  40215.000000  40215.000000  40215.000000  40215.000000  40215.000000   \n",
       "mean      27.846360     26.406950     24.814468     24.240156     23.941957   \n",
       "std        0.866560      0.814595      0.652294      0.636044      0.633295   \n",
       "min       26.565172     24.640153     22.966413     22.249321     21.884903   \n",
       "25%       27.248318     25.848575     24.336096     23.782861     23.500746   \n",
       "50%       27.631539     26.262382     24.722558     24.157091     23.877018   \n",
       "75%       28.184954     26.792510     25.207169     24.619578     24.324022   \n",
       "max       38.215437     36.198974     28.369839     27.735964     27.180561   \n",
       "\n",
       "          F_WFI_mag  \n",
       "count  40215.000000  \n",
       "mean      23.954919  \n",
       "std        0.639822  \n",
       "min       21.705643  \n",
       "25%       23.511528  \n",
       "50%       23.890470  \n",
       "75%       24.337251  \n",
       "max       27.305963  "
      ]
     },
     "execution_count": 5,
     "metadata": {},
     "output_type": "execute_result"
    }
   ],
   "source": [
    "# brown dwarf contaminants\n",
    "mlt_train_partial = read_data_partial('mlt_train_catalog.csv', 'mlt_train_partial.csv', 599999)\n",
    "mlt_train_drop = mlt_train_partial[['r_LSST_magerr', 'i_LSST_magerr', 'i_LSST_mag', 'z_LSST_mag', 'Y_WFI_mag', 'J_WFI_mag', 'H_WFI_mag', 'F_WFI_mag']]\n",
    "mlt_train_drop = mlt_train_drop.replace(99.99, np.nan).dropna()\n",
    "mlt_train_drop = mlt_train_drop[(mlt_train_drop['r_LSST_magerr']>0.2)&(mlt_train_drop['i_LSST_magerr']>0.2)]\n",
    "mlt_train_drop = mlt_train_drop.drop(columns=['r_LSST_magerr', 'i_LSST_magerr'])\n",
    "print('mlt_train_catalog_z.csv partial data description: ')\n",
    "mlt_train_drop.describe()"
   ]
  },
  {
   "cell_type": "code",
   "execution_count": 6,
   "id": "a7c3919c-381c-4469-a251-dc08464497cc",
   "metadata": {
    "execution": {
     "iopub.execute_input": "2023-08-22T20:57:28.131530Z",
     "iopub.status.busy": "2023-08-22T20:57:28.131207Z",
     "iopub.status.idle": "2023-08-22T20:57:48.305038Z",
     "shell.execute_reply": "2023-08-22T20:57:48.303813Z",
     "shell.execute_reply.started": "2023-08-22T20:57:28.131496Z"
    },
    "tags": []
   },
   "outputs": [
    {
     "name": "stdout",
     "output_type": "stream",
     "text": [
      "galaxies_train_catalog_patch8789.csv partial data description: \n"
     ]
    },
    {
     "data": {
      "text/html": [
       "<div>\n",
       "<style scoped>\n",
       "    .dataframe tbody tr th:only-of-type {\n",
       "        vertical-align: middle;\n",
       "    }\n",
       "\n",
       "    .dataframe tbody tr th {\n",
       "        vertical-align: top;\n",
       "    }\n",
       "\n",
       "    .dataframe thead th {\n",
       "        text-align: right;\n",
       "    }\n",
       "</style>\n",
       "<table border=\"1\" class=\"dataframe\">\n",
       "  <thead>\n",
       "    <tr style=\"text-align: right;\">\n",
       "      <th></th>\n",
       "      <th>i_LSST_mag</th>\n",
       "      <th>z_LSST_mag</th>\n",
       "      <th>Y_WFI_mag</th>\n",
       "      <th>J_WFI_mag</th>\n",
       "      <th>H_WFI_mag</th>\n",
       "      <th>F_WFI_mag</th>\n",
       "    </tr>\n",
       "  </thead>\n",
       "  <tbody>\n",
       "    <tr>\n",
       "      <th>count</th>\n",
       "      <td>166180.000000</td>\n",
       "      <td>166180.000000</td>\n",
       "      <td>166180.000000</td>\n",
       "      <td>166180.000000</td>\n",
       "      <td>166180.000000</td>\n",
       "      <td>166180.000000</td>\n",
       "    </tr>\n",
       "    <tr>\n",
       "      <th>mean</th>\n",
       "      <td>28.112741</td>\n",
       "      <td>27.507701</td>\n",
       "      <td>27.330679</td>\n",
       "      <td>27.226355</td>\n",
       "      <td>27.160891</td>\n",
       "      <td>27.154280</td>\n",
       "    </tr>\n",
       "    <tr>\n",
       "      <th>std</th>\n",
       "      <td>0.888656</td>\n",
       "      <td>0.950758</td>\n",
       "      <td>0.788433</td>\n",
       "      <td>0.796900</td>\n",
       "      <td>0.827853</td>\n",
       "      <td>0.977009</td>\n",
       "    </tr>\n",
       "    <tr>\n",
       "      <th>min</th>\n",
       "      <td>26.647539</td>\n",
       "      <td>25.462982</td>\n",
       "      <td>25.152190</td>\n",
       "      <td>24.748167</td>\n",
       "      <td>24.475726</td>\n",
       "      <td>24.258516</td>\n",
       "    </tr>\n",
       "    <tr>\n",
       "      <th>25%</th>\n",
       "      <td>27.518918</td>\n",
       "      <td>26.883531</td>\n",
       "      <td>26.837638</td>\n",
       "      <td>26.737179</td>\n",
       "      <td>26.657671</td>\n",
       "      <td>26.557470</td>\n",
       "    </tr>\n",
       "    <tr>\n",
       "      <th>50%</th>\n",
       "      <td>27.920273</td>\n",
       "      <td>27.314756</td>\n",
       "      <td>27.248012</td>\n",
       "      <td>27.172407</td>\n",
       "      <td>27.118375</td>\n",
       "      <td>27.041903</td>\n",
       "    </tr>\n",
       "    <tr>\n",
       "      <th>75%</th>\n",
       "      <td>28.465759</td>\n",
       "      <td>27.895376</td>\n",
       "      <td>27.710084</td>\n",
       "      <td>27.634895</td>\n",
       "      <td>27.594613</td>\n",
       "      <td>27.601858</td>\n",
       "    </tr>\n",
       "    <tr>\n",
       "      <th>max</th>\n",
       "      <td>40.029429</td>\n",
       "      <td>39.261958</td>\n",
       "      <td>39.647494</td>\n",
       "      <td>40.707497</td>\n",
       "      <td>38.204669</td>\n",
       "      <td>38.379259</td>\n",
       "    </tr>\n",
       "  </tbody>\n",
       "</table>\n",
       "</div>"
      ],
      "text/plain": [
       "          i_LSST_mag     z_LSST_mag      Y_WFI_mag      J_WFI_mag  \\\n",
       "count  166180.000000  166180.000000  166180.000000  166180.000000   \n",
       "mean       28.112741      27.507701      27.330679      27.226355   \n",
       "std         0.888656       0.950758       0.788433       0.796900   \n",
       "min        26.647539      25.462982      25.152190      24.748167   \n",
       "25%        27.518918      26.883531      26.837638      26.737179   \n",
       "50%        27.920273      27.314756      27.248012      27.172407   \n",
       "75%        28.465759      27.895376      27.710084      27.634895   \n",
       "max        40.029429      39.261958      39.647494      40.707497   \n",
       "\n",
       "           H_WFI_mag      F_WFI_mag  \n",
       "count  166180.000000  166180.000000  \n",
       "mean       27.160891      27.154280  \n",
       "std         0.827853       0.977009  \n",
       "min        24.475726      24.258516  \n",
       "25%        26.657671      26.557470  \n",
       "50%        27.118375      27.041903  \n",
       "75%        27.594613      27.601858  \n",
       "max        38.204669      38.379259  "
      ]
     },
     "execution_count": 6,
     "metadata": {},
     "output_type": "execute_result"
    }
   ],
   "source": [
    "galaxies_patch8789_partial = read_data_partial('galaxies_train_catalog_patch8789.csv', 'galaxies_patch8789_partial.csv')\n",
    "galaxies_patch8789_drop = galaxies_patch8789_partial[['r_LSST_magerr', 'i_LSST_magerr','i_LSST_mag', 'z_LSST_mag', 'Y_WFI_mag', 'J_WFI_mag', 'H_WFI_mag', 'F_WFI_mag']]\n",
    "galaxies_patch8789_drop = galaxies_patch8789_drop.replace(99.99, np.nan).dropna()\n",
    "galaxies_patch8789_drop = galaxies_patch8789_drop[(galaxies_patch8789_drop['r_LSST_magerr']>0.2)&(galaxies_patch8789_drop['i_LSST_magerr']>0.2)]\n",
    "galaxies_patch8789_drop = galaxies_patch8789_drop.drop(columns=['r_LSST_magerr', 'i_LSST_magerr'])\n",
    "print('galaxies_train_catalog_patch8789.csv partial data description: ')\n",
    "galaxies_patch8789_drop.describe()"
   ]
  },
  {
   "cell_type": "code",
   "execution_count": 7,
   "id": "df9b070e-a553-4add-8250-9c9afbf85dad",
   "metadata": {
    "execution": {
     "iopub.execute_input": "2023-08-22T20:57:48.306498Z",
     "iopub.status.busy": "2023-08-22T20:57:48.306274Z",
     "iopub.status.idle": "2023-08-22T20:58:11.462864Z",
     "shell.execute_reply": "2023-08-22T20:58:11.461504Z",
     "shell.execute_reply.started": "2023-08-22T20:57:48.306474Z"
    },
    "tags": []
   },
   "outputs": [
    {
     "name": "stdout",
     "output_type": "stream",
     "text": [
      "galaxies_train_catalog_patch8786.csv partial data description: \n"
     ]
    },
    {
     "data": {
      "text/html": [
       "<div>\n",
       "<style scoped>\n",
       "    .dataframe tbody tr th:only-of-type {\n",
       "        vertical-align: middle;\n",
       "    }\n",
       "\n",
       "    .dataframe tbody tr th {\n",
       "        vertical-align: top;\n",
       "    }\n",
       "\n",
       "    .dataframe thead th {\n",
       "        text-align: right;\n",
       "    }\n",
       "</style>\n",
       "<table border=\"1\" class=\"dataframe\">\n",
       "  <thead>\n",
       "    <tr style=\"text-align: right;\">\n",
       "      <th></th>\n",
       "      <th>i_LSST_mag</th>\n",
       "      <th>z_LSST_mag</th>\n",
       "      <th>Y_WFI_mag</th>\n",
       "      <th>J_WFI_mag</th>\n",
       "      <th>H_WFI_mag</th>\n",
       "      <th>F_WFI_mag</th>\n",
       "    </tr>\n",
       "  </thead>\n",
       "  <tbody>\n",
       "    <tr>\n",
       "      <th>count</th>\n",
       "      <td>156947.000000</td>\n",
       "      <td>156947.000000</td>\n",
       "      <td>156947.000000</td>\n",
       "      <td>156947.000000</td>\n",
       "      <td>156947.000000</td>\n",
       "      <td>156947.000000</td>\n",
       "    </tr>\n",
       "    <tr>\n",
       "      <th>mean</th>\n",
       "      <td>28.100850</td>\n",
       "      <td>27.494201</td>\n",
       "      <td>27.312886</td>\n",
       "      <td>27.205306</td>\n",
       "      <td>27.141588</td>\n",
       "      <td>27.131087</td>\n",
       "    </tr>\n",
       "    <tr>\n",
       "      <th>std</th>\n",
       "      <td>0.886176</td>\n",
       "      <td>0.952283</td>\n",
       "      <td>0.787836</td>\n",
       "      <td>0.803831</td>\n",
       "      <td>0.842035</td>\n",
       "      <td>0.981599</td>\n",
       "    </tr>\n",
       "    <tr>\n",
       "      <th>min</th>\n",
       "      <td>26.573603</td>\n",
       "      <td>25.553776</td>\n",
       "      <td>25.107279</td>\n",
       "      <td>24.705397</td>\n",
       "      <td>24.460871</td>\n",
       "      <td>24.280885</td>\n",
       "    </tr>\n",
       "    <tr>\n",
       "      <th>25%</th>\n",
       "      <td>27.507437</td>\n",
       "      <td>26.871509</td>\n",
       "      <td>26.818015</td>\n",
       "      <td>26.714655</td>\n",
       "      <td>26.633409</td>\n",
       "      <td>26.535319</td>\n",
       "    </tr>\n",
       "    <tr>\n",
       "      <th>50%</th>\n",
       "      <td>27.905555</td>\n",
       "      <td>27.298765</td>\n",
       "      <td>27.235464</td>\n",
       "      <td>27.156027</td>\n",
       "      <td>27.102194</td>\n",
       "      <td>27.024863</td>\n",
       "    </tr>\n",
       "    <tr>\n",
       "      <th>75%</th>\n",
       "      <td>28.452905</td>\n",
       "      <td>27.883030</td>\n",
       "      <td>27.697065</td>\n",
       "      <td>27.620381</td>\n",
       "      <td>27.584424</td>\n",
       "      <td>27.588149</td>\n",
       "    </tr>\n",
       "    <tr>\n",
       "      <th>max</th>\n",
       "      <td>40.812877</td>\n",
       "      <td>40.422024</td>\n",
       "      <td>37.436853</td>\n",
       "      <td>38.037623</td>\n",
       "      <td>37.411129</td>\n",
       "      <td>37.630643</td>\n",
       "    </tr>\n",
       "  </tbody>\n",
       "</table>\n",
       "</div>"
      ],
      "text/plain": [
       "          i_LSST_mag     z_LSST_mag      Y_WFI_mag      J_WFI_mag  \\\n",
       "count  156947.000000  156947.000000  156947.000000  156947.000000   \n",
       "mean       28.100850      27.494201      27.312886      27.205306   \n",
       "std         0.886176       0.952283       0.787836       0.803831   \n",
       "min        26.573603      25.553776      25.107279      24.705397   \n",
       "25%        27.507437      26.871509      26.818015      26.714655   \n",
       "50%        27.905555      27.298765      27.235464      27.156027   \n",
       "75%        28.452905      27.883030      27.697065      27.620381   \n",
       "max        40.812877      40.422024      37.436853      38.037623   \n",
       "\n",
       "           H_WFI_mag      F_WFI_mag  \n",
       "count  156947.000000  156947.000000  \n",
       "mean       27.141588      27.131087  \n",
       "std         0.842035       0.981599  \n",
       "min        24.460871      24.280885  \n",
       "25%        26.633409      26.535319  \n",
       "50%        27.102194      27.024863  \n",
       "75%        27.584424      27.588149  \n",
       "max        37.411129      37.630643  "
      ]
     },
     "execution_count": 7,
     "metadata": {},
     "output_type": "execute_result"
    }
   ],
   "source": [
    "galaxies_patch8786_partial = read_data_partial('galaxies_train_catalog_patch8786.csv', 'galaxies_patch8786_partial.csv')\n",
    "galaxies_patch8786_drop = galaxies_patch8786_partial[['r_LSST_magerr', 'i_LSST_magerr','i_LSST_mag', 'z_LSST_mag', 'Y_WFI_mag', 'J_WFI_mag', 'H_WFI_mag', 'F_WFI_mag']]\n",
    "galaxies_patch8786_drop = galaxies_patch8786_drop.replace(99.99, np.nan).dropna()\n",
    "galaxies_patch8786_drop = galaxies_patch8786_drop[(galaxies_patch8786_drop['r_LSST_magerr']>0.2)&(galaxies_patch8786_drop['i_LSST_magerr']>0.2)]\n",
    "galaxies_patch8786_drop = galaxies_patch8786_drop.drop(columns=['r_LSST_magerr', 'i_LSST_magerr'])\n",
    "print('galaxies_train_catalog_patch8786.csv partial data description: ')\n",
    "galaxies_patch8786_drop.describe()"
   ]
  },
  {
   "cell_type": "code",
   "execution_count": 8,
   "id": "17cf3756-ccb5-4e14-a8e5-a1cc1668b6b5",
   "metadata": {
    "execution": {
     "iopub.execute_input": "2023-08-22T20:58:11.464705Z",
     "iopub.status.busy": "2023-08-22T20:58:11.464388Z",
     "iopub.status.idle": "2023-08-22T20:58:11.473196Z",
     "shell.execute_reply": "2023-08-22T20:58:11.471937Z",
     "shell.execute_reply.started": "2023-08-22T20:58:11.464672Z"
    }
   },
   "outputs": [],
   "source": [
    "qso_train_drop['label'] = np.ones(len(qso_train_drop))\n",
    "mlt_train_drop['label'] = np.zeros(len(mlt_train_drop))\n",
    "galaxies_patch8789_drop['label'] = np.zeros(len(galaxies_patch8789_drop))\n",
    "galaxies_patch8786_drop['label'] = np.zeros(len(galaxies_patch8786_drop))"
   ]
  },
  {
   "cell_type": "code",
   "execution_count": 9,
   "id": "03bb8f4b-8576-4eb8-a3f9-05244a51af77",
   "metadata": {
    "execution": {
     "iopub.execute_input": "2023-08-22T20:58:11.474772Z",
     "iopub.status.busy": "2023-08-22T20:58:11.474477Z",
     "iopub.status.idle": "2023-08-22T20:58:11.549560Z",
     "shell.execute_reply": "2023-08-22T20:58:11.548167Z",
     "shell.execute_reply.started": "2023-08-22T20:58:11.474742Z"
    }
   },
   "outputs": [],
   "source": [
    "# data concatenation to get training data\n",
    "contaminants_drop = pd.concat([mlt_train_drop, galaxies_patch8789_drop, galaxies_patch8786_drop], ignore_index=True)\n",
    "data_train_drop = pd.concat([qso_train_drop, contaminants_drop], ignore_index=True) # make sure that the data line up\n",
    "X_drop = data_train_drop[['i_LSST_mag', 'z_LSST_mag','Y_WFI_mag', 'J_WFI_mag', 'H_WFI_mag', 'F_WFI_mag']]\n",
    "Y_drop = data_train_drop['label']"
   ]
  },
  {
   "cell_type": "code",
   "execution_count": 10,
   "id": "7cfd72ae-100c-4c34-87ae-9a26a6dfbabe",
   "metadata": {
    "execution": {
     "iopub.execute_input": "2023-08-22T20:58:11.552250Z",
     "iopub.status.busy": "2023-08-22T20:58:11.551959Z",
     "iopub.status.idle": "2023-08-22T20:58:11.591664Z",
     "shell.execute_reply": "2023-08-22T20:58:11.590380Z",
     "shell.execute_reply.started": "2023-08-22T20:58:11.552219Z"
    },
    "tags": []
   },
   "outputs": [
    {
     "name": "stdout",
     "output_type": "stream",
     "text": [
      "7514\n",
      "13791\n",
      "778\n",
      "753\n"
     ]
    }
   ],
   "source": [
    "qso_train_26 = qso_train_drop[qso_train_drop['z_LSST_mag'] > 24.0]\n",
    "qso_train_26 = qso_train_26[qso_train_26['z_LSST_mag'] < 26.0]\n",
    "print(len(qso_train_26))\n",
    "mlt_train_26 = mlt_train_drop[mlt_train_drop['z_LSST_mag'] > 24.0]\n",
    "mlt_train_26 = mlt_train_26[mlt_train_26['z_LSST_mag'] < 26.0]\n",
    "print(len(mlt_train_26))\n",
    "galaxies_patch8789_26 = galaxies_patch8789_drop[galaxies_patch8789_drop['z_LSST_mag'] > 24.0]\n",
    "galaxies_patch8789_26 = galaxies_patch8789_26[galaxies_patch8789_26['z_LSST_mag'] < 26.0]\n",
    "print(len(galaxies_patch8789_26))\n",
    "galaxies_patch8786_26 = galaxies_patch8786_drop[galaxies_patch8786_drop['z_LSST_mag'] > 24.0]\n",
    "galaxies_patch8786_26 = galaxies_patch8786_26[galaxies_patch8786_26['z_LSST_mag'] < 26.0]\n",
    "print(len(galaxies_patch8786_26))"
   ]
  },
  {
   "cell_type": "code",
   "execution_count": 11,
   "id": "f59f8ee1-1512-4952-905a-a34961ad476a",
   "metadata": {
    "execution": {
     "iopub.execute_input": "2023-08-22T20:58:11.593427Z",
     "iopub.status.busy": "2023-08-22T20:58:11.593136Z",
     "iopub.status.idle": "2023-08-22T20:58:11.601580Z",
     "shell.execute_reply": "2023-08-22T20:58:11.600399Z",
     "shell.execute_reply.started": "2023-08-22T20:58:11.593396Z"
    }
   },
   "outputs": [],
   "source": [
    "contaminants_26 = pd.concat([mlt_train_26, galaxies_patch8789_26, galaxies_patch8786_26], ignore_index=True)\n",
    "data_train_26 = pd.concat([qso_train_26, contaminants_26], ignore_index=True)\n",
    "X_drop_26 = data_train_26[['i_LSST_mag', 'z_LSST_mag','Y_WFI_mag', 'J_WFI_mag', 'H_WFI_mag', 'F_WFI_mag']]\n",
    "Y_drop_26 = data_train_26['label']"
   ]
  },
  {
   "cell_type": "markdown",
   "id": "04aa438a-f1de-42d9-bcca-ad7309572c7e",
   "metadata": {
    "tags": []
   },
   "source": [
    "## KNN filters"
   ]
  },
  {
   "cell_type": "code",
   "execution_count": 12,
   "id": "5a98efaf-492f-40b4-ba75-c8d36d1e6f09",
   "metadata": {
    "execution": {
     "iopub.execute_input": "2023-08-22T20:58:53.670461Z",
     "iopub.status.busy": "2023-08-22T20:58:53.670005Z",
     "iopub.status.idle": "2023-08-22T20:58:53.711698Z",
     "shell.execute_reply": "2023-08-22T20:58:53.710554Z",
     "shell.execute_reply.started": "2023-08-22T20:58:53.670420Z"
    }
   },
   "outputs": [
    {
     "data": {
      "text/plain": [
       "KNeighborsClassifier(leaf_size=3, n_neighbors=13, p=3)"
      ]
     },
     "execution_count": 12,
     "metadata": {},
     "output_type": "execute_result"
    }
   ],
   "source": [
    "# 1a\n",
    "# x: z_LSST_mag-J_WFI_mag\n",
    "# y: Y_WFI_mag-H_WFI_mag\n",
    "# best score:  0.9881756756756758\n",
    "filter1a = KNeighborsClassifier(algorithm='auto', metric='minkowski', n_neighbors=13, leaf_size=3, weights='uniform', p=3)\n",
    "features1a = [X_drop_26['z_LSST_mag']-X_drop_26['J_WFI_mag'], X_drop_26['Y_WFI_mag']-X_drop_26['H_WFI_mag']]\n",
    "X1a = np.array(features1a).transpose()\n",
    "\n",
    "filter1a.fit(X1a, Y_drop_26)"
   ]
  },
  {
   "cell_type": "code",
   "execution_count": 13,
   "id": "aa8c9230-4374-4775-873b-ccd487d2e2d4",
   "metadata": {
    "execution": {
     "iopub.execute_input": "2023-08-22T20:58:54.073862Z",
     "iopub.status.busy": "2023-08-22T20:58:54.073322Z",
     "iopub.status.idle": "2023-08-22T20:58:54.124168Z",
     "shell.execute_reply": "2023-08-22T20:58:54.122658Z",
     "shell.execute_reply.started": "2023-08-22T20:58:54.073809Z"
    }
   },
   "outputs": [
    {
     "data": {
      "text/plain": [
       "KNeighborsClassifier(leaf_size=3, n_neighbors=13, p=5)"
      ]
     },
     "execution_count": 13,
     "metadata": {},
     "output_type": "execute_result"
    }
   ],
   "source": [
    "# 1b\n",
    "# x: Y - H \n",
    "# y: i - H\n",
    "# best score:  0.9938063063063063\n",
    "filter1b = KNeighborsClassifier(algorithm='auto', metric='minkowski', n_neighbors=13, leaf_size=3, weights='uniform', p=5)\n",
    "features1b = [X_drop_26['Y_WFI_mag']-X_drop_26['H_WFI_mag'], X_drop_26['i_LSST_mag']-X_drop_26['H_WFI_mag']]\n",
    "X1b = np.array(features1b).transpose()\n",
    "\n",
    "filter1b.fit(X1b, Y_drop_26)"
   ]
  },
  {
   "cell_type": "code",
   "execution_count": 14,
   "id": "639e5a5f-9ee5-4698-954e-73f0f5d963fb",
   "metadata": {
    "execution": {
     "iopub.execute_input": "2023-08-22T20:58:54.529668Z",
     "iopub.status.busy": "2023-08-22T20:58:54.529125Z",
     "iopub.status.idle": "2023-08-22T20:58:54.579263Z",
     "shell.execute_reply": "2023-08-22T20:58:54.577790Z",
     "shell.execute_reply.started": "2023-08-22T20:58:54.529614Z"
    }
   },
   "outputs": [
    {
     "data": {
      "text/plain": [
       "KNeighborsClassifier(leaf_size=3, n_neighbors=36, p=5)"
      ]
     },
     "execution_count": 14,
     "metadata": {},
     "output_type": "execute_result"
    }
   ],
   "source": [
    "# 1c \n",
    "# x: z - H\n",
    "# y: J - H\n",
    "# best score:  0.9463213213213213\n",
    "filter1c = KNeighborsClassifier(algorithm='auto', metric='minkowski', n_neighbors=36, leaf_size=3, weights='uniform', p=5)\n",
    "features1c = [X_drop_26['z_LSST_mag']-X_drop_26['H_WFI_mag'], X_drop_26['J_WFI_mag']-X_drop_26['H_WFI_mag']]\n",
    "X1c = np.array(features1c).transpose()\n",
    "\n",
    "filter1c.fit(X1c, Y_drop_26)"
   ]
  },
  {
   "cell_type": "code",
   "execution_count": 15,
   "id": "c1914eea-b837-46f1-aa25-8718c8896293",
   "metadata": {
    "execution": {
     "iopub.execute_input": "2023-08-22T20:58:54.585643Z",
     "iopub.status.busy": "2023-08-22T20:58:54.585242Z",
     "iopub.status.idle": "2023-08-22T20:58:54.626259Z",
     "shell.execute_reply": "2023-08-22T20:58:54.625172Z",
     "shell.execute_reply.started": "2023-08-22T20:58:54.585590Z"
    }
   },
   "outputs": [
    {
     "data": {
      "text/plain": [
       "KNeighborsClassifier(leaf_size=3, n_neighbors=45, p=5)"
      ]
     },
     "execution_count": 15,
     "metadata": {},
     "output_type": "execute_result"
    }
   ],
   "source": [
    "# 1d\n",
    "# x: z_LSST_mag-Y_WFI_mag\n",
    "# y: i_LSST_mag-F_WFI_mag\n",
    "# best score:  0.9678428428428428\n",
    "filter1d = KNeighborsClassifier(algorithm='auto', metric='minkowski', n_neighbors=45, leaf_size=3, weights='uniform', p=5)\n",
    "features1d = [X_drop_26['z_LSST_mag']-X_drop_26['Y_WFI_mag'], X_drop_26['i_LSST_mag']-X_drop_26['F_WFI_mag']]\n",
    "X1d = np.array(features1d).transpose()\n",
    "\n",
    "filter1d.fit(X1d, Y_drop_26)"
   ]
  },
  {
   "cell_type": "code",
   "execution_count": 16,
   "id": "fca28121-d872-4228-9802-da3c7acbf73c",
   "metadata": {
    "execution": {
     "iopub.execute_input": "2023-08-22T20:58:55.065948Z",
     "iopub.status.busy": "2023-08-22T20:58:55.065372Z",
     "iopub.status.idle": "2023-08-22T20:58:55.111024Z",
     "shell.execute_reply": "2023-08-22T20:58:55.109772Z",
     "shell.execute_reply.started": "2023-08-22T20:58:55.065890Z"
    }
   },
   "outputs": [
    {
     "data": {
      "text/plain": [
       "KNeighborsClassifier(leaf_size=3, n_neighbors=26, p=3)"
      ]
     },
     "execution_count": 16,
     "metadata": {},
     "output_type": "execute_result"
    }
   ],
   "source": [
    "# 1e\n",
    "# Y - J\n",
    "# J - H\n",
    "# best score: deleted, assume 0.95\n",
    "filter1e = KNeighborsClassifier(algorithm='auto', metric='minkowski', n_neighbors=26, leaf_size=3, weights='uniform', p=3)\n",
    "features1e = [X_drop_26['Y_WFI_mag']-X_drop_26['J_WFI_mag'], X_drop_26['J_WFI_mag']-X_drop_26['H_WFI_mag']]\n",
    "X1e = np.array(features1e).transpose()\n",
    "\n",
    "filter1e.fit(X1e, Y_drop_26)"
   ]
  },
  {
   "cell_type": "code",
   "execution_count": 17,
   "id": "e55e0e79-edd0-4a45-8f2c-0d56df754f31",
   "metadata": {
    "execution": {
     "iopub.execute_input": "2023-08-22T20:58:55.566875Z",
     "iopub.status.busy": "2023-08-22T20:58:55.566319Z",
     "iopub.status.idle": "2023-08-22T20:58:55.622840Z",
     "shell.execute_reply": "2023-08-22T20:58:55.621457Z",
     "shell.execute_reply.started": "2023-08-22T20:58:55.566820Z"
    }
   },
   "outputs": [
    {
     "data": {
      "text/plain": [
       "KNeighborsClassifier(leaf_size=3, n_neighbors=26, p=3)"
      ]
     },
     "execution_count": 17,
     "metadata": {},
     "output_type": "execute_result"
    }
   ],
   "source": [
    "# 1f\n",
    "# x: i - Y\n",
    "# y: J - H\n",
    "# best score:  0.9161036036036035\n",
    "filter1f = KNeighborsClassifier(algorithm='auto', metric='minkowski', n_neighbors=26, leaf_size=3, weights='uniform', p=3)\n",
    "features1f = [X_drop_26['i_LSST_mag']-X_drop_26['Y_WFI_mag'], X_drop_26['J_WFI_mag']-X_drop_26['H_WFI_mag']]\n",
    "X1f = np.array(features1f).transpose()\n",
    "\n",
    "filter1f.fit(X1f, Y_drop_26)"
   ]
  },
  {
   "cell_type": "code",
   "execution_count": null,
   "id": "4fc0328c-5a54-4ac4-b604-148219885d42",
   "metadata": {},
   "outputs": [],
   "source": []
  },
  {
   "cell_type": "markdown",
   "id": "b6e0a3bc-f6fe-4b1e-9b40-fae0fd13ca5d",
   "metadata": {},
   "source": [
    "# Test (J <= 25.5)"
   ]
  },
  {
   "cell_type": "code",
   "execution_count": 64,
   "id": "9e9873bc-d23e-461d-b269-7d1a4023deb8",
   "metadata": {
    "execution": {
     "iopub.execute_input": "2023-08-22T21:16:25.447505Z",
     "iopub.status.busy": "2023-08-22T21:16:25.446846Z",
     "iopub.status.idle": "2023-08-22T21:16:25.517472Z",
     "shell.execute_reply": "2023-08-22T21:16:25.516318Z",
     "shell.execute_reply.started": "2023-08-22T21:16:25.447444Z"
    }
   },
   "outputs": [
    {
     "data": {
      "text/html": [
       "<div>\n",
       "<style scoped>\n",
       "    .dataframe tbody tr th:only-of-type {\n",
       "        vertical-align: middle;\n",
       "    }\n",
       "\n",
       "    .dataframe tbody tr th {\n",
       "        vertical-align: top;\n",
       "    }\n",
       "\n",
       "    .dataframe thead th {\n",
       "        text-align: right;\n",
       "    }\n",
       "</style>\n",
       "<table border=\"1\" class=\"dataframe\">\n",
       "  <thead>\n",
       "    <tr style=\"text-align: right;\">\n",
       "      <th></th>\n",
       "      <th>i_LSST_abmag</th>\n",
       "      <th>z_LSST_abmag</th>\n",
       "      <th>Y_WFI_abmag</th>\n",
       "      <th>J_WFI_abmag</th>\n",
       "      <th>H_WFI_abmag</th>\n",
       "      <th>F_WFI_abmag</th>\n",
       "    </tr>\n",
       "  </thead>\n",
       "  <tbody>\n",
       "    <tr>\n",
       "      <th>count</th>\n",
       "      <td>1148.000000</td>\n",
       "      <td>1148.000000</td>\n",
       "      <td>1148.000000</td>\n",
       "      <td>1148.000000</td>\n",
       "      <td>1148.000000</td>\n",
       "      <td>1148.000000</td>\n",
       "    </tr>\n",
       "    <tr>\n",
       "      <th>mean</th>\n",
       "      <td>28.460931</td>\n",
       "      <td>27.229672</td>\n",
       "      <td>23.628574</td>\n",
       "      <td>23.393529</td>\n",
       "      <td>23.487835</td>\n",
       "      <td>23.391884</td>\n",
       "    </tr>\n",
       "    <tr>\n",
       "      <th>std</th>\n",
       "      <td>1.432419</td>\n",
       "      <td>1.563199</td>\n",
       "      <td>1.322967</td>\n",
       "      <td>1.274028</td>\n",
       "      <td>1.298215</td>\n",
       "      <td>1.310768</td>\n",
       "    </tr>\n",
       "    <tr>\n",
       "      <th>min</th>\n",
       "      <td>23.301932</td>\n",
       "      <td>21.582562</td>\n",
       "      <td>18.962755</td>\n",
       "      <td>18.815153</td>\n",
       "      <td>18.799645</td>\n",
       "      <td>18.621814</td>\n",
       "    </tr>\n",
       "    <tr>\n",
       "      <th>25%</th>\n",
       "      <td>27.664371</td>\n",
       "      <td>26.336379</td>\n",
       "      <td>22.706429</td>\n",
       "      <td>22.489887</td>\n",
       "      <td>22.584211</td>\n",
       "      <td>22.473988</td>\n",
       "    </tr>\n",
       "    <tr>\n",
       "      <th>50%</th>\n",
       "      <td>28.413087</td>\n",
       "      <td>27.238952</td>\n",
       "      <td>23.732590</td>\n",
       "      <td>23.535600</td>\n",
       "      <td>23.616137</td>\n",
       "      <td>23.514534</td>\n",
       "    </tr>\n",
       "    <tr>\n",
       "      <th>75%</th>\n",
       "      <td>29.201439</td>\n",
       "      <td>28.083801</td>\n",
       "      <td>24.641570</td>\n",
       "      <td>24.422242</td>\n",
       "      <td>24.558752</td>\n",
       "      <td>24.462191</td>\n",
       "    </tr>\n",
       "    <tr>\n",
       "      <th>max</th>\n",
       "      <td>36.322512</td>\n",
       "      <td>33.615849</td>\n",
       "      <td>29.746760</td>\n",
       "      <td>25.498570</td>\n",
       "      <td>25.671004</td>\n",
       "      <td>25.823568</td>\n",
       "    </tr>\n",
       "  </tbody>\n",
       "</table>\n",
       "</div>"
      ],
      "text/plain": [
       "       i_LSST_abmag  z_LSST_abmag  Y_WFI_abmag  J_WFI_abmag  H_WFI_abmag  \\\n",
       "count   1148.000000   1148.000000  1148.000000  1148.000000  1148.000000   \n",
       "mean      28.460931     27.229672    23.628574    23.393529    23.487835   \n",
       "std        1.432419      1.563199     1.322967     1.274028     1.298215   \n",
       "min       23.301932     21.582562    18.962755    18.815153    18.799645   \n",
       "25%       27.664371     26.336379    22.706429    22.489887    22.584211   \n",
       "50%       28.413087     27.238952    23.732590    23.535600    23.616137   \n",
       "75%       29.201439     28.083801    24.641570    24.422242    24.558752   \n",
       "max       36.322512     33.615849    29.746760    25.498570    25.671004   \n",
       "\n",
       "       F_WFI_abmag  \n",
       "count  1148.000000  \n",
       "mean     23.391884  \n",
       "std       1.310768  \n",
       "min      18.621814  \n",
       "25%      22.473988  \n",
       "50%      23.514534  \n",
       "75%      24.462191  \n",
       "max      25.823568  "
      ]
     },
     "execution_count": 64,
     "metadata": {},
     "output_type": "execute_result"
    }
   ],
   "source": [
    "# retrieve redshift for later usage\n",
    "qso_test = pd.read_csv('Pq_test_qsoLF_WFI_abmag_wl_2150_J180J255_1130_10r.csv', index_col=False)\n",
    "qso_test = qso_test[['i_LSST_abmag', 'z_LSST_abmag', 'Y_WFI_abmag', 'J_WFI_abmag', 'H_WFI_abmag', 'F_WFI_abmag', 'index']]\n",
    "qso_test = qso_test.replace(99.99, np.nan).dropna()\n",
    "# qso_test = qso_test[(qso_test['z']>7.0)&(qso_test['z']<7.5)]\n",
    "qso_test.describe()"
   ]
  },
  {
   "cell_type": "code",
   "execution_count": 19,
   "id": "3816d798-cf99-4ffc-9e4a-d95a97d4dc25",
   "metadata": {
    "execution": {
     "iopub.execute_input": "2023-08-22T20:59:01.066634Z",
     "iopub.status.busy": "2023-08-22T20:59:01.066026Z",
     "iopub.status.idle": "2023-08-22T20:59:01.079081Z",
     "shell.execute_reply": "2023-08-22T20:59:01.077693Z",
     "shell.execute_reply.started": "2023-08-22T20:59:01.066560Z"
    }
   },
   "outputs": [
    {
     "data": {
      "text/plain": [
       "0           qsoLF-1\n",
       "3       qsoLF-24586\n",
       "4       qsoLF-16397\n",
       "5       qsoLF-16399\n",
       "6       qsoLF-24592\n",
       "           ...     \n",
       "2144    qsoLF-24535\n",
       "2146    qsoLF-24539\n",
       "2147    qsoLF-16362\n",
       "2148    qsoLF-24559\n",
       "2149    qsoLF-24569\n",
       "Name: index, Length: 1148, dtype: object"
      ]
     },
     "execution_count": 19,
     "metadata": {},
     "output_type": "execute_result"
    }
   ],
   "source": [
    "qso_test['index']"
   ]
  },
  {
   "cell_type": "code",
   "execution_count": 21,
   "id": "153522a3-95f1-4bb7-9b48-af7d9df283e6",
   "metadata": {
    "execution": {
     "iopub.execute_input": "2023-08-22T18:24:29.079053Z",
     "iopub.status.busy": "2023-08-22T18:24:29.078482Z",
     "iopub.status.idle": "2023-08-22T18:24:29.089382Z",
     "shell.execute_reply": "2023-08-22T18:24:29.088225Z",
     "shell.execute_reply.started": "2023-08-22T18:24:29.079012Z"
    }
   },
   "outputs": [],
   "source": [
    "'''\n",
    "frac = 1/3\n",
    "\n",
    "# Calculate the number of rows for each sample\n",
    "num_rows = len(qso_test)\n",
    "num_sample1 = int(num_rows * frac)\n",
    "num_sample3 = num_rows - 2*num_sample1\n",
    "\n",
    "# Create three samples\n",
    "qso_sample1 = qso_test.copy().sample(n=num_sample1, replace=False)\n",
    "remaining_rows = qso_test.copy().drop(qso_sample1.index)\n",
    "qso_sample2 = remaining_rows.sample(n=num_sample1, replace=False)\n",
    "qso_sample3 = remaining_rows.drop(qso_sample2.index)\n",
    "'''"
   ]
  },
  {
   "cell_type": "code",
   "execution_count": 65,
   "id": "0ed92083-8a22-4f7f-8b2b-1a606f6ee2d4",
   "metadata": {
    "execution": {
     "iopub.execute_input": "2023-08-22T21:16:38.115726Z",
     "iopub.status.busy": "2023-08-22T21:16:38.115054Z",
     "iopub.status.idle": "2023-08-22T21:16:38.960900Z",
     "shell.execute_reply": "2023-08-22T21:16:38.959680Z",
     "shell.execute_reply.started": "2023-08-22T21:16:38.115665Z"
    }
   },
   "outputs": [
    {
     "name": "stdout",
     "output_type": "stream",
     "text": [
      "galaxies_test_catalog data description: \n"
     ]
    },
    {
     "data": {
      "text/html": [
       "<div>\n",
       "<style scoped>\n",
       "    .dataframe tbody tr th:only-of-type {\n",
       "        vertical-align: middle;\n",
       "    }\n",
       "\n",
       "    .dataframe tbody tr th {\n",
       "        vertical-align: top;\n",
       "    }\n",
       "\n",
       "    .dataframe thead th {\n",
       "        text-align: right;\n",
       "    }\n",
       "</style>\n",
       "<table border=\"1\" class=\"dataframe\">\n",
       "  <thead>\n",
       "    <tr style=\"text-align: right;\">\n",
       "      <th></th>\n",
       "      <th>i_LSST_abmag</th>\n",
       "      <th>z_LSST_abmag</th>\n",
       "      <th>Y_WFI_abmag</th>\n",
       "      <th>J_WFI_abmag</th>\n",
       "      <th>H_WFI_abmag</th>\n",
       "      <th>F_WFI_abmag</th>\n",
       "    </tr>\n",
       "  </thead>\n",
       "  <tbody>\n",
       "    <tr>\n",
       "      <th>count</th>\n",
       "      <td>117134.000000</td>\n",
       "      <td>117134.000000</td>\n",
       "      <td>117134.000000</td>\n",
       "      <td>117134.000000</td>\n",
       "      <td>117134.000000</td>\n",
       "      <td>117134.000000</td>\n",
       "    </tr>\n",
       "    <tr>\n",
       "      <th>mean</th>\n",
       "      <td>28.384277</td>\n",
       "      <td>28.315110</td>\n",
       "      <td>25.967769</td>\n",
       "      <td>25.356192</td>\n",
       "      <td>25.199167</td>\n",
       "      <td>25.095327</td>\n",
       "    </tr>\n",
       "    <tr>\n",
       "      <th>std</th>\n",
       "      <td>5.614861</td>\n",
       "      <td>8.478581</td>\n",
       "      <td>0.212445</td>\n",
       "      <td>0.122627</td>\n",
       "      <td>0.153588</td>\n",
       "      <td>0.177673</td>\n",
       "    </tr>\n",
       "    <tr>\n",
       "      <th>min</th>\n",
       "      <td>27.239676</td>\n",
       "      <td>26.455441</td>\n",
       "      <td>25.033951</td>\n",
       "      <td>24.473455</td>\n",
       "      <td>24.245396</td>\n",
       "      <td>24.038563</td>\n",
       "    </tr>\n",
       "    <tr>\n",
       "      <th>25%</th>\n",
       "      <td>27.668303</td>\n",
       "      <td>26.955836</td>\n",
       "      <td>25.825455</td>\n",
       "      <td>25.295606</td>\n",
       "      <td>25.118218</td>\n",
       "      <td>24.992687</td>\n",
       "    </tr>\n",
       "    <tr>\n",
       "      <th>50%</th>\n",
       "      <td>27.830997</td>\n",
       "      <td>27.171621</td>\n",
       "      <td>25.964540</td>\n",
       "      <td>25.386769</td>\n",
       "      <td>25.223930</td>\n",
       "      <td>25.109707</td>\n",
       "    </tr>\n",
       "    <tr>\n",
       "      <th>75%</th>\n",
       "      <td>28.091566</td>\n",
       "      <td>27.518404</td>\n",
       "      <td>26.099396</td>\n",
       "      <td>25.450164</td>\n",
       "      <td>25.302741</td>\n",
       "      <td>25.212948</td>\n",
       "    </tr>\n",
       "    <tr>\n",
       "      <th>max</th>\n",
       "      <td>99.989998</td>\n",
       "      <td>99.989998</td>\n",
       "      <td>27.625261</td>\n",
       "      <td>25.499998</td>\n",
       "      <td>25.755611</td>\n",
       "      <td>25.780224</td>\n",
       "    </tr>\n",
       "  </tbody>\n",
       "</table>\n",
       "</div>"
      ],
      "text/plain": [
       "        i_LSST_abmag   z_LSST_abmag    Y_WFI_abmag    J_WFI_abmag  \\\n",
       "count  117134.000000  117134.000000  117134.000000  117134.000000   \n",
       "mean       28.384277      28.315110      25.967769      25.356192   \n",
       "std         5.614861       8.478581       0.212445       0.122627   \n",
       "min        27.239676      26.455441      25.033951      24.473455   \n",
       "25%        27.668303      26.955836      25.825455      25.295606   \n",
       "50%        27.830997      27.171621      25.964540      25.386769   \n",
       "75%        28.091566      27.518404      26.099396      25.450164   \n",
       "max        99.989998      99.989998      27.625261      25.499998   \n",
       "\n",
       "         H_WFI_abmag    F_WFI_abmag  \n",
       "count  117134.000000  117134.000000  \n",
       "mean       25.199167      25.095327  \n",
       "std         0.153588       0.177673  \n",
       "min        24.245396      24.038563  \n",
       "25%        25.118218      24.992687  \n",
       "50%        25.223930      25.109707  \n",
       "75%        25.302741      25.212948  \n",
       "max        25.755611      25.780224  "
      ]
     },
     "execution_count": 65,
     "metadata": {},
     "output_type": "execute_result"
    }
   ],
   "source": [
    "galaxies_test = pd.read_csv('Pq_test_etg_WFI_abmag_wl_117134_J180J255_1130_p8.csv', index_col=False)\n",
    "galaxies_test = galaxies_test.replace(99.99, np.nan).dropna()\n",
    "galaxies_test = galaxies_test[['i_LSST_abmag', 'z_LSST_abmag', 'Y_WFI_abmag', 'J_WFI_abmag', 'H_WFI_abmag', 'F_WFI_abmag', 'index']]\n",
    "print('galaxies_test_catalog data description: ')\n",
    "galaxies_test.describe()"
   ]
  },
  {
   "cell_type": "code",
   "execution_count": 23,
   "id": "b6d02b12-9f3f-4086-9062-061d3bb5bd01",
   "metadata": {
    "execution": {
     "iopub.execute_input": "2023-08-22T18:24:29.779764Z",
     "iopub.status.busy": "2023-08-22T18:24:29.779384Z",
     "iopub.status.idle": "2023-08-22T18:24:29.825226Z",
     "shell.execute_reply": "2023-08-22T18:24:29.824062Z",
     "shell.execute_reply.started": "2023-08-22T18:24:29.779726Z"
    }
   },
   "outputs": [],
   "source": [
    "'''\n",
    "num_rows = len(galaxies_test)\n",
    "num_sample1 = int(num_rows * frac)\n",
    "num_sample3 = num_rows - 2*num_sample1\n",
    "\n",
    "gal_sample1 = galaxies_test.copy().sample(n=num_sample1, replace=False)\n",
    "remaining_rows = galaxies_test.copy().drop(gal_sample1.index)\n",
    "gal_sample2 = remaining_rows.sample(n=num_sample1, replace=False)\n",
    "gal_sample3 = remaining_rows.drop(gal_sample2.index)\n",
    "'''"
   ]
  },
  {
   "cell_type": "code",
   "execution_count": 21,
   "id": "6a89ed26-6455-47e1-832c-d3ec85270fe4",
   "metadata": {
    "execution": {
     "iopub.execute_input": "2023-08-22T20:59:13.067129Z",
     "iopub.status.busy": "2023-08-22T20:59:13.066453Z",
     "iopub.status.idle": "2023-08-22T20:59:13.936538Z",
     "shell.execute_reply": "2023-08-22T20:59:13.935339Z",
     "shell.execute_reply.started": "2023-08-22T20:59:13.067068Z"
    }
   },
   "outputs": [
    {
     "name": "stderr",
     "output_type": "stream",
     "text": [
      "<ipython-input-21-7ea86b0d038f>:1: DtypeWarning: Columns (10) have mixed types. Specify dtype option on import or set low_memory=False.\n",
      "  mlt_test = pd.read_csv('Pq_test_mlt_WFI_abmag_wl_169088_J180J255_1130_10r.csv', index_col=False)\n"
     ]
    },
    {
     "name": "stdout",
     "output_type": "stream",
     "text": [
      "mlt_test_catalog data description: \n"
     ]
    },
    {
     "data": {
      "text/html": [
       "<div>\n",
       "<style scoped>\n",
       "    .dataframe tbody tr th:only-of-type {\n",
       "        vertical-align: middle;\n",
       "    }\n",
       "\n",
       "    .dataframe tbody tr th {\n",
       "        vertical-align: top;\n",
       "    }\n",
       "\n",
       "    .dataframe thead th {\n",
       "        text-align: right;\n",
       "    }\n",
       "</style>\n",
       "<table border=\"1\" class=\"dataframe\">\n",
       "  <thead>\n",
       "    <tr style=\"text-align: right;\">\n",
       "      <th></th>\n",
       "      <th>i_LSST_abmag</th>\n",
       "      <th>z_LSST_abmag</th>\n",
       "      <th>Y_WFI_abmag</th>\n",
       "      <th>J_WFI_abmag</th>\n",
       "      <th>H_WFI_abmag</th>\n",
       "      <th>F_WFI_abmag</th>\n",
       "    </tr>\n",
       "  </thead>\n",
       "  <tbody>\n",
       "    <tr>\n",
       "      <th>count</th>\n",
       "      <td>120463.000000</td>\n",
       "      <td>120463.000000</td>\n",
       "      <td>120463.000000</td>\n",
       "      <td>120463.000000</td>\n",
       "      <td>120463.000000</td>\n",
       "      <td>120463.000000</td>\n",
       "    </tr>\n",
       "    <tr>\n",
       "      <th>mean</th>\n",
       "      <td>28.704501</td>\n",
       "      <td>27.725022</td>\n",
       "      <td>25.840688</td>\n",
       "      <td>25.093683</td>\n",
       "      <td>24.964679</td>\n",
       "      <td>25.033263</td>\n",
       "    </tr>\n",
       "    <tr>\n",
       "      <th>std</th>\n",
       "      <td>0.995926</td>\n",
       "      <td>1.034333</td>\n",
       "      <td>0.744017</td>\n",
       "      <td>0.650682</td>\n",
       "      <td>0.652236</td>\n",
       "      <td>0.673534</td>\n",
       "    </tr>\n",
       "    <tr>\n",
       "      <th>min</th>\n",
       "      <td>26.272934</td>\n",
       "      <td>24.359013</td>\n",
       "      <td>22.696255</td>\n",
       "      <td>22.418217</td>\n",
       "      <td>22.249900</td>\n",
       "      <td>22.039747</td>\n",
       "    </tr>\n",
       "    <tr>\n",
       "      <th>25%</th>\n",
       "      <td>28.016150</td>\n",
       "      <td>27.065029</td>\n",
       "      <td>25.327402</td>\n",
       "      <td>24.613920</td>\n",
       "      <td>24.472123</td>\n",
       "      <td>24.534151</td>\n",
       "    </tr>\n",
       "    <tr>\n",
       "      <th>50%</th>\n",
       "      <td>28.451029</td>\n",
       "      <td>27.505705</td>\n",
       "      <td>25.800484</td>\n",
       "      <td>25.066631</td>\n",
       "      <td>24.937490</td>\n",
       "      <td>25.026592</td>\n",
       "    </tr>\n",
       "    <tr>\n",
       "      <th>75%</th>\n",
       "      <td>29.099374</td>\n",
       "      <td>28.144439</td>\n",
       "      <td>26.320127</td>\n",
       "      <td>25.566927</td>\n",
       "      <td>25.463907</td>\n",
       "      <td>25.563653</td>\n",
       "    </tr>\n",
       "    <tr>\n",
       "      <th>max</th>\n",
       "      <td>40.153675</td>\n",
       "      <td>39.582844</td>\n",
       "      <td>31.436483</td>\n",
       "      <td>27.054768</td>\n",
       "      <td>26.684883</td>\n",
       "      <td>26.613080</td>\n",
       "    </tr>\n",
       "  </tbody>\n",
       "</table>\n",
       "</div>"
      ],
      "text/plain": [
       "        i_LSST_abmag   z_LSST_abmag    Y_WFI_abmag    J_WFI_abmag  \\\n",
       "count  120463.000000  120463.000000  120463.000000  120463.000000   \n",
       "mean       28.704501      27.725022      25.840688      25.093683   \n",
       "std         0.995926       1.034333       0.744017       0.650682   \n",
       "min        26.272934      24.359013      22.696255      22.418217   \n",
       "25%        28.016150      27.065029      25.327402      24.613920   \n",
       "50%        28.451029      27.505705      25.800484      25.066631   \n",
       "75%        29.099374      28.144439      26.320127      25.566927   \n",
       "max        40.153675      39.582844      31.436483      27.054768   \n",
       "\n",
       "         H_WFI_abmag    F_WFI_abmag  \n",
       "count  120463.000000  120463.000000  \n",
       "mean       24.964679      25.033263  \n",
       "std         0.652236       0.673534  \n",
       "min        22.249900      22.039747  \n",
       "25%        24.472123      24.534151  \n",
       "50%        24.937490      25.026592  \n",
       "75%        25.463907      25.563653  \n",
       "max        26.684883      26.613080  "
      ]
     },
     "execution_count": 21,
     "metadata": {},
     "output_type": "execute_result"
    }
   ],
   "source": [
    "mlt_test = pd.read_csv('Pq_test_mlt_WFI_abmag_wl_169088_J180J255_1130_10r.csv', index_col=False)\n",
    "mlt_test = mlt_test.replace(99.989998, np.nan).dropna()\n",
    "mlt_test = mlt_test[['i_LSST_abmag', 'z_LSST_abmag', 'Y_WFI_abmag', 'J_WFI_abmag', 'H_WFI_abmag', 'F_WFI_abmag', 'index']]\n",
    "print('mlt_test_catalog data description: ')\n",
    "mlt_test.describe()"
   ]
  },
  {
   "cell_type": "code",
   "execution_count": 25,
   "id": "551b3e61-c4d3-4100-8b9e-4c6de1dc3faf",
   "metadata": {
    "execution": {
     "iopub.execute_input": "2023-08-22T18:24:30.533483Z",
     "iopub.status.busy": "2023-08-22T18:24:30.533249Z",
     "iopub.status.idle": "2023-08-22T18:24:30.580651Z",
     "shell.execute_reply": "2023-08-22T18:24:30.579369Z",
     "shell.execute_reply.started": "2023-08-22T18:24:30.533458Z"
    }
   },
   "outputs": [],
   "source": [
    "'''\n",
    "num_rows = len(mlt_test)\n",
    "num_sample1 = int(num_rows * frac)\n",
    "num_sample3 = num_rows - 2*num_sample1\n",
    "\n",
    "mlt_sample1 = mlt_test.copy().sample(n=num_sample1, replace=False)\n",
    "remaining_rows = mlt_test.copy().drop(mlt_sample1.index)\n",
    "mlt_sample2 = remaining_rows.sample(n=num_sample1, replace=False)\n",
    "mlt_sample3 = remaining_rows.drop(mlt_sample2.index)\n",
    "'''"
   ]
  },
  {
   "cell_type": "code",
   "execution_count": 133,
   "id": "f5a4ad7a-bd68-4977-b908-44ac5b3b3b6c",
   "metadata": {
    "execution": {
     "iopub.execute_input": "2023-08-22T19:26:58.068469Z",
     "iopub.status.busy": "2023-08-22T19:26:58.067808Z",
     "iopub.status.idle": "2023-08-22T19:26:58.102533Z",
     "shell.execute_reply": "2023-08-22T19:26:58.101059Z",
     "shell.execute_reply.started": "2023-08-22T19:26:58.068407Z"
    }
   },
   "outputs": [],
   "source": [
    "'''\n",
    "test1 = pd.concat([qso_sample1, gal_sample1, mlt_sample1], ignore_index=True)\n",
    "test2 = pd.concat([qso_sample2, gal_sample2, mlt_sample2], ignore_index=True)\n",
    "test3 = pd.concat([qso_sample3, gal_sample3, mlt_sample3], ignore_index=True)\n",
    "'''"
   ]
  },
  {
   "cell_type": "code",
   "execution_count": 22,
   "id": "86fc32e1-8100-4085-b9bb-f12fe685505d",
   "metadata": {
    "execution": {
     "iopub.execute_input": "2023-08-22T20:59:17.277640Z",
     "iopub.status.busy": "2023-08-22T20:59:17.276994Z",
     "iopub.status.idle": "2023-08-22T20:59:17.301928Z",
     "shell.execute_reply": "2023-08-22T20:59:17.300211Z",
     "shell.execute_reply.started": "2023-08-22T20:59:17.277569Z"
    }
   },
   "outputs": [],
   "source": [
    "test1 = pd.concat([qso_test, mlt_test, galaxies_test], ignore_index=True)"
   ]
  },
  {
   "cell_type": "code",
   "execution_count": 23,
   "id": "5d4b5b5d-c387-4f38-ad19-0c389efc0d23",
   "metadata": {
    "execution": {
     "iopub.execute_input": "2023-08-22T20:59:18.064992Z",
     "iopub.status.busy": "2023-08-22T20:59:18.064393Z",
     "iopub.status.idle": "2023-08-22T20:59:18.176627Z",
     "shell.execute_reply": "2023-08-22T20:59:18.175404Z",
     "shell.execute_reply.started": "2023-08-22T20:59:18.064934Z"
    }
   },
   "outputs": [
    {
     "data": {
      "text/html": [
       "<div>\n",
       "<style scoped>\n",
       "    .dataframe tbody tr th:only-of-type {\n",
       "        vertical-align: middle;\n",
       "    }\n",
       "\n",
       "    .dataframe tbody tr th {\n",
       "        vertical-align: top;\n",
       "    }\n",
       "\n",
       "    .dataframe thead th {\n",
       "        text-align: right;\n",
       "    }\n",
       "</style>\n",
       "<table border=\"1\" class=\"dataframe\">\n",
       "  <thead>\n",
       "    <tr style=\"text-align: right;\">\n",
       "      <th></th>\n",
       "      <th>i_LSST_abmag</th>\n",
       "      <th>z_LSST_abmag</th>\n",
       "      <th>Y_WFI_abmag</th>\n",
       "      <th>J_WFI_abmag</th>\n",
       "      <th>H_WFI_abmag</th>\n",
       "      <th>F_WFI_abmag</th>\n",
       "    </tr>\n",
       "  </thead>\n",
       "  <tbody>\n",
       "    <tr>\n",
       "      <th>count</th>\n",
       "      <td>238745.000000</td>\n",
       "      <td>238745.000000</td>\n",
       "      <td>238745.000000</td>\n",
       "      <td>238745.000000</td>\n",
       "      <td>238745.000000</td>\n",
       "      <td>238745.000000</td>\n",
       "    </tr>\n",
       "    <tr>\n",
       "      <th>mean</th>\n",
       "      <td>28.546220</td>\n",
       "      <td>28.012151</td>\n",
       "      <td>25.892400</td>\n",
       "      <td>25.214301</td>\n",
       "      <td>25.072623</td>\n",
       "      <td>25.055821</td>\n",
       "    </tr>\n",
       "    <tr>\n",
       "      <th>std</th>\n",
       "      <td>4.000441</td>\n",
       "      <td>5.992505</td>\n",
       "      <td>0.581927</td>\n",
       "      <td>0.511822</td>\n",
       "      <td>0.510030</td>\n",
       "      <td>0.516694</td>\n",
       "    </tr>\n",
       "    <tr>\n",
       "      <th>min</th>\n",
       "      <td>23.301932</td>\n",
       "      <td>21.582562</td>\n",
       "      <td>18.962755</td>\n",
       "      <td>18.815153</td>\n",
       "      <td>18.799645</td>\n",
       "      <td>18.621814</td>\n",
       "    </tr>\n",
       "    <tr>\n",
       "      <th>25%</th>\n",
       "      <td>27.763708</td>\n",
       "      <td>26.990353</td>\n",
       "      <td>25.660093</td>\n",
       "      <td>25.011663</td>\n",
       "      <td>24.858270</td>\n",
       "      <td>24.842897</td>\n",
       "    </tr>\n",
       "    <tr>\n",
       "      <th>50%</th>\n",
       "      <td>28.060974</td>\n",
       "      <td>27.300579</td>\n",
       "      <td>25.926805</td>\n",
       "      <td>25.336714</td>\n",
       "      <td>25.177433</td>\n",
       "      <td>25.094006</td>\n",
       "    </tr>\n",
       "    <tr>\n",
       "      <th>75%</th>\n",
       "      <td>28.616573</td>\n",
       "      <td>27.828409</td>\n",
       "      <td>26.150589</td>\n",
       "      <td>25.460426</td>\n",
       "      <td>25.323307</td>\n",
       "      <td>25.284620</td>\n",
       "    </tr>\n",
       "    <tr>\n",
       "      <th>max</th>\n",
       "      <td>99.989998</td>\n",
       "      <td>99.989998</td>\n",
       "      <td>31.436483</td>\n",
       "      <td>27.054768</td>\n",
       "      <td>26.684883</td>\n",
       "      <td>26.613080</td>\n",
       "    </tr>\n",
       "  </tbody>\n",
       "</table>\n",
       "</div>"
      ],
      "text/plain": [
       "        i_LSST_abmag   z_LSST_abmag    Y_WFI_abmag    J_WFI_abmag  \\\n",
       "count  238745.000000  238745.000000  238745.000000  238745.000000   \n",
       "mean       28.546220      28.012151      25.892400      25.214301   \n",
       "std         4.000441       5.992505       0.581927       0.511822   \n",
       "min        23.301932      21.582562      18.962755      18.815153   \n",
       "25%        27.763708      26.990353      25.660093      25.011663   \n",
       "50%        28.060974      27.300579      25.926805      25.336714   \n",
       "75%        28.616573      27.828409      26.150589      25.460426   \n",
       "max        99.989998      99.989998      31.436483      27.054768   \n",
       "\n",
       "         H_WFI_abmag    F_WFI_abmag  \n",
       "count  238745.000000  238745.000000  \n",
       "mean       25.072623      25.055821  \n",
       "std         0.510030       0.516694  \n",
       "min        18.799645      18.621814  \n",
       "25%        24.858270      24.842897  \n",
       "50%        25.177433      25.094006  \n",
       "75%        25.323307      25.284620  \n",
       "max        26.684883      26.613080  "
      ]
     },
     "execution_count": 23,
     "metadata": {},
     "output_type": "execute_result"
    }
   ],
   "source": [
    "test1.describe()"
   ]
  },
  {
   "cell_type": "markdown",
   "id": "7f5ecfd2-cd8d-46dd-8e55-1781ddc2ab8f",
   "metadata": {},
   "source": [
    "## test1"
   ]
  },
  {
   "cell_type": "code",
   "execution_count": 24,
   "id": "049a1048-273c-4c25-bacc-0212cf2e9328",
   "metadata": {
    "execution": {
     "iopub.execute_input": "2023-08-22T21:00:00.433889Z",
     "iopub.status.busy": "2023-08-22T21:00:00.433224Z",
     "iopub.status.idle": "2023-08-22T21:00:00.470362Z",
     "shell.execute_reply": "2023-08-22T21:00:00.468891Z",
     "shell.execute_reply.started": "2023-08-22T21:00:00.433829Z"
    }
   },
   "outputs": [
    {
     "data": {
      "text/plain": [
       "\"\\ntest1_copy = test1_copy[test1_copy['z_LSST_abmag']<26.0]\\ntest1_copy.describe()\\n\""
      ]
     },
     "execution_count": 24,
     "metadata": {},
     "output_type": "execute_result"
    }
   ],
   "source": [
    "test1_copy = test1.copy().drop(columns=['index'])\n",
    "'''\n",
    "test1_copy = test1_copy[test1_copy['z_LSST_abmag']<26.0]\n",
    "test1_copy.describe()\n",
    "'''"
   ]
  },
  {
   "cell_type": "code",
   "execution_count": 25,
   "id": "2d817d00-a171-4e0b-a820-7bd9d8983b4c",
   "metadata": {
    "execution": {
     "iopub.execute_input": "2023-08-22T21:00:01.376435Z",
     "iopub.status.busy": "2023-08-22T21:00:01.375890Z",
     "iopub.status.idle": "2023-08-22T21:00:04.899938Z",
     "shell.execute_reply": "2023-08-22T21:00:04.898628Z",
     "shell.execute_reply.started": "2023-08-22T21:00:01.376382Z"
    }
   },
   "outputs": [
    {
     "name": "stdout",
     "output_type": "stream",
     "text": [
      "prediction okay\n"
     ]
    }
   ],
   "source": [
    "# x: z - J\n",
    "# y: Y - H\n",
    "testf_1a = [test1_copy['z_LSST_abmag']-test1_copy['J_WFI_abmag'], test1_copy['Y_WFI_abmag']-test1_copy['H_WFI_abmag']]\n",
    "prob_1a = filter1a.predict_proba(np.array(testf_1a).transpose())\n",
    "print('prediction okay')\n",
    "# prob_1a: [prob of negative class, prob of positive class]\n",
    "test1_copy['prob_1a'] = prob_1a[:, 1]"
   ]
  },
  {
   "cell_type": "code",
   "execution_count": 26,
   "id": "96a3a699-5cf5-4d7b-81d0-ba89c20239f7",
   "metadata": {
    "execution": {
     "iopub.execute_input": "2023-08-22T21:00:07.068293Z",
     "iopub.status.busy": "2023-08-22T21:00:07.067658Z",
     "iopub.status.idle": "2023-08-22T21:00:10.741452Z",
     "shell.execute_reply": "2023-08-22T21:00:10.739969Z",
     "shell.execute_reply.started": "2023-08-22T21:00:07.068236Z"
    }
   },
   "outputs": [],
   "source": [
    "# x: Y - H \n",
    "# y: i - H\n",
    "\n",
    "prob_1b = filter1b.predict_proba(np.array([test1_copy['Y_WFI_abmag']-test1_copy['H_WFI_abmag'], test1_copy['i_LSST_abmag']-test1_copy['H_WFI_abmag']]).transpose())\n",
    "\n",
    "test1_copy['prob_1b'] = prob_1b[:, 1]"
   ]
  },
  {
   "cell_type": "code",
   "execution_count": 27,
   "id": "2372d46a-800e-49ef-8687-ce78d4faa319",
   "metadata": {
    "execution": {
     "iopub.execute_input": "2023-08-22T21:00:10.743123Z",
     "iopub.status.busy": "2023-08-22T21:00:10.742905Z",
     "iopub.status.idle": "2023-08-22T21:00:17.869520Z",
     "shell.execute_reply": "2023-08-22T21:00:17.868243Z",
     "shell.execute_reply.started": "2023-08-22T21:00:10.743100Z"
    }
   },
   "outputs": [],
   "source": [
    "# x: z - H\n",
    "# y: J - H\n",
    "\n",
    "prob_1c = filter1c.predict_proba(np.array([test1_copy['z_LSST_abmag']-test1_copy['H_WFI_abmag'], test1_copy['J_WFI_abmag']-test1_copy['H_WFI_abmag']]).transpose())\n",
    "\n",
    "test1_copy['prob_1c'] = prob_1c[:, 1]"
   ]
  },
  {
   "cell_type": "code",
   "execution_count": 28,
   "id": "5be668fd-c218-4313-89cf-19c1524d70fa",
   "metadata": {
    "execution": {
     "iopub.execute_input": "2023-08-22T21:00:17.871506Z",
     "iopub.status.busy": "2023-08-22T21:00:17.871287Z",
     "iopub.status.idle": "2023-08-22T21:00:28.636363Z",
     "shell.execute_reply": "2023-08-22T21:00:28.635093Z",
     "shell.execute_reply.started": "2023-08-22T21:00:17.871483Z"
    }
   },
   "outputs": [],
   "source": [
    "# x: z - Y\n",
    "# y: i - Y\n",
    "\n",
    "prob_1d = filter1d.predict_proba(np.array([test1_copy['z_LSST_abmag']-test1_copy['Y_WFI_abmag'], test1_copy['i_LSST_abmag']-test1_copy['Y_WFI_abmag']]).transpose())\n",
    "\n",
    "test1_copy['prob_1d'] = prob_1d[:, 1]"
   ]
  },
  {
   "cell_type": "code",
   "execution_count": 29,
   "id": "118f8a89-685b-4552-ab6b-8b901c1ef999",
   "metadata": {
    "execution": {
     "iopub.execute_input": "2023-08-22T21:00:28.638109Z",
     "iopub.status.busy": "2023-08-22T21:00:28.637886Z",
     "iopub.status.idle": "2023-08-22T21:00:34.014959Z",
     "shell.execute_reply": "2023-08-22T21:00:34.013719Z",
     "shell.execute_reply.started": "2023-08-22T21:00:28.638085Z"
    }
   },
   "outputs": [],
   "source": [
    "# x: Y - J\n",
    "# y: J - H\n",
    "\n",
    "prob_1e = filter1e.predict_proba(np.array([test1_copy['Y_WFI_abmag']-test1_copy['J_WFI_abmag'], test1_copy['J_WFI_abmag']-test1_copy['H_WFI_abmag']]).transpose())\n",
    "\n",
    "test1_copy['prob_1e'] = prob_1e[:, 1]"
   ]
  },
  {
   "cell_type": "code",
   "execution_count": 30,
   "id": "a6f20b79-d34e-4d02-bf87-85de754f5e6c",
   "metadata": {
    "execution": {
     "iopub.execute_input": "2023-08-22T21:00:34.016323Z",
     "iopub.status.busy": "2023-08-22T21:00:34.016107Z",
     "iopub.status.idle": "2023-08-22T21:00:39.450954Z",
     "shell.execute_reply": "2023-08-22T21:00:39.449673Z",
     "shell.execute_reply.started": "2023-08-22T21:00:34.016300Z"
    }
   },
   "outputs": [],
   "source": [
    "# x: i - Y\n",
    "# y: J - H\n",
    "\n",
    "prob_1f = filter1f.predict_proba(np.array([test1_copy['i_LSST_abmag']-test1_copy['Y_WFI_abmag'], test1_copy['J_WFI_abmag']-test1_copy['H_WFI_abmag']]).transpose())\n",
    "\n",
    "test1_copy['prob_1f'] = prob_1f[:, 1]"
   ]
  },
  {
   "cell_type": "code",
   "execution_count": null,
   "id": "b573773a-591d-4905-87fd-90db4d769de5",
   "metadata": {},
   "outputs": [],
   "source": []
  },
  {
   "cell_type": "code",
   "execution_count": 31,
   "id": "1086e43e-f4c2-4873-950a-128fac711642",
   "metadata": {
    "execution": {
     "iopub.execute_input": "2023-08-22T21:00:39.452319Z",
     "iopub.status.busy": "2023-08-22T21:00:39.452100Z",
     "iopub.status.idle": "2023-08-22T21:00:39.498303Z",
     "shell.execute_reply": "2023-08-22T21:00:39.496994Z",
     "shell.execute_reply.started": "2023-08-22T21:00:39.452296Z"
    }
   },
   "outputs": [
    {
     "name": "stdout",
     "output_type": "stream",
     "text": [
      "(238745,)\n"
     ]
    }
   ],
   "source": [
    "# use best scores as weights:\n",
    "weights = [0.9882, 0.9938, 0.9463, 0.9678, 0.95, 0.9161]\n",
    "probabilities = test1_copy[['prob_1a', 'prob_1b', 'prob_1c', 'prob_1d', 'prob_1e', 'prob_1f']]\n",
    "cols = ['prob_1a', 'prob_1b', 'prob_1c', 'prob_1d', 'prob_1e', 'prob_1f']\n",
    "\n",
    "wprob = np.zeros(len(probabilities['prob_1a']))\n",
    "for i in range(len(weights)):\n",
    "    sum_weights = sum(weights)\n",
    "    wprob += weights[i]*probabilities[cols[i]]/sum_weights\n",
    "\n",
    "print(wprob.shape)"
   ]
  },
  {
   "cell_type": "code",
   "execution_count": 32,
   "id": "028cbaa2-050e-4275-ae23-225e705b9e73",
   "metadata": {
    "execution": {
     "iopub.execute_input": "2023-08-22T21:00:39.499772Z",
     "iopub.status.busy": "2023-08-22T21:00:39.499523Z",
     "iopub.status.idle": "2023-08-22T21:00:39.518332Z",
     "shell.execute_reply": "2023-08-22T21:00:39.517353Z",
     "shell.execute_reply.started": "2023-08-22T21:00:39.499747Z"
    }
   },
   "outputs": [
    {
     "data": {
      "text/html": [
       "<div>\n",
       "<style scoped>\n",
       "    .dataframe tbody tr th:only-of-type {\n",
       "        vertical-align: middle;\n",
       "    }\n",
       "\n",
       "    .dataframe tbody tr th {\n",
       "        vertical-align: top;\n",
       "    }\n",
       "\n",
       "    .dataframe thead th {\n",
       "        text-align: right;\n",
       "    }\n",
       "</style>\n",
       "<table border=\"1\" class=\"dataframe\">\n",
       "  <thead>\n",
       "    <tr style=\"text-align: right;\">\n",
       "      <th></th>\n",
       "      <th>i_LSST_abmag</th>\n",
       "      <th>z_LSST_abmag</th>\n",
       "      <th>Y_WFI_abmag</th>\n",
       "      <th>J_WFI_abmag</th>\n",
       "      <th>H_WFI_abmag</th>\n",
       "      <th>F_WFI_abmag</th>\n",
       "      <th>prob_1a</th>\n",
       "      <th>prob_1b</th>\n",
       "      <th>prob_1c</th>\n",
       "      <th>prob_1d</th>\n",
       "      <th>prob_1e</th>\n",
       "      <th>prob_1f</th>\n",
       "      <th>weighted prob</th>\n",
       "    </tr>\n",
       "  </thead>\n",
       "  <tbody>\n",
       "    <tr>\n",
       "      <th>0</th>\n",
       "      <td>30.246452</td>\n",
       "      <td>32.650390</td>\n",
       "      <td>24.245616</td>\n",
       "      <td>24.307675</td>\n",
       "      <td>24.446622</td>\n",
       "      <td>24.450786</td>\n",
       "      <td>1.0</td>\n",
       "      <td>1.0</td>\n",
       "      <td>1.000000</td>\n",
       "      <td>1.000000</td>\n",
       "      <td>1.000000</td>\n",
       "      <td>1.0</td>\n",
       "      <td>1.000000</td>\n",
       "    </tr>\n",
       "    <tr>\n",
       "      <th>1</th>\n",
       "      <td>27.659629</td>\n",
       "      <td>27.579103</td>\n",
       "      <td>23.129916</td>\n",
       "      <td>23.080119</td>\n",
       "      <td>23.222229</td>\n",
       "      <td>23.149084</td>\n",
       "      <td>1.0</td>\n",
       "      <td>1.0</td>\n",
       "      <td>1.000000</td>\n",
       "      <td>1.000000</td>\n",
       "      <td>1.000000</td>\n",
       "      <td>1.0</td>\n",
       "      <td>1.000000</td>\n",
       "    </tr>\n",
       "    <tr>\n",
       "      <th>2</th>\n",
       "      <td>28.805321</td>\n",
       "      <td>29.721087</td>\n",
       "      <td>24.914680</td>\n",
       "      <td>24.221812</td>\n",
       "      <td>24.357684</td>\n",
       "      <td>24.476417</td>\n",
       "      <td>1.0</td>\n",
       "      <td>0.0</td>\n",
       "      <td>1.000000</td>\n",
       "      <td>1.000000</td>\n",
       "      <td>0.000000</td>\n",
       "      <td>1.0</td>\n",
       "      <td>0.662664</td>\n",
       "    </tr>\n",
       "    <tr>\n",
       "      <th>3</th>\n",
       "      <td>28.179722</td>\n",
       "      <td>26.260094</td>\n",
       "      <td>24.276250</td>\n",
       "      <td>24.418209</td>\n",
       "      <td>24.693506</td>\n",
       "      <td>24.573435</td>\n",
       "      <td>1.0</td>\n",
       "      <td>1.0</td>\n",
       "      <td>0.722222</td>\n",
       "      <td>0.266667</td>\n",
       "      <td>0.923077</td>\n",
       "      <td>1.0</td>\n",
       "      <td>0.818531</td>\n",
       "    </tr>\n",
       "    <tr>\n",
       "      <th>4</th>\n",
       "      <td>27.255865</td>\n",
       "      <td>26.681885</td>\n",
       "      <td>22.346594</td>\n",
       "      <td>22.294956</td>\n",
       "      <td>22.421199</td>\n",
       "      <td>22.288087</td>\n",
       "      <td>1.0</td>\n",
       "      <td>1.0</td>\n",
       "      <td>1.000000</td>\n",
       "      <td>1.000000</td>\n",
       "      <td>1.000000</td>\n",
       "      <td>1.0</td>\n",
       "      <td>1.000000</td>\n",
       "    </tr>\n",
       "  </tbody>\n",
       "</table>\n",
       "</div>"
      ],
      "text/plain": [
       "   i_LSST_abmag  z_LSST_abmag  Y_WFI_abmag  J_WFI_abmag  H_WFI_abmag  \\\n",
       "0     30.246452     32.650390    24.245616    24.307675    24.446622   \n",
       "1     27.659629     27.579103    23.129916    23.080119    23.222229   \n",
       "2     28.805321     29.721087    24.914680    24.221812    24.357684   \n",
       "3     28.179722     26.260094    24.276250    24.418209    24.693506   \n",
       "4     27.255865     26.681885    22.346594    22.294956    22.421199   \n",
       "\n",
       "   F_WFI_abmag  prob_1a  prob_1b   prob_1c   prob_1d   prob_1e  prob_1f  \\\n",
       "0    24.450786      1.0      1.0  1.000000  1.000000  1.000000      1.0   \n",
       "1    23.149084      1.0      1.0  1.000000  1.000000  1.000000      1.0   \n",
       "2    24.476417      1.0      0.0  1.000000  1.000000  0.000000      1.0   \n",
       "3    24.573435      1.0      1.0  0.722222  0.266667  0.923077      1.0   \n",
       "4    22.288087      1.0      1.0  1.000000  1.000000  1.000000      1.0   \n",
       "\n",
       "   weighted prob  \n",
       "0       1.000000  \n",
       "1       1.000000  \n",
       "2       0.662664  \n",
       "3       0.818531  \n",
       "4       1.000000  "
      ]
     },
     "execution_count": 32,
     "metadata": {},
     "output_type": "execute_result"
    }
   ],
   "source": [
    "test1_copy['weighted prob'] = wprob\n",
    "test1_copy.head()"
   ]
  },
  {
   "cell_type": "code",
   "execution_count": 33,
   "id": "315e0c2e-c054-4083-a9f4-19abaad5ff38",
   "metadata": {
    "execution": {
     "iopub.execute_input": "2023-08-22T21:03:43.665814Z",
     "iopub.status.busy": "2023-08-22T21:03:43.665175Z",
     "iopub.status.idle": "2023-08-22T21:03:43.789266Z",
     "shell.execute_reply": "2023-08-22T21:03:43.788264Z",
     "shell.execute_reply.started": "2023-08-22T21:03:43.665758Z"
    }
   },
   "outputs": [
    {
     "data": {
      "text/html": [
       "<div>\n",
       "<style scoped>\n",
       "    .dataframe tbody tr th:only-of-type {\n",
       "        vertical-align: middle;\n",
       "    }\n",
       "\n",
       "    .dataframe tbody tr th {\n",
       "        vertical-align: top;\n",
       "    }\n",
       "\n",
       "    .dataframe thead th {\n",
       "        text-align: right;\n",
       "    }\n",
       "</style>\n",
       "<table border=\"1\" class=\"dataframe\">\n",
       "  <thead>\n",
       "    <tr style=\"text-align: right;\">\n",
       "      <th></th>\n",
       "      <th>i_LSST_abmag</th>\n",
       "      <th>z_LSST_abmag</th>\n",
       "      <th>Y_WFI_abmag</th>\n",
       "      <th>J_WFI_abmag</th>\n",
       "      <th>H_WFI_abmag</th>\n",
       "      <th>F_WFI_abmag</th>\n",
       "      <th>prob_1a</th>\n",
       "      <th>prob_1b</th>\n",
       "      <th>prob_1c</th>\n",
       "      <th>prob_1d</th>\n",
       "      <th>prob_1e</th>\n",
       "      <th>prob_1f</th>\n",
       "      <th>weighted prob</th>\n",
       "    </tr>\n",
       "  </thead>\n",
       "  <tbody>\n",
       "    <tr>\n",
       "      <th>count</th>\n",
       "      <td>5665.000000</td>\n",
       "      <td>5665.000000</td>\n",
       "      <td>5665.000000</td>\n",
       "      <td>5665.000000</td>\n",
       "      <td>5665.000000</td>\n",
       "      <td>5665.000000</td>\n",
       "      <td>5665.000000</td>\n",
       "      <td>5665.000000</td>\n",
       "      <td>5665.000000</td>\n",
       "      <td>5665.000000</td>\n",
       "      <td>5665.000000</td>\n",
       "      <td>5665.000000</td>\n",
       "      <td>5665.000000</td>\n",
       "    </tr>\n",
       "    <tr>\n",
       "      <th>mean</th>\n",
       "      <td>30.357962</td>\n",
       "      <td>30.164436</td>\n",
       "      <td>25.364501</td>\n",
       "      <td>24.857262</td>\n",
       "      <td>24.903971</td>\n",
       "      <td>24.935196</td>\n",
       "      <td>0.957865</td>\n",
       "      <td>0.476882</td>\n",
       "      <td>0.936388</td>\n",
       "      <td>0.834508</td>\n",
       "      <td>0.327571</td>\n",
       "      <td>0.844205</td>\n",
       "      <td>0.728680</td>\n",
       "    </tr>\n",
       "    <tr>\n",
       "      <th>std</th>\n",
       "      <td>8.425382</td>\n",
       "      <td>10.006280</td>\n",
       "      <td>1.155087</td>\n",
       "      <td>1.049344</td>\n",
       "      <td>1.051487</td>\n",
       "      <td>1.093268</td>\n",
       "      <td>0.153286</td>\n",
       "      <td>0.454033</td>\n",
       "      <td>0.159691</td>\n",
       "      <td>0.307250</td>\n",
       "      <td>0.384005</td>\n",
       "      <td>0.186811</td>\n",
       "      <td>0.123558</td>\n",
       "    </tr>\n",
       "    <tr>\n",
       "      <th>min</th>\n",
       "      <td>23.301932</td>\n",
       "      <td>21.582562</td>\n",
       "      <td>18.962755</td>\n",
       "      <td>18.815153</td>\n",
       "      <td>18.799645</td>\n",
       "      <td>18.621814</td>\n",
       "      <td>0.000000</td>\n",
       "      <td>0.000000</td>\n",
       "      <td>0.000000</td>\n",
       "      <td>0.000000</td>\n",
       "      <td>0.000000</td>\n",
       "      <td>0.000000</td>\n",
       "      <td>0.600166</td>\n",
       "    </tr>\n",
       "    <tr>\n",
       "      <th>25%</th>\n",
       "      <td>28.284126</td>\n",
       "      <td>27.778960</td>\n",
       "      <td>25.082139</td>\n",
       "      <td>24.528503</td>\n",
       "      <td>24.548642</td>\n",
       "      <td>24.599189</td>\n",
       "      <td>1.000000</td>\n",
       "      <td>0.000000</td>\n",
       "      <td>0.972222</td>\n",
       "      <td>0.866667</td>\n",
       "      <td>0.000000</td>\n",
       "      <td>0.730769</td>\n",
       "      <td>0.632375</td>\n",
       "    </tr>\n",
       "    <tr>\n",
       "      <th>50%</th>\n",
       "      <td>29.152302</td>\n",
       "      <td>28.781720</td>\n",
       "      <td>25.670553</td>\n",
       "      <td>25.095440</td>\n",
       "      <td>25.127102</td>\n",
       "      <td>25.185696</td>\n",
       "      <td>1.000000</td>\n",
       "      <td>0.384615</td>\n",
       "      <td>1.000000</td>\n",
       "      <td>1.000000</td>\n",
       "      <td>0.115385</td>\n",
       "      <td>0.923077</td>\n",
       "      <td>0.669816</td>\n",
       "    </tr>\n",
       "    <tr>\n",
       "      <th>75%</th>\n",
       "      <td>30.292555</td>\n",
       "      <td>29.754889</td>\n",
       "      <td>26.072832</td>\n",
       "      <td>25.498570</td>\n",
       "      <td>25.572359</td>\n",
       "      <td>25.648924</td>\n",
       "      <td>1.000000</td>\n",
       "      <td>1.000000</td>\n",
       "      <td>1.000000</td>\n",
       "      <td>1.000000</td>\n",
       "      <td>0.692308</td>\n",
       "      <td>1.000000</td>\n",
       "      <td>0.807476</td>\n",
       "    </tr>\n",
       "    <tr>\n",
       "      <th>max</th>\n",
       "      <td>99.989998</td>\n",
       "      <td>99.989998</td>\n",
       "      <td>27.822073</td>\n",
       "      <td>26.589024</td>\n",
       "      <td>26.684883</td>\n",
       "      <td>26.613080</td>\n",
       "      <td>1.000000</td>\n",
       "      <td>1.000000</td>\n",
       "      <td>1.000000</td>\n",
       "      <td>1.000000</td>\n",
       "      <td>1.000000</td>\n",
       "      <td>1.000000</td>\n",
       "      <td>1.000000</td>\n",
       "    </tr>\n",
       "  </tbody>\n",
       "</table>\n",
       "</div>"
      ],
      "text/plain": [
       "       i_LSST_abmag  z_LSST_abmag  Y_WFI_abmag  J_WFI_abmag  H_WFI_abmag  \\\n",
       "count   5665.000000   5665.000000  5665.000000  5665.000000  5665.000000   \n",
       "mean      30.357962     30.164436    25.364501    24.857262    24.903971   \n",
       "std        8.425382     10.006280     1.155087     1.049344     1.051487   \n",
       "min       23.301932     21.582562    18.962755    18.815153    18.799645   \n",
       "25%       28.284126     27.778960    25.082139    24.528503    24.548642   \n",
       "50%       29.152302     28.781720    25.670553    25.095440    25.127102   \n",
       "75%       30.292555     29.754889    26.072832    25.498570    25.572359   \n",
       "max       99.989998     99.989998    27.822073    26.589024    26.684883   \n",
       "\n",
       "       F_WFI_abmag      prob_1a      prob_1b      prob_1c      prob_1d  \\\n",
       "count  5665.000000  5665.000000  5665.000000  5665.000000  5665.000000   \n",
       "mean     24.935196     0.957865     0.476882     0.936388     0.834508   \n",
       "std       1.093268     0.153286     0.454033     0.159691     0.307250   \n",
       "min      18.621814     0.000000     0.000000     0.000000     0.000000   \n",
       "25%      24.599189     1.000000     0.000000     0.972222     0.866667   \n",
       "50%      25.185696     1.000000     0.384615     1.000000     1.000000   \n",
       "75%      25.648924     1.000000     1.000000     1.000000     1.000000   \n",
       "max      26.613080     1.000000     1.000000     1.000000     1.000000   \n",
       "\n",
       "           prob_1e      prob_1f  weighted prob  \n",
       "count  5665.000000  5665.000000    5665.000000  \n",
       "mean      0.327571     0.844205       0.728680  \n",
       "std       0.384005     0.186811       0.123558  \n",
       "min       0.000000     0.000000       0.600166  \n",
       "25%       0.000000     0.730769       0.632375  \n",
       "50%       0.115385     0.923077       0.669816  \n",
       "75%       0.692308     1.000000       0.807476  \n",
       "max       1.000000     1.000000       1.000000  "
      ]
     },
     "execution_count": 33,
     "metadata": {},
     "output_type": "execute_result"
    }
   ],
   "source": [
    "pred_qso1 = test1_copy[test1_copy['weighted prob'] > 0.6]\n",
    "pred_qso1.describe()"
   ]
  },
  {
   "cell_type": "code",
   "execution_count": 34,
   "id": "29c98929-385e-4a27-aa00-fc5ab498222f",
   "metadata": {
    "execution": {
     "iopub.execute_input": "2023-08-22T21:03:45.066501Z",
     "iopub.status.busy": "2023-08-22T21:03:45.065911Z",
     "iopub.status.idle": "2023-08-22T21:03:45.159774Z",
     "shell.execute_reply": "2023-08-22T21:03:45.158710Z",
     "shell.execute_reply.started": "2023-08-22T21:03:45.066443Z"
    }
   },
   "outputs": [
    {
     "data": {
      "text/html": [
       "<div>\n",
       "<style scoped>\n",
       "    .dataframe tbody tr th:only-of-type {\n",
       "        vertical-align: middle;\n",
       "    }\n",
       "\n",
       "    .dataframe tbody tr th {\n",
       "        vertical-align: top;\n",
       "    }\n",
       "\n",
       "    .dataframe thead th {\n",
       "        text-align: right;\n",
       "    }\n",
       "</style>\n",
       "<table border=\"1\" class=\"dataframe\">\n",
       "  <thead>\n",
       "    <tr style=\"text-align: right;\">\n",
       "      <th></th>\n",
       "      <th>i_LSST_abmag</th>\n",
       "      <th>z_LSST_abmag</th>\n",
       "      <th>Y_WFI_abmag</th>\n",
       "      <th>J_WFI_abmag</th>\n",
       "      <th>H_WFI_abmag</th>\n",
       "      <th>F_WFI_abmag</th>\n",
       "      <th>prob_1a</th>\n",
       "      <th>prob_1b</th>\n",
       "      <th>prob_1c</th>\n",
       "      <th>prob_1d</th>\n",
       "      <th>prob_1e</th>\n",
       "      <th>prob_1f</th>\n",
       "      <th>weighted prob</th>\n",
       "    </tr>\n",
       "  </thead>\n",
       "  <tbody>\n",
       "    <tr>\n",
       "      <th>count</th>\n",
       "      <td>1101.000000</td>\n",
       "      <td>1101.000000</td>\n",
       "      <td>1101.000000</td>\n",
       "      <td>1101.000000</td>\n",
       "      <td>1101.000000</td>\n",
       "      <td>1101.000000</td>\n",
       "      <td>1101.000000</td>\n",
       "      <td>1101.000000</td>\n",
       "      <td>1101.000000</td>\n",
       "      <td>1101.000000</td>\n",
       "      <td>1101.000000</td>\n",
       "      <td>1101.000000</td>\n",
       "      <td>1101.000000</td>\n",
       "    </tr>\n",
       "    <tr>\n",
       "      <th>mean</th>\n",
       "      <td>28.434344</td>\n",
       "      <td>27.194557</td>\n",
       "      <td>23.539957</td>\n",
       "      <td>23.335626</td>\n",
       "      <td>23.435803</td>\n",
       "      <td>23.335463</td>\n",
       "      <td>0.997625</td>\n",
       "      <td>0.945504</td>\n",
       "      <td>0.894364</td>\n",
       "      <td>0.851973</td>\n",
       "      <td>0.813212</td>\n",
       "      <td>0.975826</td>\n",
       "      <td>0.913345</td>\n",
       "    </tr>\n",
       "    <tr>\n",
       "      <th>std</th>\n",
       "      <td>1.428648</td>\n",
       "      <td>1.567240</td>\n",
       "      <td>1.262809</td>\n",
       "      <td>1.258584</td>\n",
       "      <td>1.288581</td>\n",
       "      <td>1.296277</td>\n",
       "      <td>0.020608</td>\n",
       "      <td>0.195861</td>\n",
       "      <td>0.203533</td>\n",
       "      <td>0.296688</td>\n",
       "      <td>0.289616</td>\n",
       "      <td>0.080000</td>\n",
       "      <td>0.101149</td>\n",
       "    </tr>\n",
       "    <tr>\n",
       "      <th>min</th>\n",
       "      <td>23.301932</td>\n",
       "      <td>21.582562</td>\n",
       "      <td>18.962755</td>\n",
       "      <td>18.815153</td>\n",
       "      <td>18.799645</td>\n",
       "      <td>18.621814</td>\n",
       "      <td>0.692308</td>\n",
       "      <td>0.000000</td>\n",
       "      <td>0.027778</td>\n",
       "      <td>0.000000</td>\n",
       "      <td>0.000000</td>\n",
       "      <td>0.269231</td>\n",
       "      <td>0.607630</td>\n",
       "    </tr>\n",
       "    <tr>\n",
       "      <th>25%</th>\n",
       "      <td>27.612032</td>\n",
       "      <td>26.290776</td>\n",
       "      <td>22.657377</td>\n",
       "      <td>22.452251</td>\n",
       "      <td>22.542323</td>\n",
       "      <td>22.437109</td>\n",
       "      <td>1.000000</td>\n",
       "      <td>1.000000</td>\n",
       "      <td>0.888889</td>\n",
       "      <td>0.933333</td>\n",
       "      <td>0.769231</td>\n",
       "      <td>1.000000</td>\n",
       "      <td>0.847815</td>\n",
       "    </tr>\n",
       "    <tr>\n",
       "      <th>50%</th>\n",
       "      <td>28.393429</td>\n",
       "      <td>27.183114</td>\n",
       "      <td>23.665853</td>\n",
       "      <td>23.460576</td>\n",
       "      <td>23.570214</td>\n",
       "      <td>23.442848</td>\n",
       "      <td>1.000000</td>\n",
       "      <td>1.000000</td>\n",
       "      <td>1.000000</td>\n",
       "      <td>1.000000</td>\n",
       "      <td>0.961538</td>\n",
       "      <td>1.000000</td>\n",
       "      <td>0.961954</td>\n",
       "    </tr>\n",
       "    <tr>\n",
       "      <th>75%</th>\n",
       "      <td>29.195076</td>\n",
       "      <td>28.052549</td>\n",
       "      <td>24.536518</td>\n",
       "      <td>24.329445</td>\n",
       "      <td>24.481717</td>\n",
       "      <td>24.398115</td>\n",
       "      <td>1.000000</td>\n",
       "      <td>1.000000</td>\n",
       "      <td>1.000000</td>\n",
       "      <td>1.000000</td>\n",
       "      <td>1.000000</td>\n",
       "      <td>1.000000</td>\n",
       "      <td>0.993659</td>\n",
       "    </tr>\n",
       "    <tr>\n",
       "      <th>max</th>\n",
       "      <td>36.322512</td>\n",
       "      <td>33.615849</td>\n",
       "      <td>26.152057</td>\n",
       "      <td>25.498570</td>\n",
       "      <td>25.671004</td>\n",
       "      <td>25.823568</td>\n",
       "      <td>1.000000</td>\n",
       "      <td>1.000000</td>\n",
       "      <td>1.000000</td>\n",
       "      <td>1.000000</td>\n",
       "      <td>1.000000</td>\n",
       "      <td>1.000000</td>\n",
       "      <td>1.000000</td>\n",
       "    </tr>\n",
       "  </tbody>\n",
       "</table>\n",
       "</div>"
      ],
      "text/plain": [
       "       i_LSST_abmag  z_LSST_abmag  Y_WFI_abmag  J_WFI_abmag  H_WFI_abmag  \\\n",
       "count   1101.000000   1101.000000  1101.000000  1101.000000  1101.000000   \n",
       "mean      28.434344     27.194557    23.539957    23.335626    23.435803   \n",
       "std        1.428648      1.567240     1.262809     1.258584     1.288581   \n",
       "min       23.301932     21.582562    18.962755    18.815153    18.799645   \n",
       "25%       27.612032     26.290776    22.657377    22.452251    22.542323   \n",
       "50%       28.393429     27.183114    23.665853    23.460576    23.570214   \n",
       "75%       29.195076     28.052549    24.536518    24.329445    24.481717   \n",
       "max       36.322512     33.615849    26.152057    25.498570    25.671004   \n",
       "\n",
       "       F_WFI_abmag      prob_1a      prob_1b      prob_1c      prob_1d  \\\n",
       "count  1101.000000  1101.000000  1101.000000  1101.000000  1101.000000   \n",
       "mean     23.335463     0.997625     0.945504     0.894364     0.851973   \n",
       "std       1.296277     0.020608     0.195861     0.203533     0.296688   \n",
       "min      18.621814     0.692308     0.000000     0.027778     0.000000   \n",
       "25%      22.437109     1.000000     1.000000     0.888889     0.933333   \n",
       "50%      23.442848     1.000000     1.000000     1.000000     1.000000   \n",
       "75%      24.398115     1.000000     1.000000     1.000000     1.000000   \n",
       "max      25.823568     1.000000     1.000000     1.000000     1.000000   \n",
       "\n",
       "           prob_1e      prob_1f  weighted prob  \n",
       "count  1101.000000  1101.000000    1101.000000  \n",
       "mean      0.813212     0.975826       0.913345  \n",
       "std       0.289616     0.080000       0.101149  \n",
       "min       0.000000     0.269231       0.607630  \n",
       "25%       0.769231     1.000000       0.847815  \n",
       "50%       0.961538     1.000000       0.961954  \n",
       "75%       1.000000     1.000000       0.993659  \n",
       "max       1.000000     1.000000       1.000000  "
      ]
     },
     "execution_count": 34,
     "metadata": {},
     "output_type": "execute_result"
    }
   ],
   "source": [
    "tp1 = pred_qso1.merge(qso_test)\n",
    "tp1.describe()"
   ]
  },
  {
   "cell_type": "code",
   "execution_count": 35,
   "id": "47caf86b-1e42-4b63-be82-520443807f27",
   "metadata": {
    "execution": {
     "iopub.execute_input": "2023-08-22T21:03:49.248070Z",
     "iopub.status.busy": "2023-08-22T21:03:49.247438Z",
     "iopub.status.idle": "2023-08-22T21:03:49.505415Z",
     "shell.execute_reply": "2023-08-22T21:03:49.504448Z",
     "shell.execute_reply.started": "2023-08-22T21:03:49.248014Z"
    }
   },
   "outputs": [
    {
     "name": "stdout",
     "output_type": "stream",
     "text": [
      "z-band distribution of TP:\n"
     ]
    },
    {
     "data": {
      "image/png": "[encoded data removed]",
      "text/plain": [
       "<Figure size 432x288 with 1 Axes>"
      ]
     },
     "metadata": {
      "needs_background": "light"
     },
     "output_type": "display_data"
    }
   ],
   "source": [
    "print('z-band distribution of TP:')\n",
    "plt.hist(tp1['z_LSST_abmag'], bins=20)\n",
    "plt.show()"
   ]
  },
  {
   "cell_type": "code",
   "execution_count": 36,
   "id": "51e9451c-c1f0-4fc5-ad43-452ce45929ab",
   "metadata": {
    "execution": {
     "iopub.execute_input": "2023-08-22T21:03:49.534467Z",
     "iopub.status.busy": "2023-08-22T21:03:49.533954Z",
     "iopub.status.idle": "2023-08-22T21:03:49.590053Z",
     "shell.execute_reply": "2023-08-22T21:03:49.588799Z",
     "shell.execute_reply.started": "2023-08-22T21:03:49.534415Z"
    }
   },
   "outputs": [],
   "source": [
    "# false positive: the difference between tp and pred positive\n",
    "fp1 = pd.merge(tp1, pred_qso1, on=['i_LSST_abmag', 'z_LSST_abmag', 'Y_WFI_abmag', 'J_WFI_abmag', 'H_WFI_abmag', 'F_WFI_abmag'], how='outer', indicator=True).query(\"_merge != 'both'\").drop('_merge', axis=1).reset_index(drop=True)"
   ]
  },
  {
   "cell_type": "code",
   "execution_count": 37,
   "id": "056764f3-5a71-42d7-83a5-63c78c6a7950",
   "metadata": {
    "execution": {
     "iopub.execute_input": "2023-08-22T21:03:50.256850Z",
     "iopub.status.busy": "2023-08-22T21:03:50.256238Z",
     "iopub.status.idle": "2023-08-22T21:03:50.360812Z",
     "shell.execute_reply": "2023-08-22T21:03:50.359766Z",
     "shell.execute_reply.started": "2023-08-22T21:03:50.256794Z"
    }
   },
   "outputs": [
    {
     "data": {
      "text/html": [
       "<div>\n",
       "<style scoped>\n",
       "    .dataframe tbody tr th:only-of-type {\n",
       "        vertical-align: middle;\n",
       "    }\n",
       "\n",
       "    .dataframe tbody tr th {\n",
       "        vertical-align: top;\n",
       "    }\n",
       "\n",
       "    .dataframe thead th {\n",
       "        text-align: right;\n",
       "    }\n",
       "</style>\n",
       "<table border=\"1\" class=\"dataframe\">\n",
       "  <thead>\n",
       "    <tr style=\"text-align: right;\">\n",
       "      <th></th>\n",
       "      <th>i_LSST_abmag</th>\n",
       "      <th>z_LSST_abmag</th>\n",
       "      <th>Y_WFI_abmag</th>\n",
       "      <th>J_WFI_abmag</th>\n",
       "      <th>H_WFI_abmag</th>\n",
       "      <th>F_WFI_abmag</th>\n",
       "      <th>prob_1a_x</th>\n",
       "      <th>prob_1b_x</th>\n",
       "      <th>prob_1c_x</th>\n",
       "      <th>prob_1d_x</th>\n",
       "      <th>prob_1e_x</th>\n",
       "      <th>prob_1f_x</th>\n",
       "      <th>weighted prob_x</th>\n",
       "      <th>prob_1a_y</th>\n",
       "      <th>prob_1b_y</th>\n",
       "      <th>prob_1c_y</th>\n",
       "      <th>prob_1d_y</th>\n",
       "      <th>prob_1e_y</th>\n",
       "      <th>prob_1f_y</th>\n",
       "      <th>weighted prob_y</th>\n",
       "    </tr>\n",
       "  </thead>\n",
       "  <tbody>\n",
       "    <tr>\n",
       "      <th>count</th>\n",
       "      <td>4564.000000</td>\n",
       "      <td>4564.000000</td>\n",
       "      <td>4564.000000</td>\n",
       "      <td>4564.000000</td>\n",
       "      <td>4564.000000</td>\n",
       "      <td>4564.000000</td>\n",
       "      <td>0.0</td>\n",
       "      <td>0.0</td>\n",
       "      <td>0.0</td>\n",
       "      <td>0.0</td>\n",
       "      <td>0.0</td>\n",
       "      <td>0.0</td>\n",
       "      <td>0.0</td>\n",
       "      <td>4564.000000</td>\n",
       "      <td>4564.000000</td>\n",
       "      <td>4564.000000</td>\n",
       "      <td>4564.000000</td>\n",
       "      <td>4564.000000</td>\n",
       "      <td>4564.000000</td>\n",
       "      <td>4564.000000</td>\n",
       "    </tr>\n",
       "    <tr>\n",
       "      <th>mean</th>\n",
       "      <td>30.822007</td>\n",
       "      <td>30.880877</td>\n",
       "      <td>25.804646</td>\n",
       "      <td>25.224335</td>\n",
       "      <td>25.258145</td>\n",
       "      <td>25.321109</td>\n",
       "      <td>NaN</td>\n",
       "      <td>NaN</td>\n",
       "      <td>NaN</td>\n",
       "      <td>NaN</td>\n",
       "      <td>NaN</td>\n",
       "      <td>NaN</td>\n",
       "      <td>NaN</td>\n",
       "      <td>0.948274</td>\n",
       "      <td>0.363834</td>\n",
       "      <td>0.946526</td>\n",
       "      <td>0.830295</td>\n",
       "      <td>0.210418</td>\n",
       "      <td>0.812454</td>\n",
       "      <td>0.684132</td>\n",
       "    </tr>\n",
       "    <tr>\n",
       "      <th>std</th>\n",
       "      <td>9.301354</td>\n",
       "      <td>11.002321</td>\n",
       "      <td>0.524137</td>\n",
       "      <td>0.539910</td>\n",
       "      <td>0.571445</td>\n",
       "      <td>0.558658</td>\n",
       "      <td>NaN</td>\n",
       "      <td>NaN</td>\n",
       "      <td>NaN</td>\n",
       "      <td>NaN</td>\n",
       "      <td>NaN</td>\n",
       "      <td>NaN</td>\n",
       "      <td>NaN</td>\n",
       "      <td>0.169087</td>\n",
       "      <td>0.425286</td>\n",
       "      <td>0.145392</td>\n",
       "      <td>0.309628</td>\n",
       "      <td>0.303620</td>\n",
       "      <td>0.191278</td>\n",
       "      <td>0.079188</td>\n",
       "    </tr>\n",
       "    <tr>\n",
       "      <th>min</th>\n",
       "      <td>26.272934</td>\n",
       "      <td>24.359013</td>\n",
       "      <td>22.696255</td>\n",
       "      <td>22.550955</td>\n",
       "      <td>22.652866</td>\n",
       "      <td>22.452839</td>\n",
       "      <td>NaN</td>\n",
       "      <td>NaN</td>\n",
       "      <td>NaN</td>\n",
       "      <td>NaN</td>\n",
       "      <td>NaN</td>\n",
       "      <td>NaN</td>\n",
       "      <td>NaN</td>\n",
       "      <td>0.000000</td>\n",
       "      <td>0.000000</td>\n",
       "      <td>0.000000</td>\n",
       "      <td>0.000000</td>\n",
       "      <td>0.000000</td>\n",
       "      <td>0.000000</td>\n",
       "      <td>0.600166</td>\n",
       "    </tr>\n",
       "    <tr>\n",
       "      <th>25%</th>\n",
       "      <td>28.461504</td>\n",
       "      <td>28.235155</td>\n",
       "      <td>25.482738</td>\n",
       "      <td>24.849746</td>\n",
       "      <td>24.856761</td>\n",
       "      <td>24.946942</td>\n",
       "      <td>NaN</td>\n",
       "      <td>NaN</td>\n",
       "      <td>NaN</td>\n",
       "      <td>NaN</td>\n",
       "      <td>NaN</td>\n",
       "      <td>NaN</td>\n",
       "      <td>NaN</td>\n",
       "      <td>1.000000</td>\n",
       "      <td>0.000000</td>\n",
       "      <td>1.000000</td>\n",
       "      <td>0.844444</td>\n",
       "      <td>0.000000</td>\n",
       "      <td>0.692308</td>\n",
       "      <td>0.625975</td>\n",
       "    </tr>\n",
       "    <tr>\n",
       "      <th>50%</th>\n",
       "      <td>29.361522</td>\n",
       "      <td>29.039727</td>\n",
       "      <td>25.821900</td>\n",
       "      <td>25.288460</td>\n",
       "      <td>25.286673</td>\n",
       "      <td>25.323021</td>\n",
       "      <td>NaN</td>\n",
       "      <td>NaN</td>\n",
       "      <td>NaN</td>\n",
       "      <td>NaN</td>\n",
       "      <td>NaN</td>\n",
       "      <td>NaN</td>\n",
       "      <td>NaN</td>\n",
       "      <td>1.000000</td>\n",
       "      <td>0.076923</td>\n",
       "      <td>1.000000</td>\n",
       "      <td>1.000000</td>\n",
       "      <td>0.000000</td>\n",
       "      <td>0.846154</td>\n",
       "      <td>0.656549</td>\n",
       "    </tr>\n",
       "    <tr>\n",
       "      <th>75%</th>\n",
       "      <td>30.506022</td>\n",
       "      <td>29.999610</td>\n",
       "      <td>26.160778</td>\n",
       "      <td>25.603959</td>\n",
       "      <td>25.681120</td>\n",
       "      <td>25.771517</td>\n",
       "      <td>NaN</td>\n",
       "      <td>NaN</td>\n",
       "      <td>NaN</td>\n",
       "      <td>NaN</td>\n",
       "      <td>NaN</td>\n",
       "      <td>NaN</td>\n",
       "      <td>NaN</td>\n",
       "      <td>1.000000</td>\n",
       "      <td>0.846154</td>\n",
       "      <td>1.000000</td>\n",
       "      <td>1.000000</td>\n",
       "      <td>0.384615</td>\n",
       "      <td>1.000000</td>\n",
       "      <td>0.720544</td>\n",
       "    </tr>\n",
       "    <tr>\n",
       "      <th>max</th>\n",
       "      <td>99.989998</td>\n",
       "      <td>99.989998</td>\n",
       "      <td>27.822073</td>\n",
       "      <td>26.589024</td>\n",
       "      <td>26.684883</td>\n",
       "      <td>26.613080</td>\n",
       "      <td>NaN</td>\n",
       "      <td>NaN</td>\n",
       "      <td>NaN</td>\n",
       "      <td>NaN</td>\n",
       "      <td>NaN</td>\n",
       "      <td>NaN</td>\n",
       "      <td>NaN</td>\n",
       "      <td>1.000000</td>\n",
       "      <td>1.000000</td>\n",
       "      <td>1.000000</td>\n",
       "      <td>1.000000</td>\n",
       "      <td>1.000000</td>\n",
       "      <td>1.000000</td>\n",
       "      <td>0.993659</td>\n",
       "    </tr>\n",
       "  </tbody>\n",
       "</table>\n",
       "</div>"
      ],
      "text/plain": [
       "       i_LSST_abmag  z_LSST_abmag  Y_WFI_abmag  J_WFI_abmag  H_WFI_abmag  \\\n",
       "count   4564.000000   4564.000000  4564.000000  4564.000000  4564.000000   \n",
       "mean      30.822007     30.880877    25.804646    25.224335    25.258145   \n",
       "std        9.301354     11.002321     0.524137     0.539910     0.571445   \n",
       "min       26.272934     24.359013    22.696255    22.550955    22.652866   \n",
       "25%       28.461504     28.235155    25.482738    24.849746    24.856761   \n",
       "50%       29.361522     29.039727    25.821900    25.288460    25.286673   \n",
       "75%       30.506022     29.999610    26.160778    25.603959    25.681120   \n",
       "max       99.989998     99.989998    27.822073    26.589024    26.684883   \n",
       "\n",
       "       F_WFI_abmag  prob_1a_x  prob_1b_x  prob_1c_x  prob_1d_x  prob_1e_x  \\\n",
       "count  4564.000000        0.0        0.0        0.0        0.0        0.0   \n",
       "mean     25.321109        NaN        NaN        NaN        NaN        NaN   \n",
       "std       0.558658        NaN        NaN        NaN        NaN        NaN   \n",
       "min      22.452839        NaN        NaN        NaN        NaN        NaN   \n",
       "25%      24.946942        NaN        NaN        NaN        NaN        NaN   \n",
       "50%      25.323021        NaN        NaN        NaN        NaN        NaN   \n",
       "75%      25.771517        NaN        NaN        NaN        NaN        NaN   \n",
       "max      26.613080        NaN        NaN        NaN        NaN        NaN   \n",
       "\n",
       "       prob_1f_x  weighted prob_x    prob_1a_y    prob_1b_y    prob_1c_y  \\\n",
       "count        0.0              0.0  4564.000000  4564.000000  4564.000000   \n",
       "mean         NaN              NaN     0.948274     0.363834     0.946526   \n",
       "std          NaN              NaN     0.169087     0.425286     0.145392   \n",
       "min          NaN              NaN     0.000000     0.000000     0.000000   \n",
       "25%          NaN              NaN     1.000000     0.000000     1.000000   \n",
       "50%          NaN              NaN     1.000000     0.076923     1.000000   \n",
       "75%          NaN              NaN     1.000000     0.846154     1.000000   \n",
       "max          NaN              NaN     1.000000     1.000000     1.000000   \n",
       "\n",
       "         prob_1d_y    prob_1e_y    prob_1f_y  weighted prob_y  \n",
       "count  4564.000000  4564.000000  4564.000000      4564.000000  \n",
       "mean      0.830295     0.210418     0.812454         0.684132  \n",
       "std       0.309628     0.303620     0.191278         0.079188  \n",
       "min       0.000000     0.000000     0.000000         0.600166  \n",
       "25%       0.844444     0.000000     0.692308         0.625975  \n",
       "50%       1.000000     0.000000     0.846154         0.656549  \n",
       "75%       1.000000     0.384615     1.000000         0.720544  \n",
       "max       1.000000     1.000000     1.000000         0.993659  "
      ]
     },
     "execution_count": 37,
     "metadata": {},
     "output_type": "execute_result"
    }
   ],
   "source": [
    "fp1.describe()"
   ]
  },
  {
   "cell_type": "code",
   "execution_count": 38,
   "id": "9a098f2d-8690-48bc-85af-f8ebacbb11cd",
   "metadata": {
    "execution": {
     "iopub.execute_input": "2023-08-22T21:03:52.474886Z",
     "iopub.status.busy": "2023-08-22T21:03:52.474289Z",
     "iopub.status.idle": "2023-08-22T21:03:52.554144Z",
     "shell.execute_reply": "2023-08-22T21:03:52.553119Z",
     "shell.execute_reply.started": "2023-08-22T21:03:52.474830Z"
    }
   },
   "outputs": [
    {
     "data": {
      "text/html": [
       "<div>\n",
       "<style scoped>\n",
       "    .dataframe tbody tr th:only-of-type {\n",
       "        vertical-align: middle;\n",
       "    }\n",
       "\n",
       "    .dataframe tbody tr th {\n",
       "        vertical-align: top;\n",
       "    }\n",
       "\n",
       "    .dataframe thead th {\n",
       "        text-align: right;\n",
       "    }\n",
       "</style>\n",
       "<table border=\"1\" class=\"dataframe\">\n",
       "  <thead>\n",
       "    <tr style=\"text-align: right;\">\n",
       "      <th></th>\n",
       "      <th>i_LSST_abmag</th>\n",
       "      <th>z_LSST_abmag</th>\n",
       "      <th>Y_WFI_abmag</th>\n",
       "      <th>J_WFI_abmag</th>\n",
       "      <th>H_WFI_abmag</th>\n",
       "      <th>F_WFI_abmag</th>\n",
       "      <th>prob_1a</th>\n",
       "      <th>prob_1b</th>\n",
       "      <th>prob_1c</th>\n",
       "      <th>prob_1d</th>\n",
       "      <th>prob_1e</th>\n",
       "      <th>prob_1f</th>\n",
       "      <th>weighted prob</th>\n",
       "    </tr>\n",
       "  </thead>\n",
       "  <tbody>\n",
       "    <tr>\n",
       "      <th>count</th>\n",
       "      <td>4564.000000</td>\n",
       "      <td>4564.000000</td>\n",
       "      <td>4564.000000</td>\n",
       "      <td>4564.000000</td>\n",
       "      <td>4564.000000</td>\n",
       "      <td>4564.000000</td>\n",
       "      <td>4564.000000</td>\n",
       "      <td>4564.000000</td>\n",
       "      <td>4564.000000</td>\n",
       "      <td>4564.000000</td>\n",
       "      <td>4564.000000</td>\n",
       "      <td>4564.000000</td>\n",
       "      <td>4564.000000</td>\n",
       "    </tr>\n",
       "    <tr>\n",
       "      <th>mean</th>\n",
       "      <td>30.822007</td>\n",
       "      <td>30.880877</td>\n",
       "      <td>25.804646</td>\n",
       "      <td>25.224335</td>\n",
       "      <td>25.258145</td>\n",
       "      <td>25.321109</td>\n",
       "      <td>0.948274</td>\n",
       "      <td>0.363834</td>\n",
       "      <td>0.946526</td>\n",
       "      <td>0.830295</td>\n",
       "      <td>0.210418</td>\n",
       "      <td>0.812454</td>\n",
       "      <td>0.684132</td>\n",
       "    </tr>\n",
       "    <tr>\n",
       "      <th>std</th>\n",
       "      <td>9.301354</td>\n",
       "      <td>11.002321</td>\n",
       "      <td>0.524137</td>\n",
       "      <td>0.539910</td>\n",
       "      <td>0.571445</td>\n",
       "      <td>0.558658</td>\n",
       "      <td>0.169087</td>\n",
       "      <td>0.425286</td>\n",
       "      <td>0.145392</td>\n",
       "      <td>0.309628</td>\n",
       "      <td>0.303620</td>\n",
       "      <td>0.191278</td>\n",
       "      <td>0.079188</td>\n",
       "    </tr>\n",
       "    <tr>\n",
       "      <th>min</th>\n",
       "      <td>26.272934</td>\n",
       "      <td>24.359013</td>\n",
       "      <td>22.696255</td>\n",
       "      <td>22.550955</td>\n",
       "      <td>22.652866</td>\n",
       "      <td>22.452839</td>\n",
       "      <td>0.000000</td>\n",
       "      <td>0.000000</td>\n",
       "      <td>0.000000</td>\n",
       "      <td>0.000000</td>\n",
       "      <td>0.000000</td>\n",
       "      <td>0.000000</td>\n",
       "      <td>0.600166</td>\n",
       "    </tr>\n",
       "    <tr>\n",
       "      <th>25%</th>\n",
       "      <td>28.461504</td>\n",
       "      <td>28.235155</td>\n",
       "      <td>25.482738</td>\n",
       "      <td>24.849746</td>\n",
       "      <td>24.856761</td>\n",
       "      <td>24.946942</td>\n",
       "      <td>1.000000</td>\n",
       "      <td>0.000000</td>\n",
       "      <td>1.000000</td>\n",
       "      <td>0.844444</td>\n",
       "      <td>0.000000</td>\n",
       "      <td>0.692308</td>\n",
       "      <td>0.625975</td>\n",
       "    </tr>\n",
       "    <tr>\n",
       "      <th>50%</th>\n",
       "      <td>29.361522</td>\n",
       "      <td>29.039727</td>\n",
       "      <td>25.821900</td>\n",
       "      <td>25.288460</td>\n",
       "      <td>25.286673</td>\n",
       "      <td>25.323021</td>\n",
       "      <td>1.000000</td>\n",
       "      <td>0.076923</td>\n",
       "      <td>1.000000</td>\n",
       "      <td>1.000000</td>\n",
       "      <td>0.000000</td>\n",
       "      <td>0.846154</td>\n",
       "      <td>0.656549</td>\n",
       "    </tr>\n",
       "    <tr>\n",
       "      <th>75%</th>\n",
       "      <td>30.506022</td>\n",
       "      <td>29.999610</td>\n",
       "      <td>26.160778</td>\n",
       "      <td>25.603959</td>\n",
       "      <td>25.681120</td>\n",
       "      <td>25.771517</td>\n",
       "      <td>1.000000</td>\n",
       "      <td>0.846154</td>\n",
       "      <td>1.000000</td>\n",
       "      <td>1.000000</td>\n",
       "      <td>0.384615</td>\n",
       "      <td>1.000000</td>\n",
       "      <td>0.720544</td>\n",
       "    </tr>\n",
       "    <tr>\n",
       "      <th>max</th>\n",
       "      <td>99.989998</td>\n",
       "      <td>99.989998</td>\n",
       "      <td>27.822073</td>\n",
       "      <td>26.589024</td>\n",
       "      <td>26.684883</td>\n",
       "      <td>26.613080</td>\n",
       "      <td>1.000000</td>\n",
       "      <td>1.000000</td>\n",
       "      <td>1.000000</td>\n",
       "      <td>1.000000</td>\n",
       "      <td>1.000000</td>\n",
       "      <td>1.000000</td>\n",
       "      <td>0.993659</td>\n",
       "    </tr>\n",
       "  </tbody>\n",
       "</table>\n",
       "</div>"
      ],
      "text/plain": [
       "       i_LSST_abmag  z_LSST_abmag  Y_WFI_abmag  J_WFI_abmag  H_WFI_abmag  \\\n",
       "count   4564.000000   4564.000000  4564.000000  4564.000000  4564.000000   \n",
       "mean      30.822007     30.880877    25.804646    25.224335    25.258145   \n",
       "std        9.301354     11.002321     0.524137     0.539910     0.571445   \n",
       "min       26.272934     24.359013    22.696255    22.550955    22.652866   \n",
       "25%       28.461504     28.235155    25.482738    24.849746    24.856761   \n",
       "50%       29.361522     29.039727    25.821900    25.288460    25.286673   \n",
       "75%       30.506022     29.999610    26.160778    25.603959    25.681120   \n",
       "max       99.989998     99.989998    27.822073    26.589024    26.684883   \n",
       "\n",
       "       F_WFI_abmag      prob_1a      prob_1b      prob_1c      prob_1d  \\\n",
       "count  4564.000000  4564.000000  4564.000000  4564.000000  4564.000000   \n",
       "mean     25.321109     0.948274     0.363834     0.946526     0.830295   \n",
       "std       0.558658     0.169087     0.425286     0.145392     0.309628   \n",
       "min      22.452839     0.000000     0.000000     0.000000     0.000000   \n",
       "25%      24.946942     1.000000     0.000000     1.000000     0.844444   \n",
       "50%      25.323021     1.000000     0.076923     1.000000     1.000000   \n",
       "75%      25.771517     1.000000     0.846154     1.000000     1.000000   \n",
       "max      26.613080     1.000000     1.000000     1.000000     1.000000   \n",
       "\n",
       "           prob_1e      prob_1f  weighted prob  \n",
       "count  4564.000000  4564.000000    4564.000000  \n",
       "mean      0.210418     0.812454       0.684132  \n",
       "std       0.303620     0.191278       0.079188  \n",
       "min       0.000000     0.000000       0.600166  \n",
       "25%       0.000000     0.692308       0.625975  \n",
       "50%       0.000000     0.846154       0.656549  \n",
       "75%       0.384615     1.000000       0.720544  \n",
       "max       1.000000     1.000000       0.993659  "
      ]
     },
     "execution_count": 38,
     "metadata": {},
     "output_type": "execute_result"
    }
   ],
   "source": [
    "fp1 = fp1.drop(columns=['weighted prob_x', 'prob_1a_x', 'prob_1b_x', 'prob_1c_x', 'prob_1d_x', 'prob_1e_x', 'prob_1f_x'])\n",
    "fp1.rename(columns={'weighted prob_y': 'weighted prob', 'prob_1a_y': 'prob_1a', 'prob_1b_y': 'prob_1b', 'prob_1c_y': 'prob_1c', 'prob_1d_y': 'prob_1d', 'prob_1e_y': 'prob_1e', 'prob_1f_y': 'prob_1f'}, inplace=True)\n",
    "fp1.describe()"
   ]
  },
  {
   "cell_type": "code",
   "execution_count": 95,
   "id": "0f0d6cab-9f0d-41d6-b3fc-67ebbe5fe8ab",
   "metadata": {
    "execution": {
     "iopub.execute_input": "2023-08-22T21:47:19.545081Z",
     "iopub.status.busy": "2023-08-22T21:47:19.544456Z",
     "iopub.status.idle": "2023-08-22T21:47:20.231024Z",
     "shell.execute_reply": "2023-08-22T21:47:20.229843Z",
     "shell.execute_reply.started": "2023-08-22T21:47:19.545024Z"
    }
   },
   "outputs": [
    {
     "data": {
      "text/html": [
       "<div>\n",
       "<style scoped>\n",
       "    .dataframe tbody tr th:only-of-type {\n",
       "        vertical-align: middle;\n",
       "    }\n",
       "\n",
       "    .dataframe tbody tr th {\n",
       "        vertical-align: top;\n",
       "    }\n",
       "\n",
       "    .dataframe thead th {\n",
       "        text-align: right;\n",
       "    }\n",
       "</style>\n",
       "<table border=\"1\" class=\"dataframe\">\n",
       "  <thead>\n",
       "    <tr style=\"text-align: right;\">\n",
       "      <th></th>\n",
       "      <th>i_LSST_abmag</th>\n",
       "      <th>z_LSST_abmag</th>\n",
       "      <th>Y_WFI_abmag</th>\n",
       "      <th>J_WFI_abmag</th>\n",
       "      <th>H_WFI_abmag</th>\n",
       "      <th>F_WFI_abmag</th>\n",
       "      <th>prob_1a</th>\n",
       "      <th>prob_1b</th>\n",
       "      <th>prob_1c</th>\n",
       "      <th>prob_1d</th>\n",
       "      <th>prob_1e</th>\n",
       "      <th>prob_1f</th>\n",
       "      <th>weighted prob</th>\n",
       "    </tr>\n",
       "  </thead>\n",
       "  <tbody>\n",
       "    <tr>\n",
       "      <th>count</th>\n",
       "      <td>4564.000000</td>\n",
       "      <td>4564.000000</td>\n",
       "      <td>4564.000000</td>\n",
       "      <td>4564.000000</td>\n",
       "      <td>4564.000000</td>\n",
       "      <td>4564.000000</td>\n",
       "      <td>4564.000000</td>\n",
       "      <td>4564.000000</td>\n",
       "      <td>4564.000000</td>\n",
       "      <td>4564.000000</td>\n",
       "      <td>4564.000000</td>\n",
       "      <td>4564.000000</td>\n",
       "      <td>4564.000000</td>\n",
       "    </tr>\n",
       "    <tr>\n",
       "      <th>mean</th>\n",
       "      <td>30.822007</td>\n",
       "      <td>30.880877</td>\n",
       "      <td>25.804646</td>\n",
       "      <td>25.224335</td>\n",
       "      <td>25.258145</td>\n",
       "      <td>25.321109</td>\n",
       "      <td>0.948274</td>\n",
       "      <td>0.363834</td>\n",
       "      <td>0.946526</td>\n",
       "      <td>0.830295</td>\n",
       "      <td>0.210418</td>\n",
       "      <td>0.812454</td>\n",
       "      <td>0.684132</td>\n",
       "    </tr>\n",
       "    <tr>\n",
       "      <th>std</th>\n",
       "      <td>9.301354</td>\n",
       "      <td>11.002321</td>\n",
       "      <td>0.524137</td>\n",
       "      <td>0.539910</td>\n",
       "      <td>0.571445</td>\n",
       "      <td>0.558658</td>\n",
       "      <td>0.169087</td>\n",
       "      <td>0.425286</td>\n",
       "      <td>0.145392</td>\n",
       "      <td>0.309628</td>\n",
       "      <td>0.303620</td>\n",
       "      <td>0.191278</td>\n",
       "      <td>0.079188</td>\n",
       "    </tr>\n",
       "    <tr>\n",
       "      <th>min</th>\n",
       "      <td>26.272934</td>\n",
       "      <td>24.359013</td>\n",
       "      <td>22.696255</td>\n",
       "      <td>22.550955</td>\n",
       "      <td>22.652866</td>\n",
       "      <td>22.452839</td>\n",
       "      <td>0.000000</td>\n",
       "      <td>0.000000</td>\n",
       "      <td>0.000000</td>\n",
       "      <td>0.000000</td>\n",
       "      <td>0.000000</td>\n",
       "      <td>0.000000</td>\n",
       "      <td>0.600166</td>\n",
       "    </tr>\n",
       "    <tr>\n",
       "      <th>25%</th>\n",
       "      <td>28.461504</td>\n",
       "      <td>28.235155</td>\n",
       "      <td>25.482738</td>\n",
       "      <td>24.849746</td>\n",
       "      <td>24.856761</td>\n",
       "      <td>24.946942</td>\n",
       "      <td>1.000000</td>\n",
       "      <td>0.000000</td>\n",
       "      <td>1.000000</td>\n",
       "      <td>0.844444</td>\n",
       "      <td>0.000000</td>\n",
       "      <td>0.692308</td>\n",
       "      <td>0.625975</td>\n",
       "    </tr>\n",
       "    <tr>\n",
       "      <th>50%</th>\n",
       "      <td>29.361522</td>\n",
       "      <td>29.039727</td>\n",
       "      <td>25.821900</td>\n",
       "      <td>25.288460</td>\n",
       "      <td>25.286673</td>\n",
       "      <td>25.323021</td>\n",
       "      <td>1.000000</td>\n",
       "      <td>0.076923</td>\n",
       "      <td>1.000000</td>\n",
       "      <td>1.000000</td>\n",
       "      <td>0.000000</td>\n",
       "      <td>0.846154</td>\n",
       "      <td>0.656549</td>\n",
       "    </tr>\n",
       "    <tr>\n",
       "      <th>75%</th>\n",
       "      <td>30.506022</td>\n",
       "      <td>29.999610</td>\n",
       "      <td>26.160778</td>\n",
       "      <td>25.603959</td>\n",
       "      <td>25.681120</td>\n",
       "      <td>25.771517</td>\n",
       "      <td>1.000000</td>\n",
       "      <td>0.846154</td>\n",
       "      <td>1.000000</td>\n",
       "      <td>1.000000</td>\n",
       "      <td>0.384615</td>\n",
       "      <td>1.000000</td>\n",
       "      <td>0.720544</td>\n",
       "    </tr>\n",
       "    <tr>\n",
       "      <th>max</th>\n",
       "      <td>99.989998</td>\n",
       "      <td>99.989998</td>\n",
       "      <td>27.822073</td>\n",
       "      <td>26.589024</td>\n",
       "      <td>26.684883</td>\n",
       "      <td>26.613080</td>\n",
       "      <td>1.000000</td>\n",
       "      <td>1.000000</td>\n",
       "      <td>1.000000</td>\n",
       "      <td>1.000000</td>\n",
       "      <td>1.000000</td>\n",
       "      <td>1.000000</td>\n",
       "      <td>0.993659</td>\n",
       "    </tr>\n",
       "  </tbody>\n",
       "</table>\n",
       "</div>"
      ],
      "text/plain": [
       "       i_LSST_abmag  z_LSST_abmag  Y_WFI_abmag  J_WFI_abmag  H_WFI_abmag  \\\n",
       "count   4564.000000   4564.000000  4564.000000  4564.000000  4564.000000   \n",
       "mean      30.822007     30.880877    25.804646    25.224335    25.258145   \n",
       "std        9.301354     11.002321     0.524137     0.539910     0.571445   \n",
       "min       26.272934     24.359013    22.696255    22.550955    22.652866   \n",
       "25%       28.461504     28.235155    25.482738    24.849746    24.856761   \n",
       "50%       29.361522     29.039727    25.821900    25.288460    25.286673   \n",
       "75%       30.506022     29.999610    26.160778    25.603959    25.681120   \n",
       "max       99.989998     99.989998    27.822073    26.589024    26.684883   \n",
       "\n",
       "       F_WFI_abmag      prob_1a      prob_1b      prob_1c      prob_1d  \\\n",
       "count  4564.000000  4564.000000  4564.000000  4564.000000  4564.000000   \n",
       "mean     25.321109     0.948274     0.363834     0.946526     0.830295   \n",
       "std       0.558658     0.169087     0.425286     0.145392     0.309628   \n",
       "min      22.452839     0.000000     0.000000     0.000000     0.000000   \n",
       "25%      24.946942     1.000000     0.000000     1.000000     0.844444   \n",
       "50%      25.323021     1.000000     0.076923     1.000000     1.000000   \n",
       "75%      25.771517     1.000000     0.846154     1.000000     1.000000   \n",
       "max      26.613080     1.000000     1.000000     1.000000     1.000000   \n",
       "\n",
       "           prob_1e      prob_1f  weighted prob  \n",
       "count  4564.000000  4564.000000    4564.000000  \n",
       "mean      0.210418     0.812454       0.684132  \n",
       "std       0.303620     0.191278       0.079188  \n",
       "min       0.000000     0.000000       0.600166  \n",
       "25%       0.000000     0.692308       0.625975  \n",
       "50%       0.000000     0.846154       0.656549  \n",
       "75%       0.384615     1.000000       0.720544  \n",
       "max       1.000000     1.000000       0.993659  "
      ]
     },
     "execution_count": 95,
     "metadata": {},
     "output_type": "execute_result"
    }
   ],
   "source": [
    "false_positive1 = fp1.merge(test1, on=['i_LSST_abmag', 'z_LSST_abmag', 'Y_WFI_abmag', 'J_WFI_abmag', 'H_WFI_abmag', 'F_WFI_abmag'])\n",
    "# false_positive1 = false_positive1.drop(columns=['z_LSST_magerr', 'label_y', 'spt_x'])\n",
    "# false_positive1 = false_positive1.rename(columns={'label_x': 'label', 'spt_y': 'spt'})\n",
    "false_positive1.describe()"
   ]
  },
  {
   "cell_type": "code",
   "execution_count": 98,
   "id": "140cae13-c13d-46cb-82c9-95d4c397f416",
   "metadata": {
    "execution": {
     "iopub.execute_input": "2023-08-22T21:49:36.610481Z",
     "iopub.status.busy": "2023-08-22T21:49:36.609838Z",
     "iopub.status.idle": "2023-08-22T21:49:36.630005Z",
     "shell.execute_reply": "2023-08-22T21:49:36.628303Z",
     "shell.execute_reply.started": "2023-08-22T21:49:36.610424Z"
    }
   },
   "outputs": [
    {
     "name": "stdout",
     "output_type": "stream",
     "text": [
      "Index(['i_LSST_abmag', 'z_LSST_abmag', 'Y_WFI_abmag', 'J_WFI_abmag',\n",
      "       'H_WFI_abmag', 'F_WFI_abmag', 'prob_1a', 'prob_1b', 'prob_1c',\n",
      "       'prob_1d', 'prob_1e', 'prob_1f', 'weighted prob', 'index'],\n",
      "      dtype='object')\n"
     ]
    },
    {
     "data": {
      "text/plain": [
       "0                      mlt-35-M9\n",
       "1                      mlt-76-M9\n",
       "2                     mlt-107-M9\n",
       "3                     mlt-122-M9\n",
       "4                     mlt-285-L0\n",
       "                  ...           \n",
       "4559    cosmoDC2-9681-2321340-r5\n",
       "4560    cosmoDC2-9681-3187510-r5\n",
       "4561    cosmoDC2-9681-3440577-r5\n",
       "4562    cosmoDC2-9681-3462270-r5\n",
       "4563    cosmoDC2-9681-4235283-r5\n",
       "Name: index, Length: 4564, dtype: object"
      ]
     },
     "execution_count": 98,
     "metadata": {},
     "output_type": "execute_result"
    }
   ],
   "source": [
    "false_positive1 = false_positive1.rename(columns={'index_y': 'index'}).drop(columns=['index_x'])\n",
    "print(false_positive1.columns)\n",
    "false_positive1['index']"
   ]
  },
  {
   "cell_type": "code",
   "execution_count": 40,
   "id": "f4c1ea2c-5c1e-4096-b855-423173c8474d",
   "metadata": {
    "execution": {
     "iopub.execute_input": "2023-08-22T21:03:56.065058Z",
     "iopub.status.busy": "2023-08-22T21:03:56.064464Z",
     "iopub.status.idle": "2023-08-22T21:03:56.299873Z",
     "shell.execute_reply": "2023-08-22T21:03:56.298904Z",
     "shell.execute_reply.started": "2023-08-22T21:03:56.065004Z"
    }
   },
   "outputs": [
    {
     "name": "stdout",
     "output_type": "stream",
     "text": [
      "z-band distribution of FP:\n"
     ]
    },
    {
     "data": {
      "image/png": "[encoded data removed]",
      "text/plain": [
       "<Figure size 432x288 with 1 Axes>"
      ]
     },
     "metadata": {
      "needs_background": "light"
     },
     "output_type": "display_data"
    }
   ],
   "source": [
    "print('z-band distribution of FP:')\n",
    "plt.hist(false_positive1[false_positive1['z_LSST_abmag']<38.0]['z_LSST_abmag'], bins=20)\n",
    "plt.show"
   ]
  },
  {
   "cell_type": "code",
   "execution_count": 41,
   "id": "9cdb3168-109f-4051-8528-112dd8b8bf5f",
   "metadata": {
    "execution": {
     "iopub.execute_input": "2023-08-22T21:03:56.301584Z",
     "iopub.status.busy": "2023-08-22T21:03:56.301295Z",
     "iopub.status.idle": "2023-08-22T21:03:56.357956Z",
     "shell.execute_reply": "2023-08-22T21:03:56.357002Z",
     "shell.execute_reply.started": "2023-08-22T21:03:56.301553Z"
    }
   },
   "outputs": [
    {
     "data": {
      "text/html": [
       "<div>\n",
       "<style scoped>\n",
       "    .dataframe tbody tr th:only-of-type {\n",
       "        vertical-align: middle;\n",
       "    }\n",
       "\n",
       "    .dataframe tbody tr th {\n",
       "        vertical-align: top;\n",
       "    }\n",
       "\n",
       "    .dataframe thead th {\n",
       "        text-align: right;\n",
       "    }\n",
       "</style>\n",
       "<table border=\"1\" class=\"dataframe\">\n",
       "  <thead>\n",
       "    <tr style=\"text-align: right;\">\n",
       "      <th></th>\n",
       "      <th>i_LSST_abmag</th>\n",
       "      <th>z_LSST_abmag</th>\n",
       "      <th>Y_WFI_abmag</th>\n",
       "      <th>J_WFI_abmag</th>\n",
       "      <th>H_WFI_abmag</th>\n",
       "      <th>F_WFI_abmag</th>\n",
       "      <th>weighted prob</th>\n",
       "    </tr>\n",
       "  </thead>\n",
       "  <tbody>\n",
       "    <tr>\n",
       "      <th>count</th>\n",
       "      <td>47.000000</td>\n",
       "      <td>47.000000</td>\n",
       "      <td>47.000000</td>\n",
       "      <td>47.000000</td>\n",
       "      <td>47.000000</td>\n",
       "      <td>47.000000</td>\n",
       "      <td>0.0</td>\n",
       "    </tr>\n",
       "    <tr>\n",
       "      <th>mean</th>\n",
       "      <td>29.083738</td>\n",
       "      <td>28.052269</td>\n",
       "      <td>25.704483</td>\n",
       "      <td>24.749935</td>\n",
       "      <td>24.706725</td>\n",
       "      <td>24.713590</td>\n",
       "      <td>NaN</td>\n",
       "    </tr>\n",
       "    <tr>\n",
       "      <th>std</th>\n",
       "      <td>1.393274</td>\n",
       "      <td>1.213786</td>\n",
       "      <td>0.957600</td>\n",
       "      <td>0.796042</td>\n",
       "      <td>0.857412</td>\n",
       "      <td>0.893167</td>\n",
       "      <td>NaN</td>\n",
       "    </tr>\n",
       "    <tr>\n",
       "      <th>min</th>\n",
       "      <td>26.447094</td>\n",
       "      <td>23.713558</td>\n",
       "      <td>21.864300</td>\n",
       "      <td>21.618986</td>\n",
       "      <td>21.569299</td>\n",
       "      <td>21.296802</td>\n",
       "      <td>NaN</td>\n",
       "    </tr>\n",
       "    <tr>\n",
       "      <th>25%</th>\n",
       "      <td>28.357156</td>\n",
       "      <td>27.308125</td>\n",
       "      <td>25.361905</td>\n",
       "      <td>24.671830</td>\n",
       "      <td>24.629825</td>\n",
       "      <td>24.588209</td>\n",
       "      <td>NaN</td>\n",
       "    </tr>\n",
       "    <tr>\n",
       "      <th>50%</th>\n",
       "      <td>28.636445</td>\n",
       "      <td>27.706841</td>\n",
       "      <td>25.590263</td>\n",
       "      <td>25.022721</td>\n",
       "      <td>24.947409</td>\n",
       "      <td>24.995002</td>\n",
       "      <td>NaN</td>\n",
       "    </tr>\n",
       "    <tr>\n",
       "      <th>75%</th>\n",
       "      <td>29.369579</td>\n",
       "      <td>28.665198</td>\n",
       "      <td>26.059163</td>\n",
       "      <td>25.258287</td>\n",
       "      <td>25.183377</td>\n",
       "      <td>25.229282</td>\n",
       "      <td>NaN</td>\n",
       "    </tr>\n",
       "    <tr>\n",
       "      <th>max</th>\n",
       "      <td>34.352285</td>\n",
       "      <td>31.260202</td>\n",
       "      <td>29.746760</td>\n",
       "      <td>25.479870</td>\n",
       "      <td>25.455405</td>\n",
       "      <td>25.635804</td>\n",
       "      <td>NaN</td>\n",
       "    </tr>\n",
       "  </tbody>\n",
       "</table>\n",
       "</div>"
      ],
      "text/plain": [
       "       i_LSST_abmag  z_LSST_abmag  Y_WFI_abmag  J_WFI_abmag  H_WFI_abmag  \\\n",
       "count     47.000000     47.000000    47.000000    47.000000    47.000000   \n",
       "mean      29.083738     28.052269    25.704483    24.749935    24.706725   \n",
       "std        1.393274      1.213786     0.957600     0.796042     0.857412   \n",
       "min       26.447094     23.713558    21.864300    21.618986    21.569299   \n",
       "25%       28.357156     27.308125    25.361905    24.671830    24.629825   \n",
       "50%       28.636445     27.706841    25.590263    25.022721    24.947409   \n",
       "75%       29.369579     28.665198    26.059163    25.258287    25.183377   \n",
       "max       34.352285     31.260202    29.746760    25.479870    25.455405   \n",
       "\n",
       "       F_WFI_abmag  weighted prob  \n",
       "count    47.000000            0.0  \n",
       "mean     24.713590            NaN  \n",
       "std       0.893167            NaN  \n",
       "min      21.296802            NaN  \n",
       "25%      24.588209            NaN  \n",
       "50%      24.995002            NaN  \n",
       "75%      25.229282            NaN  \n",
       "max      25.635804            NaN  "
      ]
     },
     "execution_count": 41,
     "metadata": {},
     "output_type": "execute_result"
    }
   ],
   "source": [
    "# false negative: the difference between all positive and predicted true positive\n",
    "fn1 = pd.merge(tp1, qso_test, on=['i_LSST_abmag', 'z_LSST_abmag', 'Y_WFI_abmag', 'J_WFI_abmag', 'H_WFI_abmag', 'F_WFI_abmag'], how='outer', indicator=True).query(\"_merge != 'both'\").drop('_merge', axis=1).reset_index(drop=True)\n",
    "fn1 = fn1.drop(columns=['prob_1a', 'prob_1b', 'prob_1c', 'prob_1d', 'prob_1e', 'prob_1f'])\n",
    "fn1.describe()"
   ]
  },
  {
   "cell_type": "code",
   "execution_count": 42,
   "id": "63205aa6-bd9d-4198-bcd9-44470c7771f0",
   "metadata": {
    "execution": {
     "iopub.execute_input": "2023-08-22T21:03:56.359737Z",
     "iopub.status.busy": "2023-08-22T21:03:56.359447Z",
     "iopub.status.idle": "2023-08-22T21:03:56.588147Z",
     "shell.execute_reply": "2023-08-22T21:03:56.587134Z",
     "shell.execute_reply.started": "2023-08-22T21:03:56.359707Z"
    }
   },
   "outputs": [
    {
     "name": "stdout",
     "output_type": "stream",
     "text": [
      "z-band distribution of FN:\n"
     ]
    },
    {
     "data": {
      "image/png": "[encoded data removed]",
      "text/plain": [
       "<Figure size 432x288 with 1 Axes>"
      ]
     },
     "metadata": {
      "needs_background": "light"
     },
     "output_type": "display_data"
    }
   ],
   "source": [
    "print('z-band distribution of FN:')\n",
    "plt.hist(fn1['z_LSST_abmag'], bins=20)\n",
    "plt.show()"
   ]
  },
  {
   "cell_type": "code",
   "execution_count": 43,
   "id": "1f42449d-ba74-42eb-8736-9797a4b7b062",
   "metadata": {
    "execution": {
     "iopub.execute_input": "2023-08-22T21:03:56.632794Z",
     "iopub.status.busy": "2023-08-22T21:03:56.632469Z",
     "iopub.status.idle": "2023-08-22T21:03:56.643274Z",
     "shell.execute_reply": "2023-08-22T21:03:56.641789Z",
     "shell.execute_reply.started": "2023-08-22T21:03:56.632760Z"
    }
   },
   "outputs": [
    {
     "name": "stdout",
     "output_type": "stream",
     "text": [
      "w/o specific snr constraints, probability prediction results on test 1:\n",
      "\n",
      "precision: 0.1944\n",
      "recall: 0.9591\n"
     ]
    }
   ],
   "source": [
    "print('w/o specific snr constraints, probability prediction results on test 1:\\n')\n",
    "print('precision:', round(tp1.shape[0]/(tp1.shape[0]+fp1.shape[0]), 4))\n",
    "print('recall:', round(tp1.shape[0]/(tp1.shape[0]+fn1.shape[0]), 4))"
   ]
  },
  {
   "cell_type": "code",
   "execution_count": 44,
   "id": "6a2a1c38-bfc7-4a68-a5e8-aa3c3523b337",
   "metadata": {
    "execution": {
     "iopub.execute_input": "2023-08-22T21:03:57.071018Z",
     "iopub.status.busy": "2023-08-22T21:03:57.070441Z",
     "iopub.status.idle": "2023-08-22T21:03:57.088956Z",
     "shell.execute_reply": "2023-08-22T21:03:57.087660Z",
     "shell.execute_reply.started": "2023-08-22T21:03:57.070963Z"
    }
   },
   "outputs": [
    {
     "name": "stdout",
     "output_type": "stream",
     "text": [
      "w/o specific snr constraints, probability prediction results on test 1, limit z < 26:\n",
      "\n",
      "precision: 0.9624\n",
      "recall: 0.9951\n"
     ]
    }
   ],
   "source": [
    "print('w/o specific snr constraints, probability prediction results on test 1, limit z < 26:\\n')\n",
    "print('precision:', round(tp1[tp1['z_LSST_abmag']<26.0].shape[0]/(tp1[tp1['z_LSST_abmag']<26.0].shape[0]+fp1[fp1['z_LSST_abmag']<26.0].shape[0]), 4))\n",
    "print('recall:', round(tp1[tp1['z_LSST_abmag']<26.0].shape[0]/(tp1[tp1['z_LSST_abmag']<26.0].shape[0]+fn1[fn1['z_LSST_abmag']<26.0].shape[0]), 4))"
   ]
  },
  {
   "cell_type": "code",
   "execution_count": 45,
   "id": "31808068-330d-4d2d-ac8e-cda3b242522f",
   "metadata": {
    "execution": {
     "iopub.execute_input": "2023-08-22T21:03:57.518757Z",
     "iopub.status.busy": "2023-08-22T21:03:57.518253Z",
     "iopub.status.idle": "2023-08-22T21:03:58.186010Z",
     "shell.execute_reply": "2023-08-22T21:03:58.184918Z",
     "shell.execute_reply.started": "2023-08-22T21:03:57.518710Z"
    }
   },
   "outputs": [
    {
     "data": {
      "image/png": "[encoded data removed]",
      "text/plain": [
       "<Figure size 432x288 with 1 Axes>"
      ]
     },
     "metadata": {
      "needs_background": "light"
     },
     "output_type": "display_data"
    }
   ],
   "source": [
    "plt.hist(tp1['z_LSST_abmag'], label='TP')\n",
    "plt.hist(qso_test['z_LSST_abmag'], label='qso test', fill=False, edgecolor='orange')\n",
    "plt.hist(fn1['z_LSST_abmag'], label='FN', fill=False, edgecolor='red')\n",
    "\n",
    "plt.xlabel('z band mag')\n",
    "plt.ylabel('log(number)')\n",
    "plt.yscale('log')\n",
    "plt.title('test [qso + mlt + 1 gal]')\n",
    "plt.legend()\n",
    "plt.show()"
   ]
  },
  {
   "cell_type": "code",
   "execution_count": null,
   "id": "4a46d2a4-9ea1-40f5-bad0-fb3448a130ec",
   "metadata": {},
   "outputs": [],
   "source": []
  },
  {
   "cell_type": "markdown",
   "id": "c4ae9745-e6d7-4826-a9f6-7a1259c3c6b6",
   "metadata": {},
   "source": [
    "# Test (all)"
   ]
  },
  {
   "cell_type": "code",
   "execution_count": 47,
   "id": "793a4a6e-3325-4a07-a2cd-b7ca5b34da05",
   "metadata": {
    "execution": {
     "iopub.execute_input": "2023-08-22T21:05:00.668165Z",
     "iopub.status.busy": "2023-08-22T21:05:00.667555Z",
     "iopub.status.idle": "2023-08-22T21:05:01.359410Z",
     "shell.execute_reply": "2023-08-22T21:05:01.358526Z",
     "shell.execute_reply.started": "2023-08-22T21:05:00.668110Z"
    }
   },
   "outputs": [
    {
     "data": {
      "text/html": [
       "<div>\n",
       "<style scoped>\n",
       "    .dataframe tbody tr th:only-of-type {\n",
       "        vertical-align: middle;\n",
       "    }\n",
       "\n",
       "    .dataframe tbody tr th {\n",
       "        vertical-align: top;\n",
       "    }\n",
       "\n",
       "    .dataframe thead th {\n",
       "        text-align: right;\n",
       "    }\n",
       "</style>\n",
       "<table border=\"1\" class=\"dataframe\">\n",
       "  <thead>\n",
       "    <tr style=\"text-align: right;\">\n",
       "      <th></th>\n",
       "      <th>i_LSST_abmag</th>\n",
       "      <th>z_LSST_abmag</th>\n",
       "      <th>Y_WFI_abmag</th>\n",
       "      <th>J_WFI_abmag</th>\n",
       "      <th>H_WFI_abmag</th>\n",
       "      <th>F_WFI_abmag</th>\n",
       "    </tr>\n",
       "  </thead>\n",
       "  <tbody>\n",
       "    <tr>\n",
       "      <th>count</th>\n",
       "      <td>117135.000000</td>\n",
       "      <td>117135.000000</td>\n",
       "      <td>117135.000000</td>\n",
       "      <td>117135.000000</td>\n",
       "      <td>117135.000000</td>\n",
       "      <td>117135.000000</td>\n",
       "    </tr>\n",
       "    <tr>\n",
       "      <th>mean</th>\n",
       "      <td>28.327183</td>\n",
       "      <td>28.296568</td>\n",
       "      <td>25.967631</td>\n",
       "      <td>25.356401</td>\n",
       "      <td>25.199814</td>\n",
       "      <td>25.096242</td>\n",
       "    </tr>\n",
       "    <tr>\n",
       "      <th>std</th>\n",
       "      <td>5.243505</td>\n",
       "      <td>8.413743</td>\n",
       "      <td>0.213501</td>\n",
       "      <td>0.122478</td>\n",
       "      <td>0.153628</td>\n",
       "      <td>0.177850</td>\n",
       "    </tr>\n",
       "    <tr>\n",
       "      <th>min</th>\n",
       "      <td>27.212473</td>\n",
       "      <td>26.476851</td>\n",
       "      <td>25.135695</td>\n",
       "      <td>24.529020</td>\n",
       "      <td>24.296207</td>\n",
       "      <td>24.194708</td>\n",
       "    </tr>\n",
       "    <tr>\n",
       "      <th>25%</th>\n",
       "      <td>27.667903</td>\n",
       "      <td>26.953354</td>\n",
       "      <td>25.824509</td>\n",
       "      <td>25.295377</td>\n",
       "      <td>25.118279</td>\n",
       "      <td>24.992867</td>\n",
       "    </tr>\n",
       "    <tr>\n",
       "      <th>50%</th>\n",
       "      <td>27.829668</td>\n",
       "      <td>27.168758</td>\n",
       "      <td>25.964277</td>\n",
       "      <td>25.387623</td>\n",
       "      <td>25.224115</td>\n",
       "      <td>25.110277</td>\n",
       "    </tr>\n",
       "    <tr>\n",
       "      <th>75%</th>\n",
       "      <td>28.089551</td>\n",
       "      <td>27.514382</td>\n",
       "      <td>26.099458</td>\n",
       "      <td>25.450362</td>\n",
       "      <td>25.303319</td>\n",
       "      <td>25.214227</td>\n",
       "    </tr>\n",
       "    <tr>\n",
       "      <th>max</th>\n",
       "      <td>99.989998</td>\n",
       "      <td>99.989998</td>\n",
       "      <td>27.347370</td>\n",
       "      <td>25.499996</td>\n",
       "      <td>25.778473</td>\n",
       "      <td>25.801567</td>\n",
       "    </tr>\n",
       "  </tbody>\n",
       "</table>\n",
       "</div>"
      ],
      "text/plain": [
       "        i_LSST_abmag   z_LSST_abmag    Y_WFI_abmag    J_WFI_abmag  \\\n",
       "count  117135.000000  117135.000000  117135.000000  117135.000000   \n",
       "mean       28.327183      28.296568      25.967631      25.356401   \n",
       "std         5.243505       8.413743       0.213501       0.122478   \n",
       "min        27.212473      26.476851      25.135695      24.529020   \n",
       "25%        27.667903      26.953354      25.824509      25.295377   \n",
       "50%        27.829668      27.168758      25.964277      25.387623   \n",
       "75%        28.089551      27.514382      26.099458      25.450362   \n",
       "max        99.989998      99.989998      27.347370      25.499996   \n",
       "\n",
       "         H_WFI_abmag    F_WFI_abmag  \n",
       "count  117135.000000  117135.000000  \n",
       "mean       25.199814      25.096242  \n",
       "std         0.153628       0.177850  \n",
       "min        24.296207      24.194708  \n",
       "25%        25.118279      24.992867  \n",
       "50%        25.224115      25.110277  \n",
       "75%        25.303319      25.214227  \n",
       "max        25.778473      25.801567  "
      ]
     },
     "execution_count": 47,
     "metadata": {},
     "output_type": "execute_result"
    }
   ],
   "source": [
    "gal_test0 = pd.read_csv('Pq_test_etg_WFI_abmag_wl_117135_J180J255_1130_p0.csv', index_col=False)\n",
    "gal_test0 = gal_test0.replace(99.99, np.nan).dropna()\n",
    "gal_test0 = gal_test0[['i_LSST_abmag', 'z_LSST_abmag', 'Y_WFI_abmag', 'J_WFI_abmag', 'H_WFI_abmag', 'F_WFI_abmag', 'index']]\n",
    "gal_test0.describe()"
   ]
  },
  {
   "cell_type": "code",
   "execution_count": 48,
   "id": "15042478-4019-41bc-8945-c12259ec818b",
   "metadata": {
    "execution": {
     "iopub.execute_input": "2023-08-22T21:06:07.051017Z",
     "iopub.status.busy": "2023-08-22T21:06:07.050347Z",
     "iopub.status.idle": "2023-08-22T21:06:11.298983Z",
     "shell.execute_reply": "2023-08-22T21:06:11.297526Z",
     "shell.execute_reply.started": "2023-08-22T21:06:07.050957Z"
    }
   },
   "outputs": [],
   "source": [
    "gal_test2 = pd.read_csv('Pq_test_etg_WFI_abmag_wl_117134_J180J255_1130_p2.csv', index_col=False)\n",
    "gal_test2 = gal_test2.replace(99.989998, np.nan).dropna()\n",
    "gal_test2 = gal_test2[['i_LSST_abmag', 'z_LSST_abmag', 'Y_WFI_abmag', 'J_WFI_abmag', 'H_WFI_abmag', 'F_WFI_abmag', 'index']]\n",
    "\n",
    "gal_test3 = pd.read_csv('Pq_test_etg_WFI_abmag_wl_117134_J180J255_1130_p3.csv', index_col=False)\n",
    "gal_test3 = gal_test3.replace(99.989998, np.nan).dropna()\n",
    "gal_test3 = gal_test3[['i_LSST_abmag', 'z_LSST_abmag', 'Y_WFI_abmag', 'J_WFI_abmag', 'H_WFI_abmag', 'F_WFI_abmag', 'index']]\n",
    "\n",
    "gal_test4 = pd.read_csv('Pq_test_etg_WFI_abmag_wl_117134_J180J255_1130_p4.csv', index_col=False)\n",
    "gal_test4 = gal_test4.replace(99.989998, np.nan).dropna()\n",
    "gal_test4 = gal_test4[['i_LSST_abmag', 'z_LSST_abmag', 'Y_WFI_abmag', 'J_WFI_abmag', 'H_WFI_abmag', 'F_WFI_abmag', 'index']]\n",
    "\n",
    "gal_test5 = pd.read_csv('Pq_test_etg_WFI_abmag_wl_117134_J180J255_1130_p5.csv', index_col=False)\n",
    "gal_test5 = gal_test5.replace(99.989998, np.nan).dropna()\n",
    "gal_test5 = gal_test5[['i_LSST_abmag', 'z_LSST_abmag', 'Y_WFI_abmag', 'J_WFI_abmag', 'H_WFI_abmag', 'F_WFI_abmag', 'index']]\n",
    "\n",
    "gal_test6 = pd.read_csv('Pq_test_etg_WFI_abmag_wl_117134_J180J255_1130_p6.csv', index_col=False)\n",
    "gal_test6 = gal_test6.replace(99.989998\t, np.nan).dropna()\n",
    "gal_test6 = gal_test6[['i_LSST_abmag', 'z_LSST_abmag', 'Y_WFI_abmag', 'J_WFI_abmag', 'H_WFI_abmag', 'F_WFI_abmag', 'index']]\n",
    "\n",
    "gal_test7 = pd.read_csv('Pq_test_etg_WFI_abmag_wl_117134_J180J255_1130_p7.csv', index_col=False)\n",
    "gal_test7 = gal_test7.replace(99.989998, np.nan).dropna()\n",
    "gal_test7 = gal_test7[['i_LSST_abmag', 'z_LSST_abmag', 'Y_WFI_abmag', 'J_WFI_abmag', 'H_WFI_abmag', 'F_WFI_abmag', 'index']]\n",
    "\n",
    "gal_test9 = pd.read_csv('Pq_test_etg_WFI_abmag_wl_117134_J180J255_1130_p9.csv', index_col=False)\n",
    "gal_test9 = gal_test9.replace(99.989998, np.nan).dropna()\n",
    "gal_test9 = gal_test9[['i_LSST_abmag', 'z_LSST_abmag', 'Y_WFI_abmag', 'J_WFI_abmag', 'H_WFI_abmag', 'F_WFI_abmag', 'index']]"
   ]
  },
  {
   "cell_type": "code",
   "execution_count": 23,
   "id": "6ceb82ed-6083-4bd5-bb56-12c22e9d192a",
   "metadata": {
    "execution": {
     "iopub.execute_input": "2023-08-22T18:24:29.779764Z",
     "iopub.status.busy": "2023-08-22T18:24:29.779384Z",
     "iopub.status.idle": "2023-08-22T18:24:29.825226Z",
     "shell.execute_reply": "2023-08-22T18:24:29.824062Z",
     "shell.execute_reply.started": "2023-08-22T18:24:29.779726Z"
    }
   },
   "outputs": [],
   "source": [
    "'''\n",
    "num_rows = len(galaxies_test)\n",
    "num_sample1 = int(num_rows * frac)\n",
    "num_sample3 = num_rows - 2*num_sample1\n",
    "\n",
    "gal_sample1 = galaxies_test.copy().sample(n=num_sample1, replace=False)\n",
    "remaining_rows = galaxies_test.copy().drop(gal_sample1.index)\n",
    "gal_sample2 = remaining_rows.sample(n=num_sample1, replace=False)\n",
    "gal_sample3 = remaining_rows.drop(gal_sample2.index)\n",
    "'''"
   ]
  },
  {
   "cell_type": "code",
   "execution_count": 49,
   "id": "fcec57a9-6fe6-4269-9a70-c3fb17cbb063",
   "metadata": {
    "execution": {
     "iopub.execute_input": "2023-08-22T21:06:15.064667Z",
     "iopub.status.busy": "2023-08-22T21:06:15.063988Z",
     "iopub.status.idle": "2023-08-22T21:06:15.145136Z",
     "shell.execute_reply": "2023-08-22T21:06:15.143754Z",
     "shell.execute_reply.started": "2023-08-22T21:06:15.064591Z"
    }
   },
   "outputs": [],
   "source": [
    "gal_test = pd.concat([gal_test0, gal_test2, gal_test3, gal_test4, gal_test5, gal_test6, gal_test7, gal_test9], ignore_index=True)"
   ]
  },
  {
   "cell_type": "code",
   "execution_count": 50,
   "id": "04e5e2fa-4111-4c74-b5c6-91c49d559739",
   "metadata": {
    "execution": {
     "iopub.execute_input": "2023-08-22T21:06:16.510668Z",
     "iopub.status.busy": "2023-08-22T21:06:16.510042Z",
     "iopub.status.idle": "2023-08-22T21:06:16.813846Z",
     "shell.execute_reply": "2023-08-22T21:06:16.812755Z",
     "shell.execute_reply.started": "2023-08-22T21:06:16.510589Z"
    }
   },
   "outputs": [
    {
     "data": {
      "text/html": [
       "<div>\n",
       "<style scoped>\n",
       "    .dataframe tbody tr th:only-of-type {\n",
       "        vertical-align: middle;\n",
       "    }\n",
       "\n",
       "    .dataframe tbody tr th {\n",
       "        vertical-align: top;\n",
       "    }\n",
       "\n",
       "    .dataframe thead th {\n",
       "        text-align: right;\n",
       "    }\n",
       "</style>\n",
       "<table border=\"1\" class=\"dataframe\">\n",
       "  <thead>\n",
       "    <tr style=\"text-align: right;\">\n",
       "      <th></th>\n",
       "      <th>i_LSST_abmag</th>\n",
       "      <th>z_LSST_abmag</th>\n",
       "      <th>Y_WFI_abmag</th>\n",
       "      <th>J_WFI_abmag</th>\n",
       "      <th>H_WFI_abmag</th>\n",
       "      <th>F_WFI_abmag</th>\n",
       "    </tr>\n",
       "  </thead>\n",
       "  <tbody>\n",
       "    <tr>\n",
       "      <th>count</th>\n",
       "      <td>937073.000000</td>\n",
       "      <td>937073.000000</td>\n",
       "      <td>937073.000000</td>\n",
       "      <td>937073.000000</td>\n",
       "      <td>937073.000000</td>\n",
       "      <td>937073.000000</td>\n",
       "    </tr>\n",
       "    <tr>\n",
       "      <th>mean</th>\n",
       "      <td>28.344750</td>\n",
       "      <td>28.283682</td>\n",
       "      <td>25.968500</td>\n",
       "      <td>25.356067</td>\n",
       "      <td>25.199298</td>\n",
       "      <td>25.096074</td>\n",
       "    </tr>\n",
       "    <tr>\n",
       "      <th>std</th>\n",
       "      <td>5.359446</td>\n",
       "      <td>8.355454</td>\n",
       "      <td>0.213157</td>\n",
       "      <td>0.122588</td>\n",
       "      <td>0.153372</td>\n",
       "      <td>0.177604</td>\n",
       "    </tr>\n",
       "    <tr>\n",
       "      <th>min</th>\n",
       "      <td>27.173052</td>\n",
       "      <td>26.408033</td>\n",
       "      <td>24.979404</td>\n",
       "      <td>24.482925</td>\n",
       "      <td>24.240412</td>\n",
       "      <td>24.078810</td>\n",
       "    </tr>\n",
       "    <tr>\n",
       "      <th>25%</th>\n",
       "      <td>27.667557</td>\n",
       "      <td>26.955429</td>\n",
       "      <td>25.825306</td>\n",
       "      <td>25.295462</td>\n",
       "      <td>25.118246</td>\n",
       "      <td>24.993448</td>\n",
       "    </tr>\n",
       "    <tr>\n",
       "      <th>50%</th>\n",
       "      <td>27.830334</td>\n",
       "      <td>27.170858</td>\n",
       "      <td>25.965355</td>\n",
       "      <td>25.387077</td>\n",
       "      <td>25.223955</td>\n",
       "      <td>25.110693</td>\n",
       "    </tr>\n",
       "    <tr>\n",
       "      <th>75%</th>\n",
       "      <td>28.089283</td>\n",
       "      <td>27.514488</td>\n",
       "      <td>26.100342</td>\n",
       "      <td>25.449722</td>\n",
       "      <td>25.302822</td>\n",
       "      <td>25.213869</td>\n",
       "    </tr>\n",
       "    <tr>\n",
       "      <th>max</th>\n",
       "      <td>99.989998</td>\n",
       "      <td>99.989998</td>\n",
       "      <td>27.525999</td>\n",
       "      <td>25.500000</td>\n",
       "      <td>25.784363</td>\n",
       "      <td>25.946293</td>\n",
       "    </tr>\n",
       "  </tbody>\n",
       "</table>\n",
       "</div>"
      ],
      "text/plain": [
       "        i_LSST_abmag   z_LSST_abmag    Y_WFI_abmag    J_WFI_abmag  \\\n",
       "count  937073.000000  937073.000000  937073.000000  937073.000000   \n",
       "mean       28.344750      28.283682      25.968500      25.356067   \n",
       "std         5.359446       8.355454       0.213157       0.122588   \n",
       "min        27.173052      26.408033      24.979404      24.482925   \n",
       "25%        27.667557      26.955429      25.825306      25.295462   \n",
       "50%        27.830334      27.170858      25.965355      25.387077   \n",
       "75%        28.089283      27.514488      26.100342      25.449722   \n",
       "max        99.989998      99.989998      27.525999      25.500000   \n",
       "\n",
       "         H_WFI_abmag    F_WFI_abmag  \n",
       "count  937073.000000  937073.000000  \n",
       "mean       25.199298      25.096074  \n",
       "std         0.153372       0.177604  \n",
       "min        24.240412      24.078810  \n",
       "25%        25.118246      24.993448  \n",
       "50%        25.223955      25.110693  \n",
       "75%        25.302822      25.213869  \n",
       "max        25.784363      25.946293  "
      ]
     },
     "execution_count": 50,
     "metadata": {},
     "output_type": "execute_result"
    }
   ],
   "source": [
    "gal_test.describe()"
   ]
  },
  {
   "cell_type": "code",
   "execution_count": 51,
   "id": "d51b7e24-587a-427f-a654-e278ff5482c6",
   "metadata": {
    "execution": {
     "iopub.execute_input": "2023-08-22T21:06:20.066700Z",
     "iopub.status.busy": "2023-08-22T21:06:20.066046Z",
     "iopub.status.idle": "2023-08-22T21:06:20.190839Z",
     "shell.execute_reply": "2023-08-22T21:06:20.189522Z",
     "shell.execute_reply.started": "2023-08-22T21:06:20.066639Z"
    }
   },
   "outputs": [],
   "source": [
    "gal_test_copy = gal_test.copy().drop(columns=['index'])"
   ]
  },
  {
   "cell_type": "code",
   "execution_count": 52,
   "id": "cc5647b5-d705-4b87-ba69-2550f3cd5155",
   "metadata": {
    "execution": {
     "iopub.execute_input": "2023-08-22T21:06:21.628639Z",
     "iopub.status.busy": "2023-08-22T21:06:21.628031Z",
     "iopub.status.idle": "2023-08-22T21:06:36.279220Z",
     "shell.execute_reply": "2023-08-22T21:06:36.277562Z",
     "shell.execute_reply.started": "2023-08-22T21:06:21.628567Z"
    }
   },
   "outputs": [
    {
     "name": "stdout",
     "output_type": "stream",
     "text": [
      "prediction okay\n"
     ]
    }
   ],
   "source": [
    "# x: z - J\n",
    "# y: Y - H\n",
    "testf_1a = [gal_test_copy['z_LSST_abmag']-gal_test_copy['J_WFI_abmag'], gal_test_copy['Y_WFI_abmag']-gal_test_copy['H_WFI_abmag']]\n",
    "prob_1a = filter1a.predict_proba(np.array(testf_1a).transpose())\n",
    "print('prediction okay')\n",
    "# prob_1a: [prob of negative class, prob of positive class]\n",
    "gal_test_copy['prob_1a'] = prob_1a[:, 1]"
   ]
  },
  {
   "cell_type": "code",
   "execution_count": 53,
   "id": "2417bc44-5c77-4771-9ecb-4a72baa99882",
   "metadata": {
    "execution": {
     "iopub.execute_input": "2023-08-22T21:06:38.692985Z",
     "iopub.status.busy": "2023-08-22T21:06:38.692352Z",
     "iopub.status.idle": "2023-08-22T21:06:53.140417Z",
     "shell.execute_reply": "2023-08-22T21:06:53.138869Z",
     "shell.execute_reply.started": "2023-08-22T21:06:38.692927Z"
    }
   },
   "outputs": [],
   "source": [
    "# x: Y - H \n",
    "# y: i - H\n",
    "\n",
    "prob_1b = filter1b.predict_proba(np.array([gal_test_copy['Y_WFI_abmag']-gal_test_copy['H_WFI_abmag'], gal_test_copy['i_LSST_abmag']-gal_test_copy['H_WFI_abmag']]).transpose())\n",
    "\n",
    "gal_test_copy['prob_1b'] = prob_1b[:, 1]"
   ]
  },
  {
   "cell_type": "code",
   "execution_count": 54,
   "id": "01ef5331-f7bb-491b-8fcf-b29ba6572d06",
   "metadata": {
    "execution": {
     "iopub.execute_input": "2023-08-22T21:07:31.684356Z",
     "iopub.status.busy": "2023-08-22T21:07:31.683699Z",
     "iopub.status.idle": "2023-08-22T21:08:00.589110Z",
     "shell.execute_reply": "2023-08-22T21:08:00.587967Z",
     "shell.execute_reply.started": "2023-08-22T21:07:31.684298Z"
    }
   },
   "outputs": [],
   "source": [
    "# x: z - H\n",
    "# y: J - H\n",
    "\n",
    "prob_1c = filter1c.predict_proba(np.array([gal_test_copy['z_LSST_abmag']-gal_test_copy['H_WFI_abmag'], gal_test_copy['J_WFI_abmag']-gal_test_copy['H_WFI_abmag']]).transpose())\n",
    "\n",
    "gal_test_copy['prob_1c'] = prob_1c[:, 1]"
   ]
  },
  {
   "cell_type": "code",
   "execution_count": 55,
   "id": "df030333-3432-448d-8161-4c8267d538f7",
   "metadata": {
    "execution": {
     "iopub.execute_input": "2023-08-22T21:08:45.062661Z",
     "iopub.status.busy": "2023-08-22T21:08:45.062003Z",
     "iopub.status.idle": "2023-08-22T21:09:27.504328Z",
     "shell.execute_reply": "2023-08-22T21:09:27.502657Z",
     "shell.execute_reply.started": "2023-08-22T21:08:45.062586Z"
    }
   },
   "outputs": [],
   "source": [
    "# x: z - Y\n",
    "# y: i - Y\n",
    "\n",
    "prob_1d = filter1d.predict_proba(np.array([gal_test_copy['z_LSST_abmag']-gal_test_copy['Y_WFI_abmag'], gal_test_copy['i_LSST_abmag']-gal_test_copy['Y_WFI_abmag']]).transpose())\n",
    "\n",
    "gal_test_copy['prob_1d'] = prob_1d[:, 1]"
   ]
  },
  {
   "cell_type": "code",
   "execution_count": 56,
   "id": "f23f391a-120a-4776-90ad-a786626e44b0",
   "metadata": {
    "execution": {
     "iopub.execute_input": "2023-08-22T21:09:56.068241Z",
     "iopub.status.busy": "2023-08-22T21:09:56.067538Z",
     "iopub.status.idle": "2023-08-22T21:10:20.046811Z",
     "shell.execute_reply": "2023-08-22T21:10:20.045253Z",
     "shell.execute_reply.started": "2023-08-22T21:09:56.068178Z"
    }
   },
   "outputs": [],
   "source": [
    "# x: Y - J\n",
    "# y: J - H\n",
    "\n",
    "prob_1e = filter1e.predict_proba(np.array([gal_test_copy['Y_WFI_abmag']-gal_test_copy['J_WFI_abmag'], gal_test_copy['J_WFI_abmag']-gal_test_copy['H_WFI_abmag']]).transpose())\n",
    "\n",
    "gal_test_copy['prob_1e'] = prob_1e[:, 1]"
   ]
  },
  {
   "cell_type": "code",
   "execution_count": 57,
   "id": "7505c7ca-b49b-4b7e-816a-77e82d4826f7",
   "metadata": {
    "execution": {
     "iopub.execute_input": "2023-08-22T21:11:39.559512Z",
     "iopub.status.busy": "2023-08-22T21:11:39.558827Z",
     "iopub.status.idle": "2023-08-22T21:12:05.212798Z",
     "shell.execute_reply": "2023-08-22T21:12:05.211228Z",
     "shell.execute_reply.started": "2023-08-22T21:11:39.559449Z"
    }
   },
   "outputs": [],
   "source": [
    "# x: i - Y\n",
    "# y: J - H\n",
    "\n",
    "prob_1f = filter1f.predict_proba(np.array([gal_test_copy['i_LSST_abmag']-gal_test_copy['Y_WFI_abmag'], gal_test_copy['J_WFI_abmag']-gal_test_copy['H_WFI_abmag']]).transpose())\n",
    "\n",
    "gal_test_copy['prob_1f'] = prob_1f[:, 1]"
   ]
  },
  {
   "cell_type": "code",
   "execution_count": null,
   "id": "d7030062-e9b4-4a2a-ab61-e56a7cd4a832",
   "metadata": {},
   "outputs": [],
   "source": []
  },
  {
   "cell_type": "code",
   "execution_count": 58,
   "id": "c4777776-8364-47f7-8039-1fe5a5851b26",
   "metadata": {
    "execution": {
     "iopub.execute_input": "2023-08-22T21:14:03.228411Z",
     "iopub.status.busy": "2023-08-22T21:14:03.227766Z",
     "iopub.status.idle": "2023-08-22T21:14:03.507515Z",
     "shell.execute_reply": "2023-08-22T21:14:03.506093Z",
     "shell.execute_reply.started": "2023-08-22T21:14:03.228353Z"
    }
   },
   "outputs": [
    {
     "name": "stdout",
     "output_type": "stream",
     "text": [
      "(937073,)\n"
     ]
    }
   ],
   "source": [
    "# use best scores as weights:\n",
    "weights = [0.9882, 0.9938, 0.9463, 0.9678, 0.95, 0.9161]\n",
    "probabilities = gal_test_copy[['prob_1a', 'prob_1b', 'prob_1c', 'prob_1d', 'prob_1e', 'prob_1f']]\n",
    "cols = ['prob_1a', 'prob_1b', 'prob_1c', 'prob_1d', 'prob_1e', 'prob_1f']\n",
    "\n",
    "wprob = np.zeros(len(probabilities['prob_1a']))\n",
    "for i in range(len(weights)):\n",
    "    sum_weights = sum(weights)\n",
    "    wprob += weights[i]*probabilities[cols[i]]/sum_weights\n",
    "\n",
    "print(wprob.shape)"
   ]
  },
  {
   "cell_type": "code",
   "execution_count": 59,
   "id": "16f5851c-bbc1-4590-ab8d-ff07dedee234",
   "metadata": {
    "execution": {
     "iopub.execute_input": "2023-08-22T21:14:07.456352Z",
     "iopub.status.busy": "2023-08-22T21:14:07.455705Z",
     "iopub.status.idle": "2023-08-22T21:14:07.493189Z",
     "shell.execute_reply": "2023-08-22T21:14:07.491868Z",
     "shell.execute_reply.started": "2023-08-22T21:14:07.456292Z"
    }
   },
   "outputs": [
    {
     "data": {
      "text/html": [
       "<div>\n",
       "<style scoped>\n",
       "    .dataframe tbody tr th:only-of-type {\n",
       "        vertical-align: middle;\n",
       "    }\n",
       "\n",
       "    .dataframe tbody tr th {\n",
       "        vertical-align: top;\n",
       "    }\n",
       "\n",
       "    .dataframe thead th {\n",
       "        text-align: right;\n",
       "    }\n",
       "</style>\n",
       "<table border=\"1\" class=\"dataframe\">\n",
       "  <thead>\n",
       "    <tr style=\"text-align: right;\">\n",
       "      <th></th>\n",
       "      <th>i_LSST_abmag</th>\n",
       "      <th>z_LSST_abmag</th>\n",
       "      <th>Y_WFI_abmag</th>\n",
       "      <th>J_WFI_abmag</th>\n",
       "      <th>H_WFI_abmag</th>\n",
       "      <th>F_WFI_abmag</th>\n",
       "      <th>prob_1a</th>\n",
       "      <th>prob_1b</th>\n",
       "      <th>prob_1c</th>\n",
       "      <th>prob_1d</th>\n",
       "      <th>prob_1e</th>\n",
       "      <th>prob_1f</th>\n",
       "      <th>weighted prob</th>\n",
       "    </tr>\n",
       "  </thead>\n",
       "  <tbody>\n",
       "    <tr>\n",
       "      <th>0</th>\n",
       "      <td>28.008736</td>\n",
       "      <td>27.050222</td>\n",
       "      <td>25.868145</td>\n",
       "      <td>25.395338</td>\n",
       "      <td>25.349953</td>\n",
       "      <td>25.089819</td>\n",
       "      <td>0.0</td>\n",
       "      <td>0.0</td>\n",
       "      <td>0.166667</td>\n",
       "      <td>0.266667</td>\n",
       "      <td>0.307692</td>\n",
       "      <td>0.576923</td>\n",
       "      <td>0.214610</td>\n",
       "    </tr>\n",
       "    <tr>\n",
       "      <th>1</th>\n",
       "      <td>27.582060</td>\n",
       "      <td>26.928055</td>\n",
       "      <td>25.805952</td>\n",
       "      <td>25.391806</td>\n",
       "      <td>25.221956</td>\n",
       "      <td>24.979414</td>\n",
       "      <td>0.0</td>\n",
       "      <td>0.0</td>\n",
       "      <td>0.000000</td>\n",
       "      <td>0.044444</td>\n",
       "      <td>0.038462</td>\n",
       "      <td>0.038462</td>\n",
       "      <td>0.019921</td>\n",
       "    </tr>\n",
       "    <tr>\n",
       "      <th>2</th>\n",
       "      <td>27.598421</td>\n",
       "      <td>26.773746</td>\n",
       "      <td>25.740219</td>\n",
       "      <td>25.283543</td>\n",
       "      <td>25.109581</td>\n",
       "      <td>24.904301</td>\n",
       "      <td>0.0</td>\n",
       "      <td>0.0</td>\n",
       "      <td>0.000000</td>\n",
       "      <td>0.022222</td>\n",
       "      <td>0.038462</td>\n",
       "      <td>0.038462</td>\n",
       "      <td>0.016188</td>\n",
       "    </tr>\n",
       "    <tr>\n",
       "      <th>3</th>\n",
       "      <td>27.707771</td>\n",
       "      <td>27.053661</td>\n",
       "      <td>25.860447</td>\n",
       "      <td>25.476072</td>\n",
       "      <td>25.288433</td>\n",
       "      <td>25.147314</td>\n",
       "      <td>0.0</td>\n",
       "      <td>0.0</td>\n",
       "      <td>0.000000</td>\n",
       "      <td>0.155556</td>\n",
       "      <td>0.000000</td>\n",
       "      <td>0.000000</td>\n",
       "      <td>0.026127</td>\n",
       "    </tr>\n",
       "    <tr>\n",
       "      <th>4</th>\n",
       "      <td>28.676924</td>\n",
       "      <td>27.005449</td>\n",
       "      <td>25.522226</td>\n",
       "      <td>25.230698</td>\n",
       "      <td>25.075720</td>\n",
       "      <td>25.011555</td>\n",
       "      <td>0.0</td>\n",
       "      <td>0.0</td>\n",
       "      <td>0.000000</td>\n",
       "      <td>0.000000</td>\n",
       "      <td>0.000000</td>\n",
       "      <td>0.000000</td>\n",
       "      <td>0.000000</td>\n",
       "    </tr>\n",
       "  </tbody>\n",
       "</table>\n",
       "</div>"
      ],
      "text/plain": [
       "   i_LSST_abmag  z_LSST_abmag  Y_WFI_abmag  J_WFI_abmag  H_WFI_abmag  \\\n",
       "0     28.008736     27.050222    25.868145    25.395338    25.349953   \n",
       "1     27.582060     26.928055    25.805952    25.391806    25.221956   \n",
       "2     27.598421     26.773746    25.740219    25.283543    25.109581   \n",
       "3     27.707771     27.053661    25.860447    25.476072    25.288433   \n",
       "4     28.676924     27.005449    25.522226    25.230698    25.075720   \n",
       "\n",
       "   F_WFI_abmag  prob_1a  prob_1b   prob_1c   prob_1d   prob_1e   prob_1f  \\\n",
       "0    25.089819      0.0      0.0  0.166667  0.266667  0.307692  0.576923   \n",
       "1    24.979414      0.0      0.0  0.000000  0.044444  0.038462  0.038462   \n",
       "2    24.904301      0.0      0.0  0.000000  0.022222  0.038462  0.038462   \n",
       "3    25.147314      0.0      0.0  0.000000  0.155556  0.000000  0.000000   \n",
       "4    25.011555      0.0      0.0  0.000000  0.000000  0.000000  0.000000   \n",
       "\n",
       "   weighted prob  \n",
       "0       0.214610  \n",
       "1       0.019921  \n",
       "2       0.016188  \n",
       "3       0.026127  \n",
       "4       0.000000  "
      ]
     },
     "execution_count": 59,
     "metadata": {},
     "output_type": "execute_result"
    }
   ],
   "source": [
    "gal_test_copy['weighted prob'] = wprob\n",
    "gal_test_copy.head()"
   ]
  },
  {
   "cell_type": "code",
   "execution_count": 91,
   "id": "5b2f6e9e-64f0-4fac-95fb-ec085818e7eb",
   "metadata": {
    "execution": {
     "iopub.execute_input": "2023-08-22T21:42:32.333737Z",
     "iopub.status.busy": "2023-08-22T21:42:32.333085Z",
     "iopub.status.idle": "2023-08-22T21:42:32.344411Z",
     "shell.execute_reply": "2023-08-22T21:42:32.342683Z",
     "shell.execute_reply.started": "2023-08-22T21:42:32.333677Z"
    }
   },
   "outputs": [],
   "source": [
    "gal_fp = gal_test_copy[gal_test_copy['weighted prob'] > 0.6]"
   ]
  },
  {
   "cell_type": "code",
   "execution_count": 100,
   "id": "b00a3719-aab7-468f-9b81-286789fa1a19",
   "metadata": {
    "execution": {
     "iopub.execute_input": "2023-08-22T21:51:10.233481Z",
     "iopub.status.busy": "2023-08-22T21:51:10.232834Z",
     "iopub.status.idle": "2023-08-22T21:51:13.035036Z",
     "shell.execute_reply": "2023-08-22T21:51:13.033593Z",
     "shell.execute_reply.started": "2023-08-22T21:51:10.233424Z"
    }
   },
   "outputs": [
    {
     "data": {
      "text/html": [
       "<div>\n",
       "<style scoped>\n",
       "    .dataframe tbody tr th:only-of-type {\n",
       "        vertical-align: middle;\n",
       "    }\n",
       "\n",
       "    .dataframe tbody tr th {\n",
       "        vertical-align: top;\n",
       "    }\n",
       "\n",
       "    .dataframe thead th {\n",
       "        text-align: right;\n",
       "    }\n",
       "</style>\n",
       "<table border=\"1\" class=\"dataframe\">\n",
       "  <thead>\n",
       "    <tr style=\"text-align: right;\">\n",
       "      <th></th>\n",
       "      <th>i_LSST_abmag</th>\n",
       "      <th>z_LSST_abmag</th>\n",
       "      <th>Y_WFI_abmag</th>\n",
       "      <th>J_WFI_abmag</th>\n",
       "      <th>H_WFI_abmag</th>\n",
       "      <th>F_WFI_abmag</th>\n",
       "      <th>prob_1a</th>\n",
       "      <th>prob_1b</th>\n",
       "      <th>prob_1c</th>\n",
       "      <th>prob_1d</th>\n",
       "      <th>prob_1e</th>\n",
       "      <th>prob_1f</th>\n",
       "      <th>weighted prob</th>\n",
       "    </tr>\n",
       "  </thead>\n",
       "  <tbody>\n",
       "    <tr>\n",
       "      <th>count</th>\n",
       "      <td>2888.000000</td>\n",
       "      <td>2888.000000</td>\n",
       "      <td>2888.000000</td>\n",
       "      <td>2888.000000</td>\n",
       "      <td>2888.000000</td>\n",
       "      <td>2888.000000</td>\n",
       "      <td>2888.000000</td>\n",
       "      <td>2888.000000</td>\n",
       "      <td>2888.000000</td>\n",
       "      <td>2888.000000</td>\n",
       "      <td>2888.000000</td>\n",
       "      <td>2888.000000</td>\n",
       "      <td>2888.000000</td>\n",
       "    </tr>\n",
       "    <tr>\n",
       "      <th>mean</th>\n",
       "      <td>41.128388</td>\n",
       "      <td>49.847850</td>\n",
       "      <td>25.880037</td>\n",
       "      <td>25.418254</td>\n",
       "      <td>25.369551</td>\n",
       "      <td>25.239718</td>\n",
       "      <td>0.886853</td>\n",
       "      <td>0.492409</td>\n",
       "      <td>0.862910</td>\n",
       "      <td>0.711681</td>\n",
       "      <td>0.465414</td>\n",
       "      <td>0.673783</td>\n",
       "      <td>0.682114</td>\n",
       "    </tr>\n",
       "    <tr>\n",
       "      <th>std</th>\n",
       "      <td>27.414334</td>\n",
       "      <td>32.768865</td>\n",
       "      <td>0.261006</td>\n",
       "      <td>0.076570</td>\n",
       "      <td>0.140882</td>\n",
       "      <td>0.163138</td>\n",
       "      <td>0.256113</td>\n",
       "      <td>0.434303</td>\n",
       "      <td>0.238886</td>\n",
       "      <td>0.377758</td>\n",
       "      <td>0.353696</td>\n",
       "      <td>0.235989</td>\n",
       "      <td>0.077413</td>\n",
       "    </tr>\n",
       "    <tr>\n",
       "      <th>min</th>\n",
       "      <td>27.373360</td>\n",
       "      <td>26.536684</td>\n",
       "      <td>25.331009</td>\n",
       "      <td>24.858419</td>\n",
       "      <td>24.718040</td>\n",
       "      <td>24.566710</td>\n",
       "      <td>0.000000</td>\n",
       "      <td>0.000000</td>\n",
       "      <td>0.000000</td>\n",
       "      <td>0.000000</td>\n",
       "      <td>0.000000</td>\n",
       "      <td>0.000000</td>\n",
       "      <td>0.600091</td>\n",
       "    </tr>\n",
       "    <tr>\n",
       "      <th>25%</th>\n",
       "      <td>27.778192</td>\n",
       "      <td>27.138864</td>\n",
       "      <td>25.688772</td>\n",
       "      <td>25.384380</td>\n",
       "      <td>25.288645</td>\n",
       "      <td>25.133106</td>\n",
       "      <td>0.923077</td>\n",
       "      <td>0.000000</td>\n",
       "      <td>0.833333</td>\n",
       "      <td>0.266667</td>\n",
       "      <td>0.076923</td>\n",
       "      <td>0.538462</td>\n",
       "      <td>0.621961</td>\n",
       "    </tr>\n",
       "    <tr>\n",
       "      <th>50%</th>\n",
       "      <td>28.025576</td>\n",
       "      <td>29.390920</td>\n",
       "      <td>25.833334</td>\n",
       "      <td>25.441075</td>\n",
       "      <td>25.383632</td>\n",
       "      <td>25.238748</td>\n",
       "      <td>1.000000</td>\n",
       "      <td>0.538462</td>\n",
       "      <td>1.000000</td>\n",
       "      <td>1.000000</td>\n",
       "      <td>0.461538</td>\n",
       "      <td>0.653846</td>\n",
       "      <td>0.654507</td>\n",
       "    </tr>\n",
       "    <tr>\n",
       "      <th>75%</th>\n",
       "      <td>30.335320</td>\n",
       "      <td>99.989998</td>\n",
       "      <td>26.013277</td>\n",
       "      <td>25.474654</td>\n",
       "      <td>25.464498</td>\n",
       "      <td>25.351453</td>\n",
       "      <td>1.000000</td>\n",
       "      <td>1.000000</td>\n",
       "      <td>1.000000</td>\n",
       "      <td>1.000000</td>\n",
       "      <td>0.807692</td>\n",
       "      <td>0.846154</td>\n",
       "      <td>0.720776</td>\n",
       "    </tr>\n",
       "    <tr>\n",
       "      <th>max</th>\n",
       "      <td>99.989998</td>\n",
       "      <td>99.989998</td>\n",
       "      <td>27.308872</td>\n",
       "      <td>25.499928</td>\n",
       "      <td>25.729258</td>\n",
       "      <td>25.789831</td>\n",
       "      <td>1.000000</td>\n",
       "      <td>1.000000</td>\n",
       "      <td>1.000000</td>\n",
       "      <td>1.000000</td>\n",
       "      <td>1.000000</td>\n",
       "      <td>1.000000</td>\n",
       "      <td>0.974636</td>\n",
       "    </tr>\n",
       "  </tbody>\n",
       "</table>\n",
       "</div>"
      ],
      "text/plain": [
       "       i_LSST_abmag  z_LSST_abmag  Y_WFI_abmag  J_WFI_abmag  H_WFI_abmag  \\\n",
       "count   2888.000000   2888.000000  2888.000000  2888.000000  2888.000000   \n",
       "mean      41.128388     49.847850    25.880037    25.418254    25.369551   \n",
       "std       27.414334     32.768865     0.261006     0.076570     0.140882   \n",
       "min       27.373360     26.536684    25.331009    24.858419    24.718040   \n",
       "25%       27.778192     27.138864    25.688772    25.384380    25.288645   \n",
       "50%       28.025576     29.390920    25.833334    25.441075    25.383632   \n",
       "75%       30.335320     99.989998    26.013277    25.474654    25.464498   \n",
       "max       99.989998     99.989998    27.308872    25.499928    25.729258   \n",
       "\n",
       "       F_WFI_abmag      prob_1a      prob_1b      prob_1c      prob_1d  \\\n",
       "count  2888.000000  2888.000000  2888.000000  2888.000000  2888.000000   \n",
       "mean     25.239718     0.886853     0.492409     0.862910     0.711681   \n",
       "std       0.163138     0.256113     0.434303     0.238886     0.377758   \n",
       "min      24.566710     0.000000     0.000000     0.000000     0.000000   \n",
       "25%      25.133106     0.923077     0.000000     0.833333     0.266667   \n",
       "50%      25.238748     1.000000     0.538462     1.000000     1.000000   \n",
       "75%      25.351453     1.000000     1.000000     1.000000     1.000000   \n",
       "max      25.789831     1.000000     1.000000     1.000000     1.000000   \n",
       "\n",
       "           prob_1e      prob_1f  weighted prob  \n",
       "count  2888.000000  2888.000000    2888.000000  \n",
       "mean      0.465414     0.673783       0.682114  \n",
       "std       0.353696     0.235989       0.077413  \n",
       "min       0.000000     0.000000       0.600091  \n",
       "25%       0.076923     0.538462       0.621961  \n",
       "50%       0.461538     0.653846       0.654507  \n",
       "75%       0.807692     0.846154       0.720776  \n",
       "max       1.000000     1.000000       0.974636  "
      ]
     },
     "execution_count": 100,
     "metadata": {},
     "output_type": "execute_result"
    }
   ],
   "source": [
    "gal_fp = gal_fp.merge(gal_test, on=['i_LSST_abmag', 'z_LSST_abmag', 'Y_WFI_abmag', 'J_WFI_abmag', 'H_WFI_abmag', 'F_WFI_abmag'])\n",
    "# false_positive1 = false_positive1.drop(columns=['z_LSST_magerr', 'label_y', 'spt_x'])\n",
    "# false_positive1 = false_positive1.rename(columns={'label_x': 'label', 'spt_y': 'spt'})\n",
    "gal_fp.describe()"
   ]
  },
  {
   "cell_type": "code",
   "execution_count": 103,
   "id": "8c992a6b-d650-46d0-8c59-b51aa90ae052",
   "metadata": {
    "execution": {
     "iopub.execute_input": "2023-08-22T21:51:39.458887Z",
     "iopub.status.busy": "2023-08-22T21:51:39.458211Z",
     "iopub.status.idle": "2023-08-22T21:51:39.473104Z",
     "shell.execute_reply": "2023-08-22T21:51:39.471544Z",
     "shell.execute_reply.started": "2023-08-22T21:51:39.458830Z"
    }
   },
   "outputs": [
    {
     "name": "stdout",
     "output_type": "stream",
     "text": [
      "Index(['i_LSST_abmag', 'z_LSST_abmag', 'Y_WFI_abmag', 'J_WFI_abmag',\n",
      "       'H_WFI_abmag', 'F_WFI_abmag', 'prob_1a', 'prob_1b', 'prob_1c',\n",
      "       'prob_1d', 'prob_1e', 'prob_1f', 'weighted prob', 'index'],\n",
      "      dtype='object')\n"
     ]
    },
    {
     "data": {
      "text/plain": [
       "0        cosmoDC2-8786-1958286-r1\n",
       "1        cosmoDC2-8786-2727246-r1\n",
       "2        cosmoDC2-8786-3155749-r1\n",
       "3        cosmoDC2-8786-3530290-r1\n",
       "4        cosmoDC2-8786-3953372-r1\n",
       "                  ...            \n",
       "2883    cosmoDC2-10451-3943249-r5\n",
       "2884    cosmoDC2-10452-2648634-r5\n",
       "2885    cosmoDC2-10452-3079183-r5\n",
       "2886    cosmoDC2-10452-5329033-r5\n",
       "2887    cosmoDC2-10452-5983558-r5\n",
       "Name: index, Length: 2888, dtype: object"
      ]
     },
     "execution_count": 103,
     "metadata": {},
     "output_type": "execute_result"
    }
   ],
   "source": [
    "print(gal_fp.columns)\n",
    "gal_fp['index']"
   ]
  },
  {
   "cell_type": "code",
   "execution_count": 67,
   "id": "ae77fc29-a5a1-4696-997b-ea3fd2d9661c",
   "metadata": {
    "execution": {
     "iopub.execute_input": "2023-08-22T21:19:41.376964Z",
     "iopub.status.busy": "2023-08-22T21:19:41.376333Z",
     "iopub.status.idle": "2023-08-22T21:19:41.473000Z",
     "shell.execute_reply": "2023-08-22T21:19:41.471791Z",
     "shell.execute_reply.started": "2023-08-22T21:19:41.376907Z"
    }
   },
   "outputs": [
    {
     "data": {
      "text/html": [
       "<div>\n",
       "<style scoped>\n",
       "    .dataframe tbody tr th:only-of-type {\n",
       "        vertical-align: middle;\n",
       "    }\n",
       "\n",
       "    .dataframe tbody tr th {\n",
       "        vertical-align: top;\n",
       "    }\n",
       "\n",
       "    .dataframe thead th {\n",
       "        text-align: right;\n",
       "    }\n",
       "</style>\n",
       "<table border=\"1\" class=\"dataframe\">\n",
       "  <thead>\n",
       "    <tr style=\"text-align: right;\">\n",
       "      <th></th>\n",
       "      <th>i_LSST_abmag</th>\n",
       "      <th>z_LSST_abmag</th>\n",
       "      <th>Y_WFI_abmag</th>\n",
       "      <th>J_WFI_abmag</th>\n",
       "      <th>H_WFI_abmag</th>\n",
       "      <th>F_WFI_abmag</th>\n",
       "      <th>prob_1a</th>\n",
       "      <th>prob_1b</th>\n",
       "      <th>prob_1c</th>\n",
       "      <th>prob_1d</th>\n",
       "      <th>prob_1e</th>\n",
       "      <th>prob_1f</th>\n",
       "      <th>weighted prob</th>\n",
       "    </tr>\n",
       "  </thead>\n",
       "  <tbody>\n",
       "    <tr>\n",
       "      <th>count</th>\n",
       "      <td>7445.000000</td>\n",
       "      <td>7445.000000</td>\n",
       "      <td>7445.000000</td>\n",
       "      <td>7445.000000</td>\n",
       "      <td>7445.000000</td>\n",
       "      <td>7445.000000</td>\n",
       "      <td>7445.000000</td>\n",
       "      <td>7445.000000</td>\n",
       "      <td>7445.000000</td>\n",
       "      <td>7445.000000</td>\n",
       "      <td>7445.000000</td>\n",
       "      <td>7445.000000</td>\n",
       "      <td>7445.000000</td>\n",
       "    </tr>\n",
       "    <tr>\n",
       "      <th>mean</th>\n",
       "      <td>34.812996</td>\n",
       "      <td>38.173403</td>\n",
       "      <td>25.833734</td>\n",
       "      <td>25.299359</td>\n",
       "      <td>25.301236</td>\n",
       "      <td>25.289639</td>\n",
       "      <td>0.924399</td>\n",
       "      <td>0.413907</td>\n",
       "      <td>0.914040</td>\n",
       "      <td>0.784124</td>\n",
       "      <td>0.309242</td>\n",
       "      <td>0.758914</td>\n",
       "      <td>0.683365</td>\n",
       "    </tr>\n",
       "    <tr>\n",
       "      <th>std</th>\n",
       "      <td>19.212851</td>\n",
       "      <td>23.927827</td>\n",
       "      <td>0.442880</td>\n",
       "      <td>0.435745</td>\n",
       "      <td>0.459125</td>\n",
       "      <td>0.450765</td>\n",
       "      <td>0.209417</td>\n",
       "      <td>0.433326</td>\n",
       "      <td>0.191687</td>\n",
       "      <td>0.342650</td>\n",
       "      <td>0.347010</td>\n",
       "      <td>0.220188</td>\n",
       "      <td>0.078510</td>\n",
       "    </tr>\n",
       "    <tr>\n",
       "      <th>min</th>\n",
       "      <td>26.272934</td>\n",
       "      <td>24.359013</td>\n",
       "      <td>22.696255</td>\n",
       "      <td>22.550955</td>\n",
       "      <td>22.652866</td>\n",
       "      <td>22.452839</td>\n",
       "      <td>0.000000</td>\n",
       "      <td>0.000000</td>\n",
       "      <td>0.000000</td>\n",
       "      <td>0.000000</td>\n",
       "      <td>0.000000</td>\n",
       "      <td>0.000000</td>\n",
       "      <td>0.600091</td>\n",
       "    </tr>\n",
       "    <tr>\n",
       "      <th>25%</th>\n",
       "      <td>27.980274</td>\n",
       "      <td>28.051727</td>\n",
       "      <td>25.613947</td>\n",
       "      <td>25.110559</td>\n",
       "      <td>25.094873</td>\n",
       "      <td>25.073669</td>\n",
       "      <td>1.000000</td>\n",
       "      <td>0.000000</td>\n",
       "      <td>0.944444</td>\n",
       "      <td>0.577778</td>\n",
       "      <td>0.000000</td>\n",
       "      <td>0.615385</td>\n",
       "      <td>0.624661</td>\n",
       "    </tr>\n",
       "    <tr>\n",
       "      <th>50%</th>\n",
       "      <td>28.970104</td>\n",
       "      <td>29.111770</td>\n",
       "      <td>25.826466</td>\n",
       "      <td>25.412382</td>\n",
       "      <td>25.360226</td>\n",
       "      <td>25.267935</td>\n",
       "      <td>1.000000</td>\n",
       "      <td>0.230769</td>\n",
       "      <td>1.000000</td>\n",
       "      <td>1.000000</td>\n",
       "      <td>0.153846</td>\n",
       "      <td>0.769231</td>\n",
       "      <td>0.656549</td>\n",
       "    </tr>\n",
       "    <tr>\n",
       "      <th>75%</th>\n",
       "      <td>30.486628</td>\n",
       "      <td>30.545315</td>\n",
       "      <td>26.087448</td>\n",
       "      <td>25.487984</td>\n",
       "      <td>25.527712</td>\n",
       "      <td>25.510563</td>\n",
       "      <td>1.000000</td>\n",
       "      <td>0.923077</td>\n",
       "      <td>1.000000</td>\n",
       "      <td>1.000000</td>\n",
       "      <td>0.615385</td>\n",
       "      <td>0.961538</td>\n",
       "      <td>0.720638</td>\n",
       "    </tr>\n",
       "    <tr>\n",
       "      <th>max</th>\n",
       "      <td>99.989998</td>\n",
       "      <td>99.989998</td>\n",
       "      <td>27.822073</td>\n",
       "      <td>26.589024</td>\n",
       "      <td>26.684883</td>\n",
       "      <td>26.613080</td>\n",
       "      <td>1.000000</td>\n",
       "      <td>1.000000</td>\n",
       "      <td>1.000000</td>\n",
       "      <td>1.000000</td>\n",
       "      <td>1.000000</td>\n",
       "      <td>1.000000</td>\n",
       "      <td>0.993659</td>\n",
       "    </tr>\n",
       "  </tbody>\n",
       "</table>\n",
       "</div>"
      ],
      "text/plain": [
       "       i_LSST_abmag  z_LSST_abmag  Y_WFI_abmag  J_WFI_abmag  H_WFI_abmag  \\\n",
       "count   7445.000000   7445.000000  7445.000000  7445.000000  7445.000000   \n",
       "mean      34.812996     38.173403    25.833734    25.299359    25.301236   \n",
       "std       19.212851     23.927827     0.442880     0.435745     0.459125   \n",
       "min       26.272934     24.359013    22.696255    22.550955    22.652866   \n",
       "25%       27.980274     28.051727    25.613947    25.110559    25.094873   \n",
       "50%       28.970104     29.111770    25.826466    25.412382    25.360226   \n",
       "75%       30.486628     30.545315    26.087448    25.487984    25.527712   \n",
       "max       99.989998     99.989998    27.822073    26.589024    26.684883   \n",
       "\n",
       "       F_WFI_abmag      prob_1a      prob_1b      prob_1c      prob_1d  \\\n",
       "count  7445.000000  7445.000000  7445.000000  7445.000000  7445.000000   \n",
       "mean     25.289639     0.924399     0.413907     0.914040     0.784124   \n",
       "std       0.450765     0.209417     0.433326     0.191687     0.342650   \n",
       "min      22.452839     0.000000     0.000000     0.000000     0.000000   \n",
       "25%      25.073669     1.000000     0.000000     0.944444     0.577778   \n",
       "50%      25.267935     1.000000     0.230769     1.000000     1.000000   \n",
       "75%      25.510563     1.000000     0.923077     1.000000     1.000000   \n",
       "max      26.613080     1.000000     1.000000     1.000000     1.000000   \n",
       "\n",
       "           prob_1e      prob_1f  weighted prob  \n",
       "count  7445.000000  7445.000000    7445.000000  \n",
       "mean      0.309242     0.758914       0.683365  \n",
       "std       0.347010     0.220188       0.078510  \n",
       "min       0.000000     0.000000       0.600091  \n",
       "25%       0.000000     0.615385       0.624661  \n",
       "50%       0.153846     0.769231       0.656549  \n",
       "75%       0.615385     0.961538       0.720638  \n",
       "max       1.000000     1.000000       0.993659  "
      ]
     },
     "execution_count": 67,
     "metadata": {},
     "output_type": "execute_result"
    }
   ],
   "source": [
    "fp = pd.concat([fp1, gal_fp], ignore_index=True).drop_duplicates(['z_LSST_abmag','J_WFI_abmag'], keep='last')\n",
    "fp.describe()"
   ]
  },
  {
   "cell_type": "code",
   "execution_count": 68,
   "id": "da297c70-b94e-4959-b5aa-422fbdb41811",
   "metadata": {
    "execution": {
     "iopub.execute_input": "2023-08-22T21:19:53.194982Z",
     "iopub.status.busy": "2023-08-22T21:19:53.194341Z",
     "iopub.status.idle": "2023-08-22T21:19:53.206078Z",
     "shell.execute_reply": "2023-08-22T21:19:53.204548Z",
     "shell.execute_reply.started": "2023-08-22T21:19:53.194924Z"
    }
   },
   "outputs": [
    {
     "name": "stdout",
     "output_type": "stream",
     "text": [
      "w/o specific snr constraints, probability prediction results on the entire test catalogs:\n",
      "\n",
      "precision: 0.1288\n",
      "recall: 0.9591\n"
     ]
    }
   ],
   "source": [
    "print('w/o specific snr constraints, probability prediction results on the entire test catalogs:\\n')\n",
    "print('precision:', round(tp1.shape[0]/(tp1.shape[0]+fp.shape[0]), 4))\n",
    "print('recall:', round(tp1.shape[0]/(tp1.shape[0]+fn1.shape[0]), 4))"
   ]
  },
  {
   "cell_type": "code",
   "execution_count": 124,
   "id": "e3d8c8c2-47e6-4146-a397-7671ac539ce3",
   "metadata": {
    "execution": {
     "iopub.execute_input": "2023-08-22T22:34:25.165747Z",
     "iopub.status.busy": "2023-08-22T22:34:25.165070Z",
     "iopub.status.idle": "2023-08-22T22:34:25.185043Z",
     "shell.execute_reply": "2023-08-22T22:34:25.183702Z",
     "shell.execute_reply.started": "2023-08-22T22:34:25.165686Z"
    }
   },
   "outputs": [
    {
     "name": "stdout",
     "output_type": "stream",
     "text": [
      "w/o specific snr constraints, probability prediction results on the entire test catalogs, limit z < 26:\n",
      "\n",
      "precision: 0.9624\n",
      "recall: 0.9951\n"
     ]
    }
   ],
   "source": [
    "print('w/o specific snr constraints, probability prediction results on the entire test catalogs, limit z < 26:\\n')\n",
    "print('precision:', round(tp1[tp1['z_LSST_abmag']<26.0].shape[0]/(tp1[tp1['z_LSST_abmag']<26.0].shape[0]+fp[fp['z_LSST_abmag']<26.0].shape[0]), 4))\n",
    "print('recall:', round(tp1[tp1['z_LSST_abmag']<26.0].shape[0]/(tp1[tp1['z_LSST_abmag']<26.0].shape[0]+fn1[fn1['z_LSST_abmag']<26.0].shape[0]), 4))"
   ]
  },
  {
   "cell_type": "code",
   "execution_count": 115,
   "id": "9d07689c-baec-45d0-abe5-d638b32dca77",
   "metadata": {
    "execution": {
     "iopub.execute_input": "2023-08-22T22:03:17.418924Z",
     "iopub.status.busy": "2023-08-22T22:03:17.418261Z",
     "iopub.status.idle": "2023-08-22T22:03:17.440013Z",
     "shell.execute_reply": "2023-08-22T22:03:17.438550Z",
     "shell.execute_reply.started": "2023-08-22T22:03:17.418863Z"
    }
   },
   "outputs": [
    {
     "name": "stdout",
     "output_type": "stream",
     "text": [
      "w/o specific snr constraints, probability prediction results on the entire test catalogs, limit J < 26.2:\n",
      "\n",
      "precision: 0.1303\n",
      "recall: 0.9591\n"
     ]
    }
   ],
   "source": [
    "print('w/o specific snr constraints, probability prediction results on the entire test catalogs, limit J < 26.2:\\n')\n",
    "print('precision:', round(tp1[tp1['J_WFI_abmag']<26.2].shape[0]/(tp1[tp1['J_WFI_abmag']<26.2].shape[0]+fp[fp['J_WFI_abmag']<26.2].shape[0]), 4))\n",
    "print('recall:', round(tp1[tp1['J_WFI_abmag']<26.2].shape[0]/(tp1[tp1['J_WFI_abmag']<26.2].shape[0]+fn1[fn1['J_WFI_abmag']<26.2].shape[0]), 4))"
   ]
  },
  {
   "cell_type": "code",
   "execution_count": 122,
   "id": "9bed3955-a91c-4df6-920d-5bc1e21b4c91",
   "metadata": {
    "execution": {
     "iopub.execute_input": "2023-08-22T22:26:49.065837Z",
     "iopub.status.busy": "2023-08-22T22:26:49.065156Z",
     "iopub.status.idle": "2023-08-22T22:26:49.090174Z",
     "shell.execute_reply": "2023-08-22T22:26:49.088888Z",
     "shell.execute_reply.started": "2023-08-22T22:26:49.065777Z"
    }
   },
   "outputs": [
    {
     "name": "stdout",
     "output_type": "stream",
     "text": [
      "w/o specific snr constraints, probability prediction results on the entire test catalogs, limit 24. < J < 24.5.:\n",
      "\n",
      "precision: 0.2593\n",
      "recall: 0.9625\n"
     ]
    }
   ],
   "source": [
    "print('w/o specific snr constraints, probability prediction results on the entire test catalogs, limit 24. < J < 24.5.:\\n')\n",
    "print('precision:', round(tp1[(tp1['J_WFI_abmag']<24.5)&(tp1['J_WFI_abmag']>24.)].shape[0]/(tp1[(tp1['J_WFI_abmag']<24.5)&(tp1['J_WFI_abmag']>24.)].shape[0]+fp[(fp['J_WFI_abmag']<24.5)&(fp['J_WFI_abmag']>24.)].shape[0]), 4))\n",
    "print('recall:', round(tp1[(tp1['J_WFI_abmag']<24.5)&(tp1['J_WFI_abmag']>24.)].shape[0]/(tp1[(tp1['J_WFI_abmag']<24.5)&(tp1['J_WFI_abmag']>24.)].shape[0]+fn1[(fn1['J_WFI_abmag']<24.5)&(fn1['J_WFI_abmag']>24.)].shape[0]), 4))"
   ]
  },
  {
   "cell_type": "code",
   "execution_count": 121,
   "id": "3cac916c-5a87-41b9-a686-044ec168a906",
   "metadata": {
    "execution": {
     "iopub.execute_input": "2023-08-22T22:13:14.272953Z",
     "iopub.status.busy": "2023-08-22T22:13:14.272300Z",
     "iopub.status.idle": "2023-08-22T22:13:14.296578Z",
     "shell.execute_reply": "2023-08-22T22:13:14.295003Z",
     "shell.execute_reply.started": "2023-08-22T22:13:14.272893Z"
    }
   },
   "outputs": [
    {
     "name": "stdout",
     "output_type": "stream",
     "text": [
      "w/o specific snr constraints, probability prediction results on the entire test catalogs, limit 24.5 < J < 25.:\n",
      "\n",
      "precision: 0.1216\n",
      "recall: 0.9161\n"
     ]
    }
   ],
   "source": [
    "print('w/o specific snr constraints, probability prediction results on the entire test catalogs, limit 24.5 < J < 25.:\\n')\n",
    "print('precision:', round(tp1[(tp1['J_WFI_abmag']<25.0)&(tp1['J_WFI_abmag']>24.5)].shape[0]/(tp1[(tp1['J_WFI_abmag']<25.0)&(tp1['J_WFI_abmag']>24.5)].shape[0]+fp[(fp['J_WFI_abmag']<25.0)&(fp['J_WFI_abmag']>24.5)].shape[0]), 4))\n",
    "print('recall:', round(tp1[(tp1['J_WFI_abmag']<25.0)&(tp1['J_WFI_abmag']>24.5)].shape[0]/(tp1[(tp1['J_WFI_abmag']<25.0)&(tp1['J_WFI_abmag']>24.5)].shape[0]+fn1[(fn1['J_WFI_abmag']<25.0)&(fn1['J_WFI_abmag']>24.5)].shape[0]), 4))"
   ]
  },
  {
   "cell_type": "code",
   "execution_count": 123,
   "id": "e34dceb0-a0ee-443f-854d-31fed69d4fa1",
   "metadata": {
    "execution": {
     "iopub.execute_input": "2023-08-22T22:26:51.118612Z",
     "iopub.status.busy": "2023-08-22T22:26:51.118010Z",
     "iopub.status.idle": "2023-08-22T22:26:51.141934Z",
     "shell.execute_reply": "2023-08-22T22:26:51.140614Z",
     "shell.execute_reply.started": "2023-08-22T22:26:51.118542Z"
    }
   },
   "outputs": [
    {
     "name": "stdout",
     "output_type": "stream",
     "text": [
      "w/o specific snr constraints, probability prediction results on the entire test catalogs, limit 25 < J < 25.5:\n",
      "\n",
      "precision: 0.0195\n",
      "recall: 0.7895\n"
     ]
    }
   ],
   "source": [
    "print('w/o specific snr constraints, probability prediction results on the entire test catalogs, limit 25 < J < 25.5:\\n')\n",
    "print('precision:', round(tp1[(tp1['J_WFI_abmag']<25.5)&(tp1['J_WFI_abmag']>25.)].shape[0]/(tp1[(tp1['J_WFI_abmag']<25.5)&(tp1['J_WFI_abmag']>25.)].shape[0]+fp[(fp['J_WFI_abmag']<25.5)&(fp['J_WFI_abmag']>25.)].shape[0]), 4))\n",
    "print('recall:', round(tp1[(tp1['J_WFI_abmag']<25.5)&(tp1['J_WFI_abmag']>25.)].shape[0]/(tp1[(tp1['J_WFI_abmag']<25.5)&(tp1['J_WFI_abmag']>25.)].shape[0]+fn1[(fn1['J_WFI_abmag']<25.5)&(fn1['J_WFI_abmag']>25.)].shape[0]), 4))"
   ]
  },
  {
   "cell_type": "code",
   "execution_count": null,
   "id": "777fa60c-c3a4-4e55-8ba1-daaeca126136",
   "metadata": {},
   "outputs": [],
   "source": []
  },
  {
   "cell_type": "code",
   "execution_count": 142,
   "id": "32087bf9-7607-44bb-b05a-c03b27a4dba8",
   "metadata": {
    "execution": {
     "iopub.execute_input": "2023-08-22T23:12:13.332484Z",
     "iopub.status.busy": "2023-08-22T23:12:13.331812Z",
     "iopub.status.idle": "2023-08-22T23:12:13.620814Z",
     "shell.execute_reply": "2023-08-22T23:12:13.619578Z",
     "shell.execute_reply.started": "2023-08-22T23:12:13.332421Z"
    }
   },
   "outputs": [
    {
     "data": {
      "image/png": "[encoded data removed]",
      "text/plain": [
       "<Figure size 432x288 with 1 Axes>"
      ]
     },
     "metadata": {
      "needs_background": "light"
     },
     "output_type": "display_data"
    },
    {
     "name": "stdout",
     "output_type": "stream",
     "text": [
      "mean, J <= 25.5: 0.7127\n"
     ]
    }
   ],
   "source": [
    "def precision(TP, FP, FN, val):\n",
    "    return round(tp1[tp1['J_WFI_abmag']<val].shape[0]/(tp1[tp1['J_WFI_abmag']<val].shape[0]+fp[fp['J_WFI_abmag']<val].shape[0]), 4)\n",
    "\n",
    "x = np.linspace(23.0, 25.5, 50)\n",
    "y = [precision(tp1, fp, fn1, val) for val in x]\n",
    "plt.plot(x, y)\n",
    "plt.xlabel('J band')\n",
    "plt.ylabel('precision')\n",
    "plt.show()\n",
    "\n",
    "print('mean, J <= 25.5:', round(np.mean(y), 4))"
   ]
  },
  {
   "cell_type": "code",
   "execution_count": 139,
   "id": "85d62498-a339-4daa-8017-72966f6bf61f",
   "metadata": {
    "execution": {
     "iopub.execute_input": "2023-08-22T23:10:25.682249Z",
     "iopub.status.busy": "2023-08-22T23:10:25.681629Z",
     "iopub.status.idle": "2023-08-22T23:10:25.976573Z",
     "shell.execute_reply": "2023-08-22T23:10:25.975492Z",
     "shell.execute_reply.started": "2023-08-22T23:10:25.682193Z"
    }
   },
   "outputs": [
    {
     "data": {
      "image/png": "[encoded data removed]",
      "text/plain": [
       "<Figure size 432x288 with 1 Axes>"
      ]
     },
     "metadata": {
      "needs_background": "light"
     },
     "output_type": "display_data"
    },
    {
     "name": "stdout",
     "output_type": "stream",
     "text": [
      "mean, J <= 24.0: 0.9799\n"
     ]
    }
   ],
   "source": [
    "x1 = np.linspace(23.0, 24.0, 50)\n",
    "y1 = [precision(tp1, fp, fn1, val) for val in x1]\n",
    "plt.plot(x1, y1)\n",
    "plt.xlabel('J band')\n",
    "plt.ylabel('precision')\n",
    "plt.show()\n",
    "\n",
    "print('mean, J <= 24.0:', round(np.mean(y1), 4))"
   ]
  },
  {
   "cell_type": "code",
   "execution_count": 140,
   "id": "111b45ed-e49b-4b91-a4b2-98b6c09a548c",
   "metadata": {
    "execution": {
     "iopub.execute_input": "2023-08-22T23:10:35.386346Z",
     "iopub.status.busy": "2023-08-22T23:10:35.385705Z",
     "iopub.status.idle": "2023-08-22T23:10:35.692439Z",
     "shell.execute_reply": "2023-08-22T23:10:35.691296Z",
     "shell.execute_reply.started": "2023-08-22T23:10:35.386286Z"
    }
   },
   "outputs": [
    {
     "data": {
      "image/png": "[encoded data removed]",
      "text/plain": [
       "<Figure size 432x288 with 1 Axes>"
      ]
     },
     "metadata": {
      "needs_background": "light"
     },
     "output_type": "display_data"
    },
    {
     "name": "stdout",
     "output_type": "stream",
     "text": [
      "mean, J <= 24.5: 0.9184\n"
     ]
    }
   ],
   "source": [
    "x2 = np.linspace(23.0, 24.5, 50)\n",
    "y2 = [precision(tp1, fp, fn1, val) for val in x2]\n",
    "plt.plot(x2, y2)\n",
    "plt.xlabel('J band')\n",
    "plt.ylabel('precision')\n",
    "plt.show()\n",
    "\n",
    "print('mean, J <= 24.5:', round(np.mean(y2), 4))"
   ]
  },
  {
   "cell_type": "code",
   "execution_count": 141,
   "id": "bc278461-c744-4627-a465-eb6d581cfac7",
   "metadata": {
    "execution": {
     "iopub.execute_input": "2023-08-22T23:11:06.364462Z",
     "iopub.status.busy": "2023-08-22T23:11:06.363826Z",
     "iopub.status.idle": "2023-08-22T23:11:06.682741Z",
     "shell.execute_reply": "2023-08-22T23:11:06.681243Z",
     "shell.execute_reply.started": "2023-08-22T23:11:06.364404Z"
    }
   },
   "outputs": [
    {
     "data": {
      "image/png": "[encoded data removed]",
      "text/plain": [
       "<Figure size 432x288 with 1 Axes>"
      ]
     },
     "metadata": {
      "needs_background": "light"
     },
     "output_type": "display_data"
    },
    {
     "name": "stdout",
     "output_type": "stream",
     "text": [
      "mean, J <= 25.0: 0.8164\n"
     ]
    }
   ],
   "source": [
    "x3 = np.linspace(23.0, 25.0, 50)\n",
    "y3 = [precision(tp1, fp, fn1, val) for val in x3]\n",
    "plt.plot(x3, y3)\n",
    "plt.xlabel('J band')\n",
    "plt.ylabel('precision')\n",
    "plt.show()\n",
    "\n",
    "print('mean, J <= 25.0:', round(np.mean(y3), 4))"
   ]
  },
  {
   "cell_type": "code",
   "execution_count": 133,
   "id": "3e10f7f4-a524-4464-b68e-7b68013ca540",
   "metadata": {
    "execution": {
     "iopub.execute_input": "2023-08-22T22:55:31.109207Z",
     "iopub.status.busy": "2023-08-22T22:55:31.108532Z",
     "iopub.status.idle": "2023-08-22T22:55:31.756717Z",
     "shell.execute_reply": "2023-08-22T22:55:31.755687Z",
     "shell.execute_reply.started": "2023-08-22T22:55:31.109146Z"
    }
   },
   "outputs": [
    {
     "data": {
      "image/png": "[encoded data removed]",
      "text/plain": [
       "<Figure size 432x288 with 1 Axes>"
      ]
     },
     "metadata": {
      "needs_background": "light"
     },
     "output_type": "display_data"
    }
   ],
   "source": [
    "plt.hist(mlt_test['J_WFI_abmag'], bins=20, fill=False, edgecolor='red', label='bd')\n",
    "plt.hist(gal_test['J_WFI_abmag'], fill=False, edgecolor='green', label='gal')\n",
    "\n",
    "plt.xlabel('J band')\n",
    "plt.ylabel('log(number)')\n",
    "plt.yscale('log')\n",
    "plt.legend()\n",
    "plt.show()"
   ]
  },
  {
   "cell_type": "code",
   "execution_count": 135,
   "id": "1eb1d538-c9a4-4053-afd6-272d487d823b",
   "metadata": {
    "execution": {
     "iopub.execute_input": "2023-08-22T23:01:49.440359Z",
     "iopub.status.busy": "2023-08-22T23:01:49.439707Z",
     "iopub.status.idle": "2023-08-22T23:01:50.274954Z",
     "shell.execute_reply": "2023-08-22T23:01:50.273654Z",
     "shell.execute_reply.started": "2023-08-22T23:01:49.440299Z"
    }
   },
   "outputs": [
    {
     "data": {
      "image/png": "[encoded data removed]",
      "text/plain": [
       "<Figure size 432x288 with 1 Axes>"
      ]
     },
     "metadata": {
      "needs_background": "light"
     },
     "output_type": "display_data"
    }
   ],
   "source": [
    "plt.hist(fp1['J_WFI_abmag'], bins=20, fill=False, edgecolor='red', label='bd')\n",
    "plt.hist(gal_fp['J_WFI_abmag'], fill=False, edgecolor='green', label='gal')\n",
    "\n",
    "plt.xlabel('J band')\n",
    "plt.ylabel('log(number)')\n",
    "plt.yscale('log')\n",
    "plt.title('FP distribution')\n",
    "plt.legend()\n",
    "plt.show()"
   ]
  },
  {
   "cell_type": "code",
   "execution_count": 146,
   "id": "abb5a9a4-7437-482f-b0f4-b068ed6e5a52",
   "metadata": {
    "execution": {
     "iopub.execute_input": "2023-08-22T23:39:05.066285Z",
     "iopub.status.busy": "2023-08-22T23:39:05.065616Z",
     "iopub.status.idle": "2023-08-22T23:39:05.086375Z",
     "shell.execute_reply": "2023-08-22T23:39:05.085024Z",
     "shell.execute_reply.started": "2023-08-22T23:39:05.066225Z"
    }
   },
   "outputs": [
    {
     "name": "stdout",
     "output_type": "stream",
     "text": [
      "number of quasars at J <= 24.5: 879\n",
      "number of TP at J <= 24.5: 869\n",
      "number of FP at J <= 24.5: 495\n",
      "precision at J <= 24.5: 0.6371\n"
     ]
    }
   ],
   "source": [
    "print('number of quasars at J <= 24.5:', len(qso_test[qso_test['J_WFI_abmag']<=24.5]))\n",
    "print('number of TP at J <= 24.5:', len(tp1[tp1['J_WFI_abmag']<=24.5]))\n",
    "print('number of FP at J <= 24.5:', len(fp[fp['J_WFI_abmag']<=24.5]))\n",
    "print('precision at J <= 24.5:', round(tp1[tp1['J_WFI_abmag']<=24.5].shape[0]/(tp1[tp1['J_WFI_abmag']<=24.5].shape[0]+fp[fp['J_WFI_abmag']<=24.5].shape[0]), 4))"
   ]
  },
  {
   "cell_type": "code",
   "execution_count": 70,
   "id": "023ee046-e95b-4e49-b623-708637811903",
   "metadata": {
    "execution": {
     "iopub.execute_input": "2023-08-22T21:21:57.065715Z",
     "iopub.status.busy": "2023-08-22T21:21:57.065072Z",
     "iopub.status.idle": "2023-08-22T21:21:57.333947Z",
     "shell.execute_reply": "2023-08-22T21:21:57.333022Z",
     "shell.execute_reply.started": "2023-08-22T21:21:57.065658Z"
    }
   },
   "outputs": [
    {
     "name": "stdout",
     "output_type": "stream",
     "text": [
      "z-band distribution of FP:\n"
     ]
    },
    {
     "data": {
      "image/png": "[encoded data removed]",
      "text/plain": [
       "<Figure size 432x288 with 1 Axes>"
      ]
     },
     "metadata": {
      "needs_background": "light"
     },
     "output_type": "display_data"
    }
   ],
   "source": [
    "print('z-band distribution of FP:')\n",
    "plt.hist(fp[fp['z_LSST_abmag']<38.0]['z_LSST_abmag'], bins=20)\n",
    "plt.show()"
   ]
  },
  {
   "cell_type": "code",
   "execution_count": 116,
   "id": "9a4849fd-d261-4933-9321-1105a22bcc5a",
   "metadata": {
    "execution": {
     "iopub.execute_input": "2023-08-22T22:04:12.113713Z",
     "iopub.status.busy": "2023-08-22T22:04:12.113024Z",
     "iopub.status.idle": "2023-08-22T22:04:12.450723Z",
     "shell.execute_reply": "2023-08-22T22:04:12.449782Z",
     "shell.execute_reply.started": "2023-08-22T22:04:12.113652Z"
    }
   },
   "outputs": [
    {
     "name": "stdout",
     "output_type": "stream",
     "text": [
      "J-band distribution of FP:\n"
     ]
    },
    {
     "data": {
      "image/png": "[encoded data removed]",
      "text/plain": [
       "<Figure size 432x288 with 1 Axes>"
      ]
     },
     "metadata": {
      "needs_background": "light"
     },
     "output_type": "display_data"
    }
   ],
   "source": [
    "print('J-band distribution of FP:')\n",
    "plt.hist(fp[fp['J_WFI_abmag']<26.2]['J_WFI_abmag'], bins=20)\n",
    "plt.show()"
   ]
  },
  {
   "cell_type": "code",
   "execution_count": 118,
   "id": "8d7a7c1a-e0f9-4ccd-953d-2d758513557a",
   "metadata": {
    "execution": {
     "iopub.execute_input": "2023-08-22T22:06:55.067097Z",
     "iopub.status.busy": "2023-08-22T22:06:55.066417Z",
     "iopub.status.idle": "2023-08-22T22:06:55.114140Z",
     "shell.execute_reply": "2023-08-22T22:06:55.112961Z",
     "shell.execute_reply.started": "2023-08-22T22:06:55.067036Z"
    }
   },
   "outputs": [
    {
     "data": {
      "text/html": [
       "<div>\n",
       "<style scoped>\n",
       "    .dataframe tbody tr th:only-of-type {\n",
       "        vertical-align: middle;\n",
       "    }\n",
       "\n",
       "    .dataframe tbody tr th {\n",
       "        vertical-align: top;\n",
       "    }\n",
       "\n",
       "    .dataframe thead th {\n",
       "        text-align: right;\n",
       "    }\n",
       "</style>\n",
       "<table border=\"1\" class=\"dataframe\">\n",
       "  <thead>\n",
       "    <tr style=\"text-align: right;\">\n",
       "      <th></th>\n",
       "      <th>i_LSST_abmag</th>\n",
       "      <th>z_LSST_abmag</th>\n",
       "      <th>Y_WFI_abmag</th>\n",
       "      <th>J_WFI_abmag</th>\n",
       "      <th>H_WFI_abmag</th>\n",
       "      <th>F_WFI_abmag</th>\n",
       "    </tr>\n",
       "  </thead>\n",
       "  <tbody>\n",
       "    <tr>\n",
       "      <th>count</th>\n",
       "      <td>206.000000</td>\n",
       "      <td>206.000000</td>\n",
       "      <td>206.000000</td>\n",
       "      <td>206.000000</td>\n",
       "      <td>206.000000</td>\n",
       "      <td>206.000000</td>\n",
       "    </tr>\n",
       "    <tr>\n",
       "      <th>mean</th>\n",
       "      <td>26.779768</td>\n",
       "      <td>24.936770</td>\n",
       "      <td>22.191121</td>\n",
       "      <td>22.086880</td>\n",
       "      <td>22.180666</td>\n",
       "      <td>22.048651</td>\n",
       "    </tr>\n",
       "    <tr>\n",
       "      <th>std</th>\n",
       "      <td>1.140630</td>\n",
       "      <td>0.827040</td>\n",
       "      <td>1.124415</td>\n",
       "      <td>1.130413</td>\n",
       "      <td>1.171780</td>\n",
       "      <td>1.166264</td>\n",
       "    </tr>\n",
       "    <tr>\n",
       "      <th>min</th>\n",
       "      <td>23.301932</td>\n",
       "      <td>21.582562</td>\n",
       "      <td>18.962755</td>\n",
       "      <td>18.815153</td>\n",
       "      <td>18.799645</td>\n",
       "      <td>18.621814</td>\n",
       "    </tr>\n",
       "    <tr>\n",
       "      <th>25%</th>\n",
       "      <td>26.110401</td>\n",
       "      <td>24.376248</td>\n",
       "      <td>21.416100</td>\n",
       "      <td>21.329818</td>\n",
       "      <td>21.407006</td>\n",
       "      <td>21.298916</td>\n",
       "    </tr>\n",
       "    <tr>\n",
       "      <th>50%</th>\n",
       "      <td>26.787710</td>\n",
       "      <td>25.102435</td>\n",
       "      <td>22.247488</td>\n",
       "      <td>22.197233</td>\n",
       "      <td>22.300531</td>\n",
       "      <td>22.208140</td>\n",
       "    </tr>\n",
       "    <tr>\n",
       "      <th>75%</th>\n",
       "      <td>27.495891</td>\n",
       "      <td>25.599500</td>\n",
       "      <td>23.039798</td>\n",
       "      <td>22.946183</td>\n",
       "      <td>23.047106</td>\n",
       "      <td>22.892758</td>\n",
       "    </tr>\n",
       "    <tr>\n",
       "      <th>max</th>\n",
       "      <td>31.010640</td>\n",
       "      <td>25.991503</td>\n",
       "      <td>24.339576</td>\n",
       "      <td>24.213940</td>\n",
       "      <td>24.415078</td>\n",
       "      <td>24.327638</td>\n",
       "    </tr>\n",
       "  </tbody>\n",
       "</table>\n",
       "</div>"
      ],
      "text/plain": [
       "       i_LSST_abmag  z_LSST_abmag  Y_WFI_abmag  J_WFI_abmag  H_WFI_abmag  \\\n",
       "count    206.000000    206.000000   206.000000   206.000000   206.000000   \n",
       "mean      26.779768     24.936770    22.191121    22.086880    22.180666   \n",
       "std        1.140630      0.827040     1.124415     1.130413     1.171780   \n",
       "min       23.301932     21.582562    18.962755    18.815153    18.799645   \n",
       "25%       26.110401     24.376248    21.416100    21.329818    21.407006   \n",
       "50%       26.787710     25.102435    22.247488    22.197233    22.300531   \n",
       "75%       27.495891     25.599500    23.039798    22.946183    23.047106   \n",
       "max       31.010640     25.991503    24.339576    24.213940    24.415078   \n",
       "\n",
       "       F_WFI_abmag  \n",
       "count   206.000000  \n",
       "mean     22.048651  \n",
       "std       1.166264  \n",
       "min      18.621814  \n",
       "25%      21.298916  \n",
       "50%      22.208140  \n",
       "75%      22.892758  \n",
       "max      24.327638  "
      ]
     },
     "execution_count": 118,
     "metadata": {},
     "output_type": "execute_result"
    }
   ],
   "source": [
    "qso_test[qso_test['z_LSST_abmag'] < 26.0].describe()"
   ]
  },
  {
   "cell_type": "code",
   "execution_count": 119,
   "id": "96e33e15-cccd-4c19-a81f-5236883277e3",
   "metadata": {
    "execution": {
     "iopub.execute_input": "2023-08-22T22:07:05.347040Z",
     "iopub.status.busy": "2023-08-22T22:07:05.346397Z",
     "iopub.status.idle": "2023-08-22T22:07:05.392335Z",
     "shell.execute_reply": "2023-08-22T22:07:05.391165Z",
     "shell.execute_reply.started": "2023-08-22T22:07:05.346981Z"
    }
   },
   "outputs": [
    {
     "data": {
      "text/html": [
       "<div>\n",
       "<style scoped>\n",
       "    .dataframe tbody tr th:only-of-type {\n",
       "        vertical-align: middle;\n",
       "    }\n",
       "\n",
       "    .dataframe tbody tr th {\n",
       "        vertical-align: top;\n",
       "    }\n",
       "\n",
       "    .dataframe thead th {\n",
       "        text-align: right;\n",
       "    }\n",
       "</style>\n",
       "<table border=\"1\" class=\"dataframe\">\n",
       "  <thead>\n",
       "    <tr style=\"text-align: right;\">\n",
       "      <th></th>\n",
       "      <th>i_LSST_abmag</th>\n",
       "      <th>z_LSST_abmag</th>\n",
       "      <th>Y_WFI_abmag</th>\n",
       "      <th>J_WFI_abmag</th>\n",
       "      <th>H_WFI_abmag</th>\n",
       "      <th>F_WFI_abmag</th>\n",
       "    </tr>\n",
       "  </thead>\n",
       "  <tbody>\n",
       "    <tr>\n",
       "      <th>count</th>\n",
       "      <td>1148.000000</td>\n",
       "      <td>1148.000000</td>\n",
       "      <td>1148.000000</td>\n",
       "      <td>1148.000000</td>\n",
       "      <td>1148.000000</td>\n",
       "      <td>1148.000000</td>\n",
       "    </tr>\n",
       "    <tr>\n",
       "      <th>mean</th>\n",
       "      <td>28.460931</td>\n",
       "      <td>27.229672</td>\n",
       "      <td>23.628574</td>\n",
       "      <td>23.393529</td>\n",
       "      <td>23.487835</td>\n",
       "      <td>23.391884</td>\n",
       "    </tr>\n",
       "    <tr>\n",
       "      <th>std</th>\n",
       "      <td>1.432419</td>\n",
       "      <td>1.563199</td>\n",
       "      <td>1.322967</td>\n",
       "      <td>1.274028</td>\n",
       "      <td>1.298215</td>\n",
       "      <td>1.310768</td>\n",
       "    </tr>\n",
       "    <tr>\n",
       "      <th>min</th>\n",
       "      <td>23.301932</td>\n",
       "      <td>21.582562</td>\n",
       "      <td>18.962755</td>\n",
       "      <td>18.815153</td>\n",
       "      <td>18.799645</td>\n",
       "      <td>18.621814</td>\n",
       "    </tr>\n",
       "    <tr>\n",
       "      <th>25%</th>\n",
       "      <td>27.664371</td>\n",
       "      <td>26.336379</td>\n",
       "      <td>22.706429</td>\n",
       "      <td>22.489887</td>\n",
       "      <td>22.584211</td>\n",
       "      <td>22.473988</td>\n",
       "    </tr>\n",
       "    <tr>\n",
       "      <th>50%</th>\n",
       "      <td>28.413087</td>\n",
       "      <td>27.238952</td>\n",
       "      <td>23.732590</td>\n",
       "      <td>23.535600</td>\n",
       "      <td>23.616137</td>\n",
       "      <td>23.514534</td>\n",
       "    </tr>\n",
       "    <tr>\n",
       "      <th>75%</th>\n",
       "      <td>29.201439</td>\n",
       "      <td>28.083801</td>\n",
       "      <td>24.641570</td>\n",
       "      <td>24.422242</td>\n",
       "      <td>24.558752</td>\n",
       "      <td>24.462191</td>\n",
       "    </tr>\n",
       "    <tr>\n",
       "      <th>max</th>\n",
       "      <td>36.322512</td>\n",
       "      <td>33.615849</td>\n",
       "      <td>29.746760</td>\n",
       "      <td>25.498570</td>\n",
       "      <td>25.671004</td>\n",
       "      <td>25.823568</td>\n",
       "    </tr>\n",
       "  </tbody>\n",
       "</table>\n",
       "</div>"
      ],
      "text/plain": [
       "       i_LSST_abmag  z_LSST_abmag  Y_WFI_abmag  J_WFI_abmag  H_WFI_abmag  \\\n",
       "count   1148.000000   1148.000000  1148.000000  1148.000000  1148.000000   \n",
       "mean      28.460931     27.229672    23.628574    23.393529    23.487835   \n",
       "std        1.432419      1.563199     1.322967     1.274028     1.298215   \n",
       "min       23.301932     21.582562    18.962755    18.815153    18.799645   \n",
       "25%       27.664371     26.336379    22.706429    22.489887    22.584211   \n",
       "50%       28.413087     27.238952    23.732590    23.535600    23.616137   \n",
       "75%       29.201439     28.083801    24.641570    24.422242    24.558752   \n",
       "max       36.322512     33.615849    29.746760    25.498570    25.671004   \n",
       "\n",
       "       F_WFI_abmag  \n",
       "count  1148.000000  \n",
       "mean     23.391884  \n",
       "std       1.310768  \n",
       "min      18.621814  \n",
       "25%      22.473988  \n",
       "50%      23.514534  \n",
       "75%      24.462191  \n",
       "max      25.823568  "
      ]
     },
     "execution_count": 119,
     "metadata": {},
     "output_type": "execute_result"
    }
   ],
   "source": [
    "qso_test.describe()"
   ]
  },
  {
   "cell_type": "code",
   "execution_count": null,
   "id": "9221b95a-5577-4ac8-b357-c1577f9733e4",
   "metadata": {},
   "outputs": [],
   "source": []
  },
  {
   "cell_type": "markdown",
   "id": "22171c43-23c8-4bc9-90d5-4de520e10e0f",
   "metadata": {},
   "source": [
    "### export results (index), TP, FP, FN"
   ]
  },
  {
   "cell_type": "code",
   "execution_count": 71,
   "id": "bc5e7faa-ce50-4c92-80b1-557d3421a338",
   "metadata": {
    "execution": {
     "iopub.execute_input": "2023-08-22T21:23:06.066989Z",
     "iopub.status.busy": "2023-08-22T21:23:06.066363Z",
     "iopub.status.idle": "2023-08-22T21:23:06.079310Z",
     "shell.execute_reply": "2023-08-22T21:23:06.077731Z",
     "shell.execute_reply.started": "2023-08-22T21:23:06.066934Z"
    }
   },
   "outputs": [
    {
     "data": {
      "text/plain": [
       "0           qsoLF-1\n",
       "1       qsoLF-24586\n",
       "2       qsoLF-16397\n",
       "3       qsoLF-16399\n",
       "4       qsoLF-24592\n",
       "           ...     \n",
       "1096    qsoLF-24535\n",
       "1097    qsoLF-24539\n",
       "1098    qsoLF-16362\n",
       "1099    qsoLF-24559\n",
       "1100    qsoLF-24569\n",
       "Name: index, Length: 1101, dtype: object"
      ]
     },
     "execution_count": 71,
     "metadata": {},
     "output_type": "execute_result"
    }
   ],
   "source": [
    "tp1['index']"
   ]
  },
  {
   "cell_type": "code",
   "execution_count": 111,
   "id": "4174480b-17c8-47dd-9b72-2d8b405771e4",
   "metadata": {
    "execution": {
     "iopub.execute_input": "2023-08-22T21:56:39.547576Z",
     "iopub.status.busy": "2023-08-22T21:56:39.546954Z",
     "iopub.status.idle": "2023-08-22T21:56:39.592449Z",
     "shell.execute_reply": "2023-08-22T21:56:39.591088Z",
     "shell.execute_reply.started": "2023-08-22T21:56:39.547519Z"
    }
   },
   "outputs": [],
   "source": [
    "tp1.to_csv('z pipeline TP', encoding='utf-8')"
   ]
  },
  {
   "cell_type": "code",
   "execution_count": 104,
   "id": "53058267-41a0-4517-8ee8-5f7b72ebdf97",
   "metadata": {
    "execution": {
     "iopub.execute_input": "2023-08-22T21:52:47.557774Z",
     "iopub.status.busy": "2023-08-22T21:52:47.557123Z",
     "iopub.status.idle": "2023-08-22T21:52:47.571670Z",
     "shell.execute_reply": "2023-08-22T21:52:47.570259Z",
     "shell.execute_reply.started": "2023-08-22T21:52:47.557715Z"
    }
   },
   "outputs": [
    {
     "data": {
      "text/plain": [
       "0       cosmoDC2-8786-1958286-r1\n",
       "1       cosmoDC2-8786-2727246-r1\n",
       "2       cosmoDC2-8786-3155749-r1\n",
       "3       cosmoDC2-8786-3530290-r1\n",
       "4       cosmoDC2-8786-3953372-r1\n",
       "                  ...           \n",
       "4559    cosmoDC2-9681-2321340-r5\n",
       "4560    cosmoDC2-9681-3187510-r5\n",
       "4561    cosmoDC2-9681-3440577-r5\n",
       "4562    cosmoDC2-9681-3462270-r5\n",
       "4563    cosmoDC2-9681-4235283-r5\n",
       "Name: index, Length: 7452, dtype: object"
      ]
     },
     "execution_count": 104,
     "metadata": {},
     "output_type": "execute_result"
    }
   ],
   "source": [
    "# indices of false_positive1 and gal_fp\n",
    "fp = pd.concat([gal_fp, false_positive1])\n",
    "fp['index']"
   ]
  },
  {
   "cell_type": "code",
   "execution_count": 112,
   "id": "2a0d9f38-a64d-4d47-96fc-ba8ee03c1ce9",
   "metadata": {
    "execution": {
     "iopub.execute_input": "2023-08-22T21:56:43.201042Z",
     "iopub.status.busy": "2023-08-22T21:56:43.200369Z",
     "iopub.status.idle": "2023-08-22T21:56:43.430083Z",
     "shell.execute_reply": "2023-08-22T21:56:43.428738Z",
     "shell.execute_reply.started": "2023-08-22T21:56:43.200981Z"
    }
   },
   "outputs": [],
   "source": [
    "fp.to_csv('z pipeline FP', encoding='utf-8')"
   ]
  },
  {
   "cell_type": "code",
   "execution_count": 109,
   "id": "ee8bd2e9-60e0-406e-ab0a-98c0f424d7e5",
   "metadata": {
    "execution": {
     "iopub.execute_input": "2023-08-22T21:56:00.662702Z",
     "iopub.status.busy": "2023-08-22T21:56:00.662140Z",
     "iopub.status.idle": "2023-08-22T21:56:00.681172Z",
     "shell.execute_reply": "2023-08-22T21:56:00.679984Z",
     "shell.execute_reply.started": "2023-08-22T21:56:00.662651Z"
    }
   },
   "outputs": [
    {
     "name": "stdout",
     "output_type": "stream",
     "text": [
      "Index(['i_LSST_abmag', 'z_LSST_abmag', 'Y_WFI_abmag', 'J_WFI_abmag',\n",
      "       'H_WFI_abmag', 'F_WFI_abmag', 'weighted prob', 'index_x', 'index_x',\n",
      "       'index_y'],\n",
      "      dtype='object')\n"
     ]
    }
   ],
   "source": [
    "# fn1\n",
    "fn1 = fn1.merge(qso_test, on=['i_LSST_abmag', 'z_LSST_abmag', 'Y_WFI_abmag', 'J_WFI_abmag', 'H_WFI_abmag', 'F_WFI_abmag'])\n",
    "print(fn1.columns)"
   ]
  },
  {
   "cell_type": "code",
   "execution_count": 110,
   "id": "d1a70250-97b4-48f9-a253-b4b613572fe0",
   "metadata": {
    "execution": {
     "iopub.execute_input": "2023-08-22T21:56:09.690489Z",
     "iopub.status.busy": "2023-08-22T21:56:09.689891Z",
     "iopub.status.idle": "2023-08-22T21:56:09.704966Z",
     "shell.execute_reply": "2023-08-22T21:56:09.703753Z",
     "shell.execute_reply.started": "2023-08-22T21:56:09.690433Z"
    }
   },
   "outputs": [
    {
     "data": {
      "text/plain": [
       "0        qsoLF-79\n",
       "1      qsoLF-8284\n",
       "2       qsoLF-104\n",
       "3      qsoLF-8306\n",
       "4     qsoLF-17388\n",
       "5     qsoLF-17417\n",
       "6      qsoLF-9418\n",
       "7      qsoLF-9792\n",
       "8      qsoLF-9833\n",
       "9      qsoLF-1793\n",
       "10    qsoLF-18237\n",
       "11    qsoLF-10060\n",
       "12    qsoLF-18643\n",
       "13     qsoLF-2342\n",
       "14    qsoLF-18980\n",
       "15    qsoLF-10790\n",
       "16    qsoLF-19411\n",
       "17    qsoLF-19503\n",
       "18     qsoLF-3344\n",
       "19    qsoLF-19754\n",
       "20    qsoLF-11694\n",
       "21    qsoLF-11798\n",
       "22    qsoLF-11928\n",
       "23    qsoLF-20164\n",
       "24    qsoLF-20295\n",
       "25    qsoLF-20519\n",
       "26    qsoLF-20632\n",
       "27    qsoLF-12510\n",
       "28    qsoLF-13142\n",
       "29    qsoLF-13305\n",
       "30     qsoLF-5516\n",
       "31     qsoLF-5862\n",
       "32    qsoLF-14332\n",
       "33    qsoLF-22628\n",
       "34    qsoLF-14616\n",
       "35    qsoLF-14683\n",
       "36     qsoLF-6550\n",
       "37    qsoLF-14922\n",
       "38     qsoLF-6819\n",
       "39     qsoLF-6864\n",
       "40     qsoLF-6891\n",
       "41     qsoLF-7043\n",
       "42     qsoLF-7258\n",
       "43    qsoLF-23753\n",
       "44     qsoLF-7456\n",
       "45     qsoLF-7706\n",
       "46    qsoLF-15979\n",
       "Name: index, dtype: object"
      ]
     },
     "execution_count": 110,
     "metadata": {},
     "output_type": "execute_result"
    }
   ],
   "source": [
    "fn1 = fn1.drop(columns=['index_x'])\n",
    "fn1 = fn1.rename(columns={'index_y': 'index'})\n",
    "fn1['index']"
   ]
  },
  {
   "cell_type": "code",
   "execution_count": 113,
   "id": "26b4f2b3-73e2-404a-86ac-39946f61c69b",
   "metadata": {
    "execution": {
     "iopub.execute_input": "2023-08-22T21:56:46.063564Z",
     "iopub.status.busy": "2023-08-22T21:56:46.062975Z",
     "iopub.status.idle": "2023-08-22T21:56:46.073465Z",
     "shell.execute_reply": "2023-08-22T21:56:46.072098Z",
     "shell.execute_reply.started": "2023-08-22T21:56:46.063507Z"
    }
   },
   "outputs": [],
   "source": [
    "fn1.to_csv('z pipeline FN', encoding='utf-8')"
   ]
  }
 ],
 "metadata": {
  "kernelspec": {
   "display_name": "Python 3",
   "language": "python",
   "name": "python3"
  },
  "language_info": {
   "codemirror_mode": {
    "name": "ipython",
    "version": 3
   },
   "file_extension": ".py",
   "mimetype": "text/x-python",
   "name": "python",
   "nbconvert_exporter": "python",
   "pygments_lexer": "ipython3",
   "version": "3.8.8"
  }
 },
 "nbformat": 4,
 "nbformat_minor": 5
}
