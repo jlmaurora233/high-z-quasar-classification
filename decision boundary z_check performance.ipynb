{
 "cells": [
  {
   "cell_type": "code",
   "execution_count": 1,
   "id": "117fa048-78cd-4bce-93bc-902f2a84c71b",
   "metadata": {
    "execution": {
     "iopub.execute_input": "2023-09-20T17:01:04.874739Z",
     "iopub.status.busy": "2023-09-20T17:01:04.874064Z",
     "iopub.status.idle": "2023-09-20T17:01:06.378304Z",
     "shell.execute_reply": "2023-09-20T17:01:06.377022Z",
     "shell.execute_reply.started": "2023-09-20T17:01:04.874672Z"
    }
   },
   "outputs": [],
   "source": [
    "import numpy as np\n",
    "import pandas as pd\n",
    "import matplotlib.pyplot as plt\n",
    "from matplotlib.colors import ListedColormap\n",
    "\n",
    "import json\n",
    "\n",
    "from sklearn.neighbors import KNeighborsClassifier\n",
    "from sklearn import svm\n",
    "from sklearn.model_selection import train_test_split, KFold, cross_val_score, GridSearchCV\n",
    "from sklearn.metrics import accuracy_score, classification_report, f1_score\n",
    "from sklearn.feature_selection import SelectPercentile, chi2\n",
    "from sklearn.pipeline import Pipeline\n",
    "from sklearn.preprocessing import StandardScaler"
   ]
  },
  {
   "cell_type": "markdown",
   "id": "577bb153-6ae6-406f-8170-9d944d26fa4d",
   "metadata": {},
   "source": [
    "get some basic info of data files"
   ]
  },
  {
   "cell_type": "code",
   "execution_count": 2,
   "id": "78457514-0bdc-4273-8cf2-8d928888a879",
   "metadata": {
    "execution": {
     "iopub.execute_input": "2023-09-20T17:01:10.969779Z",
     "iopub.status.busy": "2023-09-20T17:01:10.968833Z",
     "iopub.status.idle": "2023-09-20T17:01:10.981442Z",
     "shell.execute_reply": "2023-09-20T17:01:10.979816Z",
     "shell.execute_reply.started": "2023-09-20T17:01:10.969715Z"
    }
   },
   "outputs": [],
   "source": [
    "# ValueError: could not convert string to float: '8789-0'\n",
    "def read_data_partial(given_fname, output_fname, lim=399999):\n",
    "    content = []\n",
    "    count = 1\n",
    "\n",
    "    with open(given_fname, 'r') as fr:\n",
    "        for line in fr:\n",
    "            if count <= lim:\n",
    "                #print(type(line), line)\n",
    "                content.append(line)\n",
    "                count += 1\n",
    "    with open(output_fname, 'w') as fw:\n",
    "        for line in content:\n",
    "            # print(type(line), line)\n",
    "            fw.write(line)\n",
    "    \n",
    "    data = pd.read_csv(output_fname, index_col=False)\n",
    "\n",
    "    return data"
   ]
  },
  {
   "cell_type": "markdown",
   "id": "b510b194-4a39-4c99-af9e-3e810fd6cb30",
   "metadata": {},
   "source": [
    "## drop u, g, r bands"
   ]
  },
  {
   "cell_type": "code",
   "execution_count": 3,
   "id": "04091a93-01b8-469d-92e0-ea8e2defb409",
   "metadata": {
    "execution": {
     "iopub.execute_input": "2023-09-20T17:01:13.888412Z",
     "iopub.status.busy": "2023-09-20T17:01:13.887707Z",
     "iopub.status.idle": "2023-09-20T17:01:16.478757Z",
     "shell.execute_reply": "2023-09-20T17:01:16.477252Z",
     "shell.execute_reply.started": "2023-09-20T17:01:13.888352Z"
    },
    "tags": []
   },
   "outputs": [
    {
     "name": "stdout",
     "output_type": "stream",
     "text": [
      "qso_train_catalog_z.csv partial data description: \n"
     ]
    },
    {
     "data": {
      "text/html": [
       "<div>\n",
       "<style scoped>\n",
       "    .dataframe tbody tr th:only-of-type {\n",
       "        vertical-align: middle;\n",
       "    }\n",
       "\n",
       "    .dataframe tbody tr th {\n",
       "        vertical-align: top;\n",
       "    }\n",
       "\n",
       "    .dataframe thead th {\n",
       "        text-align: right;\n",
       "    }\n",
       "</style>\n",
       "<table border=\"1\" class=\"dataframe\">\n",
       "  <thead>\n",
       "    <tr style=\"text-align: right;\">\n",
       "      <th></th>\n",
       "      <th>i_LSST_mag</th>\n",
       "      <th>z_LSST_mag</th>\n",
       "      <th>Y_WFI_mag</th>\n",
       "      <th>J_WFI_mag</th>\n",
       "      <th>H_WFI_mag</th>\n",
       "      <th>F_WFI_mag</th>\n",
       "    </tr>\n",
       "  </thead>\n",
       "  <tbody>\n",
       "    <tr>\n",
       "      <th>count</th>\n",
       "      <td>20759.000000</td>\n",
       "      <td>20759.000000</td>\n",
       "      <td>20759.000000</td>\n",
       "      <td>20759.000000</td>\n",
       "      <td>20759.000000</td>\n",
       "      <td>20759.000000</td>\n",
       "    </tr>\n",
       "    <tr>\n",
       "      <th>mean</th>\n",
       "      <td>28.576193</td>\n",
       "      <td>26.616020</td>\n",
       "      <td>24.340320</td>\n",
       "      <td>24.201112</td>\n",
       "      <td>24.264969</td>\n",
       "      <td>24.132527</td>\n",
       "    </tr>\n",
       "    <tr>\n",
       "      <th>std</th>\n",
       "      <td>1.218340</td>\n",
       "      <td>1.654428</td>\n",
       "      <td>2.009015</td>\n",
       "      <td>2.089360</td>\n",
       "      <td>2.112093</td>\n",
       "      <td>2.108081</td>\n",
       "    </tr>\n",
       "    <tr>\n",
       "      <th>min</th>\n",
       "      <td>26.672280</td>\n",
       "      <td>23.064283</td>\n",
       "      <td>18.489759</td>\n",
       "      <td>17.989148</td>\n",
       "      <td>17.800595</td>\n",
       "      <td>17.633615</td>\n",
       "    </tr>\n",
       "    <tr>\n",
       "      <th>25%</th>\n",
       "      <td>27.689657</td>\n",
       "      <td>25.314514</td>\n",
       "      <td>23.136710</td>\n",
       "      <td>22.977195</td>\n",
       "      <td>23.069490</td>\n",
       "      <td>22.937156</td>\n",
       "    </tr>\n",
       "    <tr>\n",
       "      <th>50%</th>\n",
       "      <td>28.366448</td>\n",
       "      <td>26.540555</td>\n",
       "      <td>24.371926</td>\n",
       "      <td>24.306130</td>\n",
       "      <td>24.363508</td>\n",
       "      <td>24.192066</td>\n",
       "    </tr>\n",
       "    <tr>\n",
       "      <th>75%</th>\n",
       "      <td>29.189413</td>\n",
       "      <td>27.668971</td>\n",
       "      <td>25.789820</td>\n",
       "      <td>25.697926</td>\n",
       "      <td>25.766767</td>\n",
       "      <td>25.595761</td>\n",
       "    </tr>\n",
       "    <tr>\n",
       "      <th>max</th>\n",
       "      <td>38.902328</td>\n",
       "      <td>36.769079</td>\n",
       "      <td>32.115011</td>\n",
       "      <td>32.168396</td>\n",
       "      <td>32.742341</td>\n",
       "      <td>33.953075</td>\n",
       "    </tr>\n",
       "  </tbody>\n",
       "</table>\n",
       "</div>"
      ],
      "text/plain": [
       "         i_LSST_mag    z_LSST_mag     Y_WFI_mag     J_WFI_mag     H_WFI_mag  \\\n",
       "count  20759.000000  20759.000000  20759.000000  20759.000000  20759.000000   \n",
       "mean      28.576193     26.616020     24.340320     24.201112     24.264969   \n",
       "std        1.218340      1.654428      2.009015      2.089360      2.112093   \n",
       "min       26.672280     23.064283     18.489759     17.989148     17.800595   \n",
       "25%       27.689657     25.314514     23.136710     22.977195     23.069490   \n",
       "50%       28.366448     26.540555     24.371926     24.306130     24.363508   \n",
       "75%       29.189413     27.668971     25.789820     25.697926     25.766767   \n",
       "max       38.902328     36.769079     32.115011     32.168396     32.742341   \n",
       "\n",
       "          F_WFI_mag  \n",
       "count  20759.000000  \n",
       "mean      24.132527  \n",
       "std        2.108081  \n",
       "min       17.633615  \n",
       "25%       22.937156  \n",
       "50%       24.192066  \n",
       "75%       25.595761  \n",
       "max       33.953075  "
      ]
     },
     "execution_count": 3,
     "metadata": {},
     "output_type": "execute_result"
    }
   ],
   "source": [
    "qso_train_partial = read_data_partial('quasar_train_catalog.csv', 'qso_train_partial.csv')\n",
    "qso_train_drop = qso_train_partial[['z', 'r_LSST_magerr', 'i_LSST_magerr','i_LSST_mag', 'z_LSST_mag', 'Y_WFI_mag', 'J_WFI_mag', 'H_WFI_mag', 'F_WFI_mag']]\n",
    "qso_train_drop = qso_train_drop.replace(99.99, np.nan).dropna()\n",
    "qso_train_drop = qso_train_drop[qso_train_drop['z'] < 7.5]\n",
    "qso_train_drop = qso_train_drop[(qso_train_drop['r_LSST_magerr']>0.2)&(qso_train_drop['i_LSST_magerr']>0.2)]\n",
    "redshifts26 = qso_train_drop[qso_train_drop['z_LSST_mag'] > 22.0]\n",
    "redshifts26 = redshifts26[redshifts26['z_LSST_mag'] < 26.0]\n",
    "redshifts26 = redshifts26['z']\n",
    "qso_train_drop = qso_train_drop.drop(columns=['z', 'r_LSST_magerr', 'i_LSST_magerr'])\n",
    "print('qso_train_catalog_z.csv partial data description: ')\n",
    "qso_train_drop.describe()"
   ]
  },
  {
   "cell_type": "code",
   "execution_count": 4,
   "id": "a6ebc600-076b-4ec2-bef0-75d048b5b1e5",
   "metadata": {
    "execution": {
     "iopub.execute_input": "2023-09-20T17:01:16.480550Z",
     "iopub.status.busy": "2023-09-20T17:01:16.480313Z",
     "iopub.status.idle": "2023-09-20T17:01:16.705224Z",
     "shell.execute_reply": "2023-09-20T17:01:16.704358Z",
     "shell.execute_reply.started": "2023-09-20T17:01:16.480525Z"
    }
   },
   "outputs": [
    {
     "data": {
      "text/plain": [
       "(array([1986., 1725., 1511., 1102.,   95.,   74.,  366.,  489.,  380.,\n",
       "         271.]),\n",
       " array([6.0001027 , 6.15004544, 6.29998818, 6.44993092, 6.59987366,\n",
       "        6.7498164 , 6.89975914, 7.04970188, 7.19964462, 7.34958736,\n",
       "        7.4995301 ]),\n",
       " <BarContainer object of 10 artists>)"
      ]
     },
     "execution_count": 4,
     "metadata": {},
     "output_type": "execute_result"
    },
    {
     "data": {
      "image/png": "[encoded data removed]",
      "text/plain": [
       "<Figure size 432x288 with 1 Axes>"
      ]
     },
     "metadata": {
      "needs_background": "light"
     },
     "output_type": "display_data"
    }
   ],
   "source": [
    "plt.hist(redshifts26)"
   ]
  },
  {
   "cell_type": "code",
   "execution_count": 5,
   "id": "6f53f0f5-5c69-4f45-8373-693596444847",
   "metadata": {
    "execution": {
     "iopub.execute_input": "2023-09-20T17:01:16.707040Z",
     "iopub.status.busy": "2023-09-20T17:01:16.706814Z",
     "iopub.status.idle": "2023-09-20T17:01:21.250231Z",
     "shell.execute_reply": "2023-09-20T17:01:21.248300Z",
     "shell.execute_reply.started": "2023-09-20T17:01:16.707016Z"
    },
    "tags": []
   },
   "outputs": [
    {
     "name": "stdout",
     "output_type": "stream",
     "text": [
      "mlt_train_catalog_z.csv partial data description: \n"
     ]
    },
    {
     "data": {
      "text/html": [
       "<div>\n",
       "<style scoped>\n",
       "    .dataframe tbody tr th:only-of-type {\n",
       "        vertical-align: middle;\n",
       "    }\n",
       "\n",
       "    .dataframe tbody tr th {\n",
       "        vertical-align: top;\n",
       "    }\n",
       "\n",
       "    .dataframe thead th {\n",
       "        text-align: right;\n",
       "    }\n",
       "</style>\n",
       "<table border=\"1\" class=\"dataframe\">\n",
       "  <thead>\n",
       "    <tr style=\"text-align: right;\">\n",
       "      <th></th>\n",
       "      <th>i_LSST_mag</th>\n",
       "      <th>z_LSST_mag</th>\n",
       "      <th>Y_WFI_mag</th>\n",
       "      <th>J_WFI_mag</th>\n",
       "      <th>H_WFI_mag</th>\n",
       "      <th>F_WFI_mag</th>\n",
       "    </tr>\n",
       "  </thead>\n",
       "  <tbody>\n",
       "    <tr>\n",
       "      <th>count</th>\n",
       "      <td>40214.000000</td>\n",
       "      <td>40214.000000</td>\n",
       "      <td>40214.000000</td>\n",
       "      <td>40214.000000</td>\n",
       "      <td>40214.000000</td>\n",
       "      <td>40214.000000</td>\n",
       "    </tr>\n",
       "    <tr>\n",
       "      <th>mean</th>\n",
       "      <td>27.846368</td>\n",
       "      <td>26.406966</td>\n",
       "      <td>24.814492</td>\n",
       "      <td>24.240174</td>\n",
       "      <td>23.941983</td>\n",
       "      <td>23.954949</td>\n",
       "    </tr>\n",
       "    <tr>\n",
       "      <th>std</th>\n",
       "      <td>0.866569</td>\n",
       "      <td>0.814599</td>\n",
       "      <td>0.652285</td>\n",
       "      <td>0.636041</td>\n",
       "      <td>0.633281</td>\n",
       "      <td>0.639802</td>\n",
       "    </tr>\n",
       "    <tr>\n",
       "      <th>min</th>\n",
       "      <td>26.565172</td>\n",
       "      <td>24.640153</td>\n",
       "      <td>22.966413</td>\n",
       "      <td>22.249321</td>\n",
       "      <td>21.884903</td>\n",
       "      <td>21.705643</td>\n",
       "    </tr>\n",
       "    <tr>\n",
       "      <th>25%</th>\n",
       "      <td>27.248302</td>\n",
       "      <td>25.848580</td>\n",
       "      <td>24.336131</td>\n",
       "      <td>23.782914</td>\n",
       "      <td>23.500752</td>\n",
       "      <td>23.511550</td>\n",
       "    </tr>\n",
       "    <tr>\n",
       "      <th>50%</th>\n",
       "      <td>27.631546</td>\n",
       "      <td>26.262440</td>\n",
       "      <td>24.722560</td>\n",
       "      <td>24.157117</td>\n",
       "      <td>23.877029</td>\n",
       "      <td>23.890512</td>\n",
       "    </tr>\n",
       "    <tr>\n",
       "      <th>75%</th>\n",
       "      <td>28.185010</td>\n",
       "      <td>26.792519</td>\n",
       "      <td>25.207176</td>\n",
       "      <td>24.619579</td>\n",
       "      <td>24.324040</td>\n",
       "      <td>24.337251</td>\n",
       "    </tr>\n",
       "    <tr>\n",
       "      <th>max</th>\n",
       "      <td>38.215437</td>\n",
       "      <td>36.198974</td>\n",
       "      <td>28.369839</td>\n",
       "      <td>27.735964</td>\n",
       "      <td>27.180561</td>\n",
       "      <td>27.305963</td>\n",
       "    </tr>\n",
       "  </tbody>\n",
       "</table>\n",
       "</div>"
      ],
      "text/plain": [
       "         i_LSST_mag    z_LSST_mag     Y_WFI_mag     J_WFI_mag     H_WFI_mag  \\\n",
       "count  40214.000000  40214.000000  40214.000000  40214.000000  40214.000000   \n",
       "mean      27.846368     26.406966     24.814492     24.240174     23.941983   \n",
       "std        0.866569      0.814599      0.652285      0.636041      0.633281   \n",
       "min       26.565172     24.640153     22.966413     22.249321     21.884903   \n",
       "25%       27.248302     25.848580     24.336131     23.782914     23.500752   \n",
       "50%       27.631546     26.262440     24.722560     24.157117     23.877029   \n",
       "75%       28.185010     26.792519     25.207176     24.619579     24.324040   \n",
       "max       38.215437     36.198974     28.369839     27.735964     27.180561   \n",
       "\n",
       "          F_WFI_mag  \n",
       "count  40214.000000  \n",
       "mean      23.954949  \n",
       "std        0.639802  \n",
       "min       21.705643  \n",
       "25%       23.511550  \n",
       "50%       23.890512  \n",
       "75%       24.337251  \n",
       "max       27.305963  "
      ]
     },
     "execution_count": 5,
     "metadata": {},
     "output_type": "execute_result"
    }
   ],
   "source": [
    "# brown dwarf contaminants\n",
    "mlt_train_partial = read_data_partial('mlt_train_catalog.csv', 'mlt_train_partial.csv', 599999)\n",
    "mlt_train_drop = mlt_train_partial[['r_LSST_magerr', 'i_LSST_magerr', 'i_LSST_mag', 'z_LSST_mag', 'Y_WFI_mag', 'J_WFI_mag', 'H_WFI_mag', 'F_WFI_mag']]\n",
    "mlt_train_drop = mlt_train_drop.replace(99.99, np.nan).dropna()\n",
    "mlt_train_drop = mlt_train_drop[(mlt_train_drop['r_LSST_magerr']>0.2)&(mlt_train_drop['i_LSST_magerr']>0.2)]\n",
    "mlt_train_drop = mlt_train_drop.drop(columns=['r_LSST_magerr', 'i_LSST_magerr'])\n",
    "print('mlt_train_catalog_z.csv partial data description: ')\n",
    "mlt_train_drop.describe()"
   ]
  },
  {
   "cell_type": "code",
   "execution_count": 6,
   "id": "776e50c6-c383-4b0c-ac22-0c7b4fe0fc31",
   "metadata": {
    "execution": {
     "iopub.execute_input": "2023-09-20T17:01:21.253279Z",
     "iopub.status.busy": "2023-09-20T17:01:21.252968Z",
     "iopub.status.idle": "2023-09-20T17:01:32.543534Z",
     "shell.execute_reply": "2023-09-20T17:01:32.542153Z",
     "shell.execute_reply.started": "2023-09-20T17:01:21.253247Z"
    },
    "tags": []
   },
   "outputs": [
    {
     "name": "stdout",
     "output_type": "stream",
     "text": [
      "galaxies_train_catalog_patch8789.csv partial data description: \n"
     ]
    },
    {
     "data": {
      "text/html": [
       "<div>\n",
       "<style scoped>\n",
       "    .dataframe tbody tr th:only-of-type {\n",
       "        vertical-align: middle;\n",
       "    }\n",
       "\n",
       "    .dataframe tbody tr th {\n",
       "        vertical-align: top;\n",
       "    }\n",
       "\n",
       "    .dataframe thead th {\n",
       "        text-align: right;\n",
       "    }\n",
       "</style>\n",
       "<table border=\"1\" class=\"dataframe\">\n",
       "  <thead>\n",
       "    <tr style=\"text-align: right;\">\n",
       "      <th></th>\n",
       "      <th>i_LSST_mag</th>\n",
       "      <th>z_LSST_mag</th>\n",
       "      <th>Y_WFI_mag</th>\n",
       "      <th>J_WFI_mag</th>\n",
       "      <th>H_WFI_mag</th>\n",
       "      <th>F_WFI_mag</th>\n",
       "    </tr>\n",
       "  </thead>\n",
       "  <tbody>\n",
       "    <tr>\n",
       "      <th>count</th>\n",
       "      <td>166180.000000</td>\n",
       "      <td>166180.000000</td>\n",
       "      <td>166180.000000</td>\n",
       "      <td>166180.000000</td>\n",
       "      <td>166180.000000</td>\n",
       "      <td>166180.000000</td>\n",
       "    </tr>\n",
       "    <tr>\n",
       "      <th>mean</th>\n",
       "      <td>28.112741</td>\n",
       "      <td>27.507701</td>\n",
       "      <td>27.330679</td>\n",
       "      <td>27.226355</td>\n",
       "      <td>27.160891</td>\n",
       "      <td>27.154280</td>\n",
       "    </tr>\n",
       "    <tr>\n",
       "      <th>std</th>\n",
       "      <td>0.888656</td>\n",
       "      <td>0.950758</td>\n",
       "      <td>0.788433</td>\n",
       "      <td>0.796900</td>\n",
       "      <td>0.827853</td>\n",
       "      <td>0.977009</td>\n",
       "    </tr>\n",
       "    <tr>\n",
       "      <th>min</th>\n",
       "      <td>26.647539</td>\n",
       "      <td>25.462982</td>\n",
       "      <td>25.152190</td>\n",
       "      <td>24.748167</td>\n",
       "      <td>24.475726</td>\n",
       "      <td>24.258516</td>\n",
       "    </tr>\n",
       "    <tr>\n",
       "      <th>25%</th>\n",
       "      <td>27.518918</td>\n",
       "      <td>26.883531</td>\n",
       "      <td>26.837638</td>\n",
       "      <td>26.737179</td>\n",
       "      <td>26.657671</td>\n",
       "      <td>26.557470</td>\n",
       "    </tr>\n",
       "    <tr>\n",
       "      <th>50%</th>\n",
       "      <td>27.920273</td>\n",
       "      <td>27.314756</td>\n",
       "      <td>27.248012</td>\n",
       "      <td>27.172407</td>\n",
       "      <td>27.118375</td>\n",
       "      <td>27.041903</td>\n",
       "    </tr>\n",
       "    <tr>\n",
       "      <th>75%</th>\n",
       "      <td>28.465759</td>\n",
       "      <td>27.895376</td>\n",
       "      <td>27.710084</td>\n",
       "      <td>27.634895</td>\n",
       "      <td>27.594613</td>\n",
       "      <td>27.601858</td>\n",
       "    </tr>\n",
       "    <tr>\n",
       "      <th>max</th>\n",
       "      <td>40.029429</td>\n",
       "      <td>39.261958</td>\n",
       "      <td>39.647494</td>\n",
       "      <td>40.707497</td>\n",
       "      <td>38.204669</td>\n",
       "      <td>38.379259</td>\n",
       "    </tr>\n",
       "  </tbody>\n",
       "</table>\n",
       "</div>"
      ],
      "text/plain": [
       "          i_LSST_mag     z_LSST_mag      Y_WFI_mag      J_WFI_mag  \\\n",
       "count  166180.000000  166180.000000  166180.000000  166180.000000   \n",
       "mean       28.112741      27.507701      27.330679      27.226355   \n",
       "std         0.888656       0.950758       0.788433       0.796900   \n",
       "min        26.647539      25.462982      25.152190      24.748167   \n",
       "25%        27.518918      26.883531      26.837638      26.737179   \n",
       "50%        27.920273      27.314756      27.248012      27.172407   \n",
       "75%        28.465759      27.895376      27.710084      27.634895   \n",
       "max        40.029429      39.261958      39.647494      40.707497   \n",
       "\n",
       "           H_WFI_mag      F_WFI_mag  \n",
       "count  166180.000000  166180.000000  \n",
       "mean       27.160891      27.154280  \n",
       "std         0.827853       0.977009  \n",
       "min        24.475726      24.258516  \n",
       "25%        26.657671      26.557470  \n",
       "50%        27.118375      27.041903  \n",
       "75%        27.594613      27.601858  \n",
       "max        38.204669      38.379259  "
      ]
     },
     "execution_count": 6,
     "metadata": {},
     "output_type": "execute_result"
    }
   ],
   "source": [
    "galaxies_patch8789_partial = read_data_partial('galaxies_train_catalog_patch8789.csv', 'galaxies_patch8789_partial.csv')\n",
    "galaxies_patch8789_drop = galaxies_patch8789_partial[['r_LSST_magerr', 'i_LSST_magerr','i_LSST_mag', 'z_LSST_mag', 'Y_WFI_mag', 'J_WFI_mag', 'H_WFI_mag', 'F_WFI_mag']]\n",
    "galaxies_patch8789_drop = galaxies_patch8789_drop.replace(99.99, np.nan).dropna()\n",
    "galaxies_patch8789_drop = galaxies_patch8789_drop[(galaxies_patch8789_drop['r_LSST_magerr']>0.2)&(galaxies_patch8789_drop['i_LSST_magerr']>0.2)]\n",
    "galaxies_patch8789_drop = galaxies_patch8789_drop.drop(columns=['r_LSST_magerr', 'i_LSST_magerr'])\n",
    "print('galaxies_train_catalog_patch8789.csv partial data description: ')\n",
    "galaxies_patch8789_drop.describe()"
   ]
  },
  {
   "cell_type": "code",
   "execution_count": 7,
   "id": "f00b8148-4dd2-43d0-a710-45c55dc7ed13",
   "metadata": {
    "execution": {
     "iopub.execute_input": "2023-09-20T17:01:32.545138Z",
     "iopub.status.busy": "2023-09-20T17:01:32.544907Z",
     "iopub.status.idle": "2023-09-20T17:01:44.935833Z",
     "shell.execute_reply": "2023-09-20T17:01:44.934394Z",
     "shell.execute_reply.started": "2023-09-20T17:01:32.545113Z"
    },
    "tags": []
   },
   "outputs": [
    {
     "name": "stdout",
     "output_type": "stream",
     "text": [
      "galaxies_train_catalog_patch8786.csv partial data description: \n"
     ]
    },
    {
     "data": {
      "text/html": [
       "<div>\n",
       "<style scoped>\n",
       "    .dataframe tbody tr th:only-of-type {\n",
       "        vertical-align: middle;\n",
       "    }\n",
       "\n",
       "    .dataframe tbody tr th {\n",
       "        vertical-align: top;\n",
       "    }\n",
       "\n",
       "    .dataframe thead th {\n",
       "        text-align: right;\n",
       "    }\n",
       "</style>\n",
       "<table border=\"1\" class=\"dataframe\">\n",
       "  <thead>\n",
       "    <tr style=\"text-align: right;\">\n",
       "      <th></th>\n",
       "      <th>i_LSST_mag</th>\n",
       "      <th>z_LSST_mag</th>\n",
       "      <th>Y_WFI_mag</th>\n",
       "      <th>J_WFI_mag</th>\n",
       "      <th>H_WFI_mag</th>\n",
       "      <th>F_WFI_mag</th>\n",
       "    </tr>\n",
       "  </thead>\n",
       "  <tbody>\n",
       "    <tr>\n",
       "      <th>count</th>\n",
       "      <td>156946.000000</td>\n",
       "      <td>156946.000000</td>\n",
       "      <td>156946.000000</td>\n",
       "      <td>156946.000000</td>\n",
       "      <td>156946.000000</td>\n",
       "      <td>156946.000000</td>\n",
       "    </tr>\n",
       "    <tr>\n",
       "      <th>mean</th>\n",
       "      <td>28.100839</td>\n",
       "      <td>27.494196</td>\n",
       "      <td>27.312890</td>\n",
       "      <td>27.205311</td>\n",
       "      <td>27.141593</td>\n",
       "      <td>27.131091</td>\n",
       "    </tr>\n",
       "    <tr>\n",
       "      <th>std</th>\n",
       "      <td>0.886168</td>\n",
       "      <td>0.952284</td>\n",
       "      <td>0.787836</td>\n",
       "      <td>0.803832</td>\n",
       "      <td>0.842035</td>\n",
       "      <td>0.981601</td>\n",
       "    </tr>\n",
       "    <tr>\n",
       "      <th>min</th>\n",
       "      <td>26.573603</td>\n",
       "      <td>25.553776</td>\n",
       "      <td>25.107279</td>\n",
       "      <td>24.705397</td>\n",
       "      <td>24.460871</td>\n",
       "      <td>24.280885</td>\n",
       "    </tr>\n",
       "    <tr>\n",
       "      <th>25%</th>\n",
       "      <td>27.507428</td>\n",
       "      <td>26.871497</td>\n",
       "      <td>26.818026</td>\n",
       "      <td>26.714657</td>\n",
       "      <td>26.633417</td>\n",
       "      <td>26.535331</td>\n",
       "    </tr>\n",
       "    <tr>\n",
       "      <th>50%</th>\n",
       "      <td>27.905549</td>\n",
       "      <td>27.298753</td>\n",
       "      <td>27.235470</td>\n",
       "      <td>27.156032</td>\n",
       "      <td>27.102195</td>\n",
       "      <td>27.024873</td>\n",
       "    </tr>\n",
       "    <tr>\n",
       "      <th>75%</th>\n",
       "      <td>28.452895</td>\n",
       "      <td>27.883019</td>\n",
       "      <td>27.697073</td>\n",
       "      <td>27.620384</td>\n",
       "      <td>27.584425</td>\n",
       "      <td>27.588162</td>\n",
       "    </tr>\n",
       "    <tr>\n",
       "      <th>max</th>\n",
       "      <td>40.812877</td>\n",
       "      <td>40.422024</td>\n",
       "      <td>37.436853</td>\n",
       "      <td>38.037623</td>\n",
       "      <td>37.411129</td>\n",
       "      <td>37.630643</td>\n",
       "    </tr>\n",
       "  </tbody>\n",
       "</table>\n",
       "</div>"
      ],
      "text/plain": [
       "          i_LSST_mag     z_LSST_mag      Y_WFI_mag      J_WFI_mag  \\\n",
       "count  156946.000000  156946.000000  156946.000000  156946.000000   \n",
       "mean       28.100839      27.494196      27.312890      27.205311   \n",
       "std         0.886168       0.952284       0.787836       0.803832   \n",
       "min        26.573603      25.553776      25.107279      24.705397   \n",
       "25%        27.507428      26.871497      26.818026      26.714657   \n",
       "50%        27.905549      27.298753      27.235470      27.156032   \n",
       "75%        28.452895      27.883019      27.697073      27.620384   \n",
       "max        40.812877      40.422024      37.436853      38.037623   \n",
       "\n",
       "           H_WFI_mag      F_WFI_mag  \n",
       "count  156946.000000  156946.000000  \n",
       "mean       27.141593      27.131091  \n",
       "std         0.842035       0.981601  \n",
       "min        24.460871      24.280885  \n",
       "25%        26.633417      26.535331  \n",
       "50%        27.102195      27.024873  \n",
       "75%        27.584425      27.588162  \n",
       "max        37.411129      37.630643  "
      ]
     },
     "execution_count": 7,
     "metadata": {},
     "output_type": "execute_result"
    }
   ],
   "source": [
    "galaxies_patch8786_partial = read_data_partial('galaxies_train_catalog_patch8786.csv', 'galaxies_patch8786_partial.csv')\n",
    "galaxies_patch8786_drop = galaxies_patch8786_partial[['r_LSST_magerr', 'i_LSST_magerr','i_LSST_mag', 'z_LSST_mag', 'Y_WFI_mag', 'J_WFI_mag', 'H_WFI_mag', 'F_WFI_mag']]\n",
    "galaxies_patch8786_drop = galaxies_patch8786_drop.replace(99.99, np.nan).dropna()\n",
    "galaxies_patch8786_drop = galaxies_patch8786_drop[(galaxies_patch8786_drop['r_LSST_magerr']>0.2)&(galaxies_patch8786_drop['i_LSST_magerr']>0.2)]\n",
    "galaxies_patch8786_drop = galaxies_patch8786_drop.drop(columns=['r_LSST_magerr', 'i_LSST_magerr'])\n",
    "print('galaxies_train_catalog_patch8786.csv partial data description: ')\n",
    "galaxies_patch8786_drop.describe()"
   ]
  },
  {
   "cell_type": "markdown",
   "id": "d8550789-199b-4df3-8a0c-d2724198974f",
   "metadata": {},
   "source": [
    "### drop missing values"
   ]
  },
  {
   "cell_type": "code",
   "execution_count": 8,
   "id": "83a045ac-a90d-4eab-b88b-22f57bfcb1f9",
   "metadata": {
    "execution": {
     "iopub.execute_input": "2023-09-20T17:01:44.937546Z",
     "iopub.status.busy": "2023-09-20T17:01:44.937301Z",
     "iopub.status.idle": "2023-09-20T17:01:44.960305Z",
     "shell.execute_reply": "2023-09-20T17:01:44.959478Z",
     "shell.execute_reply.started": "2023-09-20T17:01:44.937520Z"
    }
   },
   "outputs": [
    {
     "name": "stdout",
     "output_type": "stream",
     "text": [
      "      i_LSST_mag  z_LSST_mag  Y_WFI_mag  J_WFI_mag  H_WFI_mag  F_WFI_mag\n",
      "1281   27.955360   23.388638  18.489759  18.079326  18.072496  18.058461\n",
      "1307   27.672539   23.363093  18.584296  18.061424  18.042225  18.025975\n",
      "1329   28.051408   23.778138  18.601250  18.008757  17.881144  17.780953\n",
      "1344   27.538063   23.893443  18.537558  18.022577  17.954901  17.866836\n",
      "1350   27.028989   24.008393  18.589781  18.074683  17.986391  17.954758 20759\n",
      "(array([], dtype=int64), array([], dtype=int64))\n",
      "40214\n",
      "(array([], dtype=int64), array([], dtype=int64))\n",
      "166180\n",
      "(array([], dtype=int64), array([], dtype=int64))\n",
      "156946\n",
      "(array([], dtype=int64), array([], dtype=int64))\n"
     ]
    }
   ],
   "source": [
    "print(qso_train_drop.head(), len(qso_train_drop))\n",
    "print(np.where(np.isnan(qso_train_drop)))\n",
    "print(len(mlt_train_drop))\n",
    "print(np.where(np.isnan(mlt_train_drop)))\n",
    "print(len(galaxies_patch8789_drop))\n",
    "print(np.where(np.isnan(galaxies_patch8789_drop)))\n",
    "print(len(galaxies_patch8786_drop))\n",
    "print(np.where(np.isnan(galaxies_patch8786_drop)))"
   ]
  },
  {
   "cell_type": "code",
   "execution_count": 9,
   "id": "fd4ab602-f20f-46bb-8b20-491e40cf98a6",
   "metadata": {
    "execution": {
     "iopub.execute_input": "2023-09-20T17:01:44.961563Z",
     "iopub.status.busy": "2023-09-20T17:01:44.961341Z",
     "iopub.status.idle": "2023-09-20T17:01:44.968308Z",
     "shell.execute_reply": "2023-09-20T17:01:44.967371Z",
     "shell.execute_reply.started": "2023-09-20T17:01:44.961540Z"
    }
   },
   "outputs": [],
   "source": [
    "qso_train_drop['label'] = np.ones(len(qso_train_drop))\n",
    "mlt_train_drop['label'] = np.zeros(len(mlt_train_drop))\n",
    "galaxies_patch8789_drop['label'] = np.zeros(len(galaxies_patch8789_drop))\n",
    "galaxies_patch8786_drop['label'] = np.zeros(len(galaxies_patch8786_drop))"
   ]
  },
  {
   "cell_type": "markdown",
   "id": "0358da27-4270-41d2-bb30-1e19ee96a7c1",
   "metadata": {},
   "source": [
    "### check the cleaned datasets and concatenate into new ones"
   ]
  },
  {
   "cell_type": "code",
   "execution_count": 10,
   "id": "e850f945-0d38-4bf4-9dc6-0c8552a05450",
   "metadata": {
    "execution": {
     "iopub.execute_input": "2023-09-20T17:01:44.970583Z",
     "iopub.status.busy": "2023-09-20T17:01:44.970364Z",
     "iopub.status.idle": "2023-09-20T17:01:44.993697Z",
     "shell.execute_reply": "2023-09-20T17:01:44.992857Z",
     "shell.execute_reply.started": "2023-09-20T17:01:44.970561Z"
    },
    "tags": []
   },
   "outputs": [
    {
     "name": "stdout",
     "output_type": "stream",
     "text": [
      "qso:\n",
      "       i_LSST_mag  z_LSST_mag  Y_WFI_mag  J_WFI_mag  H_WFI_mag  F_WFI_mag  \\\n",
      "1281   27.955360   23.388638  18.489759  18.079326  18.072496  18.058461   \n",
      "1307   27.672539   23.363093  18.584296  18.061424  18.042225  18.025975   \n",
      "1329   28.051408   23.778138  18.601250  18.008757  17.881144  17.780953   \n",
      "1344   27.538063   23.893443  18.537558  18.022577  17.954901  17.866836   \n",
      "1350   27.028989   24.008393  18.589781  18.074683  17.986391  17.954758   \n",
      "\n",
      "      label  \n",
      "1281    1.0  \n",
      "1307    1.0  \n",
      "1329    1.0  \n",
      "1344    1.0  \n",
      "1350    1.0  \n",
      "bd:\n",
      "         i_LSST_mag  z_LSST_mag  Y_WFI_mag  J_WFI_mag  H_WFI_mag  F_WFI_mag  \\\n",
      "398247   26.888214   24.767034  24.160454  23.807130  23.455427  23.446447   \n",
      "398253   26.758145   25.077703  24.012978  23.724390  23.529321  23.489750   \n",
      "398350   26.817520   25.070334  24.192246  23.774151  23.644759  23.551041   \n",
      "398458   26.976849   25.348521  24.372349  23.913859  23.949639  23.681874   \n",
      "398464   26.788703   25.283402  24.121468  23.827350  23.858792  23.847739   \n",
      "\n",
      "        label  \n",
      "398247    0.0  \n",
      "398253    0.0  \n",
      "398350    0.0  \n",
      "398458    0.0  \n",
      "398464    0.0  \n",
      "galaxies patch8789:\n",
      "      i_LSST_mag  z_LSST_mag  Y_WFI_mag  J_WFI_mag  H_WFI_mag  F_WFI_mag  label\n",
      "18    27.890176   26.621301  26.164061  25.958663  25.639332  25.724063    0.0\n",
      "21    27.971684   29.417062  26.708459  27.106227  27.964695  26.722699    0.0\n",
      "75    27.144901   26.205577  26.453127  26.294853  25.942654  26.079247    0.0\n",
      "130   27.309727   26.454840  26.037628  25.668664  25.696706  25.603397    0.0\n",
      "132   27.347764   26.463596  26.306457  26.036950  25.713942  25.756873    0.0\n",
      "galaxies path8786:\n",
      "     i_LSST_mag  z_LSST_mag  Y_WFI_mag  J_WFI_mag  H_WFI_mag  F_WFI_mag  label\n",
      "5    26.964590   26.276705  25.628934  25.360911  25.204838  25.074810    0.0\n",
      "8    27.321674   26.342648  25.963881  25.962677  25.821508  26.115065    0.0\n",
      "17   27.633014   27.383442  26.166794  25.841700  25.725241  25.797991    0.0\n",
      "35   27.026872   26.713350  25.987364  25.716585  25.549931  25.497145    0.0\n",
      "78   28.005633   27.652659  27.156355  26.617857  26.540088  26.387052    0.0\n"
     ]
    }
   ],
   "source": [
    "print('qso:\\n', qso_train_drop.head())\n",
    "print('bd:\\n', mlt_train_drop.head())\n",
    "print('galaxies patch8789:\\n', galaxies_patch8789_drop.head())\n",
    "print('galaxies path8786:\\n', galaxies_patch8786_drop.head())"
   ]
  },
  {
   "cell_type": "code",
   "execution_count": 11,
   "id": "40c6f8b6-41c5-4f7e-9d70-97c6442a816a",
   "metadata": {
    "execution": {
     "iopub.execute_input": "2023-09-20T17:01:44.995193Z",
     "iopub.status.busy": "2023-09-20T17:01:44.994953Z",
     "iopub.status.idle": "2023-09-20T17:01:45.022056Z",
     "shell.execute_reply": "2023-09-20T17:01:45.021063Z",
     "shell.execute_reply.started": "2023-09-20T17:01:44.995170Z"
    }
   },
   "outputs": [],
   "source": [
    "# data concatenation to get training data\n",
    "contaminants_drop = pd.concat([mlt_train_drop, galaxies_patch8789_drop, galaxies_patch8786_drop], ignore_index=True)\n",
    "data_train_drop = pd.concat([qso_train_drop, contaminants_drop], ignore_index=True) # make sure that the data line up\n",
    "X_drop = data_train_drop[['i_LSST_mag', 'z_LSST_mag','Y_WFI_mag', 'J_WFI_mag', 'H_WFI_mag', 'F_WFI_mag']]\n",
    "Y_drop = data_train_drop['label']"
   ]
  },
  {
   "cell_type": "code",
   "execution_count": 12,
   "id": "4e004334-b749-41a6-a253-3e883d1025cf",
   "metadata": {
    "execution": {
     "iopub.execute_input": "2023-09-20T17:01:45.023650Z",
     "iopub.status.busy": "2023-09-20T17:01:45.023391Z",
     "iopub.status.idle": "2023-09-20T17:01:45.028294Z",
     "shell.execute_reply": "2023-09-20T17:01:45.027282Z",
     "shell.execute_reply.started": "2023-09-20T17:01:45.023623Z"
    }
   },
   "outputs": [
    {
     "name": "stdout",
     "output_type": "stream",
     "text": [
      "384099\n"
     ]
    }
   ],
   "source": [
    "print(len(X_drop))"
   ]
  },
  {
   "cell_type": "code",
   "execution_count": 13,
   "id": "8523dfd5-3316-4581-b03b-b64b9444cb6b",
   "metadata": {
    "execution": {
     "iopub.execute_input": "2023-09-20T17:01:45.029772Z",
     "iopub.status.busy": "2023-09-20T17:01:45.029332Z",
     "iopub.status.idle": "2023-09-20T17:01:45.122189Z",
     "shell.execute_reply": "2023-09-20T17:01:45.121342Z",
     "shell.execute_reply.started": "2023-09-20T17:01:45.029744Z"
    }
   },
   "outputs": [
    {
     "data": {
      "text/html": [
       "<div>\n",
       "<style scoped>\n",
       "    .dataframe tbody tr th:only-of-type {\n",
       "        vertical-align: middle;\n",
       "    }\n",
       "\n",
       "    .dataframe tbody tr th {\n",
       "        vertical-align: top;\n",
       "    }\n",
       "\n",
       "    .dataframe thead th {\n",
       "        text-align: right;\n",
       "    }\n",
       "</style>\n",
       "<table border=\"1\" class=\"dataframe\">\n",
       "  <thead>\n",
       "    <tr style=\"text-align: right;\">\n",
       "      <th></th>\n",
       "      <th>i_LSST_mag</th>\n",
       "      <th>z_LSST_mag</th>\n",
       "      <th>Y_WFI_mag</th>\n",
       "      <th>J_WFI_mag</th>\n",
       "      <th>H_WFI_mag</th>\n",
       "      <th>F_WFI_mag</th>\n",
       "    </tr>\n",
       "  </thead>\n",
       "  <tbody>\n",
       "    <tr>\n",
       "      <th>count</th>\n",
       "      <td>384099.000000</td>\n",
       "      <td>384099.000000</td>\n",
       "      <td>384099.000000</td>\n",
       "      <td>384099.000000</td>\n",
       "      <td>384099.000000</td>\n",
       "      <td>384099.000000</td>\n",
       "    </tr>\n",
       "    <tr>\n",
       "      <th>mean</th>\n",
       "      <td>28.105037</td>\n",
       "      <td>27.338747</td>\n",
       "      <td>26.898356</td>\n",
       "      <td>26.741610</td>\n",
       "      <td>26.659483</td>\n",
       "      <td>26.646531</td>\n",
       "    </tr>\n",
       "    <tr>\n",
       "      <th>std</th>\n",
       "      <td>0.916743</td>\n",
       "      <td>1.058480</td>\n",
       "      <td>1.320838</td>\n",
       "      <td>1.417921</td>\n",
       "      <td>1.468364</td>\n",
       "      <td>1.548313</td>\n",
       "    </tr>\n",
       "    <tr>\n",
       "      <th>min</th>\n",
       "      <td>26.565172</td>\n",
       "      <td>23.064283</td>\n",
       "      <td>18.489759</td>\n",
       "      <td>17.989148</td>\n",
       "      <td>17.800595</td>\n",
       "      <td>17.633615</td>\n",
       "    </tr>\n",
       "    <tr>\n",
       "      <th>25%</th>\n",
       "      <td>27.487583</td>\n",
       "      <td>26.729171</td>\n",
       "      <td>26.520257</td>\n",
       "      <td>26.375729</td>\n",
       "      <td>26.271044</td>\n",
       "      <td>26.171445</td>\n",
       "    </tr>\n",
       "    <tr>\n",
       "      <th>50%</th>\n",
       "      <td>27.903062</td>\n",
       "      <td>27.208934</td>\n",
       "      <td>27.103179</td>\n",
       "      <td>27.019502</td>\n",
       "      <td>26.959260</td>\n",
       "      <td>26.869193</td>\n",
       "    </tr>\n",
       "    <tr>\n",
       "      <th>75%</th>\n",
       "      <td>28.471100</td>\n",
       "      <td>27.809780</td>\n",
       "      <td>27.602659</td>\n",
       "      <td>27.530272</td>\n",
       "      <td>27.490765</td>\n",
       "      <td>27.470353</td>\n",
       "    </tr>\n",
       "    <tr>\n",
       "      <th>max</th>\n",
       "      <td>40.812877</td>\n",
       "      <td>40.422024</td>\n",
       "      <td>39.647494</td>\n",
       "      <td>40.707497</td>\n",
       "      <td>38.204669</td>\n",
       "      <td>38.379259</td>\n",
       "    </tr>\n",
       "  </tbody>\n",
       "</table>\n",
       "</div>"
      ],
      "text/plain": [
       "          i_LSST_mag     z_LSST_mag      Y_WFI_mag      J_WFI_mag  \\\n",
       "count  384099.000000  384099.000000  384099.000000  384099.000000   \n",
       "mean       28.105037      27.338747      26.898356      26.741610   \n",
       "std         0.916743       1.058480       1.320838       1.417921   \n",
       "min        26.565172      23.064283      18.489759      17.989148   \n",
       "25%        27.487583      26.729171      26.520257      26.375729   \n",
       "50%        27.903062      27.208934      27.103179      27.019502   \n",
       "75%        28.471100      27.809780      27.602659      27.530272   \n",
       "max        40.812877      40.422024      39.647494      40.707497   \n",
       "\n",
       "           H_WFI_mag      F_WFI_mag  \n",
       "count  384099.000000  384099.000000  \n",
       "mean       26.659483      26.646531  \n",
       "std         1.468364       1.548313  \n",
       "min        17.800595      17.633615  \n",
       "25%        26.271044      26.171445  \n",
       "50%        26.959260      26.869193  \n",
       "75%        27.490765      27.470353  \n",
       "max        38.204669      38.379259  "
      ]
     },
     "execution_count": 13,
     "metadata": {},
     "output_type": "execute_result"
    }
   ],
   "source": [
    "X_drop.describe()"
   ]
  },
  {
   "cell_type": "markdown",
   "id": "f779e2e4-cbc9-43da-87b4-392c710de652",
   "metadata": {},
   "source": [
    "## 24.0 < z < 26"
   ]
  },
  {
   "cell_type": "code",
   "execution_count": 14,
   "id": "01134802-11cf-4cdf-9638-5e9c119385a0",
   "metadata": {
    "execution": {
     "iopub.execute_input": "2023-09-20T17:01:45.123687Z",
     "iopub.status.busy": "2023-09-20T17:01:45.123396Z",
     "iopub.status.idle": "2023-09-20T17:01:45.155407Z",
     "shell.execute_reply": "2023-09-20T17:01:45.154397Z",
     "shell.execute_reply.started": "2023-09-20T17:01:45.123659Z"
    },
    "tags": []
   },
   "outputs": [
    {
     "name": "stdout",
     "output_type": "stream",
     "text": [
      "7514\n",
      "13790\n",
      "778\n",
      "753\n"
     ]
    }
   ],
   "source": [
    "qso_train_26 = qso_train_drop[qso_train_drop['z_LSST_mag'] > 24.0]\n",
    "qso_train_26 = qso_train_26[qso_train_26['z_LSST_mag'] < 26.0]\n",
    "print(len(qso_train_26))\n",
    "mlt_train_26 = mlt_train_drop[mlt_train_drop['z_LSST_mag'] > 24.0]\n",
    "mlt_train_26 = mlt_train_26[mlt_train_26['z_LSST_mag'] < 26.0]\n",
    "print(len(mlt_train_26))\n",
    "galaxies_patch8789_26 = galaxies_patch8789_drop[galaxies_patch8789_drop['z_LSST_mag'] > 24.0]\n",
    "galaxies_patch8789_26 = galaxies_patch8789_26[galaxies_patch8789_26['z_LSST_mag'] < 26.0]\n",
    "print(len(galaxies_patch8789_26))\n",
    "galaxies_patch8786_26 = galaxies_patch8786_drop[galaxies_patch8786_drop['z_LSST_mag'] > 24.0]\n",
    "galaxies_patch8786_26 = galaxies_patch8786_26[galaxies_patch8786_26['z_LSST_mag'] < 26.0]\n",
    "print(len(galaxies_patch8786_26))"
   ]
  },
  {
   "cell_type": "code",
   "execution_count": 15,
   "id": "ec8e1cdd-3780-4392-a709-a0ed62fc20b0",
   "metadata": {
    "execution": {
     "iopub.execute_input": "2023-09-20T17:01:45.156865Z",
     "iopub.status.busy": "2023-09-20T17:01:45.156580Z",
     "iopub.status.idle": "2023-09-20T17:01:45.164258Z",
     "shell.execute_reply": "2023-09-20T17:01:45.163272Z",
     "shell.execute_reply.started": "2023-09-20T17:01:45.156838Z"
    }
   },
   "outputs": [],
   "source": [
    "contaminants_26 = pd.concat([mlt_train_26, galaxies_patch8789_26, galaxies_patch8786_26], ignore_index=True)\n",
    "data_train_26 = pd.concat([qso_train_26, contaminants_26], ignore_index=True)\n",
    "X_drop_26 = data_train_26[['i_LSST_mag', 'z_LSST_mag','Y_WFI_mag', 'J_WFI_mag', 'H_WFI_mag', 'F_WFI_mag']]\n",
    "Y_drop_26 = data_train_26['label']"
   ]
  },
  {
   "cell_type": "code",
   "execution_count": 16,
   "id": "13607206-6c89-4f7d-9e5a-35a01de1eb54",
   "metadata": {
    "execution": {
     "iopub.execute_input": "2023-09-20T17:01:45.165591Z",
     "iopub.status.busy": "2023-09-20T17:01:45.165363Z",
     "iopub.status.idle": "2023-09-20T17:01:45.181627Z",
     "shell.execute_reply": "2023-09-20T17:01:45.180680Z",
     "shell.execute_reply.started": "2023-09-20T17:01:45.165567Z"
    },
    "tags": []
   },
   "outputs": [],
   "source": [
    "col_names = ['i_LSST_mag', 'z_LSST_mag', 'Y_WFI_mag', 'J_WFI_mag', 'H_WFI_mag', 'F_WFI_mag']\n",
    "for i in range(len(col_names)):\n",
    "    for j in range(len(col_names)):\n",
    "        if i < j:\n",
    "            col = col_names[i] + '-' + col_names[j]\n",
    "            X_drop_26[col] = X_drop_26[col_names[i]] - X_drop_26[col_names[j]]\n",
    "\n",
    "X_drop_26_copy = X_drop_26.drop(columns=['i_LSST_mag', 'z_LSST_mag', 'Y_WFI_mag', 'J_WFI_mag', 'H_WFI_mag', 'F_WFI_mag'])"
   ]
  },
  {
   "cell_type": "code",
   "execution_count": 17,
   "id": "a0ec1a5c-e810-4379-abce-88d4b5c4417e",
   "metadata": {},
   "outputs": [
    {
     "name": "stderr",
     "output_type": "stream",
     "text": [
      "/data0/sw/anaconda3/lib/python3.8/site-packages/sklearn/svm/_base.py:985: ConvergenceWarning: Liblinear failed to converge, increase the number of iterations.\n",
      "  warnings.warn(\"Liblinear failed to converge, increase \"\n"
     ]
    },
    {
     "data": {
      "image/png": "[encoded data removed]",
      "text/plain": [
       "<Figure size 1296x504 with 1 Axes>"
      ]
     },
     "metadata": {
      "needs_background": "light"
     },
     "output_type": "display_data"
    }
   ],
   "source": [
    "trainedsvm = svm.LinearSVC(max_iter = 2000).fit(X_drop_26_copy, Y_drop_26)\n",
    "coef = trainedsvm.coef_.ravel()\n",
    "\n",
    "top_positive_coefficients = np.argsort(coef)[-4:]\n",
    "top_negative_coefficients = np.argsort(coef)[:4]\n",
    "top_coefficients = np.hstack([top_negative_coefficients, top_positive_coefficients])\n",
    "plt.figure(figsize=(18, 7))\n",
    "colors = ['green' if c < 0 else 'blue' for c in coef[top_coefficients]]\n",
    "plt.bar(np.arange(2 * 4), coef[top_coefficients], color=colors)\n",
    "feature_names = np.array(X_drop_26_copy.columns)\n",
    "plt.xticks(np.arange(2 * 4), feature_names[top_coefficients], rotation=45, ha='right')\n",
    "plt.show()"
   ]
  },
  {
   "cell_type": "code",
   "execution_count": 17,
   "id": "5b8bf89c-1050-46e5-81f1-8463109aa1b9",
   "metadata": {
    "execution": {
     "iopub.execute_input": "2023-09-20T17:01:45.182992Z",
     "iopub.status.busy": "2023-09-20T17:01:45.182531Z",
     "iopub.status.idle": "2023-09-20T17:01:45.199210Z",
     "shell.execute_reply": "2023-09-20T17:01:45.197839Z",
     "shell.execute_reply.started": "2023-09-20T17:01:45.182968Z"
    },
    "tags": []
   },
   "outputs": [
    {
     "name": "stdout",
     "output_type": "stream",
     "text": [
      "<class 'pandas.core.frame.DataFrame'>\n",
      "X with 24.0 < z < 26.0: \n",
      "    i_LSST_mag  z_LSST_mag  Y_WFI_mag  J_WFI_mag  H_WFI_mag  F_WFI_mag  \\\n",
      "0   27.028989   24.008393  18.589781  18.074683  17.986391  17.954758   \n",
      "1   27.524243   24.064202  18.581391  18.063651  17.962036  17.889791   \n",
      "2   26.956233   24.175056  18.643111  18.057271  17.947544  17.923464   \n",
      "3   27.085317   24.577786  18.568934  18.003694  17.874231  17.815912   \n",
      "4   27.750373   24.204321  18.623443  18.056759  17.942237  17.873085   \n",
      "\n",
      "   Y_WFI_mag-H_WFI_mag  Y_WFI_mag-J_WFI_mag  z_LSST_mag-H_WFI_mag  \\\n",
      "0             0.603390             0.515099              6.022002   \n",
      "1             0.619356             0.517740              6.102166   \n",
      "2             0.695568             0.585840              6.227512   \n",
      "3             0.694703             0.565240              6.703555   \n",
      "4             0.681206             0.566684              6.262084   \n",
      "\n",
      "   i_LSST_mag-H_WFI_mag  J_WFI_mag-F_WFI_mag  z_LSST_mag-Y_WFI_mag  \\\n",
      "0              9.042598             0.119925              5.418612   \n",
      "1              9.562207             0.173860              5.482811   \n",
      "2              9.008689             0.133807              5.531945   \n",
      "3              9.211086             0.187782              6.008852   \n",
      "4              9.808136             0.183674              5.580878   \n",
      "\n",
      "   i_LSST_mag-Y_WFI_mag  H_WFI_mag-F_WFI_mag  J_WFI_mag-H_WFI_mag  \n",
      "0              8.439208             0.031633             0.088292  \n",
      "1              8.942852             0.072244             0.101615  \n",
      "2              8.313122             0.024080             0.109727  \n",
      "3              8.516383             0.058319             0.129463  \n",
      "4              9.126930             0.069152             0.114522  \n"
     ]
    }
   ],
   "source": [
    "# keep the columns with the highest influences & check if the dataframes look reasonable\n",
    "X_drop_26 = X_drop_26[['i_LSST_mag', 'z_LSST_mag', 'Y_WFI_mag', 'J_WFI_mag', 'H_WFI_mag', 'F_WFI_mag', 'Y_WFI_mag-H_WFI_mag', 'Y_WFI_mag-J_WFI_mag', 'z_LSST_mag-H_WFI_mag', 'i_LSST_mag-H_WFI_mag', 'J_WFI_mag-F_WFI_mag', 'z_LSST_mag-Y_WFI_mag', 'i_LSST_mag-Y_WFI_mag', 'H_WFI_mag-F_WFI_mag', 'J_WFI_mag-H_WFI_mag']]\n",
    "\n",
    "print(type(X_drop_26))\n",
    "print('X with 24.0 < z < 26.0: \\n', X_drop_26.head())"
   ]
  },
  {
   "cell_type": "code",
   "execution_count": 18,
   "id": "8cd1b5b4-0c4a-406d-b3cf-76dff5951efc",
   "metadata": {
    "execution": {
     "iopub.execute_input": "2023-09-20T17:06:17.873992Z",
     "iopub.status.busy": "2023-09-20T17:06:17.873476Z",
     "iopub.status.idle": "2023-09-20T17:06:17.879701Z",
     "shell.execute_reply": "2023-09-20T17:06:17.878312Z",
     "shell.execute_reply.started": "2023-09-20T17:06:17.873951Z"
    }
   },
   "outputs": [],
   "source": [
    "X_drop_26_copy = X_drop_26.copy()"
   ]
  },
  {
   "cell_type": "code",
   "execution_count": 19,
   "id": "563a4d34-3d07-4aad-822e-e15488620df9",
   "metadata": {
    "execution": {
     "iopub.execute_input": "2023-09-20T17:06:18.872904Z",
     "iopub.status.busy": "2023-09-20T17:06:18.872421Z",
     "iopub.status.idle": "2023-09-20T17:06:18.879493Z",
     "shell.execute_reply": "2023-09-20T17:06:18.878202Z",
     "shell.execute_reply.started": "2023-09-20T17:06:18.872864Z"
    }
   },
   "outputs": [
    {
     "name": "stdout",
     "output_type": "stream",
     "text": [
      "22835\n"
     ]
    }
   ],
   "source": [
    "print(len(X_drop_26_copy))"
   ]
  },
  {
   "cell_type": "markdown",
   "id": "4f826723-4286-4ce6-9999-09463cca3b99",
   "metadata": {},
   "source": [
    "### KNN"
   ]
  },
  {
   "cell_type": "code",
   "execution_count": 29,
   "id": "484cfb31-feba-49ed-9d7f-5863fb4ff0e6",
   "metadata": {
    "execution": {
     "iopub.execute_input": "2023-09-20T17:07:32.875274Z",
     "iopub.status.busy": "2023-09-20T17:07:32.874556Z",
     "iopub.status.idle": "2023-09-20T17:07:32.894808Z",
     "shell.execute_reply": "2023-09-20T17:07:32.893220Z",
     "shell.execute_reply.started": "2023-09-20T17:07:32.875215Z"
    }
   },
   "outputs": [],
   "source": [
    "def get_color_filter(clf, n_neighbors, weights, x1, x2, y1, y2, y):\n",
    "    # Create color maps\n",
    "    cmap_light = ListedColormap(['#75aff9', '#f7a844']) # blue, orange\n",
    "    cmap_bold = ListedColormap(['#8dbcf9', '#f5a844']) \n",
    "    \n",
    "    features = [x1-x2, y1-y2]\n",
    "    X = np.array(features).transpose()\n",
    "\n",
    "    # we create an instance of Neighbours Classifier and fit the data.\n",
    "    clf.fit(X, y)\n",
    "\n",
    "    # Plot the decision boundary. For that, we will assign a color to each\n",
    "    # point in the mesh [x_min, x_max]x[y_min, y_max].\n",
    "    x_min, x_max = min(x1 - x2) - 1, max(x1 - x2) + 1\n",
    "    y_min, y_max = min(y1 - y2) - 1, max(y1 - y2) + 1\n",
    "    h = (x_max-x_min)/100\n",
    "    xx, yy = np.meshgrid(np.arange(x_min, x_max, h),\n",
    "                         np.arange(y_min, y_max, h))\n",
    "    Z = clf.predict(np.c_[xx.ravel(), yy.ravel()])\n",
    "    \n",
    "    # Put the result into a color plot\n",
    "    Z = Z.reshape(xx.shape)\n",
    "    plt.figure()\n",
    "    plt.pcolormesh(xx, yy, Z, cmap=cmap_light, alpha=0.15)\n",
    "\n",
    "    # Plot also the training points\n",
    "    plt.scatter(X[:, 0], X[:, 1], c=y, cmap=cmap_bold, alpha=0.2)\n",
    "    plt.axis([x_min, x_max, y_min, y_max])\n",
    "    plt.title(\"k = %i, weights = '%s'\"\n",
    "              % (n_neighbors, weights))"
   ]
  },
  {
   "cell_type": "code",
   "execution_count": 32,
   "id": "945e18b8-d78a-4ea0-a66b-6cf0d656a0c5",
   "metadata": {
    "execution": {
     "iopub.execute_input": "2023-09-20T17:10:33.874059Z",
     "iopub.status.busy": "2023-09-20T17:10:33.873460Z",
     "iopub.status.idle": "2023-09-20T17:10:34.825652Z",
     "shell.execute_reply": "2023-09-20T17:10:34.824427Z",
     "shell.execute_reply.started": "2023-09-20T17:10:33.874007Z"
    }
   },
   "outputs": [
    {
     "data": {
      "image/png": "[encoded data removed]",
      "text/plain": [
       "<Figure size 432x288 with 1 Axes>"
      ]
     },
     "metadata": {
      "needs_background": "light"
     },
     "output_type": "display_data"
    }
   ],
   "source": [
    "filter1a = KNeighborsClassifier(algorithm='auto', metric='minkowski', n_neighbors=13, leaf_size=3, weights='uniform', p=3)\n",
    "get_color_filter(filter1a, 13, 'uniform', X_drop_26['z_LSST_mag'], X_drop_26['J_WFI_mag'], X_drop_26['Y_WFI_mag'], X_drop_26['H_WFI_mag'], Y_drop_26)\n",
    "plt.xlabel('z_LSST_mag-J_WFI_mag')\n",
    "plt.ylabel('Y_WFI_mag-H_WFI_mag')\n",
    "plt.show()"
   ]
  },
  {
   "cell_type": "code",
   "execution_count": 33,
   "id": "a948ab27-b058-4169-82aa-7ec8d2e994fc",
   "metadata": {
    "execution": {
     "iopub.execute_input": "2023-09-20T17:10:36.872545Z",
     "iopub.status.busy": "2023-09-20T17:10:36.871935Z",
     "iopub.status.idle": "2023-09-20T17:10:39.496928Z",
     "shell.execute_reply": "2023-09-20T17:10:39.495759Z",
     "shell.execute_reply.started": "2023-09-20T17:10:36.872490Z"
    }
   },
   "outputs": [
    {
     "data": {
      "image/png": "[encoded data removed]",
      "text/plain": [
       "<Figure size 432x288 with 1 Axes>"
      ]
     },
     "metadata": {
      "needs_background": "light"
     },
     "output_type": "display_data"
    }
   ],
   "source": [
    "# x: Y - H \n",
    "# y: i - H\n",
    "# best score:  0.9938063063063063\n",
    "# best params:  {'algorithm': 'auto', 'leaf_size': 3, 'metric': 'minkowski', 'n_neighbors': 13, 'p': 5, 'weights': 'uniform'}\n",
    "# knn_training(X_drop_26['Y_WFI_mag'], X_drop_26['H_WFI_mag'], X_drop_26['i_LSST_mag'], X_drop_26['H_WFI_mag'], Y_drop_26, [13, 19, 26, 30, 36, 40], [3, 5])\n",
    "\n",
    "filter1b = KNeighborsClassifier(algorithm='auto', metric='minkowski', n_neighbors=13, leaf_size=3, weights='uniform', p=5)\n",
    "get_color_filter(filter1b, 13, 'uniform', X_drop_26['Y_WFI_mag'], X_drop_26['H_WFI_mag'], X_drop_26['i_LSST_mag'], X_drop_26['H_WFI_mag'], Y_drop_26)\n",
    "plt.xlabel('Y_WFI_mag-H_WFI_mag')\n",
    "plt.ylabel('i_LSST_mag-H_WFI_mag')\n",
    "plt.show()"
   ]
  },
  {
   "cell_type": "code",
   "execution_count": 34,
   "id": "4c614373-f99e-40ba-a33c-1329d7d1e261",
   "metadata": {
    "execution": {
     "iopub.execute_input": "2023-09-20T17:10:39.498448Z",
     "iopub.status.busy": "2023-09-20T17:10:39.498230Z",
     "iopub.status.idle": "2023-09-20T17:10:40.331388Z",
     "shell.execute_reply": "2023-09-20T17:10:40.330024Z",
     "shell.execute_reply.started": "2023-09-20T17:10:39.498425Z"
    }
   },
   "outputs": [
    {
     "data": {
      "image/png": "[encoded data removed]",
      "text/plain": [
       "<Figure size 432x288 with 1 Axes>"
      ]
     },
     "metadata": {
      "needs_background": "light"
     },
     "output_type": "display_data"
    }
   ],
   "source": [
    "# x: z - H\n",
    "# y: J - H\n",
    "# best score:  0.9441316316316316\n",
    "# best params:  {'algorithm': 'auto', 'leaf_size': 3, 'metric': 'minkowski', 'n_neighbors': 36, 'p': 5, 'weights': 'uniform'}\n",
    "# knn_training(X_drop_26['z_LSST_mag'], X_drop_26['H_WFI_mag'], X_drop_26['J_WFI_mag'], X_drop_26['H_WFI_mag'], Y_drop_26, [19, 26, 30, 36, 42, 48], [3, 5])\n",
    "\n",
    "filter1c = KNeighborsClassifier(algorithm='auto', metric='minkowski', n_neighbors=36, leaf_size=3, weights='uniform', p=5)\n",
    "get_color_filter(filter1c, 36, 'uniform', X_drop_26['z_LSST_mag'], X_drop_26['H_WFI_mag'], X_drop_26['J_WFI_mag'], X_drop_26['H_WFI_mag'], Y_drop_26)\n",
    "plt.xlabel('z_LSST_mag-H_WFI_mag')\n",
    "plt.ylabel('J_WFI_mag-H_WFI_mag')\n",
    "plt.show()"
   ]
  },
  {
   "cell_type": "code",
   "execution_count": 35,
   "id": "d2bfd2b3-9489-424a-9f40-00bcecd790cd",
   "metadata": {
    "execution": {
     "iopub.execute_input": "2023-09-20T17:10:40.333555Z",
     "iopub.status.busy": "2023-09-20T17:10:40.333328Z",
     "iopub.status.idle": "2023-09-20T17:10:41.934675Z",
     "shell.execute_reply": "2023-09-20T17:10:41.933533Z",
     "shell.execute_reply.started": "2023-09-20T17:10:40.333531Z"
    }
   },
   "outputs": [
    {
     "data": {
      "image/png": "[encoded data removed]",
      "text/plain": [
       "<Figure size 432x288 with 1 Axes>"
      ]
     },
     "metadata": {
      "needs_background": "light"
     },
     "output_type": "display_data"
    }
   ],
   "source": [
    "filter1d = KNeighborsClassifier(algorithm='auto', metric='minkowski', n_neighbors=45, leaf_size=3, weights='uniform', p=5)\n",
    "get_color_filter(filter1d, 45, 'uniform', X_drop_26['z_LSST_mag'], X_drop_26['Y_WFI_mag'], X_drop_26['i_LSST_mag'], X_drop_26['Y_WFI_mag'], Y_drop_26)\n",
    "plt.xlabel('z_LSST_mag-Y_WFI_mag')\n",
    "plt.ylabel('i_LSST_mag-F_WFI_mag')\n",
    "plt.show()"
   ]
  },
  {
   "cell_type": "code",
   "execution_count": 36,
   "id": "11fd4db5-f6c1-4018-a8bc-6d2e90a89b1f",
   "metadata": {
    "execution": {
     "iopub.execute_input": "2023-09-20T17:10:41.936199Z",
     "iopub.status.busy": "2023-09-20T17:10:41.935976Z",
     "iopub.status.idle": "2023-09-20T17:10:43.098820Z",
     "shell.execute_reply": "2023-09-20T17:10:43.097526Z",
     "shell.execute_reply.started": "2023-09-20T17:10:41.936176Z"
    }
   },
   "outputs": [
    {
     "data": {
      "image/png": "[encoded data removed]",
      "text/plain": [
       "<Figure size 432x288 with 1 Axes>"
      ]
     },
     "metadata": {
      "needs_background": "light"
     },
     "output_type": "display_data"
    }
   ],
   "source": [
    "filter1e = KNeighborsClassifier(algorithm='auto', metric='minkowski', n_neighbors=26, leaf_size=3, weights='uniform', p=3)\n",
    "get_color_filter(filter1e, 26, 'uniform', X_drop_26['Y_WFI_mag'], X_drop_26['J_WFI_mag'], X_drop_26['J_WFI_mag'], X_drop_26['H_WFI_mag'], Y_drop_26)\n",
    "plt.xlabel('Y_WFI_mag-J_WFI_mag')\n",
    "plt.ylabel('J_WFI_mag-H_WFI_mag')\n",
    "plt.show()"
   ]
  },
  {
   "cell_type": "code",
   "execution_count": 37,
   "id": "a9a11522-5506-43a8-a99d-7d9bf84a0f1f",
   "metadata": {
    "execution": {
     "iopub.execute_input": "2023-09-20T17:10:43.100271Z",
     "iopub.status.busy": "2023-09-20T17:10:43.100039Z",
     "iopub.status.idle": "2023-09-20T17:10:43.836399Z",
     "shell.execute_reply": "2023-09-20T17:10:43.835331Z",
     "shell.execute_reply.started": "2023-09-20T17:10:43.100247Z"
    }
   },
   "outputs": [
    {
     "data": {
      "image/png": "[encoded data removed]",
      "text/plain": [
       "<Figure size 432x288 with 1 Axes>"
      ]
     },
     "metadata": {
      "needs_background": "light"
     },
     "output_type": "display_data"
    }
   ],
   "source": [
    "# x: i - Y\n",
    "# y: J - H\n",
    "# best score:  0.9161036036036035\n",
    "# best params:  {'algorithm': 'auto', 'leaf_size': 3, 'metric': 'minkowski', 'n_neighbors': 26, 'p': 3, 'weights': 'uniform'}\n",
    "# knn_training(X_drop_26['i_LSST_mag'], X_drop_26['Y_WFI_mag'], X_drop_26['J_WFI_mag'], X_drop_26['H_WFI_mag'], Y_drop_26, [13, 17, 19, 26, 30, 36, 40], [3, 5])\n",
    "\n",
    "filter1f = KNeighborsClassifier(algorithm='auto', metric='minkowski', n_neighbors=26, leaf_size=3, weights='uniform', p=3)\n",
    "get_color_filter(filter1f, 26, 'uniform', X_drop_26['i_LSST_mag'], X_drop_26['Y_WFI_mag'], X_drop_26['J_WFI_mag'], X_drop_26['H_WFI_mag'], Y_drop_26)\n",
    "plt.xlabel('i_LSST_mag-Y_WFI_mag')\n",
    "plt.ylabel('J_WFI_mag-H_WFI_mag')\n",
    "plt.show()"
   ]
  },
  {
   "cell_type": "code",
   "execution_count": null,
   "id": "fe9db386-7c56-42a4-a714-a3ca35a43980",
   "metadata": {},
   "outputs": [],
   "source": []
  },
  {
   "cell_type": "markdown",
   "id": "0392303f-2b78-47d7-a693-143193b1d8ac",
   "metadata": {},
   "source": [
    "## Test"
   ]
  },
  {
   "cell_type": "code",
   "execution_count": 38,
   "id": "3ed8880c-d68a-41e4-86d0-e58e402b5e6c",
   "metadata": {
    "execution": {
     "iopub.execute_input": "2023-09-20T17:10:48.875072Z",
     "iopub.status.busy": "2023-09-20T17:10:48.874429Z",
     "iopub.status.idle": "2023-09-20T17:10:49.087674Z",
     "shell.execute_reply": "2023-09-20T17:10:49.086391Z",
     "shell.execute_reply.started": "2023-09-20T17:10:48.875015Z"
    }
   },
   "outputs": [
    {
     "data": {
      "text/html": [
       "<div>\n",
       "<style scoped>\n",
       "    .dataframe tbody tr th:only-of-type {\n",
       "        vertical-align: middle;\n",
       "    }\n",
       "\n",
       "    .dataframe tbody tr th {\n",
       "        vertical-align: top;\n",
       "    }\n",
       "\n",
       "    .dataframe thead th {\n",
       "        text-align: right;\n",
       "    }\n",
       "</style>\n",
       "<table border=\"1\" class=\"dataframe\">\n",
       "  <thead>\n",
       "    <tr style=\"text-align: right;\">\n",
       "      <th></th>\n",
       "      <th>z</th>\n",
       "      <th>i_LSST_mag</th>\n",
       "      <th>z_LSST_mag</th>\n",
       "      <th>Y_WFI_mag</th>\n",
       "      <th>J_WFI_mag</th>\n",
       "      <th>H_WFI_mag</th>\n",
       "      <th>F_WFI_mag</th>\n",
       "    </tr>\n",
       "  </thead>\n",
       "  <tbody>\n",
       "    <tr>\n",
       "      <th>count</th>\n",
       "      <td>4270.000000</td>\n",
       "      <td>4270.000000</td>\n",
       "      <td>4270.000000</td>\n",
       "      <td>4270.000000</td>\n",
       "      <td>4270.000000</td>\n",
       "      <td>4270.000000</td>\n",
       "      <td>4270.000000</td>\n",
       "    </tr>\n",
       "    <tr>\n",
       "      <th>mean</th>\n",
       "      <td>6.334597</td>\n",
       "      <td>28.835404</td>\n",
       "      <td>26.798711</td>\n",
       "      <td>25.931247</td>\n",
       "      <td>25.903342</td>\n",
       "      <td>25.938094</td>\n",
       "      <td>25.724927</td>\n",
       "    </tr>\n",
       "    <tr>\n",
       "      <th>std</th>\n",
       "      <td>0.310122</td>\n",
       "      <td>1.238984</td>\n",
       "      <td>1.679970</td>\n",
       "      <td>1.773994</td>\n",
       "      <td>1.803031</td>\n",
       "      <td>1.796843</td>\n",
       "      <td>1.760516</td>\n",
       "    </tr>\n",
       "    <tr>\n",
       "      <th>min</th>\n",
       "      <td>6.000191</td>\n",
       "      <td>26.618546</td>\n",
       "      <td>23.163809</td>\n",
       "      <td>20.452226</td>\n",
       "      <td>20.223916</td>\n",
       "      <td>20.227606</td>\n",
       "      <td>20.164541</td>\n",
       "    </tr>\n",
       "    <tr>\n",
       "      <th>25%</th>\n",
       "      <td>6.104868</td>\n",
       "      <td>27.976921</td>\n",
       "      <td>25.507942</td>\n",
       "      <td>24.531768</td>\n",
       "      <td>24.504636</td>\n",
       "      <td>24.559612</td>\n",
       "      <td>24.386106</td>\n",
       "    </tr>\n",
       "    <tr>\n",
       "      <th>50%</th>\n",
       "      <td>6.244405</td>\n",
       "      <td>28.662272</td>\n",
       "      <td>26.856947</td>\n",
       "      <td>25.846617</td>\n",
       "      <td>25.823882</td>\n",
       "      <td>25.846930</td>\n",
       "      <td>25.666564</td>\n",
       "    </tr>\n",
       "    <tr>\n",
       "      <th>75%</th>\n",
       "      <td>6.469143</td>\n",
       "      <td>29.429633</td>\n",
       "      <td>27.855877</td>\n",
       "      <td>27.204031</td>\n",
       "      <td>27.190811</td>\n",
       "      <td>27.212475</td>\n",
       "      <td>26.946348</td>\n",
       "    </tr>\n",
       "    <tr>\n",
       "      <th>max</th>\n",
       "      <td>8.482816</td>\n",
       "      <td>35.495708</td>\n",
       "      <td>36.798806</td>\n",
       "      <td>35.672331</td>\n",
       "      <td>33.879891</td>\n",
       "      <td>34.514265</td>\n",
       "      <td>34.228085</td>\n",
       "    </tr>\n",
       "  </tbody>\n",
       "</table>\n",
       "</div>"
      ],
      "text/plain": [
       "                 z   i_LSST_mag   z_LSST_mag    Y_WFI_mag    J_WFI_mag  \\\n",
       "count  4270.000000  4270.000000  4270.000000  4270.000000  4270.000000   \n",
       "mean      6.334597    28.835404    26.798711    25.931247    25.903342   \n",
       "std       0.310122     1.238984     1.679970     1.773994     1.803031   \n",
       "min       6.000191    26.618546    23.163809    20.452226    20.223916   \n",
       "25%       6.104868    27.976921    25.507942    24.531768    24.504636   \n",
       "50%       6.244405    28.662272    26.856947    25.846617    25.823882   \n",
       "75%       6.469143    29.429633    27.855877    27.204031    27.190811   \n",
       "max       8.482816    35.495708    36.798806    35.672331    33.879891   \n",
       "\n",
       "         H_WFI_mag    F_WFI_mag  \n",
       "count  4270.000000  4270.000000  \n",
       "mean     25.938094    25.724927  \n",
       "std       1.796843     1.760516  \n",
       "min      20.227606    20.164541  \n",
       "25%      24.559612    24.386106  \n",
       "50%      25.846930    25.666564  \n",
       "75%      27.212475    26.946348  \n",
       "max      34.514265    34.228085  "
      ]
     },
     "execution_count": 38,
     "metadata": {},
     "output_type": "execute_result"
    }
   ],
   "source": [
    "# retrieve redshift for later usage\n",
    "qso_test = pd.read_csv('quasar_test_catalog.csv', index_col=False)\n",
    "qso_test = qso_test[['z', 'r_LSST_magerr', 'i_LSST_magerr', 'i_LSST_mag', 'z_LSST_mag', 'Y_WFI_mag', 'J_WFI_mag', 'H_WFI_mag', 'F_WFI_mag']]\n",
    "qso_test = qso_test.replace(99.99, np.nan).dropna()\n",
    "qso_test = qso_test[(qso_test['r_LSST_magerr']>0.2)&(qso_test['i_LSST_magerr']>0.2)]\n",
    "qso_test = qso_test.drop(columns=['r_LSST_magerr', 'i_LSST_magerr'])\n",
    "# qso_test = qso_test[['i_LSST_mag', 'z_LSST_mag', 'Y_WFI_mag', 'J_WFI_mag', 'H_WFI_mag', 'F_WFI_mag']]\n",
    "qso_test.describe()"
   ]
  },
  {
   "cell_type": "code",
   "execution_count": 39,
   "id": "0a68ff39-8303-4b1d-afac-46c22d2efde7",
   "metadata": {
    "execution": {
     "iopub.execute_input": "2023-09-20T17:10:49.089660Z",
     "iopub.status.busy": "2023-09-20T17:10:49.089352Z",
     "iopub.status.idle": "2023-09-20T17:10:49.376253Z",
     "shell.execute_reply": "2023-09-20T17:10:49.375102Z",
     "shell.execute_reply.started": "2023-09-20T17:10:49.089628Z"
    }
   },
   "outputs": [
    {
     "name": "stdout",
     "output_type": "stream",
     "text": [
      "galaxies_train_catalog_patch8788.csv data description: \n"
     ]
    },
    {
     "data": {
      "text/html": [
       "<div>\n",
       "<style scoped>\n",
       "    .dataframe tbody tr th:only-of-type {\n",
       "        vertical-align: middle;\n",
       "    }\n",
       "\n",
       "    .dataframe tbody tr th {\n",
       "        vertical-align: top;\n",
       "    }\n",
       "\n",
       "    .dataframe thead th {\n",
       "        text-align: right;\n",
       "    }\n",
       "</style>\n",
       "<table border=\"1\" class=\"dataframe\">\n",
       "  <thead>\n",
       "    <tr style=\"text-align: right;\">\n",
       "      <th></th>\n",
       "      <th>z</th>\n",
       "      <th>r_LSST_magerr</th>\n",
       "      <th>i_LSST_magerr</th>\n",
       "      <th>i_LSST_mag</th>\n",
       "      <th>z_LSST_mag</th>\n",
       "      <th>Y_WFI_mag</th>\n",
       "      <th>J_WFI_mag</th>\n",
       "      <th>H_WFI_mag</th>\n",
       "      <th>F_WFI_mag</th>\n",
       "    </tr>\n",
       "  </thead>\n",
       "  <tbody>\n",
       "    <tr>\n",
       "      <th>count</th>\n",
       "      <td>20750.000000</td>\n",
       "      <td>20750.000000</td>\n",
       "      <td>20750.000000</td>\n",
       "      <td>20750.000000</td>\n",
       "      <td>20750.000000</td>\n",
       "      <td>20750.000000</td>\n",
       "      <td>20750.000000</td>\n",
       "      <td>20750.000000</td>\n",
       "      <td>20750.000000</td>\n",
       "    </tr>\n",
       "    <tr>\n",
       "      <th>mean</th>\n",
       "      <td>1.032609</td>\n",
       "      <td>0.071881</td>\n",
       "      <td>0.074232</td>\n",
       "      <td>25.064565</td>\n",
       "      <td>24.472561</td>\n",
       "      <td>24.263562</td>\n",
       "      <td>24.133942</td>\n",
       "      <td>24.032490</td>\n",
       "      <td>23.970953</td>\n",
       "    </tr>\n",
       "    <tr>\n",
       "      <th>std</th>\n",
       "      <td>0.014266</td>\n",
       "      <td>0.336052</td>\n",
       "      <td>0.207255</td>\n",
       "      <td>1.258280</td>\n",
       "      <td>1.250795</td>\n",
       "      <td>1.294158</td>\n",
       "      <td>1.348217</td>\n",
       "      <td>1.403003</td>\n",
       "      <td>1.451221</td>\n",
       "    </tr>\n",
       "    <tr>\n",
       "      <th>min</th>\n",
       "      <td>1.005989</td>\n",
       "      <td>0.010337</td>\n",
       "      <td>0.010588</td>\n",
       "      <td>20.738443</td>\n",
       "      <td>20.199310</td>\n",
       "      <td>19.730171</td>\n",
       "      <td>19.315425</td>\n",
       "      <td>18.971169</td>\n",
       "      <td>18.750817</td>\n",
       "    </tr>\n",
       "    <tr>\n",
       "      <th>25%</th>\n",
       "      <td>1.020363</td>\n",
       "      <td>0.025039</td>\n",
       "      <td>0.027430</td>\n",
       "      <td>24.321473</td>\n",
       "      <td>23.749411</td>\n",
       "      <td>23.524088</td>\n",
       "      <td>23.357096</td>\n",
       "      <td>23.211484</td>\n",
       "      <td>23.120767</td>\n",
       "    </tr>\n",
       "    <tr>\n",
       "      <th>50%</th>\n",
       "      <td>1.033982</td>\n",
       "      <td>0.045740</td>\n",
       "      <td>0.049470</td>\n",
       "      <td>25.208614</td>\n",
       "      <td>24.607205</td>\n",
       "      <td>24.439207</td>\n",
       "      <td>24.332423</td>\n",
       "      <td>24.249539</td>\n",
       "      <td>24.205313</td>\n",
       "    </tr>\n",
       "    <tr>\n",
       "      <th>75%</th>\n",
       "      <td>1.045150</td>\n",
       "      <td>0.079893</td>\n",
       "      <td>0.086826</td>\n",
       "      <td>25.930392</td>\n",
       "      <td>25.342387</td>\n",
       "      <td>25.182842</td>\n",
       "      <td>25.094375</td>\n",
       "      <td>25.045359</td>\n",
       "      <td>25.005333</td>\n",
       "    </tr>\n",
       "    <tr>\n",
       "      <th>max</th>\n",
       "      <td>1.055212</td>\n",
       "      <td>43.286299</td>\n",
       "      <td>23.300493</td>\n",
       "      <td>32.004925</td>\n",
       "      <td>31.083271</td>\n",
       "      <td>28.285061</td>\n",
       "      <td>28.161714</td>\n",
       "      <td>30.885336</td>\n",
       "      <td>32.729688</td>\n",
       "    </tr>\n",
       "  </tbody>\n",
       "</table>\n",
       "</div>"
      ],
      "text/plain": [
       "                  z  r_LSST_magerr  i_LSST_magerr    i_LSST_mag    z_LSST_mag  \\\n",
       "count  20750.000000   20750.000000   20750.000000  20750.000000  20750.000000   \n",
       "mean       1.032609       0.071881       0.074232     25.064565     24.472561   \n",
       "std        0.014266       0.336052       0.207255      1.258280      1.250795   \n",
       "min        1.005989       0.010337       0.010588     20.738443     20.199310   \n",
       "25%        1.020363       0.025039       0.027430     24.321473     23.749411   \n",
       "50%        1.033982       0.045740       0.049470     25.208614     24.607205   \n",
       "75%        1.045150       0.079893       0.086826     25.930392     25.342387   \n",
       "max        1.055212      43.286299      23.300493     32.004925     31.083271   \n",
       "\n",
       "          Y_WFI_mag     J_WFI_mag     H_WFI_mag     F_WFI_mag  \n",
       "count  20750.000000  20750.000000  20750.000000  20750.000000  \n",
       "mean      24.263562     24.133942     24.032490     23.970953  \n",
       "std        1.294158      1.348217      1.403003      1.451221  \n",
       "min       19.730171     19.315425     18.971169     18.750817  \n",
       "25%       23.524088     23.357096     23.211484     23.120767  \n",
       "50%       24.439207     24.332423     24.249539     24.205313  \n",
       "75%       25.182842     25.094375     25.045359     25.005333  \n",
       "max       28.285061     28.161714     30.885336     32.729688  "
      ]
     },
     "execution_count": 39,
     "metadata": {},
     "output_type": "execute_result"
    }
   ],
   "source": [
    "galaxies_patch8788 = read_data_partial('galaxies_train_catalog_patch8788.csv', 'galaxies_patch8788_245.csv', 30000)\n",
    "galaxies_patch8788 = galaxies_patch8788.replace(99.99, np.nan).dropna()\n",
    "galaxies_patch8788 = galaxies_patch8788[['z', 'r_LSST_magerr', 'i_LSST_magerr', 'i_LSST_mag', 'z_LSST_mag', 'Y_WFI_mag', 'J_WFI_mag', 'H_WFI_mag', 'F_WFI_mag']]\n",
    "galaxies_patch8788_26 = galaxies_patch8788[(galaxies_patch8788['r_LSST_magerr']>0.2)&(galaxies_patch8788['i_LSST_magerr']>0.2)]\n",
    "galaxies_patch8788_26 = galaxies_patch8788.drop(columns=['r_LSST_magerr', 'i_LSST_magerr'])\n",
    "print('galaxies_train_catalog_patch8788.csv data description: ')\n",
    "galaxies_patch8788.describe()"
   ]
  },
  {
   "cell_type": "code",
   "execution_count": 40,
   "id": "2c3efa06-ebbb-461b-9156-53e9416fc64a",
   "metadata": {
    "execution": {
     "iopub.execute_input": "2023-09-20T17:10:49.378427Z",
     "iopub.status.busy": "2023-09-20T17:10:49.378132Z",
     "iopub.status.idle": "2023-09-20T17:10:50.053821Z",
     "shell.execute_reply": "2023-09-20T17:10:50.052581Z",
     "shell.execute_reply.started": "2023-09-20T17:10:49.378396Z"
    }
   },
   "outputs": [
    {
     "name": "stdout",
     "output_type": "stream",
     "text": [
      "mlt_test_catalog partial data description: \n"
     ]
    },
    {
     "data": {
      "text/html": [
       "<div>\n",
       "<style scoped>\n",
       "    .dataframe tbody tr th:only-of-type {\n",
       "        vertical-align: middle;\n",
       "    }\n",
       "\n",
       "    .dataframe tbody tr th {\n",
       "        vertical-align: top;\n",
       "    }\n",
       "\n",
       "    .dataframe thead th {\n",
       "        text-align: right;\n",
       "    }\n",
       "</style>\n",
       "<table border=\"1\" class=\"dataframe\">\n",
       "  <thead>\n",
       "    <tr style=\"text-align: right;\">\n",
       "      <th></th>\n",
       "      <th>spt</th>\n",
       "      <th>i_LSST_mag</th>\n",
       "      <th>z_LSST_mag</th>\n",
       "      <th>Y_WFI_mag</th>\n",
       "      <th>J_WFI_mag</th>\n",
       "      <th>H_WFI_mag</th>\n",
       "      <th>F_WFI_mag</th>\n",
       "      <th>z</th>\n",
       "    </tr>\n",
       "  </thead>\n",
       "  <tbody>\n",
       "    <tr>\n",
       "      <th>count</th>\n",
       "      <td>16164.000000</td>\n",
       "      <td>16164.000000</td>\n",
       "      <td>16164.000000</td>\n",
       "      <td>16164.000000</td>\n",
       "      <td>16164.000000</td>\n",
       "      <td>16164.000000</td>\n",
       "      <td>16164.000000</td>\n",
       "      <td>16164.0</td>\n",
       "    </tr>\n",
       "    <tr>\n",
       "      <th>mean</th>\n",
       "      <td>13.067001</td>\n",
       "      <td>27.294287</td>\n",
       "      <td>25.684152</td>\n",
       "      <td>24.222748</td>\n",
       "      <td>23.659324</td>\n",
       "      <td>23.357716</td>\n",
       "      <td>23.372401</td>\n",
       "      <td>0.0</td>\n",
       "    </tr>\n",
       "    <tr>\n",
       "      <th>std</th>\n",
       "      <td>2.983720</td>\n",
       "      <td>0.388016</td>\n",
       "      <td>0.231342</td>\n",
       "      <td>0.295505</td>\n",
       "      <td>0.317678</td>\n",
       "      <td>0.377004</td>\n",
       "      <td>0.388734</td>\n",
       "      <td>0.0</td>\n",
       "    </tr>\n",
       "    <tr>\n",
       "      <th>min</th>\n",
       "      <td>7.000000</td>\n",
       "      <td>26.601001</td>\n",
       "      <td>24.571247</td>\n",
       "      <td>22.301314</td>\n",
       "      <td>22.013013</td>\n",
       "      <td>21.873094</td>\n",
       "      <td>21.742619</td>\n",
       "      <td>0.0</td>\n",
       "    </tr>\n",
       "    <tr>\n",
       "      <th>25%</th>\n",
       "      <td>11.000000</td>\n",
       "      <td>27.036202</td>\n",
       "      <td>25.538164</td>\n",
       "      <td>24.027244</td>\n",
       "      <td>23.452812</td>\n",
       "      <td>23.114613</td>\n",
       "      <td>23.130337</td>\n",
       "      <td>0.0</td>\n",
       "    </tr>\n",
       "    <tr>\n",
       "      <th>50%</th>\n",
       "      <td>13.000000</td>\n",
       "      <td>27.206518</td>\n",
       "      <td>25.726646</td>\n",
       "      <td>24.225623</td>\n",
       "      <td>23.658451</td>\n",
       "      <td>23.360445</td>\n",
       "      <td>23.377344</td>\n",
       "      <td>0.0</td>\n",
       "    </tr>\n",
       "    <tr>\n",
       "      <th>75%</th>\n",
       "      <td>15.000000</td>\n",
       "      <td>27.458651</td>\n",
       "      <td>25.871890</td>\n",
       "      <td>24.418692</td>\n",
       "      <td>23.872214</td>\n",
       "      <td>23.612628</td>\n",
       "      <td>23.627727</td>\n",
       "      <td>0.0</td>\n",
       "    </tr>\n",
       "    <tr>\n",
       "      <th>max</th>\n",
       "      <td>29.000000</td>\n",
       "      <td>32.622297</td>\n",
       "      <td>25.999972</td>\n",
       "      <td>25.767020</td>\n",
       "      <td>25.011076</td>\n",
       "      <td>24.808649</td>\n",
       "      <td>25.154299</td>\n",
       "      <td>0.0</td>\n",
       "    </tr>\n",
       "  </tbody>\n",
       "</table>\n",
       "</div>"
      ],
      "text/plain": [
       "                spt    i_LSST_mag    z_LSST_mag     Y_WFI_mag     J_WFI_mag  \\\n",
       "count  16164.000000  16164.000000  16164.000000  16164.000000  16164.000000   \n",
       "mean      13.067001     27.294287     25.684152     24.222748     23.659324   \n",
       "std        2.983720      0.388016      0.231342      0.295505      0.317678   \n",
       "min        7.000000     26.601001     24.571247     22.301314     22.013013   \n",
       "25%       11.000000     27.036202     25.538164     24.027244     23.452812   \n",
       "50%       13.000000     27.206518     25.726646     24.225623     23.658451   \n",
       "75%       15.000000     27.458651     25.871890     24.418692     23.872214   \n",
       "max       29.000000     32.622297     25.999972     25.767020     25.011076   \n",
       "\n",
       "          H_WFI_mag     F_WFI_mag        z  \n",
       "count  16164.000000  16164.000000  16164.0  \n",
       "mean      23.357716     23.372401      0.0  \n",
       "std        0.377004      0.388734      0.0  \n",
       "min       21.873094     21.742619      0.0  \n",
       "25%       23.114613     23.130337      0.0  \n",
       "50%       23.360445     23.377344      0.0  \n",
       "75%       23.612628     23.627727      0.0  \n",
       "max       24.808649     25.154299      0.0  "
      ]
     },
     "execution_count": 40,
     "metadata": {},
     "output_type": "execute_result"
    }
   ],
   "source": [
    "mlt_test = read_data_partial('mlt_test_catalog_z.csv', 'mlt_test_catalog_z26.csv', 120000)\n",
    "mlt_test = mlt_test[['spt', 'r_LSST_magerr', 'i_LSST_magerr','i_LSST_mag', 'z_LSST_mag', 'Y_WFI_mag', 'J_WFI_mag', 'H_WFI_mag', 'F_WFI_mag']]\n",
    "mlt_test = mlt_test.replace(99.99, np.nan).dropna()\n",
    "mlt_test = mlt_test[(mlt_test['r_LSST_magerr']>0.2)&(mlt_test['i_LSST_magerr']>0.2)]\n",
    "mlt_test = mlt_test.drop(columns=['r_LSST_magerr', 'i_LSST_magerr'])\n",
    "mlt_test['z'] = np.zeros(mlt_test.shape[0])\n",
    "print('mlt_test_catalog partial data description: ')\n",
    "mlt_test.describe()"
   ]
  },
  {
   "cell_type": "code",
   "execution_count": 41,
   "id": "b2df6858-6437-4b64-8159-73ef2eb44eac",
   "metadata": {
    "execution": {
     "iopub.execute_input": "2023-09-20T17:10:50.055830Z",
     "iopub.status.busy": "2023-09-20T17:10:50.055519Z",
     "iopub.status.idle": "2023-09-20T17:10:50.065097Z",
     "shell.execute_reply": "2023-09-20T17:10:50.063929Z",
     "shell.execute_reply.started": "2023-09-20T17:10:50.055799Z"
    }
   },
   "outputs": [],
   "source": [
    "qso_test_copy = qso_test.copy()\n",
    "qso_test_copy['label'] = np.ones(len(qso_test_copy))\n",
    "qso_test_copy['spt'] = np.zeros(len(qso_test_copy))\n",
    "galaxies_patch8788_copy = galaxies_patch8788.copy()\n",
    "galaxies_patch8788_copy['label'] = np.zeros(len(galaxies_patch8788_copy))\n",
    "galaxies_patch8788_copy['spt'] = np.zeros(len(galaxies_patch8788_copy))"
   ]
  },
  {
   "cell_type": "code",
   "execution_count": 42,
   "id": "b2d8c456-f19f-45f9-a3fd-2d33e887e744",
   "metadata": {
    "execution": {
     "iopub.execute_input": "2023-09-20T17:10:50.066562Z",
     "iopub.status.busy": "2023-09-20T17:10:50.066269Z",
     "iopub.status.idle": "2023-09-20T17:10:50.117415Z",
     "shell.execute_reply": "2023-09-20T17:10:50.116327Z",
     "shell.execute_reply.started": "2023-09-20T17:10:50.066533Z"
    }
   },
   "outputs": [
    {
     "data": {
      "text/html": [
       "<div>\n",
       "<style scoped>\n",
       "    .dataframe tbody tr th:only-of-type {\n",
       "        vertical-align: middle;\n",
       "    }\n",
       "\n",
       "    .dataframe tbody tr th {\n",
       "        vertical-align: top;\n",
       "    }\n",
       "\n",
       "    .dataframe thead th {\n",
       "        text-align: right;\n",
       "    }\n",
       "</style>\n",
       "<table border=\"1\" class=\"dataframe\">\n",
       "  <thead>\n",
       "    <tr style=\"text-align: right;\">\n",
       "      <th></th>\n",
       "      <th>i_LSST_mag</th>\n",
       "      <th>z_LSST_mag</th>\n",
       "      <th>Y_WFI_mag</th>\n",
       "      <th>J_WFI_mag</th>\n",
       "      <th>H_WFI_mag</th>\n",
       "      <th>F_WFI_mag</th>\n",
       "      <th>label</th>\n",
       "    </tr>\n",
       "  </thead>\n",
       "  <tbody>\n",
       "    <tr>\n",
       "      <th>count</th>\n",
       "      <td>41184.000000</td>\n",
       "      <td>41184.000000</td>\n",
       "      <td>41184.000000</td>\n",
       "      <td>41184.000000</td>\n",
       "      <td>41184.000000</td>\n",
       "      <td>41184.000000</td>\n",
       "      <td>41184.000000</td>\n",
       "    </tr>\n",
       "    <tr>\n",
       "      <th>mean</th>\n",
       "      <td>26.330656</td>\n",
       "      <td>25.189267</td>\n",
       "      <td>24.420450</td>\n",
       "      <td>24.131116</td>\n",
       "      <td>23.965228</td>\n",
       "      <td>23.917886</td>\n",
       "      <td>0.103681</td>\n",
       "    </tr>\n",
       "    <tr>\n",
       "      <th>std</th>\n",
       "      <td>1.684789</td>\n",
       "      <td>1.313506</td>\n",
       "      <td>1.211908</td>\n",
       "      <td>1.305913</td>\n",
       "      <td>1.390285</td>\n",
       "      <td>1.377839</td>\n",
       "      <td>0.304850</td>\n",
       "    </tr>\n",
       "    <tr>\n",
       "      <th>min</th>\n",
       "      <td>20.738443</td>\n",
       "      <td>20.199310</td>\n",
       "      <td>19.730171</td>\n",
       "      <td>19.315425</td>\n",
       "      <td>18.971169</td>\n",
       "      <td>18.750817</td>\n",
       "      <td>0.000000</td>\n",
       "    </tr>\n",
       "    <tr>\n",
       "      <th>25%</th>\n",
       "      <td>25.199695</td>\n",
       "      <td>24.538908</td>\n",
       "      <td>23.929998</td>\n",
       "      <td>23.468960</td>\n",
       "      <td>23.182110</td>\n",
       "      <td>23.174899</td>\n",
       "      <td>0.000000</td>\n",
       "    </tr>\n",
       "    <tr>\n",
       "      <th>50%</th>\n",
       "      <td>26.869211</td>\n",
       "      <td>25.478009</td>\n",
       "      <td>24.318858</td>\n",
       "      <td>23.886534</td>\n",
       "      <td>23.682393</td>\n",
       "      <td>23.670638</td>\n",
       "      <td>0.000000</td>\n",
       "    </tr>\n",
       "    <tr>\n",
       "      <th>75%</th>\n",
       "      <td>27.317233</td>\n",
       "      <td>25.843108</td>\n",
       "      <td>24.892854</td>\n",
       "      <td>24.774591</td>\n",
       "      <td>24.718586</td>\n",
       "      <td>24.663740</td>\n",
       "      <td>0.000000</td>\n",
       "    </tr>\n",
       "    <tr>\n",
       "      <th>max</th>\n",
       "      <td>35.495708</td>\n",
       "      <td>36.798806</td>\n",
       "      <td>35.672331</td>\n",
       "      <td>33.879891</td>\n",
       "      <td>34.514265</td>\n",
       "      <td>34.228085</td>\n",
       "      <td>1.000000</td>\n",
       "    </tr>\n",
       "  </tbody>\n",
       "</table>\n",
       "</div>"
      ],
      "text/plain": [
       "         i_LSST_mag    z_LSST_mag     Y_WFI_mag     J_WFI_mag     H_WFI_mag  \\\n",
       "count  41184.000000  41184.000000  41184.000000  41184.000000  41184.000000   \n",
       "mean      26.330656     25.189267     24.420450     24.131116     23.965228   \n",
       "std        1.684789      1.313506      1.211908      1.305913      1.390285   \n",
       "min       20.738443     20.199310     19.730171     19.315425     18.971169   \n",
       "25%       25.199695     24.538908     23.929998     23.468960     23.182110   \n",
       "50%       26.869211     25.478009     24.318858     23.886534     23.682393   \n",
       "75%       27.317233     25.843108     24.892854     24.774591     24.718586   \n",
       "max       35.495708     36.798806     35.672331     33.879891     34.514265   \n",
       "\n",
       "          F_WFI_mag         label  \n",
       "count  41184.000000  41184.000000  \n",
       "mean      23.917886      0.103681  \n",
       "std        1.377839      0.304850  \n",
       "min       18.750817      0.000000  \n",
       "25%       23.174899      0.000000  \n",
       "50%       23.670638      0.000000  \n",
       "75%       24.663740      0.000000  \n",
       "max       34.228085      1.000000  "
      ]
     },
     "execution_count": 42,
     "metadata": {},
     "output_type": "execute_result"
    }
   ],
   "source": [
    "mlt_test_copy = mlt_test.copy()\n",
    "mlt_test_copy['label'] = np.zeros(len(mlt_test_copy))\n",
    "mlt_test_26 = mlt_test[(mlt_test['z_LSST_mag']>24.0)&(mlt_test['z_LSST_mag']<26.0)]\n",
    "test0 = pd.concat([qso_test_copy, galaxies_patch8788_copy, mlt_test_copy], ignore_index=True).drop(columns=['r_LSST_magerr', 'i_LSST_magerr'])\n",
    "test = test0[['i_LSST_mag', 'z_LSST_mag', 'Y_WFI_mag', 'J_WFI_mag', 'H_WFI_mag', 'F_WFI_mag', 'label']]\n",
    "test.describe()"
   ]
  },
  {
   "cell_type": "code",
   "execution_count": 43,
   "id": "456a7aba-16c7-471d-9caf-a02821950dc9",
   "metadata": {
    "execution": {
     "iopub.execute_input": "2023-09-20T17:10:50.874154Z",
     "iopub.status.busy": "2023-09-20T17:10:50.873540Z",
     "iopub.status.idle": "2023-09-20T17:10:50.886386Z",
     "shell.execute_reply": "2023-09-20T17:10:50.884987Z",
     "shell.execute_reply.started": "2023-09-20T17:10:50.874098Z"
    }
   },
   "outputs": [
    {
     "name": "stdout",
     "output_type": "stream",
     "text": [
      "length of qso test catalog with 24 < z < 26: 1344\n"
     ]
    }
   ],
   "source": [
    "qso_test_26 = qso_test[qso_test['z_LSST_mag'] < 26.0]\n",
    "qso_test_26 = qso_test_26[qso_test_26['z_LSST_mag'] > 24.0]\n",
    "qso_test_26_copy = qso_test_26.copy()\n",
    "print('length of qso test catalog with 24 < z < 26:', len(qso_test_26))"
   ]
  },
  {
   "cell_type": "markdown",
   "id": "dafd5aab-4693-43cd-8cda-301768284b2f",
   "metadata": {},
   "source": [
    "### test individual filter:"
   ]
  },
  {
   "cell_type": "code",
   "execution_count": 49,
   "id": "64cbb704-afb3-41dc-b5c5-4c5ff9e58be4",
   "metadata": {
    "execution": {
     "iopub.execute_input": "2023-09-20T17:12:43.874166Z",
     "iopub.status.busy": "2023-09-20T17:12:43.873521Z",
     "iopub.status.idle": "2023-09-20T17:12:43.890667Z",
     "shell.execute_reply": "2023-09-20T17:12:43.889078Z",
     "shell.execute_reply.started": "2023-09-20T17:12:43.874110Z"
    }
   },
   "outputs": [
    {
     "name": "stdout",
     "output_type": "stream",
     "text": [
      "29983\n"
     ]
    }
   ],
   "source": [
    "test_copya = test.copy().drop(columns=['label'])\n",
    "test_copya = test_copya[test_copya['z_LSST_mag'] > 24.0]\n",
    "test_copya = test_copya[test_copya['z_LSST_mag'] < 26.0]\n",
    "print(len(test_copya))"
   ]
  },
  {
   "cell_type": "code",
   "execution_count": 51,
   "id": "1e04a747-7a31-40f7-b1b6-8d9fcaa51103",
   "metadata": {
    "execution": {
     "iopub.execute_input": "2023-09-20T17:12:55.874760Z",
     "iopub.status.busy": "2023-09-20T17:12:55.874107Z",
     "iopub.status.idle": "2023-09-20T17:12:58.207929Z",
     "shell.execute_reply": "2023-09-20T17:12:58.206709Z",
     "shell.execute_reply.started": "2023-09-20T17:12:55.874703Z"
    }
   },
   "outputs": [
    {
     "data": {
      "image/png": "[encoded data removed]",
      "text/plain": [
       "<Figure size 432x288 with 1 Axes>"
      ]
     },
     "metadata": {
      "needs_background": "light"
     },
     "output_type": "display_data"
    },
    {
     "name": "stdout",
     "output_type": "stream",
     "text": [
      "8584\n"
     ]
    }
   ],
   "source": [
    "# x: z - J\n",
    "# y: Y - H\n",
    "features1a = [X_drop_26['z_LSST_mag']-X_drop_26['J_WFI_mag'], X_drop_26['Y_WFI_mag']-X_drop_26['H_WFI_mag']]\n",
    "X1a = np.array(features1a).transpose()\n",
    "filter1a.fit(X1a, Y_drop_26)\n",
    "labelsa = filter1a.predict(np.array([test_copya['z_LSST_mag']-test_copya['J_WFI_mag'], test_copya['Y_WFI_mag']-test_copya['H_WFI_mag']]).transpose())\n",
    "\n",
    "get_color_filter(filter1a, 13, 'uniform', test_copya['z_LSST_mag'], test_copya['J_WFI_mag'], test_copya['Y_WFI_mag'], test_copya['H_WFI_mag'], labelsa)\n",
    "plt.xlabel('z_LSST_mag-J_WFI_mag')\n",
    "plt.ylabel('Y_WFI_mag-H_WFI_mag')\n",
    "plt.show()\n",
    "\n",
    "test_copya['labela'] = labelsa\n",
    "test_copya = test_copya[test_copya['labela'] == 1]\n",
    "print(len(test_copya))"
   ]
  },
  {
   "cell_type": "code",
   "execution_count": 52,
   "id": "91d4adbd-84c5-4b53-af32-bffc43219c3e",
   "metadata": {
    "execution": {
     "iopub.execute_input": "2023-09-20T17:13:07.872276Z",
     "iopub.status.busy": "2023-09-20T17:13:07.871613Z",
     "iopub.status.idle": "2023-09-20T17:13:07.922212Z",
     "shell.execute_reply": "2023-09-20T17:13:07.920743Z",
     "shell.execute_reply.started": "2023-09-20T17:13:07.872205Z"
    }
   },
   "outputs": [
    {
     "name": "stdout",
     "output_type": "stream",
     "text": [
      "      i_LSST_mag  z_LSST_mag  Y_WFI_mag  J_WFI_mag  H_WFI_mag  F_WFI_mag  \\\n",
      "0      27.532037   25.116377  24.159598  24.087764  24.303871  24.112669   \n",
      "1      28.380834   25.834655  25.398672  25.600155  25.617763  25.537893   \n",
      "2      27.297134   24.478555  23.856727  23.854241  23.983015  23.734303   \n",
      "3      27.145200   24.595492  23.955002  23.879654  23.708573  23.422524   \n",
      "4      27.109296   24.386038  24.050289  24.216277  24.179047  23.936038   \n",
      "...          ...         ...        ...        ...        ...        ...   \n",
      "1304   28.174040   24.392064  23.948284  23.908674  23.905087  23.667442   \n",
      "1305   27.908976   25.064898  24.622730  24.709894  24.763848  24.751605   \n",
      "1306   27.533729   24.638039  24.020940  23.957343  23.893371  23.622115   \n",
      "1307   27.363936   24.240421  22.956918  22.828580  22.839162  22.684279   \n",
      "1308   27.768646   25.363953  24.653063  24.591199  24.729581  24.545577   \n",
      "\n",
      "      labela         z  \n",
      "0        1.0  6.406638  \n",
      "1        1.0  6.199295  \n",
      "2        1.0  6.281061  \n",
      "3        1.0  6.142489  \n",
      "4        1.0  6.014309  \n",
      "...      ...       ...  \n",
      "1304     1.0  6.242507  \n",
      "1305     1.0  6.133499  \n",
      "1306     1.0  6.151798  \n",
      "1307     1.0  6.404364  \n",
      "1308     1.0  6.341708  \n",
      "\n",
      "[1309 rows x 8 columns]\n"
     ]
    }
   ],
   "source": [
    "print(test_copya.merge(qso_test_26))"
   ]
  },
  {
   "cell_type": "code",
   "execution_count": 53,
   "id": "d45b2d9b-c938-4ee3-87dd-5a7a0c81217b",
   "metadata": {
    "execution": {
     "iopub.execute_input": "2023-09-20T17:13:10.876681Z",
     "iopub.status.busy": "2023-09-20T17:13:10.876029Z",
     "iopub.status.idle": "2023-09-20T17:13:10.942586Z",
     "shell.execute_reply": "2023-09-20T17:13:10.941284Z",
     "shell.execute_reply.started": "2023-09-20T17:13:10.876623Z"
    }
   },
   "outputs": [
    {
     "name": "stdout",
     "output_type": "stream",
     "text": [
      "filter 1a (Y-H vs z-J) test precision: 0.1525\n",
      "filter 1a (Y-H vs z-J) test recall: 0.974\n"
     ]
    }
   ],
   "source": [
    "print('filter 1a (Y-H vs z-J) test precision:', round(len(test_copya.merge(qso_test_26))/len(test_copya), 4))\n",
    "print('filter 1a (Y-H vs z-J) test recall:', round(len(test_copya.merge(qso_test_26))/len(qso_test_26), 4))"
   ]
  },
  {
   "cell_type": "code",
   "execution_count": null,
   "id": "1b5064ac-ec0f-40a6-8e63-1385a128766c",
   "metadata": {},
   "outputs": [],
   "source": []
  },
  {
   "cell_type": "code",
   "execution_count": 56,
   "id": "293a973f-0d8d-41a5-a8ed-b989140dc64e",
   "metadata": {
    "execution": {
     "iopub.execute_input": "2023-09-20T17:13:51.876006Z",
     "iopub.status.busy": "2023-09-20T17:13:51.875369Z",
     "iopub.status.idle": "2023-09-20T17:13:51.893625Z",
     "shell.execute_reply": "2023-09-20T17:13:51.892053Z",
     "shell.execute_reply.started": "2023-09-20T17:13:51.875950Z"
    }
   },
   "outputs": [
    {
     "name": "stdout",
     "output_type": "stream",
     "text": [
      "29983\n"
     ]
    }
   ],
   "source": [
    "test_copyb = test.copy().drop(columns=['label'])\n",
    "test_copyb = test_copyb[test_copyb['z_LSST_mag'] > 24.0]\n",
    "test_copyb = test_copyb[test_copyb['z_LSST_mag'] < 26.0]\n",
    "print(len(test_copyb))"
   ]
  },
  {
   "cell_type": "code",
   "execution_count": 57,
   "id": "d3fa4457-d85e-493a-8215-8d506f320b69",
   "metadata": {
    "execution": {
     "iopub.execute_input": "2023-09-20T17:13:51.906343Z",
     "iopub.status.busy": "2023-09-20T17:13:51.905875Z",
     "iopub.status.idle": "2023-09-20T17:13:55.081689Z",
     "shell.execute_reply": "2023-09-20T17:13:55.080404Z",
     "shell.execute_reply.started": "2023-09-20T17:13:51.906295Z"
    }
   },
   "outputs": [
    {
     "data": {
      "image/png": "[encoded data removed]",
      "text/plain": [
       "<Figure size 432x288 with 1 Axes>"
      ]
     },
     "metadata": {
      "needs_background": "light"
     },
     "output_type": "display_data"
    },
    {
     "name": "stdout",
     "output_type": "stream",
     "text": [
      "1448\n"
     ]
    }
   ],
   "source": [
    "# x: Y - H \n",
    "# y: i - H\n",
    "features1b = [X_drop_26['Y_WFI_mag']-X_drop_26['H_WFI_mag'], X_drop_26['i_LSST_mag']-X_drop_26['H_WFI_mag']]\n",
    "X1b = np.array(features1b).transpose()\n",
    "filter1b.fit(X1b, Y_drop_26)\n",
    "labelsb = filter1b.predict(np.array([test_copyb['Y_WFI_mag']-test_copyb['H_WFI_mag'], test_copyb['i_LSST_mag']-test_copyb['H_WFI_mag']]).transpose())\n",
    "\n",
    "get_color_filter(filter1b, 13, 'uniform', test_copyb['Y_WFI_mag'], test_copyb['H_WFI_mag'], test_copyb['i_LSST_mag'], test_copyb['H_WFI_mag'], labelsb)\n",
    "plt.xlabel('Y_WFI_mag-H_WFI_mag')\n",
    "plt.ylabel('i_LSST_mag-H_WFI_mag')\n",
    "plt.show()\n",
    "\n",
    "test_copyb['labelb'] = labelsb\n",
    "test_copyb = test_copyb[test_copyb['labelb'] == 1]\n",
    "print(len(test_copyb))"
   ]
  },
  {
   "cell_type": "code",
   "execution_count": 58,
   "id": "883f771f-c63c-41b0-a767-07ae1218ec7b",
   "metadata": {
    "execution": {
     "iopub.execute_input": "2023-09-20T17:14:01.873189Z",
     "iopub.status.busy": "2023-09-20T17:14:01.872533Z",
     "iopub.status.idle": "2023-09-20T17:14:01.906827Z",
     "shell.execute_reply": "2023-09-20T17:14:01.905380Z",
     "shell.execute_reply.started": "2023-09-20T17:14:01.873130Z"
    }
   },
   "outputs": [
    {
     "name": "stdout",
     "output_type": "stream",
     "text": [
      "      i_LSST_mag  z_LSST_mag  Y_WFI_mag  J_WFI_mag  H_WFI_mag  F_WFI_mag  \\\n",
      "0      27.532037   25.116377  24.159598  24.087764  24.303871  24.112669   \n",
      "1      28.380834   25.834655  25.398672  25.600155  25.617763  25.537893   \n",
      "2      27.297134   24.478555  23.856727  23.854241  23.983015  23.734303   \n",
      "3      27.145200   24.595492  23.955002  23.879654  23.708573  23.422524   \n",
      "4      27.109296   24.386038  24.050289  24.216277  24.179047  23.936038   \n",
      "...          ...         ...        ...        ...        ...        ...   \n",
      "1323   27.908976   25.064898  24.622730  24.709894  24.763848  24.751605   \n",
      "1324   27.533729   24.638039  24.020940  23.957343  23.893371  23.622115   \n",
      "1325   27.363936   24.240421  22.956918  22.828580  22.839162  22.684279   \n",
      "1326   27.890372   25.726710  25.898793  26.122272  25.949780  25.798436   \n",
      "1327   27.768646   25.363953  24.653063  24.591199  24.729581  24.545577   \n",
      "\n",
      "      labelb         z  \n",
      "0        1.0  6.406638  \n",
      "1        1.0  6.199295  \n",
      "2        1.0  6.281061  \n",
      "3        1.0  6.142489  \n",
      "4        1.0  6.014309  \n",
      "...      ...       ...  \n",
      "1323     1.0  6.133499  \n",
      "1324     1.0  6.151798  \n",
      "1325     1.0  6.404364  \n",
      "1326     1.0  6.007867  \n",
      "1327     1.0  6.341708  \n",
      "\n",
      "[1328 rows x 8 columns]\n"
     ]
    }
   ],
   "source": [
    "print(test_copyb.merge(qso_test_26))"
   ]
  },
  {
   "cell_type": "code",
   "execution_count": 60,
   "id": "4f097fe4-97c6-4279-bd7d-e870c4370e10",
   "metadata": {
    "execution": {
     "iopub.execute_input": "2023-09-20T17:14:15.876818Z",
     "iopub.status.busy": "2023-09-20T17:14:15.876187Z",
     "iopub.status.idle": "2023-09-20T17:14:15.912429Z",
     "shell.execute_reply": "2023-09-20T17:14:15.911196Z",
     "shell.execute_reply.started": "2023-09-20T17:14:15.876762Z"
    }
   },
   "outputs": [
    {
     "name": "stdout",
     "output_type": "stream",
     "text": [
      "filter 1b (i-H vs Y-H) test precision: 0.9171\n",
      "filter 1b (i-H vs Y-H) test recall: 0.9881\n"
     ]
    }
   ],
   "source": [
    "print('filter 1b (i-H vs Y-H) test precision:', round(len(test_copyb.merge(qso_test_26))/len(test_copyb), 4))\n",
    "print('filter 1b (i-H vs Y-H) test recall:', round(len(test_copyb.merge(qso_test_26))/len(qso_test_26), 4))"
   ]
  },
  {
   "cell_type": "code",
   "execution_count": null,
   "id": "c85acaa7-f726-4c19-8e48-d3254610e61d",
   "metadata": {},
   "outputs": [],
   "source": []
  },
  {
   "cell_type": "code",
   "execution_count": 61,
   "id": "14f095bb-0fb6-4c97-a523-399a1181c0b6",
   "metadata": {
    "execution": {
     "iopub.execute_input": "2023-09-20T17:14:33.995015Z",
     "iopub.status.busy": "2023-09-20T17:14:33.994367Z",
     "iopub.status.idle": "2023-09-20T17:14:34.012146Z",
     "shell.execute_reply": "2023-09-20T17:14:34.010492Z",
     "shell.execute_reply.started": "2023-09-20T17:14:33.994958Z"
    }
   },
   "outputs": [
    {
     "name": "stdout",
     "output_type": "stream",
     "text": [
      "29983\n"
     ]
    }
   ],
   "source": [
    "test_copyc = test.copy().drop(columns=['label'])\n",
    "test_copyc = test_copyc[test_copyc['z_LSST_mag'] > 24.0]\n",
    "test_copyc = test_copyc[test_copyc['z_LSST_mag'] < 26.0]\n",
    "print(len(test_copyc))"
   ]
  },
  {
   "cell_type": "code",
   "execution_count": 62,
   "id": "3cf73604-6633-40f9-a164-bc357a1980b2",
   "metadata": {
    "execution": {
     "iopub.execute_input": "2023-09-20T17:14:41.873067Z",
     "iopub.status.busy": "2023-09-20T17:14:41.872440Z",
     "iopub.status.idle": "2023-09-20T17:14:45.092467Z",
     "shell.execute_reply": "2023-09-20T17:14:45.091215Z",
     "shell.execute_reply.started": "2023-09-20T17:14:41.873012Z"
    }
   },
   "outputs": [
    {
     "data": {
      "image/png": "[encoded data removed]",
      "text/plain": [
       "<Figure size 432x288 with 1 Axes>"
      ]
     },
     "metadata": {
      "needs_background": "light"
     },
     "output_type": "display_data"
    },
    {
     "name": "stdout",
     "output_type": "stream",
     "text": [
      "10810\n"
     ]
    }
   ],
   "source": [
    "# x: z - H\n",
    "# y: J - H\n",
    "features1c = [X_drop_26['z_LSST_mag']-X_drop_26['H_WFI_mag'], X_drop_26['J_WFI_mag']-X_drop_26['H_WFI_mag']]\n",
    "X1c = np.array(features1c).transpose()\n",
    "filter1c.fit(X1c, Y_drop_26)\n",
    "labelsc = filter1c.predict(np.array([test_copyc['z_LSST_mag']-test_copyc['H_WFI_mag'], test_copyc['J_WFI_mag']-test_copyc['H_WFI_mag']]).transpose())\n",
    "\n",
    "get_color_filter(filter1c, 36, 'uniform', test_copyc['z_LSST_mag'], test_copyc['H_WFI_mag'], test_copyc['J_WFI_mag'], test_copyc['H_WFI_mag'], labelsc)\n",
    "plt.xlabel('z_LSST_mag-H_WFI_mag')\n",
    "plt.ylabel('J_WFI_mag-H_WFI_mag')\n",
    "plt.show()\n",
    "\n",
    "test_copyc['labelc'] = labelsc\n",
    "test_copyc = test_copyc[test_copyc['labelc'] == 1]\n",
    "print(len(test_copyc))"
   ]
  },
  {
   "cell_type": "code",
   "execution_count": 63,
   "id": "716cfa56-8014-4422-a01e-9659dc732407",
   "metadata": {
    "execution": {
     "iopub.execute_input": "2023-09-20T17:14:47.878539Z",
     "iopub.status.busy": "2023-09-20T17:14:47.877924Z",
     "iopub.status.idle": "2023-09-20T17:14:47.931975Z",
     "shell.execute_reply": "2023-09-20T17:14:47.930629Z",
     "shell.execute_reply.started": "2023-09-20T17:14:47.878483Z"
    }
   },
   "outputs": [
    {
     "name": "stdout",
     "output_type": "stream",
     "text": [
      "      i_LSST_mag  z_LSST_mag  Y_WFI_mag  J_WFI_mag  H_WFI_mag  F_WFI_mag  \\\n",
      "0      27.532037   25.116377  24.159598  24.087764  24.303871  24.112669   \n",
      "1      28.380834   25.834655  25.398672  25.600155  25.617763  25.537893   \n",
      "2      27.297134   24.478555  23.856727  23.854241  23.983015  23.734303   \n",
      "3      27.109296   24.386038  24.050289  24.216277  24.179047  23.936038   \n",
      "4      29.509331   25.131273  24.335726  24.336202  24.479644  24.385943   \n",
      "...          ...         ...        ...        ...        ...        ...   \n",
      "1202   28.826054   25.717920  24.576910  24.291420  24.313495  24.151953   \n",
      "1203   27.908976   25.064898  24.622730  24.709894  24.763848  24.751605   \n",
      "1204   27.533729   24.638039  24.020940  23.957343  23.893371  23.622115   \n",
      "1205   27.363936   24.240421  22.956918  22.828580  22.839162  22.684279   \n",
      "1206   27.768646   25.363953  24.653063  24.591199  24.729581  24.545577   \n",
      "\n",
      "      labelc         z  \n",
      "0        1.0  6.406638  \n",
      "1        1.0  6.199295  \n",
      "2        1.0  6.281061  \n",
      "3        1.0  6.014309  \n",
      "4        1.0  6.423103  \n",
      "...      ...       ...  \n",
      "1202     1.0  6.371140  \n",
      "1203     1.0  6.133499  \n",
      "1204     1.0  6.151798  \n",
      "1205     1.0  6.404364  \n",
      "1206     1.0  6.341708  \n",
      "\n",
      "[1207 rows x 8 columns]\n"
     ]
    }
   ],
   "source": [
    "print(test_copyc.merge(qso_test_26))"
   ]
  },
  {
   "cell_type": "code",
   "execution_count": 65,
   "id": "ce69a0d6-4ebc-42ec-9932-0b70cb8eeb2c",
   "metadata": {
    "execution": {
     "iopub.execute_input": "2023-09-20T17:14:59.870165Z",
     "iopub.status.busy": "2023-09-20T17:14:59.869534Z",
     "iopub.status.idle": "2023-09-20T17:14:59.943125Z",
     "shell.execute_reply": "2023-09-20T17:14:59.941794Z",
     "shell.execute_reply.started": "2023-09-20T17:14:59.870109Z"
    }
   },
   "outputs": [
    {
     "name": "stdout",
     "output_type": "stream",
     "text": [
      "filter 1c (J-H vs z-H) test precision: 0.1117\n",
      "filter 1c (J-H vs z-H) test recall: 0.8981\n"
     ]
    }
   ],
   "source": [
    "print('filter 1c (J-H vs z-H) test precision:', round(len(test_copyc.merge(qso_test_26))/len(test_copyc), 4))\n",
    "print('filter 1c (J-H vs z-H) test recall:', round(len(test_copyc.merge(qso_test_26))/len(qso_test_26), 4))"
   ]
  },
  {
   "cell_type": "code",
   "execution_count": null,
   "id": "48ba80b2-c469-4b55-8ab9-624907871928",
   "metadata": {},
   "outputs": [],
   "source": []
  },
  {
   "cell_type": "code",
   "execution_count": 66,
   "id": "1079ab71-b190-4582-967c-c9c57183e87b",
   "metadata": {
    "execution": {
     "iopub.execute_input": "2023-09-20T17:15:15.872793Z",
     "iopub.status.busy": "2023-09-20T17:15:15.872205Z",
     "iopub.status.idle": "2023-09-20T17:15:15.889911Z",
     "shell.execute_reply": "2023-09-20T17:15:15.888535Z",
     "shell.execute_reply.started": "2023-09-20T17:15:15.872740Z"
    }
   },
   "outputs": [
    {
     "name": "stdout",
     "output_type": "stream",
     "text": [
      "29983\n"
     ]
    }
   ],
   "source": [
    "test_copyd = test.copy().drop(columns=['label'])\n",
    "test_copyd = test_copyd[test_copyd['z_LSST_mag'] > 24.0]\n",
    "test_copyd = test_copyd[test_copyd['z_LSST_mag'] < 26.0]\n",
    "print(len(test_copyd))"
   ]
  },
  {
   "cell_type": "code",
   "execution_count": 67,
   "id": "f4940b40-3318-4275-9933-219230bf7f85",
   "metadata": {
    "execution": {
     "iopub.execute_input": "2023-09-20T17:15:26.035949Z",
     "iopub.status.busy": "2023-09-20T17:15:26.035376Z",
     "iopub.status.idle": "2023-09-20T17:15:29.710844Z",
     "shell.execute_reply": "2023-09-20T17:15:29.709612Z",
     "shell.execute_reply.started": "2023-09-20T17:15:26.035897Z"
    }
   },
   "outputs": [
    {
     "data": {
      "image/png": "[encoded data removed]",
      "text/plain": [
       "<Figure size 432x288 with 1 Axes>"
      ]
     },
     "metadata": {
      "needs_background": "light"
     },
     "output_type": "display_data"
    },
    {
     "name": "stdout",
     "output_type": "stream",
     "text": [
      "1775\n"
     ]
    }
   ],
   "source": [
    "# x: z - Y\n",
    "# y: i - Y\n",
    "features1d = [X_drop_26['z_LSST_mag']-X_drop_26['Y_WFI_mag'], X_drop_26['i_LSST_mag']-X_drop_26['Y_WFI_mag']]\n",
    "X1d = np.array(features1d).transpose()\n",
    "filter1d.fit(X1d, Y_drop_26)\n",
    "labelsd = filter1d.predict(np.array([test_copyd['z_LSST_mag']-test_copyd['Y_WFI_mag'], test_copyd['i_LSST_mag']-test_copyd['Y_WFI_mag']]).transpose())\n",
    "\n",
    "get_color_filter(filter1d, 45, 'uniform', test_copyd['z_LSST_mag'], test_copyd['Y_WFI_mag'], test_copyd['i_LSST_mag'], test_copyd['Y_WFI_mag'], labelsd)\n",
    "plt.xlabel('z_LSST_mag-Y_WFI_mag')\n",
    "plt.ylabel('i_LSST_mag-Y_WFI_mag')\n",
    "plt.show()\n",
    "\n",
    "test_copyd['labeld'] = labelsd\n",
    "test_copyd = test_copyd[test_copyd['labeld'] == 1]\n",
    "print(len(test_copyd))"
   ]
  },
  {
   "cell_type": "code",
   "execution_count": 68,
   "id": "6a323ca1-6100-416f-bee6-f8cb53e050d2",
   "metadata": {
    "execution": {
     "iopub.execute_input": "2023-09-20T17:15:34.875178Z",
     "iopub.status.busy": "2023-09-20T17:15:34.874549Z",
     "iopub.status.idle": "2023-09-20T17:15:34.907473Z",
     "shell.execute_reply": "2023-09-20T17:15:34.906157Z",
     "shell.execute_reply.started": "2023-09-20T17:15:34.875121Z"
    }
   },
   "outputs": [
    {
     "name": "stdout",
     "output_type": "stream",
     "text": [
      "      i_LSST_mag  z_LSST_mag  Y_WFI_mag  J_WFI_mag  H_WFI_mag  F_WFI_mag  \\\n",
      "0      27.532037   25.116377  24.159598  24.087764  24.303871  24.112669   \n",
      "1      28.380834   25.834655  25.398672  25.600155  25.617763  25.537893   \n",
      "2      27.297134   24.478555  23.856727  23.854241  23.983015  23.734303   \n",
      "3      27.145200   24.595492  23.955002  23.879654  23.708573  23.422524   \n",
      "4      27.109296   24.386038  24.050289  24.216277  24.179047  23.936038   \n",
      "...          ...         ...        ...        ...        ...        ...   \n",
      "1270   27.908976   25.064898  24.622730  24.709894  24.763848  24.751605   \n",
      "1271   27.533729   24.638039  24.020940  23.957343  23.893371  23.622115   \n",
      "1272   27.363936   24.240421  22.956918  22.828580  22.839162  22.684279   \n",
      "1273   27.890372   25.726710  25.898793  26.122272  25.949780  25.798436   \n",
      "1274   27.768646   25.363953  24.653063  24.591199  24.729581  24.545577   \n",
      "\n",
      "      labeld         z  \n",
      "0        1.0  6.406638  \n",
      "1        1.0  6.199295  \n",
      "2        1.0  6.281061  \n",
      "3        1.0  6.142489  \n",
      "4        1.0  6.014309  \n",
      "...      ...       ...  \n",
      "1270     1.0  6.133499  \n",
      "1271     1.0  6.151798  \n",
      "1272     1.0  6.404364  \n",
      "1273     1.0  6.007867  \n",
      "1274     1.0  6.341708  \n",
      "\n",
      "[1275 rows x 8 columns]\n"
     ]
    }
   ],
   "source": [
    "print(test_copyd.merge(qso_test_26))"
   ]
  },
  {
   "cell_type": "code",
   "execution_count": 69,
   "id": "1ee140d3-0226-41ca-916e-4626915855e3",
   "metadata": {
    "execution": {
     "iopub.execute_input": "2023-09-20T17:15:47.875843Z",
     "iopub.status.busy": "2023-09-20T17:15:47.875231Z",
     "iopub.status.idle": "2023-09-20T17:15:47.911817Z",
     "shell.execute_reply": "2023-09-20T17:15:47.910524Z",
     "shell.execute_reply.started": "2023-09-20T17:15:47.875789Z"
    }
   },
   "outputs": [
    {
     "name": "stdout",
     "output_type": "stream",
     "text": [
      "filter 1d (i-Y vs z-Y) test precision: 0.7183\n",
      "filter 1d (i-Y vs z-Y) test recall: 0.9487\n"
     ]
    }
   ],
   "source": [
    "print('filter 1d (i-Y vs z-Y) test precision:', round(len(test_copyd.merge(qso_test_26))/len(test_copyd), 4))\n",
    "print('filter 1d (i-Y vs z-Y) test recall:', round(len(test_copyd.merge(qso_test_26))/len(qso_test_26), 4))"
   ]
  },
  {
   "cell_type": "code",
   "execution_count": null,
   "id": "d3f56e49-a1a8-43fc-bbfd-7fe651d135ad",
   "metadata": {},
   "outputs": [],
   "source": []
  },
  {
   "cell_type": "code",
   "execution_count": 70,
   "id": "e19e894e-181d-4813-84d7-e75cb93497ad",
   "metadata": {
    "execution": {
     "iopub.execute_input": "2023-09-20T17:16:20.879539Z",
     "iopub.status.busy": "2023-09-20T17:16:20.878917Z",
     "iopub.status.idle": "2023-09-20T17:16:20.896162Z",
     "shell.execute_reply": "2023-09-20T17:16:20.894643Z",
     "shell.execute_reply.started": "2023-09-20T17:16:20.879481Z"
    }
   },
   "outputs": [
    {
     "name": "stdout",
     "output_type": "stream",
     "text": [
      "29983\n"
     ]
    }
   ],
   "source": [
    "test_copye = test.copy().drop(columns=['label'])\n",
    "test_copye = test_copye[test_copye['z_LSST_mag'] > 24.0]\n",
    "test_copye = test_copye[test_copye['z_LSST_mag'] < 26.0]\n",
    "print(len(test_copye))"
   ]
  },
  {
   "cell_type": "code",
   "execution_count": 71,
   "id": "f8f4d66a-5fe3-49e2-aa09-e0222bbf6e12",
   "metadata": {
    "execution": {
     "iopub.execute_input": "2023-09-20T17:16:26.149981Z",
     "iopub.status.busy": "2023-09-20T17:16:26.149481Z",
     "iopub.status.idle": "2023-09-20T17:16:29.143030Z",
     "shell.execute_reply": "2023-09-20T17:16:29.141938Z",
     "shell.execute_reply.started": "2023-09-20T17:16:26.149938Z"
    }
   },
   "outputs": [
    {
     "data": {
      "image/png": "[encoded data removed]",
      "text/plain": [
       "<Figure size 432x288 with 1 Axes>"
      ]
     },
     "metadata": {
      "needs_background": "light"
     },
     "output_type": "display_data"
    },
    {
     "name": "stdout",
     "output_type": "stream",
     "text": [
      "11011\n"
     ]
    }
   ],
   "source": [
    "features1e = [X_drop_26['Y_WFI_mag']-X_drop_26['J_WFI_mag'], X_drop_26['J_WFI_mag']-X_drop_26['H_WFI_mag']]\n",
    "X1e = np.array(features1e).transpose()\n",
    "filter1e.fit(X1e, Y_drop_26)\n",
    "labelse = filter1e.predict(np.array([test_copye['Y_WFI_mag']-test_copye['J_WFI_mag'], test_copye['J_WFI_mag']-test_copye['H_WFI_mag']]).transpose())\n",
    "\n",
    "get_color_filter(filter1e, 26, 'uniform', test_copye['Y_WFI_mag'], test_copye['J_WFI_mag'], test_copye['J_WFI_mag'], test_copye['H_WFI_mag'], labelse)\n",
    "plt.xlabel('Y_WFI_mag-J_WFI_mag')\n",
    "plt.ylabel('J_WFI_mag-H_WFI_mag')\n",
    "plt.show()\n",
    "\n",
    "test_copye['labele'] = labelse\n",
    "test_copye = test_copye[test_copye['labele'] == 1]\n",
    "print(len(test_copye))"
   ]
  },
  {
   "cell_type": "code",
   "execution_count": 72,
   "id": "c9454187-ae73-4ea9-92e5-ec5adc25b57f",
   "metadata": {
    "execution": {
     "iopub.execute_input": "2023-09-20T17:16:32.143383Z",
     "iopub.status.busy": "2023-09-20T17:16:32.142751Z",
     "iopub.status.idle": "2023-09-20T17:16:32.198026Z",
     "shell.execute_reply": "2023-09-20T17:16:32.196563Z",
     "shell.execute_reply.started": "2023-09-20T17:16:32.143326Z"
    }
   },
   "outputs": [
    {
     "name": "stdout",
     "output_type": "stream",
     "text": [
      "      i_LSST_mag  z_LSST_mag  Y_WFI_mag  J_WFI_mag  H_WFI_mag  F_WFI_mag  \\\n",
      "0      27.532037   25.116377  24.159598  24.087764  24.303871  24.112669   \n",
      "1      28.380834   25.834655  25.398672  25.600155  25.617763  25.537893   \n",
      "2      27.297134   24.478555  23.856727  23.854241  23.983015  23.734303   \n",
      "3      27.145200   24.595492  23.955002  23.879654  23.708573  23.422524   \n",
      "4      27.109296   24.386038  24.050289  24.216277  24.179047  23.936038   \n",
      "...          ...         ...        ...        ...        ...        ...   \n",
      "1310   27.908976   25.064898  24.622730  24.709894  24.763848  24.751605   \n",
      "1311   27.533729   24.638039  24.020940  23.957343  23.893371  23.622115   \n",
      "1312   27.363936   24.240421  22.956918  22.828580  22.839162  22.684279   \n",
      "1313   27.890372   25.726710  25.898793  26.122272  25.949780  25.798436   \n",
      "1314   27.768646   25.363953  24.653063  24.591199  24.729581  24.545577   \n",
      "\n",
      "      labele         z  \n",
      "0        1.0  6.406638  \n",
      "1        1.0  6.199295  \n",
      "2        1.0  6.281061  \n",
      "3        1.0  6.142489  \n",
      "4        1.0  6.014309  \n",
      "...      ...       ...  \n",
      "1310     1.0  6.133499  \n",
      "1311     1.0  6.151798  \n",
      "1312     1.0  6.404364  \n",
      "1313     1.0  6.007867  \n",
      "1314     1.0  6.341708  \n",
      "\n",
      "[1315 rows x 8 columns]\n"
     ]
    }
   ],
   "source": [
    "print(test_copye.merge(qso_test_26))"
   ]
  },
  {
   "cell_type": "code",
   "execution_count": 73,
   "id": "b40e4d16-e6f0-4b0b-948b-15553b98628a",
   "metadata": {
    "execution": {
     "iopub.execute_input": "2023-09-20T17:16:43.108921Z",
     "iopub.status.busy": "2023-09-20T17:16:43.108256Z",
     "iopub.status.idle": "2023-09-20T17:16:43.183658Z",
     "shell.execute_reply": "2023-09-20T17:16:43.182286Z",
     "shell.execute_reply.started": "2023-09-20T17:16:43.108863Z"
    }
   },
   "outputs": [
    {
     "name": "stdout",
     "output_type": "stream",
     "text": [
      "filter 1e (J-H vs Y-J) test precision: 0.1194\n",
      "filter 1e (J-H vs Y-J) test recall: 0.9784\n"
     ]
    }
   ],
   "source": [
    "print('filter 1e (J-H vs Y-J) test precision:', round(len(test_copye.merge(qso_test_26))/len(test_copye), 4))\n",
    "print('filter 1e (J-H vs Y-J) test recall:', round(len(test_copye.merge(qso_test_26))/len(qso_test_26), 4))"
   ]
  },
  {
   "cell_type": "code",
   "execution_count": null,
   "id": "c8c157c4-c9d8-4203-b565-afb8e7d42e12",
   "metadata": {},
   "outputs": [],
   "source": []
  },
  {
   "cell_type": "code",
   "execution_count": 74,
   "id": "24de08b0-e2a2-4666-8389-1bfc8733e64e",
   "metadata": {
    "execution": {
     "iopub.execute_input": "2023-09-20T17:16:52.875348Z",
     "iopub.status.busy": "2023-09-20T17:16:52.874768Z",
     "iopub.status.idle": "2023-09-20T17:16:52.890550Z",
     "shell.execute_reply": "2023-09-20T17:16:52.889122Z",
     "shell.execute_reply.started": "2023-09-20T17:16:52.875297Z"
    }
   },
   "outputs": [
    {
     "name": "stdout",
     "output_type": "stream",
     "text": [
      "29983\n"
     ]
    }
   ],
   "source": [
    "test_copyf = test.copy().drop(columns=['label'])\n",
    "test_copyf = test_copyf[test_copyf['z_LSST_mag'] > 24.0]\n",
    "test_copyf = test_copyf[test_copyf['z_LSST_mag'] < 26.0]\n",
    "print(len(test_copyf))"
   ]
  },
  {
   "cell_type": "code",
   "execution_count": 75,
   "id": "ccfddd5a-3d66-4365-99dc-f111093548fa",
   "metadata": {
    "execution": {
     "iopub.execute_input": "2023-09-20T17:17:01.874744Z",
     "iopub.status.busy": "2023-09-20T17:17:01.874116Z",
     "iopub.status.idle": "2023-09-20T17:17:04.370596Z",
     "shell.execute_reply": "2023-09-20T17:17:04.369248Z",
     "shell.execute_reply.started": "2023-09-20T17:17:01.874688Z"
    }
   },
   "outputs": [
    {
     "data": {
      "image/png": "[encoded data removed]",
      "text/plain": [
       "<Figure size 432x288 with 1 Axes>"
      ]
     },
     "metadata": {
      "needs_background": "light"
     },
     "output_type": "display_data"
    },
    {
     "name": "stdout",
     "output_type": "stream",
     "text": [
      "1900\n"
     ]
    }
   ],
   "source": [
    "# x: i - Y\n",
    "# y: J - H\n",
    "features1f = [X_drop_26['i_LSST_mag']-X_drop_26['Y_WFI_mag'], X_drop_26['J_WFI_mag']-X_drop_26['H_WFI_mag']]\n",
    "X1f = np.array(features1f).transpose()\n",
    "filter1f.fit(X1f, Y_drop_26)\n",
    "labelsf = filter1f.predict(np.array([test_copyf['i_LSST_mag']-test_copyf['Y_WFI_mag'], test_copyf['J_WFI_mag']-test_copyf['H_WFI_mag']]).transpose())\n",
    "\n",
    "get_color_filter(filter1f, 26, 'uniform', test_copyf['i_LSST_mag'], test_copyf['Y_WFI_mag'], test_copyf['J_WFI_mag'], test_copyf['H_WFI_mag'], labelsf)\n",
    "plt.xlabel('i_LSST_mag-Y_WFI_mag')\n",
    "plt.ylabel('J_WFI_mag-H_WFI_mag')\n",
    "plt.show()\n",
    "\n",
    "test_copyf['labelf'] = labelsf\n",
    "test_copyf = test_copyf[test_copyf['labelf'] == 1]\n",
    "print(len(test_copyf))"
   ]
  },
  {
   "cell_type": "code",
   "execution_count": 76,
   "id": "e895b183-4d9f-4d8a-bc2f-8c35629e311b",
   "metadata": {
    "execution": {
     "iopub.execute_input": "2023-09-20T17:17:07.873607Z",
     "iopub.status.busy": "2023-09-20T17:17:07.872960Z",
     "iopub.status.idle": "2023-09-20T17:17:07.907550Z",
     "shell.execute_reply": "2023-09-20T17:17:07.905928Z",
     "shell.execute_reply.started": "2023-09-20T17:17:07.873537Z"
    }
   },
   "outputs": [
    {
     "name": "stdout",
     "output_type": "stream",
     "text": [
      "     i_LSST_mag  z_LSST_mag  Y_WFI_mag  J_WFI_mag  H_WFI_mag  F_WFI_mag  \\\n",
      "0     27.532037   25.116377  24.159598  24.087764  24.303871  24.112669   \n",
      "1     27.297134   24.478555  23.856727  23.854241  23.983015  23.734303   \n",
      "2     29.509331   25.131273  24.335726  24.336202  24.479644  24.385943   \n",
      "3     27.159156   24.125266  23.680375  23.751224  23.761836  23.513345   \n",
      "4     26.955239   24.624662  23.100171  22.924883  22.912477  22.686470   \n",
      "..          ...         ...        ...        ...        ...        ...   \n",
      "990   28.826054   25.717920  24.576910  24.291420  24.313495  24.151953   \n",
      "991   27.908976   25.064898  24.622730  24.709894  24.763848  24.751605   \n",
      "992   27.533729   24.638039  24.020940  23.957343  23.893371  23.622115   \n",
      "993   27.363936   24.240421  22.956918  22.828580  22.839162  22.684279   \n",
      "994   27.768646   25.363953  24.653063  24.591199  24.729581  24.545577   \n",
      "\n",
      "     labelf         z  \n",
      "0       1.0  6.406638  \n",
      "1       1.0  6.281061  \n",
      "2       1.0  6.423103  \n",
      "3       1.0  6.139694  \n",
      "4       1.0  6.441282  \n",
      "..      ...       ...  \n",
      "990     1.0  6.371140  \n",
      "991     1.0  6.133499  \n",
      "992     1.0  6.151798  \n",
      "993     1.0  6.404364  \n",
      "994     1.0  6.341708  \n",
      "\n",
      "[995 rows x 8 columns]\n"
     ]
    }
   ],
   "source": [
    "print(test_copyf.merge(qso_test_26))"
   ]
  },
  {
   "cell_type": "code",
   "execution_count": 77,
   "id": "b901680e-5e45-4bec-9eff-d8da48587a83",
   "metadata": {
    "execution": {
     "iopub.execute_input": "2023-09-20T17:17:18.144190Z",
     "iopub.status.busy": "2023-09-20T17:17:18.143572Z",
     "iopub.status.idle": "2023-09-20T17:17:18.181101Z",
     "shell.execute_reply": "2023-09-20T17:17:18.179691Z",
     "shell.execute_reply.started": "2023-09-20T17:17:18.144137Z"
    }
   },
   "outputs": [
    {
     "name": "stdout",
     "output_type": "stream",
     "text": [
      "filter 1f (J-H vs i-Y) test precision: 0.5237\n",
      "filter 1f (J-H vs i-Y) test recall: 0.7403\n"
     ]
    }
   ],
   "source": [
    "print('filter 1f (J-H vs i-Y) test precision:', round(len(test_copyf.merge(qso_test_26))/len(test_copyf), 4))\n",
    "print('filter 1f (J-H vs i-Y) test recall:', round(len(test_copyf.merge(qso_test_26))/len(qso_test_26), 4))"
   ]
  },
  {
   "cell_type": "code",
   "execution_count": null,
   "id": "63f99863-5f51-4cd6-81ab-ec03d9d87230",
   "metadata": {},
   "outputs": [],
   "source": []
  },
  {
   "cell_type": "markdown",
   "id": "8f1c114a-d988-43eb-9ef9-1b78d974d1c0",
   "metadata": {},
   "source": [
    "### test weighted"
   ]
  },
  {
   "cell_type": "code",
   "execution_count": 78,
   "id": "fccb4161-4b7e-4905-897b-3205bb903b0c",
   "metadata": {
    "execution": {
     "iopub.execute_input": "2023-09-20T17:17:27.872239Z",
     "iopub.status.busy": "2023-09-20T17:17:27.871679Z",
     "iopub.status.idle": "2023-09-20T17:17:27.885972Z",
     "shell.execute_reply": "2023-09-20T17:17:27.884517Z",
     "shell.execute_reply.started": "2023-09-20T17:17:27.872189Z"
    }
   },
   "outputs": [],
   "source": [
    "test_copy = test.copy().drop(columns=['label'])\n",
    "test_copy = test_copy[test_copy['z_LSST_mag'] > 24.0]\n",
    "test_copy = test_copy[test_copy['z_LSST_mag'] < 26.0]"
   ]
  },
  {
   "cell_type": "code",
   "execution_count": 79,
   "id": "faa71243-0615-4eb4-8a71-c6efe3578ce6",
   "metadata": {
    "execution": {
     "iopub.execute_input": "2023-09-20T17:17:30.875543Z",
     "iopub.status.busy": "2023-09-20T17:17:30.874904Z",
     "iopub.status.idle": "2023-09-20T17:17:31.422980Z",
     "shell.execute_reply": "2023-09-20T17:17:31.421624Z",
     "shell.execute_reply.started": "2023-09-20T17:17:30.875487Z"
    }
   },
   "outputs": [
    {
     "name": "stdout",
     "output_type": "stream",
     "text": [
      "prediction okay\n"
     ]
    }
   ],
   "source": [
    "# x: z - J\n",
    "# y: Y - H\n",
    "testf_1a = [test_copy['z_LSST_mag']-test_copy['J_WFI_mag'], test_copy['Y_WFI_mag']-test_copy['H_WFI_mag']]\n",
    "prob_1a = filter1a.predict_proba(np.array(testf_1a).transpose())\n",
    "print('prediction okay')\n",
    "# prob_1a: [prob of negative class, prob of positive class]\n",
    "test_copy['prob_1a'] = prob_1a[:, 1]"
   ]
  },
  {
   "cell_type": "code",
   "execution_count": 80,
   "id": "0d5233d1-b3e6-4428-a0e3-e0930a8c02f6",
   "metadata": {
    "execution": {
     "iopub.execute_input": "2023-09-20T17:17:33.871995Z",
     "iopub.status.busy": "2023-09-20T17:17:33.871363Z",
     "iopub.status.idle": "2023-09-20T17:17:34.419186Z",
     "shell.execute_reply": "2023-09-20T17:17:34.417640Z",
     "shell.execute_reply.started": "2023-09-20T17:17:33.871939Z"
    }
   },
   "outputs": [],
   "source": [
    "# x: Y - H \n",
    "# y: i - H\n",
    "\n",
    "prob_1b = filter1b.predict_proba(np.array([test_copy['Y_WFI_mag']-test_copy['H_WFI_mag'], test_copy['i_LSST_mag']-test_copy['H_WFI_mag']]).transpose())\n",
    "\n",
    "test_copy['prob_1b'] = prob_1b[:, 1]"
   ]
  },
  {
   "cell_type": "code",
   "execution_count": 81,
   "id": "06b51239-020d-432e-af08-5694a0c8e0f1",
   "metadata": {
    "execution": {
     "iopub.execute_input": "2023-09-20T17:17:35.873506Z",
     "iopub.status.busy": "2023-09-20T17:17:35.872899Z",
     "iopub.status.idle": "2023-09-20T17:17:36.921699Z",
     "shell.execute_reply": "2023-09-20T17:17:36.920270Z",
     "shell.execute_reply.started": "2023-09-20T17:17:35.873451Z"
    }
   },
   "outputs": [],
   "source": [
    "# x: z - H\n",
    "# y: J - H\n",
    "\n",
    "prob_1c = filter1c.predict_proba(np.array([test_copy['z_LSST_mag']-test_copy['H_WFI_mag'], test_copy['J_WFI_mag']-test_copy['H_WFI_mag']]).transpose())\n",
    "\n",
    "test_copy['prob_1c'] = prob_1c[:, 1]"
   ]
  },
  {
   "cell_type": "code",
   "execution_count": 82,
   "id": "332927f2-29b0-4713-a487-a643c9e88037",
   "metadata": {
    "execution": {
     "iopub.execute_input": "2023-09-20T17:17:36.923312Z",
     "iopub.status.busy": "2023-09-20T17:17:36.923093Z",
     "iopub.status.idle": "2023-09-20T17:17:37.968737Z",
     "shell.execute_reply": "2023-09-20T17:17:37.967497Z",
     "shell.execute_reply.started": "2023-09-20T17:17:36.923289Z"
    }
   },
   "outputs": [],
   "source": [
    "# x: z - Y\n",
    "# y: i - Y\n",
    "\n",
    "prob_1d = filter1d.predict_proba(np.array([test_copy['z_LSST_mag']-test_copy['Y_WFI_mag'], test_copy['i_LSST_mag']-test_copy['Y_WFI_mag']]).transpose())\n",
    "\n",
    "test_copy['prob_1d'] = prob_1d[:, 1]"
   ]
  },
  {
   "cell_type": "code",
   "execution_count": 83,
   "id": "8ed5434a-3277-46b8-be24-c626ed1a2761",
   "metadata": {
    "execution": {
     "iopub.execute_input": "2023-09-20T17:17:37.970615Z",
     "iopub.status.busy": "2023-09-20T17:17:37.970356Z",
     "iopub.status.idle": "2023-09-20T17:17:38.630070Z",
     "shell.execute_reply": "2023-09-20T17:17:38.628795Z",
     "shell.execute_reply.started": "2023-09-20T17:17:37.970570Z"
    }
   },
   "outputs": [],
   "source": [
    "# x: Y - J\n",
    "# y: J - H\n",
    "\n",
    "prob_1e = filter1e.predict_proba(np.array([test_copy['Y_WFI_mag']-test_copy['J_WFI_mag'], test_copy['J_WFI_mag']-test_copy['H_WFI_mag']]).transpose())\n",
    "\n",
    "test_copy['prob_1e'] = prob_1e[:, 1]"
   ]
  },
  {
   "cell_type": "code",
   "execution_count": 84,
   "id": "d937b1cb-beea-4865-8fcd-dce49403c3db",
   "metadata": {
    "execution": {
     "iopub.execute_input": "2023-09-20T17:17:38.631470Z",
     "iopub.status.busy": "2023-09-20T17:17:38.631248Z",
     "iopub.status.idle": "2023-09-20T17:17:39.281381Z",
     "shell.execute_reply": "2023-09-20T17:17:39.280090Z",
     "shell.execute_reply.started": "2023-09-20T17:17:38.631447Z"
    }
   },
   "outputs": [],
   "source": [
    "# x: i - Y\n",
    "# y: J - H\n",
    "\n",
    "prob_1f = filter1f.predict_proba(np.array([test_copy['i_LSST_mag']-test_copy['Y_WFI_mag'], test_copy['J_WFI_mag']-test_copy['H_WFI_mag']]).transpose())\n",
    "\n",
    "test_copy['prob_1f'] = prob_1f[:, 1]"
   ]
  },
  {
   "cell_type": "code",
   "execution_count": null,
   "id": "0ceac091-7832-4c3f-b725-6e8c88a4bdea",
   "metadata": {},
   "outputs": [],
   "source": []
  },
  {
   "cell_type": "code",
   "execution_count": 86,
   "id": "044c81cd-d531-42a4-9b8a-07ecaec72bc5",
   "metadata": {
    "execution": {
     "iopub.execute_input": "2023-09-20T17:17:50.899858Z",
     "iopub.status.busy": "2023-09-20T17:17:50.899244Z",
     "iopub.status.idle": "2023-09-20T17:17:50.921975Z",
     "shell.execute_reply": "2023-09-20T17:17:50.920416Z",
     "shell.execute_reply.started": "2023-09-20T17:17:50.899803Z"
    }
   },
   "outputs": [
    {
     "name": "stdout",
     "output_type": "stream",
     "text": [
      "(29983,)\n"
     ]
    }
   ],
   "source": [
    "# use best scores as weights:\n",
    "weights = [0.9882 *1.1, 0.9938*(1-1/6), 0.9463, 0.9678 *(1+1/6), 0.95*(1+1/6), 0.9161]\n",
    "probabilities = test_copy[['prob_1a', 'prob_1b', 'prob_1c', 'prob_1d', 'prob_1e', 'prob_1f']]\n",
    "cols = ['prob_1a', 'prob_1b', 'prob_1c', 'prob_1d', 'prob_1e', 'prob_1f']\n",
    "\n",
    "wprob = np.zeros(len(probabilities['prob_1a']))\n",
    "for i in range(len(weights)):\n",
    "    sum_weights = sum(weights)\n",
    "    wprob += weights[i]*probabilities[cols[i]]/sum_weights\n",
    "\n",
    "print(wprob.shape)"
   ]
  },
  {
   "cell_type": "code",
   "execution_count": 87,
   "id": "a0d80460-1d8c-4705-b703-92d3a2097316",
   "metadata": {
    "execution": {
     "iopub.execute_input": "2023-09-20T17:17:53.873519Z",
     "iopub.status.busy": "2023-09-20T17:17:53.872931Z",
     "iopub.status.idle": "2023-09-20T17:17:53.905239Z",
     "shell.execute_reply": "2023-09-20T17:17:53.903885Z",
     "shell.execute_reply.started": "2023-09-20T17:17:53.873465Z"
    }
   },
   "outputs": [
    {
     "data": {
      "text/html": [
       "<div>\n",
       "<style scoped>\n",
       "    .dataframe tbody tr th:only-of-type {\n",
       "        vertical-align: middle;\n",
       "    }\n",
       "\n",
       "    .dataframe tbody tr th {\n",
       "        vertical-align: top;\n",
       "    }\n",
       "\n",
       "    .dataframe thead th {\n",
       "        text-align: right;\n",
       "    }\n",
       "</style>\n",
       "<table border=\"1\" class=\"dataframe\">\n",
       "  <thead>\n",
       "    <tr style=\"text-align: right;\">\n",
       "      <th></th>\n",
       "      <th>i_LSST_mag</th>\n",
       "      <th>z_LSST_mag</th>\n",
       "      <th>Y_WFI_mag</th>\n",
       "      <th>J_WFI_mag</th>\n",
       "      <th>H_WFI_mag</th>\n",
       "      <th>F_WFI_mag</th>\n",
       "      <th>prob_1a</th>\n",
       "      <th>prob_1b</th>\n",
       "      <th>prob_1c</th>\n",
       "      <th>prob_1d</th>\n",
       "      <th>prob_1e</th>\n",
       "      <th>prob_1f</th>\n",
       "      <th>weighted prob</th>\n",
       "    </tr>\n",
       "  </thead>\n",
       "  <tbody>\n",
       "    <tr>\n",
       "      <th>2</th>\n",
       "      <td>27.532037</td>\n",
       "      <td>25.116377</td>\n",
       "      <td>24.159598</td>\n",
       "      <td>24.087764</td>\n",
       "      <td>24.303871</td>\n",
       "      <td>24.112669</td>\n",
       "      <td>1.0</td>\n",
       "      <td>1.000000</td>\n",
       "      <td>1.0</td>\n",
       "      <td>0.733333</td>\n",
       "      <td>1.0</td>\n",
       "      <td>1.000000</td>\n",
       "      <td>0.949943</td>\n",
       "    </tr>\n",
       "    <tr>\n",
       "      <th>6</th>\n",
       "      <td>28.380834</td>\n",
       "      <td>25.834655</td>\n",
       "      <td>25.398672</td>\n",
       "      <td>25.600155</td>\n",
       "      <td>25.617763</td>\n",
       "      <td>25.537893</td>\n",
       "      <td>1.0</td>\n",
       "      <td>1.000000</td>\n",
       "      <td>1.0</td>\n",
       "      <td>1.000000</td>\n",
       "      <td>1.0</td>\n",
       "      <td>0.538462</td>\n",
       "      <td>0.929707</td>\n",
       "    </tr>\n",
       "    <tr>\n",
       "      <th>9</th>\n",
       "      <td>27.297134</td>\n",
       "      <td>24.478555</td>\n",
       "      <td>23.856727</td>\n",
       "      <td>23.854241</td>\n",
       "      <td>23.983015</td>\n",
       "      <td>23.734303</td>\n",
       "      <td>1.0</td>\n",
       "      <td>1.000000</td>\n",
       "      <td>1.0</td>\n",
       "      <td>1.000000</td>\n",
       "      <td>1.0</td>\n",
       "      <td>1.000000</td>\n",
       "      <td>1.000000</td>\n",
       "    </tr>\n",
       "    <tr>\n",
       "      <th>12</th>\n",
       "      <td>27.145200</td>\n",
       "      <td>24.595492</td>\n",
       "      <td>23.955002</td>\n",
       "      <td>23.879654</td>\n",
       "      <td>23.708573</td>\n",
       "      <td>23.422524</td>\n",
       "      <td>1.0</td>\n",
       "      <td>0.538462</td>\n",
       "      <td>0.0</td>\n",
       "      <td>1.000000</td>\n",
       "      <td>1.0</td>\n",
       "      <td>0.000000</td>\n",
       "      <td>0.626829</td>\n",
       "    </tr>\n",
       "    <tr>\n",
       "      <th>15</th>\n",
       "      <td>27.109296</td>\n",
       "      <td>24.386038</td>\n",
       "      <td>24.050289</td>\n",
       "      <td>24.216277</td>\n",
       "      <td>24.179047</td>\n",
       "      <td>23.936038</td>\n",
       "      <td>1.0</td>\n",
       "      <td>1.000000</td>\n",
       "      <td>1.0</td>\n",
       "      <td>1.000000</td>\n",
       "      <td>1.0</td>\n",
       "      <td>0.000000</td>\n",
       "      <td>0.847698</td>\n",
       "    </tr>\n",
       "  </tbody>\n",
       "</table>\n",
       "</div>"
      ],
      "text/plain": [
       "    i_LSST_mag  z_LSST_mag  Y_WFI_mag  J_WFI_mag  H_WFI_mag  F_WFI_mag  \\\n",
       "2    27.532037   25.116377  24.159598  24.087764  24.303871  24.112669   \n",
       "6    28.380834   25.834655  25.398672  25.600155  25.617763  25.537893   \n",
       "9    27.297134   24.478555  23.856727  23.854241  23.983015  23.734303   \n",
       "12   27.145200   24.595492  23.955002  23.879654  23.708573  23.422524   \n",
       "15   27.109296   24.386038  24.050289  24.216277  24.179047  23.936038   \n",
       "\n",
       "    prob_1a   prob_1b  prob_1c   prob_1d  prob_1e   prob_1f  weighted prob  \n",
       "2       1.0  1.000000      1.0  0.733333      1.0  1.000000       0.949943  \n",
       "6       1.0  1.000000      1.0  1.000000      1.0  0.538462       0.929707  \n",
       "9       1.0  1.000000      1.0  1.000000      1.0  1.000000       1.000000  \n",
       "12      1.0  0.538462      0.0  1.000000      1.0  0.000000       0.626829  \n",
       "15      1.0  1.000000      1.0  1.000000      1.0  0.000000       0.847698  "
      ]
     },
     "execution_count": 87,
     "metadata": {},
     "output_type": "execute_result"
    }
   ],
   "source": [
    "test_copy['weighted prob'] = wprob\n",
    "test_copy.head()"
   ]
  },
  {
   "cell_type": "code",
   "execution_count": 88,
   "id": "0b470dba-d654-42fb-bf76-16ab82cca3f8",
   "metadata": {
    "execution": {
     "iopub.execute_input": "2023-09-20T17:17:57.881349Z",
     "iopub.status.busy": "2023-09-20T17:17:57.880758Z",
     "iopub.status.idle": "2023-09-20T17:17:57.955364Z",
     "shell.execute_reply": "2023-09-20T17:17:57.954233Z",
     "shell.execute_reply.started": "2023-09-20T17:17:57.881296Z"
    }
   },
   "outputs": [
    {
     "data": {
      "text/html": [
       "<div>\n",
       "<style scoped>\n",
       "    .dataframe tbody tr th:only-of-type {\n",
       "        vertical-align: middle;\n",
       "    }\n",
       "\n",
       "    .dataframe tbody tr th {\n",
       "        vertical-align: top;\n",
       "    }\n",
       "\n",
       "    .dataframe thead th {\n",
       "        text-align: right;\n",
       "    }\n",
       "</style>\n",
       "<table border=\"1\" class=\"dataframe\">\n",
       "  <thead>\n",
       "    <tr style=\"text-align: right;\">\n",
       "      <th></th>\n",
       "      <th>i_LSST_mag</th>\n",
       "      <th>z_LSST_mag</th>\n",
       "      <th>Y_WFI_mag</th>\n",
       "      <th>J_WFI_mag</th>\n",
       "      <th>H_WFI_mag</th>\n",
       "      <th>F_WFI_mag</th>\n",
       "      <th>prob_1a</th>\n",
       "      <th>prob_1b</th>\n",
       "      <th>prob_1c</th>\n",
       "      <th>prob_1d</th>\n",
       "      <th>prob_1e</th>\n",
       "      <th>prob_1f</th>\n",
       "      <th>weighted prob</th>\n",
       "    </tr>\n",
       "  </thead>\n",
       "  <tbody>\n",
       "    <tr>\n",
       "      <th>count</th>\n",
       "      <td>1345.000000</td>\n",
       "      <td>1345.000000</td>\n",
       "      <td>1345.000000</td>\n",
       "      <td>1345.000000</td>\n",
       "      <td>1345.000000</td>\n",
       "      <td>1345.000000</td>\n",
       "      <td>1345.000000</td>\n",
       "      <td>1345.000000</td>\n",
       "      <td>1345.000000</td>\n",
       "      <td>1345.000000</td>\n",
       "      <td>1345.000000</td>\n",
       "      <td>1345.000000</td>\n",
       "      <td>1345.000000</td>\n",
       "    </tr>\n",
       "    <tr>\n",
       "      <th>mean</th>\n",
       "      <td>28.073432</td>\n",
       "      <td>25.067229</td>\n",
       "      <td>24.455755</td>\n",
       "      <td>24.449789</td>\n",
       "      <td>24.484995</td>\n",
       "      <td>24.300053</td>\n",
       "      <td>0.982785</td>\n",
       "      <td>0.992565</td>\n",
       "      <td>0.906340</td>\n",
       "      <td>0.925138</td>\n",
       "      <td>0.986017</td>\n",
       "      <td>0.758393</td>\n",
       "      <td>0.927704</td>\n",
       "    </tr>\n",
       "    <tr>\n",
       "      <th>std</th>\n",
       "      <td>0.934696</td>\n",
       "      <td>0.557408</td>\n",
       "      <td>0.705205</td>\n",
       "      <td>0.756190</td>\n",
       "      <td>0.738461</td>\n",
       "      <td>0.720290</td>\n",
       "      <td>0.114766</td>\n",
       "      <td>0.057594</td>\n",
       "      <td>0.255351</td>\n",
       "      <td>0.239564</td>\n",
       "      <td>0.095633</td>\n",
       "      <td>0.383277</td>\n",
       "      <td>0.099754</td>\n",
       "    </tr>\n",
       "    <tr>\n",
       "      <th>min</th>\n",
       "      <td>26.721256</td>\n",
       "      <td>24.000488</td>\n",
       "      <td>20.452226</td>\n",
       "      <td>20.223916</td>\n",
       "      <td>20.227606</td>\n",
       "      <td>20.164541</td>\n",
       "      <td>0.000000</td>\n",
       "      <td>0.153846</td>\n",
       "      <td>0.000000</td>\n",
       "      <td>0.000000</td>\n",
       "      <td>0.000000</td>\n",
       "      <td>0.000000</td>\n",
       "      <td>0.601783</td>\n",
       "    </tr>\n",
       "    <tr>\n",
       "      <th>25%</th>\n",
       "      <td>27.422325</td>\n",
       "      <td>24.599284</td>\n",
       "      <td>23.993123</td>\n",
       "      <td>23.963130</td>\n",
       "      <td>23.988515</td>\n",
       "      <td>23.832819</td>\n",
       "      <td>1.000000</td>\n",
       "      <td>1.000000</td>\n",
       "      <td>1.000000</td>\n",
       "      <td>1.000000</td>\n",
       "      <td>1.000000</td>\n",
       "      <td>0.576923</td>\n",
       "      <td>0.853556</td>\n",
       "    </tr>\n",
       "    <tr>\n",
       "      <th>50%</th>\n",
       "      <td>27.885302</td>\n",
       "      <td>25.086633</td>\n",
       "      <td>24.461908</td>\n",
       "      <td>24.457037</td>\n",
       "      <td>24.499872</td>\n",
       "      <td>24.298162</td>\n",
       "      <td>1.000000</td>\n",
       "      <td>1.000000</td>\n",
       "      <td>1.000000</td>\n",
       "      <td>1.000000</td>\n",
       "      <td>1.000000</td>\n",
       "      <td>1.000000</td>\n",
       "      <td>0.988284</td>\n",
       "    </tr>\n",
       "    <tr>\n",
       "      <th>75%</th>\n",
       "      <td>28.472890</td>\n",
       "      <td>25.550239</td>\n",
       "      <td>24.969635</td>\n",
       "      <td>24.996670</td>\n",
       "      <td>25.009319</td>\n",
       "      <td>24.813156</td>\n",
       "      <td>1.000000</td>\n",
       "      <td>1.000000</td>\n",
       "      <td>1.000000</td>\n",
       "      <td>1.000000</td>\n",
       "      <td>1.000000</td>\n",
       "      <td>1.000000</td>\n",
       "      <td>1.000000</td>\n",
       "    </tr>\n",
       "    <tr>\n",
       "      <th>max</th>\n",
       "      <td>34.283547</td>\n",
       "      <td>25.999147</td>\n",
       "      <td>26.175825</td>\n",
       "      <td>26.290053</td>\n",
       "      <td>26.334833</td>\n",
       "      <td>26.129822</td>\n",
       "      <td>1.000000</td>\n",
       "      <td>1.000000</td>\n",
       "      <td>1.000000</td>\n",
       "      <td>1.000000</td>\n",
       "      <td>1.000000</td>\n",
       "      <td>1.000000</td>\n",
       "      <td>1.000000</td>\n",
       "    </tr>\n",
       "  </tbody>\n",
       "</table>\n",
       "</div>"
      ],
      "text/plain": [
       "        i_LSST_mag   z_LSST_mag    Y_WFI_mag    J_WFI_mag    H_WFI_mag  \\\n",
       "count  1345.000000  1345.000000  1345.000000  1345.000000  1345.000000   \n",
       "mean     28.073432    25.067229    24.455755    24.449789    24.484995   \n",
       "std       0.934696     0.557408     0.705205     0.756190     0.738461   \n",
       "min      26.721256    24.000488    20.452226    20.223916    20.227606   \n",
       "25%      27.422325    24.599284    23.993123    23.963130    23.988515   \n",
       "50%      27.885302    25.086633    24.461908    24.457037    24.499872   \n",
       "75%      28.472890    25.550239    24.969635    24.996670    25.009319   \n",
       "max      34.283547    25.999147    26.175825    26.290053    26.334833   \n",
       "\n",
       "         F_WFI_mag      prob_1a      prob_1b      prob_1c      prob_1d  \\\n",
       "count  1345.000000  1345.000000  1345.000000  1345.000000  1345.000000   \n",
       "mean     24.300053     0.982785     0.992565     0.906340     0.925138   \n",
       "std       0.720290     0.114766     0.057594     0.255351     0.239564   \n",
       "min      20.164541     0.000000     0.153846     0.000000     0.000000   \n",
       "25%      23.832819     1.000000     1.000000     1.000000     1.000000   \n",
       "50%      24.298162     1.000000     1.000000     1.000000     1.000000   \n",
       "75%      24.813156     1.000000     1.000000     1.000000     1.000000   \n",
       "max      26.129822     1.000000     1.000000     1.000000     1.000000   \n",
       "\n",
       "           prob_1e      prob_1f  weighted prob  \n",
       "count  1345.000000  1345.000000    1345.000000  \n",
       "mean      0.986017     0.758393       0.927704  \n",
       "std       0.095633     0.383277       0.099754  \n",
       "min       0.000000     0.000000       0.601783  \n",
       "25%       1.000000     0.576923       0.853556  \n",
       "50%       1.000000     1.000000       0.988284  \n",
       "75%       1.000000     1.000000       1.000000  \n",
       "max       1.000000     1.000000       1.000000  "
      ]
     },
     "execution_count": 88,
     "metadata": {},
     "output_type": "execute_result"
    }
   ],
   "source": [
    "pred_qso = test_copy[test_copy['weighted prob'] > 0.6]\n",
    "pred_qso.describe()"
   ]
  },
  {
   "cell_type": "code",
   "execution_count": 89,
   "id": "cfc48294-08f1-4ed0-a3df-2c516a54f284",
   "metadata": {
    "execution": {
     "iopub.execute_input": "2023-09-20T17:18:01.001050Z",
     "iopub.status.busy": "2023-09-20T17:18:01.000400Z",
     "iopub.status.idle": "2023-09-20T17:18:01.088878Z",
     "shell.execute_reply": "2023-09-20T17:18:01.087605Z",
     "shell.execute_reply.started": "2023-09-20T17:18:01.000993Z"
    }
   },
   "outputs": [
    {
     "data": {
      "text/html": [
       "<div>\n",
       "<style scoped>\n",
       "    .dataframe tbody tr th:only-of-type {\n",
       "        vertical-align: middle;\n",
       "    }\n",
       "\n",
       "    .dataframe tbody tr th {\n",
       "        vertical-align: top;\n",
       "    }\n",
       "\n",
       "    .dataframe thead th {\n",
       "        text-align: right;\n",
       "    }\n",
       "</style>\n",
       "<table border=\"1\" class=\"dataframe\">\n",
       "  <thead>\n",
       "    <tr style=\"text-align: right;\">\n",
       "      <th></th>\n",
       "      <th>i_LSST_mag</th>\n",
       "      <th>z_LSST_mag</th>\n",
       "      <th>Y_WFI_mag</th>\n",
       "      <th>J_WFI_mag</th>\n",
       "      <th>H_WFI_mag</th>\n",
       "      <th>F_WFI_mag</th>\n",
       "      <th>prob_1a</th>\n",
       "      <th>prob_1b</th>\n",
       "      <th>prob_1c</th>\n",
       "      <th>prob_1d</th>\n",
       "      <th>prob_1e</th>\n",
       "      <th>prob_1f</th>\n",
       "      <th>weighted prob</th>\n",
       "      <th>z</th>\n",
       "    </tr>\n",
       "  </thead>\n",
       "  <tbody>\n",
       "    <tr>\n",
       "      <th>count</th>\n",
       "      <td>1305.000000</td>\n",
       "      <td>1305.000000</td>\n",
       "      <td>1305.000000</td>\n",
       "      <td>1305.000000</td>\n",
       "      <td>1305.000000</td>\n",
       "      <td>1305.000000</td>\n",
       "      <td>1305.000000</td>\n",
       "      <td>1305.000000</td>\n",
       "      <td>1305.000000</td>\n",
       "      <td>1305.000000</td>\n",
       "      <td>1305.000000</td>\n",
       "      <td>1305.000000</td>\n",
       "      <td>1305.000000</td>\n",
       "      <td>1305.000000</td>\n",
       "    </tr>\n",
       "    <tr>\n",
       "      <th>mean</th>\n",
       "      <td>28.088855</td>\n",
       "      <td>25.051351</td>\n",
       "      <td>24.479041</td>\n",
       "      <td>24.482529</td>\n",
       "      <td>24.511007</td>\n",
       "      <td>24.305654</td>\n",
       "      <td>0.984497</td>\n",
       "      <td>0.993929</td>\n",
       "      <td>0.908408</td>\n",
       "      <td>0.941337</td>\n",
       "      <td>0.995756</td>\n",
       "      <td>0.752874</td>\n",
       "      <td>0.932521</td>\n",
       "      <td>6.205405</td>\n",
       "    </tr>\n",
       "    <tr>\n",
       "      <th>std</th>\n",
       "      <td>0.938227</td>\n",
       "      <td>0.555119</td>\n",
       "      <td>0.694178</td>\n",
       "      <td>0.734792</td>\n",
       "      <td>0.728381</td>\n",
       "      <td>0.725609</td>\n",
       "      <td>0.111301</td>\n",
       "      <td>0.052130</td>\n",
       "      <td>0.253239</td>\n",
       "      <td>0.207679</td>\n",
       "      <td>0.043318</td>\n",
       "      <td>0.386676</td>\n",
       "      <td>0.095086</td>\n",
       "      <td>0.152247</td>\n",
       "    </tr>\n",
       "    <tr>\n",
       "      <th>min</th>\n",
       "      <td>26.721256</td>\n",
       "      <td>24.000488</td>\n",
       "      <td>20.452226</td>\n",
       "      <td>20.223916</td>\n",
       "      <td>20.227606</td>\n",
       "      <td>20.164541</td>\n",
       "      <td>0.000000</td>\n",
       "      <td>0.153846</td>\n",
       "      <td>0.000000</td>\n",
       "      <td>0.000000</td>\n",
       "      <td>0.192308</td>\n",
       "      <td>0.000000</td>\n",
       "      <td>0.601783</td>\n",
       "      <td>6.000429</td>\n",
       "    </tr>\n",
       "    <tr>\n",
       "      <th>25%</th>\n",
       "      <td>27.442641</td>\n",
       "      <td>24.575228</td>\n",
       "      <td>24.012559</td>\n",
       "      <td>23.994689</td>\n",
       "      <td>24.035350</td>\n",
       "      <td>23.827727</td>\n",
       "      <td>1.000000</td>\n",
       "      <td>1.000000</td>\n",
       "      <td>1.000000</td>\n",
       "      <td>1.000000</td>\n",
       "      <td>1.000000</td>\n",
       "      <td>0.538462</td>\n",
       "      <td>0.864528</td>\n",
       "      <td>6.080002</td>\n",
       "    </tr>\n",
       "    <tr>\n",
       "      <th>50%</th>\n",
       "      <td>27.894344</td>\n",
       "      <td>25.059599</td>\n",
       "      <td>24.488382</td>\n",
       "      <td>24.485265</td>\n",
       "      <td>24.518998</td>\n",
       "      <td>24.308535</td>\n",
       "      <td>1.000000</td>\n",
       "      <td>1.000000</td>\n",
       "      <td>1.000000</td>\n",
       "      <td>1.000000</td>\n",
       "      <td>1.000000</td>\n",
       "      <td>1.000000</td>\n",
       "      <td>0.994142</td>\n",
       "      <td>6.173278</td>\n",
       "    </tr>\n",
       "    <tr>\n",
       "      <th>75%</th>\n",
       "      <td>28.479826</td>\n",
       "      <td>25.537166</td>\n",
       "      <td>24.990613</td>\n",
       "      <td>25.011670</td>\n",
       "      <td>25.020475</td>\n",
       "      <td>24.819125</td>\n",
       "      <td>1.000000</td>\n",
       "      <td>1.000000</td>\n",
       "      <td>1.000000</td>\n",
       "      <td>1.000000</td>\n",
       "      <td>1.000000</td>\n",
       "      <td>1.000000</td>\n",
       "      <td>1.000000</td>\n",
       "      <td>6.310896</td>\n",
       "    </tr>\n",
       "    <tr>\n",
       "      <th>max</th>\n",
       "      <td>34.283547</td>\n",
       "      <td>25.999147</td>\n",
       "      <td>26.175825</td>\n",
       "      <td>26.290053</td>\n",
       "      <td>26.334833</td>\n",
       "      <td>26.129822</td>\n",
       "      <td>1.000000</td>\n",
       "      <td>1.000000</td>\n",
       "      <td>1.000000</td>\n",
       "      <td>1.000000</td>\n",
       "      <td>1.000000</td>\n",
       "      <td>1.000000</td>\n",
       "      <td>1.000000</td>\n",
       "      <td>7.015233</td>\n",
       "    </tr>\n",
       "  </tbody>\n",
       "</table>\n",
       "</div>"
      ],
      "text/plain": [
       "        i_LSST_mag   z_LSST_mag    Y_WFI_mag    J_WFI_mag    H_WFI_mag  \\\n",
       "count  1305.000000  1305.000000  1305.000000  1305.000000  1305.000000   \n",
       "mean     28.088855    25.051351    24.479041    24.482529    24.511007   \n",
       "std       0.938227     0.555119     0.694178     0.734792     0.728381   \n",
       "min      26.721256    24.000488    20.452226    20.223916    20.227606   \n",
       "25%      27.442641    24.575228    24.012559    23.994689    24.035350   \n",
       "50%      27.894344    25.059599    24.488382    24.485265    24.518998   \n",
       "75%      28.479826    25.537166    24.990613    25.011670    25.020475   \n",
       "max      34.283547    25.999147    26.175825    26.290053    26.334833   \n",
       "\n",
       "         F_WFI_mag      prob_1a      prob_1b      prob_1c      prob_1d  \\\n",
       "count  1305.000000  1305.000000  1305.000000  1305.000000  1305.000000   \n",
       "mean     24.305654     0.984497     0.993929     0.908408     0.941337   \n",
       "std       0.725609     0.111301     0.052130     0.253239     0.207679   \n",
       "min      20.164541     0.000000     0.153846     0.000000     0.000000   \n",
       "25%      23.827727     1.000000     1.000000     1.000000     1.000000   \n",
       "50%      24.308535     1.000000     1.000000     1.000000     1.000000   \n",
       "75%      24.819125     1.000000     1.000000     1.000000     1.000000   \n",
       "max      26.129822     1.000000     1.000000     1.000000     1.000000   \n",
       "\n",
       "           prob_1e      prob_1f  weighted prob            z  \n",
       "count  1305.000000  1305.000000    1305.000000  1305.000000  \n",
       "mean      0.995756     0.752874       0.932521     6.205405  \n",
       "std       0.043318     0.386676       0.095086     0.152247  \n",
       "min       0.192308     0.000000       0.601783     6.000429  \n",
       "25%       1.000000     0.538462       0.864528     6.080002  \n",
       "50%       1.000000     1.000000       0.994142     6.173278  \n",
       "75%       1.000000     1.000000       1.000000     6.310896  \n",
       "max       1.000000     1.000000       1.000000     7.015233  "
      ]
     },
     "execution_count": 89,
     "metadata": {},
     "output_type": "execute_result"
    }
   ],
   "source": [
    "tp = pred_qso.merge(qso_test_26)\n",
    "tp.describe()"
   ]
  },
  {
   "cell_type": "code",
   "execution_count": 92,
   "id": "53162a4d-8542-4abc-9fa2-b10eeec23bf7",
   "metadata": {
    "execution": {
     "iopub.execute_input": "2023-09-20T17:18:38.873518Z",
     "iopub.status.busy": "2023-09-20T17:18:38.872935Z",
     "iopub.status.idle": "2023-09-20T17:18:38.882873Z",
     "shell.execute_reply": "2023-09-20T17:18:38.881283Z",
     "shell.execute_reply.started": "2023-09-20T17:18:38.873465Z"
    }
   },
   "outputs": [
    {
     "name": "stdout",
     "output_type": "stream",
     "text": [
      "weighted classifier test precision: 0.9703\n",
      "weighted classifier test recall: 0.971\n"
     ]
    }
   ],
   "source": [
    "print('weighted classifier test precision:', round(len(tp)/len(pred_qso), 4))\n",
    "print('weighted classifier test recall:', round(len(tp)/len(qso_test_26), 4))"
   ]
  },
  {
   "cell_type": "code",
   "execution_count": null,
   "id": "0a749c27-95bb-49ca-841e-09b24a1d4ade",
   "metadata": {},
   "outputs": [],
   "source": []
  }
 ],
 "metadata": {
  "kernelspec": {
   "display_name": "Python 3",
   "language": "python",
   "name": "python3"
  },
  "language_info": {
   "codemirror_mode": {
    "name": "ipython",
    "version": 3
   },
   "file_extension": ".py",
   "mimetype": "text/x-python",
   "name": "python",
   "nbconvert_exporter": "python",
   "pygments_lexer": "ipython3",
   "version": "3.8.8"
  }
 },
 "nbformat": 4,
 "nbformat_minor": 5
}
