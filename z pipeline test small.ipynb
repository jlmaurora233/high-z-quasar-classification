{
 "cells": [
  {
   "cell_type": "code",
   "execution_count": 1,
   "id": "376c20dd-f55f-4bad-8a69-389d974c6395",
   "metadata": {
    "execution": {
     "iopub.execute_input": "2023-09-27T05:07:17.966221Z",
     "iopub.status.busy": "2023-09-27T05:07:17.965624Z",
     "iopub.status.idle": "2023-09-27T05:07:19.410910Z",
     "shell.execute_reply": "2023-09-27T05:07:19.409559Z",
     "shell.execute_reply.started": "2023-09-27T05:07:17.966163Z"
    }
   },
   "outputs": [],
   "source": [
    "import numpy as np\n",
    "import pandas as pd\n",
    "import matplotlib.pyplot as plt\n",
    "\n",
    "import json\n",
    "\n",
    "from sklearn.neighbors import KNeighborsClassifier\n",
    "from sklearn.metrics import accuracy_score, classification_report, f1_score\n",
    "from sklearn.pipeline import Pipeline"
   ]
  },
  {
   "cell_type": "markdown",
   "id": "2db4274d-a59a-469c-8e32-af9632541c17",
   "metadata": {},
   "source": [
    "### Get fit data ready"
   ]
  },
  {
   "cell_type": "code",
   "execution_count": 2,
   "id": "04676408-8db1-421a-a3c7-026059aaf580",
   "metadata": {
    "execution": {
     "iopub.execute_input": "2023-09-27T05:07:19.412946Z",
     "iopub.status.busy": "2023-09-27T05:07:19.412645Z",
     "iopub.status.idle": "2023-09-27T05:07:19.419859Z",
     "shell.execute_reply": "2023-09-27T05:07:19.418713Z",
     "shell.execute_reply.started": "2023-09-27T05:07:19.412922Z"
    }
   },
   "outputs": [],
   "source": [
    "# ValueError: could not convert string to float: '8789-0'\n",
    "def read_data_partial(given_fname, output_fname, lim=399999):\n",
    "    try:\n",
    "        data = pd.read_csv(given_fname,index_col=False,engine='python',nrows=lim)\n",
    "        data.to_csv(output_fname)\n",
    "    except:\n",
    "        content = []\n",
    "        count = 1\n",
    "\n",
    "        with open(given_fname, 'r') as fr:\n",
    "            for line in fr:\n",
    "                if count <= lim:\n",
    "                    #print(type(line), line)\n",
    "                    content.append(line)\n",
    "                    count += 1\n",
    "        with open(output_fname, 'w') as fw:\n",
    "            for line in content:\n",
    "                # print(type(line), line)\n",
    "                fw.write(line)\n",
    "\n",
    "        data = pd.read_csv(output_fname, index_col=False,encoding= res_encoding,engine='python')\n",
    "\n",
    "    return data"
   ]
  },
  {
   "cell_type": "code",
   "execution_count": 3,
   "id": "f5bf4fdc-a979-485a-911b-89ed765a6047",
   "metadata": {
    "execution": {
     "iopub.execute_input": "2023-09-27T05:07:19.421563Z",
     "iopub.status.busy": "2023-09-27T05:07:19.421334Z",
     "iopub.status.idle": "2023-09-27T05:07:39.090389Z",
     "shell.execute_reply": "2023-09-27T05:07:39.089078Z",
     "shell.execute_reply.started": "2023-09-27T05:07:19.421541Z"
    },
    "tags": []
   },
   "outputs": [
    {
     "name": "stdout",
     "output_type": "stream",
     "text": [
      "qso_train_catalog_z.csv partial data description: \n"
     ]
    },
    {
     "data": {
      "text/html": [
       "<div>\n",
       "<style scoped>\n",
       "    .dataframe tbody tr th:only-of-type {\n",
       "        vertical-align: middle;\n",
       "    }\n",
       "\n",
       "    .dataframe tbody tr th {\n",
       "        vertical-align: top;\n",
       "    }\n",
       "\n",
       "    .dataframe thead th {\n",
       "        text-align: right;\n",
       "    }\n",
       "</style>\n",
       "<table border=\"1\" class=\"dataframe\">\n",
       "  <thead>\n",
       "    <tr style=\"text-align: right;\">\n",
       "      <th></th>\n",
       "      <th>i_LSST_mag</th>\n",
       "      <th>z_LSST_mag</th>\n",
       "      <th>Y_WFI_mag</th>\n",
       "      <th>J_WFI_mag</th>\n",
       "      <th>H_WFI_mag</th>\n",
       "      <th>F_WFI_mag</th>\n",
       "    </tr>\n",
       "  </thead>\n",
       "  <tbody>\n",
       "    <tr>\n",
       "      <th>count</th>\n",
       "      <td>20759.000000</td>\n",
       "      <td>20759.000000</td>\n",
       "      <td>20759.000000</td>\n",
       "      <td>20759.000000</td>\n",
       "      <td>20759.000000</td>\n",
       "      <td>20759.000000</td>\n",
       "    </tr>\n",
       "    <tr>\n",
       "      <th>mean</th>\n",
       "      <td>28.576193</td>\n",
       "      <td>26.616020</td>\n",
       "      <td>24.340320</td>\n",
       "      <td>24.201112</td>\n",
       "      <td>24.264969</td>\n",
       "      <td>24.132527</td>\n",
       "    </tr>\n",
       "    <tr>\n",
       "      <th>std</th>\n",
       "      <td>1.218340</td>\n",
       "      <td>1.654428</td>\n",
       "      <td>2.009015</td>\n",
       "      <td>2.089360</td>\n",
       "      <td>2.112093</td>\n",
       "      <td>2.108081</td>\n",
       "    </tr>\n",
       "    <tr>\n",
       "      <th>min</th>\n",
       "      <td>26.672280</td>\n",
       "      <td>23.064283</td>\n",
       "      <td>18.489759</td>\n",
       "      <td>17.989148</td>\n",
       "      <td>17.800595</td>\n",
       "      <td>17.633615</td>\n",
       "    </tr>\n",
       "    <tr>\n",
       "      <th>25%</th>\n",
       "      <td>27.689657</td>\n",
       "      <td>25.314514</td>\n",
       "      <td>23.136710</td>\n",
       "      <td>22.977195</td>\n",
       "      <td>23.069490</td>\n",
       "      <td>22.937156</td>\n",
       "    </tr>\n",
       "    <tr>\n",
       "      <th>50%</th>\n",
       "      <td>28.366448</td>\n",
       "      <td>26.540555</td>\n",
       "      <td>24.371926</td>\n",
       "      <td>24.306130</td>\n",
       "      <td>24.363508</td>\n",
       "      <td>24.192066</td>\n",
       "    </tr>\n",
       "    <tr>\n",
       "      <th>75%</th>\n",
       "      <td>29.189413</td>\n",
       "      <td>27.668971</td>\n",
       "      <td>25.789820</td>\n",
       "      <td>25.697926</td>\n",
       "      <td>25.766767</td>\n",
       "      <td>25.595761</td>\n",
       "    </tr>\n",
       "    <tr>\n",
       "      <th>max</th>\n",
       "      <td>38.902328</td>\n",
       "      <td>36.769079</td>\n",
       "      <td>32.115011</td>\n",
       "      <td>32.168396</td>\n",
       "      <td>32.742341</td>\n",
       "      <td>33.953075</td>\n",
       "    </tr>\n",
       "  </tbody>\n",
       "</table>\n",
       "</div>"
      ],
      "text/plain": [
       "         i_LSST_mag    z_LSST_mag     Y_WFI_mag     J_WFI_mag     H_WFI_mag  \\\n",
       "count  20759.000000  20759.000000  20759.000000  20759.000000  20759.000000   \n",
       "mean      28.576193     26.616020     24.340320     24.201112     24.264969   \n",
       "std        1.218340      1.654428      2.009015      2.089360      2.112093   \n",
       "min       26.672280     23.064283     18.489759     17.989148     17.800595   \n",
       "25%       27.689657     25.314514     23.136710     22.977195     23.069490   \n",
       "50%       28.366448     26.540555     24.371926     24.306130     24.363508   \n",
       "75%       29.189413     27.668971     25.789820     25.697926     25.766767   \n",
       "max       38.902328     36.769079     32.115011     32.168396     32.742341   \n",
       "\n",
       "          F_WFI_mag  \n",
       "count  20759.000000  \n",
       "mean      24.132527  \n",
       "std        2.108081  \n",
       "min       17.633615  \n",
       "25%       22.937156  \n",
       "50%       24.192066  \n",
       "75%       25.595761  \n",
       "max       33.953075  "
      ]
     },
     "execution_count": 3,
     "metadata": {},
     "output_type": "execute_result"
    }
   ],
   "source": [
    "qso_train_partial = read_data_partial('quasar_train_catalog.csv', 'qso_train_partial.csv')\n",
    "qso_train_drop = qso_train_partial[['z', 'r_LSST_magerr', 'i_LSST_magerr','i_LSST_mag', 'z_LSST_mag', 'Y_WFI_mag', 'J_WFI_mag', 'H_WFI_mag', 'F_WFI_mag']]\n",
    "qso_train_drop = qso_train_drop.replace(99.99, np.nan).dropna()\n",
    "qso_train_drop = qso_train_drop[qso_train_drop['z'] < 7.5]\n",
    "qso_train_drop = qso_train_drop[(qso_train_drop['r_LSST_magerr']>0.2)&(qso_train_drop['i_LSST_magerr']>0.2)]\n",
    "redshifts26 = qso_train_drop[qso_train_drop['z_LSST_mag'] > 22.0]\n",
    "redshifts26 = redshifts26[redshifts26['z_LSST_mag'] < 26.0]\n",
    "redshifts26 = redshifts26['z']\n",
    "qso_train_drop = qso_train_drop.drop(columns=['z', 'r_LSST_magerr', 'i_LSST_magerr'])\n",
    "print('qso_train_catalog_z.csv partial data description: ')\n",
    "qso_train_drop.describe()"
   ]
  },
  {
   "cell_type": "code",
   "execution_count": 4,
   "id": "18849045-c7e1-487d-ad45-97d372ecc43e",
   "metadata": {
    "execution": {
     "iopub.execute_input": "2023-09-27T05:07:39.092979Z",
     "iopub.status.busy": "2023-09-27T05:07:39.092578Z",
     "iopub.status.idle": "2023-09-27T05:07:39.320438Z",
     "shell.execute_reply": "2023-09-27T05:07:39.319433Z",
     "shell.execute_reply.started": "2023-09-27T05:07:39.092930Z"
    }
   },
   "outputs": [
    {
     "data": {
      "text/plain": [
       "(array([1986., 1725., 1511., 1102.,   95.,   74.,  366.,  489.,  380.,\n",
       "         271.]),\n",
       " array([6.0001027 , 6.15004544, 6.29998818, 6.44993092, 6.59987366,\n",
       "        6.7498164 , 6.89975914, 7.04970188, 7.19964462, 7.34958736,\n",
       "        7.4995301 ]),\n",
       " <BarContainer object of 10 artists>)"
      ]
     },
     "execution_count": 4,
     "metadata": {},
     "output_type": "execute_result"
    },
    {
     "data": {
      "image/png": "[encoded data removed]",
      "text/plain": [
       "<Figure size 432x288 with 1 Axes>"
      ]
     },
     "metadata": {
      "needs_background": "light"
     },
     "output_type": "display_data"
    }
   ],
   "source": [
    "plt.hist(redshifts26)"
   ]
  },
  {
   "cell_type": "code",
   "execution_count": 5,
   "id": "0eb0ca40-2425-4d35-81d6-e533841673a2",
   "metadata": {
    "execution": {
     "iopub.execute_input": "2023-09-27T05:07:39.321873Z",
     "iopub.status.busy": "2023-09-27T05:07:39.321632Z",
     "iopub.status.idle": "2023-09-27T05:08:09.485301Z",
     "shell.execute_reply": "2023-09-27T05:08:09.484156Z",
     "shell.execute_reply.started": "2023-09-27T05:07:39.321850Z"
    },
    "tags": []
   },
   "outputs": [
    {
     "name": "stdout",
     "output_type": "stream",
     "text": [
      "mlt_train_catalog_z.csv partial data description: \n"
     ]
    },
    {
     "data": {
      "text/html": [
       "<div>\n",
       "<style scoped>\n",
       "    .dataframe tbody tr th:only-of-type {\n",
       "        vertical-align: middle;\n",
       "    }\n",
       "\n",
       "    .dataframe tbody tr th {\n",
       "        vertical-align: top;\n",
       "    }\n",
       "\n",
       "    .dataframe thead th {\n",
       "        text-align: right;\n",
       "    }\n",
       "</style>\n",
       "<table border=\"1\" class=\"dataframe\">\n",
       "  <thead>\n",
       "    <tr style=\"text-align: right;\">\n",
       "      <th></th>\n",
       "      <th>i_LSST_mag</th>\n",
       "      <th>z_LSST_mag</th>\n",
       "      <th>Y_WFI_mag</th>\n",
       "      <th>J_WFI_mag</th>\n",
       "      <th>H_WFI_mag</th>\n",
       "      <th>F_WFI_mag</th>\n",
       "    </tr>\n",
       "  </thead>\n",
       "  <tbody>\n",
       "    <tr>\n",
       "      <th>count</th>\n",
       "      <td>40215.000000</td>\n",
       "      <td>40215.000000</td>\n",
       "      <td>40215.000000</td>\n",
       "      <td>40215.000000</td>\n",
       "      <td>40215.000000</td>\n",
       "      <td>40215.000000</td>\n",
       "    </tr>\n",
       "    <tr>\n",
       "      <th>mean</th>\n",
       "      <td>27.846360</td>\n",
       "      <td>26.406950</td>\n",
       "      <td>24.814468</td>\n",
       "      <td>24.240156</td>\n",
       "      <td>23.941957</td>\n",
       "      <td>23.954919</td>\n",
       "    </tr>\n",
       "    <tr>\n",
       "      <th>std</th>\n",
       "      <td>0.866560</td>\n",
       "      <td>0.814595</td>\n",
       "      <td>0.652294</td>\n",
       "      <td>0.636044</td>\n",
       "      <td>0.633295</td>\n",
       "      <td>0.639822</td>\n",
       "    </tr>\n",
       "    <tr>\n",
       "      <th>min</th>\n",
       "      <td>26.565172</td>\n",
       "      <td>24.640153</td>\n",
       "      <td>22.966413</td>\n",
       "      <td>22.249321</td>\n",
       "      <td>21.884903</td>\n",
       "      <td>21.705643</td>\n",
       "    </tr>\n",
       "    <tr>\n",
       "      <th>25%</th>\n",
       "      <td>27.248318</td>\n",
       "      <td>25.848575</td>\n",
       "      <td>24.336096</td>\n",
       "      <td>23.782861</td>\n",
       "      <td>23.500746</td>\n",
       "      <td>23.511528</td>\n",
       "    </tr>\n",
       "    <tr>\n",
       "      <th>50%</th>\n",
       "      <td>27.631539</td>\n",
       "      <td>26.262382</td>\n",
       "      <td>24.722558</td>\n",
       "      <td>24.157091</td>\n",
       "      <td>23.877018</td>\n",
       "      <td>23.890470</td>\n",
       "    </tr>\n",
       "    <tr>\n",
       "      <th>75%</th>\n",
       "      <td>28.184954</td>\n",
       "      <td>26.792510</td>\n",
       "      <td>25.207169</td>\n",
       "      <td>24.619578</td>\n",
       "      <td>24.324022</td>\n",
       "      <td>24.337251</td>\n",
       "    </tr>\n",
       "    <tr>\n",
       "      <th>max</th>\n",
       "      <td>38.215437</td>\n",
       "      <td>36.198974</td>\n",
       "      <td>28.369839</td>\n",
       "      <td>27.735964</td>\n",
       "      <td>27.180561</td>\n",
       "      <td>27.305963</td>\n",
       "    </tr>\n",
       "  </tbody>\n",
       "</table>\n",
       "</div>"
      ],
      "text/plain": [
       "         i_LSST_mag    z_LSST_mag     Y_WFI_mag     J_WFI_mag     H_WFI_mag  \\\n",
       "count  40215.000000  40215.000000  40215.000000  40215.000000  40215.000000   \n",
       "mean      27.846360     26.406950     24.814468     24.240156     23.941957   \n",
       "std        0.866560      0.814595      0.652294      0.636044      0.633295   \n",
       "min       26.565172     24.640153     22.966413     22.249321     21.884903   \n",
       "25%       27.248318     25.848575     24.336096     23.782861     23.500746   \n",
       "50%       27.631539     26.262382     24.722558     24.157091     23.877018   \n",
       "75%       28.184954     26.792510     25.207169     24.619578     24.324022   \n",
       "max       38.215437     36.198974     28.369839     27.735964     27.180561   \n",
       "\n",
       "          F_WFI_mag  \n",
       "count  40215.000000  \n",
       "mean      23.954919  \n",
       "std        0.639822  \n",
       "min       21.705643  \n",
       "25%       23.511528  \n",
       "50%       23.890470  \n",
       "75%       24.337251  \n",
       "max       27.305963  "
      ]
     },
     "execution_count": 5,
     "metadata": {},
     "output_type": "execute_result"
    }
   ],
   "source": [
    "# brown dwarf contaminants\n",
    "mlt_train_partial = read_data_partial('mlt_train_catalog.csv', 'mlt_train_partial.csv', 599999)\n",
    "mlt_train_drop = mlt_train_partial[['r_LSST_magerr', 'i_LSST_magerr', 'i_LSST_mag', 'z_LSST_mag', 'Y_WFI_mag', 'J_WFI_mag', 'H_WFI_mag', 'F_WFI_mag']]\n",
    "mlt_train_drop = mlt_train_drop.replace(99.99, np.nan).dropna()\n",
    "mlt_train_drop = mlt_train_drop[(mlt_train_drop['r_LSST_magerr']>0.2)&(mlt_train_drop['i_LSST_magerr']>0.2)]\n",
    "mlt_train_drop = mlt_train_drop.drop(columns=['r_LSST_magerr', 'i_LSST_magerr'])\n",
    "print('mlt_train_catalog_z.csv partial data description: ')\n",
    "mlt_train_drop.describe()"
   ]
  },
  {
   "cell_type": "code",
   "execution_count": 6,
   "id": "fb6f7087-900b-4f18-bf35-57d1569e8c3b",
   "metadata": {
    "execution": {
     "iopub.execute_input": "2023-09-27T05:08:09.486753Z",
     "iopub.status.busy": "2023-09-27T05:08:09.486520Z",
     "iopub.status.idle": "2023-09-27T05:08:30.641905Z",
     "shell.execute_reply": "2023-09-27T05:08:30.640699Z",
     "shell.execute_reply.started": "2023-09-27T05:08:09.486728Z"
    },
    "tags": []
   },
   "outputs": [
    {
     "name": "stdout",
     "output_type": "stream",
     "text": [
      "galaxies_train_catalog_patch8789.csv partial data description: \n"
     ]
    },
    {
     "data": {
      "text/html": [
       "<div>\n",
       "<style scoped>\n",
       "    .dataframe tbody tr th:only-of-type {\n",
       "        vertical-align: middle;\n",
       "    }\n",
       "\n",
       "    .dataframe tbody tr th {\n",
       "        vertical-align: top;\n",
       "    }\n",
       "\n",
       "    .dataframe thead th {\n",
       "        text-align: right;\n",
       "    }\n",
       "</style>\n",
       "<table border=\"1\" class=\"dataframe\">\n",
       "  <thead>\n",
       "    <tr style=\"text-align: right;\">\n",
       "      <th></th>\n",
       "      <th>i_LSST_mag</th>\n",
       "      <th>z_LSST_mag</th>\n",
       "      <th>Y_WFI_mag</th>\n",
       "      <th>J_WFI_mag</th>\n",
       "      <th>H_WFI_mag</th>\n",
       "      <th>F_WFI_mag</th>\n",
       "    </tr>\n",
       "  </thead>\n",
       "  <tbody>\n",
       "    <tr>\n",
       "      <th>count</th>\n",
       "      <td>166180.000000</td>\n",
       "      <td>166180.000000</td>\n",
       "      <td>166180.000000</td>\n",
       "      <td>166180.000000</td>\n",
       "      <td>166180.000000</td>\n",
       "      <td>166180.000000</td>\n",
       "    </tr>\n",
       "    <tr>\n",
       "      <th>mean</th>\n",
       "      <td>28.112741</td>\n",
       "      <td>27.507701</td>\n",
       "      <td>27.330679</td>\n",
       "      <td>27.226355</td>\n",
       "      <td>27.160891</td>\n",
       "      <td>27.154280</td>\n",
       "    </tr>\n",
       "    <tr>\n",
       "      <th>std</th>\n",
       "      <td>0.888656</td>\n",
       "      <td>0.950758</td>\n",
       "      <td>0.788433</td>\n",
       "      <td>0.796900</td>\n",
       "      <td>0.827853</td>\n",
       "      <td>0.977009</td>\n",
       "    </tr>\n",
       "    <tr>\n",
       "      <th>min</th>\n",
       "      <td>26.647539</td>\n",
       "      <td>25.462982</td>\n",
       "      <td>25.152190</td>\n",
       "      <td>24.748167</td>\n",
       "      <td>24.475726</td>\n",
       "      <td>24.258516</td>\n",
       "    </tr>\n",
       "    <tr>\n",
       "      <th>25%</th>\n",
       "      <td>27.518918</td>\n",
       "      <td>26.883531</td>\n",
       "      <td>26.837638</td>\n",
       "      <td>26.737179</td>\n",
       "      <td>26.657671</td>\n",
       "      <td>26.557470</td>\n",
       "    </tr>\n",
       "    <tr>\n",
       "      <th>50%</th>\n",
       "      <td>27.920273</td>\n",
       "      <td>27.314756</td>\n",
       "      <td>27.248012</td>\n",
       "      <td>27.172407</td>\n",
       "      <td>27.118375</td>\n",
       "      <td>27.041903</td>\n",
       "    </tr>\n",
       "    <tr>\n",
       "      <th>75%</th>\n",
       "      <td>28.465759</td>\n",
       "      <td>27.895376</td>\n",
       "      <td>27.710084</td>\n",
       "      <td>27.634895</td>\n",
       "      <td>27.594613</td>\n",
       "      <td>27.601858</td>\n",
       "    </tr>\n",
       "    <tr>\n",
       "      <th>max</th>\n",
       "      <td>40.029429</td>\n",
       "      <td>39.261958</td>\n",
       "      <td>39.647494</td>\n",
       "      <td>40.707497</td>\n",
       "      <td>38.204669</td>\n",
       "      <td>38.379259</td>\n",
       "    </tr>\n",
       "  </tbody>\n",
       "</table>\n",
       "</div>"
      ],
      "text/plain": [
       "          i_LSST_mag     z_LSST_mag      Y_WFI_mag      J_WFI_mag  \\\n",
       "count  166180.000000  166180.000000  166180.000000  166180.000000   \n",
       "mean       28.112741      27.507701      27.330679      27.226355   \n",
       "std         0.888656       0.950758       0.788433       0.796900   \n",
       "min        26.647539      25.462982      25.152190      24.748167   \n",
       "25%        27.518918      26.883531      26.837638      26.737179   \n",
       "50%        27.920273      27.314756      27.248012      27.172407   \n",
       "75%        28.465759      27.895376      27.710084      27.634895   \n",
       "max        40.029429      39.261958      39.647494      40.707497   \n",
       "\n",
       "           H_WFI_mag      F_WFI_mag  \n",
       "count  166180.000000  166180.000000  \n",
       "mean       27.160891      27.154280  \n",
       "std         0.827853       0.977009  \n",
       "min        24.475726      24.258516  \n",
       "25%        26.657671      26.557470  \n",
       "50%        27.118375      27.041903  \n",
       "75%        27.594613      27.601858  \n",
       "max        38.204669      38.379259  "
      ]
     },
     "execution_count": 6,
     "metadata": {},
     "output_type": "execute_result"
    }
   ],
   "source": [
    "galaxies_patch8789_partial = read_data_partial('galaxies_train_catalog_patch8789.csv', 'galaxies_patch8789_partial.csv')\n",
    "galaxies_patch8789_drop = galaxies_patch8789_partial[['r_LSST_magerr', 'i_LSST_magerr','i_LSST_mag', 'z_LSST_mag', 'Y_WFI_mag', 'J_WFI_mag', 'H_WFI_mag', 'F_WFI_mag']]\n",
    "galaxies_patch8789_drop = galaxies_patch8789_drop.replace(99.99, np.nan).dropna()\n",
    "galaxies_patch8789_drop = galaxies_patch8789_drop[(galaxies_patch8789_drop['r_LSST_magerr']>0.2)&(galaxies_patch8789_drop['i_LSST_magerr']>0.2)]\n",
    "galaxies_patch8789_drop = galaxies_patch8789_drop.drop(columns=['r_LSST_magerr', 'i_LSST_magerr'])\n",
    "print('galaxies_train_catalog_patch8789.csv partial data description: ')\n",
    "galaxies_patch8789_drop.describe()"
   ]
  },
  {
   "cell_type": "code",
   "execution_count": 7,
   "id": "de6af666-e9b3-4fa9-b0d8-c2817969e042",
   "metadata": {
    "execution": {
     "iopub.execute_input": "2023-09-27T05:08:30.643517Z",
     "iopub.status.busy": "2023-09-27T05:08:30.643264Z",
     "iopub.status.idle": "2023-09-27T05:08:53.550321Z",
     "shell.execute_reply": "2023-09-27T05:08:53.549315Z",
     "shell.execute_reply.started": "2023-09-27T05:08:30.643490Z"
    },
    "tags": []
   },
   "outputs": [
    {
     "name": "stdout",
     "output_type": "stream",
     "text": [
      "galaxies_train_catalog_patch8786.csv partial data description: \n"
     ]
    },
    {
     "data": {
      "text/html": [
       "<div>\n",
       "<style scoped>\n",
       "    .dataframe tbody tr th:only-of-type {\n",
       "        vertical-align: middle;\n",
       "    }\n",
       "\n",
       "    .dataframe tbody tr th {\n",
       "        vertical-align: top;\n",
       "    }\n",
       "\n",
       "    .dataframe thead th {\n",
       "        text-align: right;\n",
       "    }\n",
       "</style>\n",
       "<table border=\"1\" class=\"dataframe\">\n",
       "  <thead>\n",
       "    <tr style=\"text-align: right;\">\n",
       "      <th></th>\n",
       "      <th>i_LSST_mag</th>\n",
       "      <th>z_LSST_mag</th>\n",
       "      <th>Y_WFI_mag</th>\n",
       "      <th>J_WFI_mag</th>\n",
       "      <th>H_WFI_mag</th>\n",
       "      <th>F_WFI_mag</th>\n",
       "    </tr>\n",
       "  </thead>\n",
       "  <tbody>\n",
       "    <tr>\n",
       "      <th>count</th>\n",
       "      <td>156947.000000</td>\n",
       "      <td>156947.000000</td>\n",
       "      <td>156947.000000</td>\n",
       "      <td>156947.000000</td>\n",
       "      <td>156947.000000</td>\n",
       "      <td>156947.000000</td>\n",
       "    </tr>\n",
       "    <tr>\n",
       "      <th>mean</th>\n",
       "      <td>28.100850</td>\n",
       "      <td>27.494201</td>\n",
       "      <td>27.312886</td>\n",
       "      <td>27.205306</td>\n",
       "      <td>27.141588</td>\n",
       "      <td>27.131087</td>\n",
       "    </tr>\n",
       "    <tr>\n",
       "      <th>std</th>\n",
       "      <td>0.886176</td>\n",
       "      <td>0.952283</td>\n",
       "      <td>0.787836</td>\n",
       "      <td>0.803831</td>\n",
       "      <td>0.842035</td>\n",
       "      <td>0.981599</td>\n",
       "    </tr>\n",
       "    <tr>\n",
       "      <th>min</th>\n",
       "      <td>26.573603</td>\n",
       "      <td>25.553776</td>\n",
       "      <td>25.107279</td>\n",
       "      <td>24.705397</td>\n",
       "      <td>24.460871</td>\n",
       "      <td>24.280885</td>\n",
       "    </tr>\n",
       "    <tr>\n",
       "      <th>25%</th>\n",
       "      <td>27.507437</td>\n",
       "      <td>26.871509</td>\n",
       "      <td>26.818015</td>\n",
       "      <td>26.714655</td>\n",
       "      <td>26.633409</td>\n",
       "      <td>26.535319</td>\n",
       "    </tr>\n",
       "    <tr>\n",
       "      <th>50%</th>\n",
       "      <td>27.905555</td>\n",
       "      <td>27.298765</td>\n",
       "      <td>27.235464</td>\n",
       "      <td>27.156027</td>\n",
       "      <td>27.102194</td>\n",
       "      <td>27.024863</td>\n",
       "    </tr>\n",
       "    <tr>\n",
       "      <th>75%</th>\n",
       "      <td>28.452905</td>\n",
       "      <td>27.883030</td>\n",
       "      <td>27.697065</td>\n",
       "      <td>27.620381</td>\n",
       "      <td>27.584424</td>\n",
       "      <td>27.588149</td>\n",
       "    </tr>\n",
       "    <tr>\n",
       "      <th>max</th>\n",
       "      <td>40.812877</td>\n",
       "      <td>40.422024</td>\n",
       "      <td>37.436853</td>\n",
       "      <td>38.037623</td>\n",
       "      <td>37.411129</td>\n",
       "      <td>37.630643</td>\n",
       "    </tr>\n",
       "  </tbody>\n",
       "</table>\n",
       "</div>"
      ],
      "text/plain": [
       "          i_LSST_mag     z_LSST_mag      Y_WFI_mag      J_WFI_mag  \\\n",
       "count  156947.000000  156947.000000  156947.000000  156947.000000   \n",
       "mean       28.100850      27.494201      27.312886      27.205306   \n",
       "std         0.886176       0.952283       0.787836       0.803831   \n",
       "min        26.573603      25.553776      25.107279      24.705397   \n",
       "25%        27.507437      26.871509      26.818015      26.714655   \n",
       "50%        27.905555      27.298765      27.235464      27.156027   \n",
       "75%        28.452905      27.883030      27.697065      27.620381   \n",
       "max        40.812877      40.422024      37.436853      38.037623   \n",
       "\n",
       "           H_WFI_mag      F_WFI_mag  \n",
       "count  156947.000000  156947.000000  \n",
       "mean       27.141588      27.131087  \n",
       "std         0.842035       0.981599  \n",
       "min        24.460871      24.280885  \n",
       "25%        26.633409      26.535319  \n",
       "50%        27.102194      27.024863  \n",
       "75%        27.584424      27.588149  \n",
       "max        37.411129      37.630643  "
      ]
     },
     "execution_count": 7,
     "metadata": {},
     "output_type": "execute_result"
    }
   ],
   "source": [
    "galaxies_patch8786_partial = read_data_partial('galaxies_train_catalog_patch8786.csv', 'galaxies_patch8786_partial.csv')\n",
    "galaxies_patch8786_drop = galaxies_patch8786_partial[['r_LSST_magerr', 'i_LSST_magerr','i_LSST_mag', 'z_LSST_mag', 'Y_WFI_mag', 'J_WFI_mag', 'H_WFI_mag', 'F_WFI_mag']]\n",
    "galaxies_patch8786_drop = galaxies_patch8786_drop.replace(99.99, np.nan).dropna()\n",
    "galaxies_patch8786_drop = galaxies_patch8786_drop[(galaxies_patch8786_drop['r_LSST_magerr']>0.2)&(galaxies_patch8786_drop['i_LSST_magerr']>0.2)]\n",
    "galaxies_patch8786_drop = galaxies_patch8786_drop.drop(columns=['r_LSST_magerr', 'i_LSST_magerr'])\n",
    "print('galaxies_train_catalog_patch8786.csv partial data description: ')\n",
    "galaxies_patch8786_drop.describe()"
   ]
  },
  {
   "cell_type": "code",
   "execution_count": 8,
   "id": "6b6dc9f5-ba52-4c5f-8c1a-4e0b61d7840a",
   "metadata": {
    "execution": {
     "iopub.execute_input": "2023-09-27T05:08:53.553456Z",
     "iopub.status.busy": "2023-09-27T05:08:53.553219Z",
     "iopub.status.idle": "2023-09-27T05:08:53.560838Z",
     "shell.execute_reply": "2023-09-27T05:08:53.559747Z",
     "shell.execute_reply.started": "2023-09-27T05:08:53.553432Z"
    }
   },
   "outputs": [],
   "source": [
    "qso_train_drop['label'] = np.ones(len(qso_train_drop))\n",
    "mlt_train_drop['label'] = np.zeros(len(mlt_train_drop))\n",
    "galaxies_patch8789_drop['label'] = np.zeros(len(galaxies_patch8789_drop))\n",
    "galaxies_patch8786_drop['label'] = np.zeros(len(galaxies_patch8786_drop))"
   ]
  },
  {
   "cell_type": "code",
   "execution_count": 9,
   "id": "b74c834d-ba32-46d5-9cd5-e5ee753cc5fa",
   "metadata": {
    "execution": {
     "iopub.execute_input": "2023-09-27T05:08:53.563011Z",
     "iopub.status.busy": "2023-09-27T05:08:53.562750Z",
     "iopub.status.idle": "2023-09-27T05:08:53.628281Z",
     "shell.execute_reply": "2023-09-27T05:08:53.627048Z",
     "shell.execute_reply.started": "2023-09-27T05:08:53.562985Z"
    }
   },
   "outputs": [],
   "source": [
    "# data concatenation to get training data\n",
    "contaminants_drop = pd.concat([mlt_train_drop, galaxies_patch8789_drop, galaxies_patch8786_drop], ignore_index=True)\n",
    "data_train_drop = pd.concat([qso_train_drop, contaminants_drop], ignore_index=True) # make sure that the data line up\n",
    "X_drop = data_train_drop[['i_LSST_mag', 'z_LSST_mag','Y_WFI_mag', 'J_WFI_mag', 'H_WFI_mag', 'F_WFI_mag']]\n",
    "Y_drop = data_train_drop['label']"
   ]
  },
  {
   "cell_type": "code",
   "execution_count": 10,
   "id": "d432d354-654b-4ade-a3e7-d562263de207",
   "metadata": {
    "execution": {
     "iopub.execute_input": "2023-09-27T05:08:53.629711Z",
     "iopub.status.busy": "2023-09-27T05:08:53.629453Z",
     "iopub.status.idle": "2023-09-27T05:08:53.665983Z",
     "shell.execute_reply": "2023-09-27T05:08:53.665087Z",
     "shell.execute_reply.started": "2023-09-27T05:08:53.629685Z"
    },
    "tags": []
   },
   "outputs": [
    {
     "name": "stdout",
     "output_type": "stream",
     "text": [
      "7514\n",
      "13791\n",
      "778\n",
      "753\n"
     ]
    }
   ],
   "source": [
    "qso_train_26 = qso_train_drop[qso_train_drop['z_LSST_mag'] > 24.0]\n",
    "qso_train_26 = qso_train_26[qso_train_26['z_LSST_mag'] < 26.0]\n",
    "print(len(qso_train_26))\n",
    "mlt_train_26 = mlt_train_drop[mlt_train_drop['z_LSST_mag'] > 24.0]\n",
    "mlt_train_26 = mlt_train_26[mlt_train_26['z_LSST_mag'] < 26.0]\n",
    "print(len(mlt_train_26))\n",
    "galaxies_patch8789_26 = galaxies_patch8789_drop[galaxies_patch8789_drop['z_LSST_mag'] > 24.0]\n",
    "galaxies_patch8789_26 = galaxies_patch8789_26[galaxies_patch8789_26['z_LSST_mag'] < 26.0]\n",
    "print(len(galaxies_patch8789_26))\n",
    "galaxies_patch8786_26 = galaxies_patch8786_drop[galaxies_patch8786_drop['z_LSST_mag'] > 24.0]\n",
    "galaxies_patch8786_26 = galaxies_patch8786_26[galaxies_patch8786_26['z_LSST_mag'] < 26.0]\n",
    "print(len(galaxies_patch8786_26))"
   ]
  },
  {
   "cell_type": "code",
   "execution_count": 11,
   "id": "f581b0d0-f38b-44b7-b568-5b5ef23d0937",
   "metadata": {
    "execution": {
     "iopub.execute_input": "2023-09-27T05:08:53.667396Z",
     "iopub.status.busy": "2023-09-27T05:08:53.667139Z",
     "iopub.status.idle": "2023-09-27T05:08:53.674959Z",
     "shell.execute_reply": "2023-09-27T05:08:53.673878Z",
     "shell.execute_reply.started": "2023-09-27T05:08:53.667370Z"
    }
   },
   "outputs": [],
   "source": [
    "contaminants_26 = pd.concat([mlt_train_26, galaxies_patch8789_26, galaxies_patch8786_26], ignore_index=True)\n",
    "data_train_26 = pd.concat([qso_train_26, contaminants_26], ignore_index=True)\n",
    "X_drop_26 = data_train_26[['i_LSST_mag', 'z_LSST_mag','Y_WFI_mag', 'J_WFI_mag', 'H_WFI_mag', 'F_WFI_mag']]\n",
    "Y_drop_26 = data_train_26['label']"
   ]
  },
  {
   "cell_type": "markdown",
   "id": "541cd48c-7918-4ae8-b324-61ab294df271",
   "metadata": {
    "tags": []
   },
   "source": [
    "## KNN filters"
   ]
  },
  {
   "cell_type": "code",
   "execution_count": 12,
   "id": "0b9d3cc1-d5dc-4a62-b65e-0ae9f0174bc4",
   "metadata": {
    "execution": {
     "iopub.execute_input": "2023-09-27T05:08:53.676396Z",
     "iopub.status.busy": "2023-09-27T05:08:53.676169Z",
     "iopub.status.idle": "2023-09-27T05:08:53.704963Z",
     "shell.execute_reply": "2023-09-27T05:08:53.703986Z",
     "shell.execute_reply.started": "2023-09-27T05:08:53.676373Z"
    }
   },
   "outputs": [
    {
     "data": {
      "text/plain": [
       "KNeighborsClassifier(leaf_size=3, n_neighbors=13, p=3)"
      ]
     },
     "execution_count": 12,
     "metadata": {},
     "output_type": "execute_result"
    }
   ],
   "source": [
    "# 1a\n",
    "# x: z_LSST_mag-J_WFI_mag\n",
    "# y: Y_WFI_mag-H_WFI_mag\n",
    "# best score:  0.9881756756756758\n",
    "filter1a = KNeighborsClassifier(algorithm='auto', metric='minkowski', n_neighbors=13, leaf_size=3, weights='uniform', p=3)\n",
    "features1a = [X_drop_26['z_LSST_mag']-X_drop_26['J_WFI_mag'], X_drop_26['Y_WFI_mag']-X_drop_26['H_WFI_mag']]\n",
    "X1a = np.array(features1a).transpose()\n",
    "\n",
    "filter1a.fit(X1a, Y_drop_26)"
   ]
  },
  {
   "cell_type": "code",
   "execution_count": 13,
   "id": "7b1c4620-9d42-4d53-9835-ac02279eaa6b",
   "metadata": {
    "execution": {
     "iopub.execute_input": "2023-09-27T05:08:53.706156Z",
     "iopub.status.busy": "2023-09-27T05:08:53.705935Z",
     "iopub.status.idle": "2023-09-27T05:08:53.737774Z",
     "shell.execute_reply": "2023-09-27T05:08:53.736806Z",
     "shell.execute_reply.started": "2023-09-27T05:08:53.706134Z"
    }
   },
   "outputs": [
    {
     "data": {
      "text/plain": [
       "KNeighborsClassifier(leaf_size=3, n_neighbors=13, p=5)"
      ]
     },
     "execution_count": 13,
     "metadata": {},
     "output_type": "execute_result"
    }
   ],
   "source": [
    "# 1b\n",
    "# x: Y - H \n",
    "# y: i - H\n",
    "# best score:  0.9938063063063063\n",
    "filter1b = KNeighborsClassifier(algorithm='auto', metric='minkowski', n_neighbors=13, leaf_size=3, weights='uniform', p=5)\n",
    "features1b = [X_drop_26['Y_WFI_mag']-X_drop_26['H_WFI_mag'], X_drop_26['i_LSST_mag']-X_drop_26['H_WFI_mag']]\n",
    "X1b = np.array(features1b).transpose()\n",
    "\n",
    "filter1b.fit(X1b, Y_drop_26)"
   ]
  },
  {
   "cell_type": "code",
   "execution_count": 14,
   "id": "f853c516-7d3a-4c80-8398-93d2f7cb4e63",
   "metadata": {
    "execution": {
     "iopub.execute_input": "2023-09-27T05:08:53.738986Z",
     "iopub.status.busy": "2023-09-27T05:08:53.738740Z",
     "iopub.status.idle": "2023-09-27T05:08:53.771090Z",
     "shell.execute_reply": "2023-09-27T05:08:53.769703Z",
     "shell.execute_reply.started": "2023-09-27T05:08:53.738962Z"
    }
   },
   "outputs": [
    {
     "data": {
      "text/plain": [
       "KNeighborsClassifier(leaf_size=3, n_neighbors=36, p=5)"
      ]
     },
     "execution_count": 14,
     "metadata": {},
     "output_type": "execute_result"
    }
   ],
   "source": [
    "# 1c \n",
    "# x: z - H\n",
    "# y: J - H\n",
    "# best score:  0.9463213213213213\n",
    "filter1c = KNeighborsClassifier(algorithm='auto', metric='minkowski', n_neighbors=36, leaf_size=3, weights='uniform', p=5)\n",
    "features1c = [X_drop_26['z_LSST_mag']-X_drop_26['H_WFI_mag'], X_drop_26['J_WFI_mag']-X_drop_26['H_WFI_mag']]\n",
    "X1c = np.array(features1c).transpose()\n",
    "\n",
    "filter1c.fit(X1c, Y_drop_26)"
   ]
  },
  {
   "cell_type": "code",
   "execution_count": 15,
   "id": "412a430c-2a39-4569-a83a-5aeaa5dea3cd",
   "metadata": {
    "execution": {
     "iopub.execute_input": "2023-09-27T05:08:53.773388Z",
     "iopub.status.busy": "2023-09-27T05:08:53.772890Z",
     "iopub.status.idle": "2023-09-27T05:08:53.822761Z",
     "shell.execute_reply": "2023-09-27T05:08:53.821709Z",
     "shell.execute_reply.started": "2023-09-27T05:08:53.773338Z"
    }
   },
   "outputs": [
    {
     "data": {
      "text/plain": [
       "KNeighborsClassifier(leaf_size=3, n_neighbors=45, p=5)"
      ]
     },
     "execution_count": 15,
     "metadata": {},
     "output_type": "execute_result"
    }
   ],
   "source": [
    "# 1d\n",
    "# x: z_LSST_mag-Y_WFI_mag\n",
    "# y: i_LSST_mag-F_WFI_mag\n",
    "# best score:  0.9678428428428428\n",
    "filter1d = KNeighborsClassifier(algorithm='auto', metric='minkowski', n_neighbors=45, leaf_size=3, weights='uniform', p=5)\n",
    "features1d = [X_drop_26['z_LSST_mag']-X_drop_26['Y_WFI_mag'], X_drop_26['i_LSST_mag']-X_drop_26['F_WFI_mag']]\n",
    "X1d = np.array(features1d).transpose()\n",
    "\n",
    "filter1d.fit(X1d, Y_drop_26)"
   ]
  },
  {
   "cell_type": "code",
   "execution_count": 16,
   "id": "8c6390ec-7038-4fe4-88f4-5e908ddca303",
   "metadata": {
    "execution": {
     "iopub.execute_input": "2023-09-27T05:08:53.824780Z",
     "iopub.status.busy": "2023-09-27T05:08:53.824305Z",
     "iopub.status.idle": "2023-09-27T05:08:53.864185Z",
     "shell.execute_reply": "2023-09-27T05:08:53.862841Z",
     "shell.execute_reply.started": "2023-09-27T05:08:53.824734Z"
    }
   },
   "outputs": [
    {
     "data": {
      "text/plain": [
       "KNeighborsClassifier(leaf_size=3, n_neighbors=26, p=3)"
      ]
     },
     "execution_count": 16,
     "metadata": {},
     "output_type": "execute_result"
    }
   ],
   "source": [
    "# 1e\n",
    "# Y - J\n",
    "# J - H\n",
    "# best score: deleted, assume 0.95\n",
    "filter1e = KNeighborsClassifier(algorithm='auto', metric='minkowski', n_neighbors=26, leaf_size=3, weights='uniform', p=3)\n",
    "features1e = [X_drop_26['Y_WFI_mag']-X_drop_26['J_WFI_mag'], X_drop_26['J_WFI_mag']-X_drop_26['H_WFI_mag']]\n",
    "X1e = np.array(features1e).transpose()\n",
    "\n",
    "filter1e.fit(X1e, Y_drop_26)"
   ]
  },
  {
   "cell_type": "code",
   "execution_count": 17,
   "id": "278a292f-a47d-4aff-8b77-e4cfe6d3f3af",
   "metadata": {
    "execution": {
     "iopub.execute_input": "2023-09-27T05:08:53.865932Z",
     "iopub.status.busy": "2023-09-27T05:08:53.865563Z",
     "iopub.status.idle": "2023-09-27T05:08:53.907465Z",
     "shell.execute_reply": "2023-09-27T05:08:53.906535Z",
     "shell.execute_reply.started": "2023-09-27T05:08:53.865898Z"
    }
   },
   "outputs": [
    {
     "data": {
      "text/plain": [
       "KNeighborsClassifier(leaf_size=3, n_neighbors=26, p=3)"
      ]
     },
     "execution_count": 17,
     "metadata": {},
     "output_type": "execute_result"
    }
   ],
   "source": [
    "# 1f\n",
    "# x: i - Y\n",
    "# y: J - H\n",
    "# best score:  0.9161036036036035\n",
    "filter1f = KNeighborsClassifier(algorithm='auto', metric='minkowski', n_neighbors=26, leaf_size=3, weights='uniform', p=3)\n",
    "features1f = [X_drop_26['i_LSST_mag']-X_drop_26['Y_WFI_mag'], X_drop_26['J_WFI_mag']-X_drop_26['H_WFI_mag']]\n",
    "X1f = np.array(features1f).transpose()\n",
    "\n",
    "filter1f.fit(X1f, Y_drop_26)"
   ]
  },
  {
   "cell_type": "code",
   "execution_count": null,
   "id": "9ec81242-82e0-460f-9b4c-cbedb61cda6a",
   "metadata": {},
   "outputs": [],
   "source": []
  },
  {
   "cell_type": "markdown",
   "id": "2affa55f-6825-424e-82b8-28a653b43fc2",
   "metadata": {},
   "source": [
    "# Test"
   ]
  },
  {
   "cell_type": "code",
   "execution_count": 18,
   "id": "a4e0a09d-bcf3-470b-aec2-9bf8b903b050",
   "metadata": {
    "execution": {
     "iopub.execute_input": "2023-09-27T05:08:53.908973Z",
     "iopub.status.busy": "2023-09-27T05:08:53.908689Z",
     "iopub.status.idle": "2023-09-27T05:08:54.186035Z",
     "shell.execute_reply": "2023-09-27T05:08:54.185046Z",
     "shell.execute_reply.started": "2023-09-27T05:08:53.908944Z"
    }
   },
   "outputs": [
    {
     "data": {
      "text/html": [
       "<div>\n",
       "<style scoped>\n",
       "    .dataframe tbody tr th:only-of-type {\n",
       "        vertical-align: middle;\n",
       "    }\n",
       "\n",
       "    .dataframe tbody tr th {\n",
       "        vertical-align: top;\n",
       "    }\n",
       "\n",
       "    .dataframe thead th {\n",
       "        text-align: right;\n",
       "    }\n",
       "</style>\n",
       "<table border=\"1\" class=\"dataframe\">\n",
       "  <thead>\n",
       "    <tr style=\"text-align: right;\">\n",
       "      <th></th>\n",
       "      <th>z</th>\n",
       "      <th>i_LSST_mag</th>\n",
       "      <th>z_LSST_mag</th>\n",
       "      <th>Y_WFI_mag</th>\n",
       "      <th>J_WFI_mag</th>\n",
       "      <th>H_WFI_mag</th>\n",
       "      <th>F_WFI_mag</th>\n",
       "    </tr>\n",
       "  </thead>\n",
       "  <tbody>\n",
       "    <tr>\n",
       "      <th>count</th>\n",
       "      <td>4270.000000</td>\n",
       "      <td>4270.000000</td>\n",
       "      <td>4270.000000</td>\n",
       "      <td>4270.000000</td>\n",
       "      <td>4270.000000</td>\n",
       "      <td>4270.000000</td>\n",
       "      <td>4270.000000</td>\n",
       "    </tr>\n",
       "    <tr>\n",
       "      <th>mean</th>\n",
       "      <td>6.334597</td>\n",
       "      <td>28.835404</td>\n",
       "      <td>26.798711</td>\n",
       "      <td>25.931247</td>\n",
       "      <td>25.903342</td>\n",
       "      <td>25.938094</td>\n",
       "      <td>25.724927</td>\n",
       "    </tr>\n",
       "    <tr>\n",
       "      <th>std</th>\n",
       "      <td>0.310122</td>\n",
       "      <td>1.238984</td>\n",
       "      <td>1.679970</td>\n",
       "      <td>1.773994</td>\n",
       "      <td>1.803031</td>\n",
       "      <td>1.796843</td>\n",
       "      <td>1.760516</td>\n",
       "    </tr>\n",
       "    <tr>\n",
       "      <th>min</th>\n",
       "      <td>6.000191</td>\n",
       "      <td>26.618546</td>\n",
       "      <td>23.163809</td>\n",
       "      <td>20.452226</td>\n",
       "      <td>20.223916</td>\n",
       "      <td>20.227606</td>\n",
       "      <td>20.164541</td>\n",
       "    </tr>\n",
       "    <tr>\n",
       "      <th>25%</th>\n",
       "      <td>6.104868</td>\n",
       "      <td>27.976921</td>\n",
       "      <td>25.507942</td>\n",
       "      <td>24.531768</td>\n",
       "      <td>24.504636</td>\n",
       "      <td>24.559612</td>\n",
       "      <td>24.386106</td>\n",
       "    </tr>\n",
       "    <tr>\n",
       "      <th>50%</th>\n",
       "      <td>6.244405</td>\n",
       "      <td>28.662272</td>\n",
       "      <td>26.856947</td>\n",
       "      <td>25.846617</td>\n",
       "      <td>25.823882</td>\n",
       "      <td>25.846930</td>\n",
       "      <td>25.666564</td>\n",
       "    </tr>\n",
       "    <tr>\n",
       "      <th>75%</th>\n",
       "      <td>6.469143</td>\n",
       "      <td>29.429633</td>\n",
       "      <td>27.855877</td>\n",
       "      <td>27.204031</td>\n",
       "      <td>27.190811</td>\n",
       "      <td>27.212475</td>\n",
       "      <td>26.946348</td>\n",
       "    </tr>\n",
       "    <tr>\n",
       "      <th>max</th>\n",
       "      <td>8.482816</td>\n",
       "      <td>35.495708</td>\n",
       "      <td>36.798806</td>\n",
       "      <td>35.672331</td>\n",
       "      <td>33.879891</td>\n",
       "      <td>34.514265</td>\n",
       "      <td>34.228085</td>\n",
       "    </tr>\n",
       "  </tbody>\n",
       "</table>\n",
       "</div>"
      ],
      "text/plain": [
       "                 z   i_LSST_mag   z_LSST_mag    Y_WFI_mag    J_WFI_mag  \\\n",
       "count  4270.000000  4270.000000  4270.000000  4270.000000  4270.000000   \n",
       "mean      6.334597    28.835404    26.798711    25.931247    25.903342   \n",
       "std       0.310122     1.238984     1.679970     1.773994     1.803031   \n",
       "min       6.000191    26.618546    23.163809    20.452226    20.223916   \n",
       "25%       6.104868    27.976921    25.507942    24.531768    24.504636   \n",
       "50%       6.244405    28.662272    26.856947    25.846617    25.823882   \n",
       "75%       6.469143    29.429633    27.855877    27.204031    27.190811   \n",
       "max       8.482816    35.495708    36.798806    35.672331    33.879891   \n",
       "\n",
       "         H_WFI_mag    F_WFI_mag  \n",
       "count  4270.000000  4270.000000  \n",
       "mean     25.938094    25.724927  \n",
       "std       1.796843     1.760516  \n",
       "min      20.227606    20.164541  \n",
       "25%      24.559612    24.386106  \n",
       "50%      25.846930    25.666564  \n",
       "75%      27.212475    26.946348  \n",
       "max      34.514265    34.228085  "
      ]
     },
     "execution_count": 18,
     "metadata": {},
     "output_type": "execute_result"
    }
   ],
   "source": [
    "# retrieve redshift for later usage\n",
    "qso_test = pd.read_csv('quasar_test_catalog.csv', index_col=False)\n",
    "qso_test = qso_test[['z', 'r_LSST_magerr', 'i_LSST_magerr', 'i_LSST_mag', 'z_LSST_mag', 'Y_WFI_mag', 'J_WFI_mag', 'H_WFI_mag', 'F_WFI_mag']]\n",
    "qso_test = qso_test.replace(99.99, np.nan).dropna()\n",
    "qso_test = qso_test[(qso_test['r_LSST_magerr']>0.2)&(qso_test['i_LSST_magerr']>0.2)]\n",
    "qso_test = qso_test.drop(columns=['r_LSST_magerr', 'i_LSST_magerr'])\n",
    "# qso_test = qso_test[(qso_test['z']>7.0)&(qso_test['z']<7.5)]\n",
    "qso_test.describe()"
   ]
  },
  {
   "cell_type": "code",
   "execution_count": 19,
   "id": "9ded7165-134d-47f1-84cb-65a22582370e",
   "metadata": {
    "execution": {
     "iopub.execute_input": "2023-09-27T05:08:54.187519Z",
     "iopub.status.busy": "2023-09-27T05:08:54.187230Z",
     "iopub.status.idle": "2023-09-27T05:08:59.196640Z",
     "shell.execute_reply": "2023-09-27T05:08:59.195443Z",
     "shell.execute_reply.started": "2023-09-27T05:08:54.187489Z"
    }
   },
   "outputs": [],
   "source": [
    "gal_test0 = pd.read_csv('Pq_test_etg_WFI_abmag_wl_117135_J180J255_1130_p0.csv', index_col=False)\n",
    "# gal_test0 = gal_test0.replace(99.99, np.nan).dropna()\n",
    "gal_test0 = gal_test0[['i_LSST_abmag', 'z_LSST_abmag', 'Y_WFI_abmag', 'J_WFI_abmag', 'H_WFI_abmag', 'F_WFI_abmag', 'index']]\n",
    "\n",
    "gal_test2 = pd.read_csv('Pq_test_etg_WFI_abmag_wl_117134_J180J255_1130_p2.csv', index_col=False)\n",
    "# gal_test2 = gal_test2.replace(99.989998, np.nan).dropna()\n",
    "gal_test2 = gal_test2[['i_LSST_abmag', 'z_LSST_abmag', 'Y_WFI_abmag', 'J_WFI_abmag', 'H_WFI_abmag', 'F_WFI_abmag', 'index']]\n",
    "\n",
    "gal_test3 = pd.read_csv('Pq_test_etg_WFI_abmag_wl_117134_J180J255_1130_p3.csv', index_col=False)\n",
    "# gal_test3 = gal_test3.replace(99.989998, np.nan).dropna()\n",
    "gal_test3 = gal_test3[['i_LSST_abmag', 'z_LSST_abmag', 'Y_WFI_abmag', 'J_WFI_abmag', 'H_WFI_abmag', 'F_WFI_abmag', 'index']]\n",
    "\n",
    "gal_test4 = pd.read_csv('Pq_test_etg_WFI_abmag_wl_117134_J180J255_1130_p4.csv', index_col=False)\n",
    "# gal_test4 = gal_test4.replace(99.989998, np.nan).dropna()\n",
    "gal_test4 = gal_test4[['i_LSST_abmag', 'z_LSST_abmag', 'Y_WFI_abmag', 'J_WFI_abmag', 'H_WFI_abmag', 'F_WFI_abmag', 'index']]\n",
    "\n",
    "gal_test5 = pd.read_csv('Pq_test_etg_WFI_abmag_wl_117134_J180J255_1130_p5.csv', index_col=False)\n",
    "# gal_test5 = gal_test5.replace(99.989998, np.nan).dropna()\n",
    "gal_test5 = gal_test5[['i_LSST_abmag', 'z_LSST_abmag', 'Y_WFI_abmag', 'J_WFI_abmag', 'H_WFI_abmag', 'F_WFI_abmag', 'index']]\n",
    "\n",
    "gal_test6 = pd.read_csv('Pq_test_etg_WFI_abmag_wl_117134_J180J255_1130_p6.csv', index_col=False)\n",
    "# gal_test6 = gal_test6.replace(99.989998\t, np.nan).dropna()\n",
    "gal_test6 = gal_test6[['i_LSST_abmag', 'z_LSST_abmag', 'Y_WFI_abmag', 'J_WFI_abmag', 'H_WFI_abmag', 'F_WFI_abmag', 'index']]\n",
    "\n",
    "gal_test7 = pd.read_csv('Pq_test_etg_WFI_abmag_wl_117134_J180J255_1130_p7.csv', index_col=False)\n",
    "# gal_test7 = gal_test7.replace(99.989998, np.nan).dropna()\n",
    "gal_test7 = gal_test7[['i_LSST_abmag', 'z_LSST_abmag', 'Y_WFI_abmag', 'J_WFI_abmag', 'H_WFI_abmag', 'F_WFI_abmag', 'index']]\n",
    "\n",
    "gal_test8 = pd.read_csv('Pq_test_etg_WFI_abmag_wl_117134_J180J255_1130_p8.csv', index_col=False)\n",
    "gal_test8 = gal_test8[['i_LSST_abmag', 'z_LSST_abmag', 'Y_WFI_abmag', 'J_WFI_abmag', 'H_WFI_abmag', 'F_WFI_abmag', 'index']]\n",
    "\n",
    "gal_test9 = pd.read_csv('Pq_test_etg_WFI_abmag_wl_117134_J180J255_1130_p9.csv', index_col=False)\n",
    "# gal_test9 = gal_test9.replace(99.989998, np.nan).dropna()\n",
    "gal_test9 = gal_test9[['i_LSST_abmag', 'z_LSST_abmag', 'Y_WFI_abmag', 'J_WFI_abmag', 'H_WFI_abmag', 'F_WFI_abmag', 'index']]\n",
    "\n",
    "gal_test = pd.concat([gal_test2, gal_test3, gal_test4, gal_test5, gal_test6, gal_test7, gal_test8, gal_test9], ignore_index=True)\n",
    "gal_test = gal_test.rename(columns={'i_LSST_abmag': 'i_LSST_mag', 'z_LSST_abmag': 'z_LSST_mag', 'Y_WFI_abmag': 'Y_WFI_mag', 'J_WFI_abmag': 'J_WFI_mag', 'H_WFI_abmag': 'H_WFI_mag', 'F_WFI_abmag': 'F_WFI_mag'})"
   ]
  },
  {
   "cell_type": "code",
   "execution_count": 20,
   "id": "96d82e5b-492b-44c8-92c3-90610b51c487",
   "metadata": {
    "execution": {
     "iopub.execute_input": "2023-09-27T05:08:59.198095Z",
     "iopub.status.busy": "2023-09-27T05:08:59.197841Z",
     "iopub.status.idle": "2023-09-27T05:08:59.397410Z",
     "shell.execute_reply": "2023-09-27T05:08:59.396394Z",
     "shell.execute_reply.started": "2023-09-27T05:08:59.198071Z"
    }
   },
   "outputs": [
    {
     "data": {
      "text/html": [
       "<div>\n",
       "<style scoped>\n",
       "    .dataframe tbody tr th:only-of-type {\n",
       "        vertical-align: middle;\n",
       "    }\n",
       "\n",
       "    .dataframe tbody tr th {\n",
       "        vertical-align: top;\n",
       "    }\n",
       "\n",
       "    .dataframe thead th {\n",
       "        text-align: right;\n",
       "    }\n",
       "</style>\n",
       "<table border=\"1\" class=\"dataframe\">\n",
       "  <thead>\n",
       "    <tr style=\"text-align: right;\">\n",
       "      <th></th>\n",
       "      <th>i_LSST_mag</th>\n",
       "      <th>z_LSST_mag</th>\n",
       "      <th>Y_WFI_mag</th>\n",
       "      <th>J_WFI_mag</th>\n",
       "      <th>H_WFI_mag</th>\n",
       "      <th>F_WFI_mag</th>\n",
       "    </tr>\n",
       "  </thead>\n",
       "  <tbody>\n",
       "    <tr>\n",
       "      <th>count</th>\n",
       "      <td>937072.000000</td>\n",
       "      <td>937072.000000</td>\n",
       "      <td>937072.000000</td>\n",
       "      <td>937072.000000</td>\n",
       "      <td>937072.000000</td>\n",
       "      <td>937072.000000</td>\n",
       "    </tr>\n",
       "    <tr>\n",
       "      <th>mean</th>\n",
       "      <td>28.351886</td>\n",
       "      <td>28.286000</td>\n",
       "      <td>25.968517</td>\n",
       "      <td>25.356040</td>\n",
       "      <td>25.199217</td>\n",
       "      <td>25.095960</td>\n",
       "    </tr>\n",
       "    <tr>\n",
       "      <th>std</th>\n",
       "      <td>5.406274</td>\n",
       "      <td>8.363648</td>\n",
       "      <td>0.213025</td>\n",
       "      <td>0.122607</td>\n",
       "      <td>0.153367</td>\n",
       "      <td>0.177582</td>\n",
       "    </tr>\n",
       "    <tr>\n",
       "      <th>min</th>\n",
       "      <td>27.173052</td>\n",
       "      <td>26.408033</td>\n",
       "      <td>24.979404</td>\n",
       "      <td>24.473455</td>\n",
       "      <td>24.240412</td>\n",
       "      <td>24.038563</td>\n",
       "    </tr>\n",
       "    <tr>\n",
       "      <th>25%</th>\n",
       "      <td>27.667616</td>\n",
       "      <td>26.955724</td>\n",
       "      <td>25.825436</td>\n",
       "      <td>25.295492</td>\n",
       "      <td>25.118233</td>\n",
       "      <td>24.993437</td>\n",
       "    </tr>\n",
       "    <tr>\n",
       "      <th>50%</th>\n",
       "      <td>27.830496</td>\n",
       "      <td>27.171208</td>\n",
       "      <td>25.965383</td>\n",
       "      <td>25.386971</td>\n",
       "      <td>25.223930</td>\n",
       "      <td>25.110626</td>\n",
       "    </tr>\n",
       "    <tr>\n",
       "      <th>75%</th>\n",
       "      <td>28.089520</td>\n",
       "      <td>27.515009</td>\n",
       "      <td>26.100325</td>\n",
       "      <td>25.449694</td>\n",
       "      <td>25.302738</td>\n",
       "      <td>25.213701</td>\n",
       "    </tr>\n",
       "    <tr>\n",
       "      <th>max</th>\n",
       "      <td>99.989998</td>\n",
       "      <td>99.989998</td>\n",
       "      <td>27.625261</td>\n",
       "      <td>25.500000</td>\n",
       "      <td>25.784363</td>\n",
       "      <td>25.946293</td>\n",
       "    </tr>\n",
       "  </tbody>\n",
       "</table>\n",
       "</div>"
      ],
      "text/plain": [
       "          i_LSST_mag     z_LSST_mag      Y_WFI_mag      J_WFI_mag  \\\n",
       "count  937072.000000  937072.000000  937072.000000  937072.000000   \n",
       "mean       28.351886      28.286000      25.968517      25.356040   \n",
       "std         5.406274       8.363648       0.213025       0.122607   \n",
       "min        27.173052      26.408033      24.979404      24.473455   \n",
       "25%        27.667616      26.955724      25.825436      25.295492   \n",
       "50%        27.830496      27.171208      25.965383      25.386971   \n",
       "75%        28.089520      27.515009      26.100325      25.449694   \n",
       "max        99.989998      99.989998      27.625261      25.500000   \n",
       "\n",
       "           H_WFI_mag      F_WFI_mag  \n",
       "count  937072.000000  937072.000000  \n",
       "mean       25.199217      25.095960  \n",
       "std         0.153367       0.177582  \n",
       "min        24.240412      24.038563  \n",
       "25%        25.118233      24.993437  \n",
       "50%        25.223930      25.110626  \n",
       "75%        25.302738      25.213701  \n",
       "max        25.784363      25.946293  "
      ]
     },
     "execution_count": 20,
     "metadata": {},
     "output_type": "execute_result"
    }
   ],
   "source": [
    "# gal_test = gal_test.sample(frac=0.15, random_state=42)\n",
    "gal_test.describe()"
   ]
  },
  {
   "cell_type": "code",
   "execution_count": 21,
   "id": "9f87ae08-108a-4afd-a196-275c8011dbc8",
   "metadata": {
    "execution": {
     "iopub.execute_input": "2023-09-27T05:08:59.398699Z",
     "iopub.status.busy": "2023-09-27T05:08:59.398463Z",
     "iopub.status.idle": "2023-09-27T05:09:04.742639Z",
     "shell.execute_reply": "2023-09-27T05:09:04.741642Z",
     "shell.execute_reply.started": "2023-09-27T05:08:59.398675Z"
    }
   },
   "outputs": [
    {
     "name": "stdout",
     "output_type": "stream",
     "text": [
      "mlt_test_catalog partial data description: \n"
     ]
    },
    {
     "data": {
      "text/html": [
       "<div>\n",
       "<style scoped>\n",
       "    .dataframe tbody tr th:only-of-type {\n",
       "        vertical-align: middle;\n",
       "    }\n",
       "\n",
       "    .dataframe tbody tr th {\n",
       "        vertical-align: top;\n",
       "    }\n",
       "\n",
       "    .dataframe thead th {\n",
       "        text-align: right;\n",
       "    }\n",
       "</style>\n",
       "<table border=\"1\" class=\"dataframe\">\n",
       "  <thead>\n",
       "    <tr style=\"text-align: right;\">\n",
       "      <th></th>\n",
       "      <th>spt</th>\n",
       "      <th>i_LSST_mag</th>\n",
       "      <th>z_LSST_mag</th>\n",
       "      <th>Y_WFI_mag</th>\n",
       "      <th>J_WFI_mag</th>\n",
       "      <th>H_WFI_mag</th>\n",
       "      <th>F_WFI_mag</th>\n",
       "      <th>z</th>\n",
       "    </tr>\n",
       "  </thead>\n",
       "  <tbody>\n",
       "    <tr>\n",
       "      <th>count</th>\n",
       "      <td>16164.000000</td>\n",
       "      <td>16164.000000</td>\n",
       "      <td>16164.000000</td>\n",
       "      <td>16164.000000</td>\n",
       "      <td>16164.000000</td>\n",
       "      <td>16164.000000</td>\n",
       "      <td>16164.000000</td>\n",
       "      <td>16164.0</td>\n",
       "    </tr>\n",
       "    <tr>\n",
       "      <th>mean</th>\n",
       "      <td>13.067001</td>\n",
       "      <td>27.294287</td>\n",
       "      <td>25.684152</td>\n",
       "      <td>24.222748</td>\n",
       "      <td>23.659324</td>\n",
       "      <td>23.357716</td>\n",
       "      <td>23.372401</td>\n",
       "      <td>0.0</td>\n",
       "    </tr>\n",
       "    <tr>\n",
       "      <th>std</th>\n",
       "      <td>2.983720</td>\n",
       "      <td>0.388016</td>\n",
       "      <td>0.231342</td>\n",
       "      <td>0.295505</td>\n",
       "      <td>0.317678</td>\n",
       "      <td>0.377004</td>\n",
       "      <td>0.388734</td>\n",
       "      <td>0.0</td>\n",
       "    </tr>\n",
       "    <tr>\n",
       "      <th>min</th>\n",
       "      <td>7.000000</td>\n",
       "      <td>26.601001</td>\n",
       "      <td>24.571247</td>\n",
       "      <td>22.301314</td>\n",
       "      <td>22.013013</td>\n",
       "      <td>21.873094</td>\n",
       "      <td>21.742619</td>\n",
       "      <td>0.0</td>\n",
       "    </tr>\n",
       "    <tr>\n",
       "      <th>25%</th>\n",
       "      <td>11.000000</td>\n",
       "      <td>27.036202</td>\n",
       "      <td>25.538164</td>\n",
       "      <td>24.027244</td>\n",
       "      <td>23.452812</td>\n",
       "      <td>23.114613</td>\n",
       "      <td>23.130337</td>\n",
       "      <td>0.0</td>\n",
       "    </tr>\n",
       "    <tr>\n",
       "      <th>50%</th>\n",
       "      <td>13.000000</td>\n",
       "      <td>27.206518</td>\n",
       "      <td>25.726646</td>\n",
       "      <td>24.225623</td>\n",
       "      <td>23.658451</td>\n",
       "      <td>23.360445</td>\n",
       "      <td>23.377344</td>\n",
       "      <td>0.0</td>\n",
       "    </tr>\n",
       "    <tr>\n",
       "      <th>75%</th>\n",
       "      <td>15.000000</td>\n",
       "      <td>27.458651</td>\n",
       "      <td>25.871890</td>\n",
       "      <td>24.418692</td>\n",
       "      <td>23.872214</td>\n",
       "      <td>23.612628</td>\n",
       "      <td>23.627727</td>\n",
       "      <td>0.0</td>\n",
       "    </tr>\n",
       "    <tr>\n",
       "      <th>max</th>\n",
       "      <td>29.000000</td>\n",
       "      <td>32.622297</td>\n",
       "      <td>25.999972</td>\n",
       "      <td>25.767020</td>\n",
       "      <td>25.011076</td>\n",
       "      <td>24.808649</td>\n",
       "      <td>25.154299</td>\n",
       "      <td>0.0</td>\n",
       "    </tr>\n",
       "  </tbody>\n",
       "</table>\n",
       "</div>"
      ],
      "text/plain": [
       "                spt    i_LSST_mag    z_LSST_mag     Y_WFI_mag     J_WFI_mag  \\\n",
       "count  16164.000000  16164.000000  16164.000000  16164.000000  16164.000000   \n",
       "mean      13.067001     27.294287     25.684152     24.222748     23.659324   \n",
       "std        2.983720      0.388016      0.231342      0.295505      0.317678   \n",
       "min        7.000000     26.601001     24.571247     22.301314     22.013013   \n",
       "25%       11.000000     27.036202     25.538164     24.027244     23.452812   \n",
       "50%       13.000000     27.206518     25.726646     24.225623     23.658451   \n",
       "75%       15.000000     27.458651     25.871890     24.418692     23.872214   \n",
       "max       29.000000     32.622297     25.999972     25.767020     25.011076   \n",
       "\n",
       "          H_WFI_mag     F_WFI_mag        z  \n",
       "count  16164.000000  16164.000000  16164.0  \n",
       "mean      23.357716     23.372401      0.0  \n",
       "std        0.377004      0.388734      0.0  \n",
       "min       21.873094     21.742619      0.0  \n",
       "25%       23.114613     23.130337      0.0  \n",
       "50%       23.360445     23.377344      0.0  \n",
       "75%       23.612628     23.627727      0.0  \n",
       "max       24.808649     25.154299      0.0  "
      ]
     },
     "execution_count": 21,
     "metadata": {},
     "output_type": "execute_result"
    }
   ],
   "source": [
    "mlt_test = read_data_partial('mlt_test_catalog_z.csv', 'mlt_test_catalog_z26.csv', 120000)\n",
    "mlt_test = mlt_test[['spt', 'r_LSST_magerr', 'i_LSST_magerr', 'i_LSST_mag', 'z_LSST_mag', 'Y_WFI_mag', 'J_WFI_mag', 'H_WFI_mag', 'F_WFI_mag']]\n",
    "mlt_test = mlt_test.replace(99.99, np.nan).dropna()\n",
    "mlt_test = mlt_test[(mlt_test['r_LSST_magerr']>0.2)&(mlt_test['i_LSST_magerr']>0.2)]\n",
    "mlt_test = mlt_test.drop(columns=['r_LSST_magerr', 'i_LSST_magerr'])\n",
    "mlt_test['z'] = np.zeros(mlt_test.shape[0])\n",
    "print('mlt_test_catalog partial data description: ')\n",
    "mlt_test.describe()"
   ]
  },
  {
   "cell_type": "code",
   "execution_count": 22,
   "id": "ca3f5941-cd81-4ee6-af14-6e901a953c64",
   "metadata": {
    "execution": {
     "iopub.execute_input": "2023-09-27T05:09:04.743943Z",
     "iopub.status.busy": "2023-09-27T05:09:04.743712Z",
     "iopub.status.idle": "2023-09-27T05:09:05.457869Z",
     "shell.execute_reply": "2023-09-27T05:09:05.456822Z",
     "shell.execute_reply.started": "2023-09-27T05:09:04.743915Z"
    }
   },
   "outputs": [],
   "source": [
    "qso_test_copy = qso_test.copy()\n",
    "qso_test_copy['label'] = np.ones(len(qso_test_copy))\n",
    "qso_test_copy['spt'] = np.zeros(len(qso_test_copy))\n",
    "gal_test_copy = gal_test.copy().replace([99.989998, 99.99], np.nan).dropna()\n",
    "gal_test_copy['label'] = np.zeros(len(gal_test_copy))\n",
    "gal_test_copy['spt'] = np.zeros(len(gal_test_copy))"
   ]
  },
  {
   "cell_type": "code",
   "execution_count": 23,
   "id": "2f479fd8-e899-4278-bdd2-1a862f5d145f",
   "metadata": {
    "execution": {
     "iopub.execute_input": "2023-09-27T05:09:05.462746Z",
     "iopub.status.busy": "2023-09-27T05:09:05.462480Z",
     "iopub.status.idle": "2023-09-27T05:09:05.969487Z",
     "shell.execute_reply": "2023-09-27T05:09:05.968426Z",
     "shell.execute_reply.started": "2023-09-27T05:09:05.462722Z"
    }
   },
   "outputs": [
    {
     "data": {
      "text/html": [
       "<div>\n",
       "<style scoped>\n",
       "    .dataframe tbody tr th:only-of-type {\n",
       "        vertical-align: middle;\n",
       "    }\n",
       "\n",
       "    .dataframe tbody tr th {\n",
       "        vertical-align: top;\n",
       "    }\n",
       "\n",
       "    .dataframe thead th {\n",
       "        text-align: right;\n",
       "    }\n",
       "</style>\n",
       "<table border=\"1\" class=\"dataframe\">\n",
       "  <thead>\n",
       "    <tr style=\"text-align: right;\">\n",
       "      <th></th>\n",
       "      <th>i_LSST_mag</th>\n",
       "      <th>z_LSST_mag</th>\n",
       "      <th>Y_WFI_mag</th>\n",
       "      <th>J_WFI_mag</th>\n",
       "      <th>H_WFI_mag</th>\n",
       "      <th>F_WFI_mag</th>\n",
       "      <th>label</th>\n",
       "    </tr>\n",
       "  </thead>\n",
       "  <tbody>\n",
       "    <tr>\n",
       "      <th>count</th>\n",
       "      <td>941342.000000</td>\n",
       "      <td>941342.000000</td>\n",
       "      <td>941342.000000</td>\n",
       "      <td>941342.000000</td>\n",
       "      <td>941342.000000</td>\n",
       "      <td>941342.000000</td>\n",
       "      <td>941342.000000</td>\n",
       "    </tr>\n",
       "    <tr>\n",
       "      <th>mean</th>\n",
       "      <td>28.354080</td>\n",
       "      <td>28.279254</td>\n",
       "      <td>25.968348</td>\n",
       "      <td>25.358523</td>\n",
       "      <td>25.202568</td>\n",
       "      <td>25.098813</td>\n",
       "      <td>0.004536</td>\n",
       "    </tr>\n",
       "    <tr>\n",
       "      <th>std</th>\n",
       "      <td>5.394742</td>\n",
       "      <td>8.346023</td>\n",
       "      <td>0.243827</td>\n",
       "      <td>0.176238</td>\n",
       "      <td>0.201301</td>\n",
       "      <td>0.217335</td>\n",
       "      <td>0.067198</td>\n",
       "    </tr>\n",
       "    <tr>\n",
       "      <th>min</th>\n",
       "      <td>26.618546</td>\n",
       "      <td>23.163809</td>\n",
       "      <td>20.452226</td>\n",
       "      <td>20.223916</td>\n",
       "      <td>20.227606</td>\n",
       "      <td>20.164541</td>\n",
       "      <td>0.000000</td>\n",
       "    </tr>\n",
       "    <tr>\n",
       "      <th>25%</th>\n",
       "      <td>27.667881</td>\n",
       "      <td>26.954671</td>\n",
       "      <td>25.824708</td>\n",
       "      <td>25.295176</td>\n",
       "      <td>25.117912</td>\n",
       "      <td>24.993095</td>\n",
       "      <td>0.000000</td>\n",
       "    </tr>\n",
       "    <tr>\n",
       "      <th>50%</th>\n",
       "      <td>27.831539</td>\n",
       "      <td>27.170879</td>\n",
       "      <td>25.965326</td>\n",
       "      <td>25.387072</td>\n",
       "      <td>25.224108</td>\n",
       "      <td>25.110809</td>\n",
       "      <td>0.000000</td>\n",
       "    </tr>\n",
       "    <tr>\n",
       "      <th>75%</th>\n",
       "      <td>28.092688</td>\n",
       "      <td>27.515767</td>\n",
       "      <td>26.100904</td>\n",
       "      <td>25.450016</td>\n",
       "      <td>25.303234</td>\n",
       "      <td>25.214422</td>\n",
       "      <td>0.000000</td>\n",
       "    </tr>\n",
       "    <tr>\n",
       "      <th>max</th>\n",
       "      <td>99.989998</td>\n",
       "      <td>99.989998</td>\n",
       "      <td>35.672331</td>\n",
       "      <td>33.879891</td>\n",
       "      <td>34.514265</td>\n",
       "      <td>34.228085</td>\n",
       "      <td>1.000000</td>\n",
       "    </tr>\n",
       "  </tbody>\n",
       "</table>\n",
       "</div>"
      ],
      "text/plain": [
       "          i_LSST_mag     z_LSST_mag      Y_WFI_mag      J_WFI_mag  \\\n",
       "count  941342.000000  941342.000000  941342.000000  941342.000000   \n",
       "mean       28.354080      28.279254      25.968348      25.358523   \n",
       "std         5.394742       8.346023       0.243827       0.176238   \n",
       "min        26.618546      23.163809      20.452226      20.223916   \n",
       "25%        27.667881      26.954671      25.824708      25.295176   \n",
       "50%        27.831539      27.170879      25.965326      25.387072   \n",
       "75%        28.092688      27.515767      26.100904      25.450016   \n",
       "max        99.989998      99.989998      35.672331      33.879891   \n",
       "\n",
       "           H_WFI_mag      F_WFI_mag          label  \n",
       "count  941342.000000  941342.000000  941342.000000  \n",
       "mean       25.202568      25.098813       0.004536  \n",
       "std         0.201301       0.217335       0.067198  \n",
       "min        20.227606      20.164541       0.000000  \n",
       "25%        25.117912      24.993095       0.000000  \n",
       "50%        25.224108      25.110809       0.000000  \n",
       "75%        25.303234      25.214422       0.000000  \n",
       "max        34.514265      34.228085       1.000000  "
      ]
     },
     "execution_count": 23,
     "metadata": {},
     "output_type": "execute_result"
    }
   ],
   "source": [
    "mlt_test_copy = mlt_test.copy()\n",
    "mlt_test_copy['label'] = np.zeros(len(mlt_test_copy))\n",
    "# test0 = pd.concat([qso_test_copy, gal_test_copy, mlt_test_copy], ignore_index=True)\n",
    "test0 = pd.concat([qso_test_copy, gal_test_copy], ignore_index=True)\n",
    "test = test0[['i_LSST_mag', 'z_LSST_mag', 'Y_WFI_mag', 'J_WFI_mag', 'H_WFI_mag', 'F_WFI_mag', 'label']]\n",
    "test.describe()"
   ]
  },
  {
   "cell_type": "code",
   "execution_count": 24,
   "id": "2001c40c-472f-4da7-8f04-058ec8c1e529",
   "metadata": {
    "execution": {
     "iopub.execute_input": "2023-09-27T05:09:05.971593Z",
     "iopub.status.busy": "2023-09-27T05:09:05.971357Z",
     "iopub.status.idle": "2023-09-27T05:09:06.081148Z",
     "shell.execute_reply": "2023-09-27T05:09:06.080343Z",
     "shell.execute_reply.started": "2023-09-27T05:09:05.971569Z"
    }
   },
   "outputs": [],
   "source": [
    "test_copy = test.copy()\n",
    "test_copy = test_copy[test_copy['z_LSST_mag'] > 24.0]\n",
    "test_copy = test_copy[test_copy['z_LSST_mag'] < 26.0]"
   ]
  },
  {
   "cell_type": "code",
   "execution_count": 25,
   "id": "87a4ce6e-b8e8-47c1-a8f9-bb16eb73362d",
   "metadata": {
    "execution": {
     "iopub.execute_input": "2023-09-27T05:09:06.082697Z",
     "iopub.status.busy": "2023-09-27T05:09:06.082384Z",
     "iopub.status.idle": "2023-09-27T05:09:06.088457Z",
     "shell.execute_reply": "2023-09-27T05:09:06.087525Z",
     "shell.execute_reply.started": "2023-09-27T05:09:06.082672Z"
    }
   },
   "outputs": [
    {
     "name": "stdout",
     "output_type": "stream",
     "text": [
      "1344\n"
     ]
    }
   ],
   "source": [
    "print(len(test_copy[test_copy['label'] == 1]))"
   ]
  },
  {
   "cell_type": "code",
   "execution_count": 26,
   "id": "891a1590-bf5c-4893-9cc3-9f64e3b2800e",
   "metadata": {
    "execution": {
     "iopub.execute_input": "2023-09-27T05:09:06.089824Z",
     "iopub.status.busy": "2023-09-27T05:09:06.089539Z",
     "iopub.status.idle": "2023-09-27T05:09:06.096039Z",
     "shell.execute_reply": "2023-09-27T05:09:06.094996Z",
     "shell.execute_reply.started": "2023-09-27T05:09:06.089798Z"
    }
   },
   "outputs": [
    {
     "name": "stdout",
     "output_type": "stream",
     "text": [
      "1344\n"
     ]
    }
   ],
   "source": [
    "print(len(test_copy))"
   ]
  },
  {
   "cell_type": "code",
   "execution_count": null,
   "id": "970263e6-6827-4b7e-9a79-e2edd362bfa5",
   "metadata": {},
   "outputs": [],
   "source": []
  },
  {
   "cell_type": "code",
   "execution_count": null,
   "id": "59b5cabd-37c6-4fdc-86c5-7cc44f3987b8",
   "metadata": {},
   "outputs": [],
   "source": []
  },
  {
   "cell_type": "markdown",
   "id": "154bf445-e7ef-4c4d-a4e1-0756b242e1c7",
   "metadata": {},
   "source": [
    "### Apply the filters to the entire test catalog"
   ]
  },
  {
   "cell_type": "code",
   "execution_count": 27,
   "id": "b91dedce-c04c-44a3-98bf-29b7ed7750fe",
   "metadata": {
    "execution": {
     "iopub.execute_input": "2023-09-27T05:09:06.097474Z",
     "iopub.status.busy": "2023-09-27T05:09:06.096988Z",
     "iopub.status.idle": "2023-09-27T05:09:06.178934Z",
     "shell.execute_reply": "2023-09-27T05:09:06.177955Z",
     "shell.execute_reply.started": "2023-09-27T05:09:06.097448Z"
    }
   },
   "outputs": [
    {
     "name": "stdout",
     "output_type": "stream",
     "text": [
      "# of quasars in 24 < z < 26: 1344\n",
      "# of quasars in the entire test catalog: 4270\n"
     ]
    }
   ],
   "source": [
    "test0c = test0.copy()\n",
    "print('# of quasars in 24 < z < 26:', len(test_copy[test_copy['label'] == 1]))\n",
    "print('# of quasars in the entire test catalog:', len(test0c[test0c['label'] == 1]))"
   ]
  },
  {
   "cell_type": "code",
   "execution_count": 28,
   "id": "a1b47ee2-a05b-4af3-91f7-bf0c3224b8c0",
   "metadata": {
    "execution": {
     "iopub.execute_input": "2023-09-27T05:09:06.180313Z",
     "iopub.status.busy": "2023-09-27T05:09:06.180051Z",
     "iopub.status.idle": "2023-09-27T05:09:20.049339Z",
     "shell.execute_reply": "2023-09-27T05:09:20.047959Z",
     "shell.execute_reply.started": "2023-09-27T05:09:06.180288Z"
    }
   },
   "outputs": [],
   "source": [
    "# x: z - J\n",
    "# y: Y - H\n",
    "testf_1a = [test0c['z_LSST_mag']-test0c['J_WFI_mag'], test0c['Y_WFI_mag']-test0c['H_WFI_mag']]\n",
    "\n",
    "prob_1a = filter1a.predict_proba(np.array(testf_1a).transpose())\n",
    "\n",
    "test0c['prob_1a'] = prob_1a[:, 1]"
   ]
  },
  {
   "cell_type": "code",
   "execution_count": 29,
   "id": "ec609b33-334d-4f05-8caf-828f78fd7335",
   "metadata": {
    "execution": {
     "iopub.execute_input": "2023-09-27T05:09:20.051079Z",
     "iopub.status.busy": "2023-09-27T05:09:20.050783Z",
     "iopub.status.idle": "2023-09-27T05:09:33.509986Z",
     "shell.execute_reply": "2023-09-27T05:09:33.509001Z",
     "shell.execute_reply.started": "2023-09-27T05:09:20.051052Z"
    }
   },
   "outputs": [],
   "source": [
    "# x: Y - H \n",
    "# y: i - H\n",
    "\n",
    "prob_1b = filter1b.predict_proba(np.array([test0c['Y_WFI_mag']-test0c['H_WFI_mag'], test0c['i_LSST_mag']-test0c['H_WFI_mag']]).transpose())\n",
    "\n",
    "test0c['prob_1b'] = prob_1b[:, 1]"
   ]
  },
  {
   "cell_type": "code",
   "execution_count": 30,
   "id": "b71d75c5-3ad7-44ee-9138-f811e78fcbbc",
   "metadata": {
    "execution": {
     "iopub.execute_input": "2023-09-27T05:09:33.511540Z",
     "iopub.status.busy": "2023-09-27T05:09:33.511236Z",
     "iopub.status.idle": "2023-09-27T05:10:05.492490Z",
     "shell.execute_reply": "2023-09-27T05:10:05.491468Z",
     "shell.execute_reply.started": "2023-09-27T05:09:33.511516Z"
    }
   },
   "outputs": [],
   "source": [
    "# x: z - H\n",
    "# y: J - H\n",
    "\n",
    "prob_1c = filter1c.predict_proba(np.array([test0c['z_LSST_mag']-test0c['H_WFI_mag'], test0c['J_WFI_mag']-test0c['H_WFI_mag']]).transpose())\n",
    "\n",
    "test0c['prob_1c'] = prob_1c[:, 1]"
   ]
  },
  {
   "cell_type": "code",
   "execution_count": 31,
   "id": "42cd1297-f1ca-4ea7-85cf-28b5e8a85087",
   "metadata": {
    "execution": {
     "iopub.execute_input": "2023-09-27T05:10:05.493821Z",
     "iopub.status.busy": "2023-09-27T05:10:05.493551Z",
     "iopub.status.idle": "2023-09-27T05:10:49.824129Z",
     "shell.execute_reply": "2023-09-27T05:10:49.822589Z",
     "shell.execute_reply.started": "2023-09-27T05:10:05.493796Z"
    }
   },
   "outputs": [],
   "source": [
    "# x: z - Y\n",
    "# y: i - Y\n",
    "\n",
    "prob_1d = filter1d.predict_proba(np.array([test0c['z_LSST_mag']-test0c['Y_WFI_mag'], test0c['i_LSST_mag']-test0c['Y_WFI_mag']]).transpose())\n",
    "\n",
    "test0c['prob_1d'] = prob_1d[:, 1]"
   ]
  },
  {
   "cell_type": "code",
   "execution_count": null,
   "id": "bb75f23b-edf8-4efa-b1d7-5804e4c1feaa",
   "metadata": {
    "execution": {
     "iopub.execute_input": "2023-09-27T05:10:49.826030Z",
     "iopub.status.busy": "2023-09-27T05:10:49.825670Z"
    }
   },
   "outputs": [],
   "source": [
    "# x: Y - J\n",
    "# y: J - H\n",
    "\n",
    "prob_1e = filter1e.predict_proba(np.array([test0c['Y_WFI_mag']-test0c['J_WFI_mag'], test0c['J_WFI_mag']-test0c['H_WFI_mag']]).transpose())\n",
    "\n",
    "test0c['prob_1e'] = prob_1e[:, 1]"
   ]
  },
  {
   "cell_type": "code",
   "execution_count": null,
   "id": "0ca2cf7d-a3e8-4760-b17e-9346903ed6b5",
   "metadata": {},
   "outputs": [],
   "source": [
    "# x: i - Y\n",
    "# y: J - H\n",
    "\n",
    "prob_1f = filter1f.predict_proba(np.array([test0c['i_LSST_mag']-test0c['Y_WFI_mag'], test0c['J_WFI_mag']-test0c['H_WFI_mag']]).transpose())\n",
    "\n",
    "test0c['prob_1f'] = prob_1f[:, 1]"
   ]
  },
  {
   "cell_type": "code",
   "execution_count": null,
   "id": "f2fab5d7-8cba-4149-a52a-b0c55156c04b",
   "metadata": {},
   "outputs": [],
   "source": []
  },
  {
   "cell_type": "code",
   "execution_count": null,
   "id": "4dccc9ec-7aca-4d74-90d7-52c2931f6dd9",
   "metadata": {},
   "outputs": [],
   "source": [
    "# use best scores as weights:\n",
    "weights = [0.9882, 0.9938, 0.9463, 0.9678, 0.95, 0.9161]\n",
    "probabilities = test0c[['prob_1a', 'prob_1b', 'prob_1c', 'prob_1d', 'prob_1e', 'prob_1f']]\n",
    "cols = ['prob_1a', 'prob_1b', 'prob_1c', 'prob_1d', 'prob_1e', 'prob_1f']\n",
    "\n",
    "wprob = np.zeros(len(probabilities['prob_1a']))\n",
    "for i in range(len(weights)):\n",
    "    sum_weights = sum(weights)\n",
    "    wprob += weights[i]*probabilities[cols[i]]/sum_weights\n",
    "\n",
    "print(wprob.shape)"
   ]
  },
  {
   "cell_type": "code",
   "execution_count": null,
   "id": "b5a2be46-95a8-4ffd-8766-2b874fda9fad",
   "metadata": {},
   "outputs": [],
   "source": [
    "test0c['weighted prob'] = wprob\n",
    "test0c.head()"
   ]
  },
  {
   "cell_type": "code",
   "execution_count": null,
   "id": "8941ed84-3d52-49a9-8887-9673f242d4a4",
   "metadata": {},
   "outputs": [],
   "source": []
  },
  {
   "cell_type": "code",
   "execution_count": null,
   "id": "38636c57-8f89-4236-b1ca-79bbeda9ffcb",
   "metadata": {},
   "outputs": [],
   "source": [
    "pred_qso = test0c[test0c['weighted prob'] > 0.6]\n",
    "pred_qso.describe()"
   ]
  },
  {
   "cell_type": "code",
   "execution_count": null,
   "id": "a15f96a0-5565-4207-b87a-4d5aaa602195",
   "metadata": {},
   "outputs": [],
   "source": [
    "tp = pred_qso.merge(qso_test)\n",
    "# tp = tp.drop(columns=['z_LSST_magerr', 'spt', 'i_LSST_mag'])\n",
    "tp.describe()"
   ]
  },
  {
   "cell_type": "code",
   "execution_count": null,
   "id": "78eed018-c7b0-4aec-af49-87c993303acb",
   "metadata": {},
   "outputs": [],
   "source": [
    "print('redshift distribution of TP:')\n",
    "plt.hist(tp['z'])"
   ]
  },
  {
   "cell_type": "code",
   "execution_count": null,
   "id": "939b6cb2-dd82-4234-b0e9-2ae0de9bb6a2",
   "metadata": {},
   "outputs": [],
   "source": [
    "# false positive: the difference between tp and pred positive\n",
    "fp = pd.merge(tp, pred_qso, on=['z_LSST_mag', 'Y_WFI_mag', 'J_WFI_mag', 'H_WFI_mag', 'F_WFI_mag'], how='outer', indicator=True).query(\"_merge != 'both'\").drop('_merge', axis=1).reset_index(drop=True)"
   ]
  },
  {
   "cell_type": "code",
   "execution_count": null,
   "id": "c50e0196-1a0f-42be-a679-89a337e005cf",
   "metadata": {},
   "outputs": [],
   "source": [
    "fp.describe()"
   ]
  },
  {
   "cell_type": "code",
   "execution_count": null,
   "id": "6cb7d06f-4245-4b16-83f1-bdf9eb1ab326",
   "metadata": {},
   "outputs": [],
   "source": [
    "fp = fp.drop(columns=['label_x', 'z_x', 'label_x', 'weighted prob_x', 'prob_1a_x', 'prob_1b_x' , 'prob_1c_x', 'prob_1d_x', 'prob_1e_x', 'prob_1f_x'])\n",
    "fp.rename(columns={'label_y': 'label', 'spt_y': 'spt', 'weighted prob_y':'weighted_prob', 'z_y': 'z'}, inplace=True)\n",
    "fp.describe()"
   ]
  },
  {
   "cell_type": "code",
   "execution_count": null,
   "id": "a75c47b3-f860-4036-bb84-6fc3089b89b1",
   "metadata": {},
   "outputs": [],
   "source": [
    "print('spectral type distribution of FP:')\n",
    "plt.hist(fp['spt'])"
   ]
  },
  {
   "cell_type": "code",
   "execution_count": null,
   "id": "41e5d7b5-e7e1-47cc-9949-c36a3ea145c2",
   "metadata": {},
   "outputs": [],
   "source": [
    "plt.hist(fp['J_WFI_mag'], fill=False, edgecolor='green', label='gal')\n",
    "\n",
    "plt.xlabel('J band')\n",
    "plt.ylabel('log(number)')\n",
    "plt.yscale('log')\n",
    "plt.title('FP distribution')\n",
    "plt.legend()\n",
    "plt.show()"
   ]
  },
  {
   "cell_type": "code",
   "execution_count": null,
   "id": "edc3359b-9081-48b0-b11b-d03e9137090b",
   "metadata": {},
   "outputs": [],
   "source": [
    "# false negative: the difference between all positive and true positive\n",
    "fn = pd.merge(tp, qso_test, on=['i_LSST_mag', 'z_LSST_mag', 'Y_WFI_mag', 'J_WFI_mag', 'H_WFI_mag', 'F_WFI_mag'], how='outer', indicator=True).query(\"_merge != 'both'\").drop('_merge', axis=1).reset_index(drop=True)\n",
    "fn = fn.drop(columns=['z_x'])\n",
    "fn = fn.rename(columns={'z_y':'z'})\n",
    "fn.describe()"
   ]
  },
  {
   "cell_type": "code",
   "execution_count": null,
   "id": "eb142d21-367b-49a9-b44f-7786d9d9bac7",
   "metadata": {},
   "outputs": [],
   "source": [
    "print('redshift distribution of FN:')\n",
    "plt.hist(fn['z'])"
   ]
  },
  {
   "cell_type": "code",
   "execution_count": null,
   "id": "e4ca1176-000d-4ff7-adad-b87acc0aff5e",
   "metadata": {},
   "outputs": [],
   "source": [
    "print('w/ snr constraints, probability prediction results:\\n')\n",
    "print('precision:', round(tp.shape[0]/(tp.shape[0]+fp.shape[0]), 4))\n",
    "print('recall:', round(tp.shape[0]/(tp.shape[0]+fn.shape[0]), 4))"
   ]
  },
  {
   "cell_type": "code",
   "execution_count": null,
   "id": "86539cb2-9427-4ce1-a805-722267c3b5b8",
   "metadata": {},
   "outputs": [],
   "source": [
    "hist11, bins11, _ = plt.hist(qso_test['z'], bins=20, fill=False, label='qso test data', edgecolor='blue')\n",
    "hist21, bins21, _ = plt.hist(tp['z'], bins11, fill=False, label='TP (threshold=0.6)', edgecolor='green')\n",
    "print('bins:', bins11)\n",
    "print('test qso: #/bin:', hist11)\n",
    "print('test qso: #/bin:', hist21)\n",
    "plt.xlabel('redshift')\n",
    "plt.ylabel('log(number)')\n",
    "plt.yscale('log')\n",
    "plt.legend()\n",
    "plt.show()\n",
    "\n",
    "ratio = hist21/hist11\n",
    "plt.bar(bins11[:-1], ratio, width=(bins11[1] - bins11[0]), alpha=0.5, label='Density Ratios', fill=False)\n",
    "plt.xlabel('redshift')\n",
    "plt.ylabel('completeness')\n",
    "plt.show()"
   ]
  },
  {
   "cell_type": "code",
   "execution_count": null,
   "id": "be7b661f-ff6e-4bf4-a88b-1ab0f3ce9643",
   "metadata": {},
   "outputs": [],
   "source": [
    "plt.hist(tp['z_LSST_mag'], bins=20, label='TP')\n",
    "plt.hist(fn['z_LSST_mag'], bins=20, label='FN', fill=False, edgecolor='orange')\n",
    "\n",
    "plt.xlabel('z band mag')\n",
    "plt.ylabel('# of quasars')\n",
    "plt.title('entire test catalog (z)')\n",
    "plt.legend()\n",
    "plt.show()"
   ]
  },
  {
   "cell_type": "code",
   "execution_count": null,
   "id": "93234c80-9f44-464d-8ce5-02e2ed0f9b2d",
   "metadata": {},
   "outputs": [],
   "source": [
    "plt.hist(tp['z_LSST_mag'], bins=20, label='TP')\n",
    "plt.hist(fn['z_LSST_mag'], bins=20, label='FN', fill=False, edgecolor='orange')\n",
    "\n",
    "plt.xlabel('z band mag')\n",
    "plt.ylabel('# of quasars')\n",
    "plt.title('entire test catalog (z)')\n",
    "plt.xlim(22.0, 26.0)\n",
    "plt.legend()\n",
    "plt.show()"
   ]
  },
  {
   "cell_type": "code",
   "execution_count": null,
   "id": "312415f9-8b09-4c28-b1aa-eff4646f45eb",
   "metadata": {},
   "outputs": [],
   "source": [
    "plt.hist(tp[(tp['z_LSST_mag']>24.0)&(tp['z_LSST_mag']<26.0)]['z_LSST_mag'], label='TP')\n",
    "plt.hist(fn[(fn['z_LSST_mag']>24.0)&(fn['z_LSST_mag']<26.0)]['z_LSST_mag'], label='FN', fill=False, edgecolor='orange')\n",
    "\n",
    "plt.xlabel('z band mag')\n",
    "plt.ylabel('# of quasars')\n",
    "plt.title('entire test catalog (z)')\n",
    "plt.legend()\n",
    "plt.show()"
   ]
  },
  {
   "cell_type": "code",
   "execution_count": null,
   "id": "42ba0f04-f678-4985-92a3-725cbdb14373",
   "metadata": {},
   "outputs": [],
   "source": [
    "plt.hist(tp[(tp['z_LSST_mag']>23.0)&(tp['z_LSST_mag']<26.0)]['z_LSST_mag'], label='TP')\n",
    "plt.hist(fn[(fn['z_LSST_mag']>23.0)&(fn['z_LSST_mag']<26.0)]['z_LSST_mag'], label='FN', fill=False, edgecolor='orange')\n",
    "\n",
    "plt.xlabel('z band mag')\n",
    "plt.ylabel('# of quasars')\n",
    "plt.title('entire test catalog (z)')\n",
    "plt.legend()\n",
    "plt.show()"
   ]
  },
  {
   "cell_type": "code",
   "execution_count": null,
   "id": "932be17b-4514-468e-9491-2b975c495ada",
   "metadata": {},
   "outputs": [],
   "source": [
    "plt.hist(qso_test['J_WFI_mag'], bins=20, label='quasars')\n",
    "\n",
    "plt.xlabel('J band mag')\n",
    "plt.ylabel('# of quasars')\n",
    "plt.title('entire test catalog (J)')\n",
    "plt.legend()\n",
    "plt.show()"
   ]
  },
  {
   "cell_type": "code",
   "execution_count": null,
   "id": "d0b1ea32-522c-48f0-a781-4760f7d14385",
   "metadata": {},
   "outputs": [],
   "source": [
    "plt.hist(tp['J_WFI_mag'], bins=20, label='TP')\n",
    "\n",
    "plt.xlabel('J band mag')\n",
    "plt.ylabel('# of quasars')\n",
    "plt.title('entire test catalog (J)')\n",
    "plt.legend()\n",
    "plt.show()"
   ]
  },
  {
   "cell_type": "code",
   "execution_count": null,
   "id": "332b9fcf-6e54-460f-9fc6-1daca112df88",
   "metadata": {},
   "outputs": [],
   "source": [
    "hist11, bins11, _ = plt.hist(qso_test[qso_test['J_WFI_mag'] < 26.2]['z'], bins=20, fill=False, label='qso test data', edgecolor='blue')\n",
    "hist21, bins21, _ = plt.hist(tp[tp['J_WFI_mag'] < 26.2]['z'], bins11, fill=False, label='TP (threshold=0.6)', edgecolor='green')\n",
    "print('bins:', bins11)\n",
    "print('test qso: #/bin:', hist11)\n",
    "print('test qso: #/bin:', hist21)\n",
    "plt.xlabel('redshift')\n",
    "plt.ylabel('log(number)')\n",
    "plt.yscale('log')\n",
    "plt.legend()\n",
    "plt.show()\n",
    "\n",
    "ratio = hist21/hist11\n",
    "plt.bar(bins11[:-1], ratio, width=(bins11[1] - bins11[0]), alpha=0.5, label='Density Ratios', fill=False)\n",
    "plt.xlabel('redshift')\n",
    "plt.ylabel('completeness')\n",
    "plt.title('J < 26.2')\n",
    "plt.show()"
   ]
  },
  {
   "cell_type": "code",
   "execution_count": 104,
   "id": "0355039f-1a8e-4a00-897f-028997bbcf63",
   "metadata": {
    "execution": {
     "iopub.execute_input": "2023-08-26T00:15:36.035106Z",
     "iopub.status.busy": "2023-08-26T00:15:36.034872Z",
     "iopub.status.idle": "2023-08-26T00:15:36.047032Z",
     "shell.execute_reply": "2023-08-26T00:15:36.046170Z",
     "shell.execute_reply.started": "2023-08-26T00:15:36.035083Z"
    }
   },
   "outputs": [
    {
     "name": "stdout",
     "output_type": "stream",
     "text": [
      "w snr constraints, probability prediction results, J < 26.2:\n",
      "\n",
      "precision: 0.4373\n",
      "recall: 0.9385\n"
     ]
    }
   ],
   "source": [
    "print('w snr constraints, probability prediction results, J < 26.2:\\n')\n",
    "print('precision:', round(tp[tp['J_WFI_mag'] < 26.2].shape[0]/(tp[tp['J_WFI_mag'] < 26.2].shape[0]+fp[fp['J_WFI_mag'] < 26.2].shape[0]), 4))\n",
    "print('recall:', round(tp[tp['J_WFI_mag'] < 26.2].shape[0]/(tp[tp['J_WFI_mag'] < 26.2].shape[0]+fn[fn['J_WFI_mag'] < 26.2].shape[0]), 4))"
   ]
  },
  {
   "cell_type": "code",
   "execution_count": 105,
   "id": "a7ad83b8-56a0-475e-a57c-ce96cdf0f198",
   "metadata": {
    "execution": {
     "iopub.execute_input": "2023-08-26T00:15:36.048244Z",
     "iopub.status.busy": "2023-08-26T00:15:36.048022Z",
     "iopub.status.idle": "2023-08-26T00:15:36.233648Z",
     "shell.execute_reply": "2023-08-26T00:15:36.232728Z",
     "shell.execute_reply.started": "2023-08-26T00:15:36.048221Z"
    }
   },
   "outputs": [
    {
     "data": {
      "image/png": "[encoded data removed]",
      "text/plain": [
       "<Figure size 432x288 with 1 Axes>"
      ]
     },
     "metadata": {
      "needs_background": "light"
     },
     "output_type": "display_data"
    }
   ],
   "source": [
    "plt.hist(tp[tp['J_WFI_mag']<25.0]['J_WFI_mag'], label='TP')\n",
    "plt.xlabel('J band')\n",
    "plt.legend()\n",
    "plt.show()"
   ]
  },
  {
   "cell_type": "code",
   "execution_count": 106,
   "id": "abd7b250-c06a-44d2-9d4e-11229825d4d3",
   "metadata": {
    "execution": {
     "iopub.execute_input": "2023-08-26T00:15:36.234848Z",
     "iopub.status.busy": "2023-08-26T00:15:36.234588Z",
     "iopub.status.idle": "2023-08-26T00:15:36.241002Z",
     "shell.execute_reply": "2023-08-26T00:15:36.239810Z",
     "shell.execute_reply.started": "2023-08-26T00:15:36.234824Z"
    }
   },
   "outputs": [],
   "source": [
    "def precision(TP, FP, FN, val):\n",
    "    return round(TP[TP['J_WFI_mag']<val].shape[0]/(TP[TP['J_WFI_mag']<val].shape[0]+FP[FP['J_WFI_mag']<val].shape[0]), 4)\n",
    "\n",
    "\n",
    "def recall(TP, FP, FN, val=25.0):\n",
    "    return round(TP[TP['J_WFI_mag']<val].shape[0]/(TP[TP['J_WFI_mag']<val].shape[0]+FN[FN['J_WFI_mag']<val].shape[0]), 4)"
   ]
  },
  {
   "cell_type": "code",
   "execution_count": 107,
   "id": "81c32786-73c3-4c5c-affc-e9576491c98f",
   "metadata": {
    "execution": {
     "iopub.execute_input": "2023-08-26T00:15:36.242500Z",
     "iopub.status.busy": "2023-08-26T00:15:36.242069Z",
     "iopub.status.idle": "2023-08-26T00:15:36.256172Z",
     "shell.execute_reply": "2023-08-26T00:15:36.255183Z",
     "shell.execute_reply.started": "2023-08-26T00:15:36.242475Z"
    }
   },
   "outputs": [
    {
     "name": "stdout",
     "output_type": "stream",
     "text": [
      "# of TP at J < 24.5: 1047\n",
      "# of FP at J < 24.5: 43\n",
      "# of FN at J < 24.5: 14\n",
      "precision score at J < 24.5:  0.9606\n",
      "recall score at J < 24.5:  0.9868\n"
     ]
    }
   ],
   "source": [
    "print('# of TP at J < 24.5:', tp[tp['J_WFI_mag'] < 24.5].shape[0])\n",
    "print('# of FP at J < 24.5:', fp[fp['J_WFI_mag'] < 24.5].shape[0])\n",
    "print('# of FN at J < 24.5:', fn[fn['J_WFI_mag'] < 24.5].shape[0])\n",
    "print('precision score at J < 24.5: ', precision(tp, fp, fn, 24.5))\n",
    "print('recall score at J < 24.5: ', recall(tp, fp, fn, 24.5))"
   ]
  },
  {
   "cell_type": "code",
   "execution_count": 108,
   "id": "5b668ebc-f742-4bbe-b4d4-1e1693cfb0a9",
   "metadata": {
    "execution": {
     "iopub.execute_input": "2023-08-26T00:15:36.257512Z",
     "iopub.status.busy": "2023-08-26T00:15:36.257151Z",
     "iopub.status.idle": "2023-08-26T00:15:36.270718Z",
     "shell.execute_reply": "2023-08-26T00:15:36.269842Z",
     "shell.execute_reply.started": "2023-08-26T00:15:36.257488Z"
    }
   },
   "outputs": [
    {
     "name": "stdout",
     "output_type": "stream",
     "text": [
      "# of TP at J < 25.0: 1453\n",
      "# of FP at J < 25.0: 45\n",
      "# of FN at J < 25.0: 23\n",
      "precision score at J < 25.0:  0.97\n",
      "recall score at J < 25.0:  0.9844\n"
     ]
    }
   ],
   "source": [
    "print('# of TP at J < 25.0:', tp[tp['J_WFI_mag'] < 25.0].shape[0])\n",
    "print('# of FP at J < 25.0:', fp[fp['J_WFI_mag'] < 25.0].shape[0])\n",
    "print('# of FN at J < 25.0:', fn[fn['J_WFI_mag'] < 25.0].shape[0])\n",
    "print('precision score at J < 25.0: ', precision(tp, fp, fn, 25.0))\n",
    "print('recall score at J < 25.0: ', recall(tp, fp, fn, 25.0))"
   ]
  },
  {
   "cell_type": "code",
   "execution_count": 109,
   "id": "cdc3a7b5-571d-4929-84a3-0a4feb83ee57",
   "metadata": {
    "execution": {
     "iopub.execute_input": "2023-08-26T00:15:36.271989Z",
     "iopub.status.busy": "2023-08-26T00:15:36.271709Z",
     "iopub.status.idle": "2023-08-26T00:15:36.285088Z",
     "shell.execute_reply": "2023-08-26T00:15:36.284211Z",
     "shell.execute_reply.started": "2023-08-26T00:15:36.271940Z"
    }
   },
   "outputs": [
    {
     "name": "stdout",
     "output_type": "stream",
     "text": [
      "# of TP at J < 25.5: 1830\n",
      "# of FP at J < 25.5: 2948\n",
      "# of FN at J < 25.5: 49\n",
      "precision score at J < 25.5:  0.383\n",
      "recall score at J < 25.5:  0.9739\n"
     ]
    }
   ],
   "source": [
    "print('# of TP at J < 25.5:', tp[tp['J_WFI_mag'] < 25.5].shape[0])\n",
    "print('# of FP at J < 25.5:', fp[fp['J_WFI_mag'] < 25.5].shape[0])\n",
    "print('# of FN at J < 25.5:', fn[fn['J_WFI_mag'] < 25.5].shape[0])\n",
    "print('precision score at J < 25.5: ', precision(tp, fp, fn, 25.5))\n",
    "print('recall score at J < 25.5: ', recall(tp, fp, fn, 25.5))"
   ]
  },
  {
   "cell_type": "code",
   "execution_count": 110,
   "id": "66c6b828-b576-47c0-8e4a-678a707a461a",
   "metadata": {
    "execution": {
     "iopub.execute_input": "2023-08-26T00:15:36.286274Z",
     "iopub.status.busy": "2023-08-26T00:15:36.286050Z",
     "iopub.status.idle": "2023-08-26T00:15:36.671541Z",
     "shell.execute_reply": "2023-08-26T00:15:36.670660Z",
     "shell.execute_reply.started": "2023-08-26T00:15:36.286251Z"
    }
   },
   "outputs": [
    {
     "name": "stdout",
     "output_type": "stream",
     "text": [
      "J-band distribution of FP:\n"
     ]
    },
    {
     "data": {
      "image/png": "[encoded data removed]",
      "text/plain": [
       "<Figure size 432x288 with 1 Axes>"
      ]
     },
     "metadata": {
      "needs_background": "light"
     },
     "output_type": "display_data"
    }
   ],
   "source": [
    "print('J-band distribution of FP:')\n",
    "plt.hist(fp[fp['J_WFI_mag']<26.2]['J_WFI_mag'], bins=20)\n",
    "plt.yscale('log')\n",
    "plt.xlabel('J band')\n",
    "plt.ylabel('log(number)')\n",
    "plt.show()"
   ]
  },
  {
   "cell_type": "code",
   "execution_count": 111,
   "id": "85620c37-791d-4f3d-94c2-72fa37553684",
   "metadata": {
    "execution": {
     "iopub.execute_input": "2023-08-26T00:15:36.672960Z",
     "iopub.status.busy": "2023-08-26T00:15:36.672521Z",
     "iopub.status.idle": "2023-08-26T00:15:36.985090Z",
     "shell.execute_reply": "2023-08-26T00:15:36.984157Z",
     "shell.execute_reply.started": "2023-08-26T00:15:36.672935Z"
    }
   },
   "outputs": [
    {
     "data": {
      "image/png": "[encoded data removed]",
      "text/plain": [
       "<Figure size 432x288 with 1 Axes>"
      ]
     },
     "metadata": {
      "needs_background": "light"
     },
     "output_type": "display_data"
    },
    {
     "name": "stdout",
     "output_type": "stream",
     "text": [
      "mean, J <= 25.5: 0.9177\n"
     ]
    }
   ],
   "source": [
    "x = np.linspace(23.0, 25.5, 50)\n",
    "y = [precision(tp, fp, fn, val) for val in x]\n",
    "plt.plot(x, y)\n",
    "plt.xlabel('J band')\n",
    "plt.ylabel('precision')\n",
    "plt.show()\n",
    "\n",
    "print('mean, J <= 25.5:', round(np.mean(y), 4))"
   ]
  },
  {
   "cell_type": "code",
   "execution_count": 136,
   "id": "67a31a6e-1800-4264-b8b9-51da331477a7",
   "metadata": {
    "execution": {
     "iopub.execute_input": "2023-08-26T00:47:40.721810Z",
     "iopub.status.busy": "2023-08-26T00:47:40.721153Z",
     "iopub.status.idle": "2023-08-26T00:47:41.446475Z",
     "shell.execute_reply": "2023-08-26T00:47:41.445371Z",
     "shell.execute_reply.started": "2023-08-26T00:47:40.721750Z"
    }
   },
   "outputs": [
    {
     "data": {
      "image/png": "[encoded data removed]",
      "text/plain": [
       "<Figure size 432x288 with 1 Axes>"
      ]
     },
     "metadata": {
      "needs_background": "light"
     },
     "output_type": "display_data"
    }
   ],
   "source": [
    "plt.hist(mlt_test['J_WFI_mag'], bins=20, fill=False, edgecolor='red', label='bd')\n",
    "plt.hist(gal_test['J_WFI_mag'], fill=False, edgecolor='green', label='gal')\n",
    "\n",
    "plt.xlabel('J band')\n",
    "plt.ylabel('log(number)')\n",
    "plt.yscale('log')\n",
    "plt.legend()\n",
    "plt.show()"
   ]
  },
  {
   "cell_type": "code",
   "execution_count": null,
   "id": "9fc32a22-4264-4539-b925-8b966de6737f",
   "metadata": {},
   "outputs": [],
   "source": []
  }
 ],
 "metadata": {
  "kernelspec": {
   "display_name": "Python 3",
   "language": "python",
   "name": "python3"
  },
  "language_info": {
   "codemirror_mode": {
    "name": "ipython",
    "version": 3
   },
   "file_extension": ".py",
   "mimetype": "text/x-python",
   "name": "python",
   "nbconvert_exporter": "python",
   "pygments_lexer": "ipython3",
   "version": "3.8.8"
  }
 },
 "nbformat": 4,
 "nbformat_minor": 5
}
